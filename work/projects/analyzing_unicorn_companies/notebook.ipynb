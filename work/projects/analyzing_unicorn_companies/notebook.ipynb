{
 "cells": [
  {
   "cell_type": "markdown",
   "id": "33dda299-ad0e-4262-b285-7d1297a3ba66",
   "metadata": {},
   "source": [
    "![Hand with calculator](../../imgs/calculator.jpg)\n",
    "\n",
    "Did you know that the average return from investing in stocks is [10% per year](https://www.nerdwallet.com/article/investing/average-stock-market-return) (not accounting for inflation)? But who wants to be average?! \n",
    "\n",
    "You have been asked to support an investment firm by analyzing trends in high-growth companies. They are interested in understanding which industries are producing the highest valuations and the rate at which new high-value companies are emerging. Providing them with this information gives them a competitive insight as to industry trends and how they should structure their portfolio looking forward.\n",
    "\n",
    "You have been given access to their `unicorns` database, which contains the following tables:\n",
    "\n",
    "## dates\n",
    "| Column       | Description                                  |\n",
    "|------------- |--------------------------------------------- |\n",
    "| `company_id`   | A unique ID for the company.                 |\n",
    "| `date_joined` | The date that the company became a unicorn.  |\n",
    "| `year_founded` | The year that the company was founded.       |\n",
    "\n",
    "## funding\n",
    "| Column           | Description                                  |\n",
    "|----------------- |--------------------------------------------- |\n",
    "| `company_id`       | A unique ID for the company.                 |\n",
    "| `valuation`        | Company value in US dollars.                 |\n",
    "| `funding`          | The amount of funding raised in US dollars.  |\n",
    "| `select_investors` | A list of key investors in the company.      |\n",
    "\n",
    "## industries\n",
    "| Column       | Description                                  |\n",
    "|------------- |--------------------------------------------- |\n",
    "| `company_id`   | A unique ID for the company.                 |\n",
    "| `industry`     | The industry that the company operates in.   |\n",
    "\n",
    "## companies\n",
    "| Column       | Description                                       |\n",
    "|------------- |-------------------------------------------------- |\n",
    "| `company_id`   | A unique ID for the company.                      |\n",
    "| `company`      | The name of the company.                          |\n",
    "| `city`         | The city where the company is headquartered.      |\n",
    "| `country`      | The country where the company is headquartered.   |\n",
    "| `continent`    | The continent where the company is headquartered. |\n"
   ]
  },
  {
   "cell_type": "markdown",
   "id": "48a34f18-9207-4a1d-9c91-0b1a4aec770d",
   "metadata": {},
   "source": [
    "# The output\n",
    "\n",
    "Your query should return a table in the following format:\n",
    "| industry  | year | num\\_unicorns       | average\\_valuation\\_billions |\n",
    "| --------- | ---- | ------------------- | ---------------------------- |\n",
    "| industry1 | 2021 |        ---          |             ---              |\n",
    "| industry2 | 2020 |        ---          |             ---              |\n",
    "| industry3 | 2019 |        ---          |             ---              |\n",
    "| industry1 | 2021 |        ---          |             ---              |\n",
    "| industry2 | 2020 |        ---          |             ---              |\n",
    "| industry3 | 2019 |        ---          |             ---              |\n",
    "| industry1 | 2021 |        ---          |             ---              |\n",
    "| industry2 | 2020 |        ---          |             ---              |\n",
    "| industry3 | 2019 |        ---          |             ---              |\n",
    "\n",
    "Where `industry1`, `industry2`, and `industry3` are the three top-performing industries."
   ]
  },
  {
   "cell_type": "code",
   "execution_count": 24,
   "id": "8d7d8de9-5da9-4b35-bc60-9f0502eb56d6",
   "metadata": {
    "customType": "sql",
    "dataFrameVariableName": "df",
    "executionCancelledAt": null,
    "executionTime": 997,
    "lastExecutedAt": 1727229568175,
    "lastExecutedByKernel": "1a79a471-3e8e-4b76-9e0c-91bb679ecb32",
    "lastScheduledRunId": null,
    "lastSuccessfullyExecutedCode": "WITH top_industries AS\n(\n    SELECT i.industry, \n        COUNT(i.*)\n    FROM industries AS i\n    INNER JOIN dates AS d\n        ON i.company_id = d.company_id\n    WHERE EXTRACT(year FROM d.date_joined) in ('2019', '2020', '2021')\n    GROUP BY industry\n    ORDER BY count DESC\n    LIMIT 3\n)\n\nSELECT\t\t\tindustry, year, num_unicorns, average_valuation_billions\nFROM\t\t\t(\n\tSELECT\t\t\t--i.company_id, i.industry,\n\t\t\t\t\ti.industry,\n\t\t\t\t\trow_number() over (partition by extract(YEAR FROM d.date_joined) \n\t\t\t\t\t\t\t\t\t   order by COUNT(i.company_id) desc) as row_num,\n\t\t\t\t\textract(YEAR FROM d.date_joined) as year,\t\t\t\t\n\t\t\t\t\t--f.valuation, f.funding, f.select_Investors,\n\t\t\t\t\tCOUNT(i.company_id) as num_unicorns,\n\t\t\t\t\tROUND(AVG(f.valuation)/1000000000, 2) as average_valuation_billions\n\t\t\t\t\t--d.date_joined, d.year_founded\n\tFROM\t\t\tindustries as i\t\tinner join\t\tfunding as f\t\ton i.company_id = f.company_id\n\t\t\t\t\t\t\t\t\t\tinner join\t\tdates as d\t\t\ton i.company_id = d.company_id\n\tWHERE\t\t\textract(YEAR FROM d.date_joined) in (2019, 2020, 2021) and\n\t\t\t\t\ti.industry in (select industry from top_industries)\n\tGROUP BY\t\ti.industry, extract(YEAR FROM d.date_joined)\n\t) as tmp\nWHERE\t\t\trow_num < 4\nORDER BY\t\tyear desc, num_unicorns desc",
    "outputsMetadata": {
     "0": {
      "height": 334,
      "type": "dataFrame"
     }
    },
    "sqlCellMode": "dataFrame",
    "sqlSource": {
     "integrationId": "89e17161-a224-4a8a-846b-0adc0fe7a4b1",
     "type": "integration"
    }
   },
   "outputs": [
    {
     "@datacamp/metadata": {
      "executedQuery": "WITH top_industries AS\n(\n    SELECT i.industry, \n        COUNT(i.*)\n    FROM industries AS i\n    INNER JOIN dates AS d\n        ON i.company_id = d.company_id\n    WHERE EXTRACT(year FROM d.date_joined) in ('2019', '2020', '2021')\n    GROUP BY industry\n    ORDER BY count DESC\n    LIMIT 3\n)\n\nSELECT\t\t\tindustry, year, num_unicorns, average_valuation_billions\nFROM\t\t\t(\n\tSELECT\t\t\t--i.company_id, i.industry,\n\t\t\t\t\ti.industry,\n\t\t\t\t\trow_number() over (partition by extract(YEAR FROM d.date_joined) \n\t\t\t\t\t\t\t\t\t   order by COUNT(i.company_id) desc) as row_num,\n\t\t\t\t\textract(YEAR FROM d.date_joined) as year,\t\t\t\t\n\t\t\t\t\t--f.valuation, f.funding, f.select_Investors,\n\t\t\t\t\tCOUNT(i.company_id) as num_unicorns,\n\t\t\t\t\tROUND(AVG(f.valuation)/1000000000, 2) as average_valuation_billions\n\t\t\t\t\t--d.date_joined, d.year_founded\n\tFROM\t\t\tindustries as i\t\tinner join\t\tfunding as f\t\ton i.company_id = f.company_id\n\t\t\t\t\t\t\t\t\t\tinner join\t\tdates as d\t\t\ton i.company_id = d.company_id\n\tWHERE\t\t\textract(YEAR FROM d.date_joined) in (2019, 2020, 2021) and\n\t\t\t\t\ti.industry in (select industry from top_industries)\n\tGROUP BY\t\ti.industry, extract(YEAR FROM d.date_joined)\n\t) as tmp\nWHERE\t\t\trow_num < 4\nORDER BY\t\tyear desc, num_unicorns desc",
      "executedQueryParameters": []
     },
     "data": {
      "application/com.datacamp.data-table.v2+json": {
       "table": {
        "data": {
         "average_valuation_billions": [
          2.75,
          2.15,
          2.47,
          4.35,
          4,
          4.33,
          6.8,
          4.23,
          2.58
         ],
         "index": [
          0,
          1,
          2,
          3,
          4,
          5,
          6,
          7,
          8
         ],
         "industry": [
          "Fintech",
          "Internet software & services",
          "E-commerce & direct-to-consumer",
          "Internet software & services",
          "E-commerce & direct-to-consumer",
          "Fintech",
          "Fintech",
          "Internet software & services",
          "E-commerce & direct-to-consumer"
         ],
         "num_unicorns": [
          138,
          119,
          47,
          20,
          16,
          15,
          20,
          13,
          12
         ],
         "year": [
          2021,
          2021,
          2021,
          2020,
          2020,
          2020,
          2019,
          2019,
          2019
         ]
        },
        "schema": {
         "fields": [
          {
           "name": "index",
           "type": "integer"
          },
          {
           "name": "industry",
           "type": "string"
          },
          {
           "name": "year",
           "type": "integer"
          },
          {
           "name": "num_unicorns",
           "type": "integer"
          },
          {
           "name": "average_valuation_billions",
           "type": "number"
          }
         ],
         "pandas_version": "1.4.0",
         "primaryKey": [
          "index"
         ]
        }
       },
       "total_rows": 9,
       "truncation_type": null
      },
      "text/html": [
       "<div>\n",
       "<style scoped>\n",
       "    .dataframe tbody tr th:only-of-type {\n",
       "        vertical-align: middle;\n",
       "    }\n",
       "\n",
       "    .dataframe tbody tr th {\n",
       "        vertical-align: top;\n",
       "    }\n",
       "\n",
       "    .dataframe thead th {\n",
       "        text-align: right;\n",
       "    }\n",
       "</style>\n",
       "<table border=\"1\" class=\"dataframe\">\n",
       "  <thead>\n",
       "    <tr style=\"text-align: right;\">\n",
       "      <th></th>\n",
       "      <th>industry</th>\n",
       "      <th>year</th>\n",
       "      <th>num_unicorns</th>\n",
       "      <th>average_valuation_billions</th>\n",
       "    </tr>\n",
       "  </thead>\n",
       "  <tbody>\n",
       "    <tr>\n",
       "      <th>0</th>\n",
       "      <td>Fintech</td>\n",
       "      <td>2021</td>\n",
       "      <td>138</td>\n",
       "      <td>2.75</td>\n",
       "    </tr>\n",
       "    <tr>\n",
       "      <th>1</th>\n",
       "      <td>Internet software &amp; services</td>\n",
       "      <td>2021</td>\n",
       "      <td>119</td>\n",
       "      <td>2.15</td>\n",
       "    </tr>\n",
       "    <tr>\n",
       "      <th>2</th>\n",
       "      <td>E-commerce &amp; direct-to-consumer</td>\n",
       "      <td>2021</td>\n",
       "      <td>47</td>\n",
       "      <td>2.47</td>\n",
       "    </tr>\n",
       "    <tr>\n",
       "      <th>3</th>\n",
       "      <td>Internet software &amp; services</td>\n",
       "      <td>2020</td>\n",
       "      <td>20</td>\n",
       "      <td>4.35</td>\n",
       "    </tr>\n",
       "    <tr>\n",
       "      <th>4</th>\n",
       "      <td>E-commerce &amp; direct-to-consumer</td>\n",
       "      <td>2020</td>\n",
       "      <td>16</td>\n",
       "      <td>4.00</td>\n",
       "    </tr>\n",
       "    <tr>\n",
       "      <th>5</th>\n",
       "      <td>Fintech</td>\n",
       "      <td>2020</td>\n",
       "      <td>15</td>\n",
       "      <td>4.33</td>\n",
       "    </tr>\n",
       "    <tr>\n",
       "      <th>6</th>\n",
       "      <td>Fintech</td>\n",
       "      <td>2019</td>\n",
       "      <td>20</td>\n",
       "      <td>6.80</td>\n",
       "    </tr>\n",
       "    <tr>\n",
       "      <th>7</th>\n",
       "      <td>Internet software &amp; services</td>\n",
       "      <td>2019</td>\n",
       "      <td>13</td>\n",
       "      <td>4.23</td>\n",
       "    </tr>\n",
       "    <tr>\n",
       "      <th>8</th>\n",
       "      <td>E-commerce &amp; direct-to-consumer</td>\n",
       "      <td>2019</td>\n",
       "      <td>12</td>\n",
       "      <td>2.58</td>\n",
       "    </tr>\n",
       "  </tbody>\n",
       "</table>\n",
       "</div>"
      ],
      "text/plain": [
       "                          industry  ...  average_valuation_billions\n",
       "0                          Fintech  ...                        2.75\n",
       "1     Internet software & services  ...                        2.15\n",
       "2  E-commerce & direct-to-consumer  ...                        2.47\n",
       "3     Internet software & services  ...                        4.35\n",
       "4  E-commerce & direct-to-consumer  ...                        4.00\n",
       "5                          Fintech  ...                        4.33\n",
       "6                          Fintech  ...                        6.80\n",
       "7     Internet software & services  ...                        4.23\n",
       "8  E-commerce & direct-to-consumer  ...                        2.58\n",
       "\n",
       "[9 rows x 4 columns]"
      ]
     },
     "execution_count": 24,
     "metadata": {},
     "output_type": "execute_result"
    }
   ],
   "source": [
    "WITH top_industries AS\n",
    "(\n",
    "    SELECT i.industry, \n",
    "        COUNT(i.*)\n",
    "    FROM industries AS i\n",
    "    INNER JOIN dates AS d\n",
    "        ON i.company_id = d.company_id\n",
    "    WHERE EXTRACT(year FROM d.date_joined) in ('2019', '2020', '2021')\n",
    "    GROUP BY industry\n",
    "    ORDER BY count DESC\n",
    "    LIMIT 3\n",
    ")\n",
    "\n",
    "SELECT\t\t\tindustry, year, num_unicorns, average_valuation_billions\n",
    "FROM\t\t\t(\n",
    "\tSELECT\t\t\t--i.company_id, i.industry,\n",
    "\t\t\t\t\ti.industry,\n",
    "\t\t\t\t\trow_number() over (partition by extract(YEAR FROM d.date_joined) \n",
    "\t\t\t\t\t\t\t\t\t   order by COUNT(i.company_id) desc) as row_num,\n",
    "\t\t\t\t\textract(YEAR FROM d.date_joined) as year,\t\t\t\t\n",
    "\t\t\t\t\t--f.valuation, f.funding, f.select_Investors,\n",
    "\t\t\t\t\tCOUNT(i.company_id) as num_unicorns,\n",
    "\t\t\t\t\tROUND(AVG(f.valuation)/1000000000, 2) as average_valuation_billions\n",
    "\t\t\t\t\t--d.date_joined, d.year_founded\n",
    "\tFROM\t\t\tindustries as i\t\tinner join\t\tfunding as f\t\ton i.company_id = f.company_id\n",
    "\t\t\t\t\t\t\t\t\t\tinner join\t\tdates as d\t\t\ton i.company_id = d.company_id\n",
    "\tWHERE\t\t\textract(YEAR FROM d.date_joined) in (2019, 2020, 2021) and\n",
    "\t\t\t\t\ti.industry in (select industry from top_industries)\n",
    "\tGROUP BY\t\ti.industry, extract(YEAR FROM d.date_joined)\n",
    "\t) as tmp\n",
    "WHERE\t\t\trow_num < 4\n",
    "ORDER BY\t\tyear desc, num_unicorns desc"
   ]
  }
 ],
 "metadata": {
  "colab": {
   "name": "Welcome to DataCamp Workspaces.ipynb",
   "provenance": []
  },
  "kernelspec": {
   "display_name": "Python 3 (ipykernel)",
   "language": "python",
   "name": "python3"
  },
  "language_info": {
   "codemirror_mode": {
    "name": "ipython",
    "version": 3
   },
   "file_extension": ".py",
   "mimetype": "text/x-python",
   "name": "python",
   "nbconvert_exporter": "python",
   "pygments_lexer": "ipython3",
   "version": "3.11.6"
  }
 },
 "nbformat": 4,
 "nbformat_minor": 5
}
