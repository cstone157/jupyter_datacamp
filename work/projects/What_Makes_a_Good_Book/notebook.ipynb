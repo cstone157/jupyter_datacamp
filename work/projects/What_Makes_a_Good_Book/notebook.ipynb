{
 "cells": [
  {
   "cell_type": "markdown",
   "id": "fc61438f-c939-4adb-9feb-f32b41be70e8",
   "metadata": {},
   "source": [
    "![bookstore](../../imgs/bookstore.jpg)\n"
   ]
  },
  {
   "cell_type": "markdown",
   "id": "405dc77e-dfb4-44c5-a686-33ed3e845da1",
   "metadata": {},
   "source": [
    "Identifying popular products is incredibly important for e-commerce companies! Popular products generate more revenue and, therefore, play a key role in stock control.\n",
    "\n",
    "You've been asked to support an online bookstore by building a model to predict whether a book will be popular or not. They've supplied you with an extensive dataset containing information about all books they've sold, including:\n",
    "\n",
    "* `price`\n",
    "* `popularity` (target variable)\n",
    "* `review/summary`\n",
    "* `review/text`\n",
    "* `review/helpfulness`\n",
    "* `authors`\n",
    "* `categories`\n",
    "\n",
    "You'll need to build a model that predicts whether a book will be rated as popular or not.\n",
    "\n",
    "They have high expectations of you, so have set a target of at least 70% accuracy! You are free to use as many features as you like, and will need to engineer new features to achieve this level of performance."
   ]
  },
  {
   "cell_type": "code",
   "execution_count": 8,
   "id": "a8010c2d-a710-4900-931d-96cc39499b25",
   "metadata": {
    "executionCancelledAt": null,
    "executionTime": 246,
    "lastExecutedAt": 1723868080039,
    "lastExecutedByKernel": "65d574d6-9ca6-4d16-953a-9476f5cdd1f0",
    "lastScheduledRunId": null,
    "lastSuccessfullyExecutedCode": "# Import some required packages\nimport pandas as pd\n\n# Read in the dataset\nbooks = pd.read_csv(\"data/books.csv\")\n\n# Preview the first five rows\nbooks.head()",
    "outputsMetadata": {
     "0": {
      "height": 196,
      "type": "dataFrame"
     }
    }
   },
   "outputs": [
    {
     "data": {
      "application/com.datacamp.data-table.v2+json": {
       "table": {
        "data": {
         "authors": [
          "'Elizabeth Norman'",
          "'Yong-gi Cho'",
          "'Muata Ashby'",
          "'Lynden Harris'",
          "'Harvey Seymour Gross', 'Robert McDowell'"
         ],
         "categories": [
          "'History'",
          "'Religion'",
          "'Body, Mind & Spirit'",
          "'Social Science'",
          "'Poetry'"
         ],
         "description": [
          "In the fall of 1941, the Philippines was a gardenia-scented paradise for the American Army and Navy nurses stationed there. War was a distant rumor, life a routine of easy shifts and dinners under the stars. On December 8 all that changed, as Japanese bombs began raining down on American bases in Luzon, and this paradise became a fiery hell. Caught in the raging battle, the nurses set up field hospitals in the jungles of Bataan and the tunnels of Corregidor, where they tended to the most devastating injuries of war, and suffered the terrors of shells and shrapnel. But the worst was yet to come. After Bataan and Corregidor fell, the nurses were herded into internment camps where they would endure three years of fear, brutality, and starvation. Once liberated, they returned to an America that at first celebrated them, but later refused to honor their leaders with the medals they clearly deserved. Here, in letters, diaries, and riveting firsthand accounts, is the story of what really happened during those dark days, woven together in a deeply affecting saga of women in war. Praise for We Band of Angels “Gripping . . . a war story in which the main characters never kill one of the enemy, or even shoot at him, but are nevertheless heroes . . . Americans today should thank God we had such women.”—Stephen E. Ambrose “Remarkable and uplifting.”—USA Today “[Elizabeth M. Norman] brings a quiet, scholarly voice to this narrative. . . . In just a little over six months these women had turned from plucky young girls on a mild adventure to authentic heroes. . . . Every page of this history is fascinating.”—Carolyn See, The Washington Post “Riveting . . . poignant and powerful.”—The Dallas Morning News Winner of the Lavinia Dock Award for historical scholarship, the American Academy of Nursing National Media Award, and the Agnes Dillon Randolph Award",
          "In Prayer That Brings Revival, best-selling author David Yonggi Cho shares key principles to having the kind of prayer life that will move your mountains and stir revival in home, church, and community. This book will: -Show you how prayer produces power. -Teach you the key to prayer and fasting. -Prepare you to wait on the Lord. -Help you to pray longer, with more persistence. -Instruct you on how to listen to God's voice.",
          "THE MYSTICAL JOURNEY FROM JESUS TO CHRIST Discover the ancient Egyptian origins of Christianity before the Catholic Church and learn the mystical teachings given by Jesus to assist all humanity in becoming Christlike. Discover the secret meaning of the Gospels that were discovered in Egypt. Also discover how and why so many Christian churches came into being. Discover that the Bible still holds the keys to mystical realization even though its original writings were changed by the church. Discover how to practice the original teachings of Christianity which leads to the Kingdom of Heaven.",
          "Upon receiving his execution date, one of the thousands of men living on death row in the United States had an epiphany: “All there ever is, is this moment. You, me, all of us, right here, right now, this minute, that's love.” Right Here, Right Now collects the powerful, first-person stories of dozens of men on death rows across the country. From childhood experiences living with poverty, hunger, and violence to mental illness and police misconduct to coming to terms with their executions, these men outline their struggle to maintain their connection to society and sustain the humanity that incarceration and its daily insults attempt to extinguish. By offering their hopes, dreams, aspirations, fears, failures, and wounds, the men challenge us to reconsider whether our current justice system offers actual justice or simply perpetuates the social injustices that obscure our shared humanity.",
          "An updated and expanded version of a classic and essential text on prosody."
         ],
         "index": [
          0,
          1,
          2,
          3,
          4
         ],
         "popularity": [
          "Unpopular",
          "Unpopular",
          "Unpopular",
          "Unpopular",
          "Unpopular"
         ],
         "price": [
          10.88,
          9.35,
          24.95,
          7.99,
          32.5
         ],
         "review/helpfulness": [
          "2/3",
          "0/0",
          "17/19",
          "0/1",
          "18/20"
         ],
         "review/summary": [
          "A Great Book about women in WWII",
          "Very helpful book for church prayer groups and if you are by yourself.",
          "Universal Spiritual Awakening Guide With Some Too Radical Approaches",
          "Ben Kincaid tries to stop an execution.",
          "good introduction to modern prosody"
         ],
         "review/text": [
          "I have alway been a fan of fiction books set in WW2,even though I am not sure why. I recently decided to see if that interst went over to non-fiction so I bought &quot;We Band of Angels&quot; and I was so glad that I did. This was a great book about nurses that served during this time. I don't think that any of them ever thought that they would ever see combat, but when it came they were truly amazing people during one of histories darkest hour. A must read.",
          "Very helpful book to give you a better prayer life. It brings clarity and understanding of how to have an effective prayer life.",
          "The message of this book is to find yourself as that what you are: The Self, without any separations. Everything is the Supreme Being. Realize your divinity, and everybody and everything else's! It is the task of the spiritual seeker to go beyond the veil of outer forms of religion, including symbols, doctrines, rituals and traditions. No matter what branch of religion, when you have mastered its myths and rituals, you are taken further, into the mysticism, which is always of the above knowledge. This book includes Buddhism, Christianity, Hinduism, Islam, Judaism, Taoism, Yoga and some other branches, which are all derived from the Ancient Egyptian religion.Comparisons are not only made via the similarities of myths, e.g. the quasi identical child stories of Heru, Krishna, Jesus, etc., but the universal wisdom behind such metaphorical stories. The official religion leaders may have persecuted those wisdom seekers who appear in the form of Christian Gnostics or Muslim Sufis etc. It has been a power struggle of the respective Orthodox officials versus the Yoga branches.The book is helping in the elimination of dualism, egoism, anger, greed addiction, nationalism, religious hate, sexism and any other separation. (Though further help via knowledge may be necessary and some separations have been left out.) With that, the cycle of birth and death gets broken, as well as the concept of hell.All of this is done from many perspectives. Which by itself becomes repetitive. The books repeats in addition to that.Usually indirectly, the author assumes at several points that the ancient Jews including Moses and Abraham would have been white, leading to some wrong conclusions from that, e.g. the origin of racism supposedly deriving from the Jewish concept of not marrying outside themselves. In reality, most of them became lighter-skinned, BECAUSE of so much procreating with \"outsiders\". Read for exampleThe Africans Who Wrote the Bible. Moses would be metaphorical. ReadMoses and Akhenaten: The Secret History of Egypt at the Time of the Exodusfor a much different perspective. Occasionally I found it difficult to differentiate of what the author was writing about: Egypt, Ethiopia/Axum or Sudan/Nubia, for the interchangeable use of vocabulary.Occasionally the book takes its ways too far, something prone to happen in religion and human minds in general. It is correct in saying that celibacy allows spiritual energy to build up in such abundance, that great works may be written for humanity. But please: No absolutism! There isn't the metaphor of going into the desert for 40 days for nothing: After that, please return! If you don't, several things are bound to happen: Ever more radicalism. In medievil European times, youths were burnt at the stake for wet dreams in some places, in others the VICTIMS of rape as sick. After roughly two centuries the absolutely celibate Christian \"Shakers\" of the USA are virtually extinct (adoption and proselytizing coulnd't stop that trend). A divided society of two spiritual classes under the Vatican. The celibacy wisdom from eastern Asia is based on lacking ancient knowledge. It was presumed that during orgasm of mostly males, a liquid of lifeforce would be lost to the body. For one thing: The body isn't meant to be eternal. That liquid makes sure, it will get renewed via a new body. For another: If that liquid doesn't leave the body, it will turn \"dead\" after four days. If it doesn't get expelled automatically during sleep, it will get reabsorbed by the body like a black and blue mark. Eastern knowledge also says orgasm is one of the short experiences of a divine state. Use sexuality in a conscious, different than plain addiction way, maybe with some breaks once in a while. There's no need for further nurturing the meme pool of medievil sex-hostility.As a RastafarI I was enjoyed to read a spiritual book which largely corresponds to my overstanding of spirituality. In utter irony, in its two pages devoted to \"Rastafarianism\" [sic!], the author basically avers this branch of religion wouldn't \"understand\" a thing. Which is the only religion, he is saying that about in its entirety. I couldn't believe the words I was reading. If any other author would have written something absurd like this... but for this one such a sloppy non-overstanding is simply embarassing. I mean, even the minister-author of the blatantly ANTI-gnosticDread Jesusprovides involuntary knowledge about RastafarI to the contrary. Obviously, Muata Abhaya Ashby escaped the 1983 bookRastafari: For the Healing of the Nations. I am amazed he didn't even wonder about the \"I-and-I\" concept (instead of \"we\"), to come up with some conclusion of compatibility with his vision. But then again, I-n-I live in anti-Rasta Imes. Accordingly, this sub-chapter insults RastafarI as a belief, \"fomenting unrest and divisiveness between peoples\" and with Jah as having died. Additionally, the author wastes precious space with supposedly strict food laws, including ones against milk and coffee. ??? Some digestive tracts may not react this well to milk and personally I am not too fond of the taste of coffee, though I'd like to hear another Rasta reprimanding me for drinking an originally Ethiopian beverage, should I ever chose to do so! I have no idea, where the author collected his very superficial and monolithic ideas, so here's a message: In the terms as used by the author, guess what: There are Orthodox and Yoga branches within RastafarI as well.This book also leaves out, what the author would term Science Yoga. For that readFrom Science to God: A Physicist's Journey into the Mystery of Consciousness.Other readers may find it inconvenient to read about the severing of family ties. My advice: Do not fall for ever more radical, literal interpretations, otherwise this basic wisdom will get pushed from the pedestal entirely sooner or later by yourself or a following generation. Also the illusion of the current concept of civilisation and democracy are valid ideas, including that the separation of state and religion has opened the doors to corruption, exploitation and similar unethical behaviour by political and economical leaders. However, that isn't much different with various religious leaders including countries with no such separation. The solution has yet to be worked out instead of a somehow suggested either-or approach.The publication itself isn't for perfectionists. Included is an ad for a guide to self-publishing. This edition of \"1998-2006\" sure provides some hints of what to take better care of. The resolution of images is largely a catastrophe. References to the cover pictures are obviously from another edition. The captions within the book are occasionally switched. There are even captions without any images and a caption erasing the main text. Footnotes may have been provided within the text already, a chapter features a non-existing Roman numeral, etc. and the title of the book has been changed. Originally, it was preceded with \"Christian Yoga Volume 1:\" There's much ado about a 2nd Volume, yet I wasn't able to find any trace of it.Keep in mind, that the supersize of this book (28 x 21cm) basically doubles the small print content of its 256 regular text pages to that of normal-sized books.",
          "The hero of William Bernhardt's Ben Kincaid novels is a socially inept but legally astute Oklahoma criminal defense attorney. Traditionally, a Ben Kincaid novel features a great deal of cutesy banter and coy behavior on the part of Ben and his wacky office staff. There is still some of that in &quot;Death Row,&quot; but this book proves to be much more harrowing and serious than the usual Bernhardt fare.The first chapter of &quot;Death Row&quot; is frightening and disturbing. The reader is immediately plunged into an apparent home invasion in which a family is brutally tortured and murdered, with one survivor desperately trying to break free before she too is killed. We then fast forward seven years later to the trial of Ray Goldman, who is convicted and sentenced to die for the killing of the aforementioned family. Ben Kincaid is handling Goldman's case. With the help of his good friend and law partner, Christina McCall, Ben desperately tries to postpone the execution so that he can find evidence that will exonerate his client.There is an entertaining subplot featuring Major Mike Morelli, Ben's former brother-in-law. Morelli is a homicide detective who is forced to pair up with a new partner, a woman who is as irritating as she is beautiful. Morelli and his partner get embroiled in Ben's case when several women connected with the investigation are found dead, both apparent suicides. Did these women really kill themselves or were they murdered?The plot thickens as Ben, Mike and their colleagues dig deeper and deeper to get at the truth of what really happened seven years ago. &quot;Death Row&quot; is an absorbing and hard-hitting thriller with many surprising twists and turns. The book is fast-paced and the humor is appropriately restrained considering the subject matter of the novel. I do have one or two quibbles, however. There are several coincidences in the book that make little sense. In addition, as in his previous books, Bernhardt persists in having Ben and Christina relate emotionally to one another like lovesick teenagers. It would be nice to see these two behave like mature adults. Still &quot;Death Row&quot; is one of the best Ben Kincaid novels that Bernhardt has written in years and I recommend it.",
          "There's a lot in this book which the reader will see repeated in other books on prosody -- an introductory chapter dealing with the relations between form and rhythm on one hand and content and meaning on the other; an analysis of the changes between Romantic versification and the modern period, beginning with the work of Dickinson, Hopkins, Hardy, and Whitman; the importance of the Imagists; the opening shots by Pound and Eliot in the Modernist revolution; and a few other topics.Most of the book is handled very well. It's refreshing to see an analysis of Browning's pentameter style which emphasizes not his &quot;colloquial&quot; approach, as so many others do, but instead lauds the extent to which he moves AWAY from the colloquial style and more toward roughness and jaggedness. The Modern period is handled with finesse as well. The drawbacks to the book, in my opinion, begin with the period closer to the present. Some of the analyses on free verse do not make as much sense as similar analyses in Paul Fussell's &quot;Poetic Meter and Poetic Form,&quot; despite the more recent volume's indebtedness to the former. As D. H. Lawrence said, it is no use manufacturing fancy laws for the governing of free verse. Too much weight is given to some poets who are clearly minor, such as Maxine Kumin, and too little to poets whose craftsmanship is unquestioned, such as Robert Lowell. Most oddly, there is no attention given to two of the finer formal craftsmen of recent history, James Merrill and Derek Walcott; these two use free verse but also expand the boundaries of traditional metrical approaches, and their efforts here should not go unnoticed. And I might take issue with the expanded coverage given to the most recent trend in prosody, the New Formalists, simply because, as I noted in my review of &quot;Rebel Angels&quot; for Amazon, they aren't that good and they haven't ADVANCED metrical techniques that much.Aside from these qualms, &quot;Sound and Form&quot; is a good survey of prosody of the ! last century."
         ],
         "title": [
          "We Band of Angels: The Untold Story of American Nurses Trapped on Bataan by the Japanese",
          "Prayer That Brings Revival: Interceding for God to move in your family, church, and community",
          "The Mystical Journey from Jesus to Christ",
          "Death Row",
          "Sound and Form in Modern Poetry: Second Edition (Ann Arbor Paperbacks)"
         ]
        },
        "schema": {
         "fields": [
          {
           "name": "index",
           "type": "integer"
          },
          {
           "name": "title",
           "type": "string"
          },
          {
           "name": "price",
           "type": "number"
          },
          {
           "name": "review/helpfulness",
           "type": "string"
          },
          {
           "name": "review/summary",
           "type": "string"
          },
          {
           "name": "review/text",
           "type": "string"
          },
          {
           "name": "description",
           "type": "string"
          },
          {
           "name": "authors",
           "type": "string"
          },
          {
           "name": "categories",
           "type": "string"
          },
          {
           "name": "popularity",
           "type": "string"
          }
         ],
         "pandas_version": "1.4.0",
         "primaryKey": [
          "index"
         ]
        }
       },
       "total_rows": 5,
       "truncation_type": null
      },
      "text/html": [
       "<div>\n",
       "<style scoped>\n",
       "    .dataframe tbody tr th:only-of-type {\n",
       "        vertical-align: middle;\n",
       "    }\n",
       "\n",
       "    .dataframe tbody tr th {\n",
       "        vertical-align: top;\n",
       "    }\n",
       "\n",
       "    .dataframe thead th {\n",
       "        text-align: right;\n",
       "    }\n",
       "</style>\n",
       "<table border=\"1\" class=\"dataframe\">\n",
       "  <thead>\n",
       "    <tr style=\"text-align: right;\">\n",
       "      <th></th>\n",
       "      <th>title</th>\n",
       "      <th>price</th>\n",
       "      <th>review/helpfulness</th>\n",
       "      <th>review/summary</th>\n",
       "      <th>review/text</th>\n",
       "      <th>description</th>\n",
       "      <th>authors</th>\n",
       "      <th>categories</th>\n",
       "      <th>popularity</th>\n",
       "    </tr>\n",
       "  </thead>\n",
       "  <tbody>\n",
       "    <tr>\n",
       "      <th>0</th>\n",
       "      <td>We Band of Angels: The Untold Story of America...</td>\n",
       "      <td>10.88</td>\n",
       "      <td>2/3</td>\n",
       "      <td>A Great Book about women in WWII</td>\n",
       "      <td>I have alway been a fan of fiction books set i...</td>\n",
       "      <td>In the fall of 1941, the Philippines was a gar...</td>\n",
       "      <td>'Elizabeth Norman'</td>\n",
       "      <td>'History'</td>\n",
       "      <td>Unpopular</td>\n",
       "    </tr>\n",
       "    <tr>\n",
       "      <th>1</th>\n",
       "      <td>Prayer That Brings Revival: Interceding for Go...</td>\n",
       "      <td>9.35</td>\n",
       "      <td>0/0</td>\n",
       "      <td>Very helpful book for church prayer groups and...</td>\n",
       "      <td>Very helpful book to give you a better prayer ...</td>\n",
       "      <td>In Prayer That Brings Revival, best-selling au...</td>\n",
       "      <td>'Yong-gi Cho'</td>\n",
       "      <td>'Religion'</td>\n",
       "      <td>Unpopular</td>\n",
       "    </tr>\n",
       "    <tr>\n",
       "      <th>2</th>\n",
       "      <td>The Mystical Journey from Jesus to Christ</td>\n",
       "      <td>24.95</td>\n",
       "      <td>17/19</td>\n",
       "      <td>Universal Spiritual Awakening Guide With Some ...</td>\n",
       "      <td>The message of this book is to find yourself a...</td>\n",
       "      <td>THE MYSTICAL JOURNEY FROM JESUS TO CHRIST Disc...</td>\n",
       "      <td>'Muata Ashby'</td>\n",
       "      <td>'Body, Mind &amp; Spirit'</td>\n",
       "      <td>Unpopular</td>\n",
       "    </tr>\n",
       "    <tr>\n",
       "      <th>3</th>\n",
       "      <td>Death Row</td>\n",
       "      <td>7.99</td>\n",
       "      <td>0/1</td>\n",
       "      <td>Ben Kincaid tries to stop an execution.</td>\n",
       "      <td>The hero of William Bernhardt's Ben Kincaid no...</td>\n",
       "      <td>Upon receiving his execution date, one of the ...</td>\n",
       "      <td>'Lynden Harris'</td>\n",
       "      <td>'Social Science'</td>\n",
       "      <td>Unpopular</td>\n",
       "    </tr>\n",
       "    <tr>\n",
       "      <th>4</th>\n",
       "      <td>Sound and Form in Modern Poetry: Second Editio...</td>\n",
       "      <td>32.50</td>\n",
       "      <td>18/20</td>\n",
       "      <td>good introduction to modern prosody</td>\n",
       "      <td>There's a lot in this book which the reader wi...</td>\n",
       "      <td>An updated and expanded version of a classic a...</td>\n",
       "      <td>'Harvey Seymour Gross', 'Robert McDowell'</td>\n",
       "      <td>'Poetry'</td>\n",
       "      <td>Unpopular</td>\n",
       "    </tr>\n",
       "  </tbody>\n",
       "</table>\n",
       "</div>"
      ],
      "text/plain": [
       "                                               title  ...  popularity\n",
       "0  We Band of Angels: The Untold Story of America...  ...   Unpopular\n",
       "1  Prayer That Brings Revival: Interceding for Go...  ...   Unpopular\n",
       "2          The Mystical Journey from Jesus to Christ  ...   Unpopular\n",
       "3                                          Death Row  ...   Unpopular\n",
       "4  Sound and Form in Modern Poetry: Second Editio...  ...   Unpopular\n",
       "\n",
       "[5 rows x 9 columns]"
      ]
     },
     "execution_count": 8,
     "metadata": {},
     "output_type": "execute_result"
    }
   ],
   "source": [
    "# Import some required packages\n",
    "import pandas as pd\n",
    "\n",
    "# Read in the dataset\n",
    "books = pd.read_csv(\"../../data/books.csv\")\n",
    "\n",
    "# Preview the first five rows\n",
    "books.head()"
   ]
  },
  {
   "cell_type": "code",
   "execution_count": 9,
   "id": "b4530476-adaf-4285-a5c8-ae174816977c",
   "metadata": {
    "executionCancelledAt": null,
    "executionTime": 68,
    "lastExecutedAt": 1723868080107,
    "lastExecutedByKernel": "65d574d6-9ca6-4d16-953a-9476f5cdd1f0",
    "lastScheduledRunId": null,
    "lastSuccessfullyExecutedCode": "books.info()",
    "outputsMetadata": {
     "0": {
      "height": 353,
      "type": "stream"
     }
    }
   },
   "outputs": [
    {
     "name": "stdout",
     "output_type": "stream",
     "text": [
      "<class 'pandas.core.frame.DataFrame'>\n",
      "RangeIndex: 15719 entries, 0 to 15718\n",
      "Data columns (total 9 columns):\n",
      " #   Column              Non-Null Count  Dtype  \n",
      "---  ------              --------------  -----  \n",
      " 0   title               15719 non-null  object \n",
      " 1   price               15719 non-null  float64\n",
      " 2   review/helpfulness  15719 non-null  object \n",
      " 3   review/summary      15719 non-null  object \n",
      " 4   review/text         15719 non-null  object \n",
      " 5   description         15719 non-null  object \n",
      " 6   authors             15719 non-null  object \n",
      " 7   categories          15719 non-null  object \n",
      " 8   popularity          15719 non-null  object \n",
      "dtypes: float64(1), object(8)\n",
      "memory usage: 1.1+ MB\n"
     ]
    }
   ],
   "source": [
    "books.info()"
   ]
  },
  {
   "cell_type": "code",
   "execution_count": 10,
   "id": "93a03b67-61fd-4b1d-b41d-e77025cbc430",
   "metadata": {
    "executionCancelledAt": null,
    "executionTime": 193,
    "lastExecutedAt": 1723868080300,
    "lastExecutedByKernel": "65d574d6-9ca6-4d16-953a-9476f5cdd1f0",
    "lastScheduledRunId": null,
    "lastSuccessfullyExecutedCode": "import matplotlib.pyplot as plt\nimport seaborn as sns\n\nsns.countplot(data=books, x=\"popularity\")\nplt.show()"
   },
   "outputs": [
    {
     "data": {
      "image/png": "[encoded data removed]",
      "text/plain": [
       "<Figure size 640x480 with 1 Axes>"
      ]
     },
     "metadata": {
      "image/png": {
       "height": 433,
       "width": 584
      }
     },
     "output_type": "display_data"
    }
   ],
   "source": [
    "import matplotlib.pyplot as plt\n",
    "import seaborn as sns\n",
    "\n",
    "sns.countplot(data=books, x=\"popularity\")\n",
    "plt.show()"
   ]
  },
  {
   "cell_type": "code",
   "execution_count": 11,
   "id": "01c3bea1-4dd1-411d-882b-0a7e8bcddb3d",
   "metadata": {
    "executionCancelledAt": null,
    "executionTime": 51,
    "lastExecutedAt": 1723868080351,
    "lastExecutedByKernel": "65d574d6-9ca6-4d16-953a-9476f5cdd1f0",
    "lastScheduledRunId": null,
    "lastSuccessfullyExecutedCode": "print(books[\"categories\"].value_counts())",
    "outputsMetadata": {
     "0": {
      "height": 269,
      "type": "stream"
     }
    }
   },
   "outputs": [
    {
     "name": "stdout",
     "output_type": "stream",
     "text": [
      "'Fiction'                      3520\n",
      "'Religion'                     1053\n",
      "'Biography & Autobiography'     852\n",
      "'Juvenile Fiction'              815\n",
      "'History'                       754\n",
      "                               ... \n",
      "'Sunflowers'                      1\n",
      "'Self-confidence'                 1\n",
      "'United States'                   1\n",
      "'Note-taking'                     1\n",
      "'Asthma'                          1\n",
      "Name: categories, Length: 313, dtype: int64\n"
     ]
    }
   ],
   "source": [
    "print(books[\"categories\"].value_counts())"
   ]
  },
  {
   "cell_type": "code",
   "execution_count": 12,
   "id": "cfb3c4a6-233b-45de-a248-e756ad4a83d9",
   "metadata": {
    "executionCancelledAt": null,
    "executionTime": 106,
    "lastExecutedAt": 1723868080458,
    "lastExecutedByKernel": "65d574d6-9ca6-4d16-953a-9476f5cdd1f0",
    "lastScheduledRunId": null,
    "lastSuccessfullyExecutedCode": "import numpy as np\n\n## Remove the categories with less than 100 entries\nbooks = books.groupby(\"categories\").filter(lambda x: len(x) > 100)\n## One-hot encode the categories\ncategories = pd.get_dummies(books[\"categories\"], drop_first=True)\nbooks = pd.concat([books, categories], axis=1)\nbooks.drop(columns=[\"categories\"], inplace=True)\n\n# Get number of total reviews and the number of helpful reviews\nbooks[\"num_reviews\"] = books[\"review/helpfulness\"].str.split(\"/\", expand=True)[1]\nbooks[\"num_helpful\"] = books[\"review/helpfulness\"].str.split(\"/\", expand=True)[0]\nfor col in [\"num_reviews\", \"num_helpful\"]:\n    books[col] = books[col].astype(int)\n    \nbooks[\"perc_helpful_reviews\"] = books[\"num_helpful\"] / books[\"num_reviews\"]\nbooks[\"perc_helpful_reviews\"].fillna(0, inplace=True)\nbooks.drop(columns=[\"review/helpfulness\"], inplace=True)\n\n# Convert strings to lowercase\nfor col in [\"review/summary\", \"review/text\", \"description\"]:\n    books[col] = books[col].str.lower()\n# Create a list of positive words to measure positive text sentiment\npositive_words = [\"great\", \"excellent\", \"good\", \"interesting\", \"enjoy\", \"helpful\", \"useful\", \"like\", \"love\", \"beautiful\", \"fantastic\", \"perfect\", \"wonderful\", \"impressive\", \"amazing\", \"outstanding\", \"remarkable\", \"brilliant\", \"exceptional\", \"positive\",\n    \"thrilling\"]"
   },
   "outputs": [],
   "source": [
    "import numpy as np\n",
    "\n",
    "## Remove the categories with less than 100 entries\n",
    "books = books.groupby(\"categories\").filter(lambda x: len(x) > 100)\n",
    "## One-hot encode the categories\n",
    "categories = pd.get_dummies(books[\"categories\"], drop_first=True)\n",
    "books = pd.concat([books, categories], axis=1)\n",
    "books.drop(columns=[\"categories\"], inplace=True)\n",
    "\n",
    "# Get number of total reviews and the number of helpful reviews\n",
    "books[\"num_reviews\"] = books[\"review/helpfulness\"].str.split(\"/\", expand=True)[1]\n",
    "books[\"num_helpful\"] = books[\"review/helpfulness\"].str.split(\"/\", expand=True)[0]\n",
    "for col in [\"num_reviews\", \"num_helpful\"]:\n",
    "    books[col] = books[col].astype(int)\n",
    "    \n",
    "books[\"perc_helpful_reviews\"] = books[\"num_helpful\"] / books[\"num_reviews\"]\n",
    "books[\"perc_helpful_reviews\"].fillna(0, inplace=True)\n",
    "books.drop(columns=[\"review/helpfulness\"], inplace=True)\n",
    "\n",
    "# Convert strings to lowercase\n",
    "for col in [\"review/summary\", \"review/text\", \"description\"]:\n",
    "    books[col] = books[col].str.lower()\n",
    "# Create a list of positive words to measure positive text sentiment\n",
    "positive_words = [\"great\", \"excellent\", \"good\", \"interesting\", \"enjoy\", \"helpful\", \"useful\", \"like\", \"love\", \"beautiful\", \"fantastic\", \"perfect\", \"wonderful\", \"impressive\", \"amazing\", \"outstanding\", \"remarkable\", \"brilliant\", \"exceptional\", \"positive\",\n",
    "    \"thrilling\"]"
   ]
  },
  {
   "cell_type": "code",
   "execution_count": 13,
   "id": "a0564b97-b3b8-44b1-905b-ee2b05572435",
   "metadata": {
    "executionCancelledAt": null,
    "executionTime": 3593,
    "lastExecutedAt": 1723868084052,
    "lastExecutedByKernel": "65d574d6-9ca6-4d16-953a-9476f5cdd1f0",
    "lastScheduledRunId": null,
    "lastSuccessfullyExecutedCode": "from sklearn.feature_extraction.text import CountVectorizer\nfrom sklearn.ensemble import RandomForestClassifier\nfrom sklearn.model_selection import train_test_split\n\n# Instantiate a CountVectorizer\nvectorizer = CountVectorizer(vocabulary=positive_words)\n\n# Fit and transform review/text \nreview_text = books[\"review/text\"]\ntext_transformed = vectorizer.fit_transform(review_text.fillna(''))\n\n# Fit and transform review/summary\nreview_summary = books[\"review/summary\"]\nsummary_transformed = vectorizer.fit_transform(review_summary.fillna(''))\n\n# Fit and transform description\ndescription = books[\"description\"]\ndescription_transformed = vectorizer.fit_transform(description.fillna(''))\n\n# Add positive counts into DataFrame to add measures of positive sentiment\nbooks[\"positive_words_text\"] = text_transformed.sum(axis=1).reshape(-1, 1)\nbooks[\"positive_words_summary\"] = summary_transformed.sum(axis=1).reshape(-1, 1)\nbooks[\"positive_words_description\"] = description_transformed.sum(axis=1).reshape(-1, 1)\n\n# Remove original columns\nbooks.drop(columns=[\"review/text\", \"review/summary\", \"description\"], inplace=True)\n\n# Splitting into features and target values\nX = books.drop(columns=[\"title\", \"authors\", \"popularity\"]).values\ny = books[\"popularity\"].values.reshape(-1, 1)\n\n# Splitting into training and test data\nX_train, X_test, y_train, y_test = train_test_split(X, y, test_size=0.3, random_state=42)\n\n# Instantiate and fit a Random Forest Classifier\nclf = RandomForestClassifier(n_estimators=120, max_depth=50, min_samples_split=5, random_state=42, class_weight=\"balanced\")\nclf.fit(X_train, y_train.ravel()) \n\n# Evaluate accuracy\nprint(clf.score(X_train, y_train))\nprint(clf.score(X_test, y_test))\n\nmodel_accuracy = clf.score(X_test, y_test)",
    "outputsMetadata": {
     "0": {
      "height": 59,
      "type": "stream"
     }
    }
   },
   "outputs": [
    {
     "name": "stdout",
     "output_type": "stream",
     "text": [
      "0.9617126389460683\n",
      "0.7090036014405763\n"
     ]
    }
   ],
   "source": [
    "from sklearn.feature_extraction.text import CountVectorizer\n",
    "from sklearn.ensemble import RandomForestClassifier\n",
    "from sklearn.model_selection import train_test_split\n",
    "\n",
    "# Instantiate a CountVectorizer\n",
    "vectorizer = CountVectorizer(vocabulary=positive_words)\n",
    "\n",
    "# Fit and transform review/text \n",
    "review_text = books[\"review/text\"]\n",
    "text_transformed = vectorizer.fit_transform(review_text.fillna(''))\n",
    "\n",
    "# Fit and transform review/summary\n",
    "review_summary = books[\"review/summary\"]\n",
    "summary_transformed = vectorizer.fit_transform(review_summary.fillna(''))\n",
    "\n",
    "# Fit and transform description\n",
    "description = books[\"description\"]\n",
    "description_transformed = vectorizer.fit_transform(description.fillna(''))\n",
    "\n",
    "# Add positive counts into DataFrame to add measures of positive sentiment\n",
    "books[\"positive_words_text\"] = text_transformed.sum(axis=1).reshape(-1, 1)\n",
    "books[\"positive_words_summary\"] = summary_transformed.sum(axis=1).reshape(-1, 1)\n",
    "books[\"positive_words_description\"] = description_transformed.sum(axis=1).reshape(-1, 1)\n",
    "\n",
    "# Remove original columns\n",
    "books.drop(columns=[\"review/text\", \"review/summary\", \"description\"], inplace=True)\n",
    "\n",
    "# Splitting into features and target values\n",
    "X = books.drop(columns=[\"title\", \"authors\", \"popularity\"]).values\n",
    "y = books[\"popularity\"].values.reshape(-1, 1)\n",
    "\n",
    "# Splitting into training and test data\n",
    "X_train, X_test, y_train, y_test = train_test_split(X, y, test_size=0.3, random_state=42)\n",
    "\n",
    "# Instantiate and fit a Random Forest Classifier\n",
    "clf = RandomForestClassifier(n_estimators=120, max_depth=50, min_samples_split=5, random_state=42, class_weight=\"balanced\")\n",
    "clf.fit(X_train, y_train.ravel()) \n",
    "\n",
    "# Evaluate accuracy\n",
    "print(clf.score(X_train, y_train))\n",
    "print(clf.score(X_test, y_test))\n",
    "\n",
    "model_accuracy = clf.score(X_test, y_test)"
   ]
  }
 ],
 "metadata": {
  "colab": {
   "name": "Welcome to DataCamp Workspaces.ipynb",
   "provenance": []
  },
  "editor": "DataLab",
  "kernelspec": {
   "display_name": "Python 3 (ipykernel)",
   "language": "python",
   "name": "python3"
  },
  "language_info": {
   "codemirror_mode": {
    "name": "ipython",
    "version": 3
   },
   "file_extension": ".py",
   "mimetype": "text/x-python",
   "name": "python",
   "nbconvert_exporter": "python",
   "pygments_lexer": "ipython3",
   "version": "3.11.6"
  }
 },
 "nbformat": 4,
 "nbformat_minor": 5
}
