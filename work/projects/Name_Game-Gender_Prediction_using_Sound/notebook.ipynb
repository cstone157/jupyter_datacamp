{
 "cells": [
  {
   "cell_type": "markdown",
   "metadata": {
    "dc": {
     "key": "3"
    },
    "deletable": false,
    "editable": false,
    "run_control": {
     "frozen": true
    },
    "tags": [
     "context"
    ]
   },
   "source": [
    "## 1. Sound it out!\n",
    "<p>Grey and Gray. Colour and Color. Words like these have been the cause of many heated arguments between Brits and Americans. Accents (and jokes) aside, there are many words that are pronounced the same way but have different spellings. While it is easy for us to realize their equivalence, basic programming commands will fail to equate such two strings. </p>\n",
    "<p>More extreme than word spellings are names because people have more flexibility in choosing to spell a name in a certain way. To some extent, tradition sometimes governs the way a name is spelled, which limits the number of variations of any given English name. But if we consider global names and their associated English spellings, you can only imagine how many ways they can be spelled out. </p>\n",
    "<p>One way to tackle this challenge is to write a program that checks if two strings sound the same, instead of checking for equivalence in spellings. We'll do that here using fuzzy name matching.</p>"
   ]
  },
  {
   "cell_type": "code",
   "execution_count": 31,
   "metadata": {
    "dc": {
     "key": "3"
    },
    "tags": [
     "sample_code"
    ]
   },
   "outputs": [
    {
     "name": "stdout",
     "output_type": "stream",
     "text": [
      "TASTASTY\n",
      "CATARAN\n"
     ]
    }
   ],
   "source": [
    "# Importing the fuzzy package\n",
    "# ... YOUR CODE FOR TASK 1 ...\n",
    "import fuzzy\n",
    "\n",
    "# Exploring the output of fuzzy.nysiis\n",
    "# ... YOUR CODE FOR TASK 1 ...\n",
    "print(fuzzy.nysiis(\"TEST TESTIE\"))\n",
    "\n",
    "# Testing equivalence of similar sounding words\n",
    "# ... YOUR CODE FOR TASK 1 ...\n",
    "print(fuzzy.nysiis(\"Katherine\"))"
   ]
  },
  {
   "cell_type": "markdown",
   "metadata": {
    "dc": {
     "key": "10"
    },
    "deletable": false,
    "editable": false,
    "run_control": {
     "frozen": true
    },
    "tags": [
     "context"
    ]
   },
   "source": [
    "## 2. Authoring the authors\n",
    "<p>The New York Times puts out a weekly list of best-selling books from different genres, and which has been published since the 1930’s.  We’ll focus on Children’s Picture Books, and analyze the gender distribution of authors to see if there have been changes over time. We'll begin by reading in the data on the best selling authors from 2008 to 2017.</p>"
   ]
  },
  {
   "cell_type": "code",
   "execution_count": 33,
   "metadata": {
    "dc": {
     "key": "10"
    },
    "tags": [
     "sample_code"
    ]
   },
   "outputs": [
    {
     "name": "stdout",
     "output_type": "stream",
     "text": [
      "   Year                        Book Title                 Author  \\\n",
      "0  2017                DRAGONS LOVE TACOS             Adam Rubin   \n",
      "1  2017  THE WONDERFUL THINGS YOU WILL BE  Emily Winfield Martin   \n",
      "2  2017          THE DAY THE CRAYONS QUIT           Drew Daywalt   \n",
      "3  2017            ROSIE REVERE, ENGINEER           Andrea Beaty   \n",
      "4  2017              ADA TWIST, SCIENTIST           Andrea Beaty   \n",
      "\n",
      "   Besteller this year first_name  \n",
      "0                   49       Adam  \n",
      "1                   48      Emily  \n",
      "2                   44       Drew  \n",
      "3                   38     Andrea  \n",
      "4                   28     Andrea  \n"
     ]
    }
   ],
   "source": [
    "# Importing the pandas module\n",
    "# ...YOUR CODE FOR TASK 2...\n",
    "import pandas as pd\n",
    "\n",
    "# Reading in datasets/nytkids_yearly.csv, which is semicolon delimited.\n",
    "# ...YOUR CODE FOR TASK 2...\n",
    "author_df = pd.read_csv(\"../../data/nytkids_yearly.csv\", delimiter=\";\")\n",
    "\n",
    "# Looping through author_df['Author'] to extract the authors first names\n",
    "first_name = []\n",
    "for name in author_df['Author']:\n",
    "    first_name.append(name.split(' ')[0])\n",
    "\n",
    "# Adding first_name as a column to author_df\n",
    "# ...YOUR CODE FOR TASK 2...\n",
    "author_df[\"first_name\"] = first_name\n",
    "\n",
    "# Checking out the first few rows of author_df\n",
    "# ...YOUR CODE FOR TASK 2...\n",
    "print(author_df.head())"
   ]
  },
  {
   "cell_type": "markdown",
   "metadata": {
    "dc": {
     "key": "17"
    },
    "deletable": false,
    "editable": false,
    "run_control": {
     "frozen": true
    },
    "tags": [
     "context"
    ]
   },
   "source": [
    "## 3. It's time to bring on the phonics... _again_!\n",
    "<p>When we were young children, we were taught to read using phonics; sounding out the letters that compose words. So let's relive history and do that again, but using python this time. We will now create a new column or list that contains the phonetic equivalent of every first name that we just extracted. </p>\n",
    "<p>To make sure we're on the right track, let's compare the number of unique values in the <code>first_name</code> column and the number of unique values in the nysiis coded column. As a rule of thumb, the number of unique nysiis first names should be less than or equal to the number of actual first names.</p>"
   ]
  },
  {
   "cell_type": "code",
   "execution_count": 35,
   "metadata": {
    "dc": {
     "key": "17"
    },
    "tags": [
     "sample_code"
    ]
   },
   "outputs": [
    {
     "name": "stdout",
     "output_type": "stream",
     "text": [
      "['Adam' 'Emily' 'Drew' 'Andrea' 'Chelsea' 'Benjamin' 'Kobi' 'R.' 'Amy'\n",
      " 'Sherri' 'Mo' 'Aaron' 'Savannah' 'Jimmy' 'Shel' 'Anna' 'Eric' 'James'\n",
      " 'Herve' 'Ainsley' 'Dan' 'Debbie' 'Bill' 'Clement' 'Jean' 'Hillary'\n",
      " 'Danica' 'Oliver' 'Brendan' 'Julian' 'Susan' 'Holly' 'Carson' 'Brad'\n",
      " 'Ree' 'Malala' 'Ryan' 'Ian' 'Javaka' 'Jan' 'Mac' 'Lindsay' 'Matt' 'Kevin'\n",
      " 'Kimberly' 'Theodor' 'Laura' 'Jon' 'Pope' 'David' 'Sherman' 'Kelly'\n",
      " 'John' 'Jamie' 'Beryl' 'Elise' 'Julia' 'Berkeley' 'Carl' 'Beatrix'\n",
      " 'Victoria' 'Ed' 'Lora' 'Pharrell' 'Beth' 'Deborah' 'Katherine' 'Brandon'\n",
      " 'Tedd' 'Ame' 'Nancy' 'Brian' 'Ylvis' 'Loren' 'Jacky' 'Jane' 'Todd'\n",
      " 'Keith' 'Peter' 'Tad' 'Cokie' 'Margaret' 'Kabir' 'Joan' 'Judy' 'Lemony'\n",
      " 'Caroline' 'Sandra' 'Doreen' 'Maurice' 'Sophia' 'Julie' 'Lori' 'Neil'\n",
      " 'Lucy' 'Ahmet' 'Eliza' 'Mary' 'Patricia' 'Cathy' 'William' 'Emma'\n",
      " 'Patrick' 'Chris' 'Kristi' 'Marc' 'Lane' 'Kareem' 'Philip' 'Mark' 'Karma'\n",
      " 'Jenny' 'Rufus' 'Herman' 'Jennifer' 'Callista' 'Rob' 'Toni' 'Simon'\n",
      " 'Barack' 'Matthew' 'Al' 'Nick' 'Laban' 'Maya' 'Charlie' 'Joyce' 'Michael'\n",
      " 'Jeff' 'Tomie' 'illustrated' 'Tony' 'Jerry' 'Greg' 'Liz' 'Jo' 'Antoine'\n",
      " 'Queen' 'Glenn' 'Louise' 'Barbara' 'Olivier' 'Norton' 'Carmen' 'Mike'\n",
      " 'Peyton' 'Gary' 'Steve' 'Kathie' 'Nikki' 'Mem' 'Vicki' 'Barb' 'Marion'\n",
      " 'Julianne' 'Cynthia' 'Elle' 'Jonah' 'Ferdinand' 'Bonny' 'Christopher'\n",
      " 'Buzz' 'Robert' 'Laurie' 'Sarah' 'Graeme' 'Sean' 'Lynne' 'Kate' 'Walter']\n",
      "['ADAN' 'ENALY' 'DR' 'ANDR' 'CALS' 'BANJANAN' 'CAB' 'R' 'ANY' 'SAR' 'M'\n",
      " 'ARAN' 'SAVAN' 'JANY' 'SAL' 'AN' 'ERAC' 'JAN' 'HARV' 'ANSLY' 'DAN' 'DABY'\n",
      " 'BAL' 'CLANAD' 'HALARY' 'DANAC' 'OLAVAR' 'BRANDAN' 'JALAN' 'SASAN' 'HALY'\n",
      " 'CARSAN' 'BRAD' 'RY' 'MALAL' 'RAN' 'IAN' 'JAVAC' 'MC' 'LANDSY' 'MAT'\n",
      " 'CAFAN' 'CANBARLY' 'TADAR' 'LAR' 'PAP' 'DAVAD' 'SARNAN' 'CALY' 'BARAL'\n",
      " 'ELAS' 'JAL' 'BARCALY' 'CARL' 'BATRAC' 'VACTAR' 'ED' 'FARAL' 'BATH'\n",
      " 'DABAR' 'CATARAN' 'TAD' 'NANCY' 'BRAN' 'YLV' 'LARAN' 'JACY' 'CATH'\n",
      " 'PATAR' 'CACY' 'MARGARAT' 'CABAR' 'JADY' 'LANANY' 'CARALAN' 'SANDR'\n",
      " 'DARAN' 'MARAC' 'SAF' 'JALY' 'NAL' 'LACY' 'AHNAT' 'MARY' 'PATRAC' 'CATHY'\n",
      " 'WALAN' 'EN' 'CHR' 'CRAST' 'MARC' 'LAN' 'CARAN' 'FALAP' 'CARN' 'RAF'\n",
      " 'HARNAN' 'JANAFAR' 'CALAST' 'RAB' 'TAN' 'SANAN' 'BARAC' 'MATAW' 'AL'\n",
      " 'NAC' 'LABAN' 'MY' 'CARLY' 'JYC' 'MACAL' 'JAF' 'TANY' 'ILASTRATAD' 'JARY'\n",
      " 'GRAG' 'L' 'J' 'ANTAN' 'QAN' 'GLAN' 'LAS' 'BARBAR' 'NARTAN' 'CARNAN'\n",
      " 'MAC' 'PYTAN' 'GARY' 'STAF' 'MAN' 'VAC' 'BARB' 'MARAN' 'CANT' 'EL'\n",
      " 'FARDANAD' 'BANY' 'CHRASTAFAR' 'B' 'RABAD' 'LARY' 'GRAN' 'SAN' 'CAT'\n",
      " 'WALTAR']\n"
     ]
    }
   ],
   "source": [
    "# Importing numpy\n",
    "# ...YOUR CODE FOR TASK 3...\n",
    "import numpy as np\n",
    "\n",
    "# Looping through author's first names to create the nysiis (fuzzy) equivalent\n",
    "nysiis_name = []\n",
    "# ...YOUR CODE FOR TASK 3...\n",
    "for name in first_name:\n",
    "    nysiis_name.append(fuzzy.nysiis(name))\n",
    "\n",
    "# Adding nysiis_name as a column to author_df\n",
    "# ...YOUR CODE FOR TASK 3...\n",
    "author_df[\"nysiis_name\"] = nysiis_name\n",
    "\n",
    "# Printing out the difference between unique firstnames and unique nysiis_names:\n",
    "# ...YOUR CODE FOR TASK 3...\n",
    "print(author_df[\"first_name\"].unique())\n",
    "print(author_df[\"nysiis_name\"].unique())\n"
   ]
  },
  {
   "cell_type": "markdown",
   "metadata": {
    "dc": {
     "key": "24"
    },
    "deletable": false,
    "editable": false,
    "run_control": {
     "frozen": true
    },
    "tags": [
     "context"
    ]
   },
   "source": [
    "## 4. The inbetweeners\n",
    "<p>We'll use <code>babynames_nysiis.csv</code>, a dataset that is derived from <a href=\"https://www.ssa.gov/oact/babynames/limits.html\">the Social Security Administration’s baby name data</a>, to identify author genders. The dataset contains unique NYSIIS versions of baby names, and also includes the percentage of times the name appeared as a female name (<code>perc_female</code>) and the percentage of times it appeared as a male name (<code>perc_male</code>). </p>\n",
    "<p>We'll use this data to create a list of <code>gender</code>. Let's make the following simplifying assumption: For each name, if <code>perc_female</code> is greater than <code>perc_male</code> then assume the name is female, if <code>perc_female</code> is less than <code>perc_male</code> then assume it is a male name, and if the percentages are equal then it's a \"neutral\" name.</p>"
   ]
  },
  {
   "cell_type": "code",
   "execution_count": 37,
   "metadata": {
    "dc": {
     "key": "24"
    },
    "tags": [
     "sample_code"
    ]
   },
   "outputs": [
    {
     "name": "stdout",
     "output_type": "stream",
     "text": [
      "  babynysiis  perc_female  perc_male gender\n",
      "0        NaN        62.50      37.50      F\n",
      "1        RAX        63.64      36.36      F\n",
      "2       ESAR        44.44      55.56      M\n",
      "3      DJANG         0.00     100.00      M\n",
      "4     PARCAL        25.00      75.00      M\n"
     ]
    }
   ],
   "source": [
    "# Reading in datasets/babynames_nysiis.csv, which is semicolon delimited.\n",
    "babies_df = pd.read_csv('../../data/babynames_nysiis.csv', delimiter=';')\n",
    "\n",
    "# Looping through babies_df to and filling up gender\n",
    "gender = []\n",
    "# ... YOUR CODE FOR TASK 4 ...\n",
    "for index, row in babies_df.iterrows():\n",
    "    if row['perc_female'] > row['perc_male']:\n",
    "        gender.append('F')\n",
    "    elif row['perc_female'] < row['perc_male']:\n",
    "        gender.append('M')\n",
    "    else:\n",
    "        gender.append('N')\n",
    "\n",
    "# Adding a gender column to babies_df\n",
    "# ... YOUR CODE FOR TASK 4 ...\n",
    "babies_df['gender'] = gender\n",
    "\n",
    "# Printing out the first few rows of babies_df\n",
    "# ... YOUR CODE FOR TASK 4 ...\n",
    "print(babies_df.head())"
   ]
  },
  {
   "cell_type": "markdown",
   "metadata": {
    "dc": {
     "key": "31"
    },
    "deletable": false,
    "editable": false,
    "run_control": {
     "frozen": true
    },
    "tags": [
     "context"
    ]
   },
   "source": [
    "## 5. Playing matchmaker\n",
    "<p>Now that we have identified the likely genders of different names, let's find author genders by searching for each author's name in the <code>babies_df</code> DataFrame, and extracting the associated gender. </p>"
   ]
  },
  {
   "cell_type": "code",
   "execution_count": 48,
   "metadata": {
    "dc": {
     "key": "31"
    },
    "tags": [
     "sample_code"
    ]
   },
   "outputs": [
    {
     "data": {
      "text/plain": [
       "F          395\n",
       "M          191\n",
       "Unknown      9\n",
       "N            8\n",
       "Name: author_gender, dtype: int64"
      ]
     },
     "execution_count": 48,
     "metadata": {},
     "output_type": "execute_result"
    }
   ],
   "source": [
    "# This function returns the location of an element in a_list.\n",
    "# Where an item does not exist, it returns -1.\n",
    "def locate_in_list(a_list, element):\n",
    "    loc_of_name = a_list.index(element) if element in a_list else -1\n",
    "    return(loc_of_name)\n",
    "\n",
    "# Looping through author_df['nysiis_name'] and appending the gender of each\n",
    "# author to author_gender.\n",
    "author_gender = []\n",
    "# ...YOUR CODE FOR TASK 5...\n",
    "for name in author_df['nysiis_name']:\n",
    "    location = locate_in_list(list(babies_df['babynysiis']), name)\n",
    "    if location == -1:\n",
    "        author_gender.append('Unknown')\n",
    "    else:\n",
    "        gender = babies_df['gender'].loc[location]\n",
    "        author_gender.append(gender)\n",
    "\n",
    "# Adding author_gender to the author_df\n",
    "author_df['author_gender'] = author_gender\n",
    "\n",
    "# Counting the author's genders\n",
    "author_df['author_gender'].value_counts()"
   ]
  },
  {
   "cell_type": "markdown",
   "metadata": {
    "dc": {
     "key": "38"
    },
    "deletable": false,
    "editable": false,
    "run_control": {
     "frozen": true
    },
    "tags": [
     "context"
    ]
   },
   "source": [
    "## 6. Tally up\n",
    "<p>From the results above see that there are more female authors on the New York Times best seller's list than male authors. Our dataset spans 2008 to 2017. Let's find out if there have been changes over time.</p>"
   ]
  },
  {
   "cell_type": "code",
   "execution_count": 49,
   "metadata": {
    "dc": {
     "key": "38"
    },
    "tags": [
     "sample_code"
    ]
   },
   "outputs": [
    {
     "name": "stdout",
     "output_type": "stream",
     "text": [
      "[8, 19, 27, 21, 21, 11, 21, 18, 25, 20]\n",
      "[15, 45, 48, 51, 46, 51, 34, 30, 32, 43]\n",
      "[1, 3, 0, 1, 0, 2, 1, 0, 0, 1]\n"
     ]
    }
   ],
   "source": [
    "# Creating a list of unique years, sorted in ascending order.\n",
    "years = author_df['Year'].sort_values().unique()\n",
    "\n",
    "# Initializing lists\n",
    "males_by_yr = []\n",
    "females_by_yr = []\n",
    "unknown_by_yr = []\n",
    "\n",
    "# Looping through years to find the number of male, female and unknown authors per year\n",
    "# ...YOUR CODE FOR TASK 6...\n",
    "for year in years:\n",
    "    def gender_count(gender):\n",
    "        return len(author_df[(author_df['author_gender'] == gender) & (author_df['Year'] == year)])\n",
    "        \n",
    "    females_by_yr.append(gender_count('F'))\n",
    "    males_by_yr.append(gender_count('M'))\n",
    "    unknown_by_yr.append(gender_count('Unknown'))\n",
    "\n",
    "# Printing out yearly values to examine changes over time\n",
    "print(males_by_yr)\n",
    "print(females_by_yr)\n",
    "print(unknown_by_yr)"
   ]
  },
  {
   "cell_type": "markdown",
   "metadata": {
    "dc": {
     "key": "45"
    },
    "deletable": false,
    "editable": false,
    "run_control": {
     "frozen": true
    },
    "tags": [
     "context"
    ]
   },
   "source": [
    "## 7. Foreign-born authors?\n",
    "<p>Our gender data comes from social security applications of individuals born in the US. Hence, one possible explanation for why there are \"unknown\" genders associated with some author names is because these authors were foreign-born. While making this assumption, we should note that these are only a subset of foreign-born authors as others will have names that have a match in <code>baby_df</code> (and in the social security dataset). </p>\n",
    "<p>Using a bar chart, let's explore the trend of foreign-born authors with no name matches in the social security dataset.</p>"
   ]
  },
  {
   "cell_type": "code",
   "execution_count": 50,
   "metadata": {
    "dc": {
     "key": "45"
    },
    "tags": [
     "sample_code"
    ]
   },
   "outputs": [
    {
     "data": {
      "image/png": "[encoded data removed]",
      "text/plain": [
       "<matplotlib.figure.Figure at 0x7f451ce64278>"
      ]
     },
     "metadata": {
      "needs_background": "light"
     },
     "output_type": "display_data"
    }
   ],
   "source": [
    "# Importing matplotlib\n",
    "import matplotlib.pyplot as plt\n",
    "\n",
    "# This makes plots appear in the notebook\n",
    "%matplotlib inline\n",
    "\n",
    "# Plotting the bar chart\n",
    "# ...YOUR CODE FOR TASK 7...\n",
    "plt.bar(years, unknown_by_yr)\n",
    "\n",
    "# [OPTIONAL] - Setting a title, and axes labels\n",
    "# ...YOUR CODE FOR TASK 7...\n",
    "plt.title('Authors with Unknown Gender Between 2008-2017')\n",
    "plt.xlabel('Year')\n",
    "plt.ylabel('Number of Authors')\n",
    "\n",
    "plt.show()"
   ]
  },
  {
   "cell_type": "markdown",
   "metadata": {
    "dc": {
     "key": "52"
    },
    "deletable": false,
    "editable": false,
    "run_control": {
     "frozen": true
    },
    "tags": [
     "context"
    ]
   },
   "source": [
    "## 8. Raising the bar\n",
    "<p>What’s more exciting than a bar chart is a grouped bar chart. This type of chart is good for displaying <em>changes</em> over time while also <em>comparing</em> two or more groups. Let’s use a grouped bar chart to look at the distribution of male and female authors over time.</p>"
   ]
  },
  {
   "cell_type": "code",
   "execution_count": 51,
   "metadata": {
    "dc": {
     "key": "52"
    },
    "tags": [
     "sample_code"
    ]
   },
   "outputs": [
    {
     "ename": "TypeError",
     "evalue": "unsupported operand type(s) for -: 'ellipsis' and 'float'",
     "output_type": "error",
     "traceback": [
      "---------------------------------------------------------------------------",
      "TypeError                                 Traceback (most recent call last)",
      "<ipython-input-51-a05653331f3d> in <module>\n      8 # Plotting females_by_yr by years_shifted\n      9 # ... YOUR CODE FOR TASK 8 ...\n---> 10 plt.bar(years_shifted, females_by_yr, width=0.25, color='pink', label=\"Female\")\n     11 \n     12 # [OPTIONAL] - Adding relevant Axes labels and Chart Title\n",
      "/usr/local/lib/python3.6/dist-packages/matplotlib/pyplot.py in bar(*args, **kwargs)\n   2646                       mplDeprecation)\n   2647     try:\n-> 2648         ret = ax.bar(*args, **kwargs)\n   2649     finally:\n   2650         ax._hold = washold\n",
      "/usr/local/lib/python3.6/dist-packages/matplotlib/__init__.py in inner(ax, *args, **kwargs)\n   1715                     warnings.warn(msg % (label_namer, func.__name__),\n   1716                                   RuntimeWarning, stacklevel=2)\n-> 1717             return func(ax, *args, **kwargs)\n   1718         pre_doc = inner.__doc__\n   1719         if pre_doc is None:\n",
      "/usr/local/lib/python3.6/dist-packages/matplotlib/axes/_axes.py in bar(self, *args, **kwargs)\n   2066         if align == 'center':\n   2067             if orientation == 'vertical':\n-> 2068                 left = x - width / 2\n   2069                 bottom = y\n   2070             elif orientation == 'horizontal':\n",
      "TypeError: unsupported operand type(s) for -: 'ellipsis' and 'float'"
     ]
    },
    {
     "data": {
      "image/png": "[encoded data removed]",
      "text/plain": [
       "<matplotlib.figure.Figure at 0x7f45587d2710>"
      ]
     },
     "metadata": {
      "needs_background": "light"
     },
     "output_type": "display_data"
    }
   ],
   "source": [
    "# Creating a new list, where 0.25 is added to each year\n",
    "years_shifted = ...\n",
    "\n",
    "# Plotting males_by_yr by year\n",
    "# ... YOUR CODE FOR TASK 8 ...\n",
    "plt.bar(years, males_by_yr, width=0.25, color='lightblue', label=\"Male\")\n",
    "\n",
    "# Plotting females_by_yr by years_shifted\n",
    "# ... YOUR CODE FOR TASK 8 ...\n",
    "plt.bar(years_shifted, females_by_yr, width=0.25, color='pink', label=\"Female\")\n",
    "\n",
    "# [OPTIONAL] - Adding relevant Axes labels and Chart Title\n",
    "# ... YOUR CODE FOR TASK 8 ...\n",
    "plt.title(\"Male vs Female Authors in New York\")\n",
    "plt.xlabel(\"Year\")\n",
    "plt.ylabel(\"Number of Authors\")\n",
    "plt.legend()\n",
    "plt.show()"
   ]
  }
 ],
 "metadata": {
  "kernelspec": {
   "display_name": "Python 3 (ipykernel)",
   "language": "python",
   "name": "python3"
  },
  "language_info": {
   "codemirror_mode": {
    "name": "ipython",
    "version": 3
   },
   "file_extension": ".py",
   "mimetype": "text/x-python",
   "name": "python",
   "nbconvert_exporter": "python",
   "pygments_lexer": "ipython3",
   "version": "3.11.6"
  }
 },
 "nbformat": 4,
 "nbformat_minor": 4
}
