{
 "cells": [
  {
   "cell_type": "markdown",
   "id": "a92c04cc-fad7-4214-9521-77a9aa198538",
   "metadata": {},
   "source": [
    "## Comparing estimated and realized performance\n",
    "\n",
    "Now that you have seen how performance calculation works, your task is to calculate the realized performance for our tip prediction model for the NYC green taxi dataset.\n",
    "\n",
    "The reference and analysis set is already loaded and saved in the reference and analysis variables.\n",
    "\n",
    "In addition, results from the DLE algorithm for tip prediction are stored in the estimated_results variable.\n",
    "\n",
    "### Instructions\n",
    "    - Specify problem type as regression in calculator initialization.\n",
    "    - Fit the calculator with reference data and calculate performance for the analysis set.\n",
    "    - Show comparison plot between realized_results and estimated_results using compare() method."
   ]
  },
  {
   "cell_type": "code",
   "execution_count": null,
   "id": "bfde964b-79d9-40e0-80f9-c595b526e565",
   "metadata": {},
   "outputs": [],
   "source": [
    "# Intialize the calculator\n",
    "calculator = nannyml.PerformanceCalculator(\n",
    "    y_true='tip_amount',\n",
    "    y_pred='y_pred',\n",
    "    chunk_period='d',\n",
    "  \tmetrics=['mae'],\n",
    "    timestamp_column_name='lpep_pickup_datetime',\n",
    "    problem_type='regression')\n",
    "\n",
    "# Fit the calculator\n",
    "calculator.fit(reference)\n",
    "realized_results = calculator.calculate(analysis)\n",
    "\n",
    "# Show comparison plot for realized and estimated performance\n",
    "realized_results.compare(estimated_results).plot().show()"
   ]
  },
  {
   "cell_type": "markdown",
   "id": "cae6fe38-a633-44b3-92e6-cb4dc822eaff",
   "metadata": {},
   "source": [
    "## Different chunking methods\n",
    "\n",
    "A chunk represents a single data point in the monitoring results. Recall that there are three methods for chunking your data: based on time, size, or the number of chunks.\n",
    "\n",
    "In this exercise, you will chunk and visualize the results of the CBPE algorithm for the US Census dataset using size-based and number-based chunking methods.\n",
    "\n",
    "The nannyml library is already imported.\n",
    "\n",
    "### Instructions 1/2\n",
    "    - Load reference, analysis, and analysis labels using load_us_census_ma_employment_data() method and set chunk size to 5000."
   ]
  },
  {
   "cell_type": "code",
   "execution_count": null,
   "id": "c457a182-e813-40e5-a6ca-1d1e2ef53a7c",
   "metadata": {},
   "outputs": [],
   "source": [
    "reference, analysis, analysis_gt = nannyml.load_us_census_ma_employment_data()\n",
    "\n",
    "# Initialize the CBPE algorithm\n",
    "cbpe = nannyml.CBPE(\n",
    "    y_pred_proba='predicted_probability',\n",
    "    y_pred='prediction',\n",
    "    y_true='employed',\n",
    "    metrics = ['roc_auc', 'accuracy'],\n",
    "    problem_type = 'classification_binary',\n",
    "    chunk_size = 5000,\n",
    ")\n",
    "\n",
    "cbpe = cbpe.fit(reference)\n",
    "estimated_results = cbpe.estimate(analysis)\n",
    "estimated_results.plot().show()"
   ]
  },
  {
   "cell_type": "markdown",
   "id": "424a5982-8d62-4bd6-a043-2ba6057d10c9",
   "metadata": {},
   "source": [
    "### Instructions 2/2\n",
    "    - Add f1 metric to the monitored metrics and set chunk number to 8."
   ]
  },
  {
   "cell_type": "code",
   "execution_count": null,
   "id": "26c97669-2242-4a28-b0c1-a214024fd501",
   "metadata": {},
   "outputs": [],
   "source": [
    "reference, analysis, analysis_gt = nannyml.load_us_census_ma_employment_data()\n",
    "\n",
    "# Initialize the CBPE algorithm\n",
    "cbpe = nannyml.CBPE(\n",
    "    y_pred_proba='predicted_probability',\n",
    "    y_pred='prediction',\n",
    "    y_true='employed',\n",
    "    metrics = ['roc_auc', 'accuracy', 'f1'],\n",
    "    problem_type = 'classification_binary',\n",
    "\tchunk_number = 8,\n",
    ")\n",
    "\n",
    "cbpe = cbpe.fit(reference)\n",
    "estimated_results = cbpe.estimate(analysis)\n",
    "estimated_results.plot().show()"
   ]
  },
  {
   "cell_type": "markdown",
   "id": "dc35ad73-5a22-46ad-a111-579e9a124302",
   "metadata": {},
   "source": [
    "## Modifying the thresholds\n",
    "\n",
    "In the video, you observed how NannyML calculates threshold values and learned how to customize them to suit your solution.\n",
    "\n",
    "In this exercise, your task is to define two custom standard deviation and custom thresholds and then apply them to the results obtained from the CBPE algorithm for the US Census dataset.\n",
    "\n",
    "The reference and analysis sets have been pre-loaded as reference and analysis, along with the nannyml library.\n",
    "\n",
    "### Instructions\n",
    "    - Import ConstantThreshold, and StandardDeviationThreshold from nannyml.thresholds.\n",
    "    - Initialize the standard deviation method and set std_lower_multiplier and std_upper_multiplier parameters to 2.\n",
    "    - Initialize the constant threshold method and set the lower parameter to 0.9 and upper to 0.98.\n",
    "    - Pass the constant threshold method for the f1 metric and the standard deviation method for accuracy to the CBPE algorithm."
   ]
  },
  {
   "cell_type": "code",
   "execution_count": null,
   "id": "0e2328c5-917e-4991-9ea9-dbb96d9770ad",
   "metadata": {},
   "outputs": [],
   "source": [
    "# Import custom thresholds\n",
    "from nannyml.thresholds import ConstantThreshold, StandardDeviationThreshold\n",
    "\n",
    "# Initialize custom thresholds\n",
    "stdt = StandardDeviationThreshold(std_lower_multiplier=2, std_upper_multiplier=2)\n",
    "ct = ConstantThreshold(lower=0.9, upper=0.98)\n",
    "\n",
    "# Initialize the CBPE algorithm\n",
    "estimator = nannyml.CBPE(\n",
    "    problem_type='classification_binary',\n",
    "    y_pred_proba='predicted_probability',\n",
    "    y_pred='prediction',\n",
    "    y_true='employed',\n",
    "    metrics=['roc_auc', 'accuracy', 'f1'],\n",
    "    thresholds={'f1': ct, 'accuracy': stdt})"
   ]
  }
 ],
 "metadata": {
  "kernelspec": {
   "display_name": "Python 3 (ipykernel)",
   "language": "python",
   "name": "python3"
  },
  "language_info": {
   "codemirror_mode": {
    "name": "ipython",
    "version": 3
   },
   "file_extension": ".py",
   "mimetype": "text/x-python",
   "name": "python",
   "nbconvert_exporter": "python",
   "pygments_lexer": "ipython3",
   "version": "3.11.6"
  }
 },
 "nbformat": 4,
 "nbformat_minor": 5
}
