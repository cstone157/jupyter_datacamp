{
 "cells": [
  {
   "cell_type": "markdown",
   "id": "d5be9ee8-3ba4-4a92-b570-34c81747a13c",
   "metadata": {},
   "source": [
    "## Drift in hotel booking dataset\n",
    "\n",
    "In the previous chapter, you calculated the business value and ROC AUC performance for a model that predicts booking cancellations. You noticed a few alerts in the resulting plots, which is why you need to investigate the presence of drift in the analysis data.\n",
    "\n",
    "In this exercise, you will initialize the multivariate drift detection method and compare its results with the performance results calculated in the previous chapter.\n",
    "\n",
    "StandardDeviationThreshold is already imported along with business value, and ROC AUC results stored in the perf_results variable and feature_column_names are already defined.\n",
    "\n",
    "### Instructions\n",
    "    - Initialize the StandardDeviationThreshold method and set std_lower_multiplier to 2 and std_upper_multiplier parameters to 1.\n",
    "    - Add the following feature names country, lead_time, parking_spaces, and hotel. Retain their order.\n",
    "    - Pass previously defined thresholds and feature names to the DataReconstructionDriftCalculator.\n",
    "    - Show the comparison plot featuring both the multivariate drift detection results(mv_results) and the performance results(perf_results)."
   ]
  },
  {
   "cell_type": "code",
   "execution_count": null,
   "id": "5277ef84-6fcc-4a6e-87a5-06fd32ca30e1",
   "metadata": {},
   "outputs": [],
   "source": [
    "# Create standard deviation thresholds\n",
    "stdt = StandardDeviationThreshold(std_lower_multiplier=2, std_upper_multiplier=1)\n",
    "\n",
    "# Define feature columns\n",
    "feature_column_names = ['country', 'lead_time', 'parking_spaces', 'hotel']\n",
    "\n",
    "# Intialize, fit, and show results of multivariate drift calculator\n",
    "mv_calc = nannyml.DataReconstructionDriftCalculator(\n",
    "    column_names=feature_column_names,\n",
    "\tthreshold = stdt,\n",
    "    timestamp_column_name='timestamp',\n",
    "    chunk_period='m')\n",
    "mv_calc.fit(reference)\n",
    "mv_results = mv_calc.calculate(analysis)\n",
    "mv_results.filter(period='analysis').compare(perf_results).plot().show()"
   ]
  },
  {
   "cell_type": "markdown",
   "id": "1021b50f-6844-4981-861c-4a361a75d0c8",
   "metadata": {},
   "source": [
    "## Univariate drift detection for hotel booking dataset\n",
    "\n",
    "In the previous exercises, we established using the multivariate drift detection method that the shift in data in January is responsible for the alert in the ROC AUC metric and the negative business value of the model.\n",
    "\n",
    "In this exercise, you will use a univariate drift detection method to find the feature and explanation behind the drift.\n",
    "\n",
    "The reference and analysis sets are already pre-loaded for you.\n",
    "\n",
    "### Instructions\n",
    "    - Specify Wasserstein and Jensen-Shannon method for continuous methods and L-inifity and Chi2 for categorical.\n",
    "    - Fit the reference and calculate results on the analysis set.\n",
    "    - Plot the results."
   ]
  },
  {
   "cell_type": "code",
   "execution_count": null,
   "id": "a78d8a34-9439-4a52-ac9b-eddb6dc4182a",
   "metadata": {},
   "outputs": [],
   "source": []
  }
 ],
 "metadata": {
  "kernelspec": {
   "display_name": "Python 3 (ipykernel)",
   "language": "python",
   "name": "python3"
  },
  "language_info": {
   "codemirror_mode": {
    "name": "ipython",
    "version": 3
   },
   "file_extension": ".py",
   "mimetype": "text/x-python",
   "name": "python",
   "nbconvert_exporter": "python",
   "pygments_lexer": "ipython3",
   "version": "3.11.6"
  }
 },
 "nbformat": 4,
 "nbformat_minor": 5
}
