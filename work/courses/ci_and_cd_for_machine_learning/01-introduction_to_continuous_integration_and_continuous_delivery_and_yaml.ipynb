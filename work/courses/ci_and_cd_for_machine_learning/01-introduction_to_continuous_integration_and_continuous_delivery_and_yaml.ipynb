{
 "cells": [
  {
   "cell_type": "markdown",
   "id": "13c1dcc0-04fb-44b2-9177-834467f0e4ab",
   "metadata": {},
   "source": [
    "## YAML mappings and sequences\n",
    "\n",
    "The given YAML represents information about a course called \"Machine Learning 101\" and the students enrolled in that course.\n",
    "\n",
    "    The courses key indicates course-related data, with a sequence representing multiple courses.\n",
    "    name specifies the course name.\n",
    "    prerequisites lists course requirements.\n",
    "    students key pertains to enrolled students, with a sequence representing multiple students.\n",
    "    Each student has a name key and midterm_scores array for midterms, and a final_score key for the final exam.\n",
    "\n",
    "### Ide Exercise Instruction\n",
    "    - Add the missing prerequisite \"Statistics\" under the prerequisites key.\n",
    "    - Write the key for students, using the keyword students as the key.\n",
    "    - Write midterms scores of 85, 92, and 78 for Jon Doe in flow format.\n",
    "    - For Jane Smith's midterm scores, add the missing values 90 under the midterm_scores key in block format."
   ]
  },
  {
   "cell_type": "code",
   "execution_count": null,
   "id": "47ea670c-4b65-49c4-bc0c-8f8d64ac577d",
   "metadata": {},
   "outputs": [],
   "source": [
    "courses:\n",
    "  - name: Machine Learning 101\n",
    "    # Complete prerequisites in block format\n",
    "    prerequisites:\n",
    "      - Linear Algebra\n",
    "      - Python Programming\n",
    "      - Statistics\n",
    "    # Write key for students\n",
    "    students:\n",
    "      - name: John Doe\n",
    "        # Write midterm scores in flow format\n",
    "        midterm_scores: [85, 92, 78]\n",
    "        final_score: 88\n",
    "      - name: Jane Smith\n",
    "        # Complete midterm scores in block format\n",
    "        midterm_scores:\n",
    "          - 78\n",
    "          - 84\n",
    "          - 90\n",
    "        final_score: 92"
   ]
  },
  {
   "cell_type": "markdown",
   "id": "6624670a-cc98-4eb0-a16e-3e0451272a37",
   "metadata": {},
   "source": []
  },
  {
   "cell_type": "code",
   "execution_count": null,
   "id": "e63c9899-18dd-4ac4-b124-1435e61cae72",
   "metadata": {},
   "outputs": [],
   "source": []
  },
  {
   "cell_type": "markdown",
   "id": "52abb525-35ee-495b-8b41-70a203a95d43",
   "metadata": {},
   "source": []
  },
  {
   "cell_type": "code",
   "execution_count": null,
   "id": "b9db349c-b9d8-449a-a580-15ea4a75c532",
   "metadata": {},
   "outputs": [],
   "source": []
  },
  {
   "cell_type": "markdown",
   "id": "c539a593-ef07-4a03-8b92-82e4dc9aa547",
   "metadata": {},
   "source": []
  },
  {
   "cell_type": "code",
   "execution_count": null,
   "id": "e021c40e-1139-45ed-92f4-c6b21ae23520",
   "metadata": {},
   "outputs": [],
   "source": []
  },
  {
   "cell_type": "markdown",
   "id": "a8543f32-3b60-4ac1-bca7-42c2ad467295",
   "metadata": {},
   "source": []
  },
  {
   "cell_type": "code",
   "execution_count": null,
   "id": "36a5353a-24dd-4dc5-833a-66040a9cb1a9",
   "metadata": {},
   "outputs": [],
   "source": []
  }
 ],
 "metadata": {
  "kernelspec": {
   "display_name": "Python 3 (ipykernel)",
   "language": "python",
   "name": "python3"
  },
  "language_info": {
   "codemirror_mode": {
    "name": "ipython",
    "version": 3
   },
   "file_extension": ".py",
   "mimetype": "text/x-python",
   "name": "python",
   "nbconvert_exporter": "python",
   "pygments_lexer": "ipython3",
   "version": "3.11.6"
  }
 },
 "nbformat": 4,
 "nbformat_minor": 5
}
