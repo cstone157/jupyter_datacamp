{
 "cells": [
  {
   "cell_type": "markdown",
   "id": "13c1dcc0-04fb-44b2-9177-834467f0e4ab",
   "metadata": {},
   "source": [
    "## YAML mappings and sequences\n",
    "\n",
    "The given YAML represents information about a course called \"Machine Learning 101\" and the students enrolled in that course.\n",
    "\n",
    "    The courses key indicates course-related data, with a sequence representing multiple courses.\n",
    "    name specifies the course name.\n",
    "    prerequisites lists course requirements.\n",
    "    students key pertains to enrolled students, with a sequence representing multiple students.\n",
    "    Each student has a name key and midterm_scores array for midterms, and a final_score key for the final exam.\n",
    "\n",
    "### Ide Exercise Instruction\n",
    "    - Add the missing prerequisite \"Statistics\" under the prerequisites key.\n",
    "    - Write the key for students, using the keyword students as the key.\n",
    "    - Write midterms scores of 85, 92, and 78 for Jon Doe in flow format.\n",
    "    - For Jane Smith's midterm scores, add the missing values 90 under the midterm_scores key in block format."
   ]
  },
  {
   "cell_type": "code",
   "execution_count": null,
   "id": "47ea670c-4b65-49c4-bc0c-8f8d64ac577d",
   "metadata": {},
   "outputs": [],
   "source": []
  }
 ],
 "metadata": {
  "kernelspec": {
   "display_name": "Python 3 (ipykernel)",
   "language": "python",
   "name": "python3"
  },
  "language_info": {
   "codemirror_mode": {
    "name": "ipython",
    "version": 3
   },
   "file_extension": ".py",
   "mimetype": "text/x-python",
   "name": "python",
   "nbconvert_exporter": "python",
   "pygments_lexer": "ipython3",
   "version": "3.11.6"
  }
 },
 "nbformat": 4,
 "nbformat_minor": 5
}
