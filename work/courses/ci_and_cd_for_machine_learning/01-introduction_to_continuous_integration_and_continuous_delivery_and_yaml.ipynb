{
 "cells": [
  {
   "cell_type": "markdown",
   "id": "13c1dcc0-04fb-44b2-9177-834467f0e4ab",
   "metadata": {},
   "source": [
    "## YAML mappings and sequences\n",
    "\n",
    "The given YAML represents information about a course called \"Machine Learning 101\" and the students enrolled in that course.\n",
    "\n",
    "    The courses key indicates course-related data, with a sequence representing multiple courses.\n",
    "    name specifies the course name.\n",
    "    prerequisites lists course requirements.\n",
    "    students key pertains to enrolled students, with a sequence representing multiple students.\n",
    "    Each student has a name key and midterm_scores array for midterms, and a final_score key for the final exam.\n",
    "\n",
    "### Ide Exercise Instruction\n",
    "    - Add the missing prerequisite \"Statistics\" under the prerequisites key.\n",
    "    - Write the key for students, using the keyword students as the key.\n",
    "    - Write midterms scores of 85, 92, and 78 for Jon Doe in flow format.\n",
    "    - For Jane Smith's midterm scores, add the missing values 90 under the midterm_scores key in block format."
   ]
  },
  {
   "cell_type": "code",
   "execution_count": null,
   "id": "47ea670c-4b65-49c4-bc0c-8f8d64ac577d",
   "metadata": {},
   "outputs": [],
   "source": [
    "courses:\n",
    "  - name: Machine Learning 101\n",
    "    # Complete prerequisites in block format\n",
    "    prerequisites:\n",
    "      - Linear Algebra\n",
    "      - Python Programming\n",
    "      - Statistics\n",
    "    # Write key for students\n",
    "    students:\n",
    "      - name: John Doe\n",
    "        # Write midterm scores in flow format\n",
    "        midterm_scores: [85, 92, 78]\n",
    "        final_score: 88\n",
    "      - name: Jane Smith\n",
    "        # Complete midterm scores in block format\n",
    "        midterm_scores:\n",
    "          - 78\n",
    "          - 84\n",
    "          - 90\n",
    "        final_score: 92"
   ]
  },
  {
   "cell_type": "markdown",
   "id": "6624670a-cc98-4eb0-a16e-3e0451272a37",
   "metadata": {},
   "source": [
    "## Design a Continuous Integration workflow\n",
    "\n",
    "The provided YAML file describes the setup for a hypothetical workflow.\n",
    "\n",
    "config defines a configuration object for Slack integration, specifically the channels to which notifications will be sent. workflow-orchestration and builds-911 represent actual Slack channel names.\n",
    "\n",
    "workflow describes a workflow object consisting of a run command and a notification step. The run command executes a script named script.py. The notification step sends a Slack message when the run state is \"failed\". The channels field in the Slack notification is populated with the channels defined in the configuration.\n",
    "\n",
    "### Ide Exercise Instruction\n",
    "    - Write the correct block style indicator in the workflow.run object.\n",
    "    - Reference the Slack channels from config object using YAML expressions in the workflow.notify object.\n",
    "    - Write the correct block indicator(s) to write the Slack message without newlines (including removing terminal newlines)."
   ]
  },
  {
   "cell_type": "code",
   "execution_count": null,
   "id": "e63c9899-18dd-4ac4-b124-1435e61cae72",
   "metadata": {},
   "outputs": [],
   "source": [
    "config:\n",
    "  slack:\n",
    "    channels:\n",
    "      - workflow-orchestration\n",
    "      - builds-911\n",
    "\n",
    "workflow:\n",
    "  # Use the correct block style indicator \n",
    "  # while writing commands to run\n",
    "  run: |\n",
    "    echo \"Running script.py\"\n",
    "    python3 script.py\n",
    "  notify:\n",
    "    - slack:\n",
    "        # Reference the Slack channels using \n",
    "        # placeholder defined in config block\n",
    "        channels: ${{ config.slack.channels }}\n",
    "        # Use the correct block style indicator \n",
    "        # to send the message without newlines\n",
    "        message: >-\n",
    "          It appears that your run has failed.\n",
    "          To gain more insights into the failure,\n",
    "          it is recommended to examine the CI logs.\n",
    "          In case further assistance is required,\n",
    "          feel free to contact the Engineer on call.\n",
    "      if: run.state == \"failed\""
   ]
  },
  {
   "cell_type": "markdown",
   "id": "52abb525-35ee-495b-8b41-70a203a95d43",
   "metadata": {},
   "source": [
    "## Write a GitHub Actions Workflow\n",
    "\n",
    "In this exercise, you will practice writing GitHub Actions workflow that prints the user name of the runner machine. The workflow gets triggered by pushing commits to the myfeature branch.\n",
    "\n",
    "By completing this exercise, you will be able to craft basic GitHub Actions workflows. You will understand how to trigger workflows based on events, specify runner machines, and execute fundamental steps. This foundational knowledge sets the stage for building more intricate CI/CD pipelines and automating diverse tasks in software development workflows.\n",
    "\n",
    "### Ide Exercise Instruction\n",
    "    - Write myfeature as the branch that will trigger the workflow on push.\n",
    "    - Write hello-from-runner as name of the job at the correct location.\n",
    "    - Write ubuntu-22.04 as the runner machine value.\n",
    "    - Write Print Name as the step name that prints the runner machine user name."
   ]
  },
  {
   "cell_type": "code",
   "execution_count": null,
   "id": "b9db349c-b9d8-449a-a580-15ea4a75c532",
   "metadata": {},
   "outputs": [],
   "source": [
    "name: CI\n",
    "\n",
    "on:\n",
    "  push:\n",
    "    # Specify the branch that will trigger the workflow\n",
    "    branches: [ \"myfeature\" ]\n",
    "\n",
    "jobs:\n",
    "  # Write name of the job as a key\n",
    "  hello-from-runner:\n",
    "    # Specify the runner machine\n",
    "    runs-on: ubuntu-22.04\n",
    "    steps:\n",
    "      # Write the step name\n",
    "      - name: Print Name\n",
    "        run: |\n",
    "          echo \"Hello from $(whoami)\""
   ]
  }
 ],
 "metadata": {
  "kernelspec": {
   "display_name": "Python 3 (ipykernel)",
   "language": "python",
   "name": "python3"
  },
  "language_info": {
   "codemirror_mode": {
    "name": "ipython",
    "version": 3
   },
   "file_extension": ".py",
   "mimetype": "text/x-python",
   "name": "python",
   "nbconvert_exporter": "python",
   "pygments_lexer": "ipython3",
   "version": "3.11.6"
  }
 },
 "nbformat": 4,
 "nbformat_minor": 5
}
