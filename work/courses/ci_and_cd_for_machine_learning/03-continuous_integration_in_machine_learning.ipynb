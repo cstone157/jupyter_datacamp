{
 "cells": [
  {
   "cell_type": "markdown",
   "id": "2d8366de-d43e-4c7f-8bc6-300ebde81a4d",
   "metadata": {},
   "source": [
    "## Develop a classification model\n",
    "\n",
    "In this exercise, you'll work with the weather dataset and develop a training code to predict rainfall for the next day. The preprocess_dataset.py contains helper functions to pre-process the dataset. Your task is to finish the scaffolded train.py to formulate a high-level model training flow.\n",
    "\n",
    "Feel free to explore the Python files to see the complete implementation of the workflow.\n",
    "\n",
    "NOTE: Use python3 instead of python to run Python scripts.\n",
    "\n",
    "### Ide Exercise Instruction\n",
    "    - Split the pre-processed dataset in train.py file using the train_test_split method from scikit-learn.\n",
    "    - Train the model using the training set, by specifying the correct arguments to the train_model method.\n",
    "    - Calculate test set metrics using the test set, by specifying the correct arguments to the evaluate_model method.\n",
    "    - Save the metrics dictionary into a JSON file using the save_metrics method."
   ]
  },
  {
   "cell_type": "code",
   "execution_count": null,
   "id": "5782fe57-edb9-476c-b5cd-d08160009aa1",
   "metadata": {},
   "outputs": [],
   "source": [
    "import json\n",
    "\n",
    "import pandas as pd\n",
    "from sklearn.model_selection import train_test_split\n",
    "\n",
    "from metrics_and_plots import plot_confusion_matrix, save_metrics\n",
    "from model import evaluate_model, train_model\n",
    "from utils_and_constants import PROCESSED_DATASET, TARGET_COLUMN\n",
    "\n",
    "\n",
    "def load_data(file_path):\n",
    "    data = pd.read_csv(file_path)\n",
    "    X = data.drop(TARGET_COLUMN, axis=1)\n",
    "    y = data[TARGET_COLUMN]\n",
    "    return X, y\n",
    "\n",
    "\n",
    "def main():\n",
    "    X, y = load_data(PROCESSED_DATASET)\n",
    "    \n",
    "    # Split data into training and test sets\n",
    "    X_train, X_test, y_train, y_test = train_test_split(X, y, random_state=1993)\n",
    "\n",
    "    # Train the model using the training set\n",
    "    model = train_model(X_train, y_train)\n",
    "    \n",
    "    # Calculate test set metrics\n",
    "    metrics = evaluate_model(model, X_test, y_test)\n",
    "\n",
    "    print(\"====================Test Set Metrics==================\")\n",
    "    print(json.dumps(metrics, indent=2))\n",
    "    print(\"======================================================\")\n",
    "\n",
    "    # Save metrics into json file\n",
    "    save_metrics(metrics)\n",
    "    plot_confusion_matrix(model, X_test, y_test)\n",
    "\n",
    "\n",
    "if __name__ == \"__main__\":\n",
    "    main()"
   ]
  },
  {
   "cell_type": "markdown",
   "id": "70146a7e-7861-4949-9f0b-530562fe3b3f",
   "metadata": {},
   "source": [
    "Setup model training using CML\n",
    "\n",
    "In this exercise, you will use CML GitHub Action to train a Random Forest Classifier to predict rainfall. CML is a GitHub Action that abstracts generating reports for ML experiments.\n",
    "\n",
    "The training will trigger when you open a PR against the main branch. You'll continue working with the weather dataset; the preprocess_dataset.py file contains helper functions to pre-process the dataset as before.\n",
    "\n",
    "The output from running train.py is a metrics.json file containing model metrics, and confusion_matrix.png file containing a plot of the confusion matrix.\n",
    "\n",
    "Your task is to finish the scaffolded .github/workflows/train_cml.yaml to formulate a high-level model training flow.\n",
    "\n",
    "NOTE: Use python3 instead of python to run Python scripts.\n",
    "Ide Exercise Instruction\n",
    "100XP\n",
    "\n",
    "    Setup CML GitHub Action iterative/setup-cml@v1.\n",
    "    Add evaluation metrics data, metrics.json, to the markdown report in the Write CML report step.\n",
    "    Add confusion matrix plot, confusion_matrix.png , to the markdown report in the Write CML report step.\n",
    "    Write the correct cml comment subcommand to create a comment in the PR."
   ]
  },
  {
   "cell_type": "code",
   "execution_count": null,
   "id": "9c4bbf5b-3c20-4c42-8823-e7f163f750b5",
   "metadata": {},
   "outputs": [],
   "source": []
  }
 ],
 "metadata": {
  "kernelspec": {
   "display_name": "Python 3 (ipykernel)",
   "language": "python",
   "name": "python3"
  },
  "language_info": {
   "codemirror_mode": {
    "name": "ipython",
    "version": 3
   },
   "file_extension": ".py",
   "mimetype": "text/x-python",
   "name": "python",
   "nbconvert_exporter": "python",
   "pygments_lexer": "ipython3",
   "version": "3.11.6"
  }
 },
 "nbformat": 4,
 "nbformat_minor": 5
}
