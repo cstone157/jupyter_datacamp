{
 "cells": [
  {
   "cell_type": "code",
   "execution_count": 14,
   "id": "2ff77af8-2f76-470c-acd0-3893b28a0520",
   "metadata": {},
   "outputs": [],
   "source": [
    "from datetime import datetime"
   ]
  },
  {
   "cell_type": "markdown",
   "id": "06010dfb-658a-42cb-901c-a474ac2a7331",
   "metadata": {},
   "source": [
    "## The first test suite\n",
    "\n",
    "In this exercise, you will write the first test suite that includes the types of tests that you have learned using the pytest library.\n",
    "\n",
    "The function multiple_of_two checks whether the num is a multiple of 2 or not. You will implement and run two regular assert tests.\n",
    "\n",
    "The pytest package has already been imported.\n",
    "\n",
    "### Instructions 1/2\n",
    "    - Write an assert statement that is expected to be True."
   ]
  },
  {
   "cell_type": "code",
   "execution_count": 1,
   "id": "fb246d82-39b2-49df-a01d-1c3ec0c511c1",
   "metadata": {},
   "outputs": [],
   "source": [
    "def multiple_of_two(num):\n",
    "    if num == 0:\n",
    "        raise(ValueError)\n",
    "    return num % 2 == 0\n",
    "\n",
    "def test_numbers():\n",
    "    # Write the \"True\" test below\n",
    "    assert multiple_of_two(4) == True"
   ]
  },
  {
   "cell_type": "markdown",
   "id": "e00899a4-c36a-4249-84c9-3d2343eee7fd",
   "metadata": {},
   "source": [
    "### Instructions 2/2\n",
    "    - Write an assert statement that is expected to be False."
   ]
  },
  {
   "cell_type": "code",
   "execution_count": 2,
   "id": "92922caf-4416-4d8d-bd19-0bf7f003a427",
   "metadata": {},
   "outputs": [],
   "source": [
    "def multiple_of_two(num):\n",
    "    if num == 0:\n",
    "        raise(ValueError)\n",
    "    return num % 2 == 0\n",
    "\n",
    "def test_numbers():\n",
    "    assert multiple_of_two(2) is True\n",
    "    # Write the \"False\" test below\n",
    "    assert multiple_of_two(3) is False"
   ]
  },
  {
   "cell_type": "markdown",
   "id": "a22b2fc9-ee42-41e7-a5af-410a00c1574d",
   "metadata": {},
   "source": [
    "## pytest.raises\n",
    "\n",
    "In this exercise, you will continue writing the first test suite using the pytest library.\n",
    "\n",
    "The function multiple_of_two checks whether the num is a multiple of 2 or not. In this exercise, you will implement a test that expects to raise an Exception.\n",
    "\n",
    "The pytest package has been imported.\n",
    "\n",
    "### Instructions\n",
    "    - Define a context manager for the exception test.\n",
    "    - Write a test to check that the zero input multiple_of_two(num=0) results in the ValueError exception."
   ]
  },
  {
   "cell_type": "code",
   "execution_count": 3,
   "id": "388402e0-804b-484f-bbed-e0d8f0351b18",
   "metadata": {},
   "outputs": [],
   "source": [
    "def multiple_of_two(num):\n",
    "    if num == 0:\n",
    "        raise(ValueError)\n",
    "    return num % 2 == 0\n",
    "\n",
    "def test_zero():    \n",
    "  \t# Add a context for an exception test here\n",
    "    with pytest.raises(ValueError):\n",
    "      \t# Check zero input below\n",
    "        multiple_of_two(0)"
   ]
  },
  {
   "cell_type": "markdown",
   "id": "08c6d4c1-330d-4b85-93c3-cebb5e616590",
   "metadata": {},
   "source": [
    "## Run the test!\n",
    "\n",
    "Yay! Your pytest test suite is ready to be launched. Now you will enter a simple command to run the test suite you developed in the previous exercise. Let's run the tests via the command-line interface.\n",
    "\n",
    "A quick overview of the exercise: you can find the exercise instructions below this section, the run_the_test.py script on the right, and the terminal at the bottom (below the script).\n",
    "\n",
    "### Ide Exercise Instruction\n",
    "    - Add import of the pytest library to the code.\n",
    "    - Enter the pytest run_the_test.py command to CLI and press Enter.\n",
    "    - Press the \"Submit Answer\" button at the end."
   ]
  },
  {
   "cell_type": "code",
   "execution_count": 8,
   "id": "3304870d-492c-4560-a89f-88a489d6da1e",
   "metadata": {},
   "outputs": [
    {
     "name": "stdout",
     "output_type": "stream",
     "text": [
      "\u001b[32m.\u001b[0m\u001b[32m.\u001b[0m\u001b[32m                                                                                           [100%]\u001b[0m\n",
      "\u001b[32m\u001b[32m\u001b[1m2 passed\u001b[0m\u001b[32m in 0.01s\u001b[0m\u001b[0m\n"
     ]
    },
    {
     "data": {
      "text/plain": [
       "<ExitCode.OK: 0>"
      ]
     },
     "execution_count": 8,
     "metadata": {},
     "output_type": "execute_result"
    }
   ],
   "source": [
    "# Import the pytest library\n",
    "import pytest\n",
    "import ipytest\n",
    "ipytest.autoconfig()\n",
    "\n",
    "def multiple_of_two(num):\n",
    "    if num == 0:\n",
    "        raise(ValueError)\n",
    "    return num % 2 == 0\n",
    "\n",
    "def test_numbers():\n",
    "    assert multiple_of_two(2) is True\n",
    "    assert multiple_of_two(3) is False\n",
    "\n",
    "def test_zero():    \n",
    "    with pytest.raises(ValueError):\n",
    "        multiple_of_two(0)\n",
    "\n",
    "ipytest.run()"
   ]
  },
  {
   "cell_type": "markdown",
   "id": "97b4203b-bd5e-4097-897c-c1a3daaabcc3",
   "metadata": {},
   "source": [
    "## Run with the keyword\n",
    "\n",
    "Sometimes you want to run only the tests with a certain name (assuming that the names of the tests are meaningful). In this exercise, you will practice running tests with keyword selection. To be accurate, you have to run only the tests containing the word \"numbers\".\n",
    "\n",
    "### Ide Exercise Instruction\n",
    "    - Add import of the pytest library to the code.\n",
    "    - Execute the pytest command to run run_the_test.py, specifying the keywords as \"numbers\".\n",
    "    - Press Enter.\n",
    "    - Press the \"Submit Answer\" button at the end."
   ]
  },
  {
   "cell_type": "code",
   "execution_count": 9,
   "id": "9568f8cc-6aa7-4ebd-bc5f-a3b39c059298",
   "metadata": {},
   "outputs": [],
   "source": [
    "# Import the pytest library\n",
    "import pytest\n",
    "\n",
    "def multiple_of_two(num):\n",
    "    if num == 0:\n",
    "        raise(ValueError)\n",
    "    return num % 2 == 0\n",
    "\n",
    "def test_numbers():\n",
    "    assert multiple_of_two(2) == True\n",
    "    assert multiple_of_two(3) == False\n",
    "\n",
    "def test_zero():    \n",
    "    with pytest.raises(ValueError):\n",
    "        multiple_of_two(0)\n",
    "\n",
    "## $ pytest run_the_test.py -k \"numbers\""
   ]
  },
  {
   "cell_type": "markdown",
   "id": "9f7adbbb-2366-41e9-a81a-37c25c3b4b75",
   "metadata": {},
   "source": [
    "## Failed tests with xfail\n",
    "\n",
    "In this exercise, you will use pytest markers for the first time in order to specify the behavior of the test. You have already seen the function multiple_of_two, which checks whether the num is a multiple of 2 or not. The pytest library was already imported for you.\n",
    "\n",
    "### Instructions\n",
    "    - Add the correct pytest marker for a test that is expected to fail.\n",
    "    - Write any assert test that is expected to fail."
   ]
  },
  {
   "cell_type": "code",
   "execution_count": 10,
   "id": "3187c9a0-9791-42b0-aebd-b99703123db3",
   "metadata": {},
   "outputs": [],
   "source": [
    "def multiple_of_two(num):\n",
    "    if num == 0:\n",
    "        raise(ValueError)\n",
    "    return num % 2 == 0\n",
    "\n",
    "# Add the pytest marker decorator here\n",
    "@pytest.mark.xfail\n",
    "def test_fails():\n",
    "    # Write any assert test that will fail\n",
    "    assert multiple_of_two(2) == False"
   ]
  },
  {
   "cell_type": "markdown",
   "id": "8f5035d1-55c9-471e-9db3-c0d3dc8c93b8",
   "metadata": {},
   "source": [
    "## Conditional skipping\n",
    "\n",
    "Sometimes, you want to skip a test if some condition is met. For example, you want to conduct a test unless today is Saturday. In this case, you can use the datetime library for getting the current day of the week and the pytest marker for conditional skipping the test function. To pass a condition to the conditional skipping pytest marker, you can use @pytest.mark.skipif(condition) The pytest library was already imported for you.\n",
    "\n",
    "### Instructions\n",
    "    - Add the \"conditional skip\" decorator to make it work.\n",
    "    - Add the condition_string into the decorator call.\n",
    "    - Complete the assertion tests."
   ]
  },
  {
   "cell_type": "code",
   "execution_count": 15,
   "id": "b9a4934e-bdab-4773-aa2e-f889b512f145",
   "metadata": {},
   "outputs": [],
   "source": [
    "day_of_week = datetime.now().isoweekday()\n",
    "\n",
    "def get_unique_values(lst):\n",
    "    return list(set(lst))\n",
    "\n",
    "condition_string = 'day_of_week == 6'\n",
    "# Add the conditional skip marker and the string here\n",
    "@pytest.mark.skipif(condition_string)\n",
    "def test_function():\n",
    "\t# Complete the assertion tests here\n",
    "    assert get_unique_values([1,2,3]) == [1,2,3]\n",
    "    assert get_unique_values([1,2,3,1]) == [1,2,3]"
   ]
  },
  {
   "cell_type": "code",
   "execution_count": null,
   "id": "007913c1-f0a1-49e8-a6a8-5cb71d8b189e",
   "metadata": {},
   "outputs": [],
   "source": []
  }
 ],
 "metadata": {
  "kernelspec": {
   "display_name": "Python 3 (ipykernel)",
   "language": "python",
   "name": "python3"
  },
  "language_info": {
   "codemirror_mode": {
    "name": "ipython",
    "version": 3
   },
   "file_extension": ".py",
   "mimetype": "text/x-python",
   "name": "python",
   "nbconvert_exporter": "python",
   "pygments_lexer": "ipython3",
   "version": "3.11.6"
  }
 },
 "nbformat": 4,
 "nbformat_minor": 5
}
