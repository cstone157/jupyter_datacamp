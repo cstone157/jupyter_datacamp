{
 "cells": [
  {
   "cell_type": "code",
   "execution_count": 1,
   "id": "770218db-80fa-4605-98bc-ccef8c962620",
   "metadata": {},
   "outputs": [],
   "source": [
    "from datetime import datetime\n",
    "import pytest\n",
    "import ipytest\n",
    "\n",
    "## Make pytest autorun\n",
    "ipytest.autoconfig()\n",
    "#ipytest.run()"
   ]
  },
  {
   "cell_type": "markdown",
   "id": "c9d4b13d-0d39-4422-ac8d-727b0fb3b473",
   "metadata": {},
   "source": [
    "## Factorial of number\n",
    "\n",
    "You will implement pytest tests using the provided test cases to test the factorial function. The factorial function of n is the product of all positive integers less than or equal to n. It is guaranteed that n is a non-negative integer. At each step, you will get a test case that you need to implement in Python. The pytest library was already imported for you.\n",
    "\n",
    "### Instructions 1/3\n",
    "    - Implement one test to check that for the input 5, the function returns 120."
   ]
  },
  {
   "cell_type": "code",
   "execution_count": 2,
   "id": "b48f0672-fc0f-463d-86d7-e89bc035b72d",
   "metadata": {},
   "outputs": [],
   "source": [
    "def factorial(n):\n",
    "    if n == 0: return 1\n",
    "    elif (type(n) == int):\n",
    "        return n * factorial(n-1)\n",
    "    else: return -1\n",
    "\n",
    "# Test case: expected input\n",
    "def test_regular():\n",
    "\tassert factorial(5) == 120"
   ]
  },
  {
   "cell_type": "markdown",
   "id": "8ae19ce7-581f-4340-bda0-46fd82436f05",
   "metadata": {},
   "source": [
    "### Instructions 2/3\n",
    "    - Implement a test to check that for the zero input 0, the function returns 1."
   ]
  },
  {
   "cell_type": "code",
   "execution_count": 3,
   "id": "a26eb025-5f36-4830-a054-131891edb9ba",
   "metadata": {},
   "outputs": [],
   "source": [
    "def factorial(n):\n",
    "    if n == 0: return 1\n",
    "    elif (type(n) == int):\n",
    "        return n * factorial(n-1)\n",
    "    else: return -1\n",
    "\n",
    "# Test case: zero input\n",
    "def test_zero():\n",
    "\tassert factorial(0) == 1"
   ]
  },
  {
   "cell_type": "markdown",
   "id": "6e805777-658e-467e-96a6-b412f41dc75a",
   "metadata": {},
   "source": [
    "### Instructions 3/3\n",
    "    - Implement a test to check that for the string input '5', the function returns -1."
   ]
  },
  {
   "cell_type": "code",
   "execution_count": 4,
   "id": "9af0dfb1-bf20-4612-b7dd-57e273b5b0e2",
   "metadata": {},
   "outputs": [
    {
     "name": "stdout",
     "output_type": "stream",
     "text": [
      "Test passed\n"
     ]
    }
   ],
   "source": [
    "def factorial(n):\n",
    "    if n == 0: return 1\n",
    "    elif (type(n) == int):\n",
    "        return n * factorial(n-1)\n",
    "    else: return -1\n",
    "\n",
    "# Test case: input of a wrong type\n",
    "def test_str():\n",
    "    assert factorial('5') == -1\n",
    "    print('Test passed')\n",
    "\n",
    "test_str()"
   ]
  },
  {
   "cell_type": "markdown",
   "id": "f378b9af-ed3a-4797-b709-ffb938d8eea8",
   "metadata": {},
   "source": [
    "## Run factorial\n",
    "\n",
    "Now that you implemented the tests let's run them with pytest to see the results! As before, you might want to know how many tests passed and how many failed.\n",
    "\n",
    "### Ide Exercise Instruction\n",
    "    - Run the test script with pytest CLI as before."
   ]
  },
  {
   "cell_type": "code",
   "execution_count": 5,
   "id": "34f5aaa4-3ec3-4253-86ab-79fb5e050d57",
   "metadata": {},
   "outputs": [
    {
     "name": "stdout",
     "output_type": "stream",
     "text": [
      "\u001b[32m.\u001b[0m\u001b[32m.\u001b[0m\u001b[32m.\u001b[0m\u001b[32m                                                                                          [100%]\u001b[0m\n",
      "\u001b[32m\u001b[32m\u001b[1m3 passed\u001b[0m\u001b[32m in 0.01s\u001b[0m\u001b[0m\n"
     ]
    },
    {
     "data": {
      "text/plain": [
       "<ExitCode.OK: 0>"
      ]
     },
     "execution_count": 5,
     "metadata": {},
     "output_type": "execute_result"
    }
   ],
   "source": [
    "import pytest\n",
    "\n",
    "def factorial(n):\n",
    "    if n == 0: return 1\n",
    "    elif (type(n) == int):\n",
    "        return n * factorial(n-1)\n",
    "    else: return -1\n",
    "\n",
    "# Test case: expected input\n",
    "def test_regular():\n",
    "    assert factorial(5) == 120\n",
    "\n",
    "# Test case: zero input\n",
    "def test_zero():\n",
    "    assert factorial(0) == 1\n",
    "\n",
    "# Test case: input of a wrong type\n",
    "def test_str():\n",
    "    assert factorial('5') == -1\n",
    "\n",
    "ipytest.run()"
   ]
  },
  {
   "cell_type": "markdown",
   "id": "942b6ee5-d3cf-4876-bce9-1226fc682301",
   "metadata": {},
   "source": [
    "## Aggregate with sum\n",
    "\n",
    "You will deal with an aggregation feature, agg_with_sum(). As you know, pd.DataFrame.groupby() returns a new dataset by aggregating the initial one with some function, in this case - .sum(). But the important thing is that you want to verify it works properly.\n",
    "\n",
    "Let's assume you know nothing about the data, but you know for sure that agg_with_sum() returns pd.Series. It is also reasonable to assume that the pd.Series will not be empty, and it will also contain some numeric values since it was processed with .sum().\n",
    "\n",
    "### Ide Exercise Instruction\n",
    "    - Write a test to check that the type of aggregated is pd.Series.\n",
    "    - Write a test to check that the number of rows in aggregated is more than 0.\n",
    "    - Write a test to check that the data type of aggregated is either int or float.\n",
    "    - Run the tests with CLI!"
   ]
  },
  {
   "cell_type": "code",
   "execution_count": 6,
   "id": "87bb39f9-c244-4913-9a71-837498f97c6b",
   "metadata": {},
   "outputs": [
    {
     "name": "stdout",
     "output_type": "stream",
     "text": [
      "\u001b[32m.\u001b[0m\u001b[32m.\u001b[0m\u001b[32m.\u001b[0m\u001b[32m.\u001b[0m\u001b[32m                                                                                         [100%]\u001b[0m\n",
      "\u001b[32m\u001b[32m\u001b[1m4 passed\u001b[0m\u001b[32m in 0.36s\u001b[0m\u001b[0m\n"
     ]
    },
    {
     "data": {
      "text/plain": [
       "<ExitCode.OK: 0>"
      ]
     },
     "execution_count": 6,
     "metadata": {},
     "output_type": "execute_result"
    }
   ],
   "source": [
    "# Don't forget to run\n",
    "# pytest agg_with_sum.py \n",
    "# in the CLI to actually run the test!\n",
    "\n",
    "import pandas as pd\n",
    "import pytest\n",
    "\n",
    "# Fixture to prepare the data\n",
    "@pytest.fixture\n",
    "def get_df():\n",
    "    return pd.read_csv('https://assets.datacamp.com/production/repositories/6253/datasets/757c6cb769f7effc5f5496050ea4d73e4586c2dd/laptops_train.csv')\n",
    "\n",
    "# Aggregation feature\n",
    "def agg_with_sum(data, group_by_column, aggregate_column):\n",
    "    return data.groupby(group_by_column)[aggregate_column].sum()\n",
    "\n",
    "# Test function\n",
    "def test_agg_feature(get_df):\n",
    "    # Aggregate preparation\n",
    "    aggregated = agg_with_sum(get_df, 'Manufacturer', 'Price')\n",
    "    # Test the type of the aggregated\n",
    "    assert type(aggregated) == pd.Series\n",
    "    # Test the number of rows of the aggregated\n",
    "    assert len(aggregated) > 0\n",
    "    # Test the data type of the aggregated\n",
    "    assert aggregated.dtype in (int, float)\n",
    "\n",
    "ipytest.run()"
   ]
  },
  {
   "cell_type": "markdown",
   "id": "466fb195-405e-4136-9472-b42d56e4efe5",
   "metadata": {},
   "source": [
    "## Read the file\n",
    "\n",
    "When you want to read a table in the CSV format in Python, you might want to use pandas.read_csv(). You will implement two integration tests with pytest to check the result of pandas.read_csv(). Then, you will run the tests with the CLI command.\n",
    "\n",
    "### Ide Exercise Instruction\n",
    "    - Implement a test to verify the type of the object returned from get_df equals pd.DataFrame.\n",
    "    - Implement a test to check that get_df has more than 0 rows.\n",
    "    - Run the test with the CLI command."
   ]
  },
  {
   "cell_type": "code",
   "execution_count": 7,
   "id": "a9dab3e2-6738-4785-b35a-5975cdb6b342",
   "metadata": {},
   "outputs": [
    {
     "name": "stdout",
     "output_type": "stream",
     "text": [
      "\u001b[32m.\u001b[0m\u001b[32m.\u001b[0m\u001b[32m.\u001b[0m\u001b[32m.\u001b[0m\u001b[32m.\u001b[0m\u001b[32m                                                                                        [100%]\u001b[0m\n",
      "\u001b[32m\u001b[32m\u001b[1m5 passed\u001b[0m\u001b[32m in 0.46s\u001b[0m\u001b[0m\n"
     ]
    },
    {
     "data": {
      "text/plain": [
       "<ExitCode.OK: 0>"
      ]
     },
     "execution_count": 7,
     "metadata": {},
     "output_type": "execute_result"
    }
   ],
   "source": [
    "import pandas as pd\n",
    "import pytest\n",
    "\n",
    "# Fixture to read the dataframe\n",
    "@pytest.fixture\n",
    "def get_df():\n",
    "    return pd.read_csv('https://assets.datacamp.com/production/repositories/6253/datasets/757c6cb769f7effc5f5496050ea4d73e4586c2dd/laptops_train.csv')\n",
    "\n",
    "# Integration test function\n",
    "def test_get_df(get_df):\n",
    "    # Check the type\n",
    "    assert type(get_df) == pd.DataFrame\n",
    "    # Check the number of rows\n",
    "    assert len(get_df) > 0\n",
    "\n",
    "ipytest.run()"
   ]
  },
  {
   "cell_type": "markdown",
   "id": "034534f3-5867-4319-9128-555bee477ff4",
   "metadata": {},
   "source": [
    "## Finding an element\n",
    "\n",
    "Using the right data structure can significantly increase the performance of your code. For example, if you want to find a certain element in the data, you might want to choose between list and set. In this exercise, you will implement performance tests with pytest to compare the speed of the in operator applied correspondingly to the two data structures: list and set. The pytest package has already been imported.\n",
    "\n",
    "### Instructions\n",
    "    - Pass benchmark as an argument into the test functions.\n",
    "    - Then call benchmark() in the test functions passing find() as the first argument."
   ]
  },
  {
   "cell_type": "code",
   "execution_count": null,
   "id": "9f22fb95-49fb-4ae6-91ec-06aff0e552b0",
   "metadata": {},
   "outputs": [],
   "source": [
    "def create_list():\n",
    "    return [i for i in range(1000)]\n",
    "def create_set():\n",
    "    return set([i for i in range(1000)])\n",
    "def find(it, el=50):\n",
    "    return el in it\n",
    "\n",
    "# Write the performance test for a list\n",
    "def test_list(benchmark):\n",
    "    benchmark(find, it=create_list())\n",
    "    \n",
    "# Write the performance test for a set\n",
    "def test_set(benchmark):\n",
    "    benchmark(find, it=create_set())"
   ]
  },
  {
   "cell_type": "markdown",
   "id": "b538a856-ab7f-4c57-bdd9-9a9efea8d2d9",
   "metadata": {},
   "source": [
    "## Speed of loops\n",
    "\n",
    "Of course, set is better suited for searching elements. It is based on hashes, so you can expect constant complexity most of the time. But what about iterating over all the object's elements? Let's compare the speed of loop iteration over the elements of list and set with pytest and pytest-benchmark. The pytest package has already been imported.\n",
    "\n",
    "### Instructions\n",
    "    - Add @benchmark decorator before the functions starting with iterate_.\n",
    "    - Complete the loops in iterate_list and iterate_set."
   ]
  },
  {
   "cell_type": "code",
   "execution_count": null,
   "id": "d57b04b8-b698-470b-9003-e91aa0ae29fb",
   "metadata": {},
   "outputs": [],
   "source": [
    "def test_list(benchmark):\n",
    "\t# Add decorator here\n",
    "    @benchmark\n",
    "    def iterate_list():\n",
    "\t\t# Complete the loop here\n",
    "        for i in [i for i in range(1000)]:\n",
    "            pass\n",
    "\n",
    "def test_set(benchmark):\n",
    "\t# Add decorator here\n",
    "    @benchmark\n",
    "    def iterate_set():\n",
    "        # Complete the loop here\n",
    "        for i in {i for i in range(1000)}:\n",
    "            pass"
   ]
  }
 ],
 "metadata": {
  "kernelspec": {
   "display_name": "Python 3 (ipykernel)",
   "language": "python",
   "name": "python3"
  },
  "language_info": {
   "codemirror_mode": {
    "name": "ipython",
    "version": 3
   },
   "file_extension": ".py",
   "mimetype": "text/x-python",
   "name": "python",
   "nbconvert_exporter": "python",
   "pygments_lexer": "ipython3",
   "version": "3.11.6"
  }
 },
 "nbformat": 4,
 "nbformat_minor": 5
}
