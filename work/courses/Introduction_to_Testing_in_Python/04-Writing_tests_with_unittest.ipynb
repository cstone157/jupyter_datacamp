{
 "cells": [
  {
   "cell_type": "code",
   "execution_count": 1,
   "id": "f3495ea4-5941-4f1b-b580-265ebd63b7fa",
   "metadata": {},
   "outputs": [],
   "source": [
    "from datetime import datetime\n",
    "import pytest\n",
    "import ipytest\n",
    "\n",
    "## Make pytest autorun\n",
    "ipytest.autoconfig()\n",
    "#ipytest.run()"
   ]
  },
  {
   "cell_type": "markdown",
   "id": "f24b46da-6c4a-4df7-93be-22b85e018440",
   "metadata": {},
   "source": [
    "## Factorial with unittest\n",
    "\n",
    "In this exercise, you will start using unittest to create basic tests for the factorial function. Since the library uses an object-oriented approach, the functions will be implemented as methods of a unittest.TestCase class. The unittest package has already been imported.\n",
    "\n",
    "### Instructions 1/3\n",
    "    - Use .assertEqual() to check that the factorial of 5 equals 120."
   ]
  },
  {
   "cell_type": "code",
   "execution_count": null,
   "id": "5419a5bc-578d-4fa4-90a7-5e9b3f717690",
   "metadata": {},
   "outputs": [],
   "source": [
    "def func_factorial(number):\n",
    "    if number < 0:\n",
    "        raise ValueError('Factorial is not defined for negative values')\n",
    "    factorial = 1\n",
    "    while number > 1:\n",
    "        factorial = factorial * number\n",
    "        number = number - 1\n",
    "    return factorial\n",
    "\n",
    "class TestFactorial(unittest.TestCase):\n",
    "    def test_positives(self):\n",
    "        # Add the test for testing positives here\n",
    "        self.assertEqual(func_factorial(5), 120)"
   ]
  },
  {
   "cell_type": "markdown",
   "id": "eec57d9b-8c5f-4bbc-8bf1-9ebe3afb2881",
   "metadata": {},
   "source": [
    "### Instructions 2/3\n",
    "    - Use .assertEqual() to check that the factorial of 0 equals 1."
   ]
  },
  {
   "cell_type": "code",
   "execution_count": null,
   "id": "4d891802-9338-4c5d-b6db-dcd834a053f7",
   "metadata": {},
   "outputs": [],
   "source": [
    "def func_factorial(number):\n",
    "    if number < 0:\n",
    "        raise ValueError('Factorial is not defined for negative values')\n",
    "    factorial = 1\n",
    "    while number > 1:\n",
    "        factorial = factorial * number\n",
    "        number = number - 1\n",
    "    return factorial\n",
    "\n",
    "class TestFactorial(unittest.TestCase):\n",
    "    def test_zero(self):\n",
    "        # Add the test for testing zero here\n",
    "        self.assertEqual(func_factorial(0), 1)"
   ]
  },
  {
   "cell_type": "markdown",
   "id": "955eae47-1a78-45af-97c6-807d59b69280",
   "metadata": {},
   "source": [
    "### Instructions 3/3\n",
    "    - Use .assertRaises() to create a test for checking that the factorial of a negative number will raise a ValueError."
   ]
  },
  {
   "cell_type": "code",
   "execution_count": null,
   "id": "90044d8a-8467-4b22-a782-e570d37c6b3e",
   "metadata": {},
   "outputs": [],
   "source": [
    "import unittest\n",
    "def func_factorial(number):\n",
    "    if number < 0:\n",
    "        raise ValueError('Factorial is not defined for negative values')\n",
    "    factorial = 1\n",
    "    while number > 1:\n",
    "        factorial = factorial * number\n",
    "        number = number - 1\n",
    "    return factorial\n",
    "\n",
    "class TestFactorial(unittest.TestCase):\n",
    "    def test_negatives(self):\n",
    "      \t# Add the test for testing negatives here\n",
    "        with self.assertRaises(ValueError):\n",
    "            func_factorial(-1)"
   ]
  },
  {
   "cell_type": "markdown",
   "id": "cbbc3c82-327f-4c8a-892c-cd164e87fa7d",
   "metadata": {},
   "source": [
    "## Is prime or not\n",
    "\n",
    "A prime number can only be divided by itself and 1 without remainders. In this exercise, you will test the function the is_prime() with unittest. The function gets a number and returns True if it is prime and False if it is not. It uses the math package to calculate the square root of the number. The packages math and unittest were already imported for you.\n",
    "\n",
    "### Instructions 1/3\n",
    "    - Implement a test to check that 17 is prime."
   ]
  },
  {
   "cell_type": "code",
   "execution_count": null,
   "id": "3e78904b-53c9-4117-84a5-e1dd4ae701db",
   "metadata": {},
   "outputs": [],
   "source": [
    "def is_prime(num):\n",
    "    if num == 1: return False\n",
    "    up_limit = int(math.sqrt(num)) + 1\n",
    "    for i in range(2, up_limit):\n",
    "        if num % i == 0:\n",
    "            return False\n",
    "    return True\n",
    "\n",
    "class TestSuite(unittest.TestCase):\n",
    "    def test_is_prime(self):\n",
    "        # Check that 17 is prime\n",
    "        self.assertEqual(is_prime(17), True)"
   ]
  },
  {
   "cell_type": "markdown",
   "id": "c4abbb62-aa64-4b7d-9c79-2f873b675ab5",
   "metadata": {},
   "source": [
    "### Instructions 2/3\n",
    "    - Implement a test to check that 6 is not prime."
   ]
  },
  {
   "cell_type": "code",
   "execution_count": null,
   "id": "aacda5fc-4e72-4bf9-8e07-0d069327a313",
   "metadata": {},
   "outputs": [],
   "source": [
    "def is_prime(num):\n",
    "    if num == 1: return False\n",
    "    up_limit = int(math.sqrt(num)) + 1\n",
    "    for i in range(2, up_limit):\n",
    "        if num % i == 0:\n",
    "            return False\n",
    "    return True\n",
    "\n",
    "class TestSuite(unittest.TestCase):\n",
    "    def test_is_prime(self):\n",
    "        # Check that 6 is not prime\n",
    "        self.assertEqual(is_prime(6), False)"
   ]
  },
  {
   "cell_type": "markdown",
   "id": "bc1c7a3d-5750-4524-b8ee-dd32ebdf2f99",
   "metadata": {},
   "source": [
    "### Instructions 3/3\n",
    "    - Implement a test to check that 1 is not prime."
   ]
  },
  {
   "cell_type": "code",
   "execution_count": null,
   "id": "90f6bfd6-f95e-47f1-978f-8c222df75331",
   "metadata": {},
   "outputs": [],
   "source": [
    "def is_prime(num):\n",
    "    if num == 1: return False\n",
    "    up_limit = int(math.sqrt(num)) + 1\n",
    "    for i in range(2, up_limit):\n",
    "        if num % i == 0:\n",
    "            return False\n",
    "    return True\n",
    "\n",
    "class TestSuite(unittest.TestCase):\n",
    "    def test_is_prime(self):\n",
    "        # Check that 1 is not prime\n",
    "        self.assertEqual(is_prime(1), False)"
   ]
  }
 ],
 "metadata": {
  "kernelspec": {
   "display_name": "Python 3 (ipykernel)",
   "language": "python",
   "name": "python3"
  },
  "language_info": {
   "codemirror_mode": {
    "name": "ipython",
    "version": 3
   },
   "file_extension": ".py",
   "mimetype": "text/x-python",
   "name": "python",
   "nbconvert_exporter": "python",
   "pygments_lexer": "ipython3",
   "version": "3.11.6"
  }
 },
 "nbformat": 4,
 "nbformat_minor": 5
}
