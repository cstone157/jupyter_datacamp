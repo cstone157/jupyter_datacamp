{
 "cells": [
  {
   "cell_type": "markdown",
   "id": "053bba07-9110-4ebf-9dd7-724f5f477aae",
   "metadata": {},
   "source": [
    "## Cleaning text data\n",
    "\n",
    "In the video, you saw how to build a custom function that performs a calculation and rounds the results. However, custom functions can be used for any task we expect to repeat! One common example is cleaning text data so that it conforms to specific requirements.\n",
    "\n",
    "In this exercise, you'll create a function that takes string data and:\n",
    "\n",
    "    - Replaces spaces with underscores\n",
    "    - Converts to lowercase\n",
    "    - Returns the formatted string\n",
    "\n",
    "### Instructions\n",
    "    - Define a function called clean_string, which takes an argument called text.\n",
    "    - Inside the function, create a variable called no_spaces, which contains the text with spaces replaced by underscores.\n",
    "    - Inside the function, create a variable called clean_text, which converts characters in no_spaces to lowercase.\n",
    "    - Finish the function by producing clean_text as an output."
   ]
  },
  {
   "cell_type": "code",
   "execution_count": 1,
   "id": "fea5817b-20c5-42ad-abca-dec12f74e116",
   "metadata": {},
   "outputs": [
    {
     "name": "stdout",
     "output_type": "stream",
     "text": [
      "i_love_datacamp!\n"
     ]
    }
   ],
   "source": [
    "# Create the clean_string function\n",
    "def clean_string(text):\n",
    "  \n",
    "  # Replace spaces with underscores\n",
    "  no_spaces = text.replace(\" \", \"_\")\n",
    "  \n",
    "  # Convert to lowercase\n",
    "  clean_text = no_spaces.lower()\n",
    "  \n",
    "  # Display the final text as an output\n",
    "  return clean_text\n",
    "\n",
    "converted_text = clean_string(\"I LoVe dATaCamP!\")\n",
    "print(converted_text)"
   ]
  },
  {
   "cell_type": "code",
   "execution_count": null,
   "id": "d8b39161-165f-434a-9af6-51fe04c24f8f",
   "metadata": {},
   "outputs": [],
   "source": []
  }
 ],
 "metadata": {
  "kernelspec": {
   "display_name": "Python 3 (ipykernel)",
   "language": "python",
   "name": "python3"
  },
  "language_info": {
   "codemirror_mode": {
    "name": "ipython",
    "version": 3
   },
   "file_extension": ".py",
   "mimetype": "text/x-python",
   "name": "python",
   "nbconvert_exporter": "python",
   "pygments_lexer": "ipython3",
   "version": "3.11.6"
  }
 },
 "nbformat": 4,
 "nbformat_minor": 5
}
