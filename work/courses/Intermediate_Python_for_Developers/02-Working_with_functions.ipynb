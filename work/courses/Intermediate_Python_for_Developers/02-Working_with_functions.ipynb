{
 "cells": [
  {
   "cell_type": "markdown",
   "id": "053bba07-9110-4ebf-9dd7-724f5f477aae",
   "metadata": {},
   "source": [
    "## Cleaning text data\n",
    "\n",
    "In the video, you saw how to build a custom function that performs a calculation and rounds the results. However, custom functions can be used for any task we expect to repeat! One common example is cleaning text data so that it conforms to specific requirements.\n",
    "\n",
    "In this exercise, you'll create a function that takes string data and:\n",
    "\n",
    "    - Replaces spaces with underscores\n",
    "    - Converts to lowercase\n",
    "    - Returns the formatted string\n",
    "\n",
    "### Instructions\n",
    "    - Define a function called clean_string, which takes an argument called text.\n",
    "    - Inside the function, create a variable called no_spaces, which contains the text with spaces replaced by underscores.\n",
    "    - Inside the function, create a variable called clean_text, which converts characters in no_spaces to lowercase.\n",
    "    - Finish the function by producing clean_text as an output."
   ]
  },
  {
   "cell_type": "code",
   "execution_count": 1,
   "id": "fea5817b-20c5-42ad-abca-dec12f74e116",
   "metadata": {},
   "outputs": [
    {
     "name": "stdout",
     "output_type": "stream",
     "text": [
      "i_love_datacamp!\n"
     ]
    }
   ],
   "source": [
    "# Create the clean_string function\n",
    "def clean_string(text):\n",
    "  \n",
    "  # Replace spaces with underscores\n",
    "  no_spaces = text.replace(\" \", \"_\")\n",
    "  \n",
    "  # Convert to lowercase\n",
    "  clean_text = no_spaces.lower()\n",
    "  \n",
    "  # Display the final text as an output\n",
    "  return clean_text\n",
    "\n",
    "converted_text = clean_string(\"I LoVe dATaCamP!\")\n",
    "print(converted_text)"
   ]
  },
  {
   "cell_type": "markdown",
   "id": "ac5ee313-2ae4-408a-9e22-96b4f3e73ea7",
   "metadata": {},
   "source": [
    "## Building a password checker\n",
    "\n",
    "You've seen how conditional statements can be used to check for equality. Now you have the skills to build a custom function, you'll combine these two techniques to build a function called password_checker that compares a user's password to a submission, conditionally printing an output depending on the results.\n",
    "\n",
    "### Instructions\n",
    "    - Define the password_checker function, which should accept one argument called submission.\n",
    "    - Check if password is equal to submission.\n",
    "    - Add a keyword enabling the conditional printing of \"Incorrect password\" if password and submission are different.\n",
    "    - Call the function, passing \"NOT_VERY_SECURE_2023\"."
   ]
  },
  {
   "cell_type": "code",
   "execution_count": 2,
   "id": "c6f391fe-7b2b-43c6-8b6a-3903e418c3c5",
   "metadata": {},
   "outputs": [
    {
     "name": "stdout",
     "output_type": "stream",
     "text": [
      "Incorrect password\n"
     ]
    }
   ],
   "source": [
    "password = \"not_very_secure_2023\"\n",
    "\n",
    "# Define the password_checker function\n",
    "def password_checker(submission):\n",
    "  \n",
    "  # Check that the password variable and the submission match\n",
    "  if password == submission:\n",
    "    print(\"Successful login!\")\n",
    "  \n",
    "  # Otherwise, print \"Incorrect password\"\n",
    "  else:\n",
    "    print(\"Incorrect password\")\n",
    "\n",
    "# Call the function    \n",
    "password_checker(\"NOT_VERY_SECURE_2023\")"
   ]
  },
  {
   "cell_type": "markdown",
   "id": "9a615d01-7248-4983-aa27-3fe902b1b8c7",
   "metadata": {},
   "source": [
    "## Adding a keyword argument\n",
    "\n",
    "Previously, you developed a custom function to clean text, as shown here:\n",
    "\n",
    "```\n",
    "# Create the clean_string function\n",
    "def clean_string(text):\n",
    "\n",
    "      # Replace spaces with underscores\n",
    "      no_spaces = text.replace(\" \", \"_\")\n",
    "\n",
    "      # Convert to lowercase\n",
    "      clean_text = no_spaces.lower()\n",
    "\n",
    "      # Display the final text as an output\n",
    "      return clean_text\n",
    "```\n",
    "\n",
    "Now, you will modify it to take different default keyword arguments!\n",
    "\n",
    "### Instructions 1/2\n",
    "    - Define clean_text, which has two arguments: text, and lower, with the latter having a default value of True."
   ]
  },
  {
   "cell_type": "code",
   "execution_count": 3,
   "id": "2b19ceda-37f4-42ec-b550-bfab40e16435",
   "metadata": {},
   "outputs": [],
   "source": [
    "# Define clean_text\n",
    "def clean_text(text, lower=True):\n",
    "  if lower == False:\n",
    "    clean_text = text.replace(\" \", \"_\")\n",
    "    return clean_text\n",
    "  else:\n",
    "    clean_text = text.replace(\" \", \"_\")\n",
    "    clean_text = clean_text.lower()\n",
    "    return clean_text"
   ]
  },
  {
   "cell_type": "markdown",
   "id": "ef9f1ce2-5581-4c5f-b9b2-329abe3f5644",
   "metadata": {},
   "source": [
    "### Instructions 2/2\n",
    "    - Re-define clean_text with arguments of text followed by remove, with the latter having a default value of None."
   ]
  },
  {
   "cell_type": "code",
   "execution_count": null,
   "id": "abaf3a75-56cc-4317-a11c-be38fd11e438",
   "metadata": {},
   "outputs": [],
   "source": [
    "# Define clean_text\n",
    "def clean_text(text, remove=None):\n",
    "  if remove != None:\n",
    "    clean_text = text.replace(remove, \"\")\n",
    "    clean_text = clean_text.lower()\n",
    "    return clean_text\n",
    "  else:\n",
    "    clean_text = text.lower()\n",
    "    return clean_text"
   ]
  },
  {
   "cell_type": "markdown",
   "id": "305ad382-55a4-44c6-a6d5-6f321974fe93",
   "metadata": {},
   "source": [
    "## Data structure converter function\n",
    "\n",
    "Now you've learned about the types of arguments in functions, you'll put this into practice by building a custom function that converts data into different structures.\n",
    "\n",
    "### Instructions\n",
    "    - Define convert_data_structure with two arguments: data and data_type, where the latter has a default value of \"list\".\n",
    "    - Add a condition to check if data_type is \"tuple\".\n",
    "    - Else if data_type is \"set\", convert data into a set, saving it as a variable of the same name.\n",
    "    - Call the function on the data structure provided, using an appropriate keyword argument value-pair to convert it to a set."
   ]
  },
  {
   "cell_type": "code",
   "execution_count": 4,
   "id": "1ffa9bab-2255-4d0d-a39d-45c89ffc3155",
   "metadata": {},
   "outputs": [
    {
     "data": {
      "text/plain": [
       "{1, 2, 3, 'a', 'b', 'c'}"
      ]
     },
     "execution_count": 4,
     "metadata": {},
     "output_type": "execute_result"
    }
   ],
   "source": [
    "# Create the convert_data_structure function\n",
    "def convert_data_structure(data, data_type=\"list\"):\n",
    "  \n",
    "  # If data_type is \"tuple\"\n",
    "  if data_type == \"tuple\":\n",
    "    data = tuple(data)\n",
    "  \n",
    "  # Else if data_type is set, convert to a set\n",
    "  elif data_type == \"set\":\n",
    "    data = set(data)\n",
    "  else:\n",
    "    data = list(data)\n",
    "  return data\n",
    "\n",
    "# Call the function to convert to a set\n",
    "convert_data_structure({\"a\", 1, \"b\", 2, \"c\", 3}, data_type=\"set\")"
   ]
  },
  {
   "cell_type": "code",
   "execution_count": null,
   "id": "e0fee17e-f45c-4056-9924-224692f7e903",
   "metadata": {},
   "outputs": [],
   "source": []
  }
 ],
 "metadata": {
  "kernelspec": {
   "display_name": "Python 3 (ipykernel)",
   "language": "python",
   "name": "python3"
  },
  "language_info": {
   "codemirror_mode": {
    "name": "ipython",
    "version": 3
   },
   "file_extension": ".py",
   "mimetype": "text/x-python",
   "name": "python",
   "nbconvert_exporter": "python",
   "pygments_lexer": "ipython3",
   "version": "3.11.6"
  }
 },
 "nbformat": 4,
 "nbformat_minor": 5
}
