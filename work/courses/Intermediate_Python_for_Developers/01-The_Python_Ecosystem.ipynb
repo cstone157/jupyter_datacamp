{
 "cells": [
  {
   "cell_type": "markdown",
   "id": "227cf59c-e04a-4800-9126-031ad6786acb",
   "metadata": {},
   "source": [
    "## Get some assistance\n",
    "\n",
    "Not only does Python offer a range of built-in functions, but this even includes a way to find out more about data types, structures, and other functions.\n",
    "\n",
    "Time to try it out!\n",
    "\n",
    "### Instructions 1/3\n",
    "    - Call the help() function on len."
   ]
  },
  {
   "cell_type": "code",
   "execution_count": 1,
   "id": "1c74cf16-8b28-4add-bb63-0cacbad55d71",
   "metadata": {},
   "outputs": [
    {
     "name": "stdout",
     "output_type": "stream",
     "text": [
      "Help on built-in function len in module builtins:\n",
      "\n",
      "len(obj, /)\n",
      "    Return the number of items in a container.\n",
      "\n",
      "None\n"
     ]
    }
   ],
   "source": [
    "# Find out more about len()\n",
    "print(help(len))"
   ]
  },
  {
   "cell_type": "markdown",
   "id": "9bd2f063-d0eb-4cf7-aeca-6ba114515e76",
   "metadata": {},
   "source": [
    "### Instructions 2/3\n",
    "    - Use help() on the int data type."
   ]
  },
  {
   "cell_type": "code",
   "execution_count": null,
   "id": "25250f70-ff16-4d21-96c5-46cde7e1e336",
   "metadata": {},
   "outputs": [],
   "source": [
    "# Find out more about int\n",
    "print(help(int))"
   ]
  },
  {
   "cell_type": "markdown",
   "id": "9551c6e8-1de1-41ee-9ecf-4174b0fa62cf",
   "metadata": {},
   "source": [
    "### Instructions 3/3\n",
    "    - Find out more about the list data structure, printing the results."
   ]
  },
  {
   "cell_type": "code",
   "execution_count": null,
   "id": "3ccb85d8-5827-44df-8bdd-37a1c3f5d5ee",
   "metadata": {},
   "outputs": [],
   "source": [
    "# Find out more about lists\n",
    "print(help(list))"
   ]
  },
  {
   "cell_type": "markdown",
   "id": "b108c7e9-3f0c-4fee-800f-6bd1cfc08318",
   "metadata": {},
   "source": [
    "## Counting the elements\n",
    "\n",
    "In the video, you saw some of Python's most helpful built-in functions.\n",
    "\n",
    "One of them can be used to count the number of elements in a variable. You'll see three variables in the following steps, one dictionary course_ratings, one list course_completions, and one string most_popular_course. You'll practice applying this function to the three variables!\n",
    "\n",
    "### Instructions 1/3\n",
    "    - Use a function to count the number of key-value pairs in course_ratings, storing as a variable called num_courses, then print the variable."
   ]
  },
  {
   "cell_type": "code",
   "execution_count": 3,
   "id": "b8204ed8-da50-451f-a5b5-f78ae41d4456",
   "metadata": {},
   "outputs": [
    {
     "name": "stdout",
     "output_type": "stream",
     "text": [
      "4\n"
     ]
    }
   ],
   "source": [
    "course_ratings = {\"LLM Concepts\": 4.7, \n",
    "                  \"Introduction to Data Pipelines\": 4.75, \n",
    "                  \"AI Ethics\": 4.62, \n",
    "                  \"Introduction to dbt\": 4.81}\n",
    "\n",
    "# Print the number of key-value pairs\n",
    "num_courses = len(course_ratings)\n",
    "print(num_courses)"
   ]
  },
  {
   "cell_type": "markdown",
   "id": "0e0d3bf7-be29-415d-8c55-84880011ef9c",
   "metadata": {},
   "source": [
    "### Instructions 2/3\n",
    "    - Use a function to count the number of courses in course_completions, storing as num_courses, and print this variable."
   ]
  },
  {
   "cell_type": "code",
   "execution_count": 4,
   "id": "5bf2fe9d-0ca5-40f4-84d7-f87b22dc2f88",
   "metadata": {},
   "outputs": [
    {
     "name": "stdout",
     "output_type": "stream",
     "text": [
      "9\n"
     ]
    }
   ],
   "source": [
    "course_completions = [97, 83, 121, 205, 56, 174, 92, 117, 164]\n",
    "\n",
    "# Find the number of courses\n",
    "num_courses = len(course_completions)\n",
    "print(num_courses)"
   ]
  },
  {
   "cell_type": "markdown",
   "id": "3896ab76-7c6a-4986-b276-144ec86e55b0",
   "metadata": {},
   "source": [
    "### Instructions 3/3\n",
    "    - Use a function to count the number of characters in most_popular_course, storing as title_length, and print the variable."
   ]
  },
  {
   "cell_type": "code",
   "execution_count": 5,
   "id": "8e37b3d7-e8c3-4d5b-aa0a-86f2ccfee2f7",
   "metadata": {},
   "outputs": [
    {
     "name": "stdout",
     "output_type": "stream",
     "text": [
      "19\n"
     ]
    }
   ],
   "source": [
    "most_popular_course = \"Introduction to dbt\"\n",
    "\n",
    "# How many characters are in most_popular_course?\n",
    "title_length = len(most_popular_course)\n",
    "print(title_length)"
   ]
  },
  {
   "cell_type": "markdown",
   "id": "0a578b84-19be-4827-9031-fedbc06abbd6",
   "metadata": {},
   "source": [
    "## Performing calculations\n",
    "\n",
    "Python's built-in functions make it easy to perform calculations on multiple values without having to write several lines of code.\n",
    "\n",
    "Working with a list called course_completions containing integer values representing the number of completions for a range of different courses, you'll analyze this data to draw insights!\n",
    "\n",
    "### Instructions 1/4\n",
    "    - Add up and print the total number of course_completions."
   ]
  },
  {
   "cell_type": "code",
   "execution_count": 6,
   "id": "10bcf55d-dc18-4352-9acf-9b75e4a447a7",
   "metadata": {},
   "outputs": [],
   "source": [
    "course_completions = [97, 83, 121, 205, 56, 174, 92, 117, 164]"
   ]
  },
  {
   "cell_type": "code",
   "execution_count": 7,
   "id": "6ab88e04-5b3c-4f11-8818-46e51a098dce",
   "metadata": {},
   "outputs": [
    {
     "name": "stdout",
     "output_type": "stream",
     "text": [
      "1109\n"
     ]
    }
   ],
   "source": [
    "# Print the total number of course completions\n",
    "print(sum(course_completions))"
   ]
  },
  {
   "cell_type": "markdown",
   "id": "622928f3-a0bc-435e-aafb-a9b6de223b27",
   "metadata": {},
   "source": [
    "### Instructions 2/4\n",
    "    - Print the largest value in course_completions."
   ]
  },
  {
   "cell_type": "code",
   "execution_count": 8,
   "id": "8e7b6362-ba33-417f-ba49-664c637af25e",
   "metadata": {},
   "outputs": [
    {
     "name": "stdout",
     "output_type": "stream",
     "text": [
      "205\n"
     ]
    }
   ],
   "source": [
    "# Print the largest number of completions\n",
    "print(max(course_completions))"
   ]
  },
  {
   "cell_type": "markdown",
   "id": "313f8f73-78d2-4d67-b196-dbee241a52a3",
   "metadata": {},
   "source": [
    "### Instructions 3/4\n",
    "    - Add up the values in course_completions and then divide this by the number of elements to get the average."
   ]
  },
  {
   "cell_type": "code",
   "execution_count": 9,
   "id": "69246cb9-2591-4dc0-9e02-076b06e8d322",
   "metadata": {},
   "outputs": [
    {
     "name": "stdout",
     "output_type": "stream",
     "text": [
      "123.22222222222223\n"
     ]
    }
   ],
   "source": [
    "# Print the average number of completions\n",
    "print(sum(course_completions) / len(course_completions))"
   ]
  },
  {
   "cell_type": "markdown",
   "id": "84c855f8-b1e6-4b70-a375-975592807326",
   "metadata": {},
   "source": [
    "### Instructions 4/4\n",
    "    - Round the average number of course completions to one decimal place."
   ]
  },
  {
   "cell_type": "code",
   "execution_count": 10,
   "id": "64e2280e-f22e-4211-95c2-42aa8c27a815",
   "metadata": {},
   "outputs": [
    {
     "name": "stdout",
     "output_type": "stream",
     "text": [
      "123.2\n"
     ]
    }
   ],
   "source": [
    "# Print the average number of completions, rounded to one decimal places\n",
    "print(round(sum(course_completions) / len(course_completions), 1))"
   ]
  },
  {
   "cell_type": "code",
   "execution_count": null,
   "id": "80537d81-05b0-4060-abd1-a8684fd671a4",
   "metadata": {},
   "outputs": [],
   "source": []
  },
  {
   "cell_type": "code",
   "execution_count": null,
   "id": "b389b06b-6152-4360-a9fe-2cdbb9355fea",
   "metadata": {},
   "outputs": [],
   "source": []
  }
 ],
 "metadata": {
  "kernelspec": {
   "display_name": "Python 3 (ipykernel)",
   "language": "python",
   "name": "python3"
  },
  "language_info": {
   "codemirror_mode": {
    "name": "ipython",
    "version": 3
   },
   "file_extension": ".py",
   "mimetype": "text/x-python",
   "name": "python",
   "nbconvert_exporter": "python",
   "pygments_lexer": "ipython3",
   "version": "3.11.6"
  }
 },
 "nbformat": 4,
 "nbformat_minor": 5
}
