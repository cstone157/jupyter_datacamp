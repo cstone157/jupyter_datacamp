{
 "cells": [
  {
   "cell_type": "markdown",
   "id": "227cf59c-e04a-4800-9126-031ad6786acb",
   "metadata": {},
   "source": [
    "## Get some assistance\n",
    "\n",
    "Not only does Python offer a range of built-in functions, but this even includes a way to find out more about data types, structures, and other functions.\n",
    "\n",
    "Time to try it out!\n",
    "\n",
    "### Instructions 1/3\n",
    "    - Call the help() function on len."
   ]
  },
  {
   "cell_type": "code",
   "execution_count": 1,
   "id": "1c74cf16-8b28-4add-bb63-0cacbad55d71",
   "metadata": {},
   "outputs": [
    {
     "name": "stdout",
     "output_type": "stream",
     "text": [
      "Help on built-in function len in module builtins:\n",
      "\n",
      "len(obj, /)\n",
      "    Return the number of items in a container.\n",
      "\n",
      "None\n"
     ]
    }
   ],
   "source": [
    "# Find out more about len()\n",
    "print(help(len))"
   ]
  },
  {
   "cell_type": "markdown",
   "id": "9bd2f063-d0eb-4cf7-aeca-6ba114515e76",
   "metadata": {},
   "source": [
    "### Instructions 2/3\n",
    "    - Use help() on the int data type."
   ]
  },
  {
   "cell_type": "code",
   "execution_count": null,
   "id": "25250f70-ff16-4d21-96c5-46cde7e1e336",
   "metadata": {},
   "outputs": [],
   "source": [
    "# Find out more about int\n",
    "print(help(int))"
   ]
  },
  {
   "cell_type": "markdown",
   "id": "9551c6e8-1de1-41ee-9ecf-4174b0fa62cf",
   "metadata": {},
   "source": [
    "### Instructions 3/3\n",
    "    - Find out more about the list data structure, printing the results."
   ]
  },
  {
   "cell_type": "code",
   "execution_count": null,
   "id": "3ccb85d8-5827-44df-8bdd-37a1c3f5d5ee",
   "metadata": {},
   "outputs": [],
   "source": [
    "# Find out more about lists\n",
    "print(help(list))"
   ]
  },
  {
   "cell_type": "markdown",
   "id": "b108c7e9-3f0c-4fee-800f-6bd1cfc08318",
   "metadata": {},
   "source": [
    "## Counting the elements\n",
    "\n",
    "In the video, you saw some of Python's most helpful built-in functions.\n",
    "\n",
    "One of them can be used to count the number of elements in a variable. You'll see three variables in the following steps, one dictionary course_ratings, one list course_completions, and one string most_popular_course. You'll practice applying this function to the three variables!\n",
    "\n",
    "### Instructions 1/3\n",
    "    - Use a function to count the number of key-value pairs in course_ratings, storing as a variable called num_courses, then print the variable."
   ]
  },
  {
   "cell_type": "code",
   "execution_count": 3,
   "id": "b8204ed8-da50-451f-a5b5-f78ae41d4456",
   "metadata": {},
   "outputs": [
    {
     "name": "stdout",
     "output_type": "stream",
     "text": [
      "4\n"
     ]
    }
   ],
   "source": [
    "course_ratings = {\"LLM Concepts\": 4.7, \n",
    "                  \"Introduction to Data Pipelines\": 4.75, \n",
    "                  \"AI Ethics\": 4.62, \n",
    "                  \"Introduction to dbt\": 4.81}\n",
    "\n",
    "# Print the number of key-value pairs\n",
    "num_courses = len(course_ratings)\n",
    "print(num_courses)"
   ]
  },
  {
   "cell_type": "markdown",
   "id": "0e0d3bf7-be29-415d-8c55-84880011ef9c",
   "metadata": {},
   "source": [
    "### Instructions 2/3\n",
    "    - Use a function to count the number of courses in course_completions, storing as num_courses, and print this variable."
   ]
  },
  {
   "cell_type": "code",
   "execution_count": 4,
   "id": "5bf2fe9d-0ca5-40f4-84d7-f87b22dc2f88",
   "metadata": {},
   "outputs": [
    {
     "name": "stdout",
     "output_type": "stream",
     "text": [
      "9\n"
     ]
    }
   ],
   "source": [
    "course_completions = [97, 83, 121, 205, 56, 174, 92, 117, 164]\n",
    "\n",
    "# Find the number of courses\n",
    "num_courses = len(course_completions)\n",
    "print(num_courses)"
   ]
  },
  {
   "cell_type": "markdown",
   "id": "3896ab76-7c6a-4986-b276-144ec86e55b0",
   "metadata": {},
   "source": [
    "### Instructions 3/3\n",
    "    - Use a function to count the number of characters in most_popular_course, storing as title_length, and print the variable."
   ]
  },
  {
   "cell_type": "code",
   "execution_count": 5,
   "id": "8e37b3d7-e8c3-4d5b-aa0a-86f2ccfee2f7",
   "metadata": {},
   "outputs": [
    {
     "name": "stdout",
     "output_type": "stream",
     "text": [
      "19\n"
     ]
    }
   ],
   "source": [
    "most_popular_course = \"Introduction to dbt\"\n",
    "\n",
    "# How many characters are in most_popular_course?\n",
    "title_length = len(most_popular_course)\n",
    "print(title_length)"
   ]
  },
  {
   "cell_type": "markdown",
   "id": "0a578b84-19be-4827-9031-fedbc06abbd6",
   "metadata": {},
   "source": [
    "## Performing calculations\n",
    "\n",
    "Python's built-in functions make it easy to perform calculations on multiple values without having to write several lines of code.\n",
    "\n",
    "Working with a list called course_completions containing integer values representing the number of completions for a range of different courses, you'll analyze this data to draw insights!\n",
    "\n",
    "### Instructions 1/4\n",
    "    - Add up and print the total number of course_completions."
   ]
  },
  {
   "cell_type": "code",
   "execution_count": 6,
   "id": "10bcf55d-dc18-4352-9acf-9b75e4a447a7",
   "metadata": {},
   "outputs": [],
   "source": [
    "course_completions = [97, 83, 121, 205, 56, 174, 92, 117, 164]"
   ]
  },
  {
   "cell_type": "code",
   "execution_count": 7,
   "id": "6ab88e04-5b3c-4f11-8818-46e51a098dce",
   "metadata": {},
   "outputs": [
    {
     "name": "stdout",
     "output_type": "stream",
     "text": [
      "1109\n"
     ]
    }
   ],
   "source": [
    "# Print the total number of course completions\n",
    "print(sum(course_completions))"
   ]
  },
  {
   "cell_type": "markdown",
   "id": "622928f3-a0bc-435e-aafb-a9b6de223b27",
   "metadata": {},
   "source": [
    "### Instructions 2/4\n",
    "    - Print the largest value in course_completions."
   ]
  },
  {
   "cell_type": "code",
   "execution_count": 8,
   "id": "8e7b6362-ba33-417f-ba49-664c637af25e",
   "metadata": {},
   "outputs": [
    {
     "name": "stdout",
     "output_type": "stream",
     "text": [
      "205\n"
     ]
    }
   ],
   "source": [
    "# Print the largest number of completions\n",
    "print(max(course_completions))"
   ]
  },
  {
   "cell_type": "markdown",
   "id": "313f8f73-78d2-4d67-b196-dbee241a52a3",
   "metadata": {},
   "source": [
    "### Instructions 3/4\n",
    "    - Add up the values in course_completions and then divide this by the number of elements to get the average."
   ]
  },
  {
   "cell_type": "code",
   "execution_count": 9,
   "id": "69246cb9-2591-4dc0-9e02-076b06e8d322",
   "metadata": {},
   "outputs": [
    {
     "name": "stdout",
     "output_type": "stream",
     "text": [
      "123.22222222222223\n"
     ]
    }
   ],
   "source": [
    "# Print the average number of completions\n",
    "print(sum(course_completions) / len(course_completions))"
   ]
  },
  {
   "cell_type": "markdown",
   "id": "84c855f8-b1e6-4b70-a375-975592807326",
   "metadata": {},
   "source": [
    "### Instructions 4/4\n",
    "    - Round the average number of course completions to one decimal place."
   ]
  },
  {
   "cell_type": "code",
   "execution_count": 10,
   "id": "64e2280e-f22e-4211-95c2-42aa8c27a815",
   "metadata": {},
   "outputs": [
    {
     "name": "stdout",
     "output_type": "stream",
     "text": [
      "123.2\n"
     ]
    }
   ],
   "source": [
    "# Print the average number of completions, rounded to one decimal places\n",
    "print(round(sum(course_completions) / len(course_completions), 1))"
   ]
  },
  {
   "cell_type": "markdown",
   "id": "eedaea27-7b90-4f6f-b347-8b7e6fc67453",
   "metadata": {},
   "source": [
    "## Working with the string module\n",
    "\n",
    "In the video, you saw several popular modules including string, which is used to gather specific values such as all uppercase characters, or format some text.\n",
    "\n",
    "This can be helpful if you need to check whether text contains specific characters or modify text such as converting to lowercase.\n",
    "\n",
    "In this exercise, you'll import the module and access its ascii_lowercase and punctuation attributes.\n",
    "\n",
    "### Instructions\n",
    "    - Import the string module.\n",
    "    - Access the module's .ascii_lowercase attribute.\n",
    "    - Access the module's .punctuation attribute."
   ]
  },
  {
   "cell_type": "code",
   "execution_count": 11,
   "id": "b389b06b-6152-4360-a9fe-2cdbb9355fea",
   "metadata": {},
   "outputs": [
    {
     "name": "stdout",
     "output_type": "stream",
     "text": [
      "abcdefghijklmnopqrstuvwxyz\n",
      "!\"#$%&'()*+,-./:;<=>?@[\\]^_`{|}~\n"
     ]
    }
   ],
   "source": [
    "# Import the string module\n",
    "import string\n",
    "\n",
    "# Print all ASCII lowercase characters\n",
    "print(string.ascii_lowercase)\n",
    "\n",
    "# Print all punctuation\n",
    "print(string.punctuation)"
   ]
  },
  {
   "cell_type": "markdown",
   "id": "5a828ba5-26d9-403a-b960-bc06f102459d",
   "metadata": {},
   "source": [
    "## Importing from a module\n",
    "\n",
    "Another useful module is datetime, which allows you to create and work with dates and times, as well as time zones and time periods!\n",
    "\n",
    "The datetime module has a function called date.\n",
    "\n",
    "In this exercise, you'll practice importing and using the date method from the datetime module and use it to create a variable.\n",
    "\n",
    "### Instructions\n",
    "    - Import the date function from the datetime module.\n",
    "    - Create a variable called deadline, assigning a call of date(), passing in the numbers 2024, 1, and 19, in that order, separated by commas.\n",
    "    - Check the data type of deadline.\n",
    "    - Print the deadline variable."
   ]
  },
  {
   "cell_type": "code",
   "execution_count": 12,
   "id": "e2ce6a02-da6e-449a-83ce-b9e02aae3c90",
   "metadata": {},
   "outputs": [
    {
     "name": "stdout",
     "output_type": "stream",
     "text": [
      "<class 'datetime.date'>\n",
      "2024-01-19\n"
     ]
    }
   ],
   "source": [
    "# Import date from the datetime module\n",
    "from datetime import date\n",
    "\n",
    "# Create a variable called deadline\n",
    "deadline = date(2024, 1, 19)\n",
    "\n",
    "# Check the data type\n",
    "print(type(deadline))\n",
    "\n",
    "# Print the deadline\n",
    "print(deadline)"
   ]
  },
  {
   "cell_type": "markdown",
   "id": "968d1cfb-a2cd-4e28-b48c-7595a908b943",
   "metadata": {},
   "source": [
    "## Working with pandas\n",
    "\n",
    "pandas is an example of a popular Python package.\n",
    "\n",
    "In this exercise, the sales dictionary has been created and made available to you, and your task is to convert it into a pandas DataFrame and preview the first five rows.\n",
    "\n",
    "### Instructions\n",
    "    - Import the pandas module using an alias of pd.\n",
    "    - Create sales_df by using a pandas function to convert sales into a DataFrame.\n",
    "    - Preview the first five rows of sales_df."
   ]
  },
  {
   "cell_type": "code",
   "execution_count": 14,
   "id": "9b8e9012-9d7d-4e8e-b0a2-2ffde27cb013",
   "metadata": {},
   "outputs": [],
   "source": [
    "sales = {'user_id': ['KM37', 'PR19', 'YU88', 'JB18', 'LP65', 'HJ11', 'PR19', 'IJ54'],\n",
    " 'date': ['01/05/2024',  '01/05/2024',  '01/06/2024',  '01/06/2024',  '01/06/2024',\n",
    "  '01/06/2024',  '01/07/2024',  '01/07/2024'],\n",
    " 'order_value': [197.75, 208.21, 134.99, 317.81, 201.3, 157.87, 99.99, 124.5]}"
   ]
  },
  {
   "cell_type": "code",
   "execution_count": 15,
   "id": "aeab7e36-3abd-49fa-a9f6-c318b5d02b31",
   "metadata": {},
   "outputs": [
    {
     "name": "stdout",
     "output_type": "stream",
     "text": [
      "  user_id        date  order_value\n",
      "0    KM37  01/05/2024       197.75\n",
      "1    PR19  01/05/2024       208.21\n",
      "2    YU88  01/06/2024       134.99\n",
      "3    JB18  01/06/2024       317.81\n",
      "4    LP65  01/06/2024       201.30\n"
     ]
    }
   ],
   "source": [
    "# Import pandas as pd\n",
    "import pandas as pd\n",
    "\n",
    "# Convert sales to a pandas DataFrame\n",
    "sales_df = pd.DataFrame(sales)\n",
    "\n",
    "# Preview the first five rows\n",
    "print(sales_df.head())"
   ]
  },
  {
   "cell_type": "markdown",
   "id": "e3ddade3-a949-4028-b3f1-ee7a4482a260",
   "metadata": {},
   "source": [
    "## Performing calculations with pandas\n",
    "\n",
    "Now, you've been provided with a CSV file called sales.csv containing sales data with three columns: \"user_id\", \"date\", and \"order_value\".\n",
    "\n",
    "Using pandas, you'll read in the file and calculate statistics about sales values.\n",
    "\n",
    "Just like how you can subset a dictionary by its key, e.g., dictionary[\"key_name\"], you can use the same syntax in pandas to subset a column! Not only this, the package also provides useful methods to perform calculations on DataFrames or subsets of DataFrames (such as columns)!\n",
    "\n",
    "Examples of this syntax include df[\"column_name\"].mean() and df[\"column_name\"].sum() to calculate the average and total for a given column, respectively.\n",
    "\n",
    "### Instructions\n",
    "    - Read in \"sales.csv\", saving as a pandas DataFrame called sales_df.\n",
    "    - Subset sales_df on the \"order_value\" column, then call the .mean() method to find the average order value.\n",
    "    - Subset sales_df on the \"order_value\" column, then call the .sum() method to find the total value of all orders."
   ]
  },
  {
   "cell_type": "code",
   "execution_count": null,
   "id": "fe441b6a-3aa4-4d3c-a1e2-9abb20227172",
   "metadata": {},
   "outputs": [],
   "source": [
    "# Read in sales.csv\n",
    "sales_df = pd.read_csv(\"sales.csv\")\n",
    "\n",
    "# Print the mean order_value\n",
    "print(sales_df[\"order_value\"].mean())\n",
    "\n",
    "# Print the total value of sales\n",
    "print(sales_df[\"order_value\"].sum())"
   ]
  },
  {
   "cell_type": "code",
   "execution_count": null,
   "id": "d4b529d8-2238-48f6-8ee4-429dea1690e8",
   "metadata": {},
   "outputs": [],
   "source": []
  },
  {
   "cell_type": "code",
   "execution_count": null,
   "id": "43d32199-2f34-482f-83bb-d80f8c82bd03",
   "metadata": {},
   "outputs": [],
   "source": []
  }
 ],
 "metadata": {
  "kernelspec": {
   "display_name": "Python 3 (ipykernel)",
   "language": "python",
   "name": "python3"
  },
  "language_info": {
   "codemirror_mode": {
    "name": "ipython",
    "version": 3
   },
   "file_extension": ".py",
   "mimetype": "text/x-python",
   "name": "python",
   "nbconvert_exporter": "python",
   "pygments_lexer": "ipython3",
   "version": "3.11.6"
  }
 },
 "nbformat": 4,
 "nbformat_minor": 5
}
