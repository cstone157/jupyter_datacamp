{
 "cells": [
  {
   "cell_type": "markdown",
   "id": "3acae749-7d43-482f-b541-795239a9b7db",
   "metadata": {},
   "source": [
    "## Adding tax\n",
    "\n",
    "Time to test out your lambda function skills!\n",
    "\n",
    "In this exercise, you'll use a lambda function to add a tax of 20% to the cost of the sale_price variable.\n",
    "\n",
    "### Instructions\n",
    "    - Define the add_tax lambda function to multiply the argument provided to it, x, by 1.2.\n",
    "    - Call add_tax() on the sale_price variable."
   ]
  },
  {
   "cell_type": "code",
   "execution_count": 1,
   "id": "5b9486a1-1126-4414-9449-e6c772703978",
   "metadata": {},
   "outputs": [
    {
     "name": "stdout",
     "output_type": "stream",
     "text": [
      "35.988\n"
     ]
    }
   ],
   "source": [
    "sale_price = 29.99\n",
    "\n",
    "# Define a lambda function called add_tax\n",
    "add_tax = lambda x: x * 1.2\n",
    "\n",
    "# Call the lambda function\n",
    "print(add_tax(sale_price))"
   ]
  },
  {
   "cell_type": "markdown",
   "id": "286692c2-a3df-4f23-b086-e57d16cb88ce",
   "metadata": {},
   "source": [
    "## Calling lambda in-line\n",
    "\n",
    "Remember, one of the key benefits of lambda is the ability to use functions in-line.\n",
    "\n",
    "In this exercise, you'll modify the approach of the previous exercise to add tax to the sales_price variable in-line without storing a lambda function as a variable first.\n",
    "\n",
    "### Instructions\n",
    "    - In a single line of code, make a lambda function that multiplies sale_price by 1.2 and returns the results."
   ]
  },
  {
   "cell_type": "code",
   "execution_count": 2,
   "id": "6f52a964-c742-4ba7-9314-7e1e4745646f",
   "metadata": {},
   "outputs": [
    {
     "name": "stdout",
     "output_type": "stream",
     "text": [
      "35.988\n"
     ]
    }
   ],
   "source": [
    "sale_price = 29.99\n",
    "\n",
    "# Call a lambda function adding 20% to sale_price\n",
    "print((lambda x: x * 1.2)(sale_price))"
   ]
  },
  {
   "cell_type": "markdown",
   "id": "5d3b0853-bdf2-428a-8735-0fb4ad258bf4",
   "metadata": {},
   "source": [
    "## Lambda functions with iterables\n",
    "\n",
    "You've used lambda functions to perform actions on a single value; now it's time to test yourself on working with iterables.\n",
    "\n",
    "You've been provided with a list called sales_prices containing sales prices for several items. Your goal is to use a lambda function to add tax (20%) to each value in the list.\n",
    "\n",
    "### Instructions\n",
    "    - Create add_taxes, which multiplies each value in sales_prices by 20%.\n",
    "    - Print a list using add_taxes to update values in sales_prices."
   ]
  },
  {
   "cell_type": "code",
   "execution_count": null,
   "id": "4cf4c2f2-1ee6-4a73-825e-8c0c8b7fbe85",
   "metadata": {},
   "outputs": [],
   "source": []
  }
 ],
 "metadata": {
  "kernelspec": {
   "display_name": "Python 3 (ipykernel)",
   "language": "python",
   "name": "python3"
  },
  "language_info": {
   "codemirror_mode": {
    "name": "ipython",
    "version": 3
   },
   "file_extension": ".py",
   "mimetype": "text/x-python",
   "name": "python",
   "nbconvert_exporter": "python",
   "pygments_lexer": "ipython3",
   "version": "3.11.6"
  }
 },
 "nbformat": 4,
 "nbformat_minor": 5
}
