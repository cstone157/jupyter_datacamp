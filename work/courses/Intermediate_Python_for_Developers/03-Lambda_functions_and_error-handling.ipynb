{
 "cells": [
  {
   "cell_type": "markdown",
   "id": "3acae749-7d43-482f-b541-795239a9b7db",
   "metadata": {},
   "source": [
    "## Adding tax\n",
    "\n",
    "Time to test out your lambda function skills!\n",
    "\n",
    "In this exercise, you'll use a lambda function to add a tax of 20% to the cost of the sale_price variable.\n",
    "\n",
    "### Instructions\n",
    "    - Define the add_tax lambda function to multiply the argument provided to it, x, by 1.2.\n",
    "    - Call add_tax() on the sale_price variable."
   ]
  },
  {
   "cell_type": "code",
   "execution_count": 1,
   "id": "5b9486a1-1126-4414-9449-e6c772703978",
   "metadata": {},
   "outputs": [
    {
     "name": "stdout",
     "output_type": "stream",
     "text": [
      "35.988\n"
     ]
    }
   ],
   "source": [
    "sale_price = 29.99\n",
    "\n",
    "# Define a lambda function called add_tax\n",
    "add_tax = lambda x: x * 1.2\n",
    "\n",
    "# Call the lambda function\n",
    "print(add_tax(sale_price))"
   ]
  },
  {
   "cell_type": "markdown",
   "id": "286692c2-a3df-4f23-b086-e57d16cb88ce",
   "metadata": {},
   "source": [
    "## Calling lambda in-line\n",
    "\n",
    "Remember, one of the key benefits of lambda is the ability to use functions in-line.\n",
    "\n",
    "In this exercise, you'll modify the approach of the previous exercise to add tax to the sales_price variable in-line without storing a lambda function as a variable first.\n",
    "\n",
    "### Instructions\n",
    "    - In a single line of code, make a lambda function that multiplies sale_price by 1.2 and returns the results."
   ]
  },
  {
   "cell_type": "code",
   "execution_count": 2,
   "id": "6f52a964-c742-4ba7-9314-7e1e4745646f",
   "metadata": {},
   "outputs": [
    {
     "name": "stdout",
     "output_type": "stream",
     "text": [
      "35.988\n"
     ]
    }
   ],
   "source": [
    "sale_price = 29.99\n",
    "\n",
    "# Call a lambda function adding 20% to sale_price\n",
    "print((lambda x: x * 1.2)(sale_price))"
   ]
  },
  {
   "cell_type": "markdown",
   "id": "5d3b0853-bdf2-428a-8735-0fb4ad258bf4",
   "metadata": {},
   "source": [
    "## Lambda functions with iterables\n",
    "\n",
    "You've used lambda functions to perform actions on a single value; now it's time to test yourself on working with iterables.\n",
    "\n",
    "You've been provided with a list called sales_prices containing sales prices for several items. Your goal is to use a lambda function to add tax (20%) to each value in the list.\n",
    "\n",
    "### Instructions\n",
    "    - Create add_taxes, which multiplies each value in sales_prices by 20%.\n",
    "    - Print a list using add_taxes to update values in sales_prices."
   ]
  },
  {
   "cell_type": "code",
   "execution_count": 3,
   "id": "4cf4c2f2-1ee6-4a73-825e-8c0c8b7fbe85",
   "metadata": {},
   "outputs": [
    {
     "name": "stdout",
     "output_type": "stream",
     "text": [
      "[35.988, 11.94, 17.4, 47.699999999999996, 72.0]\n"
     ]
    }
   ],
   "source": [
    "sales_prices = [29.99, 9.95, 14.50, 39.75, 60.00]\n",
    "\n",
    "# Create add_taxes to add 20% to each item in sales_prices\n",
    "add_taxes = map(lambda x: x * 1.2, sales_prices)\n",
    "\n",
    "# Use add_taxes to return a new list with updated values\n",
    "print(list(add_taxes))"
   ]
  },
  {
   "cell_type": "markdown",
   "id": "046cd283-696c-4469-b051-ee66a6641c35",
   "metadata": {},
   "source": [
    "## Debugging code\n",
    "\n",
    "Developers will inevitably produce errors when writing code—this is completely normal! The ability to read error messages and debug or fix your code is a crucial skill when building or maintaining software.\n",
    "\n",
    "In this exercise, you have been provided with code that produces errors and will need to identify the cause so that you can resolve these issues.\n",
    "\n",
    "### Instructions\n",
    "    - Fix the code provided so that it creates and then prints the sales list without any errors."
   ]
  },
  {
   "cell_type": "code",
   "execution_count": null,
   "id": "bef9c238-bbfd-4135-aed6-acc00ee99ed9",
   "metadata": {},
   "outputs": [],
   "source": [
    "# Define the sales list\n",
    "sales = [125.97, 84.32, 99.78, 154.21, 78.50, 83.67, 111.13]\n",
    "\n",
    "# Print the sales list\n",
    "print(sales)"
   ]
  },
  {
   "cell_type": "markdown",
   "id": "4af2d8dc-364f-44e8-9a75-e7866d7c1ae1",
   "metadata": {},
   "source": [
    "## Avoiding errors\n",
    "\n",
    "In the video, you saw a couple of approaches for error handling that can be applied to custom functions.\n",
    "\n",
    "In this exercise, you'll test out one of the approaches that avoids raising an error, printing a helpful message if an error occurs, but not terminating the script.\n",
    "\n",
    "### Instructions\n",
    "    - Use a keyword allowing you to attempt to run code that cleans text.\n",
    "    - Swap a space for a single underscore in the text argument.\n",
    "    - Use another keyword that prints a helpful message if an error occurs when calling the snake_case() function."
   ]
  },
  {
   "cell_type": "code",
   "execution_count": 4,
   "id": "170c06db-b634-4fc5-ad3d-d0a875ab0025",
   "metadata": {},
   "outputs": [],
   "source": [
    "def snake_case(text):\n",
    "  # Attempt to clean the text\n",
    "  try:\n",
    "    # Swap spaces for underscores\n",
    "    clean_text = text.replace(\" \", \"_\")\n",
    "    clean_text = clean_text.lower()\n",
    "  # Run this code if an error occurs\n",
    "  except:\n",
    "    print(\"The snake_case() function expects a string as an argument, please check the data type provided.\")\n",
    "    \n",
    "snake_case(\"User Name 187\")"
   ]
  },
  {
   "cell_type": "markdown",
   "id": "b9b95857-aef4-49b0-85d3-945d18de5f45",
   "metadata": {},
   "source": [
    "## Returning errors\n",
    "\n",
    "Time to try out the other approach for error handling.\n",
    "\n",
    "Revise the snake_case() function to intentionally produce an error if an incorrect data type is used.\n",
    "\n",
    "### Instructions\n",
    "    - Check whether the data type of the text argument is a string str.\n",
    "    - Inside the else block, produce a TypeError() to prevent the script running and return a descriptive message."
   ]
  },
  {
   "cell_type": "code",
   "execution_count": 5,
   "id": "067d8e87-a4df-4f7f-8299-9a36a5b0401d",
   "metadata": {},
   "outputs": [],
   "source": [
    "def snake_case(text):\n",
    "  # Check the data type\n",
    "  if type(text) == str:\n",
    "    clean_text = text.replace(\" \", \"_\")\n",
    "    clean_text = clean_text.lower()\n",
    "  else:\n",
    "    # Return a TypeError error if the wrong data type was used\n",
    "    raise TypeError(\"The snake_case() function expects a string as an argument, please check the data type provided.\")\n",
    "    \n",
    "snake_case(\"User Name 187\")"
   ]
  },
  {
   "cell_type": "code",
   "execution_count": null,
   "id": "9c0bc8c8-bcf4-4913-bbf8-6b82f19e19ed",
   "metadata": {},
   "outputs": [],
   "source": []
  }
 ],
 "metadata": {
  "kernelspec": {
   "display_name": "Python 3 (ipykernel)",
   "language": "python",
   "name": "python3"
  },
  "language_info": {
   "codemirror_mode": {
    "name": "ipython",
    "version": 3
   },
   "file_extension": ".py",
   "mimetype": "text/x-python",
   "name": "python",
   "nbconvert_exporter": "python",
   "pygments_lexer": "ipython3",
   "version": "3.11.6"
  }
 },
 "nbformat": 4,
 "nbformat_minor": 5
}
