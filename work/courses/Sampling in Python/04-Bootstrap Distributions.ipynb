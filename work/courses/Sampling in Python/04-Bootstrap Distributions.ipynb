{
 "cells": [
  {
   "cell_type": "code",
   "execution_count": 6,
   "id": "008441e8-2835-4532-a917-5829c6cf9077",
   "metadata": {},
   "outputs": [],
   "source": [
    "import pandas as pd\n",
    "import numpy as np\n",
    "import matplotlib.pyplot as plt\n",
    "import random\n",
    "import itertools\n",
    "\n",
    "## expand_grid comes from\n",
    "##     https://pandas.pydata.org/pandas-docs/version/0.17.1/cookbook.html#creating-example-data\n",
    "def expand_grid(data_dict):\n",
    "    rows = itertools.product(*data_dict.values())\n",
    "    return pd.DataFrame.from_records(rows, columns=data_dict.keys())\n",
    "\n",
    "spotify_population = pd.read_feather(\"./data/spotify_2000_2020.feather\")\n",
    "attrition_pop = pd.read_feather(\"./data/attrition.feather\")\n",
    "\n",
    "spotify_sample = spotify_population[[\"artists\", \"name\", \"danceability\"]].reindex()"
   ]
  },
  {
   "cell_type": "code",
   "execution_count": 7,
   "id": "29a5553c-2bf3-4fd4-875e-c5f73d190698",
   "metadata": {},
   "outputs": [
    {
     "name": "stdout",
     "output_type": "stream",
     "text": [
      "                                               artists  \\\n",
      "32021                              ['Down A.K.A Kilo']   \n",
      "37823                                      ['Beyoncé']   \n",
      "8454                                         ['Tamia']   \n",
      "10356                        ['Tyga', 'YG', 'Santana']   \n",
      "34167                                      ['TobyMac']   \n",
      "...                                                ...   \n",
      "35286                                     ['Rod Wave']   \n",
      "13005  ['Joachim Garraud', 'JD Davis', 'David Guetta']   \n",
      "16578                                        ['Drake']   \n",
      "20287                               ['Ross Copperman']   \n",
      "2876                              ['Slightly Stoopid']   \n",
      "\n",
      "                           name  danceability  \n",
      "32021         Lean Like A Cholo         0.877  \n",
      "37823                Speechless         0.568  \n",
      "8454   Love Me in a Special Way         0.519  \n",
      "10356                  MAMACITA         0.786  \n",
      "34167              Made To Love         0.571  \n",
      "...                         ...           ...  \n",
      "35286              Sky Priority         0.637  \n",
      "13005         The World Is Mine         0.682  \n",
      "16578              How Bout Now         0.789  \n",
      "20287                    Hunger         0.442  \n",
      "2876            Round the World         0.873  \n",
      "\n",
      "[41656 rows x 3 columns]\n"
     ]
    }
   ],
   "source": [
    "# Generate 1 bootstrap resample\n",
    "spotify_1_resample = spotify_sample.sample(frac=1, replace=True)\n",
    "\n",
    "# Print the resample\n",
    "print(spotify_1_resample)"
   ]
  },
  {
   "cell_type": "code",
   "execution_count": 8,
   "id": "089059da-e6f9-4ede-b6b5-aa8b51d74cf9",
   "metadata": {},
   "outputs": [
    {
     "name": "stdout",
     "output_type": "stream",
     "text": [
      "0.5907652679085845\n"
     ]
    }
   ],
   "source": [
    "# Generate 1 bootstrap resample\n",
    "spotify_1_resample = spotify_sample.sample(frac=1, replace=True)\n",
    "\n",
    "# Calculate of the danceability column of spotify_1_resample\n",
    "mean_danceability_1 = np.mean(spotify_1_resample['danceability'])\n",
    "\n",
    "# Print the result\n",
    "print(mean_danceability_1)"
   ]
  },
  {
   "cell_type": "code",
   "execution_count": 12,
   "id": "927fb3a1-3e67-45bf-881e-edd1d00fd834",
   "metadata": {},
   "outputs": [
    {
     "name": "stdout",
     "output_type": "stream",
     "text": [
      "[0.5918860668331093, 0.5923211182062609, 0.5912029839638947, 0.5922668595160361, 0.5899149702323795, 0.5932064528519301, 0.5903022133666218, 0.5906721360668331, 0.5924964494910697, 0.5901593359900135]\n"
     ]
    }
   ],
   "source": [
    "# Replicate this 1000 times\n",
    "mean_danceability_1000 = []\n",
    "for i in range(1000):\n",
    "\tmean_danceability_1000.append(\n",
    "        np.mean(spotify_sample.sample(frac=1, replace=True)['danceability'])\n",
    "\t)\n",
    "  \n",
    "# Print the result\n",
    "print(mean_danceability_1000[:10])"
   ]
  },
  {
   "cell_type": "code",
   "execution_count": 13,
   "id": "e1b4fc3f-4d96-463f-b38a-ee135b629531",
   "metadata": {},
   "outputs": [
    {
     "data": {
      "image/png": "[encoded data removed]",
      "text/plain": [
       "<Figure size 640x480 with 1 Axes>"
      ]
     },
     "metadata": {},
     "output_type": "display_data"
    }
   ],
   "source": [
    "# Replicate this 1000 times\n",
    "mean_danceability_1000 = []\n",
    "for i in range(1000):\n",
    "\tmean_danceability_1000.append(\n",
    "        np.mean(spotify_sample.sample(frac=1, replace=True)['danceability'])\n",
    "\t)\n",
    "\n",
    "# Draw a histogram of the resample means\n",
    "plt.hist(mean_danceability_1000)\n",
    "plt.show()"
   ]
  },
  {
   "cell_type": "code",
   "execution_count": 14,
   "id": "6fbf229e-51c4-4cf0-baa3-b8af6f3d6cd1",
   "metadata": {},
   "outputs": [],
   "source": [
    "spotify_sample = spotify_population.sample(500)"
   ]
  },
  {
   "cell_type": "code",
   "execution_count": 16,
   "id": "21bc0a0c-4b6d-4282-ab8e-28096a0e0ab4",
   "metadata": {},
   "outputs": [
    {
     "name": "stdout",
     "output_type": "stream",
     "text": [
      "[55.46, 55.362, 54.364, 54.984, 54.266, 54.664, 54.454, 55.282, 54.95, 54.972]\n"
     ]
    }
   ],
   "source": [
    "mean_popularity_2000_samp = []\n",
    "\n",
    "# Generate a sampling distribution of 2000 replicates\n",
    "for i in range(2000):\n",
    "    mean_popularity_2000_samp.append(\n",
    "    \t# Sample 500 rows and calculate the mean popularity \n",
    "    \tspotify_population.sample(500)[\"popularity\"].mean()\n",
    "    )\n",
    "\n",
    "# Print the sampling distribution results\n",
    "print(mean_popularity_2000_samp[:10])"
   ]
  },
  {
   "cell_type": "code",
   "execution_count": 17,
   "id": "24a15d39-79b3-4593-9761-223acac57a97",
   "metadata": {},
   "outputs": [
    {
     "name": "stdout",
     "output_type": "stream",
     "text": [
      "[54.678, 55.632, 54.982, 56.154, 55.204, 55.118, 55.504, 55.376, 55.026, 55.372]\n"
     ]
    }
   ],
   "source": [
    "mean_popularity_2000_boot = []\n",
    "\n",
    "# Generate a bootstrap distribution of 2000 replicates\n",
    "for i in range(2000):\n",
    "    mean_popularity_2000_boot.append(\n",
    "    \t# Resample 500 rows and calculate the mean popularity     \n",
    "    \tspotify_sample.sample(500, replace=True)[\"popularity\"].mean()\n",
    "    )\n",
    "\n",
    "# Print the bootstrap distribution results\n",
    "print(mean_popularity_2000_boot[:10])"
   ]
  },
  {
   "cell_type": "code",
   "execution_count": 18,
   "id": "eb4d72bf-98ed-49ad-935b-7a215cce1c08",
   "metadata": {},
   "outputs": [],
   "source": [
    "sampling_distribution = mean_popularity_2000_samp\n",
    "bootstrap_distribution = mean_popularity_2000_boot"
   ]
  },
  {
   "cell_type": "code",
   "execution_count": 19,
   "id": "aa357672-1641-4d85-8c28-6b1b106ec7e2",
   "metadata": {},
   "outputs": [
    {
     "name": "stdout",
     "output_type": "stream",
     "text": [
      "[54.837142308430955, 55.212, 54.824629, 55.197682]\n"
     ]
    }
   ],
   "source": [
    "# Calculate the population mean popularity\n",
    "pop_mean = spotify_population[\"popularity\"].mean()\n",
    "\n",
    "# Calculate the original sample mean popularity\n",
    "samp_mean = spotify_sample[\"popularity\"].mean()\n",
    "\n",
    "# Calculate the sampling dist'n estimate of mean popularity\n",
    "samp_distn_mean = np.mean(sampling_distribution)\n",
    "\n",
    "# Calculate the bootstrap dist'n estimate of mean popularity\n",
    "boot_distn_mean = np.mean(bootstrap_distribution)\n",
    "\n",
    "# Print the means\n",
    "print([pop_mean, samp_mean, samp_distn_mean, boot_distn_mean])"
   ]
  },
  {
   "cell_type": "code",
   "execution_count": 20,
   "id": "466b9985-9c9b-415a-8b74-6b08d45bbea1",
   "metadata": {},
   "outputs": [],
   "source": [
    "spotify_sample = spotify_population.sample(5000)\n",
    "\n",
    "mean_popularity_2000_samp = []\n",
    "for i in range(2000):\n",
    "    mean_popularity_2000_samp.append(\n",
    "    \t# Sample 500 rows and calculate the mean popularity \n",
    "    \tspotify_population.sample(5000)[\"popularity\"].mean()\n",
    "    )\n",
    "\n",
    "mean_popularity_2000_boot = []\n",
    "for i in range(2000):\n",
    "    mean_popularity_2000_boot.append(\n",
    "    \t# Resample 500 rows and calculate the mean popularity     \n",
    "    \tspotify_sample.sample(5000, replace=True)[\"popularity\"].mean()\n",
    "    )\n",
    "\n",
    "sampling_distribution = mean_popularity_2000_samp\n",
    "bootstrap_distribution = mean_popularity_2000_boot"
   ]
  },
  {
   "cell_type": "code",
   "execution_count": 21,
   "id": "e791e99a-5cde-43f0-80bf-9ba466f90e33",
   "metadata": {},
   "outputs": [
    {
     "name": "stdout",
     "output_type": "stream",
     "text": [
      "[10.880065274257204, 10.987504040909847, 10.041068964533869, 10.988550608721798]\n"
     ]
    }
   ],
   "source": [
    "# Calculate the population std dev popularity\n",
    "pop_sd = spotify_population[\"popularity\"].std(ddof=0)\n",
    "\n",
    "# Calculate the original sample std dev popularity\n",
    "samp_sd = spotify_sample[\"popularity\"].std()\n",
    "\n",
    "# Calculate the sampling dist'n estimate of std dev popularity\n",
    "samp_distn_sd = np.std(sampling_distribution, ddof=1) * np.sqrt(5000)\n",
    "\n",
    "# Calculate the bootstrap dist'n estimate of std dev popularity\n",
    "boot_distn_sd = np.std(bootstrap_distribution, ddof=1) * np.sqrt(5000)\n",
    "\n",
    "# Print the standard deviations\n",
    "print([pop_sd, samp_sd, samp_distn_sd, boot_distn_sd])"
   ]
  },
  {
   "cell_type": "code",
   "execution_count": null,
   "id": "40ad20e5-0eb5-46ae-a4f3-d72ab2969314",
   "metadata": {},
   "outputs": [],
   "source": []
  },
  {
   "cell_type": "code",
   "execution_count": 26,
   "id": "78601e9b-6392-4e08-9321-cb1e5529cfb0",
   "metadata": {},
   "outputs": [],
   "source": [
    "from scipy.stats import norm"
   ]
  },
  {
   "cell_type": "code",
   "execution_count": 27,
   "id": "28e1eec9-acaf-4231-ade2-a33b54fbebb6",
   "metadata": {},
   "outputs": [
    {
     "name": "stdout",
     "output_type": "stream",
     "text": [
      "(54.452995, 55.06482)\n"
     ]
    }
   ],
   "source": [
    "# Generate a 95% confidence interval using the quantile method\n",
    "lower_quant = np.quantile(bootstrap_distribution, 0.025)\n",
    "upper_quant = np.quantile(bootstrap_distribution, 0.975)\n",
    "\n",
    "# Print quantile method confidence interval\n",
    "print((lower_quant, upper_quant))"
   ]
  },
  {
   "cell_type": "code",
   "execution_count": 28,
   "id": "fe335dfd-cd23-4efc-8e68-a12e162e2cb2",
   "metadata": {},
   "outputs": [
    {
     "name": "stdout",
     "output_type": "stream",
     "text": [
      "(54.46162791374625, 55.070790886253754)\n"
     ]
    }
   ],
   "source": [
    "# Find the mean and std dev of the bootstrap distribution\n",
    "point_estimate = np.mean(bootstrap_distribution)\n",
    "standard_error = np.std(bootstrap_distribution, ddof=1)\n",
    "\n",
    "# Find the lower limit of the confidence interval\n",
    "lower_se = norm.ppf(0.025, loc=point_estimate, scale=standard_error)\n",
    "\n",
    "# Find the upper limit of the confidence interval\n",
    "upper_se = norm.ppf(0.975, loc=point_estimate, scale=standard_error)\n",
    "\n",
    "# Print standard error method confidence interval\n",
    "print((lower_se, upper_se))"
   ]
  },
  {
   "cell_type": "code",
   "execution_count": null,
   "id": "c89dce6b-7d42-43e8-b279-5ae1f5d5be5f",
   "metadata": {},
   "outputs": [],
   "source": []
  }
 ],
 "metadata": {
  "kernelspec": {
   "display_name": "Python 3 (ipykernel)",
   "language": "python",
   "name": "python3"
  },
  "language_info": {
   "codemirror_mode": {
    "name": "ipython",
    "version": 3
   },
   "file_extension": ".py",
   "mimetype": "text/x-python",
   "name": "python",
   "nbconvert_exporter": "python",
   "pygments_lexer": "ipython3",
   "version": "3.11.4"
  }
 },
 "nbformat": 4,
 "nbformat_minor": 5
}
