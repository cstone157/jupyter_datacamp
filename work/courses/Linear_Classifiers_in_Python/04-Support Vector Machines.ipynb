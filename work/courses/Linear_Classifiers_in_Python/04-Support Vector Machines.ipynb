{
 "cells": [
  {
   "cell_type": "code",
   "execution_count": null,
   "id": "72cd14b6-b398-4c9e-b90d-2f9ed8abd5e2",
   "metadata": {},
   "outputs": [],
   "source": [
    "# Train a linear SVM\n",
    "#svm = SVC(kernel=\"linear\")\n",
    "#svm.fit(X, y)\n",
    "#plot_classifier(X, y, svm, lims=(11,15,0,6))\n",
    "\n",
    "# Make a new data set keeping only the support vectors\n",
    "#print(\"Number of original examples\", len(X))\n",
    "#print(\"Number of support vectors\", len(svm.support_))\n",
    "#X_small = X[svm.support_]\n",
    "#y_small = y[svm.support_]\n",
    "\n",
    "# Train a new SVM using only the support vectors\n",
    "#svm_small = SVC(kernel=\"linear\")\n",
    "#svm_small.fit(X_small, y_small)\n",
    "#plot_classifier(X_small, y_small, svm_small, lims=(11,15,0,6))"
   ]
  },
  {
   "cell_type": "code",
   "execution_count": 1,
   "id": "0c30e6dc-bb22-4405-9dc2-a0c6fab498c1",
   "metadata": {},
   "outputs": [],
   "source": [
    "# Instantiate an RBF SVM\n",
    "#svm = SVC()\n",
    "\n",
    "# Instantiate the GridSearchCV object and run the search\n",
    "#parameters = {'gamma':[0.00001, 0.0001, 0.001, 0.01, 0.1]}\n",
    "#searcher = GridSearchCV(svm, parameters)\n",
    "#searcher.fit(X, y)\n",
    "\n",
    "# Report the best parameters\n",
    "#print(\"Best CV params\", searcher.best_params_)"
   ]
  },
  {
   "cell_type": "code",
   "execution_count": 4,
   "id": "b486bb1a-5079-4c5e-a2b2-c49f75434547",
   "metadata": {},
   "outputs": [],
   "source": [
    "from sklearn.svm import SVC\n",
    "from sklearn.model_selection import GridSearchCV\n",
    "from sklearn import datasets\n",
    "from sklearn.model_selection import train_test_split\n",
    "from sklearn.linear_model import LogisticRegression\n",
    "\n",
    "digits = datasets.load_digits()\n",
    "X_train, X_test, y_train, y_test = train_test_split(digits.data, digits.target, random_state=42)"
   ]
  },
  {
   "cell_type": "code",
   "execution_count": 5,
   "id": "ad942821-ddc3-43e2-a0fe-7c80540fa592",
   "metadata": {},
   "outputs": [
    {
     "name": "stdout",
     "output_type": "stream",
     "text": [
      "Best CV params {'C': 10, 'gamma': 0.001}\n",
      "Best CV accuracy 0.988861352058378\n",
      "Test accuracy of best grid search hypers: 0.9911111111111112\n"
     ]
    }
   ],
   "source": [
    "# Instantiate an RBF SVM\n",
    "svm = SVC()\n",
    "\n",
    "# Instantiate the GridSearchCV object and run the search\n",
    "parameters = {'C':[0.1, 1, 10], 'gamma':[0.00001, 0.0001, 0.001, 0.01, 0.1]}\n",
    "searcher = GridSearchCV(svm, parameters)\n",
    "searcher.fit(X_train, y_train)\n",
    "\n",
    "# Report the best parameters and the corresponding score\n",
    "print(\"Best CV params\", searcher.best_params_)\n",
    "print(\"Best CV accuracy\", searcher.best_score_)\n",
    "\n",
    "# Report the test accuracy using these best parameters\n",
    "print(\"Test accuracy of best grid search hypers:\", searcher.score(X_test, y_test))"
   ]
  },
  {
   "cell_type": "code",
   "execution_count": 6,
   "id": "26d21dcf-f71a-4caf-b972-0887ce660434",
   "metadata": {},
   "outputs": [],
   "source": [
    "# We set random_state=0 for reproducibility \n",
    "#linear_classifier = SGDClassifier(random_state=0)\n",
    "\n",
    "# Instantiate the GridSearchCV object and run the search\n",
    "#parameters = {'alpha':[0.00001, 0.0001, 0.001, 0.01, 0.1, 1], \n",
    "#             'loss':['hinge', 'log_loss']}\n",
    "#searcher = GridSearchCV(linear_classifier, parameters, cv=10)\n",
    "#searcher.fit(X_train, y_train)\n",
    "\n",
    "# Report the best parameters and the corresponding score\n",
    "#print(\"Best CV params\", searcher.best_params_)\n",
    "#print(\"Best CV accuracy\", searcher.best_score_)\n",
    "#print(\"Test accuracy of best grid search hypers:\", searcher.score(X_test, y_test))"
   ]
  }
 ],
 "metadata": {
  "kernelspec": {
   "display_name": "Python 3 (ipykernel)",
   "language": "python",
   "name": "python3"
  },
  "language_info": {
   "codemirror_mode": {
    "name": "ipython",
    "version": 3
   },
   "file_extension": ".py",
   "mimetype": "text/x-python",
   "name": "python",
   "nbconvert_exporter": "python",
   "pygments_lexer": "ipython3",
   "version": "3.9.10"
  }
 },
 "nbformat": 4,
 "nbformat_minor": 5
}
