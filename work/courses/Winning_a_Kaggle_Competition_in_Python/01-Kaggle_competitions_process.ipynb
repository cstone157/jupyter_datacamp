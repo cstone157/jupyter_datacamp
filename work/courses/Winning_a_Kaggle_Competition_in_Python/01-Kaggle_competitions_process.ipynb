{
 "cells": [
  {
   "cell_type": "markdown",
   "id": "054eff17-1181-42b5-8a2c-317fca1bcc28",
   "metadata": {},
   "source": [
    "## Explore train data\n",
    "\n",
    "- You will work with another Kaggle competition called \"Store Item Demand Forecasting Challenge\". In this competition, you are given 5 years of store-item sales data, and asked to predict 3 months of sales for 50 different items in 10 different stores.\n",
    "\n",
    "- To begin, let's explore the train data for this competition. For the faster performance, you will work with a subset of the train data containing only a single month history.\n",
    "\n",
    "- Your initial goal is to read the input data and take the first look at it.\n",
    "\n",
    "### Instructions\n",
    "-    Import pandas as pd.\n",
    "-    Read train data using pandas' read_csv() method.\n",
    "-    Print the head of the train data (using head() method) to see the data sample."
   ]
  },
  {
   "cell_type": "code",
   "execution_count": 1,
   "id": "bee573ed-0b29-4e28-806b-0a66a5c0c0fa",
   "metadata": {},
   "outputs": [
    {
     "name": "stdout",
     "output_type": "stream",
     "text": [
      "Train shape: (15500, 5)\n",
      "       id        date  store  item  sales\n",
      "0  100000  2017-12-01      1     1     19\n",
      "1  100001  2017-12-02      1     1     16\n",
      "2  100002  2017-12-03      1     1     31\n",
      "3  100003  2017-12-04      1     1      7\n",
      "4  100004  2017-12-05      1     1     20\n"
     ]
    }
   ],
   "source": [
    "# Import pandas\n",
    "import pandas as pd\n",
    "\n",
    "# Read train data\n",
    "#train = pd.read_csv('train.csv')\n",
    "train = pd.read_csv('../../data/demand_forecasting_train_1_month.csv')\n",
    "\n",
    "# Look at the shape of the data\n",
    "print('Train shape:', train.shape)\n",
    "\n",
    "# Look at the head() of the data\n",
    "print(train.head())"
   ]
  },
  {
   "cell_type": "markdown",
   "id": "33a8a248-22fb-4bbb-8ee1-082691ec4b78",
   "metadata": {},
   "source": [
    "## Explore test data\n",
    "\n",
    "- Having looked at the train data, let's explore the test data in the \"Store Item Demand Forecasting Challenge\". Remember, that the test dataset generally contains one column less than the train one.\n",
    "\n",
    "- This column, together with the output format, is presented in the sample submission file. Before making any progress in the competition, you should get familiar with the expected output.\n",
    "\n",
    "- That is why, let's look at the columns of the test dataset and compare it to the train columns. Additionally, let's explore the format of the sample submission. The train DataFrame is available in your workspace.\n",
    "\n",
    "### Instructions 1/2\n",
    "-    Read the test dataset.\n",
    "-    Print the column names of the train and test datasets."
   ]
  },
  {
   "cell_type": "code",
   "execution_count": 3,
   "id": "c25c55ba-80fe-4353-92f5-51f91cedc523",
   "metadata": {},
   "outputs": [
    {
     "name": "stdout",
     "output_type": "stream",
     "text": [
      "Train columns: ['id', 'date', 'store', 'item', 'sales']\n",
      "Test columns: ['id', 'date', 'store', 'item']\n"
     ]
    }
   ],
   "source": [
    "import pandas as pd\n",
    "\n",
    "# Read the test data\n",
    "#test = pd.read_csv('test.csv')\n",
    "test = pd.read_csv('../../data/demand_forecasting_test.csv')\n",
    "\n",
    "# Print train and test columns\n",
    "print('Train columns:', train.columns.tolist())\n",
    "print('Test columns:', test.columns.tolist())"
   ]
  },
  {
   "cell_type": "markdown",
   "id": "b8398695-316a-4321-81f0-dd323016917b",
   "metadata": {},
   "source": [
    "### Instructions 2/2\n",
    "-    Notice that test columns do not have the target \"sales\" column. Now, read the sample submission file.\n",
    "-    Look at the head of the submission file to get the output format."
   ]
  },
  {
   "cell_type": "code",
   "execution_count": 5,
   "id": "a2f241f3-e872-4603-b2c7-a61b0e9df0c2",
   "metadata": {},
   "outputs": [
    {
     "name": "stdout",
     "output_type": "stream",
     "text": [
      "Train columns: ['id', 'date', 'store', 'item', 'sales']\n",
      "Test columns: ['id', 'date', 'store', 'item']\n"
     ]
    }
   ],
   "source": [
    "import pandas as pd\n",
    "\n",
    "# Read the test data\n",
    "#test = pd.read_csv('test.csv')\n",
    "test = pd.read_csv('../../data/demand_forecasting_test.csv')\n",
    "\n",
    "# Print train and test columns\n",
    "print('Train columns:', train.columns.tolist())\n",
    "print('Test columns:', test.columns.tolist())\n",
    "\n",
    "# Read the sample submission file\n",
    "#sample_submission = pd.read_csv('sample_submission.csv')\n",
    "\n",
    "# Look at the head() of the sample submission\n",
    "#print(sample_submission.head())"
   ]
  },
  {
   "cell_type": "markdown",
   "id": "86772e5c-d6c8-47bf-96ee-3ee824dbc85e",
   "metadata": {},
   "source": [
    "## Train a simple model\n",
    "\n",
    "- As you determined, you are dealing with a regression problem. So, now you're ready to build a model for a subsequent submission. But now, instead of building the simplest Linear Regression model as in the slides, let's build an out-of-box Random Forest model.\n",
    "\n",
    "- You will use the RandomForestRegressor class from the scikit-learn library.\n",
    "\n",
    "- Your objective is to train a Random Forest model with default parameters on the \"store\" and \"item\" features.\n",
    "\n",
    "### Instructions\n",
    "-    Read the train data using pandas.\n",
    "-    Create a Random Forest object.\n",
    "-    Train the Random Forest model on the \"store\" and \"item\" features with \"sales\" as a target."
   ]
  },
  {
   "cell_type": "code",
   "execution_count": 6,
   "id": "b522ff00-3847-41d6-8835-1de321d50b9e",
   "metadata": {},
   "outputs": [
    {
     "data": {
      "text/html": [
       "<style>#sk-container-id-1 {color: black;}#sk-container-id-1 pre{padding: 0;}#sk-container-id-1 div.sk-toggleable {background-color: white;}#sk-container-id-1 label.sk-toggleable__label {cursor: pointer;display: block;width: 100%;margin-bottom: 0;padding: 0.3em;box-sizing: border-box;text-align: center;}#sk-container-id-1 label.sk-toggleable__label-arrow:before {content: \"▸\";float: left;margin-right: 0.25em;color: #696969;}#sk-container-id-1 label.sk-toggleable__label-arrow:hover:before {color: black;}#sk-container-id-1 div.sk-estimator:hover label.sk-toggleable__label-arrow:before {color: black;}#sk-container-id-1 div.sk-toggleable__content {max-height: 0;max-width: 0;overflow: hidden;text-align: left;background-color: #f0f8ff;}#sk-container-id-1 div.sk-toggleable__content pre {margin: 0.2em;color: black;border-radius: 0.25em;background-color: #f0f8ff;}#sk-container-id-1 input.sk-toggleable__control:checked~div.sk-toggleable__content {max-height: 200px;max-width: 100%;overflow: auto;}#sk-container-id-1 input.sk-toggleable__control:checked~label.sk-toggleable__label-arrow:before {content: \"▾\";}#sk-container-id-1 div.sk-estimator input.sk-toggleable__control:checked~label.sk-toggleable__label {background-color: #d4ebff;}#sk-container-id-1 div.sk-label input.sk-toggleable__control:checked~label.sk-toggleable__label {background-color: #d4ebff;}#sk-container-id-1 input.sk-hidden--visually {border: 0;clip: rect(1px 1px 1px 1px);clip: rect(1px, 1px, 1px, 1px);height: 1px;margin: -1px;overflow: hidden;padding: 0;position: absolute;width: 1px;}#sk-container-id-1 div.sk-estimator {font-family: monospace;background-color: #f0f8ff;border: 1px dotted black;border-radius: 0.25em;box-sizing: border-box;margin-bottom: 0.5em;}#sk-container-id-1 div.sk-estimator:hover {background-color: #d4ebff;}#sk-container-id-1 div.sk-parallel-item::after {content: \"\";width: 100%;border-bottom: 1px solid gray;flex-grow: 1;}#sk-container-id-1 div.sk-label:hover label.sk-toggleable__label {background-color: #d4ebff;}#sk-container-id-1 div.sk-serial::before {content: \"\";position: absolute;border-left: 1px solid gray;box-sizing: border-box;top: 0;bottom: 0;left: 50%;z-index: 0;}#sk-container-id-1 div.sk-serial {display: flex;flex-direction: column;align-items: center;background-color: white;padding-right: 0.2em;padding-left: 0.2em;position: relative;}#sk-container-id-1 div.sk-item {position: relative;z-index: 1;}#sk-container-id-1 div.sk-parallel {display: flex;align-items: stretch;justify-content: center;background-color: white;position: relative;}#sk-container-id-1 div.sk-item::before, #sk-container-id-1 div.sk-parallel-item::before {content: \"\";position: absolute;border-left: 1px solid gray;box-sizing: border-box;top: 0;bottom: 0;left: 50%;z-index: -1;}#sk-container-id-1 div.sk-parallel-item {display: flex;flex-direction: column;z-index: 1;position: relative;background-color: white;}#sk-container-id-1 div.sk-parallel-item:first-child::after {align-self: flex-end;width: 50%;}#sk-container-id-1 div.sk-parallel-item:last-child::after {align-self: flex-start;width: 50%;}#sk-container-id-1 div.sk-parallel-item:only-child::after {width: 0;}#sk-container-id-1 div.sk-dashed-wrapped {border: 1px dashed gray;margin: 0 0.4em 0.5em 0.4em;box-sizing: border-box;padding-bottom: 0.4em;background-color: white;}#sk-container-id-1 div.sk-label label {font-family: monospace;font-weight: bold;display: inline-block;line-height: 1.2em;}#sk-container-id-1 div.sk-label-container {text-align: center;}#sk-container-id-1 div.sk-container {/* jupyter's `normalize.less` sets `[hidden] { display: none; }` but bootstrap.min.css set `[hidden] { display: none !important; }` so we also need the `!important` here to be able to override the default hidden behavior on the sphinx rendered scikit-learn.org. See: https://github.com/scikit-learn/scikit-learn/issues/21755 */display: inline-block !important;position: relative;}#sk-container-id-1 div.sk-text-repr-fallback {display: none;}</style><div id=\"sk-container-id-1\" class=\"sk-top-container\"><div class=\"sk-text-repr-fallback\"><pre>RandomForestRegressor()</pre><b>In a Jupyter environment, please rerun this cell to show the HTML representation or trust the notebook. <br />On GitHub, the HTML representation is unable to render, please try loading this page with nbviewer.org.</b></div><div class=\"sk-container\" hidden><div class=\"sk-item\"><div class=\"sk-estimator sk-toggleable\"><input class=\"sk-toggleable__control sk-hidden--visually\" id=\"sk-estimator-id-1\" type=\"checkbox\" checked><label for=\"sk-estimator-id-1\" class=\"sk-toggleable__label sk-toggleable__label-arrow\">RandomForestRegressor</label><div class=\"sk-toggleable__content\"><pre>RandomForestRegressor()</pre></div></div></div></div></div>"
      ],
      "text/plain": [
       "RandomForestRegressor()"
      ]
     },
     "execution_count": 6,
     "metadata": {},
     "output_type": "execute_result"
    }
   ],
   "source": [
    "import pandas as pd\n",
    "from sklearn.ensemble import RandomForestRegressor\n",
    "\n",
    "# Read the train data\n",
    "#train = pd.read_csv('train.csv')\n",
    "train = pd.read_csv('../../data/demand_forecasting_train_1_month.csv')\n",
    "\n",
    "# Create a Random Forest object\n",
    "rf = RandomForestRegressor()\n",
    "\n",
    "# Train a model\n",
    "rf.fit(X=train[['store', 'item']], y=train['sales'])"
   ]
  },
  {
   "cell_type": "markdown",
   "id": "2c351309-0bc6-4b77-80ec-5286455041b1",
   "metadata": {},
   "source": [
    "## Prepare a submission\n",
    "\n",
    "- You've already built a model on the training data from the Kaggle Store Item Demand Forecasting Challenge. Now, it's time to make predictions on the test data and create a submission file in the specified format.\n",
    "\n",
    "- Your goal is to read the test data, make predictions, and save these in the format specified in the \"sample_submission.csv\" file. The rf object you created in the previous exercise is available in your workspace.\n",
    "\n",
    "- Note that starting from now and for the rest of the course, pandas library will be always imported for you and could be accessed as pd.\n",
    "\n",
    "### Instructions 1/2\n",
    "-    Read \"test.csv\" and \"sample_submission.csv\" files using pandas.\n",
    "-    Look at the head of the sample submission to determine the format."
   ]
  },
  {
   "cell_type": "code",
   "execution_count": 7,
   "id": "1a5d38f2-5121-4792-9314-8c9f7e12ef67",
   "metadata": {},
   "outputs": [],
   "source": [
    "# Read test and sample submission data\n",
    "#test = pd.read_csv(\"test.csv\")\n",
    "#sample_submission = pd.read_csv(\"sample_submission.csv\")\n",
    "\n",
    "# Show the head() of the sample_submission\n",
    "#print(sample_submission.head())"
   ]
  },
  {
   "cell_type": "markdown",
   "id": "f1a3a4dd-ff8e-4a31-9229-1f08f1ea119e",
   "metadata": {},
   "source": [
    "### Instructions 2/2\n",
    "-    Note that sample submission has id and sales columns. Now, make predictions on the test data using the rf model, that you fitted on the train data.\n",
    "-    Using the format given in the sample submission, write your results to a new file."
   ]
  },
  {
   "cell_type": "code",
   "execution_count": 8,
   "id": "4b77129d-62df-4d13-835c-3c73d8cc6fe6",
   "metadata": {},
   "outputs": [],
   "source": [
    "# Read test and sample submission data\n",
    "#test = pd.read_csv('test.csv')\n",
    "#sample_submission = pd.read_csv('sample_submission.csv')\n",
    "\n",
    "test = pd.read_csv('../../data/demand_forecasting_test.csv')\n",
    "\n",
    "# Show the head() of the sample_submission\n",
    "#print(sample_submission.head())\n",
    "\n",
    "# Get predictions for the test set\n",
    "test['sales'] = rf.predict(test[['store', 'item']])\n",
    "\n",
    "# Write test predictions using the sample_submission format\n",
    "test[[\"id\", \"sales\"]].to_csv('kaggle_submission.csv', index=False)"
   ]
  },
  {
   "cell_type": "markdown",
   "id": "15358257-d65e-48a5-ab37-dd92c9db8341",
   "metadata": {},
   "source": [
    "## Train XGBoost models\n",
    "\n",
    "- Every Machine Learning method could potentially overfit. You will see it on this example with XGBoost. Again, you are working with the Store Item Demand Forecasting Challenge. The train DataFrame is available in your workspace.\n",
    "\n",
    "- Firstly, let's train multiple XGBoost models with different sets of hyperparameters using XGBoost's learning API. The single hyperparameter you will change is:\n",
    "    -    max_depth - maximum depth of a tree. Increasing this value will make the model more complex and more likely to overfit.\n",
    "\n",
    "### Instructions 1/3\n",
    "-        Set the maximum depth to 2. Then hit Submit Answer button to train the first model."
   ]
  },
  {
   "cell_type": "code",
   "execution_count": 10,
   "id": "3e2c68e6-a47d-4145-b3dd-f6d9546908bc",
   "metadata": {},
   "outputs": [],
   "source": [
    "import xgboost as xgb\n",
    "\n",
    "# Create DMatrix on train data\n",
    "dtrain = xgb.DMatrix(data=train[['store', 'item']],\n",
    "                     label=train['sales'])\n",
    "\n",
    "# Define xgboost parameters\n",
    "params = {'objective': 'reg:linear',\n",
    "          'max_depth': 2,\n",
    "          'verbosity': 0}\n",
    "\n",
    "# Train xgboost model\n",
    "xg_depth_2 = xgb.train(params=params, dtrain=dtrain)"
   ]
  },
  {
   "cell_type": "markdown",
   "id": "a6c2145e-0d0e-4d44-83b7-c5aa869de206",
   "metadata": {},
   "source": [
    "### Instructions 2/3\n",
    "-    Now, set the maximum depth to 8. Then hit Submit Answer button to train the second model."
   ]
  },
  {
   "cell_type": "code",
   "execution_count": 11,
   "id": "eba9aa25-2dde-4d37-902a-3ec0816a5b7c",
   "metadata": {},
   "outputs": [],
   "source": [
    "import xgboost as xgb\n",
    "\n",
    "# Create DMatrix on train data\n",
    "dtrain = xgb.DMatrix(data=train[['store', 'item']],\n",
    "                     label=train['sales'])\n",
    "\n",
    "# Define xgboost parameters\n",
    "params = {'objective': 'reg:linear',\n",
    "          'max_depth': 8,\n",
    "          'verbosity': 0}\n",
    "\n",
    "# Train xgboost model\n",
    "xg_depth_8 = xgb.train(params=params, dtrain=dtrain)"
   ]
  },
  {
   "cell_type": "markdown",
   "id": "f9d78aac-2f23-4201-a50a-b8b520f2a1f5",
   "metadata": {},
   "source": [
    "### Instructions 3/3\n",
    "-    Finally, set the maximum depth to 15. Then hit Submit Answer button to train the third model."
   ]
  },
  {
   "cell_type": "code",
   "execution_count": 12,
   "id": "c3bb9d4b-de78-4d9b-a22b-128bc6ddf43d",
   "metadata": {},
   "outputs": [],
   "source": [
    "import xgboost as xgb\n",
    "\n",
    "# Create DMatrix on train data\n",
    "dtrain = xgb.DMatrix(data=train[['store', 'item']],\n",
    "                     label=train['sales'])\n",
    "\n",
    "# Define xgboost parameters\n",
    "params = {'objective': 'reg:linear',\n",
    "          'max_depth': 15,\n",
    "          'verbosity': 0}\n",
    "\n",
    "# Train xgboost model\n",
    "xg_depth_15 = xgb.train(params=params, dtrain=dtrain)"
   ]
  },
  {
   "cell_type": "markdown",
   "id": "b6bd9ca6-31ec-4c7f-8af2-5c4c6494d9fd",
   "metadata": {},
   "source": [
    "## Explore overfitting XGBoost\n",
    "\n",
    "- Having trained 3 XGBoost models with different maximum depths, you will now evaluate their quality. For this purpose, you will measure the quality of each model on both the train data and the test data. As you know by now, the train data is the data models have been trained on. The test data is the next month sales data that models have never seen before.\n",
    "\n",
    "- The goal of this exercise is to determine whether any of the models trained is overfitting. To measure the quality of the models you will use Mean Squared Error (MSE). It's available in sklearn.metrics as mean_squared_error() function that takes two arguments: true values and predicted values.\n",
    "\n",
    "- train and test DataFrames together with 3 models trained (xg_depth_2, xg_depth_8, xg_depth_15) are available in your workspace.\n",
    "\n",
    "### Instructions\n",
    "-    Make predictions for each model on both the train and test data.\n",
    "-    Calculate the MSE between the true values and your predictions for both the train and test data."
   ]
  },
  {
   "cell_type": "code",
   "execution_count": 13,
   "id": "93e5d868-fb08-4aab-9fd3-14e915335643",
   "metadata": {},
   "outputs": [
    {
     "name": "stdout",
     "output_type": "stream",
     "text": [
      "MSE Train: 329.507. MSE Test: 248.169\n",
      "MSE Train: 111.333. MSE Test: 29.938\n",
      "MSE Train: 82.468. MSE Test: 1.050\n"
     ]
    }
   ],
   "source": [
    "from sklearn.metrics import mean_squared_error\n",
    "\n",
    "dtrain = xgb.DMatrix(data=train[['store', 'item']])\n",
    "dtest = xgb.DMatrix(data=test[['store', 'item']])\n",
    "\n",
    "# For each of 3 trained models\n",
    "for model in [xg_depth_2, xg_depth_8, xg_depth_15]:\n",
    "    # Make predictions\n",
    "    train_pred = model.predict(dtrain)     \n",
    "    test_pred = model.predict(dtest)          \n",
    "    \n",
    "    # Calculate metrics\n",
    "    mse_train = mean_squared_error(train['sales'], train_pred)                  \n",
    "    mse_test = mean_squared_error(test['sales'], test_pred)\n",
    "    print('MSE Train: {:.3f}. MSE Test: {:.3f}'.format(mse_train, mse_test))"
   ]
  },
  {
   "cell_type": "code",
   "execution_count": null,
   "id": "13e56e3d-02e4-4ba8-8f9f-1ad4bd9d7542",
   "metadata": {},
   "outputs": [],
   "source": []
  }
 ],
 "metadata": {
  "kernelspec": {
   "display_name": "Python 3 (ipykernel)",
   "language": "python",
   "name": "python3"
  },
  "language_info": {
   "codemirror_mode": {
    "name": "ipython",
    "version": 3
   },
   "file_extension": ".py",
   "mimetype": "text/x-python",
   "name": "python",
   "nbconvert_exporter": "python",
   "pygments_lexer": "ipython3",
   "version": "3.11.6"
  }
 },
 "nbformat": 4,
 "nbformat_minor": 5
}
