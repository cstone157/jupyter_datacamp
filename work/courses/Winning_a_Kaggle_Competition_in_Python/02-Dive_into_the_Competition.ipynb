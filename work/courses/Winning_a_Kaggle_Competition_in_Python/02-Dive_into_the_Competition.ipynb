{
 "cells": [
  {
   "cell_type": "code",
   "execution_count": 2,
   "id": "78a506ee-86ea-4876-9d7d-9147c5adc312",
   "metadata": {},
   "outputs": [],
   "source": [
    "import numpy as np\n",
    "import pandas as pd\n",
    "\n",
    "import matplotlib.pyplot as plt"
   ]
  },
  {
   "cell_type": "markdown",
   "id": "2e890e0c-036a-4c10-b60b-09a1316fe798",
   "metadata": {},
   "source": [
    "## Define a competition metric\n",
    "\n",
    "- Competition metric is used by Kaggle to evaluate your submissions. Moreover, you also need to measure the performance of different models on a local validation set.\n",
    "\n",
    "- For now, your goal is to manually develop a couple of competition metrics in case if they are not available in sklearn.metrics.\n",
    "\n",
    "- In particular, you will define:\n",
    "    - Mean Squared Error (MSE) for the regression problem:  $$MSE = \\frac{1}{N}\\sum_{i=1}^{N}{(y_i - \\hat{y}_i)^2}$$\n",
    "    - Logarithmic Loss (LogLoss) for the binary classification problem:  $$LogLoss = -\\frac{1}{N}\\sum_{i=1}^{N}{(y_i\\ln p_i + (1-y_i)\\ln (1-p_i))}$$\n",
    "\n",
    "### Instructions 1/2\n",
    "-        Using numpy, define MSE metric. As a function input, you're given true y_true and predicted y_pred arrays."
   ]
  },
  {
   "cell_type": "code",
   "execution_count": 3,
   "id": "3a4c515b-e011-4a22-b06c-30a780a75975",
   "metadata": {},
   "outputs": [],
   "source": [
    "y_regression_true = \\\n",
    "    np.array([0.69646919, 0.28613933, 0.22685145, 0.55131477, 0.71946897,\n",
    "       0.42310646, 0.9807642 , 0.68482974, 0.4809319 , 0.39211752,\n",
    "       0.34317802, 0.72904971, 0.43857224, 0.0596779 , 0.39804426,\n",
    "       0.73799541, 0.18249173, 0.17545176, 0.53155137, 0.53182759,\n",
    "       0.63440096, 0.84943179, 0.72445532, 0.61102351, 0.72244338,\n",
    "       0.32295891, 0.36178866, 0.22826323, 0.29371405, 0.63097612,\n",
    "       0.09210494, 0.43370117, 0.43086276, 0.4936851 , 0.42583029,\n",
    "       0.31226122, 0.42635131, 0.89338916, 0.94416002, 0.50183668,\n",
    "       0.62395295, 0.1156184 , 0.31728548, 0.41482621, 0.86630916,\n",
    "       0.25045537, 0.48303426, 0.98555979, 0.51948512, 0.61289453,\n",
    "       0.12062867, 0.8263408 , 0.60306013, 0.54506801, 0.34276383,\n",
    "       0.30412079, 0.41702221, 0.68130077, 0.87545684, 0.51042234,\n",
    "       0.66931378, 0.58593655, 0.6249035 , 0.67468905, 0.84234244,\n",
    "       0.08319499, 0.76368284, 0.24366637, 0.19422296, 0.57245696,\n",
    "       0.09571252, 0.88532683, 0.62724897, 0.72341636, 0.01612921,\n",
    "       0.59443188, 0.55678519, 0.15895964, 0.15307052, 0.69552953,\n",
    "       0.31876643, 0.6919703 , 0.55438325, 0.38895057, 0.92513249,\n",
    "       0.84167   , 0.35739757, 0.04359146, 0.30476807, 0.39818568,\n",
    "       0.70495883, 0.99535848, 0.35591487, 0.76254781, 0.59317692,\n",
    "       0.6917018 , 0.15112745, 0.39887629, 0.2408559 , 0.34345601])\n",
    "\n",
    "y_regression_pred = \\\n",
    "    np.array([0.51312815, 0.66662455, 0.10590849, 0.13089495, 0.32198061,\n",
    "       0.66156434, 0.84650623, 0.55325734, 0.85445249, 0.38483781,\n",
    "       0.3167879 , 0.35426468, 0.17108183, 0.82911263, 0.33867085,\n",
    "       0.55237008, 0.57855147, 0.52153306, 0.00268806, 0.98834542,\n",
    "       0.90534158, 0.20763586, 0.29248941, 0.52001015, 0.90191137,\n",
    "       0.98363088, 0.25754206, 0.56435904, 0.80696868, 0.39437005,\n",
    "       0.73107304, 0.16106901, 0.60069857, 0.86586446, 0.98352161,\n",
    "       0.07936579, 0.42834727, 0.20454286, 0.45063649, 0.54776357,\n",
    "       0.09332671, 0.29686078, 0.92758424, 0.56900373, 0.457412  ,\n",
    "       0.75352599, 0.74186215, 0.04857903, 0.7086974 , 0.83924335,\n",
    "       0.16593788, 0.78099794, 0.28653662, 0.30646975, 0.66526147,\n",
    "       0.11139217, 0.66487245, 0.88785679, 0.69631127, 0.44032788,\n",
    "       0.43821438, 0.7650961 , 0.565642  , 0.08490416, 0.58267109,\n",
    "       0.8148437 , 0.33706638, 0.92757658, 0.750717  , 0.57406383,\n",
    "       0.75164399, 0.07914896, 0.85938908, 0.82150411, 0.90987166,\n",
    "       0.1286312 , 0.08178009, 0.13841557, 0.39937871, 0.42430686,\n",
    "       0.56221838, 0.12224355, 0.2013995 , 0.81164435, 0.46798757,\n",
    "       0.80793821, 0.00742638, 0.55159273, 0.93193215, 0.58217546,\n",
    "       0.20609573, 0.71775756, 0.37898585, 0.66838395, 0.02931972,\n",
    "       0.63590036, 0.03219793, 0.74478066, 0.472913  , 0.12175436])"
   ]
  },
  {
   "cell_type": "code",
   "execution_count": 4,
   "id": "9d82f4c7-1965-4fff-bfc6-799655401ca0",
   "metadata": {},
   "outputs": [
    {
     "name": "stdout",
     "output_type": "stream",
     "text": [
      "Sklearn MSE: 0.15418. \n",
      "Your MSE: 0.15418. \n"
     ]
    }
   ],
   "source": [
    "import numpy as np\n",
    "\n",
    "# Import MSE from sklearn\n",
    "from sklearn.metrics import mean_squared_error\n",
    "\n",
    "# Define your own MSE function\n",
    "def own_mse(y_true, y_pred):\n",
    "  \t# Raise differences to the power of 2\n",
    "    squares = np.power(y_true - y_pred, 2)\n",
    "    # Find mean over all observations\n",
    "    err = np.mean(squares)\n",
    "    return err\n",
    "\n",
    "print('Sklearn MSE: {:.5f}. '.format(mean_squared_error(y_regression_true, y_regression_pred)))\n",
    "print('Your MSE: {:.5f}. '.format(own_mse(y_regression_true, y_regression_pred)))"
   ]
  },
  {
   "cell_type": "markdown",
   "id": "66c2d76e-38cc-422c-a356-a26cb895daa4",
   "metadata": {},
   "source": [
    "### Instructions 2/2\n",
    "-    Using numpy, define LogLoss metric. As input, you're given true class y_true and probability predicted prob_pred."
   ]
  },
  {
   "cell_type": "code",
   "execution_count": 5,
   "id": "efa9d22e-7b48-4ec2-bfda-e0576687bd1f",
   "metadata": {},
   "outputs": [],
   "source": [
    "y_classification_true = np.array([1, 1, 0, 1, 0, 1, 1, 1, 0, 1, 1, 1, 1, 1, 0, 0, 1, 1, 1, 1, 1, 1,\n",
    "       1, 1, 1, 1, 1, 1, 1, 0, 0, 1, 1, 1, 0, 0, 1, 0, 0, 0, 0, 1, 0, 0,\n",
    "       0, 0, 1, 0, 1, 0, 1, 0, 0, 0, 0, 1, 1, 0, 1, 0, 1, 0, 1, 1, 1, 0,\n",
    "       1, 0, 0, 0, 0, 1, 1, 1, 0, 0, 0, 1, 1, 1, 0, 0, 0, 0, 1, 0, 1, 1,\n",
    "       0, 1, 0, 0, 1, 0, 0, 0, 1, 0, 0, 0])\n",
    "y_classification_pred = np.array([0.2082483 , 0.4433677 , 0.71560128, 0.41051979, 0.19100696,\n",
    "       0.96749431, 0.65075037, 0.86545985, 0.02524236, 0.26690581,\n",
    "       0.5020711 , 0.06744864, 0.99303326, 0.2364624 , 0.37429218,\n",
    "       0.21401191, 0.10544587, 0.23247979, 0.30061014, 0.63444227,\n",
    "       0.28123478, 0.36227676, 0.00594284, 0.36571913, 0.53388598,\n",
    "       0.16201584, 0.59743311, 0.29315247, 0.63205049, 0.02619661,\n",
    "       0.88759346, 0.01611863, 0.12695803, 0.77716246, 0.04589523,\n",
    "       0.71099869, 0.97104614, 0.87168293, 0.71016165, 0.95850974,\n",
    "       0.42981334, 0.87287891, 0.35595767, 0.92976365, 0.14877766,\n",
    "       0.94002901, 0.8327162 , 0.84605484, 0.12392301, 0.5964869 ,\n",
    "       0.01639248, 0.72118437, 0.00773751, 0.08482228, 0.22549841,\n",
    "       0.87512453, 0.36357632, 0.53995994, 0.56810321, 0.22546336,\n",
    "       0.57214677, 0.6609518 , 0.29824539, 0.41862686, 0.45308892,\n",
    "       0.93235066, 0.58749375, 0.94825237, 0.55603475, 0.50056142,\n",
    "       0.00353221, 0.48088904, 0.927455  , 0.19836569, 0.05209113,\n",
    "       0.40677889, 0.37239648, 0.85715306, 0.02661112, 0.92014923,\n",
    "       0.680903  , 0.90422599, 0.60752907, 0.81195331, 0.33554387,\n",
    "       0.34956623, 0.38987423, 0.75479708, 0.36929117, 0.24221981,\n",
    "       0.93766836, 0.90801108, 0.34879732, 0.63463807, 0.27384221,\n",
    "       0.20611513, 0.33633953, 0.32709989, 0.8822761 , 0.82230381])"
   ]
  },
  {
   "cell_type": "code",
   "execution_count": 6,
   "id": "288b4d78-caa2-4eca-9d80-2f7bfe123554",
   "metadata": {},
   "outputs": [
    {
     "name": "stdout",
     "output_type": "stream",
     "text": [
      "Sklearn LogLoss: 1.10801\n",
      "Your LogLoss: 1.10801\n"
     ]
    }
   ],
   "source": [
    "import numpy as np\n",
    "\n",
    "# Import log_loss from sklearn\n",
    "from sklearn.metrics import log_loss\n",
    "\n",
    "# Define your own LogLoss function\n",
    "def own_logloss(y_true, prob_pred):\n",
    "  \t# Find loss for each observation\n",
    "    terms = y_true * np.log(prob_pred) + (1 - y_true) * np.log(1 - prob_pred)\n",
    "    # Find mean over all observations\n",
    "    err = np.mean(terms) \n",
    "    return -err\n",
    "\n",
    "print('Sklearn LogLoss: {:.5f}'.format(log_loss(y_classification_true, y_classification_pred)))\n",
    "print('Your LogLoss: {:.5f}'.format(own_logloss(y_classification_true, y_classification_pred)))"
   ]
  },
  {
   "cell_type": "markdown",
   "id": "c03b8353-6225-42a9-b6f2-7440bf2057f7",
   "metadata": {},
   "source": [
    "## EDA statistics\n",
    "\n",
    "- As mentioned in the slides, you'll work with New York City taxi fare prediction data. You'll start with finding some basic statistics about the data. Then you'll move forward to plot some dependencies and generate hypotheses on them.\n",
    "\n",
    "- The train and test DataFrames are already available in your workspace.\n",
    "\n",
    "### Instructions 1/2\n",
    "    -    Find the shapes of the train and test data.\n",
    "    -    Look at the head of the train data."
   ]
  },
  {
   "cell_type": "code",
   "execution_count": 7,
   "id": "c68ff938-9c64-4ebf-8904-fe4a6a72cf34",
   "metadata": {},
   "outputs": [],
   "source": [
    "train = pd.read_csv(\"../../data/taxi_train_chapter_4.csv\")\n",
    "test = pd.read_csv(\"../../data/taxi_test_chapter_4.csv\")"
   ]
  },
  {
   "cell_type": "code",
   "execution_count": 23,
   "id": "0cd58f0a-3163-47ac-b16c-2b938f19a471",
   "metadata": {},
   "outputs": [
    {
     "name": "stdout",
     "output_type": "stream",
     "text": [
      "Train shape: (20000, 8)\n",
      "Test shape: (9914, 7)\n",
      "   id  fare_amount          pickup_datetime  pickup_longitude  \\\n",
      "0   0          4.5  2009-06-15 17:26:21 UTC        -73.844311   \n",
      "1   1         16.9  2010-01-05 16:52:16 UTC        -74.016048   \n",
      "2   2          5.7  2011-08-18 00:35:00 UTC        -73.982738   \n",
      "3   3          7.7  2012-04-21 04:30:42 UTC        -73.987130   \n",
      "4   4          5.3  2010-03-09 07:51:00 UTC        -73.968095   \n",
      "\n",
      "   pickup_latitude  dropoff_longitude  dropoff_latitude  passenger_count  \n",
      "0        40.721319         -73.841610         40.712278                1  \n",
      "1        40.711303         -73.979268         40.782004                1  \n",
      "2        40.761270         -73.991242         40.750562                2  \n",
      "3        40.733143         -73.991567         40.758092                1  \n",
      "4        40.768008         -73.956655         40.783762                1  \n"
     ]
    }
   ],
   "source": [
    "# Shapes of train and test data\n",
    "print('Train shape:', train.shape)\n",
    "print('Test shape:', test.shape)\n",
    "\n",
    "# Train head()\n",
    "print(train.head())"
   ]
  },
  {
   "cell_type": "markdown",
   "id": "27d823cd-dc42-4667-b96a-fd97c4350d0f",
   "metadata": {},
   "source": [
    "### Instructions 2/2\n",
    "    -    Describe the \"fare_amount\" column to get some statistics about the target variable.\n",
    "    -    Find the distribution of the \"passenger_count\" in the train data (using the value_counts() method)."
   ]
  },
  {
   "cell_type": "code",
   "execution_count": 24,
   "id": "338dbf2b-c13e-4104-9a05-8ee5be0d68e4",
   "metadata": {},
   "outputs": [
    {
     "name": "stdout",
     "output_type": "stream",
     "text": [
      "Train shape: (20000, 8)\n",
      "Test shape: (9914, 7)\n",
      "   id  fare_amount          pickup_datetime  pickup_longitude  \\\n",
      "0   0          4.5  2009-06-15 17:26:21 UTC        -73.844311   \n",
      "1   1         16.9  2010-01-05 16:52:16 UTC        -74.016048   \n",
      "2   2          5.7  2011-08-18 00:35:00 UTC        -73.982738   \n",
      "3   3          7.7  2012-04-21 04:30:42 UTC        -73.987130   \n",
      "4   4          5.3  2010-03-09 07:51:00 UTC        -73.968095   \n",
      "\n",
      "   pickup_latitude  dropoff_longitude  dropoff_latitude  passenger_count  \n",
      "0        40.721319         -73.841610         40.712278                1  \n",
      "1        40.711303         -73.979268         40.782004                1  \n",
      "2        40.761270         -73.991242         40.750562                2  \n",
      "3        40.733143         -73.991567         40.758092                1  \n",
      "4        40.768008         -73.956655         40.783762                1  \n",
      "count    20000.000000\n",
      "mean        11.303321\n",
      "std          9.541637\n",
      "min         -3.000000\n",
      "25%          6.000000\n",
      "50%          8.500000\n",
      "75%         12.500000\n",
      "max        180.000000\n",
      "Name: fare_amount, dtype: float64\n",
      "passenger_count\n",
      "1    13999\n",
      "2     2912\n",
      "5     1327\n",
      "3      860\n",
      "4      420\n",
      "6      407\n",
      "0       75\n",
      "Name: count, dtype: int64\n"
     ]
    }
   ],
   "source": [
    "# Shapes of train and test data\n",
    "print('Train shape:', train.shape)\n",
    "print('Test shape:', test.shape)\n",
    "\n",
    "# Train head()\n",
    "print(train.head())\n",
    "\n",
    "# Describe the target variable\n",
    "print(train.fare_amount.describe())\n",
    "\n",
    "# Train distribution of passengers within rides\n",
    "print(train.passenger_count.value_counts())"
   ]
  },
  {
   "cell_type": "markdown",
   "id": "f09d7d41-96eb-4f6e-b5e7-5488ef893a57",
   "metadata": {},
   "source": [
    "## EDA plots I\n",
    "\n",
    "- After generating a couple of basic statistics, it's time to come up with and validate some ideas about the data dependencies. Again, the train DataFrame from the taxi competition is already available in your workspace.\n",
    "\n",
    "- To begin with, let's make a scatterplot plotting the relationship between the fare amount and the distance of the ride. Intuitively, the longer the ride, the higher its price.\n",
    "\n",
    "- To get the distance in kilometers between two geo-coordinates, you will use Haversine distance. Its calculation is available with the haversine_distance() function defined for you. The function expects train DataFrame as input.\n",
    "\n",
    "### Instructions\n",
    "    -    Create a new variable \"distance_km\" as Haversine distance between pickup and dropoff points.\n",
    "    -    Plot a scatterplot with \"fare_amount\" on the x axis and \"distance_km\" on the y axis. To draw a scatterplot use matplotlib scatter() method.\n",
    "    -    Set a limit on a ride distance to be between 0 and 50 kilometers to avoid plotting outliers."
   ]
  },
  {
   "cell_type": "code",
   "execution_count": 25,
   "id": "c1376326-0794-4006-a299-9393bb904681",
   "metadata": {},
   "outputs": [],
   "source": [
    "def haversine_distance(train):\n",
    "    \n",
    "    data = [train]\n",
    "    lat1, long1, lat2, long2 = 'pickup_latitude', 'pickup_longitude', 'dropoff_latitude', 'dropoff_longitude'\n",
    "    \n",
    "    for i in data:\n",
    "        R = 6371  #radius of earth in kilometers\n",
    "        #R = 3959 #radius of earth in miles\n",
    "        phi1 = np.radians(i[lat1])\n",
    "        phi2 = np.radians(i[lat2])\n",
    "    \n",
    "        delta_phi = np.radians(i[lat2]-i[lat1])\n",
    "        delta_lambda = np.radians(i[long2]-i[long1])\n",
    "    \n",
    "        #a = sin²((φB - φA)/2) + cos φA . cos φB . sin²((λB - λA)/2)\n",
    "        a = np.sin(delta_phi / 2.0) ** 2 + np.cos(phi1) * np.cos(phi2) * np.sin(delta_lambda / 2.0) ** 2\n",
    "    \n",
    "        #c = 2 * atan2( √a, √(1−a) )\n",
    "        c = 2 * np.arctan2(np.sqrt(a), np.sqrt(1-a))\n",
    "    \n",
    "        #d = R*c\n",
    "        d = (R * c) #in kilometers\n",
    "        \n",
    "    return d"
   ]
  },
  {
   "cell_type": "code",
   "execution_count": 26,
   "id": "dcf5e4c2-f521-4b14-85a9-f6c2dc88251a",
   "metadata": {},
   "outputs": [
    {
     "data": {
      "image/png": "[encoded data removed]",
      "text/plain": [
       "<Figure size 640x480 with 1 Axes>"
      ]
     },
     "metadata": {},
     "output_type": "display_data"
    }
   ],
   "source": [
    "# Calculate the ride distance\n",
    "train['distance_km'] = haversine_distance(train)\n",
    "\n",
    "# Draw a scatterplot\n",
    "plt.scatter(x=train[\"fare_amount\"], y=train[\"distance_km\"], alpha=0.5)\n",
    "plt.xlabel('Fare amount')\n",
    "plt.ylabel('Distance, km')\n",
    "plt.title('Fare amount based on the distance')\n",
    "\n",
    "# Limit on the distance\n",
    "plt.ylim(0, 50)\n",
    "plt.show()"
   ]
  },
  {
   "cell_type": "markdown",
   "id": "223b27f4-3987-4815-95e2-4dc2385d963f",
   "metadata": {},
   "source": [
    "## EDA plots II\n",
    "\n",
    "- Another idea that comes to mind is that the price of a ride could change during the day.\n",
    "\n",
    "- Your goal is to plot the median fare amount for each hour of the day as a simple line plot. The hour feature is calculated for you. Don't worry if you do not know how to work with the date features. We will explore them in the chapter on Feature Engineering.\n",
    "\n",
    "### Instructions\n",
    "    -    Group train DataFrame by \"hour\" and calculate the median for the \"fare_amount\" column.\n",
    "    -    Using hour_price DataFrame obtained, plot a line with \"hour\" on the x axis and \"fare_amount\" on the y axis."
   ]
  },
  {
   "cell_type": "code",
   "execution_count": 27,
   "id": "6b6e0599-43e1-4c29-9850-c1cf1261a1ce",
   "metadata": {},
   "outputs": [
    {
     "data": {
      "image/png": "[encoded data removed]",
      "text/plain": [
       "<Figure size 640x480 with 1 Axes>"
      ]
     },
     "metadata": {},
     "output_type": "display_data"
    }
   ],
   "source": [
    "# Create hour feature\n",
    "train['pickup_datetime'] = pd.to_datetime(train.pickup_datetime)\n",
    "train['hour'] = train.pickup_datetime.dt.hour\n",
    "\n",
    "# Find median fare_amount for each hour\n",
    "hour_price = train.groupby('hour', as_index=False)['fare_amount'].median()\n",
    "\n",
    "# Plot the line plot\n",
    "plt.plot(hour_price[\"hour\"], hour_price[\"fare_amount\"], marker='o')\n",
    "plt.xlabel('Hour of the day')\n",
    "plt.ylabel('Median fare amount')\n",
    "plt.title('Fare amount based on day time')\n",
    "plt.xticks(range(24))\n",
    "plt.show()"
   ]
  },
  {
   "cell_type": "markdown",
   "id": "fd50dd91-bff0-476a-9b84-5e9e4f591775",
   "metadata": {},
   "source": [
    "## K-fold cross-validation\n",
    "\n",
    "- You will start by getting hands-on experience in the most commonly used K-fold cross-validation.\n",
    "\n",
    "- The data you'll be working with is from the \"Two sigma connect: rental listing inquiries\" Kaggle competition. The competition problem is a multi-class classification of the rental listings into 3 classes: low interest, medium interest and high interest. For faster performance, you will work with a subsample consisting of 1,000 observations.\n",
    "\n",
    "- You need to implement a K-fold validation strategy and look at the sizes of each fold obtained. train DataFrame is already available in your workspace.\n",
    "\n",
    "### Instructions\n",
    "    -    Create a KFold object with 3 folds.\n",
    "    -    Loop over each split using the kf object.\n",
    "    -    For each split select training and testing folds using train_index and test_index."
   ]
  },
  {
   "cell_type": "code",
   "execution_count": 33,
   "id": "46672eb7-01a4-4f97-aee0-0d203a09f231",
   "metadata": {},
   "outputs": [],
   "source": [
    "train = pd.read_json(\"../../data/exclude/rental_listing_train.json\")\n",
    "test = pd.read_json(\"../../data/exclude/rental_listing_test.json\")"
   ]
  },
  {
   "cell_type": "code",
   "execution_count": 34,
   "id": "75a26133-e025-47a7-9ed7-d572db7a8e42",
   "metadata": {},
   "outputs": [
    {
     "name": "stdout",
     "output_type": "stream",
     "text": [
      "Fold: 0\n",
      "CV train shape: (32901, 15)\n",
      "Medium interest listings in CV train: 7475\n",
      "\n",
      "Fold: 1\n",
      "CV train shape: (32901, 15)\n",
      "Medium interest listings in CV train: 7499\n",
      "\n",
      "Fold: 2\n",
      "CV train shape: (32902, 15)\n",
      "Medium interest listings in CV train: 7484\n",
      "\n"
     ]
    }
   ],
   "source": [
    "# Import KFold\n",
    "from sklearn.model_selection import KFold\n",
    "\n",
    "# Create a KFold object\n",
    "kf = KFold(n_splits=3, shuffle=True, random_state=123)\n",
    "\n",
    "# Loop through each split\n",
    "fold = 0\n",
    "for train_index, test_index in kf.split(train):\n",
    "    # Obtain training and testing folds\n",
    "    cv_train, cv_test = train.iloc[train_index], train.iloc[test_index]\n",
    "    print('Fold: {}'.format(fold))\n",
    "    print('CV train shape: {}'.format(cv_train.shape))\n",
    "    print('Medium interest listings in CV train: {}\\n'.format(sum(cv_train.interest_level == 'medium')))\n",
    "    fold += 1"
   ]
  },
  {
   "cell_type": "markdown",
   "id": "8b340bdf-d331-4b8b-ad02-4c125bd6c31b",
   "metadata": {},
   "source": [
    "## Stratified K-fold\n",
    "\n",
    "- As you've just noticed, you have a pretty different target variable distribution among the folds due to the random splits. It's not crucial for this particular competition, but could be an issue for the classification competitions with the highly imbalanced target variable.\n",
    "\n",
    "- To overcome this, let's implement the stratified K-fold strategy with the stratification on the target variable. train DataFrame is already available in your workspace.\n",
    "\n",
    "### Instructions\n",
    "    -    Create a StratifiedKFold object with 3 folds and shuffling.\n",
    "    -    Loop over each split using str_kf object. Stratification is based on the \"interest_level\" column.\n",
    "    -    For each split select training and testing folds using train_index and test_index."
   ]
  },
  {
   "cell_type": "code",
   "execution_count": 35,
   "id": "6326e59c-2e66-4e76-883c-96cb82cb8301",
   "metadata": {},
   "outputs": [
    {
     "name": "stdout",
     "output_type": "stream",
     "text": [
      "Fold: 0\n",
      "CV train shape: (32901, 15)\n",
      "Medium interest listings in CV train: 7486\n",
      "\n",
      "Fold: 1\n",
      "CV train shape: (32901, 15)\n",
      "Medium interest listings in CV train: 7486\n",
      "\n",
      "Fold: 2\n",
      "CV train shape: (32902, 15)\n",
      "Medium interest listings in CV train: 7486\n",
      "\n"
     ]
    }
   ],
   "source": [
    "# Import StratifiedKFold\n",
    "from sklearn.model_selection import StratifiedKFold\n",
    "\n",
    "# Create a StratifiedKFold object\n",
    "str_kf = StratifiedKFold(n_splits=3, shuffle=True, random_state=123)\n",
    "\n",
    "# Loop through each split\n",
    "fold = 0\n",
    "for train_index, test_index in str_kf.split(train, train['interest_level']):\n",
    "    # Obtain training and testing folds\n",
    "    cv_train, cv_test = train.iloc[train_index], train.iloc[test_index]\n",
    "    print('Fold: {}'.format(fold))\n",
    "    print('CV train shape: {}'.format(cv_train.shape))\n",
    "    print('Medium interest listings in CV train: {}\\n'.format(sum(cv_train.interest_level == 'medium')))\n",
    "    fold += 1"
   ]
  },
  {
   "cell_type": "markdown",
   "id": "5a413eb3-653d-4df3-8b47-de0777c6e4c5",
   "metadata": {},
   "source": [
    "## Time K-fold\n",
    "\n",
    "- Remember the \"Store Item Demand Forecasting Challenge\" where you are given store-item sales data, and have to predict future sales?\n",
    "\n",
    "- It's a competition with time series data. So, time K-fold cross-validation should be applied. Your goal is to create this cross-validation strategy and make sure that it works as expected.\n",
    "\n",
    "- Note that the train DataFrame is already available in your workspace, and that TimeSeriesSplit has been imported from sklearn.model_selection.\n",
    "\n",
    "### Instructions\n",
    "    -    Create a TimeSeriesSplit object with 3 splits.\n",
    "    -    Sort the train data by \"date\" column to apply time K-fold.\n",
    "    -    Loop over each time split using time_kfold object.\n",
    "    -    For each split select training and testing folds using train_index and test_index."
   ]
  },
  {
   "cell_type": "code",
   "execution_count": 38,
   "id": "bd724772-2501-413d-ba2a-d549b11d4dcd",
   "metadata": {},
   "outputs": [],
   "source": [
    "from sklearn.model_selection import TimeSeriesSplit\n",
    "\n",
    "train = pd.read_csv(\"../../data/demand_forecasting_train_1_month.csv\")\n",
    "test = pd.read_csv(\"../../data/demand_forecasting_test.csv\")"
   ]
  },
  {
   "cell_type": "code",
   "execution_count": 39,
   "id": "17d7641d-e0dc-41c2-b838-9f771b1cd57b",
   "metadata": {},
   "outputs": [
    {
     "name": "stdout",
     "output_type": "stream",
     "text": [
      "Fold : 0\n",
      "Train date range: from 2017-12-01 to 2017-12-08\n",
      "Test date range: from 2017-12-08 to 2017-12-16\n",
      "\n",
      "Fold : 1\n",
      "Train date range: from 2017-12-01 to 2017-12-16\n",
      "Test date range: from 2017-12-16 to 2017-12-24\n",
      "\n",
      "Fold : 2\n",
      "Train date range: from 2017-12-01 to 2017-12-24\n",
      "Test date range: from 2017-12-24 to 2017-12-31\n",
      "\n"
     ]
    }
   ],
   "source": [
    "# Create TimeSeriesSplit object\n",
    "time_kfold = TimeSeriesSplit(n_splits=3)\n",
    "\n",
    "# Sort train data by date\n",
    "train = train.sort_values(\"date\")\n",
    "\n",
    "# Iterate through each split\n",
    "fold = 0\n",
    "for train_index, test_index in time_kfold.split(train):\n",
    "    cv_train, cv_test = train.iloc[train_index], train.iloc[test_index]\n",
    "    \n",
    "    print('Fold :', fold)\n",
    "    print('Train date range: from {} to {}'.format(cv_train.date.min(), cv_train.date.max()))\n",
    "    print('Test date range: from {} to {}\\n'.format(cv_test.date.min(), cv_test.date.max()))\n",
    "    fold += 1"
   ]
  },
  {
   "cell_type": "markdown",
   "id": "2c675d2f-e106-467b-bff2-155e1a583943",
   "metadata": {},
   "source": [
    "## Overall validation score\n",
    "\n",
    "- Now it's time to get the actual model performance using cross-validation! How does our store item demand prediction model perform?\n",
    "\n",
    "- Your task is to take the Mean Squared Error (MSE) for each fold separately, and then combine these results into a single number.\n",
    "\n",
    "- For simplicity, you're given get_fold_mse() function that for each cross-validation split fits a Random Forest model and returns a list of MSE scores by fold. get_fold_mse() accepts two arguments: train and TimeSeriesSplit object.\n",
    "\n",
    "### Instructions 1/3\n",
    "    -    Create time 3-fold cross-validation.\n",
    "    -    Print the numpy mean of MSE scores by folds."
   ]
  },
  {
   "cell_type": "code",
   "execution_count": 43,
   "id": "0d0dd15d-d2d0-4888-93c1-649051347d96",
   "metadata": {},
   "outputs": [],
   "source": [
    "from sklearn.ensemble import RandomForestRegressor\n",
    "\n",
    "train = pd.read_csv(\"../../data/demand_forecasting_train_1_month.csv\")\n",
    "test = pd.read_csv(\"../../data/demand_forecasting_test.csv\")\n",
    "\n",
    "def get_fold_mse(train, kf):\n",
    "    mse_scores = []\n",
    "    \n",
    "    for train_index, test_index in kf.split(train):\n",
    "        fold_train, fold_test = train.loc[train_index], train.loc[test_index]\n",
    "\n",
    "        # Fit the data and make predictions\n",
    "        # Create a Random Forest object\n",
    "        rf = RandomForestRegressor(n_estimators=10, random_state=123)\n",
    "\n",
    "        # Train a model\n",
    "        rf.fit(X=fold_train[['store', 'item']], y=fold_train['sales'])\n",
    "\n",
    "        # Get predictions for the test set\n",
    "        pred = rf.predict(fold_test[['store', 'item']])\n",
    "    \n",
    "        fold_score = round(mean_squared_error(fold_test['sales'], pred), 5)\n",
    "        mse_scores.append(fold_score)\n",
    "        \n",
    "    return mse_scores"
   ]
  },
  {
   "cell_type": "code",
   "execution_count": 44,
   "id": "d922fa00-ebab-44c2-a4b9-3f77ee34baed",
   "metadata": {},
   "outputs": [
    {
     "name": "stdout",
     "output_type": "stream",
     "text": [
      "Mean validation MSE: 955.49186\n"
     ]
    }
   ],
   "source": [
    "from sklearn.model_selection import TimeSeriesSplit\n",
    "import numpy as np\n",
    "\n",
    "# Sort train data by date\n",
    "train = train.sort_values('date')\n",
    "\n",
    "# Initialize 3-fold time cross-validation\n",
    "kf = TimeSeriesSplit(n_splits=3)\n",
    "\n",
    "# Get MSE scores for each cross-validation split\n",
    "mse_scores = get_fold_mse(train, kf)\n",
    "\n",
    "print('Mean validation MSE: {:.5f}'.format(np.mean(mse_scores)))"
   ]
  },
  {
   "cell_type": "markdown",
   "id": "144a0c6d-0e69-4560-918c-60b8ac0763b7",
   "metadata": {},
   "source": [
    "### Instructions 2/3\n",
    "    -    Print the list of MSEs by fold."
   ]
  },
  {
   "cell_type": "code",
   "execution_count": 45,
   "id": "b579da81-1351-43af-b2bd-0dd2d8204523",
   "metadata": {},
   "outputs": [
    {
     "name": "stdout",
     "output_type": "stream",
     "text": [
      "Mean validation MSE: 955.49186\n",
      "MSE by fold: [890.30336, 961.65797, 1014.51424]\n"
     ]
    }
   ],
   "source": [
    "from sklearn.model_selection import TimeSeriesSplit\n",
    "import numpy as np\n",
    "\n",
    "# Sort train data by date\n",
    "train = train.sort_values('date')\n",
    "\n",
    "# Initialize 3-fold time cross-validation\n",
    "kf = TimeSeriesSplit(n_splits=3)\n",
    "\n",
    "# Get MSE scores for each cross-validation split\n",
    "mse_scores = get_fold_mse(train, kf)\n",
    "\n",
    "print('Mean validation MSE: {:.5f}'.format(np.mean(mse_scores)))\n",
    "print('MSE by fold: {}'.format(mse_scores))"
   ]
  },
  {
   "cell_type": "markdown",
   "id": "38ce9a21-c95d-4b60-8017-9214c4ecbb13",
   "metadata": {},
   "source": [
    "### Instructions 3/3\n",
    "    -    To calculate the overall score, find the sum of MSE mean and standard deviation."
   ]
  },
  {
   "cell_type": "code",
   "execution_count": 46,
   "id": "14936a35-1926-4e23-b552-122d812a22c2",
   "metadata": {},
   "outputs": [
    {
     "name": "stdout",
     "output_type": "stream",
     "text": [
      "Mean validation MSE: 955.49186\n",
      "MSE by fold: [890.30336, 961.65797, 1014.51424]\n",
      "Overall validation MSE: 1006.38784\n"
     ]
    }
   ],
   "source": [
    "from sklearn.model_selection import TimeSeriesSplit\n",
    "import numpy as np\n",
    "\n",
    "# Sort train data by date\n",
    "train = train.sort_values('date')\n",
    "\n",
    "# Initialize 3-fold time cross-validation\n",
    "kf = TimeSeriesSplit(n_splits=3)\n",
    "\n",
    "# Get MSE scores for each cross-validation split\n",
    "mse_scores = get_fold_mse(train, kf)\n",
    "\n",
    "print('Mean validation MSE: {:.5f}'.format(np.mean(mse_scores)))\n",
    "print('MSE by fold: {}'.format(mse_scores))\n",
    "print('Overall validation MSE: {:.5f}'.format(np.mean(mse_scores) + np.std(mse_scores)))"
   ]
  },
  {
   "cell_type": "code",
   "execution_count": null,
   "id": "5d1b069f-6647-4a98-8ab8-e35b52328385",
   "metadata": {},
   "outputs": [],
   "source": []
  }
 ],
 "metadata": {
  "kernelspec": {
   "display_name": "Python 3 (ipykernel)",
   "language": "python",
   "name": "python3"
  },
  "language_info": {
   "codemirror_mode": {
    "name": "ipython",
    "version": 3
   },
   "file_extension": ".py",
   "mimetype": "text/x-python",
   "name": "python",
   "nbconvert_exporter": "python",
   "pygments_lexer": "ipython3",
   "version": "3.11.6"
  }
 },
 "nbformat": 4,
 "nbformat_minor": 5
}
