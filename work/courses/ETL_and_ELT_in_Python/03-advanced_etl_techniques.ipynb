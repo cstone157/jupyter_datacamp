{
 "cells": [
  {
   "cell_type": "markdown",
   "id": "f84e5369-0b71-4e0b-b158-a7b976c00dcb",
   "metadata": {},
   "source": [
    "## Ingesting JSON data with pandas\n",
    "\n",
    "When developing a data pipeline, you may have to work with non-tabular data and data sources, such as APIs or JSON files. In this exercise, we'll practice extracting data from a JSON file using pandas.\n",
    "\n",
    "pandas has been imported as pd, and the JSON file you'll ingest is stored at the path \"testing_scores.json\".\n",
    "\n",
    "### Instructions\n",
    "    - Update the extract() function read a JSON file into a pandas DataFrame, orienting by records.\n",
    "    - Pass the path testing_scores.json to the extract() function, and store the output to a variable called raw_testing_scores.\n",
    "    - Print the head of the raw_testing_scores DataFrame."
   ]
  },
  {
   "cell_type": "code",
   "execution_count": null,
   "id": "8f0af632-2f55-480f-aa4e-ea6c67d9eb19",
   "metadata": {},
   "outputs": [],
   "source": [
    "def extract(file_path):\n",
    "  # Read the JSON file into a DataFrame\n",
    "  return pd.read_json(file_path, orient=\"records\")\n",
    "\n",
    "# Call the extract function with the appropriate path, assign to raw_testing_scores\n",
    "raw_testing_scores = extract(\"testing_scores.json\")\n",
    "\n",
    "# Output the head of the DataFrame\n",
    "print(raw_testing_scores.head())"
   ]
  },
  {
   "cell_type": "markdown",
   "id": "abc7718b-156f-4a55-bc8c-03ef5c347041",
   "metadata": {},
   "source": [
    "## Reading JSON data into memory\n",
    "\n",
    "When data is stored in JSON format, it's not always easy to load into a DataFrame. This is the case for the \"nested_testing_scores.json\" file. Here, the data will have to be manually manipulated before it can be stored in a DataFrame.\n",
    "\n",
    "To help get you started, pandas has been loaded into the workspace as pd.\n",
    "\n",
    "### Instructions 1/2\n",
    "    - Use pandas to read a JSON file into a DataFrame.\n",
    "    - Pass the \"nested_scores.json\" file path to the extract() function."
   ]
  },
  {
   "cell_type": "code",
   "execution_count": null,
   "id": "c34c14c6-15a9-4cc9-96e9-121209b83169",
   "metadata": {},
   "outputs": [],
   "source": [
    "def extract(file_path):\n",
    "  \t# Read the JSON file into a DataFrame, orient by index\n",
    "\treturn pd.read_json(file_path, orient=\"index\")\n",
    "\n",
    "# Call the extract function, pass in the desired file_path\n",
    "raw_testing_scores = extract(\"nested_scores.json\")\n",
    "print(raw_testing_scores.head())"
   ]
  },
  {
   "cell_type": "markdown",
   "id": "a8390ccc-a9b3-4b1e-b028-5711eca49b3f",
   "metadata": {},
   "source": [
    "### Instructions 2/2\n",
    "    - Import the json library.\n",
    "    - Use the json library to load the \"nested_scores.json\" file into memory."
   ]
  },
  {
   "cell_type": "code",
   "execution_count": null,
   "id": "65bc0493-6e7d-481a-bf7e-41df061dca76",
   "metadata": {},
   "outputs": [],
   "source": [
    "# Import the json library\n",
    "import json\n",
    "\n",
    "def extract(file_path):\n",
    "    with open(file_path, \"r\") as json_file:\n",
    "        # Load the data from the JSON file\n",
    "        raw_data = json.load(json_file)\n",
    "    return raw_data\n",
    "\n",
    "raw_testing_scores = extract(\"nested_scores.json\")\n",
    "\n",
    "# Print the raw_testing_scores\n",
    "print(raw_testing_scores)"
   ]
  },
  {
   "cell_type": "markdown",
   "id": "6331d65a-dbe5-43d7-90e0-eeae1be1ad9c",
   "metadata": {},
   "source": [
    "## Iterating over dictionaries\n",
    "\n",
    "Once JSON data is loaded into a dictionary, you can leverage Python's built-in tools to iterate over its keys and values.\n",
    "\n",
    "The \"nested_school_scores.json\" file has been read into a dictionary stored in the raw_testing_scores variable, which takes the following form:\n",
    "\n",
    "<code>{\n",
    "    \"01M539\": {\n",
    "        \"street_address\": \"111 Columbia Street\",\n",
    "        \"city\": \"Manhattan\",\n",
    "        \"scores\": {\n",
    "              \"math\": 657,\n",
    "              \"reading\": 601,\n",
    "              \"writing\": 601\n",
    "        }\n",
    "  }, ...\n",
    "}</code>\n",
    "\n",
    "### Instructions 1/3\n",
    "    - Loop through the keys of the raw_testing_scores dictionary.\n",
    "    - Add each key to the raw_testing_scores_keys list."
   ]
  },
  {
   "cell_type": "code",
   "execution_count": null,
   "id": "3dbd03b7-99d5-44d7-8031-d99bb28eb026",
   "metadata": {},
   "outputs": [],
   "source": [
    "raw_testing_scores_keys = []\n",
    "\n",
    "# Iterate through the keys of the raw_testing_scores dictionary\n",
    "for school_id in raw_testing_scores.keys():\n",
    "  \t# Append each key to the raw_testing_scores_keys list\n",
    "\traw_testing_scores_keys.append(school_id)\n",
    "    \n",
    "print(raw_testing_scores_keys[0:3])"
   ]
  },
  {
   "cell_type": "markdown",
   "id": "96cb2c98-46c3-4b63-ba9b-6d363b3f670e",
   "metadata": {},
   "source": [
    "### Instructions 2/3\n",
    "    - Now, loop through a list of values from the raw_testing_scores dictionary."
   ]
  },
  {
   "cell_type": "code",
   "execution_count": null,
   "id": "2afbc6e8-161f-49a6-8dbe-40f91f426e1f",
   "metadata": {},
   "outputs": [],
   "source": [
    "raw_testing_scores_values = []\n",
    "\n",
    "# Iterate through the values of the raw_testing_scores dictionary\n",
    "for school_info in raw_testing_scores.values():\n",
    "\traw_testing_scores_values.append(school_info)\n",
    "    \n",
    "print(raw_testing_scores_values[0:3])"
   ]
  },
  {
   "cell_type": "markdown",
   "id": "9784d3a6-a8da-4b77-a06d-ba1ed178a883",
   "metadata": {},
   "source": [
    "### Instructions 3/3\n",
    "    - Finally, loop through both the keys and values of the raw_testing_scores dictionary, simultaneously."
   ]
  },
  {
   "cell_type": "code",
   "execution_count": null,
   "id": "5ace2338-c9ef-466d-8188-ec48e8d41ae9",
   "metadata": {},
   "outputs": [],
   "source": [
    "raw_testing_scores_keys = []\n",
    "raw_testing_scores_values = []\n",
    "\n",
    "# Iterate through the values of the raw_testing_scores dictionary\n",
    "for school_id, school_info in raw_testing_scores.items():\n",
    "\traw_testing_scores_keys.append(school_id)\n",
    "\traw_testing_scores_values.append(school_info)\n",
    "\n",
    "print(raw_testing_scores_keys[0:3])\n",
    "print(raw_testing_scores_values[0:3])"
   ]
  },
  {
   "cell_type": "markdown",
   "id": "5e222848-630d-4eaf-bcb8-b41d2efd912e",
   "metadata": {},
   "source": [
    "## Parsing data from dictionaries\n",
    "\n",
    "When JSON data is loaded into memory, the resulting dictionary can be complicated. Key-value pairs may contain another dictionary, such are called nested dictionaries. These nested dictionaries are frequently encountered when dealing with APIs or other JSON data. In this exercise, you will practice extracting data from nested dictionaries and handling missing values.\n",
    "\n",
    "The dictionary below is stored in the school variable. Good luck!\n",
    "\n",
    "<code>{\n",
    "    \"street_address\": \"111 Columbia Street\",\n",
    "    \"city\": \"Manhattan\",\n",
    "    \"scores\": {\n",
    "        \"math\": 657,\n",
    "        \"reading\": 601\n",
    "    }\n",
    "}</code>\n",
    "\n",
    "### Instructions\n",
    "    - Parse the value stored at the \"street_address\" key from the school dictionary.\n",
    "    - Parse the value stored at the \"scores\" key from the school dictionary.\n",
    "    - Parse the values stored at the \"math\", \"reading\", and \"writing\" keys from the scores dictionary, and set the default value to 0."
   ]
  },
  {
   "cell_type": "code",
   "execution_count": null,
   "id": "962ee7fd-7b95-4342-bace-ffec7bb4d715",
   "metadata": {},
   "outputs": [],
   "source": [
    "# Parse the street_address from the dictionary\n",
    "street_address = school.get(\"street_address\")\n",
    "\n",
    "# Parse the scores dictionary\n",
    "scores = school.get(\"scores\")\n",
    "\n",
    "# Try to parse the math, reading and writing values from scores\n",
    "math_score = scores.get(\"math\", 0)\n",
    "reading_score = scores.get(\"reading\", 0)\n",
    "writing_score = scores.get(\"writing\", 0)\n",
    "\n",
    "print(f\"Street Address: {street_address}\")\n",
    "print(f\"Math: {math_score}, Reading: {reading_score}, Writing: {writing_score}\")"
   ]
  },
  {
   "cell_type": "markdown",
   "id": "b0e200b2-eceb-4915-a251-2ac78048a5ad",
   "metadata": {},
   "source": [
    "## Transforming JSON data\n",
    "\n",
    "Chances are, when reading data from JSON format into a dictionary, you'll probably have to apply some level of manual transformation to the data before it can be stored in a DataFrame. This is common when working with nested dictionaries, which you'll have the opportunity to explore in this exercise.\n",
    "\n",
    "The \"nested_school_scores.json\" file has been read into a dictionary available in the raw_testing_scores variable, which takes the following form:\n",
    "\n",
    "<code>{\n",
    "    \"01M539\": {\n",
    "        \"street_address\": \"111 Columbia Street\",\n",
    "        \"city\": \"Manhattan\",\n",
    "        \"scores\": {\n",
    "              \"math\": 657,\n",
    "              \"reading\": 601,\n",
    "              \"writing\": 601\n",
    "        }\n",
    "  }, ...\n",
    "}</code>\n",
    "\n",
    "### Instructions\n",
    "    - Loop through both the keys and values of the raw_testing_scores dictionary.\n",
    "    - Extract the \"street_address\" from each dictionary nested in the raw_testing_scores object."
   ]
  },
  {
   "cell_type": "code",
   "execution_count": null,
   "id": "daabf008-5e31-45fd-b9e2-7f0a4fc30bcc",
   "metadata": {},
   "outputs": [],
   "source": []
  }
 ],
 "metadata": {
  "kernelspec": {
   "display_name": "Python 3 (ipykernel)",
   "language": "python",
   "name": "python3"
  },
  "language_info": {
   "codemirror_mode": {
    "name": "ipython",
    "version": 3
   },
   "file_extension": ".py",
   "mimetype": "text/x-python",
   "name": "python",
   "nbconvert_exporter": "python",
   "pygments_lexer": "ipython3",
   "version": "3.11.6"
  }
 },
 "nbformat": 4,
 "nbformat_minor": 5
}
