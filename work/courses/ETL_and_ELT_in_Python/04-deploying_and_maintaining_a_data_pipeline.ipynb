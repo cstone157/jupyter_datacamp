{
 "cells": [
  {
   "cell_type": "markdown",
   "id": "019e22b7-9dc7-48c0-8656-b0e84bc884d9",
   "metadata": {},
   "source": [
    "## Validating a data pipeline at \"checkpoints\"\n",
    "\n",
    "In this exercise, you'll be working with a data pipeline that extracts tax data from a CSV file, creates a new column, filters out rows based on average taxable income, and persists the data to a parquet file.\n",
    "\n",
    "pandas has been loaded as pd, and the extract(), transform(), and load() functions have already been defined. You'll use these functions to validate the data pipeline at various checkpoints throughout its execution.\n",
    "\n",
    "### Instructions 1/3\n",
    "    - Print the shape of the raw_tax_data and clean_tax_data DataFrames and observe the difference in dimensions."
   ]
  },
  {
   "cell_type": "code",
   "execution_count": null,
   "id": "778a7ec5-ad89-4e8d-a169-bf77850fd2c7",
   "metadata": {},
   "outputs": [],
   "source": [
    "# Extract and transform tax_data\n",
    "raw_tax_data = extract(\"raw_tax_data.csv\")\n",
    "clean_tax_data = transform(raw_tax_data)\n",
    "\n",
    "# Check the shape of the raw_tax_data DataFrame, compare to the clean_tax_data DataFrame\n",
    "print(f\"Shape of raw_tax_data: {raw_tax_data.shape}\")\n",
    "print(f\"Shape of clean_tax_data: {clean_tax_data.shape}\")"
   ]
  },
  {
   "cell_type": "markdown",
   "id": "005e44a7-321f-4857-ab39-255b41746279",
   "metadata": {},
   "source": [
    "### Instructions 2/3\n",
    "    - Read the DataFrame from the path \"clean_tax_data.parquet\" into a DataFrame called to_validate, observe the .head() of each."
   ]
  },
  {
   "cell_type": "code",
   "execution_count": null,
   "id": "6af5f870-5bf8-452b-90c8-c5adc67d8d62",
   "metadata": {},
   "outputs": [],
   "source": [
    "raw_tax_data = extract(\"raw_tax_data.csv\")\n",
    "clean_tax_data = transform(raw_tax_data)\n",
    "load(clean_tax_data, \"clean_tax_data.parquet\")\n",
    "\n",
    "print(f\"Shape of raw_tax_data: {raw_tax_data.shape}\")\n",
    "print(f\"Shape of clean_tax_data: {clean_tax_data.shape}\")\n",
    "\n",
    "# Read in the loaded data, observe the head of each\n",
    "to_validate = pd.read_parquet(\"clean_tax_data.parquet\")\n",
    "print(clean_tax_data.head(3))\n",
    "print(to_validate.head(3))"
   ]
  },
  {
   "cell_type": "markdown",
   "id": "d738a5ea-c400-4102-8a4f-518c72e7f711",
   "metadata": {},
   "source": [
    "### Instructions 3/3\n",
    "    - Check that the to_validate and clean_tax_data DataFrames are equal."
   ]
  },
  {
   "cell_type": "code",
   "execution_count": null,
   "id": "24b3956f-35c9-4963-91c1-86e0d365abd2",
   "metadata": {},
   "outputs": [],
   "source": [
    "raw_tax_data = extract(\"raw_tax_data.csv\")\n",
    "clean_tax_data = transform(raw_tax_data)\n",
    "load(clean_tax_data, \"clean_tax_data.parquet\")\n",
    "\n",
    "print(f\"Shape of raw_tax_data: {raw_tax_data.shape}\")\n",
    "print(f\"Shape of clean_tax_data: {clean_tax_data.shape}\")\n",
    "\n",
    "to_validate = pd.read_parquet(\"clean_tax_data.parquet\")\n",
    "print(clean_tax_data.head(3))\n",
    "print(to_validate.head(3))\n",
    "\n",
    "# Check that the DataFrames are equal\n",
    "print(to_validate.equals(clean_tax_data))"
   ]
  },
  {
   "cell_type": "markdown",
   "id": "75b1fa14-4b98-42c5-85dc-c2e583638b03",
   "metadata": {},
   "source": [
    "## Testing a data pipeline end-to-end\n",
    "\n",
    "In this exercise, you'll be working with the same data pipeline as before, which extracts, transforms, and loads tax data. You'll practice testing this pipeline end-to-end to ensure the solution can be run multiple times, without duplicating the transformed data in the parquet file.\n",
    "\n",
    "pandas has been loaded as pd, and the extract(), transform(), and load() functions have already been defined.\n",
    "\n",
    "### Instructions\n",
    "    - Run the ETL pipeline three times, using a for-loop.\n",
    "    - Print the shape of the clean_tax_data in each iteration of the pipeline run.\n",
    "    - Read the DataFrame stored in the \"clean_tax_data.parquet\" file into the to_validate variable.\n",
    "    - Output the shape of the to_validate DataFrame, comparing it to the shape of clean_tax_rate to ensure data wasn't duplicated upon each pipeline run."
   ]
  },
  {
   "cell_type": "code",
   "execution_count": null,
   "id": "357b0f71-dd31-45a0-8db3-a4234b515667",
   "metadata": {},
   "outputs": [],
   "source": [
    "# Trigger the data pipeline to run three times\n",
    "for attempt in range(0, 3):\n",
    "\tprint(f\"Attempt: {attempt}\")\n",
    "\traw_tax_data = extract(\"raw_tax_data.csv\")\n",
    "\tclean_tax_data = transform(raw_tax_data)\n",
    "\tload(clean_tax_data, \"clean_tax_data.parquet\")\n",
    "\t\n",
    "\t# Print the shape of the cleaned_tax_data DataFrame\n",
    "\tprint(f\"Shape of clean_tax_data: {clean_tax_data.shape}\")\n",
    "    \n",
    "# Read in the loaded data, check the shape\n",
    "to_validate = pd.read_parquet(\"clean_tax_data.parquet\")\n",
    "print(f\"Final shape of cleaned data: {to_validate.shape}\")"
   ]
  },
  {
   "cell_type": "markdown",
   "id": "00a4b461-ceb7-475d-a269-2c9c8483f8c0",
   "metadata": {},
   "source": [
    "## Validating a data pipeline with assert\n",
    "\n",
    "To build unit tests for data pipelines, it's important to get familiar with the assert keyword, and the isinstance() function. In this exercise, you'll practice using these two tools to validate components of a data pipeline.\n",
    "\n",
    "The functions extract() and transform() have been made available for you, along with pandas, which has been imported as pd. Both extract() and transform() return a DataFrame. Good luck!\n",
    "\n",
    "### Instructions 1/4\n",
    "    - Assert that the clean_tax_data DataFrame has five columns."
   ]
  },
  {
   "cell_type": "code",
   "execution_count": null,
   "id": "da60518f-0d7c-4c8d-81f3-95cd11b5c887",
   "metadata": {},
   "outputs": [],
   "source": [
    "raw_tax_data = extract(\"raw_tax_data.csv\")\n",
    "clean_tax_data = transform(raw_tax_data)\n",
    "\n",
    "# Validate the number of columns in the DataFrame\n",
    "assert len(clean_tax_data.columns) == 5"
   ]
  },
  {
   "cell_type": "markdown",
   "id": "c0ae7ff8-4b21-4240-b798-905b8040ed2c",
   "metadata": {},
   "source": [
    "### Instructions 2/4\n",
    "    - Validate that the object stored in the clean_tax_data variable is an instance of a pd.DataFrame."
   ]
  },
  {
   "cell_type": "code",
   "execution_count": null,
   "id": "39bb644b-57e0-4e77-a06a-48198f4e977f",
   "metadata": {},
   "outputs": [],
   "source": [
    "raw_tax_data = extract(\"raw_tax_data.csv\")\n",
    "clean_tax_data = transform(raw_tax_data)\n",
    "\n",
    "# Determine if the clean_tax_data DataFrames take type pd.DataFrame\n",
    "isinstance(clean_tax_data, pd.DataFrame)"
   ]
  },
  {
   "cell_type": "markdown",
   "id": "4371439d-3d5c-45da-945f-f4e9734ba5ab",
   "metadata": {},
   "source": [
    "### Instructions 3/4\n",
    "    - Assert that the value stored in the clean_tax_data variable is an instance of pd.DataFrame."
   ]
  },
  {
   "cell_type": "code",
   "execution_count": null,
   "id": "12009283-2f32-4d27-800b-8adf964ed794",
   "metadata": {},
   "outputs": [],
   "source": [
    "raw_tax_data = extract(\"raw_tax_data.csv\")\n",
    "clean_tax_data = transform(raw_tax_data)\n",
    "\n",
    "# Assert that clean_tax_data is an instance of a pd.DataFrame\n",
    "assert isinstance(clean_tax_data, pd.DataFrame)"
   ]
  },
  {
   "cell_type": "markdown",
   "id": "23ba3aeb-e5b0-4101-9ec7-33bc383f6d94",
   "metadata": {},
   "source": [
    "### Instructions 4/4\n",
    "    - Try asserting that clean_tax_data takes the type str, and observe the exception."
   ]
  },
  {
   "cell_type": "code",
   "execution_count": null,
   "id": "81874e6d-db04-4a5e-8ffe-833ce5784b24",
   "metadata": {},
   "outputs": [],
   "source": [
    "raw_tax_data = extract(\"raw_tax_data.csv\")\n",
    "clean_tax_data = transform(raw_tax_data)\n",
    "\n",
    "# Assert that clean_tax_data takes is an instance of a string\n",
    "try:\n",
    "\tassert isinstance(clean_tax_data, str)\n",
    "except Exception as e:\n",
    "\tprint(e)"
   ]
  },
  {
   "cell_type": "markdown",
   "id": "656050cc-f27c-44fc-9668-bb5fe01a84ee",
   "metadata": {},
   "source": [
    "## Writing unit tests with pytest\n",
    "\n",
    "In this exercise, you'll practice writing a unit test to validate a data pipeline. You'll use assert and other tools to build the tests, and determine if the data pipeline performs as it should.\n",
    "\n",
    "The functions extract() and transform() have been made available for you, along with pandas, which has been imported as pd. You'll be testing the transform() function, which is shown below.\n",
    "\n",
    "<code>def transform(raw_data):\n",
    "    raw_data[\"average_taxable_income\"] = raw_data[\"total_taxable_income\"] / raw_data[\"number_of_firms\"]\n",
    "    clean_data = raw_data.loc[raw_data[\"average_taxable_income\"] > 100, :]\n",
    "    clean_data.set_index(\"industry_name\", inplace=True)\n",
    "    return clean_data</code>\n",
    "\n",
    "### Instructions\n",
    "    - Import the pytest library.\n",
    "    - Assert that the value stored in the clean_tax_data variables is an instance of a pd.DataFrame.\n",
    "    - Validate that the number of columns in the clean_tax_data DataFrame is greater than the columns stored in the raw_tax_data DataFrame."
   ]
  },
  {
   "cell_type": "code",
   "execution_count": null,
   "id": "0936f2f3-de11-437d-a60f-77b292608f9a",
   "metadata": {},
   "outputs": [],
   "source": [
    "import pytest\n",
    "\n",
    "def test_transformed_data():\n",
    "    raw_tax_data = extract(\"raw_tax_data.csv\")\n",
    "    clean_tax_data = transform(raw_tax_data)\n",
    "    \n",
    "    # Assert that the transform function returns a pd.DataFrame\n",
    "    assert isinstance(clean_tax_data, pd.DataFrame)\n",
    "    \n",
    "    # Assert that the clean_tax_data DataFrame has more columns than the raw_tax_data DataFrame\n",
    "    assert len(clean_tax_data.columns) > len(raw_tax_data.columns)"
   ]
  },
  {
   "cell_type": "markdown",
   "id": "c9720da1-ecea-461b-b4c3-38a0e7a77f93",
   "metadata": {},
   "source": [
    "## Creating fixtures with pytest\n",
    "\n",
    "When building unit tests, you'll sometimes have to do a bit of setup before testing can begin. Doing this setup within a unit test can make the tests more difficult to read, and may have to be repeated several times. Luckily, pytest offers a way to solve these problems, with fixtures.\n",
    "\n",
    "For this exercise, pandas has been imported as pd, and the extract() function shown below is available for use!\n",
    "\n",
    "<code>def extract(file_path):\n",
    "    return pd.read_csv(file_path)</code>\n",
    "\n",
    "### Instructions\n",
    "    - Import the pytest library.\n",
    "    - Create a pytest fixture called raw_tax_data.\n",
    "    - Return the raw_data DataFrame."
   ]
  },
  {
   "cell_type": "code",
   "execution_count": null,
   "id": "66a9b8e7-54d8-4ae2-a4a9-0148c7ed748c",
   "metadata": {},
   "outputs": [],
   "source": [
    "# Import pytest\n",
    "import pytest\n",
    "\n",
    "# Create a pytest fixture\n",
    "@pytest.fixture()\n",
    "def raw_tax_data():\n",
    "\traw_data = extract(\"raw_tax_data.csv\")\n",
    "    \n",
    "    # Return the raw DataFrame\n",
    "\treturn raw_data"
   ]
  },
  {
   "cell_type": "markdown",
   "id": "703ec210-3ebf-477b-b779-049199336e1e",
   "metadata": {},
   "source": [
    "## Unit testing a data pipeline with fixtures\n",
    "\n",
    "You've learned in the last video that unit testing can help to instill more trust in your data pipeline, and can even help to catch bugs throughout development. In this exercise, you'll practice writing both fixtures and unit tests, using the pytest library and assert.\n",
    "\n",
    "The transform function that you'll be building unit tests around is shown below for reference. pandas has been imported as pd, and the pytest() library is loaded and ready for use.\n",
    "\n",
    "<code>def transform(raw_data):\n",
    "    raw_data[\"tax_rate\"] = raw_data[\"total_taxes_paid\"] / raw_data[\"total_taxable_income\"]\n",
    "    raw_data.set_index(\"industry_name\", inplace=True)\n",
    "    return raw_data</code>\n",
    "\n",
    "### Instructions 1/2\n",
    "    - Create a pytest fixture called clean_tax_data.\n",
    "    - Apply the transform() function to the raw_data dataset, and save the result in the clean_data variable and return it."
   ]
  },
  {
   "cell_type": "code",
   "execution_count": null,
   "id": "6ea0f7cb-70ef-4a78-9779-bb5da3ec556b",
   "metadata": {},
   "outputs": [],
   "source": [
    "# Define a pytest fixture\n",
    "@pytest.fixture()\n",
    "def clean_tax_data():\n",
    "    raw_data = pd.read_csv(\"raw_tax_data.csv\")\n",
    "    \n",
    "    # Transform the raw_data, store in clean_data DataFrame, and return the variable\n",
    "    clean_data = transform(raw_data)\n",
    "    return clean_data"
   ]
  },
  {
   "cell_type": "markdown",
   "id": "41da3427-efe7-45e7-92d7-17ada2ac5658",
   "metadata": {},
   "source": [
    "### Instructions 2/2\n",
    "    - Create a unit test using the fixture defined from the last step.\n",
    "    - Complete the statement that ensures all values in the \"tax_rate\" column lie within the values 0 and 1."
   ]
  },
  {
   "cell_type": "code",
   "execution_count": null,
   "id": "82a7330e-7895-414e-985d-994771727c0f",
   "metadata": {},
   "outputs": [],
   "source": [
    "@pytest.fixture()\n",
    "def clean_tax_data():\n",
    "    raw_data = pd.read_csv(\"raw_tax_data.csv\")\n",
    "    clean_data = transform(raw_data)\n",
    "    return clean_data\n",
    "\n",
    "# Pass the fixture to the function\n",
    "def test_tax_rate(clean_tax_data):\n",
    "    # Assert values are within the expected range\n",
    "    assert clean_tax_data[\"tax_rate\"].max() <= 1 and clean_tax_data[\"tax_rate\"].min() >= 0"
   ]
  },
  {
   "cell_type": "markdown",
   "id": "5550a0f9-e458-4640-b7da-245502d3dc83",
   "metadata": {},
   "source": [
    "## Data pipeline architecture patterns\n",
    "\n",
    "When building data pipelines, it's best to separate the files where functions are being defined from where they are being run.\n",
    "\n",
    "In this exercise, you'll practice importing components of a pipeline into memory before using these functions to run the pipeline end-to-end. The project takes the following format, where pipeline_utils stores the extract(), transform(), and load() functions that will be used run the pipeline.\n",
    "\n",
    "<code>> ls\n",
    " etl_pipeline.py\n",
    " pipeline_utils.py</code>\n",
    "\n",
    "### Instructions\n",
    "    - Import the extract, transform, and load functions from the pipeline_utils module.\n",
    "    - Use the functions imported to run the data pipeline end-to-end."
   ]
  },
  {
   "cell_type": "code",
   "execution_count": null,
   "id": "b7735bbe-ec51-4a63-830c-b34bc78eabc9",
   "metadata": {},
   "outputs": [],
   "source": [
    "# Import the extract, transform, and load functions from pipeline_utils\n",
    "from pipeline_utils import extract, transform, load\n",
    "\n",
    "# Run the pipeline end to end by extracting, transforming and loading the data\n",
    "raw_tax_data = extract(\"raw_tax_data.csv\")\n",
    "clean_tax_data = transform(raw_tax_data)\n",
    "load(clean_tax_data, \"clean_tax_data.parquet\")"
   ]
  },
  {
   "cell_type": "markdown",
   "id": "dccdefff-ff0f-4cc5-afba-0ccb78346211",
   "metadata": {},
   "source": [
    "## Running a data pipeline end-to-end\n",
    "\n",
    "It's important to monitor the performance of a pipeline when running in production. Earlier in the course, you explored tools such as exception handling and logging. In this last exercise, we'll practice running a pipeline end-to-end, while monitoring for exceptions and logging performance.\n",
    "\n",
    "### Instructions 1/3\n",
    "    - From the pipeline_utils.py file, import the extract(), transform(), and load() functions."
   ]
  },
  {
   "cell_type": "code",
   "execution_count": null,
   "id": "0542beca-5bba-4e5d-8758-2049294b36e6",
   "metadata": {},
   "outputs": [],
   "source": [
    "import logging\n",
    "\n",
    "# Import extract, transform, and load functions from pipeline_utils\n",
    "from pipeline_utils import extract, transform, load"
   ]
  },
  {
   "cell_type": "markdown",
   "id": "0e989d62-4388-4cfb-b4ee-4815c1f207b4",
   "metadata": {},
   "source": [
    "### Instructions 2/3\n",
    "    - Use the extract(), transform(), and load() functions to run the tax data pipeline end-to-end, within the try-except block."
   ]
  },
  {
   "cell_type": "code",
   "execution_count": null,
   "id": "278e8026-9a04-422a-9518-80062bdff7c9",
   "metadata": {},
   "outputs": [],
   "source": [
    "import logging\n",
    "from pipeline_utils import extract, transform, load\n",
    "\n",
    "logging.basicConfig(format='%(levelname)s: %(message)s', level=logging.DEBUG)\n",
    "\n",
    "try:\n",
    "  \t# Extract, transform, and load the tax data\n",
    "\traw_tax_data = extract(\"raw_tax_data.csv\")\n",
    "\tclean_tax_data = transform(raw_tax_data)\n",
    "\tload(clean_tax_data, \"clean_tax_data.parquet\")\n",
    "    \n",
    "except Exception as e:\n",
    "\tpass"
   ]
  },
  {
   "cell_type": "markdown",
   "id": "3d3be239-434a-46a5-a89a-52e976cb0f32",
   "metadata": {},
   "source": [
    "### Instructions 3/3\n",
    "    - Use the logging module to log an info-level success message if the pipeline executes as expected.\n",
    "    - Create an error-level log if an exception occurs within the pipeline. Be sure to include the name of the exception in the log output."
   ]
  },
  {
   "cell_type": "code",
   "execution_count": null,
   "id": "4876ca15-616a-4d6c-974f-fc8104823e5d",
   "metadata": {},
   "outputs": [],
   "source": [
    "import logging\n",
    "from pipeline_utils import extract, transform, load\n",
    "\n",
    "logging.basicConfig(format='%(levelname)s: %(message)s', level=logging.DEBUG)\n",
    "\n",
    "try:\n",
    "\traw_tax_data = extract(\"raw_tax_data.csv\")\n",
    "\tclean_tax_data = transform(raw_tax_data)\n",
    "\tload(clean_tax_data, \"clean_tax_data.parquet\")\n",
    "    \n",
    "\tlogging.info(\"Successfully extracted, transformed and loaded data.\")  # Log a success message.\n",
    "    \n",
    "except Exception as e:\n",
    "\tlogging.error(f\"Pipeline failed with error: {e}\")  # Log failure message"
   ]
  }
 ],
 "metadata": {
  "kernelspec": {
   "display_name": "Python 3 (ipykernel)",
   "language": "python",
   "name": "python3"
  },
  "language_info": {
   "codemirror_mode": {
    "name": "ipython",
    "version": 3
   },
   "file_extension": ".py",
   "mimetype": "text/x-python",
   "name": "python",
   "nbconvert_exporter": "python",
   "pygments_lexer": "ipython3",
   "version": "3.11.6"
  }
 },
 "nbformat": 4,
 "nbformat_minor": 5
}
