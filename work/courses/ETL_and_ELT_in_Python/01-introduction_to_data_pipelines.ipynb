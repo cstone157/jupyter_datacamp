{
 "cells": [
  {
   "cell_type": "markdown",
   "id": "45312a1c-f676-4526-be97-fc6bc1ff60a8",
   "metadata": {},
   "source": [
    "## Running an ETL Pipeline\n",
    "\n",
    "Ready to run your first ETL pipeline? Let's get to it!\n",
    "\n",
    "Here, the functions extract(), transform(), and load() have been defined for you. To run this data ETL pipeline, you're going to execute each of these functions. If you're curious, take a peek at what the extract() function looks like.\n",
    "\n",
    "<code>\n",
    "def extract(file_name):\n",
    "    print(f\"Extracting data from {file_name}\")\n",
    "    return pd.read_csv(file_name)\n",
    "</code>\n",
    "\n",
    "### Instructions\n",
    "    - Use the extract() function to extract data from the raw_data.csv file.\n",
    "    - Transform the extracted_data DataFrame using the transform() function.\n",
    "    - Finally, load the transformed_data DataFrame to the cleaned_data SQL table."
   ]
  },
  {
   "cell_type": "code",
   "execution_count": 1,
   "id": "bd227769-5bd0-4245-bc79-a6ae5c18a39d",
   "metadata": {},
   "outputs": [],
   "source": [
    "def extract(file_name):\n",
    "    print(f\"Extracting data from {file_name}.\")\n",
    "    return pd.read_csv(file_name)\n",
    "\n",
    "def transform(data_frame):\n",
    "    print(f\"Transforming {data_frame.shape[0]} rows of raw data.\")\n",
    "\n",
    "def load(data_frame, target_table):\n",
    "  print(f\"Loading cleaned data to {target_table}.\")"
   ]
  },
  {
   "cell_type": "code",
   "execution_count": null,
   "id": "97f847f8-6904-4449-b2c8-03a53a519fbc",
   "metadata": {},
   "outputs": [],
   "source": [
    "# Extract data from the raw_data.csv file\n",
    "extracted_data = extract(file_name=\"raw_data.csv\")\n",
    "\n",
    "# Transform the extracted_data\n",
    "transformed_data = transform(data_frame=extracted_data)\n",
    "\n",
    "# Load the transformed_data to cleaned_data.csv\n",
    "load(data_frame=transformed_data, target_table=\"cleaned_data\")"
   ]
  },
  {
   "cell_type": "markdown",
   "id": "3490bf3c-ff8e-47ca-aaf4-0de20a140055",
   "metadata": {},
   "source": [
    "## ELT in Action\n",
    "\n",
    "Feeling pretty good about running ETL processes? Well, it's time to give ELT pipelines a try. Like before, the extract(), load(), and transform() functions have been defined for you; all you'll have to worry about is running these functions. Good luck!\n",
    "\n",
    "### Instructions\n",
    "    - Use the appropriate ETL function to extract data from the raw_data.csv file.\n",
    "    - Load the raw_data DataFrame into the raw_data table in a data warehouse.\n",
    "    - Call the transform() function to transform the data in the raw_data source table."
   ]
  },
  {
   "cell_type": "code",
   "execution_count": 2,
   "id": "5f1f4d97-d713-4d04-b1ff-0100adfe8bdd",
   "metadata": {},
   "outputs": [],
   "source": [
    "def extract(file_name):\n",
    "    print(f\"Extracting data from {file_name}.\")\n",
    "    return pd.read_csv(file_name)\n",
    "\n",
    "def load(data_frame, table_name):\n",
    "    print(f\"Loading cleaned data to {table_name}.\")\n",
    "    data_warehouse.load_table(data_frame, table_name)\n",
    "\n",
    "def transform(source_table, target_table):\n",
    "    data_warehouse.run_sql(f\"\"\"\n",
    "        CREATE TABLE {target_table} AS\n",
    "            SELECT\n",
    "                CONCAT(\"Product ID: \", product_id),\n",
    "            quantity * price\n",
    "        FROM {source_table};\n",
    "    \"\"\")"
   ]
  },
  {
   "cell_type": "code",
   "execution_count": null,
   "id": "e0469f5a-a06e-465d-b74c-9a8210d0935b",
   "metadata": {
    "scrolled": true
   },
   "outputs": [],
   "source": [
    "# Extract data from the raw_data.csv file\n",
    "raw_data = extract(file_name=\"raw_data.csv\")\n",
    "\n",
    "# Load the extracted_data to the raw_data table\n",
    "load(data_frame=raw_data, table_name=\"raw_data\")\n",
    "\n",
    "# Transform data in the raw_data table\n",
    "transform(\n",
    "  source_table=\"raw_data\", \n",
    "  target_table=\"cleaned_data\"\n",
    ")"
   ]
  },
  {
   "cell_type": "code",
   "execution_count": null,
   "id": "9010ae3c-bd50-4ecc-9f7d-e5429fc52491",
   "metadata": {},
   "outputs": [],
   "source": []
  }
 ],
 "metadata": {
  "kernelspec": {
   "display_name": "Python 3 (ipykernel)",
   "language": "python",
   "name": "python3"
  },
  "language_info": {
   "codemirror_mode": {
    "name": "ipython",
    "version": 3
   },
   "file_extension": ".py",
   "mimetype": "text/x-python",
   "name": "python",
   "nbconvert_exporter": "python",
   "pygments_lexer": "ipython3",
   "version": "3.11.6"
  }
 },
 "nbformat": 4,
 "nbformat_minor": 5
}
