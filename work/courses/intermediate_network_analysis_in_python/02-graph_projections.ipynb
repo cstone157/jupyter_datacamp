{
 "cells": [
  {
   "cell_type": "markdown",
   "id": "b7c46ebe-b751-409e-9bcb-898efc038c8a",
   "metadata": {},
   "source": [
    "## Reading graphs\n",
    "\n",
    "In this exercise, before you compute projections, you're going to practice working with one of NetworkX's disk I/O functions, read_edgelist(). read_edgelist() creates a graph from the edgelist file. The graph that you'll be working with is a bipartite graph describing the American Revolution. There are two node partitions - 'people' and 'clubs', and edges denote a person being a member of a club.\n",
    "\n",
    "### Instructions\n",
    "    - Import networkx as nx.\n",
    "    - Use nx.read_edgelist() to read in 'american-revolution.edgelist'.\n",
    "    - In the dataset, 'clubs' do not have a . symbol in their node name. Use this information to assign nodes to 'clubs' or 'people' partitions. Remember the 'bipartite' keyword!\n",
    "    - Print the edges of the graph."
   ]
  },
  {
   "cell_type": "code",
   "execution_count": null,
   "id": "eba24c90-add0-4078-81d0-19f8b987a37b",
   "metadata": {},
   "outputs": [],
   "source": [
    "# Import networkx\n",
    "import networkx as nx\n",
    "\n",
    "# Read in the data: g\n",
    "G = nx.read_edgelist('american-revolution.edgelist')\n",
    "\n",
    "# Assign nodes to 'clubs' or 'people' partitions\n",
    "for n, d in G.nodes(data=True):\n",
    "    if '.' in n:\n",
    "        G.nodes[n]['bipartite'] = 'people'\n",
    "    else:\n",
    "        G.nodes[n]['bipartite'] = 'clubs'\n",
    "        \n",
    "# Print the edges of the graph\n",
    "print(G.edges())\n"
   ]
  },
  {
   "cell_type": "markdown",
   "id": "a8bfab1f-cb9f-414a-98b9-0c94ce39dea5",
   "metadata": {},
   "source": [
    "## Computing projection\n",
    "\n",
    "It's now time to try your hand at computing the projection of a bipartite graph to the nodes on one of its partitions. This will help you gain practice with converting between a bipartite version of a graph and its unipartite projections. Remember from the video that the \"projection\" of a graph onto one of its partitions is the connectivity of the nodes in that partition conditioned on connections to nodes on the other partition. Made more concretely, you can think of the \"connectivity of customers based on shared purchases\".\n",
    "\n",
    "To help you get started, here's a hint on list comprehensions. List comprehensions can include conditions, so if you want to filter a graph for a certain type of node, you can do: <code>[n for n, d in G.nodes(data=True) if d['key'] == 'some_value']</code>.\n",
    "\n",
    "### Instructions\n",
    "    - Prepare the people nodelist using a list comprehension. If the 'bipartite' keyword of a node n in G equals 'people', then that node should be part of the nodelist.\n",
    "    - Prepare the clubs nodelist by iterating over the nodes of G, including the metadata. Here, note that you have to check if the 'bipartite' keyword of the metadata dictionary d equals 'clubs'. Note: This is simply an alternate way of creating the nodelist. You do not have to iterate over the metadata - you can follow the same approach you used to create the people nodelist, simply checking for 'clubs' instead. We're asking you to use the other approach here so you get practice with both.\n",
    "    - Use nx.bipartite.projected_graph() to compute the people and clubs projections. Store the results as peopleG and clubsG.\n",
    "        - This function takes in two arguments: The graph G, and the nodelist."
   ]
  },
  {
   "cell_type": "code",
   "execution_count": null,
   "id": "c60e134b-f95a-4a2d-ac16-6ebd6e3032b2",
   "metadata": {},
   "outputs": [],
   "source": [
    "# Prepare the nodelists needed for computing projections: people, clubs\n",
    "# This exercise shows you two ways to do it, one with `data=True` and one without.\n",
    "people = [n for n in G.nodes() if G.nodes[n]['bipartite'] == 'people']\n",
    "clubs = [n for n, d in G.nodes(data=True) if d['bipartite'] == 'clubs']\n",
    "\n",
    "# Compute the people and clubs projections: peopleG, clubsG\n",
    "peopleG = nx.bipartite.projected_graph(G, people)\n",
    "clubsG = nx.bipartite.projected_graph(G, clubs)"
   ]
  },
  {
   "cell_type": "markdown",
   "id": "d9982725-c85c-4c0c-8565-6fc0722ba65a",
   "metadata": {},
   "source": [
    "## Plot degree centrality on projection\n",
    "\n",
    "Here, you're going to compare the degree centrality distributions for each of the following graphs: the original graph G, the people graph projection peopleG, and the clubs graph projection clubsG. This will reinforce the difference in degree centrality score computation between bipartite and unipartite versions of degree centrality metrics. The node lists people and clubs have been pre-loaded for you.\n",
    "\n",
    "Recall from the video that the bipartite functions require passing in a container of nodes, but will return all degree centrality scores nonetheless. Remember also that degree centrality scores are stored as dictionaries (mapping node to score).\n",
    "\n",
    "### Instructions\n",
    "    - Plot the degree centrality distribution of the original graph G, using the degree_centrality function from the bipartite module: nx.bipartite.degree_centrality(). It takes in two arguments: The graph G, and one of the node lists (people or clubs).\n",
    "    - Plot the degree centrality distribution of the peopleG graph, using the normal/non-bipartite degree_centrality function from NetworkX: nx.degree_centrality().\n",
    "    - Plot the degree centrality distribution of the clubsG graph, using the normal/non-bipartite degree_centrality function from NetworkX: nx.degree_centrality()."
   ]
  },
  {
   "cell_type": "code",
   "execution_count": null,
   "id": "1aafbb8c-e889-4d31-8a50-77878ba61c08",
   "metadata": {},
   "outputs": [],
   "source": [
    "import matplotlib.pyplot as plt\n",
    "\n",
    "# Plot the degree centrality distribution of both node partitions from the original graph\n",
    "plt.figure() \n",
    "original_dc = nx.bipartite.degree_centrality(G, people)  \n",
    "# Remember that you can cast a dictionary values to a list.\n",
    "plt.hist(original_dc.values(), alpha=0.5)\n",
    "plt.yscale('log')\n",
    "plt.title('Bipartite degree centrality')\n",
    "plt.show()\n",
    "\n",
    "\n",
    "# Plot the degree centrality distribution of the peopleG graph\n",
    "plt.figure()\n",
    "people_dc = nx.degree_centrality(peopleG)\n",
    "plt.hist(people_dc.values())\n",
    "plt.yscale('log')\n",
    "plt.title('Degree centrality of people partition')\n",
    "plt.show()\n",
    "\n",
    "# Plot the degree centrality distribution of the clubsG graph\n",
    "plt.figure()\n",
    "clubs_dc = nx.degree_centrality(clubsG)\n",
    "plt.hist(clubs_dc.values())\n",
    "plt.yscale('log')\n",
    "plt.title('Degree centrality of clubs partition')\n",
    "plt.show()"
   ]
  },
  {
   "cell_type": "markdown",
   "id": "6f51211c-8e1b-46e1-bf46-081b2ed4ea4b",
   "metadata": {},
   "source": [
    "## Compute adjacency matrix\n",
    "\n",
    "Now, you'll get some practice using matrices and sparse matrix multiplication to compute projections! In this exercise, you'll use the matrix multiplication operator @ that was introduced in Python 3.5.\n",
    "\n",
    "You'll continue working with the American Revolution graph. The two partitions of interest here are 'people' and 'clubs'.\n",
    "\n",
    "### Instructions\n",
    "    - Get the list of people and list of clubs from the graph G using the get_nodes_from_partition() function that you defined in the previous chapter. This function accepts two parameters: A graph, and a partition.\n",
    "    - Compute the biadjacency matrix using nx.bipartite.biadjacency_matrix(), setting the row_order parameter to people_nodes and the column_order parameter to clubs_nodes. Remember to also pass in the graph G.\n",
    "    - Compute the user-user projection by multiplying (with the @ operator) the biadjacency matrix bi_matrix by its transposition, bi_matrix.T."
   ]
  },
  {
   "cell_type": "code",
   "execution_count": null,
   "id": "8efb0afe-5ed4-4675-b541-eafa8589b34d",
   "metadata": {},
   "outputs": [],
   "source": [
    "# Get the list of people and list of clubs from the graph: people_nodes, clubs_nodes\n",
    "people_nodes = get_nodes_from_partition(G, 'people')\n",
    "clubs_nodes = get_nodes_from_partition(G, 'clubs')\n",
    "\n",
    "# Compute the biadjacency matrix: bi_matrix\n",
    "bi_matrix = nx.bipartite.biadjacency_matrix(G, row_order=people_nodes, column_order=clubs_nodes)\n",
    "\n",
    "# Compute the user-user projection: user_matrix\n",
    "user_matrix = bi_matrix @ bi_matrix.T\n",
    "\n",
    "print(user_matrix)"
   ]
  },
  {
   "cell_type": "markdown",
   "id": "f029ffea-3725-4e1a-a610-d024c9b19bd9",
   "metadata": {},
   "source": [
    "## Find shared membership: Transposition\n",
    "\n",
    "As you may have observed, you lose the metadata from a graph when you go to a sparse matrix representation. You're now going to learn how to impute the metadata back so that you can learn more about shared membership.\n",
    "\n",
    "The user_matrix you computed in the previous exercise has been preloaded into your workspace.\n",
    "\n",
    "Here, the np.where() function will prove useful. This is what it does: given an array, say, a = [1, 5, 9, 5], if you want to get the indices where the value is equal to 5, you can use <code>idxs = np.where(a == 5)</code>. This gives you back an array in a tuple, (array([1, 3]),). To access those indices, you would want to index into the tuple as idxs[0].\n",
    "\n",
    "### Instructions\n",
    "    - Find out the names of people who were members of the most number of clubs.\n",
    "        - To do this, first compute diag by using the .diagonal() method on user_matrix.\n",
    "        - Then, using np.where(), select those indices where diag equals diag.max(). This returns a tuple: Make sure you access the relevant indices by indexing into the tuple with [0].\n",
    "        - Iterate over indices and print out each index i of people_nodes using the provided print() function.\n",
    "    - Set the diagonal to zero and convert it to a \"coordinate matrix format\". This code has been provided for you in the answer.\n",
    "    - Find pairs of users who shared membership in the most number of clubs.\n",
    "        - Using np.where(), access the indices where users_coo.data equals users_coo.data.max().\n",
    "        - Iterate over indices2 and print out each index idx of people_node's users_coo.row and users_coo.col."
   ]
  },
  {
   "cell_type": "code",
   "execution_count": null,
   "id": "7755341f-5211-428d-ae4a-4a1bae59fb23",
   "metadata": {},
   "outputs": [],
   "source": [
    "import numpy as np\n",
    "\n",
    "# Find out the names of people who were members of the most number of clubs\n",
    "diag = user_matrix.diagonal()\n",
    "indices = np.where(diag == diag.max())[0]  \n",
    "print('Number of clubs: {0}'.format(diag.max()))\n",
    "print('People with the most number of memberships:')\n",
    "for i in indices:\n",
    "    print('- {0}'.format(people_nodes[i]))\n",
    "\n",
    "# Set the diagonal to zero and convert it to a coordinate matrix format\n",
    "user_matrix.setdiag(0)\n",
    "users_coo = user_matrix.tocoo()\n",
    "\n",
    "# Find pairs of users who shared membership in the most number of clubs\n",
    "indices2 = np.where(users_coo.data == users_coo.data.max())[0]\n",
    "print('People with most number of shared memberships:')\n",
    "for idx in indices2:\n",
    "    print('- {0}, {1}'.format(people_nodes[users_coo.row[idx]], people_nodes[users_coo.col[idx]]))  "
   ]
  }
 ],
 "metadata": {
  "kernelspec": {
   "display_name": "Python 3 (ipykernel)",
   "language": "python",
   "name": "python3"
  },
  "language_info": {
   "codemirror_mode": {
    "name": "ipython",
    "version": 3
   },
   "file_extension": ".py",
   "mimetype": "text/x-python",
   "name": "python",
   "nbconvert_exporter": "python",
   "pygments_lexer": "ipython3",
   "version": "3.11.6"
  }
 },
 "nbformat": 4,
 "nbformat_minor": 5
}
