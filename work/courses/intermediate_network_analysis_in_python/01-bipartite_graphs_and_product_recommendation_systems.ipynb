{
 "cells": [
  {
   "cell_type": "markdown",
   "id": "ae1c2ac9-fa2a-4fbd-b94b-2ad0c2165abc",
   "metadata": {},
   "source": [
    "## Plotting using nxviz\n",
    "\n",
    "Now, you're going to practice creating a circos plot using nxviz! As a bonus preview of what's coming up in the next video, there's a little segment on the bipartite keyword in this exercise!\n",
    "\n",
    "Here, the degree centrality score of each node has been added to their metadata dictionary for you using the following code:\n",
    "\n",
    "<code>\n",
    "# Add the degree centrality score of each node to their metadata dictionary\n",
    "dcs = nx.degree_centrality(G)\n",
    "for n in G.nodes():\n",
    "    G.nodes[n]['centrality'] = dcs[n]\n",
    "</code>\n",
    "\n",
    "If you want a refresher on degree centrality, check out the relevant video from the previous course - it is a way of computing the importance of a node!\n",
    "\n",
    "nxviz has been pre-imported for you as nv, along with NetworkX (as nx) and matplotlib.pyplot (as plt).\n",
    "\n",
    "### Instructions\n",
    "    - Plot the network G using a circos plot. To do this:\n",
    "    - Create a circos plot called c using the nv.circos() function. You have to specify the parameters graph and node_color_by and group_by keyword arguments to color and group nodes by their keyword bipartite, and the sort_by argument to order the nodes by centrality.\n",
    "    - To ensure that the nodes are visible when displayed, we have included the argument node_enc_kwargs={'radius': 10}.\n",
    "    - Draw c to the screen."
   ]
  },
  {
   "cell_type": "code",
   "execution_count": 1,
   "id": "e5dc3f84-1f70-4954-b3a8-73352200ae53",
   "metadata": {},
   "outputs": [],
   "source": [
    "import networkx as nx"
   ]
  },
  {
   "cell_type": "code",
   "execution_count": null,
   "id": "37a19ac8-0cce-4098-8713-a5b1c72bea2a",
   "metadata": {},
   "outputs": [],
   "source": [
    "# Create the CircosPlot object: c\n",
    "c = nv.circos(G, node_color_by=\"bipartite\", group_by=\"bipartite\", sort_by=\"centrality\", node_enc_kwargs={'radius': 10})\n",
    "\n",
    "# Display the plot\n",
    "#c.draw()\n",
    "plt.show()"
   ]
  },
  {
   "cell_type": "code",
   "execution_count": null,
   "id": "57c2072f-a3a5-4fe0-b617-edff14cbda43",
   "metadata": {},
   "outputs": [],
   "source": []
  },
  {
   "cell_type": "code",
   "execution_count": null,
   "id": "59e80ac2-8a46-4ad2-9c96-88910d9d8afb",
   "metadata": {},
   "outputs": [],
   "source": []
  }
 ],
 "metadata": {
  "kernelspec": {
   "display_name": "Python 3 (ipykernel)",
   "language": "python",
   "name": "python3"
  },
  "language_info": {
   "codemirror_mode": {
    "name": "ipython",
    "version": 3
   },
   "file_extension": ".py",
   "mimetype": "text/x-python",
   "name": "python",
   "nbconvert_exporter": "python",
   "pygments_lexer": "ipython3",
   "version": "3.11.6"
  }
 },
 "nbformat": 4,
 "nbformat_minor": 5
}
