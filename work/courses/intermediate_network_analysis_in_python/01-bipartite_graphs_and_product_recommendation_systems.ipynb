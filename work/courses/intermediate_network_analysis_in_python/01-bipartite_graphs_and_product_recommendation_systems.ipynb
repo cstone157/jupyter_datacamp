{
 "cells": [
  {
   "cell_type": "markdown",
   "id": "ae1c2ac9-fa2a-4fbd-b94b-2ad0c2165abc",
   "metadata": {},
   "source": [
    "## Plotting using nxviz\n",
    "\n",
    "Now, you're going to practice creating a circos plot using nxviz! As a bonus preview of what's coming up in the next video, there's a little segment on the bipartite keyword in this exercise!\n",
    "\n",
    "Here, the degree centrality score of each node has been added to their metadata dictionary for you using the following code:\n",
    "\n",
    "<code>\n",
    "# Add the degree centrality score of each node to their metadata dictionary\n",
    "dcs = nx.degree_centrality(G)\n",
    "for n in G.nodes():\n",
    "    G.nodes[n]['centrality'] = dcs[n]\n",
    "</code>\n",
    "\n",
    "If you want a refresher on degree centrality, check out the relevant video from the previous course - it is a way of computing the importance of a node!\n",
    "\n",
    "nxviz has been pre-imported for you as nv, along with NetworkX (as nx) and matplotlib.pyplot (as plt).\n",
    "\n",
    "### Instructions\n",
    "    - Plot the network G using a circos plot. To do this:\n",
    "    - Create a circos plot called c using the nv.circos() function. You have to specify the parameters graph and node_color_by and group_by keyword arguments to color and group nodes by their keyword bipartite, and the sort_by argument to order the nodes by centrality.\n",
    "    - To ensure that the nodes are visible when displayed, we have included the argument node_enc_kwargs={'radius': 10}.\n",
    "    - Draw c to the screen."
   ]
  },
  {
   "cell_type": "code",
   "execution_count": null,
   "id": "e5dc3f84-1f70-4954-b3a8-73352200ae53",
   "metadata": {},
   "outputs": [],
   "source": [
    "import numpy as np\n",
    "import pandas as pd\n",
    "import pickle\n",
    "import networkx as nx\n",
    "import matplotlib.pyplot as plt\n",
    "from datetime import datetime, date\n",
    "import networkx as nx\n",
    "import nxviz as nv\n",
    "\n",
    "github_file_path = \"../../data/github_users.p\"\n",
    "\n",
    "with open(github_file_path, 'rb') as f:\n",
    "    Gh = pickle.load(f)"
   ]
  },
  {
   "cell_type": "code",
   "execution_count": 26,
   "id": "960864ce-4618-46ec-a8ca-2293e323e6cc",
   "metadata": {},
   "outputs": [
    {
     "data": {
      "text/plain": [
       "<networkx.classes.graph.Graph at 0x7f034afbc910>"
      ]
     },
     "execution_count": 26,
     "metadata": {},
     "output_type": "execute_result"
    }
   ],
   "source": [
    "dcs = nx.degree_centrality(Gh)\n",
    "for n in Gh.nodes(data=True):\n",
    "    n[1][\"centrality\"] = dcs[n[0]]\n",
    "\n",
    "G = list(Gh.nodes(data=True))[:2000]\n"
   ]
  },
  {
   "cell_type": "code",
   "execution_count": 24,
   "id": "37a19ac8-0cce-4098-8713-a5b1c72bea2a",
   "metadata": {},
   "outputs": [
    {
     "ename": "AttributeError",
     "evalue": "'list' object has no attribute 'nodes'",
     "output_type": "error",
     "traceback": [
      "\u001b[0;31m---------------------------------------------------------------------------\u001b[0m",
      "\u001b[0;31mAttributeError\u001b[0m                            Traceback (most recent call last)",
      "Cell \u001b[0;32mIn[24], line 2\u001b[0m\n\u001b[1;32m      1\u001b[0m \u001b[38;5;66;03m# Create the CircosPlot object: c\u001b[39;00m\n\u001b[0;32m----> 2\u001b[0m c \u001b[38;5;241m=\u001b[39m \u001b[43mnv\u001b[49m\u001b[38;5;241;43m.\u001b[39;49m\u001b[43mcircos\u001b[49m\u001b[43m(\u001b[49m\u001b[43mG\u001b[49m\u001b[43m,\u001b[49m\u001b[43m \u001b[49m\u001b[43mnode_color_by\u001b[49m\u001b[38;5;241;43m=\u001b[39;49m\u001b[38;5;124;43m\"\u001b[39;49m\u001b[38;5;124;43mbipartite\u001b[39;49m\u001b[38;5;124;43m\"\u001b[39;49m\u001b[43m,\u001b[49m\u001b[43m \u001b[49m\u001b[43mgroup_by\u001b[49m\u001b[38;5;241;43m=\u001b[39;49m\u001b[38;5;124;43m\"\u001b[39;49m\u001b[38;5;124;43mbipartite\u001b[39;49m\u001b[38;5;124;43m\"\u001b[39;49m\u001b[43m,\u001b[49m\u001b[43m \u001b[49m\u001b[43msort_by\u001b[49m\u001b[38;5;241;43m=\u001b[39;49m\u001b[38;5;124;43m\"\u001b[39;49m\u001b[38;5;124;43mcentrality\u001b[39;49m\u001b[38;5;124;43m\"\u001b[39;49m\u001b[43m,\u001b[49m\u001b[43m \u001b[49m\u001b[43mnode_enc_kwargs\u001b[49m\u001b[38;5;241;43m=\u001b[39;49m\u001b[43m{\u001b[49m\u001b[38;5;124;43m'\u001b[39;49m\u001b[38;5;124;43mradius\u001b[39;49m\u001b[38;5;124;43m'\u001b[39;49m\u001b[43m:\u001b[49m\u001b[43m \u001b[49m\u001b[38;5;241;43m10\u001b[39;49m\u001b[43m}\u001b[49m\u001b[43m)\u001b[49m\n\u001b[1;32m      4\u001b[0m \u001b[38;5;66;03m# Display the plot\u001b[39;00m\n\u001b[1;32m      5\u001b[0m \u001b[38;5;66;03m#c.draw()\u001b[39;00m\n\u001b[1;32m      6\u001b[0m plt\u001b[38;5;241m.\u001b[39mshow()\n",
      "File \u001b[0;32m/opt/conda/lib/python3.11/site-packages/nxviz/api.py:65\u001b[0m, in \u001b[0;36mbase\u001b[0;34m(G, node_layout_func, edge_line_func, group_by, sort_by, node_color_by, node_alpha_by, node_size_by, node_enc_kwargs, edge_color_by, edge_lw_by, edge_alpha_by, edge_enc_kwargs, node_layout_kwargs, edge_line_kwargs)\u001b[0m\n\u001b[1;32m     18\u001b[0m \u001b[38;5;28;01mdef\u001b[39;00m \u001b[38;5;21mbase\u001b[39m(\n\u001b[1;32m     19\u001b[0m     G: nx\u001b[38;5;241m.\u001b[39mGraph,\n\u001b[1;32m     20\u001b[0m     node_layout_func: Callable,\n\u001b[0;32m   (...)\u001b[0m\n\u001b[1;32m     33\u001b[0m     edge_line_kwargs: Dict \u001b[38;5;241m=\u001b[39m {},\n\u001b[1;32m     34\u001b[0m ):\n\u001b[1;32m     35\u001b[0m \u001b[38;5;250m    \u001b[39m\u001b[38;5;124;03m\"\"\"High-level graph plotting function.\u001b[39;00m\n\u001b[1;32m     36\u001b[0m \n\u001b[1;32m     37\u001b[0m \u001b[38;5;124;03m    ## Parameters\u001b[39;00m\n\u001b[0;32m   (...)\u001b[0m\n\u001b[1;32m     63\u001b[0m \u001b[38;5;124;03m        TODO: Elaborate on what these arguments are.\u001b[39;00m\n\u001b[1;32m     64\u001b[0m \u001b[38;5;124;03m    \"\"\"\u001b[39;00m\n\u001b[0;32m---> 65\u001b[0m     pos \u001b[38;5;241m=\u001b[39m \u001b[43mnode_layout_func\u001b[49m\u001b[43m(\u001b[49m\n\u001b[1;32m     66\u001b[0m \u001b[43m        \u001b[49m\u001b[43mG\u001b[49m\u001b[43m,\u001b[49m\n\u001b[1;32m     67\u001b[0m \u001b[43m        \u001b[49m\u001b[43mgroup_by\u001b[49m\u001b[38;5;241;43m=\u001b[39;49m\u001b[43mgroup_by\u001b[49m\u001b[43m,\u001b[49m\n\u001b[1;32m     68\u001b[0m \u001b[43m        \u001b[49m\u001b[43msort_by\u001b[49m\u001b[38;5;241;43m=\u001b[39;49m\u001b[43msort_by\u001b[49m\u001b[43m,\u001b[49m\n\u001b[1;32m     69\u001b[0m \u001b[43m        \u001b[49m\u001b[43mcolor_by\u001b[49m\u001b[38;5;241;43m=\u001b[39;49m\u001b[43mnode_color_by\u001b[49m\u001b[43m,\u001b[49m\n\u001b[1;32m     70\u001b[0m \u001b[43m        \u001b[49m\u001b[43msize_by\u001b[49m\u001b[38;5;241;43m=\u001b[39;49m\u001b[43mnode_size_by\u001b[49m\u001b[43m,\u001b[49m\n\u001b[1;32m     71\u001b[0m \u001b[43m        \u001b[49m\u001b[43malpha_by\u001b[49m\u001b[38;5;241;43m=\u001b[39;49m\u001b[43mnode_alpha_by\u001b[49m\u001b[43m,\u001b[49m\n\u001b[1;32m     72\u001b[0m \u001b[43m        \u001b[49m\u001b[43mencodings_kwargs\u001b[49m\u001b[38;5;241;43m=\u001b[39;49m\u001b[43mnode_enc_kwargs\u001b[49m\u001b[43m,\u001b[49m\n\u001b[1;32m     73\u001b[0m \u001b[43m        \u001b[49m\u001b[43mlayout_kwargs\u001b[49m\u001b[38;5;241;43m=\u001b[39;49m\u001b[43mnode_layout_kwargs\u001b[49m\u001b[43m,\u001b[49m\n\u001b[1;32m     74\u001b[0m \u001b[43m    \u001b[49m\u001b[43m)\u001b[49m\n\u001b[1;32m     75\u001b[0m     edge_line_func(\n\u001b[1;32m     76\u001b[0m         G,\n\u001b[1;32m     77\u001b[0m         pos,\n\u001b[0;32m   (...)\u001b[0m\n\u001b[1;32m     82\u001b[0m         encodings_kwargs\u001b[38;5;241m=\u001b[39medge_enc_kwargs,\n\u001b[1;32m     83\u001b[0m     )\n\u001b[1;32m     85\u001b[0m     despine()\n",
      "File \u001b[0;32m/opt/conda/lib/python3.11/site-packages/nxviz/nodes.py:110\u001b[0m, in \u001b[0;36mdraw\u001b[0;34m(G, layout_func, group_by, sort_by, color_by, alpha_by, size_by, layout_kwargs, encodings_kwargs, rescale_func, ax)\u001b[0m\n\u001b[1;32m    108\u001b[0m \u001b[38;5;28;01mif\u001b[39;00m ax \u001b[38;5;129;01mis\u001b[39;00m \u001b[38;5;28;01mNone\u001b[39;00m:\n\u001b[1;32m    109\u001b[0m     ax \u001b[38;5;241m=\u001b[39m plt\u001b[38;5;241m.\u001b[39mgca()\n\u001b[0;32m--> 110\u001b[0m nt \u001b[38;5;241m=\u001b[39m \u001b[43mnode_table\u001b[49m\u001b[43m(\u001b[49m\u001b[43mG\u001b[49m\u001b[43m)\u001b[49m\n\u001b[1;32m    111\u001b[0m pos \u001b[38;5;241m=\u001b[39m layout_func(nt, group_by, sort_by, \u001b[38;5;241m*\u001b[39m\u001b[38;5;241m*\u001b[39mlayout_kwargs)\n\u001b[1;32m    112\u001b[0m node_color \u001b[38;5;241m=\u001b[39m node_colors(nt, color_by)\n",
      "File \u001b[0;32m/opt/conda/lib/python3.11/site-packages/nxviz/utils.py:185\u001b[0m, in \u001b[0;36mnode_table\u001b[0;34m(G, group_by, sort_by)\u001b[0m\n\u001b[1;32m    183\u001b[0m node_table \u001b[38;5;241m=\u001b[39m []\n\u001b[1;32m    184\u001b[0m node_index \u001b[38;5;241m=\u001b[39m []\n\u001b[0;32m--> 185\u001b[0m \u001b[38;5;28;01mfor\u001b[39;00m n, d \u001b[38;5;129;01min\u001b[39;00m \u001b[43mG\u001b[49m\u001b[38;5;241;43m.\u001b[39;49m\u001b[43mnodes\u001b[49m(data\u001b[38;5;241m=\u001b[39m\u001b[38;5;28;01mTrue\u001b[39;00m):\n\u001b[1;32m    186\u001b[0m     node_table\u001b[38;5;241m.\u001b[39mappend(d)\n\u001b[1;32m    187\u001b[0m     node_index\u001b[38;5;241m.\u001b[39mappend(n)\n",
      "\u001b[0;31mAttributeError\u001b[0m: 'list' object has no attribute 'nodes'"
     ]
    },
    {
     "data": {
      "image/png": "[encoded data removed]",
      "text/plain": [
       "<Figure size 640x480 with 1 Axes>"
      ]
     },
     "metadata": {},
     "output_type": "display_data"
    }
   ],
   "source": [
    "# Create the CircosPlot object: c\n",
    "c = nv.circos(G, node_color_by=\"bipartite\", group_by=\"bipartite\", sort_by=\"centrality\", node_enc_kwargs={'radius': 10})\n",
    "\n",
    "# Display the plot\n",
    "#c.draw()\n",
    "plt.show()"
   ]
  },
  {
   "cell_type": "markdown",
   "id": "1f5f04b9-4947-4b1c-a53e-3f99ef98c177",
   "metadata": {},
   "source": [
    "## The bipartite keyword\n",
    "\n",
    "In the video, Eric introduced you to the 'bipartite' keyword. This keyword is part of a node's metadata dictionary, and can be assigned both when you add a node and after the node is added. Remember, though, that by definition, in a bipartite graph, a node cannot be connected to another node in the same partition.\n",
    "\n",
    "Here, you're going to write a function that returns the nodes from a given partition in a bipartite graph. In this case, the relevant partitions of the Github bipartite graph you'll be working with are 'projects' and 'users'.\n",
    "\n",
    "### Instructions\n",
    "    - Write a function called get_nodes_from_partition() which accepts two arguments - a bipartite graph G and a partition of G - and returns just the nodes from that partition.\n",
    "        - Iterate over all the nodes of G (not including the metadata) using a for loop.\n",
    "        - Access the 'bipartite' keyword of the current node's metadata dictionary. If it equals partition, append the current node to the list nodes.\n",
    "    - Use your get_nodes_from_partition() function together with the len() function to:\n",
    "        - Print the number of nodes in the 'projects' partition of G.\n",
    "        - Print the number of nodes in the 'users' partition of G."
   ]
  },
  {
   "cell_type": "code",
   "execution_count": null,
   "id": "59e80ac2-8a46-4ad2-9c96-88910d9d8afb",
   "metadata": {},
   "outputs": [],
   "source": [
    "# Define get_nodes_from_partition()\n",
    "def get_nodes_from_partition(G, partition):\n",
    "    # Initialize an empty list for nodes to be returned\n",
    "    nodes = []\n",
    "    # Iterate over each node in the graph G\n",
    "    for n in G.nodes():\n",
    "        # Check that the node belongs to the particular partition\n",
    "        if G.nodes[n]['bipartite'] == partition:\n",
    "            # If so, append it to the list of nodes\n",
    "            nodes.append(n)\n",
    "    return nodes\n",
    "\n",
    "# Print the number of nodes in the 'projects' partition\n",
    "print(len(get_nodes_from_partition(G, 'projects')))\n",
    "\n",
    "# Print the number of nodes in the 'users' partition\n",
    "print(len(get_nodes_from_partition(G, 'users')))"
   ]
  },
  {
   "cell_type": "markdown",
   "id": "ce04aae0-25d8-41b7-a1db-9f2821a3e09d",
   "metadata": {},
   "source": [
    "## Degree centrality distribution of user nodes\n",
    "\n",
    "In this exercise and the next one, you're going to do a final recap of material from the previous course. Your task is to plot the degree centrality distributions for each node partition in the bipartite version of the GitHub collaboration network. Here, you'll do this for the 'users' partition. In the next exercise, you'll do this for the 'projects' partition.\n",
    "\n",
    "The function you wrote before, get_nodes_from_partition(), has been loaded for you. Just to remind you, the \"degree centrality\" is a measure of node importance, and the \"degree centrality distribution\" is the list of degree centrality scores for all nodes in the graph. A few exercises ago, when you made the circos plot, we computed the degree centralities for you. You'll now practice doing this yourself!\n",
    "\n",
    "### Instructions\n",
    "    - Import matplotlib.pyplot as plt.\n",
    "    - Use your get_nodes_from_partition() function from the previous exercise to get a list called user_nodes corresponding to the 'users' nodes of G.\n",
    "    - Using the nx.degree_centrality() function, compute the degree centralities for each node in G. Store the result as dcs.\n",
    "    - Use a list comprehension to compute the degree centralities for each node in user_nodes. Store the result as user_dcs.\n",
    "        - Remember, dcs is a dictionary, in which the keys are the nodes. The relevant nodes here are contained in user_nodes. How can you use this information to obtain the degree centralities of the user nodes? Use n as your iterator variable.\n",
    "    - Plot a histogram of the degree distribution of users, using plt.hist() and user_dcs."
   ]
  },
  {
   "cell_type": "code",
   "execution_count": null,
   "id": "302a91e2-0b59-47cf-a4fb-aefb8272d666",
   "metadata": {},
   "outputs": [],
   "source": [
    "# Import matplotlib\n",
    "import matplotlib.pyplot as plt\n",
    "\n",
    "# Get the 'users' nodes: user_nodes\n",
    "user_nodes = get_nodes_from_partition(G, 'users')\n",
    "\n",
    "# Compute the degree centralities: dcs\n",
    "dcs = nx.degree_centrality(G)\n",
    "\n",
    "# Get the degree centralities for user_nodes: user_dcs\n",
    "user_dcs = [dcs[n] for n in user_nodes]\n",
    "\n",
    "# Plot the degree distribution of users_dcs\n",
    "plt.yscale('log')\n",
    "plt.hist(user_dcs, bins=20)\n",
    "plt.show()"
   ]
  },
  {
   "cell_type": "markdown",
   "id": "3f6f6147-4c38-46de-9ec7-00ecccd914a3",
   "metadata": {},
   "source": [
    "## Degree centrality distribution of project nodes\n",
    "\n",
    "Now it's time to plot the degree centrality distribution for the 'projects' partition of G. The steps to do this are exactly the same as in the previous exercise. For your convenience, matplotlib.pyplot has been pre-imported as plt.\n",
    "\n",
    "Go for it!\n",
    "\n",
    "### Instructions\n",
    "    - Obtain a list called project_nodes corresponding to the 'projects' nodes of G.\n",
    "    - Using the nx.degree_centrality() function, compute the degree centralities for each node in G. Store the result as dcs.\n",
    "    - Use a list comprehension to compute the degree centralities for each node in project_nodes. Store the result as project_dcs.\n",
    "    - Plot a histogram of the degree distribution of projects, using plt.hist() and project_dcs."
   ]
  },
  {
   "cell_type": "code",
   "execution_count": null,
   "id": "55328e38-c742-4ca9-949f-8e2592f46867",
   "metadata": {},
   "outputs": [],
   "source": [
    "# Get the 'projects' nodes: project_nodes\n",
    "project_nodes = get_nodes_from_partition(G, 'projects')\n",
    "\n",
    "# Compute the degree centralities: dcs\n",
    "dcs = nx.degree_centrality(G)\n",
    "\n",
    "# Get the degree centralities for project_nodes: project_dcs\n",
    "project_dcs = [dcs[n] for n in project_nodes]\n",
    "\n",
    "# Plot the degree distribution of project_dcs\n",
    "plt.yscale('log')\n",
    "plt.hist(project_dcs, bins=20)\n",
    "plt.show()"
   ]
  }
 ],
 "metadata": {
  "kernelspec": {
   "display_name": "Python 3 (ipykernel)",
   "language": "python",
   "name": "python3"
  },
  "language_info": {
   "codemirror_mode": {
    "name": "ipython",
    "version": 3
   },
   "file_extension": ".py",
   "mimetype": "text/x-python",
   "name": "python",
   "nbconvert_exporter": "python",
   "pygments_lexer": "ipython3",
   "version": "3.11.6"
  }
 },
 "nbformat": 4,
 "nbformat_minor": 5
}
