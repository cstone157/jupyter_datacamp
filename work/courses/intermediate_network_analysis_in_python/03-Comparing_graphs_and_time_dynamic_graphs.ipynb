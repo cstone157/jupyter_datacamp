{
 "cells": [
  {
   "cell_type": "markdown",
   "id": "629c038d-0180-40d1-a18c-594441ad242f",
   "metadata": {},
   "source": [
    "## List of graphs\n",
    "\n",
    "In this set of exercises, you'll use a college messaging dataset to learn how to filter graphs for time series analysis. In this dataset, nodes are students, and edges denote messages being sent from one student to another. The graph as it stands right now captures all communications at all time points.\n",
    "\n",
    "Let's start by analyzing the graphs in which only the edges change over time.\n",
    "\n",
    "The dataset has been loaded into a DataFrame called data. Feel free to explore it in the IPython Shell. Specifically, check out the output of data['sender'] and data['recipient'].\n",
    "\n",
    "### Instructions\n",
    "    - Initialize an empty list called Gs.\n",
    "    - Use a for loop to iterate over months. Inside the loop:\n",
    "        - Instantiate a new undirected graph called G, using the nx.Graph() function.\n",
    "        - Add in all nodes that have ever shown up to the graph. To do this, use the .add_nodes_from() method on G two times, first with data['sender'] as argument, and then with data['recipient'].\n",
    "        - Filter the DataFrame so there's only the given month. This has been done for you.\n",
    "        - Add edges from the filtered DataFrame. To do this, use the .add_edges_from() method with df_filtered['sender'] and df_filtered['recipient'] passed into zip().\n",
    "        - Append G to the list of graphs Gs."
   ]
  },
  {
   "cell_type": "code",
   "execution_count": null,
   "id": "9e8a11bf-1bda-4dce-84cb-01c0021479c6",
   "metadata": {},
   "outputs": [],
   "source": [
    "import networkx as nx \n",
    "\n",
    "months = range(4, 11)\n",
    "\n",
    "# Initialize an empty list: Gs\n",
    "Gs = [] \n",
    "for month in months:\n",
    "    # Instantiate a new undirected graph: G\n",
    "    G = nx.Graph()\n",
    "    \n",
    "    # Add in all nodes that have ever shown up to the graph\n",
    "    G.add_nodes_from(data['sender'])\n",
    "    G.add_nodes_from(data['recipient'])\n",
    "    \n",
    "    # Filter the DataFrame so that there's only the given month\n",
    "    df_filtered = data[data['month'] == month]\n",
    "    \n",
    "    # Add edges from filtered DataFrame\n",
    "    G.add_edges_from(zip(df_filtered['sender'], df_filtered['recipient']))\n",
    "    \n",
    "    # Append G to the list of graphs\n",
    "    Gs.append(G)\n",
    "    \n",
    "print(len(Gs))"
   ]
  },
  {
   "cell_type": "markdown",
   "id": "d32e8fbe-a5aa-4a0b-976b-7ea31556c21c",
   "metadata": {},
   "source": [
    "## Graph differences over time\n",
    "\n",
    "Now, you'll compute the graph differences over time! To look at the simplest case, here you'll use a window of (month, month + 1), and then keep track of the edges gained or lost over time. This exercise is preparation for the next exercise, in which you will visualize the changes over time.\n",
    "\n",
    "### Instructions\n",
    "    - Inside the for loop:\n",
    "        - Assign Gs[i] to g1 and Gs[i + window] to g2.\n",
    "        - Using nx.difference() compute the difference between g2 and g1. Append the result to added.\n",
    "        - Append the difference between g1 and g2 to removed.\n",
    "    - Print fractional_changes."
   ]
  },
  {
   "cell_type": "code",
   "execution_count": null,
   "id": "a4528d0a-9bfb-4345-9ef8-448589213be1",
   "metadata": {},
   "outputs": [],
   "source": [
    "import networkx as nx  \n",
    "# Instantiate a list of graphs that show edges added: added\n",
    "added = []\n",
    "# Instantiate a list of graphs that show edges removed: removed\n",
    "removed = []\n",
    "# Here's the fractional change over time\n",
    "fractional_changes = []\n",
    "window = 1\n",
    "\n",
    "for i in range(len(Gs) - window):\n",
    "    g1 = Gs[i]\n",
    "    g2 = Gs[i + window]\n",
    "        \n",
    "    # Compute graph difference here\n",
    "    added.append(nx.difference(g2, g1))   \n",
    "    removed.append(nx.difference(g1, g2))\n",
    "    \n",
    "    # Compute change in graph size over time\n",
    "    fractional_changes.append((len(g2.edges()) - len(g1.edges())) / len(g1.edges()))\n",
    "    \n",
    "# Print the fractional change\n",
    "print(fractional_changes)"
   ]
  },
  {
   "cell_type": "markdown",
   "id": "739c0b1d-3f15-410a-8050-7a04ba39df42",
   "metadata": {},
   "source": []
  },
  {
   "cell_type": "code",
   "execution_count": null,
   "id": "265c2429-7953-41c8-b96f-bb4f80f0f9ce",
   "metadata": {},
   "outputs": [],
   "source": []
  },
  {
   "cell_type": "markdown",
   "id": "0d7a7f4e-21f7-40f1-81a0-8e522d412d2e",
   "metadata": {},
   "source": []
  },
  {
   "cell_type": "code",
   "execution_count": null,
   "id": "dd9e184e-795e-494b-8edb-135e914a6af3",
   "metadata": {},
   "outputs": [],
   "source": []
  },
  {
   "cell_type": "markdown",
   "id": "26ad26b3-5e40-4428-9fb7-3ccd24597d28",
   "metadata": {},
   "source": []
  },
  {
   "cell_type": "code",
   "execution_count": null,
   "id": "189f0b02-7fb6-41af-a11e-11c1558d5826",
   "metadata": {},
   "outputs": [],
   "source": []
  },
  {
   "cell_type": "markdown",
   "id": "fe038de1-c576-4a9e-bb20-441d096db7bc",
   "metadata": {},
   "source": []
  },
  {
   "cell_type": "code",
   "execution_count": null,
   "id": "6cf79126-d0ea-49c5-a9a6-0eff87c7d42f",
   "metadata": {},
   "outputs": [],
   "source": []
  },
  {
   "cell_type": "markdown",
   "id": "1c5c03a2-730d-461b-836a-a5530eff4417",
   "metadata": {},
   "source": []
  },
  {
   "cell_type": "code",
   "execution_count": null,
   "id": "64bab92d-79bf-4204-8ebe-cd1bfb4d1efa",
   "metadata": {},
   "outputs": [],
   "source": []
  }
 ],
 "metadata": {
  "kernelspec": {
   "display_name": "Python 3 (ipykernel)",
   "language": "python",
   "name": "python3"
  },
  "language_info": {
   "codemirror_mode": {
    "name": "ipython",
    "version": 3
   },
   "file_extension": ".py",
   "mimetype": "text/x-python",
   "name": "python",
   "nbconvert_exporter": "python",
   "pygments_lexer": "ipython3",
   "version": "3.11.6"
  }
 },
 "nbformat": 4,
 "nbformat_minor": 5
}
