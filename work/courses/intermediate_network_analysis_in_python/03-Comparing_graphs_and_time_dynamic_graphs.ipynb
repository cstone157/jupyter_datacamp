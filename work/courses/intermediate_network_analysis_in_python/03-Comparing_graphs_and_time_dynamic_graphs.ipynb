{
 "cells": [
  {
   "cell_type": "markdown",
   "id": "629c038d-0180-40d1-a18c-594441ad242f",
   "metadata": {},
   "source": [
    "## List of graphs\n",
    "\n",
    "In this set of exercises, you'll use a college messaging dataset to learn how to filter graphs for time series analysis. In this dataset, nodes are students, and edges denote messages being sent from one student to another. The graph as it stands right now captures all communications at all time points.\n",
    "\n",
    "Let's start by analyzing the graphs in which only the edges change over time.\n",
    "\n",
    "The dataset has been loaded into a DataFrame called data. Feel free to explore it in the IPython Shell. Specifically, check out the output of data['sender'] and data['recipient'].\n",
    "\n",
    "### Instructions\n",
    "    - Initialize an empty list called Gs.\n",
    "    - Use a for loop to iterate over months. Inside the loop:\n",
    "        - Instantiate a new undirected graph called G, using the nx.Graph() function.\n",
    "        - Add in all nodes that have ever shown up to the graph. To do this, use the .add_nodes_from() method on G two times, first with data['sender'] as argument, and then with data['recipient'].\n",
    "        - Filter the DataFrame so there's only the given month. This has been done for you.\n",
    "        - Add edges from the filtered DataFrame. To do this, use the .add_edges_from() method with df_filtered['sender'] and df_filtered['recipient'] passed into zip().\n",
    "        - Append G to the list of graphs Gs."
   ]
  },
  {
   "cell_type": "code",
   "execution_count": null,
   "id": "9e8a11bf-1bda-4dce-84cb-01c0021479c6",
   "metadata": {},
   "outputs": [],
   "source": [
    "import networkx as nx \n",
    "\n",
    "months = range(4, 11)\n",
    "\n",
    "# Initialize an empty list: Gs\n",
    "Gs = [] \n",
    "for month in months:\n",
    "    # Instantiate a new undirected graph: G\n",
    "    G = nx.Graph()\n",
    "    \n",
    "    # Add in all nodes that have ever shown up to the graph\n",
    "    G.add_nodes_from(data['sender'])\n",
    "    G.add_nodes_from(data['recipient'])\n",
    "    \n",
    "    # Filter the DataFrame so that there's only the given month\n",
    "    df_filtered = data[data['month'] == month]\n",
    "    \n",
    "    # Add edges from filtered DataFrame\n",
    "    G.add_edges_from(zip(df_filtered['sender'], df_filtered['recipient']))\n",
    "    \n",
    "    # Append G to the list of graphs\n",
    "    Gs.append(G)\n",
    "    \n",
    "print(len(Gs))"
   ]
  },
  {
   "cell_type": "markdown",
   "id": "d32e8fbe-a5aa-4a0b-976b-7ea31556c21c",
   "metadata": {},
   "source": [
    "## Graph differences over time\n",
    "\n",
    "Now, you'll compute the graph differences over time! To look at the simplest case, here you'll use a window of (month, month + 1), and then keep track of the edges gained or lost over time. This exercise is preparation for the next exercise, in which you will visualize the changes over time.\n",
    "\n",
    "### Instructions\n",
    "    - Inside the for loop:\n",
    "        - Assign Gs[i] to g1 and Gs[i + window] to g2.\n",
    "        - Using nx.difference() compute the difference between g2 and g1. Append the result to added.\n",
    "        - Append the difference between g1 and g2 to removed.\n",
    "    - Print fractional_changes."
   ]
  },
  {
   "cell_type": "code",
   "execution_count": null,
   "id": "a4528d0a-9bfb-4345-9ef8-448589213be1",
   "metadata": {},
   "outputs": [],
   "source": [
    "import networkx as nx  \n",
    "# Instantiate a list of graphs that show edges added: added\n",
    "added = []\n",
    "# Instantiate a list of graphs that show edges removed: removed\n",
    "removed = []\n",
    "# Here's the fractional change over time\n",
    "fractional_changes = []\n",
    "window = 1\n",
    "\n",
    "for i in range(len(Gs) - window):\n",
    "    g1 = Gs[i]\n",
    "    g2 = Gs[i + window]\n",
    "        \n",
    "    # Compute graph difference here\n",
    "    added.append(nx.difference(g2, g1))   \n",
    "    removed.append(nx.difference(g1, g2))\n",
    "    \n",
    "    # Compute change in graph size over time\n",
    "    fractional_changes.append((len(g2.edges()) - len(g1.edges())) / len(g1.edges()))\n",
    "    \n",
    "# Print the fractional change\n",
    "print(fractional_changes)"
   ]
  },
  {
   "cell_type": "markdown",
   "id": "739c0b1d-3f15-410a-8050-7a04ba39df42",
   "metadata": {},
   "source": [
    "## Plot number of edge changes over time\n",
    "\n",
    "You're now going to make some plots! All of the lists that you've created before have been loaded for you in this exercise too. Do not worry about some of the fancy matplotlib code that shows up below: there are comments to help you understand what's going on.\n",
    "\n",
    "### Instructions\n",
    "    - Plot the number of edges added over time. To do this:\n",
    "        - Use a list comprehension to iterate over added and create a list called edges_added. The output expression of the list comprehension is len(g.edges()), where g is your iterator variable.\n",
    "        - Pass in the edges_added list to ax1.plot().\n",
    "    - Plot the number of edges removed over time. Once again, use a list comprehension, this time iterating over removed instead of added.\n",
    "    - Plot the fractional changes over time by passing it in as an argument to ax2.plot()."
   ]
  },
  {
   "cell_type": "code",
   "execution_count": null,
   "id": "265c2429-7953-41c8-b96f-bb4f80f0f9ce",
   "metadata": {},
   "outputs": [],
   "source": [
    "# Import matplotlib\n",
    "import matplotlib.pyplot as plt\n",
    "\n",
    "fig = plt.figure()\n",
    "ax1 = fig.add_subplot(111)\n",
    "\n",
    "# Plot the number of edges added over time\n",
    "edges_added = [len(g.edges()) for g in added]\n",
    "plot1 = ax1.plot(edges_added, label='added', color='orange')\n",
    "\n",
    "# Plot the number of edges removed over time\n",
    "edges_removed = [len(g.edges()) for g in removed]\n",
    "plot2 = ax1.plot(edges_removed, label='removed', color='purple')\n",
    "\n",
    "# Set yscale to logarithmic scale\n",
    "ax1.set_yscale('log')  \n",
    "ax1.legend()\n",
    "\n",
    "# 2nd axes shares x-axis with 1st axes object\n",
    "ax2 = ax1.twinx()\n",
    "\n",
    "# Plot the fractional changes over time\n",
    "plot3 = ax2.plot(fractional_changes, label='fractional change', color='green')\n",
    "\n",
    "# Here, we create a single legend for both plots\n",
    "lines1, labels1 = ax1.get_legend_handles_labels()\n",
    "lines2, labels2 = ax2.get_legend_handles_labels()\n",
    "ax2.legend(lines1 + lines2, labels1 + labels2, loc=0)\n",
    "plt.axhline(0, color='green', linestyle='--')\n",
    "plt.show()"
   ]
  },
  {
   "cell_type": "markdown",
   "id": "0d7a7f4e-21f7-40f1-81a0-8e522d412d2e",
   "metadata": {},
   "source": [
    "## Number of edges over time\n",
    "\n",
    "You're now going to get some practice plotting other evolving graph statistics. We'll start with a simpler exercise to kick things off. First off, plot the number of edges over time.\n",
    "\n",
    "To do this, you'll create a list of the number of edges per month. The index of this list will correspond to the months elapsed since the first month.\n",
    "\n",
    "### Instructions\n",
    "    - Import matplotlib.pyplot as plt.\n",
    "    - Create a list of the number of edges per month called edge_sizes. Use a list comprehension to do this, where you iterate over Gs using an iterator variable called g, and your output expression is len(g.edges()).\n",
    "    - Plot edge sizes over time."
   ]
  },
  {
   "cell_type": "code",
   "execution_count": null,
   "id": "dd9e184e-795e-494b-8edb-135e914a6af3",
   "metadata": {},
   "outputs": [],
   "source": [
    "# Import matplotlib\n",
    "import matplotlib.pyplot as plt\n",
    "\n",
    "fig = plt.figure()\n",
    "\n",
    "# Create a list of the number of edges per month\n",
    "edge_sizes = [len(g.edges()) for g in Gs]\n",
    "\n",
    "# Plot edge sizes over time\n",
    "plt.plot(edge_sizes)\n",
    "plt.xlabel('Time elapsed from first month (in months).') \n",
    "plt.ylabel('Number of edges')                           \n",
    "plt.show() "
   ]
  },
  {
   "cell_type": "markdown",
   "id": "26ad26b3-5e40-4428-9fb7-3ccd24597d28",
   "metadata": {},
   "source": [
    "## Degree centrality over time\n",
    "\n",
    "Now, you're going to plot the degree centrality distribution over time. Remember that the ECDF function will be provided, so you won't have to implement it.\n",
    "\n",
    "### Instructions\n",
    "    - Create a list of degree centrality scores month-by-month. To do this:\n",
    "        - In each iteration of the first for loop, compute the degree centrality of G using the nx.degree_centrality() function. Save the result as cent.\n",
    "        - Append cent to the list cents.\n",
    "    - Plot ECDFs over time. To do this:\n",
    "        - Iterate over range(len(cents)) using a for loop. Inside the loop, use the ECDF() function with cents[i].values() as the argument. Unpack the output of this into x and y.\n",
    "        - Pass x and y as arguments to plt.plot()."
   ]
  },
  {
   "cell_type": "code",
   "execution_count": null,
   "id": "189f0b02-7fb6-41af-a11e-11c1558d5826",
   "metadata": {},
   "outputs": [],
   "source": [
    "# Import necessary modules\n",
    "import networkx as nx\n",
    "import matplotlib.pyplot as plt\n",
    "\n",
    "# Create a list of degree centrality scores month-by-month\n",
    "cents = []\n",
    "for G in Gs:\n",
    "    cent = nx.degree_centrality(G)\n",
    "    cents.append(cent)\n",
    "\n",
    "\n",
    "# Plot ECDFs over time\n",
    "fig = plt.figure()\n",
    "for i in range(len(cents)):\n",
    "    x, y = ECDF(cents[i].values()) \n",
    "    plt.plot(x, y, label='Month {0}'.format(i+1)) \n",
    "plt.legend()   \n",
    "plt.show()"
   ]
  },
  {
   "cell_type": "markdown",
   "id": "fe038de1-c576-4a9e-bb20-441d096db7bc",
   "metadata": {},
   "source": []
  },
  {
   "cell_type": "code",
   "execution_count": null,
   "id": "6cf79126-d0ea-49c5-a9a6-0eff87c7d42f",
   "metadata": {},
   "outputs": [],
   "source": []
  },
  {
   "cell_type": "markdown",
   "id": "1c5c03a2-730d-461b-836a-a5530eff4417",
   "metadata": {},
   "source": []
  },
  {
   "cell_type": "code",
   "execution_count": null,
   "id": "64bab92d-79bf-4204-8ebe-cd1bfb4d1efa",
   "metadata": {},
   "outputs": [],
   "source": []
  }
 ],
 "metadata": {
  "kernelspec": {
   "display_name": "Python 3 (ipykernel)",
   "language": "python",
   "name": "python3"
  },
  "language_info": {
   "codemirror_mode": {
    "name": "ipython",
    "version": 3
   },
   "file_extension": ".py",
   "mimetype": "text/x-python",
   "name": "python",
   "nbconvert_exporter": "python",
   "pygments_lexer": "ipython3",
   "version": "3.11.6"
  }
 },
 "nbformat": 4,
 "nbformat_minor": 5
}
