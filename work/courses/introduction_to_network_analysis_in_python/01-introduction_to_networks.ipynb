{
 "cells": [
  {
   "cell_type": "markdown",
   "id": "04eb9c1b-6ed4-4071-801f-be1ef6c77ea9",
   "metadata": {},
   "source": [
    "## Basic drawing of a network using NetworkX\n",
    "\n",
    "NetworkX provides some basic drawing functionality that works for small graphs. We have selected a subset of nodes from the graph for you to practice using NetworkX's drawing facilities. It has been pre-loaded as T_sub.\n",
    "\n",
    "### Instructions\n",
    "    - Import matplotlib.pyplot as plt and networkx as nx.\n",
    "    - Draw T_sub to the screen by using the nx.draw() function, and don't forget to also use plt.show() to display it."
   ]
  },
  {
   "cell_type": "code",
   "execution_count": null,
   "id": "a9ca3275-6c0f-4044-b3ee-9a092fa4faac",
   "metadata": {},
   "outputs": [],
   "source": [
    "# Import necessary modules\n",
    "import matplotlib.pyplot as plt\n",
    "import networkx as nx\n",
    "\n",
    "# Draw the graph to screen\n",
    "nx.draw(T_sub)\n",
    "plt.show()"
   ]
  }
 ],
 "metadata": {
  "kernelspec": {
   "display_name": "Python 3 (ipykernel)",
   "language": "python",
   "name": "python3"
  },
  "language_info": {
   "codemirror_mode": {
    "name": "ipython",
    "version": 3
   },
   "file_extension": ".py",
   "mimetype": "text/x-python",
   "name": "python",
   "nbconvert_exporter": "python",
   "pygments_lexer": "ipython3",
   "version": "3.11.6"
  }
 },
 "nbformat": 4,
 "nbformat_minor": 5
}
