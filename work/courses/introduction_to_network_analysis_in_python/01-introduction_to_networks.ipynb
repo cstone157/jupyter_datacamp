{
 "cells": [
  {
   "cell_type": "markdown",
   "id": "04eb9c1b-6ed4-4071-801f-be1ef6c77ea9",
   "metadata": {},
   "source": [
    "## Basic drawing of a network using NetworkX\n",
    "\n",
    "NetworkX provides some basic drawing functionality that works for small graphs. We have selected a subset of nodes from the graph for you to practice using NetworkX's drawing facilities. It has been pre-loaded as T_sub.\n",
    "\n",
    "### Instructions\n",
    "    - Import matplotlib.pyplot as plt and networkx as nx.\n",
    "    - Draw T_sub to the screen by using the nx.draw() function, and don't forget to also use plt.show() to display it."
   ]
  },
  {
   "cell_type": "code",
   "execution_count": null,
   "id": "a9ca3275-6c0f-4044-b3ee-9a092fa4faac",
   "metadata": {},
   "outputs": [],
   "source": [
    "# Import necessary modules\n",
    "import matplotlib.pyplot as plt\n",
    "import networkx as nx\n",
    "\n",
    "# Draw the graph to screen\n",
    "nx.draw(T_sub)\n",
    "plt.show()"
   ]
  },
  {
   "cell_type": "markdown",
   "id": "d073f6bb-2bd9-4256-9f89-08ae18785961",
   "metadata": {},
   "source": [
    "## Queries on a graph\n",
    "\n",
    "Now that you know some basic properties of the graph and have practiced using NetworkX's drawing facilities to visualize components of it, it's time to explore how you can query it for nodes and edges. Specifically, you're going to look for \"nodes of interest\" and \"edges of interest\". To achieve this, you'll make use of the .nodes() and .edges() methods that Eric went over in the video. The .nodes() method returns a Node view iterable, while the .edges() method returns an edge view iterable, in which each tuple shows the nodes that are present on that edge. Recall that passing in the keyword argument data=True in these methods retrieves the corresponding metadata associated with the nodes and edges as well.\n",
    "\n",
    "You'll write list comprehensions to effectively build these queries in one line. For a refresher on list comprehensions, refer to Part 2 of DataCamp's Python Data Science Toolbox course. Here's the recipe for a list comprehension:\n",
    "\n",
    "[ output expression for iterator variable in iterable if predicate expression ].\n",
    "\n",
    "You have to fill in the _iterable_ and the _predicate expression_. Feel free to prototype your answer by exploring the graph in the IPython Shell before submitting your solution.\n",
    "\n",
    "### Instructions\n",
    "    - Use a list comprehension to get a list of nodes from the graph T that have the 'occupation' label of 'scientist'.\n",
    "        - The output expression n has been specified for you, along with the iterator variables n and d. Your task is to fill in the iterable and the conditional expression.\n",
    "        - Use the .nodes() method of T access its nodes, and be sure to specify data=True to obtain the metadata for the nodes.\n",
    "        - The iterator variable d is a dictionary. The key of interest here is 'occupation' and value of interest is 'scientist'.\n",
    "    - Use a list comprehension to get a list of edges from the graph T that were formed for at least 6 years, i.e., from before 1 Jan 2010.\n",
    "        - Your task once again is to fill in the iterable and conditional expression.\n",
    "        - Use the .edges() method of T to access its edges. Be sure to obtain the metadata for the edges as well.\n",
    "        - The dates are stored as datetime.date objects in the metadata dictionary d, under the key 'date'. To access the date 1 Jan 2009, for example, the dictionary value would be date(2009, 1, 1)."
   ]
  },
  {
   "cell_type": "code",
   "execution_count": null,
   "id": "4f207824-fbee-40b0-b232-99196e8b0b73",
   "metadata": {},
   "outputs": [],
   "source": [
    "# Use a list comprehension to get the nodes of interest: noi\n",
    "noi = [n for n, d in T.nodes(data=True) if d['occupation'] == 'scientist']\n",
    "\n",
    "# Use a list comprehension to get the edges of interest: eoi\n",
    "eoi = [(u, v) for u, v, d in T.edges(data=True) if d['date'] < date(2010, 1, 1)]"
   ]
  },
  {
   "cell_type": "markdown",
   "id": "647a0bf7-9bbd-48d9-a09e-2e594e3f0467",
   "metadata": {},
   "source": [
    "## Specifying a weight on edges\n",
    "\n",
    "Weights can be added to edges in a graph, typically indicating the \"strength\" of an edge. In NetworkX, the weight is indicated by the 'weight' key in the metadata dictionary.\n",
    "\n",
    "Before attempting the exercise, use the IPython Shell to access the dictionary metadata of T and explore it, for instance by running the commands T.edges[1, 10] and then T.edges[10, 1]. Note how there's only one field, and now you're going to add another field, called 'weight'.\n",
    "\n",
    "### Instructions\n",
    "    - Set the 'weight' attribute of the edge between node 1 and 10 of T to be equal to 2. Refer to the following template to set an attribute of an edge: network_name.edges[node1, node2]['attribute'] = value. Here, the 'attribute' is 'weight'.\n",
    "    - Set the weight of every edge involving node 293 to be equal to 1.1. To do this:\n",
    "        - Using a for loop, iterate over all the edges of T, including the metadata.\n",
    "        - If 293 is involved in the list of nodes [u, v]:\n",
    "            - Set the weight of the edge between u and v to be 1.1."
   ]
  },
  {
   "cell_type": "code",
   "execution_count": null,
   "id": "aecb996e-a968-4bd8-bf9b-1dd44e796bab",
   "metadata": {},
   "outputs": [],
   "source": [
    "# Set the weight of the edge\n",
    "T.edges[1, 10]['weight'] = 2\n",
    "\n",
    "# Iterate over all the edges (with metadata)\n",
    "for u, v, d in T.edges(data=True):\n",
    "\n",
    "    # Check if node 293 is involved\n",
    "    if 293 in [u, v]:\n",
    "\n",
    "        # Set the weight to 1.1\n",
    "        d['weight'] = 1.1"
   ]
  },
  {
   "cell_type": "markdown",
   "id": "90501498-25c0-4565-b86c-ac3464994130",
   "metadata": {},
   "source": [
    "## Checking whether there are self-loops in the graph\n",
    "\n",
    "As Eric discussed, NetworkX also allows edges that begin and end on the same node; while this would be non-intuitive for a social network graph, it is useful to model data such as trip networks, in which individuals begin at one location and end in another.\n",
    "\n",
    "It is useful to check for this before proceeding with further analyses, and NetworkX provides a method for this purpose: nx.number_of_selfloops(G).\n",
    "\n",
    "In this exercise as well as later ones, you'll find the assert statement useful. An assert-ions checks whether the statement placed after it evaluates to True, otherwise it will throw an AssertionError.\n",
    "\n",
    "To begin, call on the nx.number_of_selfloops() function, passing in T, in the IPython Shell to get the number of edges that begin and end on the same node. A number of self-loops have been synthetically added to the graph. Your job in this exercise is to write a function that returns these edges.\n",
    "\n",
    "### Instructions\n",
    "    - Define a function called find_selfloop_nodes() which takes one argument: G.\n",
    "        - Using a for loop, iterate over all the edges in G (excluding the metadata).\n",
    "        - If node u is equal to node v:\n",
    "            - Append u to the list nodes_in_selfloops.\n",
    "            - Return the list nodes_in_selfloops.\n",
    "    - Check that the number of self loops in the graph equals the number of nodes in self loops. This has been done for you, so hit 'Submit Answer' to see the result!"
   ]
  },
  {
   "cell_type": "code",
   "execution_count": null,
   "id": "f1407042-9c39-40e2-b3db-610d504fa20b",
   "metadata": {},
   "outputs": [],
   "source": [
    "# Define find_selfloop_nodes()\n",
    "def find_selfloop_nodes(G):\n",
    "    \"\"\"\n",
    "    Finds all nodes that have self-loops in the graph G.\n",
    "    \"\"\"\n",
    "    nodes_in_selfloops = []\n",
    "\n",
    "    # Iterate over all the edges of G\n",
    "    for u, v in G.edges(data=False):\n",
    "\n",
    "    # Check if node u and node v are the same\n",
    "        if u == v:\n",
    "\n",
    "            # Append node u to nodes_in_selfloops\n",
    "            nodes_in_selfloops.append(v)\n",
    "\n",
    "    return nodes_in_selfloops\n",
    "\n",
    "# Check whether number of self loops equals the number of nodes in self loops\n",
    "assert nx.number_of_selfloops(T) == len(find_selfloop_nodes(T))"
   ]
  },
  {
   "cell_type": "markdown",
   "id": "95dd8534-d793-4a4f-a188-8e99d2206db2",
   "metadata": {},
   "source": [
    "## Visualizing using Matrix plots\n",
    "\n",
    "It is time to try your first \"fancy\" graph visualization method: a matrix plot. To do this, nxviz provides a matrix() function. This function, like all of nxviz's top-level API functions, will return a matplotlib axes object that can be displayed with plt.show().\n",
    "\n",
    "nxviz is a package for visualizing graphs in a rational fashion. Under the hood, the matrix function utilizes nx.to_numpy_matrix(G), which returns the matrix form of the graph. Here, each node is one column and one row, and an edge between the two nodes is indicated by the value 1. In doing so, however, only the weight metadata is preserved; all other metadata is lost, as you'll verify using an assert statement.\n",
    "\n",
    "A corresponding nx.from_numpy_matrix(A) allows one to quickly create a graph from a NumPy matrix. The default graph type is Graph(); if you want to make it a DiGraph(), that has to be specified using the create_using keyword argument, e.g. (nx.from_numpy_matrix(A, create_using=nx.DiGraph)).\n",
    "\n",
    "One final note, matplotlib.pyplot and networkx have already been imported as plt and nx, respectively, and the graph T has been pre-loaded. For simplicity and speed, we have sub-sampled only 100 edges from the network.\n",
    "\n",
    "### Instructions\n",
    "    - Import matrix from nxviz.\n",
    "    - Plot the graph T as a matrix plot. To do this:\n",
    "        - Create the matrix plot called m using the nv.matrix() function with T passed in as an argument.\n",
    "        - Display the plot using plt.show(). \n",
    "    - Convert the graph to a matrix format, and then convert the graph to back to the NetworkX form from the matrix as a directed graph. This has been done for you.\n",
    "    - Check that the category metadata field is lost from each node. This has also been done for you, so hit 'Submit Answer' to see the results!"
   ]
  },
  {
   "cell_type": "code",
   "execution_count": null,
   "id": "7689bc33-498d-443d-aefb-3ab04aab562d",
   "metadata": {},
   "outputs": [],
   "source": [
    "# Import nxviz\n",
    "from nxviz import matrix\n",
    "\n",
    "# Create the matrix plot: m\n",
    "m = matrix(T)\n",
    "\n",
    "# Display the plot\n",
    "plt.show()\n",
    "\n",
    "# Convert T to a matrix format: A\n",
    "A = nx.to_numpy_matrix(T)\n",
    "\n",
    "# Convert A back to the NetworkX form as a directed graph: T_conv\n",
    "T_conv = nx.from_numpy_matrix(A, create_using=nx.DiGraph())\n",
    "\n",
    "# Check that the `category` metadata field is lost from each node\n",
    "for n, d in T_conv.nodes(data=True):\n",
    "    assert 'category' not in d.keys()"
   ]
  },
  {
   "cell_type": "markdown",
   "id": "dfa07897-eed1-4db4-9e64-43b29b72126d",
   "metadata": {},
   "source": [
    "## Visualizing using Circos plots\n",
    "\n",
    "Circos plots are a rational, non-cluttered way of visualizing graph data, in which nodes are ordered around the circumference in some fashion, and the edges are drawn within the circle that results, giving a beautiful as well as informative visualization about the structure of the network.\n",
    "\n",
    "In this exercise, you'll continue getting practice with the nxviz API, this time with the circos plot. matplotlib.pyplot has been imported for you as plt.\n",
    "\n",
    "### Instructions\n",
    "    - Import circos from nxviz.\n",
    "    - Plot the Twitter network T as a Circos plot without any styling. Use the circos() function to do this. Don't forget to display it using plt.show()."
   ]
  },
  {
   "cell_type": "code",
   "execution_count": 15,
   "id": "c2a25cb8-5daf-41d6-b196-b345cd5739d0",
   "metadata": {},
   "outputs": [],
   "source": [
    "## Correct Answer (for sumbitting)\n",
    "# Import necessary modules\n",
    "#import matplotlib.pyplot as plt\n",
    "#from nxviz import circos\n",
    "\n",
    "# Create the circos plot: c\n",
    "#c = circos(T)\n",
    "\n",
    "# Display the plot\n",
    "#plt.show()"
   ]
  },
  {
   "cell_type": "code",
   "execution_count": 25,
   "id": "339093f0-36bd-4caa-aa07-65327844b4f4",
   "metadata": {},
   "outputs": [],
   "source": [
    "import pandas as pd\n",
    "import numpy as np\n",
    "import networkx as nx\n",
    "\n",
    "df = pd.read_csv(\"../../data/twitter-followers.csv\")\n",
    "#T = nx.from_pandas_dataframe(df, 'FOLLOWER', 'FOLLOWEE')\n",
    "T = nx.from_pandas_edgelist(df, 'FOLLOWER', 'FOLLOWEE')"
   ]
  },
  {
   "cell_type": "code",
   "execution_count": null,
   "id": "f07c2ecf-94c9-4658-af9f-e2cf44651efa",
   "metadata": {},
   "outputs": [],
   "source": [
    "# Import necessary modules\n",
    "import matplotlib.pyplot as plt\n",
    "from nxviz import circos\n",
    "\n",
    "# Create the circos plot: c\n",
    "c = circos(T)\n",
    "\n",
    "# Display the plot\n",
    "plt.show()"
   ]
  },
  {
   "cell_type": "markdown",
   "id": "4ba90918-221f-496b-b808-5b1bd5435d8d",
   "metadata": {},
   "source": [
    "## Visualizing using Arc plots\n",
    "\n",
    "Following on what you've learned about the nxviz API, now try making an Arc plot of the network. Two keyword arguments that you will try here are sort_by='keyX' and node_color_by='keyX', in which you specify a key in the node metadata dictionary to color and order the nodes by.\n",
    "\n",
    "matplotlib.pyplot has been imported for you as plt.\n",
    "\n",
    "### Instructions\n",
    "    - Import arc from nxviz.\n",
    "    - Create an un-customized Arc plot of T. To do this, use the arc() function with just T as the argument.\n",
    "    - Create another Arc plot of T in which the nodes are ordered and colored by the 'category' keyword. You'll have to specify the sort_by and node_color_by parameters to do this. For both plots, be sure to draw them to the screen and display them with plt.show()."
   ]
  },
  {
   "cell_type": "code",
   "execution_count": null,
   "id": "b810ecb2-7065-4b33-a3c9-0c0bd04641d4",
   "metadata": {},
   "outputs": [],
   "source": [
    "# Import necessary modules\n",
    "import matplotlib.pyplot as plt\n",
    "from nxviz import arc\n",
    "\n",
    "# Create the un-customized Arc plot: a\n",
    "a = arc(T)\n",
    "\n",
    "# Display the plot\n",
    "plt.show()\n",
    "\n",
    "# Create the customized Arc plot: a2\n",
    "a2 = arc(T, sort_by='category', node_color_by='category')\n",
    "\n",
    "# Display the plot\n",
    "plt.show()"
   ]
  },
  {
   "cell_type": "code",
   "execution_count": null,
   "id": "515b5dd1-aaac-4843-aa79-5436ba5790ee",
   "metadata": {},
   "outputs": [],
   "source": []
  },
  {
   "cell_type": "code",
   "execution_count": null,
   "id": "2f6672cd-6425-4697-98da-c97f139ae2d2",
   "metadata": {},
   "outputs": [],
   "source": []
  }
 ],
 "metadata": {
  "kernelspec": {
   "display_name": "Python 3 (ipykernel)",
   "language": "python",
   "name": "python3"
  },
  "language_info": {
   "codemirror_mode": {
    "name": "ipython",
    "version": 3
   },
   "file_extension": ".py",
   "mimetype": "text/x-python",
   "name": "python",
   "nbconvert_exporter": "python",
   "pygments_lexer": "ipython3",
   "version": "3.11.6"
  }
 },
 "nbformat": 4,
 "nbformat_minor": 5
}
