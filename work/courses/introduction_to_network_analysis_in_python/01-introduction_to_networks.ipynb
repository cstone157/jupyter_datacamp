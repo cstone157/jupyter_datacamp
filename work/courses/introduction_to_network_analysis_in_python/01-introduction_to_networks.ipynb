{
 "cells": [
  {
   "cell_type": "markdown",
   "id": "04eb9c1b-6ed4-4071-801f-be1ef6c77ea9",
   "metadata": {},
   "source": [
    "## Basic drawing of a network using NetworkX\n",
    "\n",
    "NetworkX provides some basic drawing functionality that works for small graphs. We have selected a subset of nodes from the graph for you to practice using NetworkX's drawing facilities. It has been pre-loaded as T_sub.\n",
    "\n",
    "### Instructions\n",
    "    - Import matplotlib.pyplot as plt and networkx as nx.\n",
    "    - Draw T_sub to the screen by using the nx.draw() function, and don't forget to also use plt.show() to display it."
   ]
  },
  {
   "cell_type": "code",
   "execution_count": null,
   "id": "a9ca3275-6c0f-4044-b3ee-9a092fa4faac",
   "metadata": {},
   "outputs": [],
   "source": [
    "# Import necessary modules\n",
    "import matplotlib.pyplot as plt\n",
    "import networkx as nx\n",
    "\n",
    "# Draw the graph to screen\n",
    "nx.draw(T_sub)\n",
    "plt.show()"
   ]
  },
  {
   "cell_type": "markdown",
   "id": "d073f6bb-2bd9-4256-9f89-08ae18785961",
   "metadata": {},
   "source": [
    "## Queries on a graph\n",
    "\n",
    "Now that you know some basic properties of the graph and have practiced using NetworkX's drawing facilities to visualize components of it, it's time to explore how you can query it for nodes and edges. Specifically, you're going to look for \"nodes of interest\" and \"edges of interest\". To achieve this, you'll make use of the .nodes() and .edges() methods that Eric went over in the video. The .nodes() method returns a Node view iterable, while the .edges() method returns an edge view iterable, in which each tuple shows the nodes that are present on that edge. Recall that passing in the keyword argument data=True in these methods retrieves the corresponding metadata associated with the nodes and edges as well.\n",
    "\n",
    "You'll write list comprehensions to effectively build these queries in one line. For a refresher on list comprehensions, refer to Part 2 of DataCamp's Python Data Science Toolbox course. Here's the recipe for a list comprehension:\n",
    "\n",
    "[ output expression for iterator variable in iterable if predicate expression ].\n",
    "\n",
    "You have to fill in the _iterable_ and the _predicate expression_. Feel free to prototype your answer by exploring the graph in the IPython Shell before submitting your solution.\n",
    "\n",
    "### Instructions\n",
    "    - Use a list comprehension to get a list of nodes from the graph T that have the 'occupation' label of 'scientist'.\n",
    "        - The output expression n has been specified for you, along with the iterator variables n and d. Your task is to fill in the iterable and the conditional expression.\n",
    "        - Use the .nodes() method of T access its nodes, and be sure to specify data=True to obtain the metadata for the nodes.\n",
    "        - The iterator variable d is a dictionary. The key of interest here is 'occupation' and value of interest is 'scientist'.\n",
    "    - Use a list comprehension to get a list of edges from the graph T that were formed for at least 6 years, i.e., from before 1 Jan 2010.\n",
    "        - Your task once again is to fill in the iterable and conditional expression.\n",
    "        - Use the .edges() method of T to access its edges. Be sure to obtain the metadata for the edges as well.\n",
    "        - The dates are stored as datetime.date objects in the metadata dictionary d, under the key 'date'. To access the date 1 Jan 2009, for example, the dictionary value would be date(2009, 1, 1)."
   ]
  },
  {
   "cell_type": "code",
   "execution_count": null,
   "id": "4f207824-fbee-40b0-b232-99196e8b0b73",
   "metadata": {},
   "outputs": [],
   "source": [
    "# Use a list comprehension to get the nodes of interest: noi\n",
    "noi = [n for n, d in T.nodes(data=True) if d['occupation'] == 'scientist']\n",
    "\n",
    "# Use a list comprehension to get the edges of interest: eoi\n",
    "eoi = [(u, v) for u, v, d in T.edges(data=True) if d['date'] < date(2010, 1, 1)]"
   ]
  },
  {
   "cell_type": "markdown",
   "id": "647a0bf7-9bbd-48d9-a09e-2e594e3f0467",
   "metadata": {},
   "source": [
    "## Specifying a weight on edges\n",
    "\n",
    "Weights can be added to edges in a graph, typically indicating the \"strength\" of an edge. In NetworkX, the weight is indicated by the 'weight' key in the metadata dictionary.\n",
    "\n",
    "Before attempting the exercise, use the IPython Shell to access the dictionary metadata of T and explore it, for instance by running the commands T.edges[1, 10] and then T.edges[10, 1]. Note how there's only one field, and now you're going to add another field, called 'weight'.\n",
    "\n",
    "### Instructions\n",
    "    - Set the 'weight' attribute of the edge between node 1 and 10 of T to be equal to 2. Refer to the following template to set an attribute of an edge: network_name.edges[node1, node2]['attribute'] = value. Here, the 'attribute' is 'weight'.\n",
    "    - Set the weight of every edge involving node 293 to be equal to 1.1. To do this:\n",
    "        - Using a for loop, iterate over all the edges of T, including the metadata.\n",
    "        - If 293 is involved in the list of nodes [u, v]:\n",
    "            - Set the weight of the edge between u and v to be 1.1."
   ]
  },
  {
   "cell_type": "code",
   "execution_count": null,
   "id": "aecb996e-a968-4bd8-bf9b-1dd44e796bab",
   "metadata": {},
   "outputs": [],
   "source": [
    "# Set the weight of the edge\n",
    "T.edges[1, 10]['weight'] = 2\n",
    "\n",
    "# Iterate over all the edges (with metadata)\n",
    "for u, v, d in T.edges(data=True):\n",
    "\n",
    "    # Check if node 293 is involved\n",
    "    if 293 in [u, v]:\n",
    "\n",
    "        # Set the weight to 1.1\n",
    "        d['weight'] = 1.1"
   ]
  }
 ],
 "metadata": {
  "kernelspec": {
   "display_name": "Python 3 (ipykernel)",
   "language": "python",
   "name": "python3"
  },
  "language_info": {
   "codemirror_mode": {
    "name": "ipython",
    "version": 3
   },
   "file_extension": ".py",
   "mimetype": "text/x-python",
   "name": "python",
   "nbconvert_exporter": "python",
   "pygments_lexer": "ipython3",
   "version": "3.11.6"
  }
 },
 "nbformat": 4,
 "nbformat_minor": 5
}
