{
 "cells": [
  {
   "cell_type": "markdown",
   "id": "8c3739de-84fe-4318-a30d-5982bdaa0aae",
   "metadata": {},
   "source": [
    "## Characterizing the network (II)\n",
    "\n",
    "Let's continue recalling what you've learned before about node importances, by plotting the degree distribution of a network. This is the distribution of node degrees computed across all nodes in a network.\n",
    "\n",
    "### Instructions\n",
    "    - Plot the degree distribution of the GitHub collaboration network G. Recall that there are four steps involved here:\n",
    "        - Calculating the degree centrality of G.\n",
    "        - Using the .values() method of G and converting it into a list.\n",
    "        - Passing the list of degree distributions to plt.hist().\n",
    "        - Displaying the histogram with plt.show()."
   ]
  },
  {
   "cell_type": "code",
   "execution_count": null,
   "id": "9e85e676-4281-4f60-9a19-593841f48cb0",
   "metadata": {},
   "outputs": [],
   "source": [
    "# Import necessary modules\n",
    "import matplotlib.pyplot as plt\n",
    "import networkx as nx\n",
    "\n",
    "# Plot the degree distribution of the GitHub collaboration network\n",
    "plt.hist(list(nx.degree_centrality(G).values()))\n",
    "plt.show()"
   ]
  },
  {
   "cell_type": "markdown",
   "id": "fecfbe5e-410c-4821-82d3-10ad13631896",
   "metadata": {},
   "source": [
    "## Characterizing the network (III)\n",
    "\n",
    "The last exercise was on degree centrality; this time round, let's recall betweenness centrality!\n",
    "\n",
    "A small note: if executed correctly, this exercise may need about 5 seconds to execute.\n",
    "\n",
    "### Instructions\n",
    "    - Plot the betweenness centrality distribution of the GitHub collaboration network. You have to follow exactly the same four steps as in the previous exercise, substituting nx.betweenness_centrality() in place of nx.degree_centrality()."
   ]
  },
  {
   "cell_type": "code",
   "execution_count": null,
   "id": "f70291ae-9629-4d6a-b6df-c93c6dd03f65",
   "metadata": {},
   "outputs": [],
   "source": [
    "# Import necessary modules\n",
    "import matplotlib.pyplot as plt\n",
    "import networkx as nx\n",
    "\n",
    "# Plot the degree distribution of the GitHub collaboration network\n",
    "plt.hist(list(nx.betweenness_centrality(G).values()))\n",
    "plt.show()"
   ]
  }
 ],
 "metadata": {
  "kernelspec": {
   "display_name": "Python 3 (ipykernel)",
   "language": "python",
   "name": "python3"
  },
  "language_info": {
   "codemirror_mode": {
    "name": "ipython",
    "version": 3
   },
   "file_extension": ".py",
   "mimetype": "text/x-python",
   "name": "python",
   "nbconvert_exporter": "python",
   "pygments_lexer": "ipython3",
   "version": "3.11.6"
  }
 },
 "nbformat": 4,
 "nbformat_minor": 5
}
