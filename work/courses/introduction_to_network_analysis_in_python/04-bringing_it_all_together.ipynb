{
 "cells": [
  {
   "cell_type": "markdown",
   "id": "8c3739de-84fe-4318-a30d-5982bdaa0aae",
   "metadata": {},
   "source": [
    "## Characterizing the network (II)\n",
    "\n",
    "Let's continue recalling what you've learned before about node importances, by plotting the degree distribution of a network. This is the distribution of node degrees computed across all nodes in a network.\n",
    "\n",
    "### Instructions\n",
    "    - Plot the degree distribution of the GitHub collaboration network G. Recall that there are four steps involved here:\n",
    "        - Calculating the degree centrality of G.\n",
    "        - Using the .values() method of G and converting it into a list.\n",
    "        - Passing the list of degree distributions to plt.hist().\n",
    "        - Displaying the histogram with plt.show()."
   ]
  },
  {
   "cell_type": "code",
   "execution_count": null,
   "id": "9e85e676-4281-4f60-9a19-593841f48cb0",
   "metadata": {},
   "outputs": [],
   "source": [
    "# Import necessary modules\n",
    "import matplotlib.pyplot as plt\n",
    "import networkx as nx\n",
    "\n",
    "# Plot the degree distribution of the GitHub collaboration network\n",
    "plt.hist(list(nx.degree_centrality(G).values()))\n",
    "plt.show()"
   ]
  },
  {
   "cell_type": "markdown",
   "id": "fecfbe5e-410c-4821-82d3-10ad13631896",
   "metadata": {},
   "source": [
    "## Characterizing the network (III)\n",
    "\n",
    "The last exercise was on degree centrality; this time round, let's recall betweenness centrality!\n",
    "\n",
    "A small note: if executed correctly, this exercise may need about 5 seconds to execute.\n",
    "\n",
    "### Instructions\n",
    "    - Plot the betweenness centrality distribution of the GitHub collaboration network. You have to follow exactly the same four steps as in the previous exercise, substituting nx.betweenness_centrality() in place of nx.degree_centrality()."
   ]
  },
  {
   "cell_type": "code",
   "execution_count": null,
   "id": "f70291ae-9629-4d6a-b6df-c93c6dd03f65",
   "metadata": {},
   "outputs": [],
   "source": [
    "# Import necessary modules\n",
    "import matplotlib.pyplot as plt\n",
    "import networkx as nx\n",
    "\n",
    "# Plot the degree distribution of the GitHub collaboration network\n",
    "plt.hist(list(nx.betweenness_centrality(G).values()))\n",
    "plt.show()"
   ]
  },
  {
   "cell_type": "markdown",
   "id": "ba5b45dc-2a83-4dd2-bdef-12605e381656",
   "metadata": {},
   "source": [
    "## Matrix plot\n",
    "\n",
    "Let's now practice making some visualizations. The first one will be the Matrix plot. In a Matrix plot, the matrix is the representation of the edges.\n",
    "\n",
    "### Instructions\n",
    "    - Make a Matrix plot visualization of the largest connected component subgraph, with authors grouped by their user group number.\n",
    "        - First, calculate the largest connected component subgraph by using the nx.connected_components(G) inside the provided sorted() function. Python's built-in sorted() function takes an iterable and returns a sorted list (in ascending order, by default). Therefore, to access the largest connected component subgraph, the statement is sliced with [-1].\n",
    "        - Create the matrix plot h. You have to specify the parameters graph and group_by to be the largest connected component subgraph and 'grouping', respectively.\n",
    "        - Draw the matrix plot to the screen."
   ]
  },
  {
   "cell_type": "code",
   "execution_count": null,
   "id": "2e5b5542-0d13-445e-b173-98864fedd994",
   "metadata": {},
   "outputs": [],
   "source": [
    "# Import necessary modules\n",
    "from nxviz import matrix\n",
    "import matplotlib.pyplot as plt\n",
    "\n",
    "# Calculate the largest connected component: largest_ccs\n",
    "largest_ccs = sorted((G.subgraph(c) for c in nx.connected_components(G)), key=lambda x: len(x))[-1]\n",
    "\n",
    "# Create the customized Matrix plot: h\n",
    "h = matrix(largest_ccs, group_by='grouping')\n",
    "\n",
    "# Draw the Matrix plot to the screen\n",
    "plt.show()"
   ]
  },
  {
   "cell_type": "markdown",
   "id": "f3d243c1-a089-4e7e-9475-eddd0a15d405",
   "metadata": {},
   "source": [
    "## Arc plot\n",
    "\n",
    "Next up, let's use the Arc plot to visualize the network. You're going to practice sorting the nodes in the graph as well.\n",
    "\n",
    "Note: this exercise may take about 4-7 seconds to execute if done correctly.\n",
    "\n",
    "### Instructions\n",
    "    - Make an Arc plot of the GitHub collaboration network, with authors sorted by degree. To do this:\n",
    "        - Iterate over all the nodes in G, including the metadata (by specifying data=True).\n",
    "        - In each iteration of the loop, calculate the degree of each node n with nx.degree() and set its 'degree' attribute. nx.degree() accepts two arguments: A graph and a node.\n",
    "        - Create the arc plot a by specifying two parameters: the graph argument, which is G, and the sort_by argument, which is 'degree', so that the nodes are sorted.\n",
    "        - Display the arc plot to the screen."
   ]
  },
  {
   "cell_type": "code",
   "execution_count": null,
   "id": "86522b06-b446-4693-9424-5ac8e403258c",
   "metadata": {},
   "outputs": [],
   "source": [
    "# Import necessary modules\n",
    "from nxviz import arc\n",
    "import matplotlib.pyplot as plt\n",
    "\n",
    "# Iterate over all the nodes in G, including the metadata\n",
    "for n, d in G.nodes(data=True):\n",
    "\n",
    "    # Calculate the degree of each node: G.node[n]['degree']\n",
    "    G.nodes[n]['degree'] = nx.degree(G, n)\n",
    "\n",
    "# Create the Arc plot: a\n",
    "a = arc(G, sort_by='degree')\n",
    "\n",
    "# Draw the Arc plot to the screen\n",
    "plt.show()"
   ]
  },
  {
   "cell_type": "markdown",
   "id": "8ea640ee-fb97-4416-a46c-837b48fcafbf",
   "metadata": {},
   "source": [
    "## Circos plot\n",
    "\n",
    "Finally, you're going to make a Circos plot of the network!\n",
    "\n",
    "### Instructions\n",
    "    - Make a Circos plot of the network, again, with GitHub users sorted by their degree, and grouped and colored by their 'grouping' key. To do this:\n",
    "        - Iterate over all the nodes in G, including the metadata (by specifying data=True).\n",
    "        - In each iteration of the loop, calculate the degree of each node n with nx.degree() and set its 'degree' attribute.\n",
    "        - Create the circos plot c by specifying three parameters in addition to the graph G: the sort_by argument, which is 'degree', and the group_by and node_color_by arguments, which are both 'grouping'.\n",
    "        - Draw the Circos plot to the screen."
   ]
  },
  {
   "cell_type": "code",
   "execution_count": null,
   "id": "f4910eb4-3622-49d1-ac11-1c55f7bab45d",
   "metadata": {},
   "outputs": [],
   "source": [
    "# Import necessary modules\n",
    "from nxviz import circos\n",
    "import matplotlib.pyplot as plt\n",
    "\n",
    "# Iterate over all the nodes, including the metadata\n",
    "for n, d in G.nodes(data=True):\n",
    "\n",
    "    # Calculate the degree of each node: G.node[n]['degree']\n",
    "    G.nodes[n]['degree'] = nx.degree(G, n)\n",
    "\n",
    "# Create the Circos plot: c\n",
    "c = circos(G, sort_by='degree', group_by='grouping', node_color_by='grouping')\n",
    "\n",
    "# Draw the Circos plot to the screen\n",
    "c\n",
    "plt.show()"
   ]
  },
  {
   "cell_type": "markdown",
   "id": "065e8c23-a64c-4192-aa4a-9887de16ba74",
   "metadata": {},
   "source": [
    "## Finding cliques (I)\n",
    "\n",
    "You're now going to practice finding cliques in G. Recall that cliques are \"groups of nodes that are fully connected to one another\", while a maximal clique is a clique that cannot be extended by adding another node in the graph.\n",
    "\n",
    "### Instructions\n",
    "    - Count the number of maximal cliques present in the graph and print it.\n",
    "        - Use the nx.find_cliques() function of G to find the maximal cliques.\n",
    "        - The nx.find_cliques() function returns a generator object. To count the number of maximal cliques, you need to first convert it to a list with list() and then use the len() function. Place this inside a print() function to print it."
   ]
  },
  {
   "cell_type": "code",
   "execution_count": null,
   "id": "75ebbad9-e737-4df5-813b-04ce98519f47",
   "metadata": {},
   "outputs": [],
   "source": [
    "# Calculate the maximal cliques in G: cliques\n",
    "cliques = nx.find_cliques(G)\n",
    "\n",
    "# Count and print the number of maximal cliques in G\n",
    "print(len(list(cliques)))"
   ]
  },
  {
   "cell_type": "markdown",
   "id": "8f65c8a0-bd6a-43a6-afe5-a0c04e6d3dc9",
   "metadata": {},
   "source": [
    "## Finding cliques (II)\n",
    "\n",
    "Great work! Let's continue by finding a particular maximal clique, and then plotting that clique.\n",
    "\n",
    "### Instructions\n",
    "    - Find the author(s) that are part of the largest maximal clique, and plot the subgraph of that/one of those clique(s) using a Circos plot. To do this:\n",
    "        - Use the nx.find_cliques() function to calculate the maximal cliques in G. Place this within the provided sorted() function to calculate the largest maximal clique.\n",
    "        - Create the subgraph consisting of the largest maximal clique using the .subgraph() method and largest_clique.\n",
    "        - Create the Circos plot object using the subgraph G_lc (without any other arguments) and plot it."
   ]
  },
  {
   "cell_type": "code",
   "execution_count": null,
   "id": "a4368ae7-efe9-4c0e-a55a-d3d5fa13c44c",
   "metadata": {},
   "outputs": [],
   "source": [
    "# Import necessary modules\n",
    "import networkx as nx\n",
    "from nxviz import circos\n",
    "import matplotlib.pyplot as plt\n",
    "\n",
    "# Find the author(s) that are part of the largest maximal clique: largest_clique\n",
    "largest_clique = sorted(nx.find_cliques(G), key=lambda x:len(x))[-1]\n",
    "\n",
    "# Create the subgraph of the largest_clique: G_lc\n",
    "G_lc = G.subgraph(largest_clique)\n",
    "\n",
    "# Create the Circos plot: c\n",
    "c = circos(G_lc)\n",
    "\n",
    "# Draw the Circos plot to the screen\n",
    "plt.show()"
   ]
  },
  {
   "cell_type": "markdown",
   "id": "09c8c7d7-8c4b-4a6b-bd47-948523239fd9",
   "metadata": {},
   "source": [
    "## Finding important collaborators\n",
    "\n",
    "Almost there! You'll now look at important nodes once more. Here, you'll make use of the degree_centrality() and betweenness_centrality() functions in NetworkX to compute each of the respective centrality scores, and then use that information to find the \"important nodes\". In other words, your job in this exercise is to find the user(s) that have collaborated with the most number of users.\n",
    "\n",
    "### Instructions\n",
    "    - Compute the degree centralities of G. Store the result as deg_cent.\n",
    "    - Compute the maximum degree centrality. Since deg_cent is a dictionary, you'll have to use the .values() method to get a list of its values before computing the maximum degree centrality with max().\n",
    "    - Identify the most prolific collaborators using a list comprehension:\n",
    "        - Iterate over the degree centrality dictionary deg_cent that was computed earlier using its .items() method. What condition should be satisfied if you are seeking to find user(s) that have collaborated with the most number of users? Hint: It has do to with the maximum degree centrality.\n",
    "    - Hit 'Submit Answer' to see who the most prolific collaborator(s) is/are!"
   ]
  },
  {
   "cell_type": "code",
   "execution_count": null,
   "id": "e3590e24-8b51-482d-b72e-39fd2fcb9c5b",
   "metadata": {},
   "outputs": [],
   "source": [
    "# Compute the degree centralities of G: deg_cent\n",
    "deg_cent = nx.degree_centrality(G)\n",
    "\n",
    "# Compute the maximum degree centrality: max_dc\n",
    "max_dc = max(deg_cent.values())\n",
    "\n",
    "# Find the user(s) that have collaborated the most: prolific_collaborators\n",
    "prolific_collaborators = [n for n, dc in deg_cent.items() if dc == max_dc]\n",
    "\n",
    "# Print the most prolific collaborator(s)\n",
    "print(prolific_collaborators)\n"
   ]
  },
  {
   "cell_type": "markdown",
   "id": "427788c1-a6f7-4a34-b50a-4cf0c277e5fb",
   "metadata": {},
   "source": [
    "## Characterizing editing communities\n",
    "\n",
    "You're now going to combine what you've learned about the BFS algorithm and concept of maximal cliques to visualize the network with an Arc plot.\n",
    "\n",
    "The largest maximal clique in the Github user collaboration network has been assigned to the subgraph G_lmc. Note that for NetworkX version 2.x and later, G.subgraph(nodelist) returns only an immutable view on the original graph. We must explicitly ask for a .copy() of the graph to obtain a mutable version.\n",
    "\n",
    "### Instructions\n",
    "    - Go out 1 degree of separation from the clique, and add those users to the subgraph. Inside the first for loop:\n",
    "        - Add nodes to G_lmc from the neighbors of G using the .add_nodes_from() and .neighbors() methods.\n",
    "        - Using the .add_edges_from(), method, add edges to G_lmc between the current node and all its neighbors. To do this, you'll have create a list of tuples using the zip() function consisting of the current node and each of its neighbors. The first argument to zip() should be [node]*len(list(G.neighbors(node))), and the second argument should be the neighbors of node.\n",
    "    - Record each node's degree centrality score in its node metadata.\n",
    "        - Do this by assigning nx.degree_centrality(G_lmc)[n] to G_lmc.nodes[n]['degree centrality'] in the second for loop.\n",
    "    - Visualize this network with an Arc plot sorting the nodes by degree centrality (you can do this using the keyword argument sort_by='degree centrality')."
   ]
  },
  {
   "cell_type": "code",
   "execution_count": null,
   "id": "2e9156a4-243f-44d3-8fc7-5ea614cb71dc",
   "metadata": {},
   "outputs": [],
   "source": [
    "# Import necessary modules\n",
    "from nxviz import arc\n",
    "import matplotlib.pyplot as plt\n",
    "\n",
    "# Identify the largest maximal clique: largest_max_clique\n",
    "largest_max_clique = set(sorted(nx.find_cliques(G), key=lambda x: len(x))[-1])\n",
    "\n",
    "# Create a subgraph from the largest_max_clique: G_lmc\n",
    "G_lmc = G.subgraph(largest_max_clique).copy()\n",
    "\n",
    "# Go out 1 degree of separation\n",
    "for node in list(G_lmc.nodes()):\n",
    "    G_lmc.add_nodes_from(G.neighbors(node))\n",
    "    G_lmc.add_edges_from(zip([node]*len(list(G.neighbors(node))), G.neighbors(node)))\n",
    "\n",
    "# Record each node's degree centrality score\n",
    "for n in G_lmc.nodes():\n",
    "    G_lmc.nodes[n]['degree centrality'] = nx.degree_centrality(G_lmc)[n]\n",
    "\n",
    "# Create the Arc plot: a\n",
    "a = arc(G_lmc, sort_by='degree centrality')\n",
    "\n",
    "# Draw the Arc plot to the screen\n",
    "plt.show()"
   ]
  },
  {
   "cell_type": "markdown",
   "id": "aad6a2fc-df2a-4533-bbd5-c154c735490c",
   "metadata": {},
   "source": [
    "## Recommending co-editors who have yet to edit together\n",
    "\n",
    "Finally, you're going to leverage the concept of open triangles to recommend users on GitHub to collaborate!\n",
    "\n",
    "### Instructions\n",
    "    - Compile a list of GitHub users that should be recommended to collaborate with one another. To do this:\n",
    "        - In the first for loop, iterate over all the nodes in G, including the metadata (by specifying data=True).\n",
    "        - In the second for loop, iterate over all the possible triangle combinations, which can be identified using the combinations() function with a size of 2.\n",
    "        - If n1 and n2 do not have an edge between them, a collaboration between these two nodes (users) should be recommended, so increment the (n1), (n2) value of the recommended dictionary in this case. You can check whether or not n1 and n2 have an edge between them using the .has_edge() method.\n",
    "    - Using a list comprehension, identify the top 10 pairs of users that should be recommended to collaborate. The iterable should be the key-value pairs of the recommended dictionary (which can be accessed with the .items() method), while the conditional should be satisfied if count is greater than the top 10 in all_counts. Note that all_counts is sorted in ascending order, so you can access the top 10 with all_counts[-10]."
   ]
  },
  {
   "cell_type": "code",
   "execution_count": null,
   "id": "481e8b4d-1dc9-477d-a3f7-8ea9f8704183",
   "metadata": {},
   "outputs": [],
   "source": [
    "# Import necessary modules\n",
    "from itertools import combinations\n",
    "from collections import defaultdict\n",
    "\n",
    "# Initialize the defaultdict: recommended\n",
    "recommended = defaultdict(int)\n",
    "\n",
    "# Iterate over all the nodes in G\n",
    "for n, d in G.nodes(data=True):\n",
    "\n",
    "    # Iterate over all possible triangle relationship combinations\n",
    "    for n1, n2 in combinations(list(G.neighbors(n)), 2):\n",
    "\n",
    "        # Check whether n1 and n2 do not have an edge\n",
    "        if not G.has_edge(n1, n2):\n",
    "\n",
    "            # Increment recommended\n",
    "            recommended[(n1, n2)] += 1\n",
    "\n",
    "# Identify the top 10 pairs of users\n",
    "all_counts = sorted(recommended.values())\n",
    "top10_pairs = [pair for pair, count in recommended.items() if count > all_counts[-10]]\n",
    "print(top10_pairs)\n"
   ]
  }
 ],
 "metadata": {
  "kernelspec": {
   "display_name": "Python 3 (ipykernel)",
   "language": "python",
   "name": "python3"
  },
  "language_info": {
   "codemirror_mode": {
    "name": "ipython",
    "version": 3
   },
   "file_extension": ".py",
   "mimetype": "text/x-python",
   "name": "python",
   "nbconvert_exporter": "python",
   "pygments_lexer": "ipython3",
   "version": "3.11.6"
  }
 },
 "nbformat": 4,
 "nbformat_minor": 5
}
