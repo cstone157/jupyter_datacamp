{
 "cells": [
  {
   "cell_type": "markdown",
   "id": "86d2443c-6756-4dd4-8577-8b9090e668bb",
   "metadata": {},
   "source": [
    "## Compute number of neighbors for each node\n",
    "\n",
    "How do you evaluate whether a node is an important one or not? There are a few ways to do so, and here, you're going to look at one metric: the number of neighbors that a node has.\n",
    "\n",
    "Every NetworkX graph G exposes a .neighbors(n) method that returns an iterator of nodes that are the neighbors of the node n. To begin, use this method in the IPython Shell on the Twitter network T to get the neighbors of of node 1. This will get you familiar with how the function works. Then, your job in this exercise is to write a function that returns all nodes that have m neighbors.\n",
    "\n",
    "### Instructions\n",
    "    - Write a function called nodes_with_m_nbrs() that has two parameters - G and m - and returns all nodes that have m neighbors. To do this:\n",
    "        - Iterate over all nodes in G (not including the metadata).\n",
    "        - Use the len() and list() functions together with the .neighbors() method to calculate the total number of neighbors that node n in graph G has.\n",
    "            - If the number of neighbors of node n is equal to m, add n to the set nodes using the .add() method.\n",
    "        - After iterating over all the nodes in G, return the set nodes.\n",
    "    - Use your nodes_with_m_nbrs() function to retrieve all the nodes that have 6 neighbors in the graph T."
   ]
  },
  {
   "cell_type": "code",
   "execution_count": null,
   "id": "b6a8deb7-a493-4605-b847-7a593c43838b",
   "metadata": {},
   "outputs": [],
   "source": [
    "# Define nodes_with_m_nbrs()\n",
    "def nodes_with_m_nbrs(G, m):\n",
    "    \"\"\"\n",
    "    Returns all nodes in graph G that have m neighbors.\n",
    "    \"\"\"\n",
    "    nodes = set()\n",
    "\n",
    "    # Iterate over all nodes in G\n",
    "    for n in G.nodes(data=False):\n",
    "\n",
    "        # Check if the number of neighbors of n matches m\n",
    "        if len(list(G.neighbors(n))) == m:\n",
    "\n",
    "            # Add the node n to the set\n",
    "            nodes.add(n)\n",
    "\n",
    "    # Return the nodes with m neighbors\n",
    "    return nodes\n",
    "\n",
    "# Compute and print all nodes in T that have 6 neighbors\n",
    "six_nbrs = nodes_with_m_nbrs(T, 6)\n",
    "print(six_nbrs)"
   ]
  },
  {
   "cell_type": "markdown",
   "id": "0cbcbdcb-a362-4a75-abd2-c0094344ba27",
   "metadata": {},
   "source": [
    "## Compute degree distribution\n",
    "\n",
    "The number of neighbors that a node has is called its \"degree\", and it's possible to compute the degree distribution across the entire graph. In this exercise, your job is to compute the degree distribution across T.\n",
    "\n",
    "### Instructions\n",
    "    - Use a list comprehension along with the .neighbors(n) method to get the degree of every node. The result should be a list of integers.\n",
    "        - Use n as your iterator variable.\n",
    "        - The output expression of your list comprehension should be the number of neighbors that node n has - that is, its degree. Use the len() and list() functions together with the .neighbors() method to compute this.\n",
    "        - The iterable in your list comprehension is all the nodes in T, accessed using the .nodes() method.\n",
    "    - Print the degrees."
   ]
  },
  {
   "cell_type": "code",
   "execution_count": null,
   "id": "98517397-62fd-4208-ad36-5dc7bddb1cbe",
   "metadata": {},
   "outputs": [],
   "source": [
    "# Compute the degree of every node: degrees\n",
    "degrees = [len(list(T.neighbors(n))) for n in T.nodes()]\n",
    "\n",
    "# Print the degrees\n",
    "print(degrees)"
   ]
  }
 ],
 "metadata": {
  "kernelspec": {
   "display_name": "Python 3 (ipykernel)",
   "language": "python",
   "name": "python3"
  },
  "language_info": {
   "codemirror_mode": {
    "name": "ipython",
    "version": 3
   },
   "file_extension": ".py",
   "mimetype": "text/x-python",
   "name": "python",
   "nbconvert_exporter": "python",
   "pygments_lexer": "ipython3",
   "version": "3.11.6"
  }
 },
 "nbformat": 4,
 "nbformat_minor": 5
}
