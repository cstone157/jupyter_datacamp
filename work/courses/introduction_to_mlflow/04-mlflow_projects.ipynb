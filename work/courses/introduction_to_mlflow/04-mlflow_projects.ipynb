{
 "cells": [
  {
   "cell_type": "markdown",
   "id": "a6b1034b-cb80-41e4-a725-3fbccc808359",
   "metadata": {},
   "source": [
    "## Creating an MLproject\n",
    "\n",
    "An MLproject file is a yaml file that stores the configuration of an MLflow Project. The file defines information such as name of the Project, Python environment and entry points to be executed as part of a workflow.\n",
    "\n",
    "In this exercise, you will create an MLproject file to describe an MLflow Project. You will define the name of the Project, the Python environment, and also create an entry point.\n",
    "\n",
    "### Instructions\n",
    "    - Set the name of the Project to insurance_model.\n",
    "    - Set the Python environment to use a file called python_env.yaml.\n",
    "    - Create an entry point called main.\n",
    "    - Create a command for the main entry point that uses python3.9 to execute train_model.py."
   ]
  },
  {
   "cell_type": "code",
   "execution_count": null,
   "id": "9358fc3b-c07c-4acb-b814-c96beab7a5f0",
   "metadata": {},
   "outputs": [],
   "source": [
    "\"\"\"\n",
    "# Set name of the Project\n",
    "name: insurance_model\n",
    "\n",
    "# Set the environment\n",
    "python_env: python_env.yaml\n",
    "\n",
    "entry_points:\n",
    " \t# Create an entry point\n",
    "  \tmain:\n",
    "  \t\t# Create a command\n",
    "    \tcommand: 'python3.9 train_model.py'\n",
    "\"\"\""
   ]
  },
  {
   "cell_type": "markdown",
   "id": "119e1c1d-649c-4341-bb6d-de918c6d6c93",
   "metadata": {},
   "source": [
    "## MLflow projects module\n",
    "\n",
    "MLflow Projects can also be run programmatically with Python using the mlflow projects module.\n",
    "\n",
    "In this exercise you will run an MLflow Project using the projects module to train a model for your \"Insurance\" Project. You will define the entry point from your MLproject file to execute the training code. You will also define the experiment name of \"Insurance\" so that the model is properly logged to the correct experiment in MLflow Tracking.\n",
    "\n",
    "You may read the contents of the MLproject file by executing print(MLproject) in the IPython shell.\n",
    "\n",
    "### Instructions\n",
    "    - Call the run() function from the mlflow projects module.\n",
    "    - Set the URI for the MLproject file to the current working directory.\n",
    "    - Set the entry point to \"main\" according to the MLproject file.\n",
    "    - Set the experiment name to \"Insurance\"."
   ]
  },
  {
   "cell_type": "code",
   "execution_count": null,
   "id": "3a0c46e0-d598-4306-af14-7a0f9fac9a84",
   "metadata": {},
   "outputs": [],
   "source": [
    "import mlflow\n",
    "\n",
    "# Set the run function from the MLflow Projects module\n",
    "mlflow.projects.run(\n",
    "  \t# Set the URI as the current working directory\n",
    "    uri='./',\n",
    "    # Set the entry point to main\n",
    "    entry_point='main',\n",
    "    # Set the experiment name as Insurance\n",
    "    experiment_name='Insurance',\n",
    "    env_manager=\"local\",\n",
    "    synchronous=True,\n",
    ")"
   ]
  },
  {
   "cell_type": "markdown",
   "id": "d14a60b3-4ebd-4e1d-8fb3-c689f45480b6",
   "metadata": {},
   "source": [
    "## Adding parameters to MLproject\n",
    "\n",
    "Defining parameters in MLflow Projects allows you to make your ML code reproducible. Parameters also simplify running training experiments with different settings without having to change code.\n",
    "\n",
    "In this exercise, you are going to add parameters to your MLproject file for the main entry point. This entry point is used to run the train_model.py script which trains a Logistic Regression model from Insurance data.\n",
    "\n",
    "The script accepts two parameters, n_jobs and fit_intercept, which are hyperparameters used to train the model. You will begin by adding the n_jobs parameter in the MLproject file. You will then add the fit_intercept parameter. Finally, you will add the parameters to the command executed in the main entry point.\n",
    "\n",
    "### Instructions\n",
    "    - Create a parameter called n_jobs as a type int and a default value of 1.\n",
    "    - Create a second parameter called fit_intercept as a type bool with a default value set to True.\n",
    "    - Pass both parameters into the command ensuring that n_jobs is the first followed by fit_intercept."
   ]
  },
  {
   "cell_type": "code",
   "execution_count": null,
   "id": "237c21c4-6e41-4214-bfc6-e94ccd384622",
   "metadata": {},
   "outputs": [],
   "source": [
    "\"\"\"\n",
    "name: insurance_model\n",
    "python_env: python_env.yaml\n",
    "entry_points:\n",
    "  main:\n",
    "    parameters:\n",
    "      # Create parameter for number of jobs as n_jobs\n",
    "      n_jobs:\n",
    "        type: int\n",
    "        default: 1\n",
    "      # Create parameter for fit_intercept\n",
    "      fit_intercept:\n",
    "        type: bool\n",
    "        default: True\n",
    "    # Add parameters to be passed into the command\n",
    "    command: \"python3.9 train_model.py {n_jobs} {fit_intercept}\"\n",
    "\"\"\""
   ]
  },
  {
   "cell_type": "markdown",
   "id": "194a205d-0568-4b4b-84a8-00f70f9555c1",
   "metadata": {},
   "source": [
    "## Adding parameters to project run\n",
    "\n",
    "Parameters can be used to configure the behavior of a model by being passed as variables to the model during training. This allows you to train the model several times using different parameters without modifying the training code itself.\n",
    "\n",
    "In this exercise, you will use the mlflow projects module to run a Project used to train a Logistic Regression model for your Insurance experiment. You will create code using the mlflow projects module that will run your project. You will then add parameters that will be passed as hyperparameters to the model during training.\n",
    "\n",
    "### Instructions\n",
    "    - Call mlflow.projects.run() function from the mlflow projects module.\n",
    "    - Create the parameters dictionary and set n_jobs_param to 2 and fit_intercept_param to False."
   ]
  },
  {
   "cell_type": "code",
   "execution_count": null,
   "id": "bb4daa2e-9adc-42fa-8d87-32002009d50d",
   "metadata": {},
   "outputs": [],
   "source": [
    "import mlflow\n",
    "\n",
    "# Set the run function from the MLflow Projects module\n",
    "mlflow.projects.run(\n",
    "    uri='./',\n",
    "    entry_point='main',\n",
    "    experiment_name='Insurance',\n",
    "  \tenv_manager='local',\n",
    "  \t# Set parameters for n_jobs and fit_intercept\n",
    "  \tparameters={\n",
    "        'n_jobs_param': 2, \n",
    "        'fit_intercept_param': False\n",
    "    }\n",
    ")"
   ]
  },
  {
   "cell_type": "markdown",
   "id": "86af950a-5c73-4ad4-8ec8-887b6921f8b4",
   "metadata": {},
   "source": [
    "## Creating an MLproject for the ML Lifecycle: Model Engineering\n",
    "\n",
    "The MLproject file can include more than one entry point. This means that you can use a single MLproject file to execute multiple entry points, making it possible to execute a workflow of multiple steps using a single MLproject file.\n",
    "\n",
    "In this exercise you are going to build the beginning of an MLproject file that contains the model_engineering entry point. This entry point will execute a python script that accepts parameters used as hyperparameter values for fit_intercept and n_jobs to a Logistic Regression model. This model is used to predict sex of person from an insurance claim.\n",
    "\n",
    "### Instructions\n",
    "    - Create an entry point for the Model Engineering step of the ML lifecycle called model_engineering.\n",
    "    - Set the first entry point parameter to n_jobs and and second to fit_intercept.\n",
    "    - Place the parameters within the command."
   ]
  },
  {
   "cell_type": "code",
   "execution_count": null,
   "id": "92372d31-995b-4b94-a9ef-3a8196b54fbd",
   "metadata": {},
   "outputs": [],
   "source": [
    "\"\"\"\n",
    "name: insurance_model\n",
    "python_env: python_env.yaml\n",
    "entry_points:\n",
    "  # Set the entry point\n",
    "  model_engineering:\n",
    "    parameters: \n",
    "      # Set n_jobs \n",
    "      n_jobs:\n",
    "        type: int\n",
    "        default: 1\n",
    "      # Set fit_intercept\n",
    "      fit_intercept:\n",
    "        type: bool\n",
    "        default: True\n",
    "    # Pass the parameters to the command\n",
    "    command: \"python3.9 train_model.py {n_jobs} {fit_intercept}\"\n",
    "\"\"\""
   ]
  },
  {
   "cell_type": "markdown",
   "id": "334ee233-e630-4133-b363-99738abf41c3",
   "metadata": {},
   "source": [
    "## Creating an MLproject for the ML Lifecycle: Model Evaluation\n",
    "\n",
    "In this exercise, you will continue creating your MLproject file to manage steps of the ML lifecycle. You will create another entry point called model_evaluation. This step in the workflow accepts the run_id output from the model_engineering step and runs model evaluation using training data from our Insurance dataset.\n",
    "\n",
    "You can print the current MLproject file using the IPython Shell and executing print(MLproject).\n",
    "\n",
    "### Instructions\n",
    "    - Create an entry point called model_evaluation.\n",
    "    - Set parameters for run_id.\n",
    "    - Place the parameter within the command."
   ]
  },
  {
   "cell_type": "code",
   "execution_count": null,
   "id": "ad3db4fb-37e9-4d86-8467-cf7420c22227",
   "metadata": {},
   "outputs": [],
   "source": [
    "\"\"\"\n",
    "  # Set the model_evaluation entry point\n",
    "  model_evaluation:\n",
    "    parameters:\n",
    "      # Set run_id parameter\n",
    "      run_id:\n",
    "        type: str \n",
    "        default: None\n",
    "    # Set the parameters in the command\n",
    "    command: \"python3.9 evaluate.py {run_id}\"\n",
    "\"\"\""
   ]
  },
  {
   "cell_type": "markdown",
   "id": "3eea1096-2cf7-42f7-88e4-4375dc10ae38",
   "metadata": {},
   "source": [
    "## Creating a multi-step workflow: Model Engineering\n",
    "\n",
    "The MLflow Projects module can be used as a way to run a multi-step workflow. All steps can be coordinated though a single Python program that passes results from previous steps to the following.\n",
    "\n",
    "In this exercise, you will begin creating a multi-step workflow to manage the Model Engineering and Model Evaluation steps of the ML lifecycle. You will use the run() method from the MLflow Projects module for the model_engineering entry point and pass parameters used as hyperparameters for model training. You will also capture the output of the run_id and set it to a variable so that it can be passed to the model_evaluation step of the workflow as a parameter.\n",
    "\n",
    "The MLproject created in the previous step is available in the IPython Shell using print(MLproject). The MLflow module is imported.\n",
    "\n",
    "### Instructions\n",
    "    - Assign the run() method from MLflow Projects module to a variable called model_engineering.\n",
    "    - Set the entry point argument to \"model_engineering\".\n",
    "    - Set parameters for training the model. \"n_jobs\" to 2 and \"fit_intercept\" to False.\n",
    "    - Set the run_id attribute of model_engineering to a variable called model_engineering_run_id."
   ]
  },
  {
   "cell_type": "code",
   "execution_count": null,
   "id": "17b19436-3ce2-4363-9268-fe18073a5d4c",
   "metadata": {},
   "outputs": [],
   "source": []
  }
 ],
 "metadata": {
  "kernelspec": {
   "display_name": "Python 3 (ipykernel)",
   "language": "python",
   "name": "python3"
  },
  "language_info": {
   "codemirror_mode": {
    "name": "ipython",
    "version": 3
   },
   "file_extension": ".py",
   "mimetype": "text/x-python",
   "name": "python",
   "nbconvert_exporter": "python",
   "pygments_lexer": "ipython3",
   "version": "3.11.6"
  }
 },
 "nbformat": 4,
 "nbformat_minor": 5
}
