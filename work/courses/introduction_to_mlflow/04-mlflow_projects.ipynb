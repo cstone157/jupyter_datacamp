{
 "cells": [
  {
   "cell_type": "markdown",
   "id": "a6b1034b-cb80-41e4-a725-3fbccc808359",
   "metadata": {},
   "source": [
    "## Creating an MLproject\n",
    "\n",
    "An MLproject file is a yaml file that stores the configuration of an MLflow Project. The file defines information such as name of the Project, Python environment and entry points to be executed as part of a workflow.\n",
    "\n",
    "In this exercise, you will create an MLproject file to describe an MLflow Project. You will define the name of the Project, the Python environment, and also create an entry point.\n",
    "\n",
    "### Instructions\n",
    "    - Set the name of the Project to insurance_model.\n",
    "    - Set the Python environment to use a file called python_env.yaml.\n",
    "    - Create an entry point called main.\n",
    "    - Create a command for the main entry point that uses python3.9 to execute train_model.py."
   ]
  },
  {
   "cell_type": "code",
   "execution_count": null,
   "id": "9358fc3b-c07c-4acb-b814-c96beab7a5f0",
   "metadata": {},
   "outputs": [],
   "source": [
    "\"\"\"\n",
    "# Set name of the Project\n",
    "name: insurance_model\n",
    "\n",
    "# Set the environment\n",
    "python_env: python_env.yaml\n",
    "\n",
    "entry_points:\n",
    " \t# Create an entry point\n",
    "  \tmain:\n",
    "  \t\t# Create a command\n",
    "    \tcommand: 'python3.9 train_model.py'\n",
    "\"\"\""
   ]
  },
  {
   "cell_type": "markdown",
   "id": "119e1c1d-649c-4341-bb6d-de918c6d6c93",
   "metadata": {},
   "source": [
    "## MLflow projects module\n",
    "\n",
    "MLflow Projects can also be run programmatically with Python using the mlflow projects module.\n",
    "\n",
    "In this exercise you will run an MLflow Project using the projects module to train a model for your \"Insurance\" Project. You will define the entry point from your MLproject file to execute the training code. You will also define the experiment name of \"Insurance\" so that the model is properly logged to the correct experiment in MLflow Tracking.\n",
    "\n",
    "You may read the contents of the MLproject file by executing print(MLproject) in the IPython shell.\n",
    "\n",
    "### Instructions\n",
    "    - Call the run() function from the mlflow projects module.\n",
    "    - Set the URI for the MLproject file to the current working directory.\n",
    "    - Set the entry point to \"main\" according to the MLproject file.\n",
    "    - Set the experiment name to \"Insurance\"."
   ]
  },
  {
   "cell_type": "code",
   "execution_count": null,
   "id": "3a0c46e0-d598-4306-af14-7a0f9fac9a84",
   "metadata": {},
   "outputs": [],
   "source": [
    "import mlflow\n",
    "\n",
    "# Set the run function from the MLflow Projects module\n",
    "mlflow.projects.run(\n",
    "  \t# Set the URI as the current working directory\n",
    "    uri='./',\n",
    "    # Set the entry point to main\n",
    "    entry_point='main',\n",
    "    # Set the experiment name as Insurance\n",
    "    experiment_name='Insurance',\n",
    "    env_manager=\"local\",\n",
    "    synchronous=True,\n",
    ")"
   ]
  },
  {
   "cell_type": "markdown",
   "id": "d14a60b3-4ebd-4e1d-8fb3-c689f45480b6",
   "metadata": {},
   "source": [
    "## Adding parameters to MLproject\n",
    "\n",
    "Defining parameters in MLflow Projects allows you to make your ML code reproducible. Parameters also simplify running training experiments with different settings without having to change code.\n",
    "\n",
    "In this exercise, you are going to add parameters to your MLproject file for the main entry point. This entry point is used to run the train_model.py script which trains a Logistic Regression model from Insurance data.\n",
    "\n",
    "The script accepts two parameters, n_jobs and fit_intercept, which are hyperparameters used to train the model. You will begin by adding the n_jobs parameter in the MLproject file. You will then add the fit_intercept parameter. Finally, you will add the parameters to the command executed in the main entry point.\n",
    "\n",
    "### Instructions\n",
    "    - Create a parameter called n_jobs as a type int and a default value of 1.\n",
    "    - Create a second parameter called fit_intercept as a type bool with a default value set to True.\n",
    "    - Pass both parameters into the command ensuring that n_jobs is the first followed by fit_intercept."
   ]
  },
  {
   "cell_type": "code",
   "execution_count": null,
   "id": "237c21c4-6e41-4214-bfc6-e94ccd384622",
   "metadata": {},
   "outputs": [],
   "source": [
    "\"\"\"\n",
    "name: insurance_model\n",
    "python_env: python_env.yaml\n",
    "entry_points:\n",
    "  main:\n",
    "    parameters:\n",
    "      # Create parameter for number of jobs as n_jobs\n",
    "      n_jobs:\n",
    "        type: int\n",
    "        default: 1\n",
    "      # Create parameter for fit_intercept\n",
    "      fit_intercept:\n",
    "        type: bool\n",
    "        default: True\n",
    "    # Add parameters to be passed into the command\n",
    "    command: \"python3.9 train_model.py {n_jobs} {fit_intercept}\"\n",
    "\"\"\""
   ]
  },
  {
   "cell_type": "markdown",
   "id": "194a205d-0568-4b4b-84a8-00f70f9555c1",
   "metadata": {},
   "source": [
    "## Adding parameters to project run\n",
    "\n",
    "Parameters can be used to configure the behavior of a model by being passed as variables to the model during training. This allows you to train the model several times using different parameters without modifying the training code itself.\n",
    "\n",
    "In this exercise, you will use the mlflow projects module to run a Project used to train a Logistic Regression model for your Insurance experiment. You will create code using the mlflow projects module that will run your project. You will then add parameters that will be passed as hyperparameters to the model during training.\n",
    "\n",
    "### Instructions\n",
    "    - Call mlflow.projects.run() function from the mlflow projects module.\n",
    "    - Create the parameters dictionary and set n_jobs_param to 2 and fit_intercept_param to False."
   ]
  },
  {
   "cell_type": "code",
   "execution_count": null,
   "id": "bb4daa2e-9adc-42fa-8d87-32002009d50d",
   "metadata": {},
   "outputs": [],
   "source": [
    "import mlflow\n",
    "\n",
    "# Set the run function from the MLflow Projects module\n",
    "mlflow.projects.run(\n",
    "    uri='./',\n",
    "    entry_point='main',\n",
    "    experiment_name='Insurance',\n",
    "  \tenv_manager='local',\n",
    "  \t# Set parameters for n_jobs and fit_intercept\n",
    "  \tparameters={\n",
    "        'n_jobs_param': 2, \n",
    "        'fit_intercept_param': False\n",
    "    }\n",
    ")"
   ]
  }
 ],
 "metadata": {
  "kernelspec": {
   "display_name": "Python 3 (ipykernel)",
   "language": "python",
   "name": "python3"
  },
  "language_info": {
   "codemirror_mode": {
    "name": "ipython",
    "version": 3
   },
   "file_extension": ".py",
   "mimetype": "text/x-python",
   "name": "python",
   "nbconvert_exporter": "python",
   "pygments_lexer": "ipython3",
   "version": "3.11.6"
  }
 },
 "nbformat": 4,
 "nbformat_minor": 5
}
