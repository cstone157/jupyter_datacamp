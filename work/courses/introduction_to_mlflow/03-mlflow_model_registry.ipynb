{
 "cells": [
  {
   "cell_type": "markdown",
   "id": "f17985c9-2dd8-49f4-8970-13940ebb99ec",
   "metadata": {},
   "source": [
    "## Create a Model\n",
    "\n",
    "The MLflow Model Registry provides a centralized storage location for MLflow Models. The Registry enables collaboration and provides a way to manage a model's lifecycle.\n",
    "\n",
    "In this exercise, you will use the mlflow client module to create a new Model named \"Insurance\". This will create an area in the MLflow Model Registry where you can register versioned models at a later time.\n",
    "\n",
    "### Instructions\n",
    "    - Import the mlflow client module.\n",
    "    - Create an instance of the mlflow client class named client.\n",
    "    - Create a new model named \"Insurance\"."
   ]
  },
  {
   "cell_type": "code",
   "execution_count": null,
   "id": "91704699-5bf9-416b-ab8c-95c3ba3994c1",
   "metadata": {},
   "outputs": [],
   "source": [
    "# Import MLflow Client from MLflow module\n",
    "from mlflow import MlflowClient\n",
    "\n",
    "# Create an instance of MLflow Client Class named client\n",
    "client = MlflowClient()\n",
    "\n",
    "# Create new model\n",
    "client.create_registered_model(\"Insurance\")"
   ]
  },
  {
   "cell_type": "markdown",
   "id": "5f42eb6c-9fab-4fd9-804e-66dbab850093",
   "metadata": {},
   "source": [
    "## Searching Models\n",
    "\n",
    "As the MLFlow Model Registry grows and you collaborate with other users, you need to be able to search the Model Registry for models that fit certain criteria.\n",
    "\n",
    "In this exercise, you will create two filter strings to search the MLflow Model Registry for Models. The first filter string searches for all \"Insurance\" Models and the second filter string searches Non-\"Insurance\" Models.\n",
    "\n",
    "Models have already been created by other collaborators using the same MLflow Model Registry and an instance of the MLflow Client module will already be set as client.\n",
    "\n",
    "<code>\n",
    "client = mlflow.MlflowClient()\n",
    "</code>\n",
    "\n",
    "The MLflow Client module will be imported.\n",
    "\n",
    "### Instructions\n",
    "    - Create a filter string that finds all models with a name prefix 'Insurance'.\n",
    "    - Search the Model Registry using the insurance_filter_string.\n",
    "    - Create a filter that finds models that are not equal to the name 'Insurance'.\n",
    "    - Search the Registry with not_insurance_filter_string filter string variable."
   ]
  },
  {
   "cell_type": "code",
   "execution_count": null,
   "id": "0e18ad35-ccc1-468d-ad32-2411d435f8cb",
   "metadata": {},
   "outputs": [],
   "source": [
    "# Insurance filter string\n",
    "insurance_filter_string = \"name LIKE 'Insurance%'\"\n",
    "\n",
    "# Search for Insurance models\n",
    "print(client.search_registered_models(filter_string=insurance_filter_string))\n",
    "\n",
    "# Not Insurance filter string\n",
    "not_insurance_filter_string = \"name != 'Insurance'\"\n",
    "\n",
    "# Search for models that are not Insurance\n",
    "print(client.search_registered_models(filter_string=not_insurance_filter_string))"
   ]
  },
  {
   "cell_type": "markdown",
   "id": "44ca75c1-a66d-40cf-9e44-c98598df47ad",
   "metadata": {},
   "source": [
    "## Registering existing models\n",
    "\n",
    "In this exercise, you will take two existing MLflow Models and register them to the MLflow Model Registry to begin managing the lifecycle of both models. Each of these models was trained using the \"Insurance\" data at a previous date to predict if an insurance claim was for a male or female.\n",
    "\n",
    "The first model can be found in the local directory \"model_2022\" and was never logged to MLflow Tracking. The second model was logged to MLflow Tracking under the artifact URI of \"model_2023\". Its run_id attribute has been saved as a variable named \"run_id\".\n",
    "\n",
    "The mlflow module will be imported.\n",
    "\n",
    "### Instructions\n",
    "    - Register the first model in directory model_2022 as a model named \"Insurance\".\n",
    "    - Register the second model to \"Insurance\" using an f-string literal for run_id and the artifact URI."
   ]
  },
  {
   "cell_type": "code",
   "execution_count": null,
   "id": "e0d4d90e-5d29-4195-a7e6-a4634e638232",
   "metadata": {},
   "outputs": [],
   "source": [
    "# Register the first (2022) model\n",
    "mlflow.register_model(\"model_2022\", \"Insurance\")\n",
    "\n",
    "# Register the second (2023) model\n",
    "mlflow.register_model(f\"runs:/{run_id}/model_2023\", \"Insurance\")"
   ]
  },
  {
   "cell_type": "markdown",
   "id": "fc6d86b7-9b63-4308-a933-713138a4195b",
   "metadata": {},
   "source": [
    "## Registering new models\n",
    "\n",
    "The MLflow Model Registry can also register models during a training run. This is helpful because it enables logging and registering a model under the same function.\n",
    "\n",
    "In this exercise, you will use the scikit-learn flavor to register a model to the Model Registry during a training run when the model is logged to MLflow Tracking. You will then search the Model Registry to ensure the model was registered.\n",
    "\n",
    "This model will be registered alongside existing registered models that were trained on the \"Insurance\" training data. The model has already been trained and set to the variable lr. When searching the Model Registry, an instance of MLflowClient() has been set to client and the filter string has already been created as insurance_filter_string.\n",
    "\n",
    "### Instructions\n",
    "    - Register the lr model to \"Insurance\" using the scikit-learn flavor.\n",
    "    - Search the Model Registry with client to ensure that the model was registered."
   ]
  },
  {
   "cell_type": "code",
   "execution_count": null,
   "id": "e2f8fabe-23f1-4532-b7f2-2bb687973ef9",
   "metadata": {},
   "outputs": [],
   "source": [
    "# Log the model using scikit-learn flavor\n",
    "mlflow.sklearn.log_model(lr, \"model\", registered_model_name=\"Insurance\")\n",
    "insurance_filter_string = \"name = 'Insurance'\"\n",
    "\n",
    "# Search for Insurance models\n",
    "print(client.search_registered_models(filter_string=insurance_filter_string))"
   ]
  }
 ],
 "metadata": {
  "kernelspec": {
   "display_name": "Python 3 (ipykernel)",
   "language": "python",
   "name": "python3"
  },
  "language_info": {
   "codemirror_mode": {
    "name": "ipython",
    "version": 3
   },
   "file_extension": ".py",
   "mimetype": "text/x-python",
   "name": "python",
   "nbconvert_exporter": "python",
   "pygments_lexer": "ipython3",
   "version": "3.11.6"
  }
 },
 "nbformat": 4,
 "nbformat_minor": 5
}
