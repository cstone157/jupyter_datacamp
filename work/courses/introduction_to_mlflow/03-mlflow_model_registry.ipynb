{
 "cells": [
  {
   "cell_type": "markdown",
   "id": "f17985c9-2dd8-49f4-8970-13940ebb99ec",
   "metadata": {},
   "source": [
    "## Create a Model\n",
    "\n",
    "The MLflow Model Registry provides a centralized storage location for MLflow Models. The Registry enables collaboration and provides a way to manage a model's lifecycle.\n",
    "\n",
    "In this exercise, you will use the mlflow client module to create a new Model named \"Insurance\". This will create an area in the MLflow Model Registry where you can register versioned models at a later time.\n",
    "\n",
    "### Instructions\n",
    "    - Import the mlflow client module.\n",
    "    - Create an instance of the mlflow client class named client.\n",
    "    - Create a new model named \"Insurance\"."
   ]
  },
  {
   "cell_type": "code",
   "execution_count": null,
   "id": "91704699-5bf9-416b-ab8c-95c3ba3994c1",
   "metadata": {},
   "outputs": [],
   "source": [
    "# Import MLflow Client from MLflow module\n",
    "from mlflow import MlflowClient\n",
    "\n",
    "# Create an instance of MLflow Client Class named client\n",
    "client = MlflowClient()\n",
    "\n",
    "# Create new model\n",
    "client.create_registered_model(\"Insurance\")"
   ]
  },
  {
   "cell_type": "markdown",
   "id": "5f42eb6c-9fab-4fd9-804e-66dbab850093",
   "metadata": {},
   "source": [
    "## Searching Models\n",
    "\n",
    "As the MLFlow Model Registry grows and you collaborate with other users, you need to be able to search the Model Registry for models that fit certain criteria.\n",
    "\n",
    "In this exercise, you will create two filter strings to search the MLflow Model Registry for Models. The first filter string searches for all \"Insurance\" Models and the second filter string searches Non-\"Insurance\" Models.\n",
    "\n",
    "Models have already been created by other collaborators using the same MLflow Model Registry and an instance of the MLflow Client module will already be set as client.\n",
    "\n",
    "<code>\n",
    "client = mlflow.MlflowClient()\n",
    "</code>\n",
    "\n",
    "The MLflow Client module will be imported.\n",
    "\n",
    "### Instructions\n",
    "    - Create a filter string that finds all models with a name prefix 'Insurance'.\n",
    "    - Search the Model Registry using the insurance_filter_string.\n",
    "    - Create a filter that finds models that are not equal to the name 'Insurance'.\n",
    "    - Search the Registry with not_insurance_filter_string filter string variable."
   ]
  },
  {
   "cell_type": "code",
   "execution_count": null,
   "id": "0e18ad35-ccc1-468d-ad32-2411d435f8cb",
   "metadata": {},
   "outputs": [],
   "source": [
    "# Insurance filter string\n",
    "insurance_filter_string = \"name LIKE 'Insurance%'\"\n",
    "\n",
    "# Search for Insurance models\n",
    "print(client.search_registered_models(filter_string=insurance_filter_string))\n",
    "\n",
    "# Not Insurance filter string\n",
    "not_insurance_filter_string = \"name != 'Insurance'\"\n",
    "\n",
    "# Search for models that are not Insurance\n",
    "print(client.search_registered_models(filter_string=not_insurance_filter_string))"
   ]
  },
  {
   "cell_type": "markdown",
   "id": "44ca75c1-a66d-40cf-9e44-c98598df47ad",
   "metadata": {},
   "source": [
    "## Registering existing models\n",
    "\n",
    "In this exercise, you will take two existing MLflow Models and register them to the MLflow Model Registry to begin managing the lifecycle of both models. Each of these models was trained using the \"Insurance\" data at a previous date to predict if an insurance claim was for a male or female.\n",
    "\n",
    "The first model can be found in the local directory \"model_2022\" and was never logged to MLflow Tracking. The second model was logged to MLflow Tracking under the artifact URI of \"model_2023\". Its run_id attribute has been saved as a variable named \"run_id\".\n",
    "\n",
    "The mlflow module will be imported.\n",
    "\n",
    "### Instructions\n",
    "    - Register the first model in directory model_2022 as a model named \"Insurance\".\n",
    "    - Register the second model to \"Insurance\" using an f-string literal for run_id and the artifact URI."
   ]
  },
  {
   "cell_type": "code",
   "execution_count": null,
   "id": "e0d4d90e-5d29-4195-a7e6-a4634e638232",
   "metadata": {},
   "outputs": [],
   "source": [
    "# Register the first (2022) model\n",
    "mlflow.register_model(\"model_2022\", \"Insurance\")\n",
    "\n",
    "# Register the second (2023) model\n",
    "mlflow.register_model(f\"runs:/{run_id}/model_2023\", \"Insurance\")"
   ]
  },
  {
   "cell_type": "markdown",
   "id": "fc6d86b7-9b63-4308-a933-713138a4195b",
   "metadata": {},
   "source": [
    "## Registering new models\n",
    "\n",
    "The MLflow Model Registry can also register models during a training run. This is helpful because it enables logging and registering a model under the same function.\n",
    "\n",
    "In this exercise, you will use the scikit-learn flavor to register a model to the Model Registry during a training run when the model is logged to MLflow Tracking. You will then search the Model Registry to ensure the model was registered.\n",
    "\n",
    "This model will be registered alongside existing registered models that were trained on the \"Insurance\" training data. The model has already been trained and set to the variable lr. When searching the Model Registry, an instance of MLflowClient() has been set to client and the filter string has already been created as insurance_filter_string.\n",
    "\n",
    "### Instructions\n",
    "    - Register the lr model to \"Insurance\" using the scikit-learn flavor.\n",
    "    - Search the Model Registry with client to ensure that the model was registered."
   ]
  },
  {
   "cell_type": "code",
   "execution_count": null,
   "id": "e2f8fabe-23f1-4532-b7f2-2bb687973ef9",
   "metadata": {},
   "outputs": [],
   "source": [
    "# Log the model using scikit-learn flavor\n",
    "mlflow.sklearn.log_model(lr, \"model\", registered_model_name=\"Insurance\")\n",
    "insurance_filter_string = \"name = 'Insurance'\"\n",
    "\n",
    "# Search for Insurance models\n",
    "print(client.search_registered_models(filter_string=insurance_filter_string))"
   ]
  },
  {
   "cell_type": "markdown",
   "id": "06cfb26b-983f-44a7-8c24-15727225e43a",
   "metadata": {},
   "source": [
    "## Transitioning model stages\n",
    "\n",
    "Once models are registered to the Model Registry, each model version is eligible for a stage assignment. Stages are used to manage the model lifecycle and are used to represent different development environments.\n",
    "\n",
    "In this exercise, using the mlflow client Class as client, you will take your \"Insurance\" models and transition each model according to the stage in your development lifecycle. First, you will transition your most stable model for production use. Then you will transition to a model that needs testing and evaluation. Finally, you will archive a model that is no longer needed.\n",
    "\n",
    "The mlflow client module will be imported.\n",
    "\n",
    "### Instructions 1/3\n",
    "    - Transition Model version 2 to the model stage that is only for the most stable models."
   ]
  },
  {
   "cell_type": "code",
   "execution_count": null,
   "id": "3d27b1c8-b80c-4197-97c4-807939f745f6",
   "metadata": {},
   "outputs": [],
   "source": [
    "# Transition version 2 of Insurance model to stable stage\n",
    "client.transition_model_version_stage(name=\"Insurance\", version=2,\n",
    "        stage=\"Production\"\n",
    "    )"
   ]
  },
  {
   "cell_type": "markdown",
   "id": "acca4d12-228b-43c5-be7b-be15c7a832fe",
   "metadata": {},
   "source": [
    "### Instructions 2/3\n",
    "    - Transition Model version 3 to the stage used for testing and evaluations."
   ]
  },
  {
   "cell_type": "code",
   "execution_count": null,
   "id": "43c0c4ba-2f32-4601-9cb1-a0e033655dd2",
   "metadata": {},
   "outputs": [],
   "source": [
    "# Transition version 3 of Insurance model to testing stage\n",
    "client.transition_model_version_stage(name=\"Insurance\", version=3,\n",
    "        stage=\"Staging\"\n",
    "    )"
   ]
  },
  {
   "cell_type": "markdown",
   "id": "34a3fe68-d6d5-4bf4-bb2d-7c372b4ee2b9",
   "metadata": {},
   "source": [
    "### Instructions 3/3\n",
    "    - Set Model version 1 to be archived so users know it is retired."
   ]
  },
  {
   "cell_type": "code",
   "execution_count": null,
   "id": "7b362e26-4c6b-4812-ab87-ac7b08410c99",
   "metadata": {},
   "outputs": [],
   "source": [
    "# Transition version 1 of Insurance model to archive stage\n",
    "client.transition_model_version_stage(name=\"Insurance\", version=1,\n",
    "        stage=\"Archived\"\n",
    "    )"
   ]
  },
  {
   "cell_type": "markdown",
   "id": "f7d5b365-8454-4328-b4b1-85c24002bc47",
   "metadata": {},
   "source": [
    "## Loading models from the Model Registry\n",
    "\n",
    "In this exercise, you will use the scikit-learn flavor to deploy the most stable \"Insurance\" model from the MLflow Model Registry and then use test data to get a prediction from the model.\n",
    "\n",
    "The model uses LogisticRegression to predict whether an insurance claim is for a male or female, which is labeled as 1 or 0. You'll load the model and then make predictions using a test set called X_test.\n",
    "\n",
    "The MLflow module will be imported.\n",
    "\n",
    "### Instructions\n",
    "    - With the scikit-learn flavor, load the \"Production\" version of the \"Insurance\" model using the convention for fetching models from the Registry as the model URI.\n",
    "    - Using the loaded model, run a prediction on the test data from train_test_split used during training the model."
   ]
  },
  {
   "cell_type": "code",
   "execution_count": null,
   "id": "90bac0a9-37cb-45eb-8638-5520e0e227a3",
   "metadata": {},
   "outputs": [],
   "source": [
    "# Load the Production stage of Insurance model using scikit-learn flavor\n",
    "model = mlflow.sklearn.load_model(\"models:/Insurance/Production\")\n",
    "\n",
    "# Run prediction on our test data\n",
    "model.predict(X_test)"
   ]
  }
 ],
 "metadata": {
  "kernelspec": {
   "display_name": "Python 3 (ipykernel)",
   "language": "python",
   "name": "python3"
  },
  "language_info": {
   "codemirror_mode": {
    "name": "ipython",
    "version": 3
   },
   "file_extension": ".py",
   "mimetype": "text/x-python",
   "name": "python",
   "nbconvert_exporter": "python",
   "pygments_lexer": "ipython3",
   "version": "3.11.6"
  }
 },
 "nbformat": 4,
 "nbformat_minor": 5
}
