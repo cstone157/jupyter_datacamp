{
 "cells": [
  {
   "cell_type": "markdown",
   "id": "2ec503c2-3f1d-4b08-814a-5ba1a1bc3bc9",
   "metadata": {},
   "source": [
    "## Package a machine learning model\n",
    "\n",
    "In this exercise, you will train a LinearRegression model from scikit-learn to predict profit of a Unicorn Company.\n",
    "\n",
    "You will use MLflow's built-in scikit-learn Flavor to package the model. You will use the Flavor's auto logging function to automatically log metrics, parameters and the model to MLflow Tracking when the fit estimator is called.\n",
    "\n",
    "### Instructions\n",
    "    - Import the sklearn Flavor from the mlflow module.\n",
    "    - Set the Experiment to \"Sklearn Model\".\n",
    "    - Use auto logging from the flavor to package your model."
   ]
  },
  {
   "cell_type": "code",
   "execution_count": null,
   "id": "833aeca1-518b-447f-9525-41df89570873",
   "metadata": {},
   "outputs": [],
   "source": []
  }
 ],
 "metadata": {
  "kernelspec": {
   "display_name": "Python 3 (ipykernel)",
   "language": "python",
   "name": "python3"
  },
  "language_info": {
   "codemirror_mode": {
    "name": "ipython",
    "version": 3
   },
   "file_extension": ".py",
   "mimetype": "text/x-python",
   "name": "python",
   "nbconvert_exporter": "python",
   "pygments_lexer": "ipython3",
   "version": "3.11.6"
  }
 },
 "nbformat": 4,
 "nbformat_minor": 5
}
