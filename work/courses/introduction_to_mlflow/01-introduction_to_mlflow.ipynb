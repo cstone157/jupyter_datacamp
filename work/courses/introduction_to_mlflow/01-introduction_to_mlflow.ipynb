{
 "cells": [
  {
   "cell_type": "markdown",
   "id": "d8ba1081-3b6a-4d8b-bf32-fe4a870c7769",
   "metadata": {},
   "source": [
    "## MLflow experiments\n",
    "\n",
    "MLflow experiments are used as a way to organize data from training runs in a way that can be easily searched and queried for our analysis later.\n",
    "\n",
    "In this exercise, you will use the MLflow module to create a new experiment called Unicorn Model for your new ML project. You will add useful information to the experiment by setting tags for the version. Finally, you will set the Unicorn Model experiment as your current experiment so when you begin tracking your data will be tracked within this particular experiment.\n",
    "\n",
    "### Instructions\n",
    "    - Import the MLflow module.\n",
    "    - Create a new experiment called \"Unicorn Model\".\n",
    "    - On the Unicorn Model, set the set the tags as \"version\" and \"1.0\".\n",
    "    - Set the experiment \"Unicorn Model\" as the current experiment for tracking."
   ]
  },
  {
   "cell_type": "code",
   "execution_count": 1,
   "id": "1e082bad-2ac4-4e6f-b77e-560d05adea26",
   "metadata": {},
   "outputs": [
    {
     "data": {
      "text/plain": [
       "<Experiment: artifact_location='file:///home/jovyan/work/courses/introduction_to_mlflow/mlruns/351809190082625954', creation_time=1727749737596, experiment_id='351809190082625954', last_update_time=1727749737596, lifecycle_stage='active', name='Unicorn Model', tags={}>"
      ]
     },
     "execution_count": 1,
     "metadata": {},
     "output_type": "execute_result"
    }
   ],
   "source": [
    "# Import MLflow\n",
    "import mlflow\n",
    "\n",
    "# Create new experiment\n",
    "mlflow.create_experiment(\"Unicorn Model\")\n",
    "\n",
    "# Tag new experiment\n",
    "mlflow.set_experiment_tag(\"version\", \"1.0\")\n",
    "\n",
    "# Set the experiment\n",
    "mlflow.set_experiment(\"Unicorn Model\")"
   ]
  },
  {
   "cell_type": "markdown",
   "id": "213a07eb-d3ad-4d79-be8a-2682b0e2af54",
   "metadata": {},
   "source": [
    "## Starting a run\n",
    "\n",
    "MLflow uses the concept of a run as a way to organize model training. Before metrics, parameters or artifacts can be logged to MLflow Tracking, a run must become active. Each run must also belong to an existing experiment.\n",
    "\n",
    "In the following exercise, you will start a new run so that you can begin logging a model. You will also set the experiment in which you would like the run to be logged. The mlflow module will already be imported for you.\n",
    "\n",
    "### Instructions\n",
    "    - Set the experiment so that the active run tracks to \"Unicorn Sklearn Experiment\" experiment.\n",
    "    - Start a new run with mlflow module."
   ]
  },
  {
   "cell_type": "code",
   "execution_count": null,
   "id": "e25b47c9-af1a-40bd-a2d5-294c78911ef6",
   "metadata": {},
   "outputs": [],
   "source": [
    "# Set the experiment\n",
    "mlflow.set_experiment(\"Unicorn Sklearn Experiment\")\n",
    "\n",
    "# Start a run\n",
    "mlflow.start_run() "
   ]
  },
  {
   "cell_type": "markdown",
   "id": "1c82bced-814c-4661-a4c5-f9f8c8c85a43",
   "metadata": {},
   "source": [
    "## Logging a run\n",
    "\n",
    "In this exercise, you will train a model using scikit-learn's Linear Regression to predict profit from the Unicorn dataset. You have created an experiment called Unicorn Sklearn Experiment and started a new run. You will log metrics for r2_score and parameters for n_jobs as well as log the training code as an artifact.\n",
    "\n",
    "The Linear Regression model will be trained with n_jobs parameter set to 1. The r2_score metric has been produced using the r2_score() from scikit-learn based on y_pred variable which came from predictions of X_test.\n",
    "\n",
    "<code>\n",
    "model = LinearRegression(n_jobs=1)\n",
    "model.fit(X_train, y_train)\n",
    "\n",
    "y_pred = model.predict(X_test)\n",
    "\n",
    "r2_score = r2_score(y_test, y_pred)\n",
    "</code>\n",
    "\n",
    "The mlflow module as well as the LinearRegression, train_test_split, and metrics modules from scikit-learn will be imported.\n",
    "\n",
    "### Instructions\n",
    "    - Log the r2_score variable as a metric called \"r2_score\".\n",
    "    - Log a parameter called \"n_jobs\" to the Tracking Server.\n",
    "    - Log the \"train.py\" file as an artifact in the run."
   ]
  },
  {
   "cell_type": "code",
   "execution_count": null,
   "id": "907e69b4-7448-4d98-b19a-7501a9a8d3b4",
   "metadata": {},
   "outputs": [],
   "source": [
    "# Log the metric r2_score as \"r2_score\"\n",
    "mlflow.log_metric(\"r2_score\", r2_score)\n",
    "\n",
    "# Log parameter n_jobs as \"n_jobs\"\n",
    "mlflow.log_param(\"n_jobs\", n_jobs)\n",
    "\n",
    "# Log the training code\n",
    "mlflow.log_artifact(\"train.py\")"
   ]
  },
  {
   "cell_type": "code",
   "execution_count": null,
   "id": "08f603b5-80eb-4cd5-a886-109ff474c35a",
   "metadata": {},
   "outputs": [],
   "source": []
  },
  {
   "cell_type": "code",
   "execution_count": null,
   "id": "69ac18cc-26a3-4c06-873f-5af4aa06bbf4",
   "metadata": {},
   "outputs": [],
   "source": []
  }
 ],
 "metadata": {
  "kernelspec": {
   "display_name": "Python 3 (ipykernel)",
   "language": "python",
   "name": "python3"
  },
  "language_info": {
   "codemirror_mode": {
    "name": "ipython",
    "version": 3
   },
   "file_extension": ".py",
   "mimetype": "text/x-python",
   "name": "python",
   "nbconvert_exporter": "python",
   "pygments_lexer": "ipython3",
   "version": "3.11.6"
  }
 },
 "nbformat": 4,
 "nbformat_minor": 5
}
