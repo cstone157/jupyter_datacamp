{
 "cells": [
  {
   "cell_type": "code",
   "execution_count": 87,
   "id": "bf6ebc11-9e4d-44e6-a359-bae9e0cec486",
   "metadata": {},
   "outputs": [],
   "source": [
    "#!pip install pingouin\n",
    "import pandas as pd\n",
    "import numpy as np\n",
    "import matplotlib.pyplot as plt\n",
    "from scipy.stats import norm\n",
    "from statsmodels.stats.proportion import proportions_ztest\n",
    "import pingouin\n",
    "\n",
    "late_shipments = pd.read_feather(\"../../data/late_shipments.feather\")"
   ]
  },
  {
   "cell_type": "code",
   "execution_count": 88,
   "id": "fd9aa22d-8204-4819-8c21-0ca912f9a6b5",
   "metadata": {},
   "outputs": [
    {
     "name": "stdout",
     "output_type": "stream",
     "text": [
      "0.061 1000\n"
     ]
    }
   ],
   "source": [
    "# Hypothesize that the proportion of late shipments is 6%\n",
    "p_0 = 0.06\n",
    "\n",
    "# Calculate the sample proportion of late shipments\n",
    "p_hat = ( late_shipments[\"late\"] == \"Yes\" ).mean()\n",
    "\n",
    "# Calculate the sample size\n",
    "n = len(late_shipments)\n",
    "\n",
    "# Print p_hat and n\n",
    "print(p_hat, n)"
   ]
  },
  {
   "cell_type": "code",
   "execution_count": 89,
   "id": "b000d2b3-ad1f-404c-8bd2-544ef77ab8ac",
   "metadata": {},
   "outputs": [
    {
     "name": "stdout",
     "output_type": "stream",
     "text": [
      "0.13315591032282698\n"
     ]
    }
   ],
   "source": [
    "# Hypothesize that the proportion of late shipments is 6%\n",
    "p_0 = 0.06\n",
    "\n",
    "# Calculate the sample proportion of late shipments\n",
    "p_hat = (late_shipments['late'] == \"Yes\").mean()\n",
    "\n",
    "# Calculate the sample size\n",
    "n = len(late_shipments)\n",
    "\n",
    "# Calculate the numerator and denominator of the test statistic\n",
    "numerator = p_hat - p_0\n",
    "denominator = np.sqrt(p_0 * (1 - p_0) / n)\n",
    "\n",
    "# Calculate the test statistic\n",
    "z_score = numerator / denominator\n",
    "\n",
    "# Print the result\n",
    "print(z_score)"
   ]
  },
  {
   "cell_type": "code",
   "execution_count": 90,
   "id": "bf237871-bf6e-48f8-aaec-335f10e01425",
   "metadata": {},
   "outputs": [
    {
     "name": "stdout",
     "output_type": "stream",
     "text": [
      "0.44703503936503364\n"
     ]
    }
   ],
   "source": [
    "# Hypothesize that the proportion of late shipments is 6%\n",
    "p_0 = 0.06\n",
    "\n",
    "# Calculate the sample proportion of late shipments\n",
    "p_hat = (late_shipments['late'] == \"Yes\").mean()\n",
    "\n",
    "# Calculate the sample size\n",
    "n = len(late_shipments)\n",
    "\n",
    "# Calculate the numerator and denominator of the test statistic\n",
    "numerator = p_hat - p_0\n",
    "denominator = np.sqrt(p_0 * (1 - p_0) / n)\n",
    "\n",
    "# Calculate the test statistic\n",
    "z_score = numerator / denominator\n",
    "\n",
    "# Calculate the p-value from the z-score\n",
    "p_value = 1 - norm.cdf(z_score)\n",
    "\n",
    "# Print the p-value\n",
    "print(p_value)"
   ]
  },
  {
   "cell_type": "code",
   "execution_count": null,
   "id": "daaf4d03-87b0-41d3-a78a-9709c9015e61",
   "metadata": {},
   "outputs": [],
   "source": []
  },
  {
   "cell_type": "code",
   "execution_count": 91,
   "id": "bfc41055-903b-447f-a689-b81667e1f490",
   "metadata": {},
   "outputs": [],
   "source": [
    "late_shipments[\"late_value\"] = late_shipments[\"late\"].apply(lambda x: 1 if x == \"Yes\" else 0)\n",
    "p_hats = late_shipments.groupby(['freight_cost_groups'])['late_value'].mean()\n",
    "ns = late_shipments.groupby(['freight_cost_groups'])[\"freight_cost_groups\"].count()"
   ]
  },
  {
   "cell_type": "code",
   "execution_count": 92,
   "id": "0a0e9422-613c-4950-91b6-c9f9465d00cb",
   "metadata": {},
   "outputs": [
    {
     "name": "stdout",
     "output_type": "stream",
     "text": [
      "0.058823529411764705\n"
     ]
    }
   ],
   "source": [
    "# Calculate the pooled estimate of the population proportion\n",
    "p_hat = ( ns[0] * p_hats[0] + ns[1] * p_hats[1] ) / ( ns[0] + ns[1] )\n",
    "\n",
    "# Print the result\n",
    "print(p_hat)"
   ]
  },
  {
   "cell_type": "code",
   "execution_count": 93,
   "id": "0e89e069-b03a-4527-8b67-97fbf80c953e",
   "metadata": {},
   "outputs": [
    {
     "name": "stdout",
     "output_type": "stream",
     "text": [
      "0.015031300895066685\n"
     ]
    }
   ],
   "source": [
    "# Calculate the pooled estimate of the population proportion\n",
    "p_hat = (p_hats[\"reasonable\"] * ns[\"reasonable\"] + p_hats[\"expensive\"] * ns[\"expensive\"]) / (ns[\"reasonable\"] + ns[\"expensive\"])\n",
    "\n",
    "# Calculate p_hat one minus p_hat\n",
    "p_hat_times_not_p_hat = p_hat * ( 1 - p_hat )\n",
    "\n",
    "# Divide this by each of the sample sizes and then sum\n",
    "p_hat_times_not_p_hat_over_ns = p_hat_times_not_p_hat / ns[\"reasonable\"] + p_hat_times_not_p_hat / ns[\"expensive\"]\n",
    "\n",
    "# Calculate the standard error\n",
    "std_error = np.sqrt(p_hat_times_not_p_hat_over_ns)\n",
    "\n",
    "# Print the result\n",
    "print(std_error)"
   ]
  },
  {
   "cell_type": "code",
   "execution_count": 94,
   "id": "101f533b-70bd-4cab-b9b8-6ff19f9989d8",
   "metadata": {},
   "outputs": [
    {
     "name": "stdout",
     "output_type": "stream",
     "text": [
      "2.922648567784529\n"
     ]
    }
   ],
   "source": [
    "# Calculate the pooled estimate of the population proportion\n",
    "p_hat = (p_hats[\"reasonable\"] * ns[\"reasonable\"] + p_hats[\"expensive\"] * ns[\"expensive\"]) / (ns[\"reasonable\"] + ns[\"expensive\"])\n",
    "\n",
    "# Calculate p_hat one minus p_hat\n",
    "p_hat_times_not_p_hat = p_hat * (1 - p_hat)\n",
    "\n",
    "# Divide this by each of the sample sizes and then sum\n",
    "p_hat_times_not_p_hat_over_ns = p_hat_times_not_p_hat / ns[\"expensive\"] + p_hat_times_not_p_hat / ns[\"reasonable\"]\n",
    "\n",
    "# Calculate the standard error\n",
    "std_error = np.sqrt(p_hat_times_not_p_hat_over_ns)\n",
    "\n",
    "# Calculate the z-score\n",
    "z_score = (p_hats[\"expensive\"] - p_hats[\"reasonable\"]) / std_error\n",
    "\n",
    "# Print z_score\n",
    "print(z_score)"
   ]
  },
  {
   "cell_type": "code",
   "execution_count": 95,
   "id": "4eca566b-3d0a-4eaf-b5e5-6dd8c8354f8e",
   "metadata": {},
   "outputs": [
    {
     "name": "stdout",
     "output_type": "stream",
     "text": [
      "0.0017353400023595311\n"
     ]
    }
   ],
   "source": [
    "# Calculate the pooled estimate of the population proportion\n",
    "p_hat = (p_hats[\"reasonable\"] * ns[\"reasonable\"] + p_hats[\"expensive\"] * ns[\"expensive\"]) / (ns[\"reasonable\"] + ns[\"expensive\"])\n",
    "\n",
    "# Calculate p_hat one minus p_hat\n",
    "p_hat_times_not_p_hat = p_hat * (1 - p_hat)\n",
    "\n",
    "# Divide this by each of the sample sizes and then sum\n",
    "p_hat_times_not_p_hat_over_ns = p_hat_times_not_p_hat / ns[\"expensive\"] + p_hat_times_not_p_hat / ns[\"reasonable\"]\n",
    "\n",
    "# Calculate the standard error\n",
    "std_error = np.sqrt(p_hat_times_not_p_hat_over_ns)\n",
    "\n",
    "# Calculate the z-score\n",
    "z_score = (p_hats[\"expensive\"] - p_hats[\"reasonable\"]) / std_error\n",
    "\n",
    "# Calculate the p-value from the z-score\n",
    "p_value = 1 - norm.cdf(z_score)\n",
    "\n",
    "# Print p_value\n",
    "print(p_value)"
   ]
  },
  {
   "cell_type": "code",
   "execution_count": 96,
   "id": "b7729c57-f8df-49dc-9e62-4b4c04e966fd",
   "metadata": {},
   "outputs": [
    {
     "name": "stdout",
     "output_type": "stream",
     "text": [
      "freight_cost_groups  late\n",
      "expensive            No      489\n",
      "                     Yes      42\n",
      "reasonable           No      439\n",
      "                     Yes      16\n",
      "Name: count, dtype: int64\n"
     ]
    }
   ],
   "source": [
    "# Count the late column values for each freight_cost_group\n",
    "late_by_freight_cost_group = late_shipments.groupby(\"freight_cost_groups\")[\"late\"].value_counts()\n",
    "\n",
    "# Print the counts\n",
    "print(late_by_freight_cost_group)"
   ]
  },
  {
   "cell_type": "code",
   "execution_count": 97,
   "id": "c65bec16-5df0-422e-ab05-54a5d15cbcbd",
   "metadata": {},
   "outputs": [
    {
     "name": "stdout",
     "output_type": "stream",
     "text": [
      "2.922648567784529 0.001735340002359578\n"
     ]
    }
   ],
   "source": [
    "# Count the late column values for each freight_cost_group\n",
    "late_by_freight_cost_group = late_shipments.groupby(\"freight_cost_groups\")['late'].value_counts()\n",
    "\n",
    "# Create an array of the \"Yes\" counts for each freight_cost_group\n",
    "success_counts = np.array([late_by_freight_cost_group[\"expensive\"][\"Yes\"], late_by_freight_cost_group[\"reasonable\"][\"Yes\"]])\n",
    "\n",
    "success_counts\n",
    "# Create an array of the total number of rows in each freight_cost_group\n",
    "n = np.array([late_by_freight_cost_group[\"expensive\"][\"Yes\"] + late_by_freight_cost_group[\"expensive\"][\"No\"], late_by_freight_cost_group[\"reasonable\"][\"Yes\"] + late_by_freight_cost_group[\"reasonable\"][\"No\"]])\n",
    "\n",
    "# Run a z-test on the two proportions\n",
    "stat, p_value = proportions_ztest(count=success_counts, nobs=n, alternative=\"larger\")\n",
    "\n",
    "\n",
    "# Print the results\n",
    "print(stat, p_value)"
   ]
  },
  {
   "cell_type": "code",
   "execution_count": null,
   "id": "131203f9-c09c-4f72-b434-95dc769c665d",
   "metadata": {},
   "outputs": [],
   "source": []
  },
  {
   "cell_type": "code",
   "execution_count": 98,
   "id": "0ec02f2e-8fea-4383-9bcf-eb388bab8590",
   "metadata": {},
   "outputs": [
    {
     "name": "stdout",
     "output_type": "stream",
     "text": [
      "vendor_inco_term  freight_cost_groups\n",
      "CIP               reasonable             0.680000\n",
      "                  expensive              0.320000\n",
      "DDP               expensive              0.550000\n",
      "                  reasonable             0.450000\n",
      "DDU               reasonable             1.000000\n",
      "EXW               expensive              0.583448\n",
      "                  reasonable             0.416552\n",
      "FCA               reasonable             0.663636\n",
      "                  expensive              0.336364\n",
      "Name: proportion, dtype: float64\n"
     ]
    }
   ],
   "source": [
    "# Proportion of freight_cost_group grouped by vendor_inco_term\n",
    "props = late_shipments.groupby(\"vendor_inco_term\")[\"freight_cost_groups\"].value_counts(normalize=True)\n",
    "\n",
    "# Print props\n",
    "print(props)"
   ]
  },
  {
   "cell_type": "code",
   "execution_count": 99,
   "id": "f6b23095-9d0a-4e39-b8a1-582df6b39896",
   "metadata": {},
   "outputs": [
    {
     "name": "stdout",
     "output_type": "stream",
     "text": [
      "freight_cost_groups  expensive  reasonable\n",
      "vendor_inco_term                          \n",
      "CIP                   0.320000    0.680000\n",
      "DDP                   0.550000    0.450000\n",
      "DDU                        NaN    1.000000\n",
      "EXW                   0.583448    0.416552\n",
      "FCA                   0.336364    0.663636\n"
     ]
    }
   ],
   "source": [
    "# Proportion of freight_cost_group grouped by vendor_inco_term\n",
    "props = late_shipments.groupby('vendor_inco_term')['freight_cost_groups'].value_counts(normalize=True)\n",
    "\n",
    "# Convert props to wide format\n",
    "wide_props = props.unstack()\n",
    "\n",
    "# Print wide_props\n",
    "print(wide_props)"
   ]
  },
  {
   "cell_type": "code",
   "execution_count": 100,
   "id": "38026701-0dfd-487d-8612-fea58a501adc",
   "metadata": {},
   "outputs": [
    {
     "data": {
      "image/png": "[encoded data removed]",
      "text/plain": [
       "<Figure size 640x480 with 1 Axes>"
      ]
     },
     "metadata": {},
     "output_type": "display_data"
    }
   ],
   "source": [
    "# Proportion of freight_cost_group grouped by vendor_inco_term\n",
    "props = late_shipments.groupby('vendor_inco_term')['freight_cost_groups'].value_counts(normalize=True)\n",
    "\n",
    "# Convert props to wide format\n",
    "wide_props = props.unstack()\n",
    "\n",
    "# Proportional stacked bar plot of freight_cost_group vs. vendor_inco_term\n",
    "wide_props.plot(kind=\"bar\", stacked=True)\n",
    "\n",
    "plt.show()"
   ]
  },
  {
   "cell_type": "code",
   "execution_count": 101,
   "id": "a2cd2110-e6ba-4a6d-8b81-99325123761e",
   "metadata": {},
   "outputs": [
    {
     "data": {
      "image/png": "[encoded data removed]",
      "text/plain": [
       "<Figure size 640x480 with 1 Axes>"
      ]
     },
     "metadata": {},
     "output_type": "display_data"
    },
    {
     "name": "stdout",
     "output_type": "stream",
     "text": [
      "      test  lambda       chi2  dof          pval    cramer     power\n",
      "0  pearson     1.0  34.805072  4.0  5.093922e-07  0.186561  0.999235\n"
     ]
    },
    {
     "name": "stderr",
     "output_type": "stream",
     "text": [
      "/opt/conda/lib/python3.11/site-packages/pingouin/contingency.py:150: UserWarning: Low count on observed frequencies.\n",
      "  warnings.warn(\"Low count on {} frequencies.\".format(name))\n",
      "/opt/conda/lib/python3.11/site-packages/pingouin/contingency.py:150: UserWarning: Low count on expected frequencies.\n",
      "  warnings.warn(\"Low count on {} frequencies.\".format(name))\n",
      "/opt/conda/lib/python3.11/site-packages/scipy/stats/_stats_py.py:8073: RuntimeWarning: divide by zero encountered in power\n",
      "  terms = f_obs * ((f_obs / f_exp)**lambda_ - 1)\n",
      "/opt/conda/lib/python3.11/site-packages/scipy/stats/_stats_py.py:8073: RuntimeWarning: invalid value encountered in multiply\n",
      "  terms = f_obs * ((f_obs / f_exp)**lambda_ - 1)\n",
      "/opt/conda/lib/python3.11/site-packages/scipy/stats/_stats_py.py:8070: RuntimeWarning: divide by zero encountered in divide\n",
      "  terms = 2.0 * special.xlogy(f_exp, f_exp / f_obs)\n"
     ]
    }
   ],
   "source": [
    "# Proportion of freight_cost_group grouped by vendor_inco_term\n",
    "props = late_shipments.groupby('vendor_inco_term')['freight_cost_groups'].value_counts(normalize=True)\n",
    "\n",
    "# Convert props to wide format\n",
    "wide_props = props.unstack()\n",
    "\n",
    "# Proportional stacked bar plot of freight_cost_group vs. vendor_inco_term\n",
    "wide_props.plot(kind=\"bar\", stacked=True)\n",
    "plt.show()\n",
    "\n",
    "# Determine if freight_cost_group and vendor_inco_term are independent\n",
    "expected, observed, stats = pingouin.chi2_independence(data=late_shipments, x=\"vendor_inco_term\", y=\"freight_cost_groups\")\n",
    "\n",
    "# Print results\n",
    "print(stats[stats['test'] == 'pearson']) "
   ]
  },
  {
   "cell_type": "code",
   "execution_count": null,
   "id": "caf4029b-ffbb-43c0-935c-c8415461ed09",
   "metadata": {},
   "outputs": [],
   "source": []
  },
  {
   "cell_type": "code",
   "execution_count": 133,
   "id": "f7a0754a-7354-453f-b92d-d3f8de307874",
   "metadata": {},
   "outputs": [],
   "source": [
    "hypothesized = pd.DataFrame({\"vendor_inco_term\": [\"CIP\", \"DDP\", \"EXW\", \"FCA\"], \n",
    "                             \"prop\": [0.05, 0.10, 0.75, 0.10]})\n",
    "\n",
    "incoterm_counts = pd.DataFrame({\"vendor_inco_term\": [\"CIP\", \"DDP\", \"EXW\", \"FCA\"], \n",
    "                             \"n\": [56, 100, 732, 111]})"
   ]
  },
  {
   "cell_type": "code",
   "execution_count": 123,
   "id": "4af1a552-340c-40a3-bbbb-3fafacad946b",
   "metadata": {},
   "outputs": [
    {
     "name": "stdout",
     "output_type": "stream",
     "text": [
      "1000\n"
     ]
    }
   ],
   "source": [
    "# Find the number of rows in late_shipments\n",
    "n_total = len(late_shipments)\n",
    "\n",
    "# Print n_total\n",
    "print(n_total)"
   ]
  },
  {
   "cell_type": "code",
   "execution_count": 124,
   "id": "38ddc54d-2a77-4637-b169-b116902a6246",
   "metadata": {},
   "outputs": [
    {
     "name": "stdout",
     "output_type": "stream",
     "text": [
      "  vendor_inco_term  prop      n\n",
      "0              CIP  0.05   50.0\n",
      "1              DDP  0.10  100.0\n",
      "2              EXW  0.75  750.0\n",
      "3              FCA  0.10  100.0\n"
     ]
    }
   ],
   "source": [
    "# Find the number of rows in late_shipments\n",
    "n_total = len(late_shipments)\n",
    "\n",
    "# Create n column that is prop column * n_total\n",
    "hypothesized[\"n\"] = hypothesized[\"prop\"] * n_total\n",
    "\n",
    "# Print the modified hypothesized DataFrame\n",
    "print(hypothesized)"
   ]
  },
  {
   "cell_type": "code",
   "execution_count": 135,
   "id": "a41ef7da-8f0e-47d8-beac-27bf113b0edc",
   "metadata": {},
   "outputs": [
    {
     "data": {
      "image/png": "[encoded data removed]",
      "text/plain": [
       "<Figure size 640x480 with 1 Axes>"
      ]
     },
     "metadata": {},
     "output_type": "display_data"
    }
   ],
   "source": [
    "# Find the number of rows in late_shipments\n",
    "n_total = len(late_shipments)\n",
    "\n",
    "# Create n column that is prop column * n_total\n",
    "hypothesized[\"n\"] = hypothesized[\"prop\"] * n_total\n",
    "\n",
    "# Plot a red bar graph of n vs. vendor_inco_term for incoterm_counts\n",
    "plt.bar(incoterm_counts['vendor_inco_term'], incoterm_counts['n'], color=\"red\", label=\"Observed\")\n",
    "plt.legend()\n",
    "plt.show()"
   ]
  },
  {
   "cell_type": "code",
   "execution_count": 136,
   "id": "69d08002-9604-4a04-a71c-c926f33ed199",
   "metadata": {},
   "outputs": [
    {
     "data": {
      "image/png": "[encoded data removed]",
      "text/plain": [
       "<Figure size 640x480 with 1 Axes>"
      ]
     },
     "metadata": {},
     "output_type": "display_data"
    }
   ],
   "source": [
    "# Find the number of rows in late_shipments\n",
    "n_total = len(late_shipments)\n",
    "\n",
    "# Create n column that is prop column * n_total\n",
    "hypothesized[\"n\"] = hypothesized[\"prop\"] * n_total\n",
    "\n",
    "# Plot a red bar graph of n vs. vendor_inco_term for incoterm_counts\n",
    "plt.bar(incoterm_counts['vendor_inco_term'], incoterm_counts['n'], color=\"red\", label=\"Observed\")\n",
    "\n",
    "# Add a blue bar plot for the hypothesized counts\n",
    "plt.bar(hypothesized['vendor_inco_term'], hypothesized['n'], color=\"blue\", alpha=0.5, label=\"Hypothesized\")\n",
    "plt.legend()\n",
    "plt.show()"
   ]
  },
  {
   "cell_type": "code",
   "execution_count": 140,
   "id": "83c9b890-a02b-48c0-8935-238ea9a880c1",
   "metadata": {},
   "outputs": [
    {
     "data": {
      "text/html": [
       "<div>\n",
       "<style scoped>\n",
       "    .dataframe tbody tr th:only-of-type {\n",
       "        vertical-align: middle;\n",
       "    }\n",
       "\n",
       "    .dataframe tbody tr th {\n",
       "        vertical-align: top;\n",
       "    }\n",
       "\n",
       "    .dataframe thead th {\n",
       "        text-align: right;\n",
       "    }\n",
       "</style>\n",
       "<table border=\"1\" class=\"dataframe\">\n",
       "  <thead>\n",
       "    <tr style=\"text-align: right;\">\n",
       "      <th></th>\n",
       "      <th>vendor_inco_term</th>\n",
       "      <th>prop</th>\n",
       "      <th>n</th>\n",
       "    </tr>\n",
       "  </thead>\n",
       "  <tbody>\n",
       "    <tr>\n",
       "      <th>0</th>\n",
       "      <td>CIP</td>\n",
       "      <td>0.05</td>\n",
       "      <td>50.0</td>\n",
       "    </tr>\n",
       "    <tr>\n",
       "      <th>1</th>\n",
       "      <td>DDP</td>\n",
       "      <td>0.10</td>\n",
       "      <td>100.0</td>\n",
       "    </tr>\n",
       "    <tr>\n",
       "      <th>2</th>\n",
       "      <td>EXW</td>\n",
       "      <td>0.75</td>\n",
       "      <td>750.0</td>\n",
       "    </tr>\n",
       "    <tr>\n",
       "      <th>3</th>\n",
       "      <td>FCA</td>\n",
       "      <td>0.10</td>\n",
       "      <td>100.0</td>\n",
       "    </tr>\n",
       "  </tbody>\n",
       "</table>\n",
       "</div>"
      ],
      "text/plain": [
       "  vendor_inco_term  prop      n\n",
       "0              CIP  0.05   50.0\n",
       "1              DDP  0.10  100.0\n",
       "2              EXW  0.75  750.0\n",
       "3              FCA  0.10  100.0"
      ]
     },
     "execution_count": 140,
     "metadata": {},
     "output_type": "execute_result"
    }
   ],
   "source": []
  },
  {
   "cell_type": "code",
   "execution_count": 141,
   "id": "ae149aad-de97-4189-8e94-425f4ad4f3a7",
   "metadata": {},
   "outputs": [],
   "source": [
    "from scipy.stats import chisquare\n",
    "\n",
    "hypothesized = pd.DataFrame({\"vendor_inco_term\": [\"CIP\", \"DDP\", \"EXW\", \"FCA\"], \n",
    "                             \"prop\": [0.05, 0.10, 0.75, 0.10],\n",
    "                             \"n\": [49.95, 99.90, 749.25, 99.90]})"
   ]
  },
  {
   "cell_type": "code",
   "execution_count": 142,
   "id": "369d0486-9c68-4bae-8636-a9bf9ad966af",
   "metadata": {},
   "outputs": [
    {
     "name": "stdout",
     "output_type": "stream",
     "text": [
      "Power_divergenceResult(statistic=2.3633633633633613, pvalue=0.5004909543758689)\n"
     ]
    }
   ],
   "source": [
    "# Perform a goodness of fit test on the incoterm counts n\n",
    "gof_test = chisquare(f_obs=incoterm_counts['n'], f_exp=hypothesized['n'])\n",
    "\n",
    "# Print gof_test results\n",
    "print(gof_test)"
   ]
  },
  {
   "cell_type": "code",
   "execution_count": null,
   "id": "fe5a535f-54ec-4a82-93a7-ce66c5f55c4d",
   "metadata": {},
   "outputs": [],
   "source": []
  }
 ],
 "metadata": {
  "kernelspec": {
   "display_name": "Python 3 (ipykernel)",
   "language": "python",
   "name": "python3"
  },
  "language_info": {
   "codemirror_mode": {
    "name": "ipython",
    "version": 3
   },
   "file_extension": ".py",
   "mimetype": "text/x-python",
   "name": "python",
   "nbconvert_exporter": "python",
   "pygments_lexer": "ipython3",
   "version": "3.11.6"
  }
 },
 "nbformat": 4,
 "nbformat_minor": 5
}
