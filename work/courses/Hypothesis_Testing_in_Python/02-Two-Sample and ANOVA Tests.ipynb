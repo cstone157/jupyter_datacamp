{
 "cells": [
  {
   "cell_type": "code",
   "execution_count": 17,
   "id": "b59ae637-9b48-4b9b-a3d7-0479e25c753f",
   "metadata": {},
   "outputs": [],
   "source": [
    "import pandas as pd\n",
    "import numpy as np\n",
    "\n",
    "late_shipments = pd.read_feather(\"../../data/late_shipments.feather\")\n",
    "\n",
    "is_late = late_shipments[late_shipments[\"late\"] == \"Yes\"]\n",
    "isnt_late = late_shipments[late_shipments[\"late\"] == \"No\"]\n",
    "\n",
    "# Calculate the sample means\n",
    "xbar_no = isnt_late[\"weight_kilograms\"].mean()\n",
    "xbar_yes = is_late[\"weight_kilograms\"].mean()\n",
    "\n",
    "# Calculate the sample standard deviation\n",
    "s_no = isnt_late[\"weight_kilograms\"].std()\n",
    "s_yes = is_late[\"weight_kilograms\"].std()\n",
    "\n",
    "# Calculate the sample size\n",
    "n_no = isnt_late[\"weight_kilograms\"].count()\n",
    "n_yes = isnt_late[\"weight_kilograms\"].count()"
   ]
  },
  {
   "cell_type": "code",
   "execution_count": null,
   "id": "d7d30a92-70e1-44a3-9fa7-db67f990303b",
   "metadata": {},
   "outputs": [],
   "source": []
  },
  {
   "cell_type": "code",
   "execution_count": 9,
   "id": "398417f9-9bf3-4a7a-8302-926157e8cf6b",
   "metadata": {},
   "outputs": [],
   "source": [
    "# Two sample mean test statistic\n",
    "# The hypothesis test for determining if there is a difference between the \n",
    "#     means of two populations uses a different type of test statistic to \n",
    "#     the z-scores you saw in Chapter 1. It's called \"t\", and it can be \n",
    "#     calculated from three values from each sample using this equation."
   ]
  },
  {
   "cell_type": "code",
   "execution_count": 18,
   "id": "b6e63b49-9227-4e6f-b076-2204d139b8b0",
   "metadata": {},
   "outputs": [
    {
     "name": "stdout",
     "output_type": "stream",
     "text": [
      "6.184310184719316\n"
     ]
    }
   ],
   "source": [
    "# Calculate the numerator of the test statistic\n",
    "numerator = xbar_yes - xbar_no\n",
    "\n",
    "# Calculate the denominator of the test statistic\n",
    "denominator = np.sqrt(s_no**2/n_no + s_yes**2/n_yes)\n",
    "\n",
    "# Calculate the test statistic\n",
    "t_stat = numerator / denominator\n",
    "\n",
    "# Print the test statistic\n",
    "print(t_stat)"
   ]
  },
  {
   "cell_type": "code",
   "execution_count": null,
   "id": "5ecdba22-0674-49e3-b4f3-03185c06e03b",
   "metadata": {},
   "outputs": [],
   "source": []
  },
  {
   "cell_type": "code",
   "execution_count": 20,
   "id": "7b067bd9-f9ae-4863-8333-2592bf064d65",
   "metadata": {},
   "outputs": [],
   "source": [
    "# From t to p\n",
    "# Previously, you calculated the test statistic for the two-sample problem \n",
    "#    of whether the mean weight of shipments is smaller for shipments that \n",
    "#    weren't late (late == \"No\") compared to shipments that were late \n",
    "#    (late == \"Yes\"). In order to make decisions about it, you need to \n",
    "#    transform the test statistic with a cumulative distribution function \n",
    "#    to get a p-value.\n",
    "#\n",
    "# Recall the hypotheses:\n",
    "# H0: The mean weight of shipments that weren't late is the same as the \n",
    "#    mean weight of shipments that were late.\n",
    "# HA: The mean weight of shipments that weren't late is less than the mean \n",
    "#    weight of shipments that were late.\n",
    "# The test statistic, t_stat, is available, as are the samples sizes for \n",
    "#    each group, n_no and n_yes. Use a significance level of alpha = 0.05.\n",
    "\n",
    "# Left handed hypothesis\n",
    "from scipy.stats import t\n",
    "t_stat = -2.3936661778766433"
   ]
  },
  {
   "cell_type": "code",
   "execution_count": 21,
   "id": "8abae308-3cae-46b6-8311-1ed8d0f1d855",
   "metadata": {},
   "outputs": [
    {
     "name": "stdout",
     "output_type": "stream",
     "text": [
      "0.008389318958947302\n"
     ]
    }
   ],
   "source": [
    "# Calculate the degrees of freedom\n",
    "degrees_of_freedom = n_no + n_yes - 2\n",
    "\n",
    "# Calculate the p-value from the test stat\n",
    "p_value = t.cdf(t_stat, df=degrees_of_freedom)\n",
    "\n",
    "# Print the p_value\n",
    "print(p_value)"
   ]
  },
  {
   "cell_type": "code",
   "execution_count": 22,
   "id": "8099ce63-cc24-47cd-8add-af514dacda24",
   "metadata": {},
   "outputs": [],
   "source": [
    "# Reject the null hypothesis p_value >= alpha"
   ]
  },
  {
   "cell_type": "code",
   "execution_count": null,
   "id": "dae3f4dc-4af0-4a3f-b39c-bdc08c4c5315",
   "metadata": {},
   "outputs": [],
   "source": []
  },
  {
   "cell_type": "code",
   "execution_count": 24,
   "id": "eda1ec9a-8834-4d2e-b1d0-20f6fbd5ac28",
   "metadata": {},
   "outputs": [],
   "source": [
    "import matplotlib.pyplot as plt\n",
    "\n",
    "dem_votes = pd.read_feather(\"../../data/dem_votes_potus_12_16.feather\")\n",
    "repub_votes = pd.read_feather(\"../../data/repub_votes_potus_08_12.feather\")\n",
    "\n",
    "sample_dem_data = dem_votes.sample(frac=.8, replace=True)"
   ]
  },
  {
   "cell_type": "code",
   "execution_count": 25,
   "id": "af6f76af-ca0d-4104-a152-5aed16f2c11f",
   "metadata": {},
   "outputs": [],
   "source": [
    "# Create a new diff column containing the percentage of votes for the democratic \n",
    "#    candidate in 2012 minus the percentage of votes for the democratic candidate \n",
    "#    in 2016."
   ]
  },
  {
   "cell_type": "code",
   "execution_count": 26,
   "id": "fc95f374-4280-4dff-8ee2-dc06393762af",
   "metadata": {},
   "outputs": [
    {
     "name": "stdout",
     "output_type": "stream",
     "text": [
      "        state    county  dem_percent_12  dem_percent_16       diff\n",
      "15   Arkansas    Baxter       26.743885       21.091774   5.652112\n",
      "40   Colorado   Alamosa       56.753537       45.957631  10.795906\n",
      "120   Indiana    Starke       43.511538       26.978105  16.533432\n",
      "422     Texas  Lampasas       20.530261       18.074345   2.455916\n",
      "348  Oklahoma    Carter       28.664876       21.592748   7.072127\n",
      "..        ...       ...             ...             ...        ...\n",
      "357  Oklahoma  Stephens       23.381017       17.236372   6.144646\n",
      "10    Alabama    Monroe       45.890923       42.177003   3.713919\n",
      "426     Texas  McLennan       34.469621       34.224470   0.245150\n",
      "84    Georgia   Webster       49.031171       42.383513   6.647658\n",
      "142    Kansas      Clay       22.626153       17.722513   4.903640\n",
      "\n",
      "[400 rows x 5 columns]\n"
     ]
    }
   ],
   "source": [
    "# Calculate the differences from 2012 to 2016\n",
    "sample_dem_data['diff'] = sample_dem_data['dem_percent_12'] - sample_dem_data['dem_percent_16']\n",
    "\n",
    "# Print sample_dem_data\n",
    "print(sample_dem_data)"
   ]
  },
  {
   "cell_type": "code",
   "execution_count": 27,
   "id": "fb62f980-4dec-4761-a2f1-feca05a1d47b",
   "metadata": {},
   "outputs": [
    {
     "name": "stdout",
     "output_type": "stream",
     "text": [
      "6.947169934386476\n"
     ]
    }
   ],
   "source": [
    "# Calculate the differences from 2012 to 2016\n",
    "sample_dem_data['diff'] = sample_dem_data['dem_percent_12'] - sample_dem_data['dem_percent_16']\n",
    "\n",
    "# Find the mean of the diff column\n",
    "xbar_diff = sample_dem_data['diff'].mean()\n",
    "\n",
    "# Print xbar_diff\n",
    "print(xbar_diff)"
   ]
  },
  {
   "cell_type": "code",
   "execution_count": 28,
   "id": "1f58fa88-dba4-40f5-a28a-d9fdf4de06ea",
   "metadata": {},
   "outputs": [
    {
     "name": "stdout",
     "output_type": "stream",
     "text": [
      "5.289320410580811\n"
     ]
    }
   ],
   "source": [
    "# Calculate the differences from 2012 to 2016\n",
    "sample_dem_data['diff'] = sample_dem_data['dem_percent_12'] - sample_dem_data['dem_percent_16']\n",
    "\n",
    "# Find the mean of the diff column\n",
    "xbar_diff = sample_dem_data['diff'].mean()\n",
    "\n",
    "# Find the standard deviation of the diff column\n",
    "s_diff = sample_dem_data['diff'].std()\n",
    "\n",
    "# Print s_diff\n",
    "print(s_diff)"
   ]
  },
  {
   "cell_type": "code",
   "execution_count": 29,
   "id": "95bdd3a9-0a80-455f-90ed-b90427b1290e",
   "metadata": {},
   "outputs": [
    {
     "data": {
      "image/png": "[encoded data removed]",
      "text/plain": [
       "<Figure size 640x480 with 1 Axes>"
      ]
     },
     "metadata": {},
     "output_type": "display_data"
    }
   ],
   "source": [
    "# Calculate the differences from 2012 to 2016\n",
    "sample_dem_data['diff'] = sample_dem_data['dem_percent_12'] - sample_dem_data['dem_percent_16']\n",
    "\n",
    "# Find the mean of the diff column\n",
    "xbar_diff = sample_dem_data['diff'].mean()\n",
    "\n",
    "# Find the standard deviation of the diff column\n",
    "s_diff = sample_dem_data['diff'].std()\n",
    "\n",
    "# Plot a histogram of diff with 20 bins\n",
    "sample_dem_data['diff'].hist(bins=20)\n",
    "plt.show()"
   ]
  },
  {
   "cell_type": "code",
   "execution_count": null,
   "id": "406b4acc-90d0-42bc-9251-812095f212fd",
   "metadata": {},
   "outputs": [],
   "source": []
  },
  {
   "cell_type": "code",
   "execution_count": 34,
   "id": "089673a5-1658-42e2-b2d8-e353f9e94cd0",
   "metadata": {},
   "outputs": [],
   "source": [
    "# Conduct a t-test on the sample differences (the diff column of sample_dem_data), \n",
    "#     using an appropriate alternative hypothesis chosen from \"two-sided\", \"less\", \n",
    "#     and \"greater\".\n",
    "\n",
    "#! pip install pingouin\n",
    "import pingouin"
   ]
  },
  {
   "cell_type": "code",
   "execution_count": 35,
   "id": "56a71bc3-9324-43d8-aee0-6a1eafaeb983",
   "metadata": {},
   "outputs": [
    {
     "name": "stdout",
     "output_type": "stream",
     "text": [
      "                T  dof alternative         p-val         CI95%   cohen-d  \\\n",
      "T-test  26.268667  399   two-sided  5.049641e-89  [6.43, 7.47]  1.313433   \n",
      "\n",
      "             BF10  power  \n",
      "T-test  2.084e+85    1.0  \n"
     ]
    }
   ],
   "source": [
    "# Conduct a t-test on diff\n",
    "test_results = pingouin.ttest(x=sample_dem_data['diff'],               \n",
    "                y=0,               \n",
    "                alternative=\"two-sided\")\n",
    "                              \n",
    "# Print the test results\n",
    "print(test_results)"
   ]
  },
  {
   "cell_type": "code",
   "execution_count": 36,
   "id": "2ec3ee0b-bc0d-4e20-b8e4-f95e7892346e",
   "metadata": {},
   "outputs": [
    {
     "name": "stdout",
     "output_type": "stream",
     "text": [
      "                T  dof alternative         p-val         CI95%   cohen-d  \\\n",
      "T-test  26.268667  399   two-sided  5.049641e-89  [6.43, 7.47]  0.475625   \n",
      "\n",
      "             BF10  power  \n",
      "T-test  2.084e+85    1.0  \n"
     ]
    }
   ],
   "source": [
    "# Conduct a t-test on diff\n",
    "test_results = pingouin.ttest(x=sample_dem_data['diff'], \n",
    "                              y=0, \n",
    "                              alternative=\"two-sided\")\n",
    "\n",
    "# Conduct a paired t-test on dem_percent_12 and dem_percent_16\n",
    "paired_test_results = pingouin.ttest(x=sample_dem_data['dem_percent_12'], \n",
    "                              y=sample_dem_data['dem_percent_16'],\n",
    "                              paired=True,\n",
    "                              alternative=\"two-sided\")\n",
    "\n",
    "                              \n",
    "# Print the paired test results\n",
    "print(paired_test_results)"
   ]
  },
  {
   "cell_type": "code",
   "execution_count": null,
   "id": "85c0b15e-5517-4baf-b05c-95b7ccf1b00f",
   "metadata": {},
   "outputs": [],
   "source": []
  },
  {
   "cell_type": "code",
   "execution_count": 37,
   "id": "894b7cfe-e5cb-4584-bfe5-a3010560c06e",
   "metadata": {},
   "outputs": [],
   "source": [
    "import seaborn as sns"
   ]
  },
  {
   "cell_type": "code",
   "execution_count": 38,
   "id": "bf396744-3c08-4f4a-8307-75e4b97fc571",
   "metadata": {},
   "outputs": [
    {
     "name": "stdout",
     "output_type": "stream",
     "text": [
      "shipment_mode\n",
      "Air            39.712395\n",
      "Air Charter     4.226667\n",
      "Ocean           6.432273\n",
      "Name: pack_price, dtype: float64\n"
     ]
    }
   ],
   "source": [
    "# Calculate the mean pack_price for each shipment_mode\n",
    "xbar_pack_by_mode = late_shipments.groupby(by=[\"shipment_mode\"])[\"pack_price\"].mean()\n",
    "\n",
    "# Print the grouped means\n",
    "print(xbar_pack_by_mode)"
   ]
  },
  {
   "cell_type": "code",
   "execution_count": 39,
   "id": "7a56d144-abe9-4b24-ab35-2b8085de7757",
   "metadata": {},
   "outputs": [
    {
     "name": "stdout",
     "output_type": "stream",
     "text": [
      "shipment_mode\n",
      "Air            48.932861\n",
      "Air Charter     0.992969\n",
      "Ocean           5.303047\n",
      "Name: pack_price, dtype: float64\n"
     ]
    }
   ],
   "source": [
    "# Calculate the mean pack_price for each shipment_mode\n",
    "xbar_pack_by_mode = late_shipments.groupby(\"shipment_mode\")['pack_price'].mean()\n",
    "\n",
    "# Calculate the standard deviation of the pack_price for each shipment_mode\n",
    "s_pack_by_mode = late_shipments.groupby(\"shipment_mode\")['pack_price'].std()\n",
    "\n",
    "# Print the grouped standard deviations\n",
    "print(s_pack_by_mode)"
   ]
  },
  {
   "cell_type": "code",
   "execution_count": 40,
   "id": "0fbd7008-cfbd-4b79-98b4-4399e3b92748",
   "metadata": {},
   "outputs": [
    {
     "data": {
      "image/png": "[encoded data removed]",
      "text/plain": [
       "<Figure size 640x480 with 1 Axes>"
      ]
     },
     "metadata": {},
     "output_type": "display_data"
    }
   ],
   "source": [
    "# Calculate the mean pack_price for each shipment_mode\n",
    "xbar_pack_by_mode = late_shipments.groupby(\"shipment_mode\")['pack_price'].mean()\n",
    "\n",
    "# Calculate the standard deviation of the pack_price for each shipment_mode\n",
    "s_pack_by_mode = late_shipments.groupby(\"shipment_mode\")['pack_price'].std()\n",
    "\n",
    "# Boxplot of shipment_mode vs. pack_price\n",
    "sns.boxplot(data=late_shipments, x=\"pack_price\", y=\"shipment_mode\")\n",
    "plt.show()"
   ]
  },
  {
   "cell_type": "code",
   "execution_count": 41,
   "id": "07a5dc39-716f-4af5-ab69-fc9312eb0a1b",
   "metadata": {},
   "outputs": [
    {
     "name": "stdout",
     "output_type": "stream",
     "text": [
      "          Source  ddof1  ddof2        F         p-unc       np2\n",
      "0  shipment_mode      2    997  21.8646  5.089479e-10  0.042018\n"
     ]
    }
   ],
   "source": [
    "alpha = 0.1\n",
    "# Run an ANOVA on late_shipments investigating 'pack_price' (the dependent \n",
    "#     variable) between the groups of 'shipment_mode'\n",
    "\n",
    "# Run an ANOVA for pack_price across shipment_mode\n",
    "anova_results = pingouin.anova(data=late_shipments,\n",
    "                dv=\"pack_price\",\n",
    "                between=\"shipment_mode\")\n",
    "\n",
    "# Print anova_results\n",
    "print(anova_results)"
   ]
  },
  {
   "cell_type": "code",
   "execution_count": null,
   "id": "4ccc2690-b9d3-4624-9348-2edbc3109ce1",
   "metadata": {},
   "outputs": [],
   "source": []
  },
  {
   "cell_type": "code",
   "execution_count": 42,
   "id": "39dc94e2-9883-44c7-a30e-55b510aeea4d",
   "metadata": {},
   "outputs": [
    {
     "name": "stdout",
     "output_type": "stream",
     "text": [
      "        Contrast            A            B  Paired  Parametric          T  \\\n",
      "0  shipment_mode          Air  Air Charter   False        True  21.179625   \n",
      "1  shipment_mode          Air        Ocean   False        True  19.335760   \n",
      "2  shipment_mode  Air Charter        Ocean   False        True  -3.170654   \n",
      "\n",
      "          dof alternative         p-unc       BF10    hedges  \n",
      "0  600.685682   two-sided  8.748346e-75  5.809e+76  0.726592  \n",
      "1  986.979785   two-sided  6.934555e-71  1.129e+67  0.711119  \n",
      "2   35.615026   two-sided  3.123012e-03     15.277 -0.423775  \n"
     ]
    }
   ],
   "source": [
    "# Perform a pairwise t-test on pack price, grouped by shipment mode\n",
    "pairwise_results = pingouin.pairwise_tests(data=late_shipments,\n",
    "                         dv=\"pack_price\",\n",
    "                         between=\"shipment_mode\",\n",
    "                         padjust=\"none\") \n",
    "\n",
    "# Print pairwise_results\n",
    "print(pairwise_results)"
   ]
  },
  {
   "cell_type": "code",
   "execution_count": 43,
   "id": "2dee4290-086d-499f-96a4-592a9618ac39",
   "metadata": {},
   "outputs": [
    {
     "name": "stdout",
     "output_type": "stream",
     "text": [
      "        Contrast            A            B  Paired  Parametric          T  \\\n",
      "0  shipment_mode          Air  Air Charter   False        True  21.179625   \n",
      "1  shipment_mode          Air        Ocean   False        True  19.335760   \n",
      "2  shipment_mode  Air Charter        Ocean   False        True  -3.170654   \n",
      "\n",
      "          dof alternative         p-unc        p-corr p-adjust       BF10  \\\n",
      "0  600.685682   two-sided  8.748346e-75  2.624504e-74     bonf  5.809e+76   \n",
      "1  986.979785   two-sided  6.934555e-71  2.080367e-70     bonf  1.129e+67   \n",
      "2   35.615026   two-sided  3.123012e-03  9.369037e-03     bonf     15.277   \n",
      "\n",
      "     hedges  \n",
      "0  0.726592  \n",
      "1  0.711119  \n",
      "2 -0.423775  \n"
     ]
    }
   ],
   "source": [
    "# Modify the pairwise t-tests to use Bonferroni p-value adjustment\n",
    "pairwise_results = pingouin.pairwise_tests(data=late_shipments, \n",
    "                                           dv=\"pack_price\",\n",
    "                                           between=\"shipment_mode\",\n",
    "                                           padjust=\"bonf\")\n",
    "\n",
    "# Print pairwise_results\n",
    "print(pairwise_results)"
   ]
  },
  {
   "cell_type": "code",
   "execution_count": null,
   "id": "25b32d36-190e-442c-9dd6-b3710552831e",
   "metadata": {},
   "outputs": [],
   "source": []
  }
 ],
 "metadata": {
  "kernelspec": {
   "display_name": "Python 3 (ipykernel)",
   "language": "python",
   "name": "python3"
  },
  "language_info": {
   "codemirror_mode": {
    "name": "ipython",
    "version": 3
   },
   "file_extension": ".py",
   "mimetype": "text/x-python",
   "name": "python",
   "nbconvert_exporter": "python",
   "pygments_lexer": "ipython3",
   "version": "3.11.6"
  }
 },
 "nbformat": 4,
 "nbformat_minor": 5
}
