{
 "cells": [
  {
   "cell_type": "markdown",
   "id": "22a76373-3635-4f01-8201-811c4070f6d0",
   "metadata": {},
   "source": [
    "## Querying NoSQL databases\n",
    "\n",
    "In this exercise, you'll practice querying from column-oriented, document, and key-value databases. All three are popular NoSQL databases, that we'll use throughout the course!\n",
    "\n",
    "### Instructions 1/3\n",
    "        - Update the query below to return the team, year, event, and medal columns from the olympic_medals Snowflake table."
   ]
  },
  {
   "cell_type": "code",
   "execution_count": null,
   "id": "135363c2-5afc-42ee-bfaa-0750967838f8",
   "metadata": {},
   "outputs": [],
   "source": [
    "# Update the query to pull the team, year, event, and medal\n",
    "# fields from the olympic_medals table\n",
    "query = \"\"\"\n",
    "SELECT\n",
    "\tteam,\n",
    "    year,\n",
    "    event,\n",
    "    medal\n",
    "FROM olympic_medals;\n",
    "\"\"\"\n",
    "\n",
    "results = conn.cursor().execute(query).fetch_pandas_all()\n",
    "print(results)"
   ]
  },
  {
   "cell_type": "markdown",
   "id": "0cb93552-82e4-49f5-bdbd-b1ede2b7da5c",
   "metadata": {},
   "source": [
    "### Instructions 2/3\n",
    "        - Select the review column from the nested_reviews table, which contains document data; observe the data that's returned."
   ]
  },
  {
   "cell_type": "code",
   "execution_count": null,
   "id": "07e087f0-120c-4baa-9fb3-03c5a49f0291",
   "metadata": {},
   "outputs": [],
   "source": [
    "# Select the review column from the nested_reviews table\n",
    "query = \"\"\"\n",
    "SELECT \n",
    "\treview\n",
    "FROM nested_reviews;\n",
    "\"\"\"\n",
    "\n",
    "data = pd.read_sql(query, db_engine)\n",
    "print(data)"
   ]
  },
  {
   "cell_type": "markdown",
   "id": "a6476919-b39b-4618-82bb-2682160e9e93",
   "metadata": {},
   "source": [
    "### Instructions 3/3\n",
    "        - Use the set() method to store the value Sarah using the name key.\n",
    "        - Retrieve and print value stored at the name key."
   ]
  },
  {
   "cell_type": "code",
   "execution_count": null,
   "id": "873a0fb3-8df2-48ea-ada1-2f21a8a400cf",
   "metadata": {},
   "outputs": [],
   "source": [
    "# Set the name key-value pair\n",
    "redis_conn.set(\"name\", \"Sarah\")\n",
    "\n",
    "# Retrieve and print the value stored in the \"name\" key\n",
    "name = redis_conn.get(\"name\")\n",
    "print(name)"
   ]
  },
  {
   "cell_type": "markdown",
   "id": "2f39dee9-d423-4e6c-a308-e062ac1218fb",
   "metadata": {},
   "source": [
    "## Querying a column-oriented database\n",
    "\n",
    "In this example, you'll use Snowflake to query data from the olympic_medals table. This table contains information about Olympic medal winners going back to 1896. To work with this data stored in Snowflake, you'll be using the snowflake.connector package. A connection object has been created, which is stored in the variable conn. Best of luck!\n",
    "\n",
    "### Instructions\n",
    "    - Update the string stored to the query variable to return all columns of the olympic_medals table, limiting to the first ten rows.\n",
    "    - Execute the query stored in the query variable, using the conn.cursor().execute() function.\n",
    "    - Print the results of the query, which are stored in the results variable."
   ]
  },
  {
   "cell_type": "code",
   "execution_count": null,
   "id": "88b9231e-0d1d-45e5-beb8-6cd7e71e231a",
   "metadata": {},
   "outputs": [],
   "source": [
    "# Write a query to return all columns, limiting to 10 rows\n",
    "query = \"SELECT * FROM olympic_medals LIMIT 10;\"\n",
    "\n",
    "# Execute the query\n",
    "results = conn.cursor().execute(query).fetch_pandas_all()\n",
    "\n",
    "# Print the results of the query\n",
    "print(results)"
   ]
  },
  {
   "cell_type": "markdown",
   "id": "ac16a42c-1c9a-4c05-a55c-3229e9f3339d",
   "metadata": {},
   "source": [
    "## Filtering a column-oriented database\n",
    "\n",
    "Similar to before, you'll query data from the olympic_medals table using Snowflake, this time, filtering the table to only show a subset of rows. A connection object has been created, which is stored in the variable conn. Good luck!\n",
    "\n",
    "### Instructions\n",
    "    - SELECT the team, name, and year columns (in that order) from the olympic_medals table.\n",
    "    - Filter the dataset to only return rows after the year 2000.\n",
    "    - Execute the query stored in the query variable, and print the results."
   ]
  },
  {
   "cell_type": "code",
   "execution_count": null,
   "id": "336c301e-11ee-4e74-a1e1-e6abfe40f6ee",
   "metadata": {},
   "outputs": [],
   "source": [
    "# Return team, name, and year for all years greater than 2000\n",
    "query = \"\"\"\n",
    "SELECT\n",
    "\tteam,\n",
    "    name,\n",
    "    year\n",
    "FROM olympic_medals \n",
    "WHERE year > 2000\n",
    ";\n",
    "\"\"\"\n",
    "\n",
    "# Execute the query, print the results\n",
    "results = conn.cursor().execute(query).fetch_pandas_all()\n",
    "print(results)"
   ]
  },
  {
   "cell_type": "markdown",
   "id": "7d6b90d3-188e-4bc6-958f-944299eb0f5b",
   "metadata": {},
   "source": [
    "## Querying document databases\n",
    "\n",
    "Using Postgres JSON to query document data is similar to querying relational data with Postgres. In this exercise, you'll practice building a query to retrieve document data from the nested_reviews table, with Postgres JSON. Happy querying!\n",
    "\n",
    "### Instructions\n",
    "    - Update the query to return the review column from the nested_reviews table.\n",
    "    - Use the appropriate pandas function to create a DataFrame using the logic stored in the query variable.\n",
    "    - Output the first record in the DataFrame returned after executing the query."
   ]
  },
  {
   "cell_type": "code",
   "execution_count": null,
   "id": "2dbe38ce-0b13-4081-9727-eb40419356b8",
   "metadata": {},
   "outputs": [],
   "source": [
    "# Update the query to select the review field\n",
    "query = \"\"\"\n",
    "\tSELECT \n",
    "    \treview\n",
    "    FROM nested_reviews;\n",
    "\"\"\"\n",
    "\n",
    "# Execute the query\n",
    "data = pd.read_sql(query, db_engine)\n",
    "\n",
    "# Print the first element of the DataFrame\n",
    "print(data.iloc[0, 0])"
   ]
  },
  {
   "cell_type": "markdown",
   "id": "eab5f481-5ba2-4f66-83eb-e25249550b44",
   "metadata": {},
   "source": [
    "## Querying nested documents with Postgres JSON\n",
    "\n",
    "With Postgres JSON, querying semi-structured data is a breeze! Postgres provides built-in operators, such as ->. In this example, you'll practice using this operator to query reviews data from a column of type JSON. This table takes the form below: <br/>\n",
    "![](../../imgs/Chapter_3-3_Exercises.png)\n",
    "<br/>nested_reviews table, showing sample data.\n",
    "\n",
    "pandas has been imported as pd, and a sqlalchemy connection object has been configured, and made available for you via the db_engine variable. Best of luck!\n",
    "\n",
    "### Instructions 1/2\n",
    "    - Use the -> operator to query the statement field from the nested_reviews table."
   ]
  },
  {
   "cell_type": "code",
   "execution_count": null,
   "id": "ac73fc60-c3b8-4010-9cc1-71a17e156e94",
   "metadata": {},
   "outputs": [],
   "source": [
    "# Build the query to select the statement field\n",
    "query = \"\"\"\n",
    "\tSELECT \n",
    "    \treview -> 'statement' AS statement\n",
    "    FROM nested_reviews;\n",
    "\"\"\"\n",
    "\n",
    "# Execute the query, render results\n",
    "data = pd.read_sql(query, db_engine)\n",
    "print(data)"
   ]
  },
  {
   "cell_type": "markdown",
   "id": "a14ed7db-bb97-418c-8030-10004d4c5113",
   "metadata": {},
   "source": [
    "### Instructions 2/2\n",
    "    - Similar to before, use the -> operator to query the location field from the nested_reviews table."
   ]
  },
  {
   "cell_type": "code",
   "execution_count": null,
   "id": "ac6038af-5876-4bb5-a0b3-4e5d6cc8f441",
   "metadata": {},
   "outputs": [],
   "source": [
    "# Build the query to select the statement and location fields\n",
    "query = \"\"\"\n",
    "\tSELECT \n",
    "    \treview -> 'statement' AS statement, \n",
    "        review -> 'location' AS location \n",
    "    FROM nested_reviews;\n",
    "\"\"\"\n",
    "\n",
    "# Execute the query, render results\n",
    "data = pd.read_sql(query, db_engine)\n",
    "print(data)"
   ]
  }
 ],
 "metadata": {
  "kernelspec": {
   "display_name": "Python 3 (ipykernel)",
   "language": "python",
   "name": "python3"
  },
  "language_info": {
   "codemirror_mode": {
    "name": "ipython",
    "version": 3
   },
   "file_extension": ".py",
   "mimetype": "text/x-python",
   "name": "python",
   "nbconvert_exporter": "python",
   "pygments_lexer": "ipython3",
   "version": "3.11.6"
  }
 },
 "nbformat": 4,
 "nbformat_minor": 5
}
