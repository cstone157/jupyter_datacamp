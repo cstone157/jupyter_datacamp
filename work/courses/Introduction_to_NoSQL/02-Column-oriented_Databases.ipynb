{
 "cells": [
  {
   "cell_type": "markdown",
   "id": "44597fab-f02f-4f3e-93f6-402f9c8bd349",
   "metadata": {},
   "source": []
  },
  {
   "cell_type": "code",
   "execution_count": null,
   "id": "b3e05dfd-b29a-4a6e-8e31-1f05f587993d",
   "metadata": {},
   "outputs": [],
   "source": []
  }
 ],
 "metadata": {
  "kernelspec": {
   "display_name": "Julia 1.9.3",
   "language": "julia",
   "name": "julia-1.9"
  },
  "language_info": {
   "file_extension": ".jl",
   "mimetype": "application/julia",
   "name": "julia",
   "version": "1.9.3"
  }
 },
 "nbformat": 4,
 "nbformat_minor": 5
}
