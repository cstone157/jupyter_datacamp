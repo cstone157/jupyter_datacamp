{
 "cells": [
  {
   "cell_type": "markdown",
   "id": "f7b6056c-e039-455b-b646-05efdae08a9b",
   "metadata": {},
   "source": [
    "<a href=\"https://assets.datacamp.com/production/repositories/6312/datasets/e40061c2b58e9dbe22e94c4c96c18322676a3d40/omniglot_train.zip\">omniglot_train</a> <br/>\n",
    "<a href=\"https://assets.datacamp.com/production/repositories/6312/datasets/c48a507888bf774d66d7ab3ef77e37a8091179ec/omniglot_test.zip\">omniglot_test</a> <br/>\n",
    "<a href=\"https://assets.datacamp.com/production/repositories/6312/datasets/b11ec13ff18fb769e6d9370b2b53aaee3a08b501/electricity_consump.zip\">electricity_consump</a> <br/>\n",
    "<a href=\"https://assets.datacamp.com/production/repositories/6312/datasets/8a96624719a082926c7fad09e235f78a9f63656b/clouds.zip\">clouds</a> <br/>\n",
    "<a href=\"https://assets.datacamp.com/production/repositories/6312/datasets/f6a56ec01791d157db6c60ad10dc961e5469433f/water_potability.zip\">water_potability</a> <br/>"
   ]
  },
  {
   "cell_type": "code",
   "execution_count": 16,
   "id": "d93aab8b-ca46-46ac-a8a7-8cc006ec0407",
   "metadata": {},
   "outputs": [],
   "source": [
    "import numpy as np\n",
    "import pandas as pd\n",
    "\n",
    "from torch.utils.data import Dataset\n",
    "from torch.utils.data import DataLoader\n",
    "import torch\n",
    "import torch.nn as nn\n",
    "import torch.nn.functional as F\n",
    "import torch.optim as optim\n",
    "\n",
    "from torchmetrics import Accuracy"
   ]
  },
  {
   "cell_type": "markdown",
   "id": "2693d32f-3ad6-4e2a-a630-5ccd5a0fa7e4",
   "metadata": {},
   "source": [
    "## PyTorch Dataset\n",
    "\n",
    "#### Time to refresh your PyTorch Datasets knowledge!\n",
    "\n",
    "##### Before model training can commence, you need to load the data and pass it to the model in the right format. In PyTorch, this is handled by Datasets and DataLoaders. Let's start with building a PyTorch Dataset for our water potability data.\n",
    "\n",
    "##### In this exercise, you will define a class called WaterDataset to load the data from a CSV file. To do this, you will need to implement the three methods which PyTorch expects a Dataset to have:\n",
    "\n",
    "##### -    .__init__() to load the data,\n",
    "##### -    .__len__() to return data size,\n",
    "##### -    .__getitem()__ to extract features and label for a single sample.\n",
    "\n",
    "##### The following imports that you need have already been done for you:\n",
    "\n",
    "<code>\n",
    "import pandas as pd\n",
    "from torch.utils.data import Dataset\n",
    "</code>\n",
    "\n",
    "### Instructions 1/3\n",
    "-    In the .__init__() method, load the data from csv_path to a pandas DataFrame and assign it to df.\n",
    "-    Convert df to a NumPy array and assign the result to self.data."
   ]
  },
  {
   "cell_type": "code",
   "execution_count": 17,
   "id": "ba2ef14a-00f0-49d1-ba6d-3273115fa26e",
   "metadata": {},
   "outputs": [],
   "source": [
    "class WaterDataset(Dataset):\n",
    "    def __init__(self, csv_path):\n",
    "        super().__init__()\n",
    "        # Load data to pandas DataFrame\n",
    "        df = pd.read_csv(csv_path)\n",
    "        # Convert data to a NumPy array and assign to self.data\n",
    "        self.data = df.to_numpy()"
   ]
  },
  {
   "cell_type": "markdown",
   "id": "786b8af5-134f-45e0-8038-8a67e2d200fd",
   "metadata": {},
   "source": [
    "### Instructions 2/3\n",
    "-    Implement the .__len__() method to return the number of data samples."
   ]
  },
  {
   "cell_type": "code",
   "execution_count": 18,
   "id": "30ec892f-a7cf-43cb-87e0-a143f5927472",
   "metadata": {},
   "outputs": [],
   "source": [
    "class WaterDataset(Dataset):\n",
    "    def __init__(self, csv_path):\n",
    "        super().__init__()\n",
    "        # Load data to pandas DataFrame\n",
    "        df = pd.read_csv(csv_path)\n",
    "        # Convert data to a NumPy array and assign to self.data\n",
    "        self.data = df.to_numpy()\n",
    "      \n",
    "    # Implement __len__ to return the number of data samples\n",
    "    def __len__(self):\n",
    "        return self.data.shape[0]"
   ]
  },
  {
   "cell_type": "markdown",
   "id": "56fbd6d3-a7ec-4411-9ed8-ff2912477482",
   "metadata": {},
   "source": [
    "### Instructions 3/3\n",
    "-    In the .__getitem__() method, get the label by slicing self.data to extract its last column for the index idx, similarly to how it's done for the features."
   ]
  },
  {
   "cell_type": "code",
   "execution_count": 19,
   "id": "518b04dc-f643-4938-aba1-e0ef63d3f71a",
   "metadata": {},
   "outputs": [],
   "source": [
    "class WaterDataset(Dataset):\n",
    "    def __init__(self, csv_path):\n",
    "        super().__init__()\n",
    "        # Load data to pandas DataFrame\n",
    "        df = pd.read_csv(csv_path)\n",
    "        # Convert data to a NumPy array and assign to self.data\n",
    "        self.data = df.to_numpy()\n",
    "        \n",
    "    # Implement __len__ to return the number of data samples\n",
    "    def __len__(self):\n",
    "        return self.data.shape[0]\n",
    "    \n",
    "    def __getitem__(self, idx):\n",
    "        features = self.data[idx, :-1]\n",
    "        # Assign last data column to label\n",
    "        label = self.data[idx, -1]\n",
    "        return features, label"
   ]
  },
  {
   "cell_type": "markdown",
   "id": "e871b1aa-f3e5-491e-a103-1c1b8250be88",
   "metadata": {},
   "source": [
    "## PyTorch DataLoader\n",
    "\n",
    "##### Good job defining the Dataset class! The WaterDataset you just created is now available for you to use.\n",
    "\n",
    "##### The next step in preparing the training data is to set up a DataLoader. A PyTorch DataLoader can be created from a Dataset to load data, split it into batches, and perform transformations on the data if desired. Then, it yields a data sample ready for training.\n",
    "\n",
    "##### In this exercise, you will build a DataLoader based on the WaterDataset. The DataLoader class you will need has already been imported for you from torch.utils.data. Let's get to it!\n",
    "\n",
    "### Instructions\n",
    "-    Create an instance of WaterDataset from water_train.csv, assigning it to dataset_train.\n",
    "-    Create dataloader_train based on dataset_train, using a batch size of two and shuffling the samples.\n",
    "-    Get a batch of features and labels from the DataLoader and print them."
   ]
  },
  {
   "cell_type": "code",
   "execution_count": 20,
   "id": "05b9486f-df7e-4ddf-848f-c127e78c29c3",
   "metadata": {},
   "outputs": [
    {
     "name": "stdout",
     "output_type": "stream",
     "text": [
      "tensor([[0.5727, 0.6685, 0.4684, 0.4155, 0.4150, 0.5354, 0.6606, 0.4309, 0.2388],\n",
      "        [0.4076, 0.3461, 0.2807, 0.6874, 0.4220, 0.6317, 0.3898, 0.3783, 0.7135]],\n",
      "       dtype=torch.float64) tensor([0., 0.], dtype=torch.float64)\n"
     ]
    }
   ],
   "source": [
    "# Create an instance of the WaterDataset\n",
    "#dataset_train = WaterDataset(\"water_train.csv\")\n",
    "dataset_train = WaterDataset(\"data/water_train.csv\")\n",
    "\n",
    "# Create a DataLoader based on dataset_train\n",
    "dataloader_train = DataLoader(\n",
    "    dataset_train,\n",
    "    batch_size=2,\n",
    "    shuffle=True,\n",
    ")\n",
    "\n",
    "# Get a batch of features and labels\n",
    "features, labels = next(iter(dataloader_train))\n",
    "print(features, labels)"
   ]
  },
  {
   "cell_type": "markdown",
   "id": "601a60bc-b261-468e-a0a1-282f0b83049e",
   "metadata": {},
   "source": [
    "## PyTorch Model\n",
    "\n",
    "##### You will use the OOP approach to define the model architecture. Recall that this requires setting up a model class and defining two methods inside it:\n",
    "\n",
    "##### -    .__init__(), in which you define the layers you want to use;\n",
    "##### -    forward(), in which you define what happens to the model inputs once it receives them; this is where you pass inputs through pre-defined layers.\n",
    "\n",
    "##### Let's build a model with three linear layers and ReLU activations. After the last linear layer, you need a sigmoid activation instead, which is well-suited for binary classification tasks like our water potability prediction problem. Here's the model defined using nn.Sequential(), which you may be more familiar with:\n",
    "\n",
    "<code>\n",
    "net = nn.Sequential(\n",
    "  nn.Linear(9, 16),\n",
    "  nn.ReLU(),\n",
    "  nn.Linear(16, 8),\n",
    "  nn.ReLU(),\n",
    "  nn.Linear(8, 1),\n",
    "  nn.Sigmoid(),\n",
    ")\n",
    "</code>\n",
    "\n",
    "###### Let's rewrite this model as a class!\n",
    "\n",
    "### Instructions\n",
    "-    In the .__init__() method, define the three linear layers with dimensions corresponding to the model definition provided and assign them to self.fc1, self.fc2, and self.fc3, respectively.\n",
    "-    In the forward() method, pass the model input x through all the layers, remembering to add activations on top of them, similarly how it's already done for the first layer."
   ]
  },
  {
   "cell_type": "code",
   "execution_count": 34,
   "id": "27b6735f-9163-4880-8ccf-eb792230cce7",
   "metadata": {},
   "outputs": [],
   "source": [
    "import torch.nn as nn\n",
    "import torch.nn.functional as F\n",
    "\n",
    "class Net(nn.Module):\n",
    "    def __init__(self):\n",
    "        super(Net, self).__init__()\n",
    "        # Define the three linear layers\n",
    "        self.fc1 = nn.Linear(9, 16).double()\n",
    "        self.fc2 = nn.Linear(16, 8).double()\n",
    "        self.fc3 = nn.Linear(8, 1).double()\n",
    "    \n",
    "    def forward(self, x):\n",
    "        # Pass x through linear layers adding activations\n",
    "        x = nn.functional.relu(self.fc1(x))\n",
    "        x = nn.functional.relu(self.fc2(x))\n",
    "        x = nn.functional.sigmoid(self.fc3(x))\n",
    "        return x"
   ]
  },
  {
   "cell_type": "markdown",
   "id": "a66f86f3-cdef-4ab8-a7d9-252dad20efc7",
   "metadata": {},
   "source": [
    "## Optimizers\n",
    "\n",
    "##### It's time to explore the different optimizers that you can use for training your model.\n",
    "\n",
    "##### A custom function called train_model(optimizer, net, num_epochs) has been defined for you. It takes the optimizer, the model, and the number of epochs as inputs, runs the training loops, and prints the training loss at the end.\n",
    "\n",
    "##### Let's use train_model() to run a few short trainings with different optimizers and compare the results!\n",
    "\n",
    "### Instructions 1/3\n",
    "-    Define the optimizer as Stochastic Gradient Descent."
   ]
  },
  {
   "cell_type": "code",
   "execution_count": 35,
   "id": "db9e6b5c-50f8-4497-8a47-1968760d9a8b",
   "metadata": {},
   "outputs": [],
   "source": [
    "import torch.nn as nn\n",
    "import torch.nn.functional as F\n",
    "\n",
    "## \n",
    "def train_model(optimizer, net, num_epochs):\n",
    "    criterion = nn.BCELoss()\n",
    "    for epoch in range(num_epochs):\n",
    "        running_loss = 0.\n",
    "        for features, labels in dataloader_train:\n",
    "            optimizer.zero_grad()\n",
    "            outputs = net(features)\n",
    "            loss = criterion(outputs, labels.view(-1, 1))\n",
    "            loss.backward()\n",
    "            optimizer.step()\n",
    "            running_loss += loss.item()\n",
    "    train_loss = running_loss / len(dataloader_train)\n",
    "    print(f\"Training loss after {num_epochs} epochs: {train_loss}\")"
   ]
  },
  {
   "cell_type": "code",
   "execution_count": 36,
   "id": "1d7a8294-6a97-4188-ab14-c2f09c9f2f13",
   "metadata": {},
   "outputs": [
    {
     "name": "stdout",
     "output_type": "stream",
     "text": [
      "Training loss after 10 epochs: 0.6735866321318518\n"
     ]
    }
   ],
   "source": [
    "import torch.optim as optim\n",
    "\n",
    "net = Net()\n",
    "\n",
    "# Define the SGD optimizer\n",
    "optimizer = optim.SGD(net.parameters(), lr=0.001)\n",
    "\n",
    "train_model(\n",
    "    optimizer=optimizer,\n",
    "    net=net,\n",
    "    num_epochs=10,\n",
    ")"
   ]
  },
  {
   "cell_type": "markdown",
   "id": "1888b16a-f039-4f06-a930-313997c5816d",
   "metadata": {},
   "source": [
    "### Instructions 2/3\n",
    "-    Define the optimizer as Root Mean Square Propagation (RMSprop), passing the model's parameters as its first argument."
   ]
  },
  {
   "cell_type": "code",
   "execution_count": 37,
   "id": "85dd7681-3779-412f-a72d-4dc7d680febd",
   "metadata": {},
   "outputs": [
    {
     "name": "stdout",
     "output_type": "stream",
     "text": [
      "Training loss after 10 epochs: 0.6716230012652026\n"
     ]
    }
   ],
   "source": [
    "import torch.optim as optim\n",
    "\n",
    "net = Net()\n",
    "\n",
    "# Define the RMSprop optimizer\n",
    "optimizer = optim.RMSprop(net.parameters(), lr=0.001)\n",
    "\n",
    "train_model(\n",
    "    optimizer=optimizer,\n",
    "    net=net,\n",
    "    num_epochs=10,\n",
    ")"
   ]
  },
  {
   "cell_type": "markdown",
   "id": "0de07286-2fb5-443f-9080-42037a1ae233",
   "metadata": {},
   "source": [
    "### Instructions 3/3\n",
    "-    Define the optimizer as Adaptive Moments Estimation (Adam), setting the learning rate to 0.001."
   ]
  },
  {
   "cell_type": "code",
   "execution_count": 38,
   "id": "e44c5837-0cb2-4f77-8101-1774b94a4858",
   "metadata": {},
   "outputs": [
    {
     "name": "stdout",
     "output_type": "stream",
     "text": [
      "Training loss after 10 epochs: 0.6734744689608814\n"
     ]
    }
   ],
   "source": [
    "import torch.optim as optim\n",
    "\n",
    "net = Net()\n",
    "\n",
    "# Define the Adam optimizer\n",
    "optimizer = optim.Adagrad(net.parameters(), lr=0.01)\n",
    "\n",
    "train_model(\n",
    "    optimizer=optimizer,\n",
    "    net=net,\n",
    "    num_epochs=10,\n",
    ")"
   ]
  },
  {
   "cell_type": "markdown",
   "id": "ad947d49-2766-4ecc-bb7f-713dffb9bee3",
   "metadata": {},
   "source": [
    "## Model evaluation\n",
    "\n",
    "##### With the training loop sorted out, you have trained the model for 1000 epochs, and it is available to you as net. You have also set up a test_dataloader in exactly the same way as you did with train_dataloader before—just reading the data from the test rather than the train directory.\n",
    "\n",
    "##### You can now evaluate the model on test data. To do this, you will need to write the evaluation loop to iterate over the batches of test data, get the model's predictions for each batch, and calculate the accuracy score for it. Let's do it!\n",
    "\n",
    "### Instructions\n",
    "-    Set up the evaluation metric as Accuracy for binary classification and assign it to acc.\n",
    "-    For each batch of test data, get the model's outputs and assign them to outputs.\n",
    "-    After the loop, compute the total test accuracy and assign it to test_accuracy."
   ]
  },
  {
   "cell_type": "code",
   "execution_count": 43,
   "id": "b33a2a89-4036-45b1-b5f8-60049e81c3fc",
   "metadata": {},
   "outputs": [],
   "source": [
    "# ! pip install torchmetrics\n",
    "dataset_test = WaterDataset(\"data/water_test.csv\")\n",
    "\n",
    "# Create a DataLoader based on dataset_train\n",
    "dataloader_test = DataLoader(\n",
    "    dataset_test,\n",
    "    batch_size=2,\n",
    "    shuffle=True,\n",
    ")"
   ]
  },
  {
   "cell_type": "code",
   "execution_count": 44,
   "id": "467e2d1f-6ac0-4430-932a-b670a697d89a",
   "metadata": {},
   "outputs": [
    {
     "name": "stdout",
     "output_type": "stream",
     "text": [
      "Test accuracy: 0.5904572606086731\n"
     ]
    }
   ],
   "source": [
    "import torch\n",
    "from torchmetrics import Accuracy\n",
    "\n",
    "# Set up binary accuracy metric\n",
    "acc = Accuracy(task=\"binary\")\n",
    "\n",
    "net.eval()\n",
    "with torch.no_grad():\n",
    "    for features, labels in dataloader_test:\n",
    "        # Get predicted probabilities for test data batch\n",
    "        outputs = net(features)\n",
    "        preds = (outputs >= 0.5).float()\n",
    "        acc(preds, labels.view(-1, 1))\n",
    "\n",
    "# Compute total test accuracy\n",
    "test_accuracy = acc.compute()\n",
    "print(f\"Test accuracy: {test_accuracy}\")"
   ]
  },
  {
   "cell_type": "markdown",
   "id": "a58eb5f5-4461-4221-bde3-5297cd2810da",
   "metadata": {},
   "source": [
    "## Initialization and activation\n",
    "\n",
    "##### The problems of unstable (vanishing or exploding) gradients are a challenge that often arises in training deep neural networks. In this and the following exercises, you will expand the model architecture that you built for the water potability classification task to make it more immune to those problems.\n",
    "\n",
    "##### As a first step, you'll improve the weights initialization by using He (Kaiming) initialization strategy. To do so, you will need to call the proper initializer from the torch.nn.init module, which has been imported for you as init. Next, you will update the activations functions from the default ReLU to the often better ELU.\n",
    "\n",
    "### Instructions\n",
    "-    Call the He (Kaiming) initializer on the weight attribute of the second layer, fc2, similarly to how it's done for fc1.\n",
    "-    Call the He (Kaiming) initializer on the weight attribute of the third layer, fc3, accounting for the different activation function used in the final layer.\n",
    "-    Update the activation functions in the forward() method from relu to elu."
   ]
  },
  {
   "cell_type": "code",
   "execution_count": 45,
   "id": "0946a591-fe43-4781-988f-d1ff199cc2b1",
   "metadata": {},
   "outputs": [],
   "source": [
    "class Net(nn.Module):\n",
    "    def __init__(self):\n",
    "        super(Net, self).__init__()\n",
    "        self.fc1 = nn.Linear(9, 16)\n",
    "        self.fc2 = nn.Linear(16, 8)\n",
    "        self.fc3 = nn.Linear(8, 1)\n",
    "        \n",
    "        # Apply He initialization\n",
    "        init.kaiming_uniform_(self.fc1.weight)\n",
    "        init.kaiming_uniform_(self.fc2.weight)\n",
    "        init.kaiming_uniform_(self.fc3.weight, nonlinearity=\"sigmoid\")\n",
    "\n",
    "    def forward(self, x):\n",
    "        # Update ReLU activation to ELU\n",
    "        x = nn.functional.elu(self.fc1(x))\n",
    "        x = nn.functional.elu(self.fc2(x))\n",
    "        x = nn.functional.sigmoid(self.fc3(x))\n",
    "        return x"
   ]
  },
  {
   "cell_type": "markdown",
   "id": "e41031b7-1d18-483c-b5fa-236a468675df",
   "metadata": {},
   "source": [
    "## Batch Normalization\n",
    "\n",
    "##### As a final improvement to the model architecture, let's add the batch normalization layer after each of the two linear layers. The batch norm trick tends to accelerate training convergence and protects the model from vanishing and exploding gradients issues.\n",
    "\n",
    "##### Both torch.nn and torch.nn.init have already been imported for you as nn and init, respectively. Once you implement the change in the model architecture, be ready to answer a short question on how batch normalization works!\n",
    "\n",
    "### Instructions 1/3\n",
    "-    Add two BatchNorm1d layers assigning them to self.bn1 and self.bn2."
   ]
  },
  {
   "cell_type": "code",
   "execution_count": 46,
   "id": "b89f4488-6fb2-4923-9e94-f09c4b0cdddc",
   "metadata": {},
   "outputs": [],
   "source": [
    "class Net(nn.Module):\n",
    "    def __init__(self):\n",
    "        super(Net, self).__init__()\n",
    "        self.fc1 = nn.Linear(9, 16)\n",
    "        self.fc2 = nn.Linear(16, 8)\n",
    "        self.fc3 = nn.Linear(8, 1)\n",
    "        # Add two batch normalization layers\n",
    "        self.bn1 = nn.BatchNorm1d(16)\n",
    "        self.bn2 = nn.BatchNorm1d(8)\n",
    "        \n",
    "        init.kaiming_uniform_(self.fc1.weight)\n",
    "        init.kaiming_uniform_(self.fc2.weight)\n",
    "        init.kaiming_uniform_(self.fc3.weight, nonlinearity=\"sigmoid\")"
   ]
  },
  {
   "cell_type": "markdown",
   "id": "f9c5bf14-fbb8-454e-90fa-13ca1f0b995d",
   "metadata": {},
   "source": [
    "### Instructions 2/3\n",
    "-    In the forward() method, pass x through the second set of layers: the linear layer, the batch norm layer, and the activations, similarly to how it's done for the first set of layers."
   ]
  },
  {
   "cell_type": "code",
   "execution_count": 47,
   "id": "9ac067f6-7afc-4c80-a85d-2a118cfaeadb",
   "metadata": {},
   "outputs": [],
   "source": [
    "class Net(nn.Module):\n",
    "    def __init__(self):\n",
    "        super(Net, self).__init__()\n",
    "        self.fc1 = nn.Linear(9, 16)\n",
    "        self.fc2 = nn.Linear(16, 8)\n",
    "        self.fc3 = nn.Linear(8, 1)\n",
    "        # Add two batch normalization layers\n",
    "        self.bn1 = nn.BatchNorm1d(16)\n",
    "        self.bn2 = nn.BatchNorm1d(8)\n",
    "        \n",
    "        init.kaiming_uniform_(self.fc1.weight)\n",
    "        init.kaiming_uniform_(self.fc2.weight)\n",
    "        init.kaiming_uniform_(self.fc3.weight, nonlinearity=\"sigmoid\") \n",
    "    \n",
    "    def forward(self, x):\n",
    "        x = self.fc1(x)\n",
    "        x = self.bn1(x)\n",
    "        x = nn.functional.elu(x)\n",
    "\n",
    "        # Pass x through the second set of layers\n",
    "        x = self.fc2(x)\n",
    "        x = self.bn2(x)\n",
    "        x = nn.functional.elu(x)\n",
    "\n",
    "        x = nn.functional.sigmoid(self.fc3(x))\n",
    "        return x"
   ]
  },
  {
   "cell_type": "markdown",
   "id": "ec5ce17b-a374-449f-a905-d7f67aa0c1c1",
   "metadata": {},
   "source": []
  }
 ],
 "metadata": {
  "kernelspec": {
   "display_name": "Python 3 (ipykernel)",
   "language": "python",
   "name": "python3"
  },
  "language_info": {
   "codemirror_mode": {
    "name": "ipython",
    "version": 3
   },
   "file_extension": ".py",
   "mimetype": "text/x-python",
   "name": "python",
   "nbconvert_exporter": "python",
   "pygments_lexer": "ipython3",
   "version": "3.11.6"
  }
 },
 "nbformat": 4,
 "nbformat_minor": 5
}
