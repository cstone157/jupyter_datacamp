{
 "cells": [
  {
   "cell_type": "code",
   "execution_count": 1,
   "id": "5ba27a52-1b8e-4fbc-a968-4d203ce83be8",
   "metadata": {},
   "outputs": [],
   "source": [
    "import numpy as np\n",
    "import pandas as pd\n",
    "\n",
    "from sklearn.ensemble import RandomForestRegressor, RandomForestClassifier\n",
    "from sklearn.metrics import mean_absolute_error as mae\n",
    "from sklearn.model_selection import train_test_split\n",
    "\n",
    "from category_encoders.one_hot import OneHotEncoder\n",
    "\n",
    "tic_tac_toe = pd.read_csv('./../../data/tic-tac-toe.csv')\n",
    "candy = pd.read_csv('./../../data/candy-data.csv')"
   ]
  },
  {
   "cell_type": "markdown",
   "id": "112c5fc5-54d9-45ff-a622-07725a2bfe37",
   "metadata": {},
   "source": [
    "## Creating Hyperparameters\n",
    "### For a school assignment, your professor has asked your class to create a random forest model to predict the average test score for the final exam.\n",
    "\n",
    "### After developing an initial random forest model, you are unsatisfied with the overall accuracy. You realize that there are too many hyperparameters to choose from, and each one has a lot of possible values. You have decided to make a list of possible ranges for the hyperparameters you might use in your next model.\n",
    "\n",
    "### Your professor has provided de-identified data for the last ten quizzes to act as the training data. There are 30 students in your class.\n",
    "\n",
    "### Instructions 1/3\n",
    "-    Print.get_params() in the console to review the possible parameters of the model that you can tune."
   ]
  },
  {
   "cell_type": "code",
   "execution_count": 2,
   "id": "24979e57-1849-4103-8dc6-4adf6ba115ee",
   "metadata": {},
   "outputs": [],
   "source": [
    "rfr = RandomForestRegressor({'bootstrap': True, 'ccp_alpha': 0.0, 'criterion': 'squared_error', 'max_depth': None, 'max_features': 'auto', 'max_leaf_nodes': None, 'max_samples': None, 'min_impurity_decrease': 0.0, 'min_samples_leaf': 1, 'min_samples_split': 2, 'min_weight_fraction_leaf': 0.0, 'n_estimators': 100, 'n_jobs': None, 'oob_score': False, 'random_state': 1111, 'verbose': 0, 'warm_start': False})"
   ]
  },
  {
   "cell_type": "code",
   "execution_count": 3,
   "id": "6a61cd52-79a9-4ab9-8097-291be8ba81d1",
   "metadata": {},
   "outputs": [
    {
     "name": "stdout",
     "output_type": "stream",
     "text": [
      "{'bootstrap': True, 'ccp_alpha': 0.0, 'criterion': 'squared_error', 'max_depth': None, 'max_features': 1.0, 'max_leaf_nodes': None, 'max_samples': None, 'min_impurity_decrease': 0.0, 'min_samples_leaf': 1, 'min_samples_split': 2, 'min_weight_fraction_leaf': 0.0, 'n_estimators': {'bootstrap': True, 'ccp_alpha': 0.0, 'criterion': 'squared_error', 'max_depth': None, 'max_features': 'auto', 'max_leaf_nodes': None, 'max_samples': None, 'min_impurity_decrease': 0.0, 'min_samples_leaf': 1, 'min_samples_split': 2, 'min_weight_fraction_leaf': 0.0, 'n_estimators': 100, 'n_jobs': None, 'oob_score': False, 'random_state': 1111, 'verbose': 0, 'warm_start': False}, 'n_jobs': None, 'oob_score': False, 'random_state': None, 'verbose': 0, 'warm_start': False}\n"
     ]
    }
   ],
   "source": [
    "# Review the parameters of rfr\n",
    "print(rfr.get_params())"
   ]
  },
  {
   "cell_type": "markdown",
   "id": "88da8b51-6f44-46a7-b66e-ebc81e864eda",
   "metadata": {},
   "source": [
    "### Instructions 2/3\n",
    "-    Create a maximum depth list, [4, 8, 12] and a minimum samples list [2, 5, 10] that specify possible values for each hyperparameter."
   ]
  },
  {
   "cell_type": "code",
   "execution_count": 4,
   "id": "58c60029-76b8-488c-abac-9039e47a756e",
   "metadata": {},
   "outputs": [
    {
     "name": "stdout",
     "output_type": "stream",
     "text": [
      "{'bootstrap': True, 'ccp_alpha': 0.0, 'criterion': 'squared_error', 'max_depth': None, 'max_features': 1.0, 'max_leaf_nodes': None, 'max_samples': None, 'min_impurity_decrease': 0.0, 'min_samples_leaf': 1, 'min_samples_split': 2, 'min_weight_fraction_leaf': 0.0, 'n_estimators': {'bootstrap': True, 'ccp_alpha': 0.0, 'criterion': 'squared_error', 'max_depth': None, 'max_features': 'auto', 'max_leaf_nodes': None, 'max_samples': None, 'min_impurity_decrease': 0.0, 'min_samples_leaf': 1, 'min_samples_split': 2, 'min_weight_fraction_leaf': 0.0, 'n_estimators': 100, 'n_jobs': None, 'oob_score': False, 'random_state': 1111, 'verbose': 0, 'warm_start': False}, 'n_jobs': None, 'oob_score': False, 'random_state': None, 'verbose': 0, 'warm_start': False}\n"
     ]
    }
   ],
   "source": [
    "# Review the parameters of rfr\n",
    "print(rfr.get_params())\n",
    "\n",
    "# Maximum Depth\n",
    "max_depth = [4, 8, 12]\n",
    "\n",
    "# Minimum samples for a split\n",
    "min_samples_split = [2, 5, 10]"
   ]
  },
  {
   "cell_type": "markdown",
   "id": "83702ef6-d0d7-49f1-a168-3c6ce02d756e",
   "metadata": {},
   "source": [
    "### Instructions 3/3\n",
    "-    Create one final list to use for the maximum features.\n",
    "-      Use values 4 through the maximum number of features possible (10), by 2."
   ]
  },
  {
   "cell_type": "code",
   "execution_count": 5,
   "id": "9ab8af21-7405-4d72-b735-7fa1102408df",
   "metadata": {},
   "outputs": [
    {
     "name": "stdout",
     "output_type": "stream",
     "text": [
      "{'bootstrap': True, 'ccp_alpha': 0.0, 'criterion': 'squared_error', 'max_depth': None, 'max_features': 1.0, 'max_leaf_nodes': None, 'max_samples': None, 'min_impurity_decrease': 0.0, 'min_samples_leaf': 1, 'min_samples_split': 2, 'min_weight_fraction_leaf': 0.0, 'n_estimators': {'bootstrap': True, 'ccp_alpha': 0.0, 'criterion': 'squared_error', 'max_depth': None, 'max_features': 'auto', 'max_leaf_nodes': None, 'max_samples': None, 'min_impurity_decrease': 0.0, 'min_samples_leaf': 1, 'min_samples_split': 2, 'min_weight_fraction_leaf': 0.0, 'n_estimators': 100, 'n_jobs': None, 'oob_score': False, 'random_state': 1111, 'verbose': 0, 'warm_start': False}, 'n_jobs': None, 'oob_score': False, 'random_state': None, 'verbose': 0, 'warm_start': False}\n"
     ]
    }
   ],
   "source": [
    "# Review the parameters of rfr\n",
    "print(rfr.get_params())\n",
    "\n",
    "# Maximum Depth\n",
    "max_depth = [4, 8, 12]\n",
    "\n",
    "# Minimum samples for a split\n",
    "min_samples_split = [2, 5, 10]\n",
    "\n",
    "# Max features \n",
    "max_features = [4, 6, 8, 10]"
   ]
  },
  {
   "cell_type": "markdown",
   "id": "64e08b59-c419-4fb3-8170-79439f1fc503",
   "metadata": {},
   "source": [
    "## Running a model using ranges\n",
    "### You have just finished creating a list of hyperparameters and ranges to use when tuning a predictive model for an assignment. You have used max_depth, min_samples_split, and max_features as your range variable names.\n",
    "\n",
    "### Instructions\n",
    "-    Randomly select a max_depth, min_samples_split, and max_features using your range variables.\n",
    "-    Print out all of the parameters for rfr to see which values were randomly selected."
   ]
  },
  {
   "cell_type": "code",
   "execution_count": 7,
   "id": "490fc45d-9c8d-4858-9079-e7a9e694f1ca",
   "metadata": {},
   "outputs": [],
   "source": [
    "import random"
   ]
  },
  {
   "cell_type": "code",
   "execution_count": 8,
   "id": "3ea83754-f20f-4b90-8d86-56faa1b7fb8b",
   "metadata": {},
   "outputs": [
    {
     "name": "stdout",
     "output_type": "stream",
     "text": [
      "{'bootstrap': True, 'ccp_alpha': 0.0, 'criterion': 'squared_error', 'max_depth': 4, 'max_features': 8, 'max_leaf_nodes': None, 'max_samples': None, 'min_impurity_decrease': 0.0, 'min_samples_leaf': 1, 'min_samples_split': 5, 'min_weight_fraction_leaf': 0.0, 'n_estimators': 100, 'n_jobs': None, 'oob_score': False, 'random_state': None, 'verbose': 0, 'warm_start': False}\n"
     ]
    }
   ],
   "source": [
    "from sklearn.ensemble import RandomForestRegressor\n",
    "\n",
    "# Fill in rfr using your variables\n",
    "rfr = RandomForestRegressor(\n",
    "    n_estimators=100,\n",
    "    max_depth=random.choice(max_depth),\n",
    "    min_samples_split=random.choice(min_samples_split),\n",
    "    max_features=random.choice(max_features))\n",
    "\n",
    "# Print out the parameters\n",
    "print(rfr.get_params())"
   ]
  },
  {
   "cell_type": "markdown",
   "id": "03ec1465-827c-415c-9a7d-ddcecf326601",
   "metadata": {},
   "source": [
    "## Preparing for RandomizedSearch\n",
    "### Last semester your professor challenged your class to build a predictive model to predict final exam test scores. You tried running a few different models by randomly selecting hyperparameters. However, running each model required you to code it individually.\n",
    "\n",
    "### After learning about RandomizedSearchCV(), you're revisiting your professors challenge to build the best model. In this exercise, you will prepare the three necessary inputs for completing a random search.\n",
    "\n",
    "### Instructions\n",
    "-    Finalize the parameter dictionary by adding a list for the max_depth parameter with options 2, 4, 6, and 8.\n",
    "-    Create a random forest regression model with ten trees and a random_state of 1111.\n",
    "-    Create a mean squared error scorer to use."
   ]
  },
  {
   "cell_type": "code",
   "execution_count": 9,
   "id": "ee5db9fb-ebb5-42f1-a30c-8a99276f38bd",
   "metadata": {},
   "outputs": [],
   "source": [
    "from sklearn.ensemble import RandomForestRegressor\n",
    "from sklearn.metrics import make_scorer, mean_squared_error\n",
    "\n",
    "# Finish the dictionary by adding the max_depth parameter\n",
    "param_dist = {\"max_depth\": [2, 4, 6, 8],\n",
    "              \"max_features\": [2, 4, 6, 8, 10],\n",
    "              \"min_samples_split\": [2, 4, 8, 16]}\n",
    "\n",
    "# Create a random forest regression model\n",
    "rfr = RandomForestRegressor(n_estimators=10, random_state=1111)\n",
    "\n",
    "# Create a scorer to use (use the mean squared error)\n",
    "scorer = make_scorer(mean_squared_error)"
   ]
  },
  {
   "cell_type": "markdown",
   "id": "64815115-c29f-4d09-9d58-85fba63e41ae",
   "metadata": {},
   "source": [
    "## Implementing RandomizedSearchCV\n",
    "### You are hoping that using a random search algorithm will help you improve predictions for a class assignment. You professor has challenged your class to predict the overall final exam average score.\n",
    "\n",
    "### In preparation for completing a random search, you have created:\n",
    "\n",
    "##### - param_dist: the hyperparameter distributions\n",
    "##### - rfr: a random forest regression model\n",
    "##### - scorer: a scoring method to use\n",
    "### Instructions\n",
    "-    Load the method for conducting a random search in sklearn.\n",
    "-    Complete a random search by filling in the parameters: estimator, param_distributions, and scoring.\n",
    "-    Use 5-fold cross validation for this random search."
   ]
  },
  {
   "cell_type": "code",
   "execution_count": 10,
   "id": "860f7f2c-4ade-4233-bfb5-a9dbd5e81fc6",
   "metadata": {},
   "outputs": [],
   "source": [
    "# Import the method for random search\n",
    "from sklearn.model_selection import RandomizedSearchCV\n",
    "\n",
    "# Build a random search using param_dist, rfr, and scorer\n",
    "random_search =\\\n",
    "    RandomizedSearchCV(\n",
    "        estimator=rfr,\n",
    "        param_distributions=param_dist,\n",
    "        n_iter=10,\n",
    "        cv=5,\n",
    "        scoring=scorer)"
   ]
  },
  {
   "cell_type": "markdown",
   "id": "7a64f282-f7ba-4c34-ac05-fd8c8df3ac9d",
   "metadata": {},
   "source": [
    "## Selecting the best precision model\n",
    "### Your boss has offered to pay for you to see three sports games this year. Of the 41 home games your favorite team plays, you want to ensure you go to three home games that they will definitely win. You build a model to decide which games your team will win.\n",
    "\n",
    "### To do this, you will build a random search algorithm and focus on model precision (to ensure your team wins). You also want to keep track of your best model and best parameters, so that you can use them again next year (if the model does well, of course). You have already decided on using the random forest classification model rfc and generated a parameter distribution param_dist.\n",
    "\n",
    "### Instructions\n",
    "-    Create a precision scorer, precision using make_scorer(<scoring_function>).\n",
    "-    Complete the random search method by using rfc and param_dist.\n",
    "-    Use rs.cv_results_ to print the mean test scores.\n",
    "-    Print the best overall score."
   ]
  },
  {
   "cell_type": "code",
   "execution_count": 14,
   "id": "43d38d51-3519-486e-908c-f5507f0790f7",
   "metadata": {},
   "outputs": [],
   "source": [
    "encoder = OneHotEncoder(cols=[\"Top-Left\", \"Top-Middle\", \"Top-Right\", \"Middle-Left\", \"Middle-Middle\", \n",
    "                              \"Middle-Right\", \"Bottom-Left\", \"Bottom-Middle\", \"Bottom-Right\", \"Class\"])\n",
    "\n",
    "tic_tac_toe1 = encoder.fit_transform(tic_tac_toe)\n",
    "tic_tac_toe1.columns\n",
    "\n",
    "X = tic_tac_toe1[['Top-Left_1', 'Top-Left_2', 'Top-Left_3', 'Top-Middle_1', 'Top-Middle_2', 'Top-Middle_3', 'Top-Right_1', 'Top-Right_2',\n",
    "       'Top-Right_3', 'Middle-Left_1', 'Middle-Left_2', 'Middle-Left_3', 'Middle-Middle_1', 'Middle-Middle_2', 'Middle-Middle_3',\n",
    "       'Middle-Right_1', 'Middle-Right_2', 'Middle-Right_3', 'Bottom-Left_1', 'Bottom-Left_2', 'Bottom-Left_3', 'Bottom-Middle_1', 'Bottom-Middle_2',\n",
    "       'Bottom-Middle_3', 'Bottom-Right_1', 'Bottom-Right_2', 'Bottom-Right_3']].values\n",
    "y = tic_tac_toe1[[\"Class_1\"]].values.ravel()\n",
    "\n",
    "rfc = RandomForestClassifier(max_depth=2, random_state=0)"
   ]
  },
  {
   "cell_type": "code",
   "execution_count": 15,
   "id": "7c8d0999-d090-44cc-96d5-a2ec52e7edae",
   "metadata": {},
   "outputs": [
    {
     "name": "stdout",
     "output_type": "stream",
     "text": [
      "The accuracy for each run was: [0.83151136 0.77059436 0.69700139 0.89697627 0.77241135 0.87652498\n",
      " 0.77215572 0.8659754  0.69700139 0.93668647].\n",
      "The best accuracy for a single model was: 0.9366864718359891\n"
     ]
    }
   ],
   "source": [
    "from sklearn.metrics import precision_score, make_scorer\n",
    "\n",
    "# Create a precision scorer\n",
    "precision = make_scorer(precision_score)\n",
    "# Finalize the random search\n",
    "rs = RandomizedSearchCV(\n",
    "  estimator=rfc, param_distributions=param_dist,\n",
    "  scoring = precision,\n",
    "  cv=5, n_iter=10, random_state=1111)\n",
    "rs.fit(X, y)\n",
    "\n",
    "# print the mean test scores:\n",
    "print('The accuracy for each run was: {}.'.format(rs.cv_results_['mean_test_score']))\n",
    "# print the best model score:\n",
    "print('The best accuracy for a single model was: {}'.format(rs.best_score_))"
   ]
  },
  {
   "cell_type": "code",
   "execution_count": null,
   "id": "de7638f7-103e-47c8-a01d-4592a3793eb7",
   "metadata": {},
   "outputs": [],
   "source": []
  }
 ],
 "metadata": {
  "kernelspec": {
   "display_name": "Python 3 (ipykernel)",
   "language": "python",
   "name": "python3"
  },
  "language_info": {
   "codemirror_mode": {
    "name": "ipython",
    "version": 3
   },
   "file_extension": ".py",
   "mimetype": "text/x-python",
   "name": "python",
   "nbconvert_exporter": "python",
   "pygments_lexer": "ipython3",
   "version": "3.11.6"
  }
 },
 "nbformat": 4,
 "nbformat_minor": 5
}
