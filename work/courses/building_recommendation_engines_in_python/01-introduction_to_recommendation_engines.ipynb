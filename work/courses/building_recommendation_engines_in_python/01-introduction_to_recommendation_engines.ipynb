{
 "cells": [
  {
   "cell_type": "markdown",
   "id": "fed0349a-f1da-419b-a1bb-1bd37a2c836d",
   "metadata": {},
   "source": [
    "## Implicit vs. explicit data\n",
    "\n",
    "As mentioned in the video exercise, feedback used in recommendation engines can be explicit or implicit.\n",
    "\n",
    "The dataset listening_history_df has been loaded for you. This dataset contains columns identifying the users, the songs they listen to, along with:\n",
    "\n",
    "    - Skipped Track: A Boolean column recording whether the user skipped the song or listened to it to the end.\n",
    "    - Rating: The score out of 10 the user gave the song.\n",
    "\n",
    "In this exercise, you will explore the data and from this exploration identify which columns best reflect explicit feedback versus implicit feedback.\n",
    "\n",
    "### Instructions 1/2\n",
    "    - Inspect the first 5 rows of listening_history_df.\n",
    "    - Print the number of unique values in the Rating and Skipped Track columns.\n",
    "    - Display a histogram of the values in the Rating column\n"
   ]
  },
  {
   "cell_type": "code",
   "execution_count": null,
   "id": "65010d9c-e082-4e79-84fb-9e9bc43525d2",
   "metadata": {},
   "outputs": [],
   "source": [
    "# Inspect the listening_history_df DataFrame\n",
    "print(listening_history_df.head())\n",
    "\n",
    "# Calculate the number of unique values\n",
    "print(listening_history_df[['Rating', 'Skipped Track']].nunique())\n",
    "\n",
    "# Display a histogram of the values in the Rating column\n",
    "listening_history_df['Rating'].hist()\n",
    "plt.show()"
   ]
  },
  {
   "cell_type": "markdown",
   "id": "33b421d7-05fb-4627-8cd8-a10d00ca8256",
   "metadata": {},
   "source": []
  },
  {
   "cell_type": "code",
   "execution_count": null,
   "id": "dc4b3451-32d6-491b-b7fa-79bc6e6bd879",
   "metadata": {},
   "outputs": [],
   "source": []
  }
 ],
 "metadata": {
  "kernelspec": {
   "display_name": "Python 3 (ipykernel)",
   "language": "python",
   "name": "python3"
  },
  "language_info": {
   "codemirror_mode": {
    "name": "ipython",
    "version": 3
   },
   "file_extension": ".py",
   "mimetype": "text/x-python",
   "name": "python",
   "nbconvert_exporter": "python",
   "pygments_lexer": "ipython3",
   "version": "3.11.6"
  }
 },
 "nbformat": 4,
 "nbformat_minor": 5
}
