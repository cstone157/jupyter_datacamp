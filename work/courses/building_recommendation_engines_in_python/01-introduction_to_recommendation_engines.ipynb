{
 "cells": [
  {
   "cell_type": "markdown",
   "id": "fed0349a-f1da-419b-a1bb-1bd37a2c836d",
   "metadata": {},
   "source": [
    "## Implicit vs. explicit data\n",
    "\n",
    "As mentioned in the video exercise, feedback used in recommendation engines can be explicit or implicit.\n",
    "\n",
    "The dataset listening_history_df has been loaded for you. This dataset contains columns identifying the users, the songs they listen to, along with:\n",
    "\n",
    "    - Skipped Track: A Boolean column recording whether the user skipped the song or listened to it to the end.\n",
    "    - Rating: The score out of 10 the user gave the song.\n",
    "\n",
    "In this exercise, you will explore the data and from this exploration identify which columns best reflect explicit feedback versus implicit feedback.\n",
    "\n",
    "### Instructions 1/2\n",
    "    - Inspect the first 5 rows of listening_history_df.\n",
    "    - Print the number of unique values in the Rating and Skipped Track columns.\n",
    "    - Display a histogram of the values in the Rating column\n"
   ]
  },
  {
   "cell_type": "code",
   "execution_count": null,
   "id": "65010d9c-e082-4e79-84fb-9e9bc43525d2",
   "metadata": {},
   "outputs": [],
   "source": [
    "# Inspect the listening_history_df DataFrame\n",
    "print(listening_history_df.head())\n",
    "\n",
    "# Calculate the number of unique values\n",
    "print(listening_history_df[['Rating', 'Skipped Track']].nunique())\n",
    "\n",
    "# Display a histogram of the values in the Rating column\n",
    "listening_history_df['Rating'].hist()\n",
    "plt.show()"
   ]
  },
  {
   "cell_type": "markdown",
   "id": "33b421d7-05fb-4627-8cd8-a10d00ca8256",
   "metadata": {},
   "source": [
    "## Introduction to non-personalized recommendations\n",
    "\n",
    "One of the most basic ways to make recommendations is to go with the knowledge of the crowd and recommend what is already the most popular. In this exercise, you will calculate how often each movie in the dataset has been watched and find the most frequently watched movies.\n",
    "\n",
    "The DataFrame user_ratings_df, which is a subset of the Movie Lens dataset, has been loaded for you. This table contains identifiers for each movie and the user who watched it, along with the rating they gave it.\n",
    "\n",
    "### Instructions 1/2\n",
    "    - Calculate the number of times each movie occurs in the dataset.\n",
    "    - Print the titles of the top five most frequently seen movies."
   ]
  },
  {
   "cell_type": "code",
   "execution_count": null,
   "id": "dc4b3451-32d6-491b-b7fa-79bc6e6bd879",
   "metadata": {},
   "outputs": [],
   "source": [
    "# Get the counts of occurrences of each movie title\n",
    "movie_popularity = user_ratings_df[\"title\"].value_counts()\n",
    "\n",
    "# Inspect the most common values\n",
    "print(movie_popularity.head().index)"
   ]
  },
  {
   "cell_type": "markdown",
   "id": "9b2f4669-7989-407b-9df0-ae2c6c94f041",
   "metadata": {},
   "source": [
    "## Improved non-personalized recommendations\n",
    "\n",
    "Just because a movie has been watched by a lot of people doesn't necessarily mean viewers enjoyed it. To understand how a viewer actually felt about a movie, more explicit data is useful. Thankfully, you also have ratings from each of the viewers in the Movie Lens dataset.\n",
    "\n",
    "In this exercise, you will find the average rating of each movie in the dataset, and then find the movie with the highest average rating.\n",
    "\n",
    "You will use the same user_ratings_df as you used in the previous exercise, which has been loaded for you.\n",
    "\n",
    "### Instructions\n",
    "    - Find the average rating for each of the movies and store it as a DataFrame called average_rating_df.\n",
    "    - Sort the average_rating_df DataFrame by the average rating column from highest to lowest and store it as sorted_average_ratings.\n",
    "    - Print the entries for the top five highest ranked movies in sorted_average_ratings."
   ]
  },
  {
   "cell_type": "code",
   "execution_count": null,
   "id": "6aaf224d-74d0-4e59-aa8c-0b1e4f74d834",
   "metadata": {},
   "outputs": [],
   "source": [
    "# Find the mean of the ratings given to each title\n",
    "average_rating_df = user_ratings_df[[\"title\", \"rating\"]].groupby('title').mean()\n",
    "\n",
    "# Order the entries by highest average rating to lowest\n",
    "sorted_average_ratings = average_rating_df.sort_values(by=\"rating\", ascending=False)\n",
    "\n",
    "# Inspect the top movies\n",
    "print(sorted_average_ratings.head())"
   ]
  },
  {
   "cell_type": "markdown",
   "id": "5dd0d4cf-d7f0-4f9e-9c2c-ebdd81c09989",
   "metadata": {},
   "source": [
    "## Combining popularity and reviews\n",
    "\n",
    "In the past two exercises, you have used the two most common non-personalized recommendation methods to find movies to suggest. As you may have noticed, they both have their weaknesses.\n",
    "\n",
    "Finding the most frequently watched movies will show you what has been watched, but not how people explicitly feel about it. However, finding the average of reviews has the opposite problem where we have customers' explicit feedback, but individual preferences are skewing the data.\n",
    "\n",
    "In this exercise, you will combine the two previous methods to find the average rating only for movies that have been reviewed more than 50 times.\n",
    "\n",
    "### Instructions 1/3\n",
    "    - Generate a list of the names of the movies appearing more than 50 times in user_ratings_df and store it as popular_movies."
   ]
  },
  {
   "cell_type": "code",
   "execution_count": null,
   "id": "d09868f6-e431-4cf7-a337-741ca4a7a734",
   "metadata": {},
   "outputs": [],
   "source": [
    "# Create a list of only the frequently watched movies\n",
    "movie_popularity = user_ratings_df[\"title\"].value_counts()\n",
    "popular_movies = movie_popularity[movie_popularity > 50].index\n",
    "\n",
    "print(popular_movies)"
   ]
  },
  {
   "cell_type": "markdown",
   "id": "a2c3c19a-6aa7-42b2-a9f8-70722a4be093",
   "metadata": {},
   "source": [
    "### Instructions 2/3\n",
    "    - Filter the original user_ratings_df DataFrame by the popular_movies list to create a popular_movies_rankings DataFrame and print the results."
   ]
  },
  {
   "cell_type": "code",
   "execution_count": null,
   "id": "ed5427c6-e56a-425d-93e1-0d8137535314",
   "metadata": {},
   "outputs": [],
   "source": [
    "# Create a list of only movies appearing > 50 times in the dataset\n",
    "movie_popularity = user_ratings_df[\"title\"].value_counts()\n",
    "popular_movies = movie_popularity[movie_popularity > 50].index\n",
    "\n",
    "# Use this popular_movies list to filter the original DataFrame\n",
    "popular_movies_rankings = user_ratings_df[user_ratings_df[\"title\"].isin(popular_movies)]\n",
    "\n",
    "# Inspect the movies watched over 50 times\n",
    "print(popular_movies_rankings)"
   ]
  },
  {
   "cell_type": "markdown",
   "id": "49c281fc-fe4d-4e06-9c62-f4a7f2aa2df2",
   "metadata": {},
   "source": [
    "### Instructions 3/3\n",
    "    - Find the average rating given to the frequently watched films in popular_movies_rankings and store it as popular_movies_average_rankings.\n",
    "    - Print the entries in popular_movies_average_rankings that contain the highest-ranked movies."
   ]
  },
  {
   "cell_type": "code",
   "execution_count": null,
   "id": "5ff1d1b4-90bd-470d-96a0-065c7f5dbb98",
   "metadata": {},
   "outputs": [],
   "source": [
    "# Create a list of only movies appearing > 50 times in the dataset\n",
    "movie_popularity = user_ratings_df[\"title\"].value_counts()\n",
    "popular_movies = movie_popularity[movie_popularity > 50].index\n",
    "\n",
    "# Use this popular_movies list to filter the original DataFrame\n",
    "popular_movies_rankings =  user_ratings_df[user_ratings_df[\"title\"].isin(popular_movies)]\n",
    "\n",
    "# Find the average rating given to these frequently watched films\n",
    "popular_movies_average_rankings = popular_movies_rankings[[\"title\", \"rating\"]].groupby('title').mean()\n",
    "print(popular_movies_average_rankings.sort_values(by=\"rating\", ascending=False).head())"
   ]
  },
  {
   "cell_type": "code",
   "execution_count": null,
   "id": "04b7f479-69c7-41cf-b2a8-74a9d434196c",
   "metadata": {},
   "outputs": [],
   "source": []
  },
  {
   "cell_type": "code",
   "execution_count": null,
   "id": "f8cf0a37-d205-4a7c-8d08-5d87fa7a4d73",
   "metadata": {},
   "outputs": [],
   "source": []
  }
 ],
 "metadata": {
  "kernelspec": {
   "display_name": "Python 3 (ipykernel)",
   "language": "python",
   "name": "python3"
  },
  "language_info": {
   "codemirror_mode": {
    "name": "ipython",
    "version": 3
   },
   "file_extension": ".py",
   "mimetype": "text/x-python",
   "name": "python",
   "nbconvert_exporter": "python",
   "pygments_lexer": "ipython3",
   "version": "3.11.6"
  }
 },
 "nbformat": 4,
 "nbformat_minor": 5
}
