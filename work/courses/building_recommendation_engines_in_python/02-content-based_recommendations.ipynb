{
 "cells": [
  {
   "cell_type": "markdown",
   "id": "6f73c711-f308-43ed-b239-c38d5e39fa01",
   "metadata": {},
   "source": [
    "## Creating content-based data\n",
    "\n",
    "As much as you might want to jump right to finding similar items and making recommendations, you first need to get your data in a usable format. In the next few exercises, you will explore your base data and work through how to format that data to be used for content-based recommendations.\n",
    "\n",
    "As a reminder, the desired outcome is a row per movie with each column indicating whether a genre applies to the movie. You will be looking at movie_genre_df, which contains these columns:\n",
    "\n",
    "    - name - Name of movie\n",
    "    - genre_list - Genre that the movie has been labeled as\n",
    "\n",
    "A movie may have multiple genres, and therefore multiple rows. In this exercise, you will particularly focus on one movie (Toy Story in this case) to be able to clearly see what is happening with the data.\n",
    "\n",
    "### Instructions 2/3\n",
    "    - Get the rows in movie_genre_df which have a name equal to Toy Story and save this as toy_story_genres."
   ]
  },
  {
   "cell_type": "code",
   "execution_count": null,
   "id": "88529f57-b195-4515-ad8f-00ac58a72933",
   "metadata": {},
   "outputs": [],
   "source": [
    "# Select only the rows with values in the name column equal to Toy Story\n",
    "toy_story_genres = movie_genre_df[movie_genre_df['name'] == 'Toy Story']\n",
    "\n",
    "# Inspect the subset\n",
    "print(toy_story_genres)"
   ]
  },
  {
   "cell_type": "markdown",
   "id": "68f221ed-af62-4891-9173-06dc201ec55c",
   "metadata": {},
   "source": [
    "### Instructions 3/3\n",
    "    - Transform movie_genre_df to a table called movie_cross_table.\n",
    "    - Assign the subset of movie_cross_table that contains Toy Story to the variable toy_story_genres_ct and inspect the results."
   ]
  },
  {
   "cell_type": "code",
   "execution_count": null,
   "id": "d3d5748e-c31c-4170-b971-1a866b35bbe8",
   "metadata": {},
   "outputs": [],
   "source": [
    "# Select only the rows with values in the name column equal to Toy Story\n",
    "toy_story_genres = movie_genre_df[movie_genre_df['name'] == 'Toy Story']\n",
    "\n",
    "# Create cross-tabulated DataFrame from name and genre_list columns\n",
    "movie_cross_table = pd.crosstab(movie_genre_df['name'], movie_genre_df['genre_list'])\n",
    "\n",
    "# Select only the rows with Toy Story as the index\n",
    "toy_story_genres_ct = movie_cross_table[movie_cross_table.index == 'Toy Story']\n",
    "print(toy_story_genres_ct)"
   ]
  }
 ],
 "metadata": {
  "kernelspec": {
   "display_name": "Python 3 (ipykernel)",
   "language": "python",
   "name": "python3"
  },
  "language_info": {
   "codemirror_mode": {
    "name": "ipython",
    "version": 3
   },
   "file_extension": ".py",
   "mimetype": "text/x-python",
   "name": "python",
   "nbconvert_exporter": "python",
   "pygments_lexer": "ipython3",
   "version": "3.11.6"
  }
 },
 "nbformat": 4,
 "nbformat_minor": 5
}
