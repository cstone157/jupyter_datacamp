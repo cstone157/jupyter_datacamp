{
 "cells": [
  {
   "cell_type": "code",
   "execution_count": null,
   "id": "13eecd42-ee47-41b8-93eb-e3a6bbd89a1a",
   "metadata": {},
   "outputs": [],
   "source": [
    "import numpy as np\n",
    "import pandas as pd\n",
    "\n",
    "import matplotlib.pyplot as plt\n",
    "\n",
    "from sklearn.model_selection import train_test_split\n",
    "\n",
    "#import feast\n",
    "\n",
    "heart_disease_df = pd.read_csv('./heart_disease_df_1.csv')\n",
    "X_train, X_test = train_test_split(heart_disease_df, test_size=0.2, random_state=42)"
   ]
  },
  {
   "cell_type": "markdown",
   "id": "e70d4905-d1d0-470d-971a-060f075ff7fc",
   "metadata": {},
   "source": [
    "## Visualizing a deployed model's output over time\n",
    "\n",
    "In this exercise, you will utilize data from two separate months - January and February - to monitor changes in your heart disease model's predictions over time. As you know, your model has been trained to perform a binary classification task of heart disease classification, and you have recorded the model's predictions in the logs for these two months.\n",
    "\n",
    "Assume that the logs of the model's predictions over the last two months have been generated through Elastic Beanstalk and have been imported as pandas DataFrame, called logs_january and logs_february, with a target column of the predictions for that month. matplotlib.pyplot has been imported as plt.\n",
    "\n",
    "### Instructions\n",
    "    - Visualize the distribution of your model's predictions in January and February over time by plotting adjacent bar graphs of the model's target predictions."
   ]
  },
  {
   "cell_type": "code",
   "execution_count": null,
   "id": "35a3996f-a710-4934-ac88-f2bc6ae8e06b",
   "metadata": {},
   "outputs": [],
   "source": [
    "fig, ax = plt.subplots(1, 2, figsize=(15, 6))  # 1 row, 2 columns\n",
    "# January Plot\n",
    "logs_january['target'].value_counts().plot(kind='bar', ax=ax[0])\n",
    "ax[0].set_title('Distribution of Predicted Classes - January')\n",
    "ax[0].set_xlabel('Class')\n",
    "ax[0].set_ylabel('Frequency')\n",
    "\n",
    "# February Plot\n",
    "logs_february['target'].value_counts().plot(kind='bar', ax=ax[1])\n",
    "ax[1].set_title('Distribution of Predicted Classes - February')\n",
    "ax[1].set_xlabel('Class')\n",
    "ax[1].set_ylabel('Frequency')\n",
    "\n",
    "plt.tight_layout()\n",
    "plt.show()"
   ]
  },
  {
   "cell_type": "markdown",
   "id": "aebf857c-291c-4669-ab6e-503e942d4290",
   "metadata": {},
   "source": [
    "## Detecting data drift using the Kolmogorov-Smirnov test\n",
    "\n",
    "After successfully deploying your heart disease prediction model, you've been monitoring its performance and input data. You've noticed that the distribution of some key features in the recent data collected in February looks a bit different from the data you trained on in January. Such discrepancies can affect the model's performance, and it's crucial to detect and address them.\n",
    "\n",
    "In this exercise, you will use the Kolmogorov-Smirnov (K-S) test to detect any potential data drift between the January and February datasets. Sample datasets called january_data and february_data are already loaded for you.\n",
    "\n",
    "### Instructions\n",
    "    - Import the ks_2samp function from the scipy.stats module.\n",
    "    - Use the provided sample datasets january_data and february_data to perform the Kolmogorov-Smirnov test; calculate the test statistic and p-value.\n",
    "    - Check if the p-value is less than 0.05, indicating data drift; if data drift is detected, print \"Data drift detected.\", otherwise, print \"No data drift detected.\""
   ]
  },
  {
   "cell_type": "code",
   "execution_count": null,
   "id": "6c72d5b2-9656-43eb-8031-7d868710e569",
   "metadata": {},
   "outputs": [],
   "source": [
    "# Import the ks_2samp function\n",
    "from scipy.stats import ks_2samp\n",
    "\n",
    "# Calculate the test statistic and p value\n",
    "test_statistic, p_value = ks_2samp(january_data, february_data)\n",
    "\n",
    "# Check the p-value and print the detection result\n",
    "if p_value < 0.05:\n",
    "\tprint(\"Data drift detected.\")\n",
    "else:\n",
    "\tprint(\"No data drift detected.\")"
   ]
  }
 ],
 "metadata": {
  "kernelspec": {
   "display_name": "Python 3 (ipykernel)",
   "language": "python",
   "name": "python3"
  },
  "language_info": {
   "codemirror_mode": {
    "name": "ipython",
    "version": 3
   },
   "file_extension": ".py",
   "mimetype": "text/x-python",
   "name": "python",
   "nbconvert_exporter": "python",
   "pygments_lexer": "ipython3",
   "version": "3.11.6"
  }
 },
 "nbformat": 4,
 "nbformat_minor": 5
}
