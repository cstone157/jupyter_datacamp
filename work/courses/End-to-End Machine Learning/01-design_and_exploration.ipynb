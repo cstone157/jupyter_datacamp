{
 "cells": [
  {
   "cell_type": "markdown",
   "id": "b0fc67e4-98c1-4852-a23d-a516472e793a",
   "metadata": {},
   "source": [
    "## Visualizing your data\n",
    "\n",
    "Once you have gained access to our data, you need to explore, analyze, and understand it. In this exercise, you will apply the skills learned in this chapter to perform a simple exploratory data analysis on the heart disease dataset. Your task is to generate visualizations and summaries of the dataset.\n",
    "\n",
    "pandas and matplotlib.pyplot have been imported for you as pd and plt, respectively. The heart disease dataset is stored as a pandas DataFrame called heart_disease_df and will be available in each exercise for the remainder of the course.\n",
    "\n",
    "### Instructions 1/2\n",
    "    - Print out the first five rows of the DataFrame.\n",
    "    - Print out information about the DataFrame columns."
   ]
  },
  {
   "cell_type": "code",
   "execution_count": 2,
   "id": "80a89f0d-c6e2-49cf-a185-90fcb670b175",
   "metadata": {},
   "outputs": [],
   "source": [
    "import numpy as np\n",
    "import pandas as pd\n",
    "\n",
    "import matplotlib.pyplot as plt\n",
    "\n",
    "heart_disease_df = pd.read_csv('./heart_disease_df_1.csv')"
   ]
  },
  {
   "cell_type": "code",
   "execution_count": 3,
   "id": "775d737a-3d2c-4f9a-830e-0cc2c5c09ebd",
   "metadata": {},
   "outputs": [
    {
     "name": "stdout",
     "output_type": "stream",
     "text": [
      "   age  sex   cp  trestbps   chol  fbs  restecg  thalach  exang  oldpeak  \\\n",
      "0   52    1  0.0       125  212.0    0      1.0      168      0      NaN   \n",
      "1   53    1  0.0       140  203.0    1      0.0      155      1      NaN   \n",
      "2   70    1  0.0       145  174.0    0      1.0      125      1      NaN   \n",
      "3   61    1  0.0       148  203.0    0      1.0      161      0      NaN   \n",
      "4   62    0  0.0       138  294.0    1      1.0      106      0      NaN   \n",
      "\n",
      "   slope  ca  thal  target  \n",
      "0      2   2     3       0  \n",
      "1      0   0     3       0  \n",
      "2      0   0     3       0  \n",
      "3      2   1     3       0  \n",
      "4      1   3     2       0  \n",
      "<class 'pandas.core.frame.DataFrame'>\n",
      "RangeIndex: 1076 entries, 0 to 1075\n",
      "Data columns (total 14 columns):\n",
      " #   Column    Non-Null Count  Dtype  \n",
      "---  ------    --------------  -----  \n",
      " 0   age       1076 non-null   int64  \n",
      " 1   sex       1076 non-null   int64  \n",
      " 2   cp        1023 non-null   float64\n",
      " 3   trestbps  1076 non-null   int64  \n",
      " 4   chol      1021 non-null   float64\n",
      " 5   fbs       1076 non-null   int64  \n",
      " 6   restecg   1028 non-null   float64\n",
      " 7   thalach   1076 non-null   int64  \n",
      " 8   exang     1076 non-null   int64  \n",
      " 9   oldpeak   0 non-null      float64\n",
      " 10  slope     1076 non-null   int64  \n",
      " 11  ca        1076 non-null   int64  \n",
      " 12  thal      1076 non-null   int64  \n",
      " 13  target    1076 non-null   int64  \n",
      "dtypes: float64(4), int64(10)\n",
      "memory usage: 117.8 KB\n",
      "None\n"
     ]
    }
   ],
   "source": [
    "# Print the first 5 rows of the DataFrame\n",
    "print(heart_disease_df.head())\n",
    "\n",
    "# Print information about the DataFrame\n",
    "print(heart_disease_df.info())"
   ]
  },
  {
   "cell_type": "markdown",
   "id": "0c9ac4b4-3be0-425e-98d1-64cb8cab57b3",
   "metadata": {},
   "source": [
    "### Instructions 2/2\n",
    "    - Plot a histogram of 'chol'.\n",
    "    - Add a title, x-axis label of 'Cholesterol', and y-axis label of 'Frequency', and display the plot."
   ]
  },
  {
   "cell_type": "code",
   "execution_count": 4,
   "id": "f2fdde4b-bd09-4b7b-99d8-5b3e0855cd87",
   "metadata": {},
   "outputs": [
    {
     "name": "stdout",
     "output_type": "stream",
     "text": [
      "   age  sex   cp  trestbps   chol  fbs  restecg  thalach  exang  oldpeak  \\\n",
      "0   52    1  0.0       125  212.0    0      1.0      168      0      NaN   \n",
      "1   53    1  0.0       140  203.0    1      0.0      155      1      NaN   \n",
      "2   70    1  0.0       145  174.0    0      1.0      125      1      NaN   \n",
      "3   61    1  0.0       148  203.0    0      1.0      161      0      NaN   \n",
      "4   62    0  0.0       138  294.0    1      1.0      106      0      NaN   \n",
      "\n",
      "   slope  ca  thal  target  \n",
      "0      2   2     3       0  \n",
      "1      0   0     3       0  \n",
      "2      0   0     3       0  \n",
      "3      2   1     3       0  \n",
      "4      1   3     2       0  \n",
      "<class 'pandas.core.frame.DataFrame'>\n",
      "RangeIndex: 1076 entries, 0 to 1075\n",
      "Data columns (total 14 columns):\n",
      " #   Column    Non-Null Count  Dtype  \n",
      "---  ------    --------------  -----  \n",
      " 0   age       1076 non-null   int64  \n",
      " 1   sex       1076 non-null   int64  \n",
      " 2   cp        1023 non-null   float64\n",
      " 3   trestbps  1076 non-null   int64  \n",
      " 4   chol      1021 non-null   float64\n",
      " 5   fbs       1076 non-null   int64  \n",
      " 6   restecg   1028 non-null   float64\n",
      " 7   thalach   1076 non-null   int64  \n",
      " 8   exang     1076 non-null   int64  \n",
      " 9   oldpeak   0 non-null      float64\n",
      " 10  slope     1076 non-null   int64  \n",
      " 11  ca        1076 non-null   int64  \n",
      " 12  thal      1076 non-null   int64  \n",
      " 13  target    1076 non-null   int64  \n",
      "dtypes: float64(4), int64(10)\n",
      "memory usage: 117.8 KB\n",
      "None\n"
     ]
    },
    {
     "data": {
      "image/png": "[encoded data removed]",
      "text/plain": [
       "<Figure size 640x480 with 1 Axes>"
      ]
     },
     "metadata": {},
     "output_type": "display_data"
    }
   ],
   "source": [
    "# Print the first 5 rows of the DataFrame\n",
    "print(heart_disease_df.head())\n",
    "\n",
    "# Print information about the DataFrame\n",
    "print(heart_disease_df.info())\n",
    "\n",
    "# Visualize the cholesterol column\n",
    "heart_disease_df['chol'].plot(kind='hist')\n",
    "\n",
    "# Set the title and axis labels\n",
    "plt.title('Cholesterol distribution')\n",
    "plt.xlabel('Cholesterol')\n",
    "plt.ylabel('Frequency')\n",
    "plt.show()"
   ]
  },
  {
   "cell_type": "markdown",
   "id": "fc4ce841-21ea-4c45-b878-06d3aa9005c4",
   "metadata": {},
   "source": [
    "## Finding class imbalance\n",
    "\n",
    "You are focusing on the important preliminary phase of the machine learning lifecycle: Exploratory Data Analysis (EDA).\n",
    "\n",
    "EDA allows you to better understand the nature of the heart_disease_df dataset, including the relationships between different variables, and potential problems that might need to be addressed before you move on to training your model. Understanding the distribution of classes in your features - for example, patient sex - is a key part of EDA.\n",
    "\n",
    "Class imbalance, where one class has significantly more samples than another, can potentially bias your model's training process, leading it to favor the majority class.\n",
    "\n",
    "### Instructions\n",
    "    - Print out the class balance of the sex column."
   ]
  },
  {
   "cell_type": "code",
   "execution_count": 5,
   "id": "5047b872-db16-4d7f-8a34-8de000d52ae4",
   "metadata": {},
   "outputs": [
    {
     "name": "stdout",
     "output_type": "stream",
     "text": [
      "sex\n",
      "1    743\n",
      "0    333\n",
      "Name: count, dtype: int64\n"
     ]
    }
   ],
   "source": [
    "# Print the sex value counts of the heart disease dataset\n",
    "print(heart_disease_df['sex'].value_counts())"
   ]
  },
  {
   "cell_type": "markdown",
   "id": "5b7b170f-186d-4518-b956-01672c911a68",
   "metadata": {},
   "source": [
    "## Cleaning your dataset\n",
    "\n",
    "Real-world datasets like the heart disease dataset are often messy, containing duplicated or missing values. In this exercise, you will apply the skills learned in this chapter to perform data cleaning on the heart disease dataset. The dataset has already been loaded for you. Your task is to identify and carry out general cleaning operations based on the EDA results: remove empty columns, drop duplicate rows, and perform imputation on the restecg column, which pertains to an electrocardiogram measure. Pandas has been imported for you as pd, and the heart disease dataset is stored as a pandas DataFrame called heart_disease_df.\n",
    "\n",
    "### Instructions 1/4\n",
    "    - Remove the empty \"oldpeak\" column."
   ]
  },
  {
   "cell_type": "code",
   "execution_count": 6,
   "id": "c7978480-64ac-48a0-914b-0dba7b2dc660",
   "metadata": {},
   "outputs": [],
   "source": [
    "# Drop empty columns\n",
    "heart_disease_column_dropped = heart_disease_df.drop([\"oldpeak\"], axis=1)"
   ]
  },
  {
   "cell_type": "markdown",
   "id": "d3d64883-a27c-42d3-8dff-4ad561dd2d31",
   "metadata": {},
   "source": [
    "### Instructions 2/4\n",
    "    - Remove all duplicate rows from the dataset."
   ]
  },
  {
   "cell_type": "code",
   "execution_count": 7,
   "id": "b3bd32c9-0a3c-4cd0-b1a9-50a3718c3098",
   "metadata": {},
   "outputs": [],
   "source": [
    "# Drop empty columns\n",
    "heart_disease_column_dropped = heart_disease_df.drop(['oldpeak'], axis=1)\n",
    "\n",
    "# Drop duplicate rows\n",
    "heart_disease_duplicates_dropped = heart_disease_column_dropped.drop_duplicates()"
   ]
  },
  {
   "cell_type": "markdown",
   "id": "85a56320-5ebf-442b-aa02-2707d9894c67",
   "metadata": {},
   "source": [
    "### Instructions 3/4\n",
    "    - Calculate and store the mean value of the \"restecg\" column as \"mean_value\"."
   ]
  },
  {
   "cell_type": "code",
   "execution_count": 8,
   "id": "e1b8f1f7-fcef-4765-9863-735096b8a5d7",
   "metadata": {},
   "outputs": [],
   "source": [
    "# Drop empty columns\n",
    "heart_disease_column_dropped = heart_disease_df.drop(['oldpeak'], axis=1)\n",
    "\n",
    "# Drop duplicate rows\n",
    "heart_disease_duplicates_dropped = heart_disease_column_dropped.drop_duplicates()\n",
    "\n",
    "# Calculate the mean value of the restecg column\n",
    "mean_value = heart_disease_duplicates_dropped['restecg'].mean()"
   ]
  },
  {
   "cell_type": "markdown",
   "id": "e118a335-5d47-4c98-844d-af8786dce5cf",
   "metadata": {},
   "source": [
    "### Instructions 4/4\n",
    "    - Impute missing values using the mean value of the restecg column."
   ]
  },
  {
   "cell_type": "code",
   "execution_count": 9,
   "id": "c3286885-e598-467c-925e-43327350da5f",
   "metadata": {},
   "outputs": [
    {
     "name": "stdout",
     "output_type": "stream",
     "text": [
      "False\n"
     ]
    },
    {
     "name": "stderr",
     "output_type": "stream",
     "text": [
      "/tmp/ipykernel_1105745/1822984681.py:11: SettingWithCopyWarning: \n",
      "A value is trying to be set on a copy of a slice from a DataFrame\n",
      "\n",
      "See the caveats in the documentation: https://pandas.pydata.org/pandas-docs/stable/user_guide/indexing.html#returning-a-view-versus-a-copy\n",
      "  heart_disease_duplicates_dropped['restecg'].fillna(mean_value, inplace=True)\n"
     ]
    }
   ],
   "source": [
    "# Drop empty columns\n",
    "heart_disease_column_dropped = heart_disease_df.drop(['oldpeak'], axis=1)\n",
    "\n",
    "# Drop duplicate rows\n",
    "heart_disease_duplicates_dropped = heart_disease_column_dropped.drop_duplicates()\n",
    "\n",
    "# Calculate the mean value of the restecg column\n",
    "mean_value = heart_disease_duplicates_dropped['restecg'].mean()\n",
    "\n",
    "# Impute missing values with the mean\n",
    "heart_disease_duplicates_dropped['restecg'].fillna(mean_value, inplace=True)\n",
    "print(heart_disease_duplicates_dropped['restecg'].isna().any())"
   ]
  },
  {
   "cell_type": "code",
   "execution_count": null,
   "id": "f31bd240-f3db-4ff9-ae70-4a327f117739",
   "metadata": {},
   "outputs": [],
   "source": []
  }
 ],
 "metadata": {
  "kernelspec": {
   "display_name": "Python 3 (ipykernel)",
   "language": "python",
   "name": "python3"
  },
  "language_info": {
   "codemirror_mode": {
    "name": "ipython",
    "version": 3
   },
   "file_extension": ".py",
   "mimetype": "text/x-python",
   "name": "python",
   "nbconvert_exporter": "python",
   "pygments_lexer": "ipython3",
   "version": "3.11.6"
  }
 },
 "nbformat": 4,
 "nbformat_minor": 5
}
