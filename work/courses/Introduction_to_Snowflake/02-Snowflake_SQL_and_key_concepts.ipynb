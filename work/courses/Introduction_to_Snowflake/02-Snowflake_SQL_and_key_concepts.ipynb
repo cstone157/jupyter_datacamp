{
 "cells": [
  {
   "cell_type": "markdown",
   "id": "bddd4396-24ee-4633-b935-6470b8a94902",
   "metadata": {},
   "source": [
    "### Loading data\n",
    "\n",
    "You learned about how Snowflake loads data from a file in a staging area into a table. You are now working to load a file from your local staging area to a table.\n",
    "\n",
    "Can you recall which of the following command will load data from your staging area my_local_stage to table pizza_type."
   ]
  },
  {
   "cell_type": "code",
   "execution_count": null,
   "id": "6b95d324-ebd9-469e-a7ae-1972823d6cb1",
   "metadata": {},
   "outputs": [],
   "source": [
    "COPY INTO pizza_type FROM @my_local_stage"
   ]
  },
  {
   "cell_type": "code",
   "execution_count": null,
   "id": "54f0a4da-e2f1-416c-8a88-83a594bcceeb",
   "metadata": {},
   "outputs": [],
   "source": []
  }
 ],
 "metadata": {
  "kernelspec": {
   "display_name": "Python 3 (ipykernel)",
   "language": "python",
   "name": "python3"
  },
  "language_info": {
   "codemirror_mode": {
    "name": "ipython",
    "version": 3
   },
   "file_extension": ".py",
   "mimetype": "text/x-python",
   "name": "python",
   "nbconvert_exporter": "python",
   "pygments_lexer": "ipython3",
   "version": "3.11.6"
  }
 },
 "nbformat": 4,
 "nbformat_minor": 5
}
