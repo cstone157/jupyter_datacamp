{
 "cells": [
  {
   "cell_type": "markdown",
   "id": "f5948d3a-f684-4264-9b35-8faf3900dc8c",
   "metadata": {},
   "source": [
    "### Introduction to Snowflake SQL\n",
    "\n",
    "Are you ready to refresh your SQL skills? Wondering why in Snowflake? Rest assured, Snowflake SQL is quite similar to PostgreSQL. Even though Snowflake automatically capitalizes column names by default, fundamental commands like SELECT will operate in much the same way as they do in PostgreSQL. So, you're in familiar territory!\n",
    "\n",
    "You are working as a data engineer at Pissa, an expanding pizza delivery company. As part of the transition from PostgreSQL to Snowflake, you're now examining the different columns in the pizzas table.\n",
    "\n",
    "### Instructions\n",
    "    - Select pizza_type_id, pizza_size and price from the pizzas table"
   ]
  },
  {
   "cell_type": "code",
   "execution_count": null,
   "id": "610bb213-95eb-49fe-9af6-ed2b687a5862",
   "metadata": {},
   "outputs": [],
   "source": [
    "-- Select pizza_type_id, pizza_size and price from pizzas table\n",
    "select pizza_type_id, pizza_size, price from pizzas"
   ]
  },
  {
   "cell_type": "markdown",
   "id": "0882a42b-9ae7-47a7-afdf-7c7bf8cc8e61",
   "metadata": {},
   "source": [
    "### Snowflake SQL: Using SELECT and WHERE in Snowflake\n",
    "\n",
    "You are still consulting as a data engineer at Pissa, a growing pizza delivery company transitioning its legacy on-premise Postgres data warehouse to Snowflake to be more efficiently able to handle the volatile demand of its business.\n",
    "\n",
    "The goal is to ensure the integrity and correctness of the data after migration. You're specifically working with the pizza_type table, which is critical as it contains all the different types of pizzas.\n",
    "\n",
    "Let's leverage your SQL skills to see if it works in Snowflake as well.\n",
    "\n",
    "#### Instructions 1/3\n",
    "    - Count the total number of pizza entries in the pizza_type."
   ]
  },
  {
   "cell_type": "code",
   "execution_count": null,
   "id": "e1d2ab49-25ff-4b71-a94f-1e923117a77d",
   "metadata": {},
   "outputs": [],
   "source": [
    "-- Count all pizza entries\n",
    "SELECT count(*) AS count_all_pizzas\n",
    "FROM pizza_type"
   ]
  },
  {
   "cell_type": "markdown",
   "id": "c2c20d7c-92fa-4898-89a2-c0122a922af3",
   "metadata": {},
   "source": [
    "#### Instructions 2/3\n",
    "    - Filter the query to count only the pizzas that are categorized as Classic"
   ]
  },
  {
   "cell_type": "code",
   "execution_count": null,
   "id": "0cec6271-ca9e-4a56-84f7-cb292db597d0",
   "metadata": {},
   "outputs": [],
   "source": [
    "-- Count all pizza entries\n",
    "SELECT COUNT(*) AS count_all_pizzas\n",
    "FROM pizza_type\n",
    "-- Apply filter on category for Classic pizza types\n",
    "where category = 'Classic'"
   ]
  },
  {
   "cell_type": "markdown",
   "id": "0db8cce0-e140-4438-9ee5-339ae57a4f00",
   "metadata": {},
   "source": [
    "#### Instructions 3/3\n",
    "    - Further refine the count to include only those pizzas where the name contains the word Cheese."
   ]
  },
  {
   "cell_type": "code",
   "execution_count": null,
   "id": "9380cd90-614f-4d68-a16f-43e0ac3631e7",
   "metadata": {},
   "outputs": [],
   "source": [
    "-- Count all pizza entries\n",
    "SELECT COUNT(*) AS count_all_pizzas\n",
    "FROM pizza_type\n",
    "-- Apply filter on category for Classic pizza types\n",
    "WHERE category = 'Classic'\n",
    "-- Additional condition to filter where name has Cheese in it\n",
    "and name like '%Cheese%'"
   ]
  },
  {
   "cell_type": "code",
   "execution_count": null,
   "id": "1f9099c0-f11f-42f3-9426-b62856218fae",
   "metadata": {},
   "outputs": [],
   "source": []
  }
 ],
 "metadata": {
  "kernelspec": {
   "display_name": "Python 3 (ipykernel)",
   "language": "python",
   "name": "python3"
  },
  "language_info": {
   "codemirror_mode": {
    "name": "ipython",
    "version": 3
   },
   "file_extension": ".py",
   "mimetype": "text/x-python",
   "name": "python",
   "nbconvert_exporter": "python",
   "pygments_lexer": "ipython3",
   "version": "3.11.6"
  }
 },
 "nbformat": 4,
 "nbformat_minor": 5
}
