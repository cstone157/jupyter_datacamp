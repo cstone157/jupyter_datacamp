{
 "cells": [
  {
   "cell_type": "markdown",
   "id": "f5948d3a-f684-4264-9b35-8faf3900dc8c",
   "metadata": {},
   "source": [
    "### Introduction to Snowflake SQL\n",
    "\n",
    "Are you ready to refresh your SQL skills? Wondering why in Snowflake? Rest assured, Snowflake SQL is quite similar to PostgreSQL. Even though Snowflake automatically capitalizes column names by default, fundamental commands like SELECT will operate in much the same way as they do in PostgreSQL. So, you're in familiar territory!\n",
    "\n",
    "You are working as a data engineer at Pissa, an expanding pizza delivery company. As part of the transition from PostgreSQL to Snowflake, you're now examining the different columns in the pizzas table.\n",
    "\n",
    "### Instructions\n",
    "    - Select pizza_type_id, pizza_size and price from the pizzas table"
   ]
  },
  {
   "cell_type": "code",
   "execution_count": null,
   "id": "610bb213-95eb-49fe-9af6-ed2b687a5862",
   "metadata": {},
   "outputs": [],
   "source": [
    "-- Select pizza_type_id, pizza_size and price from pizzas table\n",
    "select pizza_type_id, pizza_size, price from pizzas"
   ]
  }
 ],
 "metadata": {
  "kernelspec": {
   "display_name": "Python 3 (ipykernel)",
   "language": "python",
   "name": "python3"
  },
  "language_info": {
   "codemirror_mode": {
    "name": "ipython",
    "version": 3
   },
   "file_extension": ".py",
   "mimetype": "text/x-python",
   "name": "python",
   "nbconvert_exporter": "python",
   "pygments_lexer": "ipython3",
   "version": "3.11.6"
  }
 },
 "nbformat": 4,
 "nbformat_minor": 5
}
