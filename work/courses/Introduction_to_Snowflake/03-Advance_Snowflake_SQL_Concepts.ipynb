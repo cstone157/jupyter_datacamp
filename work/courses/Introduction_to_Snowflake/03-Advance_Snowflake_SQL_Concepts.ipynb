{
 "cells": [
  {
   "cell_type": "markdown",
   "id": "43abdf02-40b1-4e1d-8dea-f1ed04c4be20",
   "metadata": {},
   "source": [
    "### NATURAL JOIN\n",
    "\n",
    "Pissa, the ever-expanding pizza delivery enterprise, has a new challenge for you. They're interested in discovering which type of pizza generates the most revenue.\n",
    "\n",
    "Identify the top-selling pizza category using your knowledge on NATURAL JOIN.\n",
    "\n",
    "Here is the pizza schema for your reference:\n",
    "\n",
    "Schema Diagram [skipped]\n",
    "\n",
    "### Instructions\n",
    "    - Calculate total_revenue based on SUM of price * quantity; taking price from p (pizzas) and quantity from od (order_details) table.\n",
    "    - NATURAL JOIN the pizzas and pizza_type tables.\n",
    "    - GROUP the records by category from pt (pizza_type) table.\n",
    "    - ORDER the details by total_revenue in descending order and LIMIT to 1 to fetch only the top revenue pizza."
   ]
  },
  {
   "cell_type": "code",
   "execution_count": null,
   "id": "9ad4057a-a7a8-488a-b686-aad5f1c9e3c0",
   "metadata": {},
   "outputs": [],
   "source": [
    "SELECT \n",
    "    pt.category,\n",
    "\t-- Calculate total_revenue \n",
    "    sum(p.price*od.quantity) as total_revenue\n",
    "FROM order_details AS od\n",
    "-- NATURAL JOIN all tables\n",
    "NATURAL JOIN pizzas AS p \n",
    "NATURAL JOIN pizza_type AS pt\n",
    "-- GROUP the records by category from pizza_type table\n",
    "GROUP BY pt.category\n",
    "-- ORDER by total_revenue and limit the records\n",
    "ORDER BY total_revenue desc\n",
    "LIMIT 1"
   ]
  },
  {
   "cell_type": "markdown",
   "id": "ee15b2dc-0d2e-49e1-979d-3c1b0062b56a",
   "metadata": {},
   "source": [
    "### The world of JOINS\n",
    "\n",
    "As a consulting data engineer, Pissa now wants your advanced Snowflake SQL skills to get some insights in their sales and revenue.\n",
    "\n",
    "Apply your knowledge on Joins to get the desired result.\n",
    "\n",
    "### Instructions 1/3\n",
    "    - Ensure that all orders from the orders table are included in the result, regardless of whether they have corresponding entries in the order_details table."
   ]
  },
  {
   "cell_type": "code",
   "execution_count": null,
   "id": "a91b2a8e-a1f7-4ea1-b437-c3ac7b98eed8",
   "metadata": {},
   "outputs": [],
   "source": [
    "SELECT COUNT(o.order_id) AS total_orders\n",
    "FROM orders AS o\n",
    "-- Use appropriate JOIN\n",
    "LEFT JOIN order_details AS od\n",
    "ON o.order_id = od.order_id"
   ]
  },
  {
   "cell_type": "markdown",
   "id": "5a96ff28-7373-4855-9b26-8932a60acdab",
   "metadata": {},
   "source": [
    "### Instructions 2/3\n",
    "    - Calculate the total revenue using price column from pizzas table and quantity column of order_details table respectively.\n",
    "    - Use appropriate JOIN to include all records from the pizzas table."
   ]
  },
  {
   "cell_type": "code",
   "execution_count": null,
   "id": "5817da62-3447-45d6-b43c-f9f5ed95b1e5",
   "metadata": {},
   "outputs": [],
   "source": [
    "SELECT COUNT(o.order_id) AS total_orders,\n",
    "        AVG(p.price) AS average_price,\n",
    "        -- Calculate total revenue\n",
    "        SUM(p.price * od.quantity) AS total_revenue\t\n",
    "FROM orders AS o\n",
    "-- Use appropriate JOIN\n",
    "LEFT JOIN order_details AS od\n",
    "ON o.order_id = od.order_id\n",
    "-- Use appropriate JOIN with pizzas table\n",
    "RIGHT JOIN pizzas AS p\n",
    "ON od.pizza_id = p.pizza_id\n"
   ]
  },
  {
   "cell_type": "markdown",
   "id": "18ffeef5-ebb7-4624-b6c7-418ed61b1073",
   "metadata": {},
   "source": [
    "### Instructions 3/3\n",
    "    - Select pizza name from pizza_type by performing a NATURAL JOIN with the pizza_type table."
   ]
  },
  {
   "cell_type": "code",
   "execution_count": null,
   "id": "594d4336-14b1-459a-bdcc-204ce38a0ec2",
   "metadata": {},
   "outputs": [],
   "source": [
    "SELECT COUNT(o.order_id) AS total_orders,\n",
    "        AVG(p.price) AS average_price,\n",
    "        -- Calculate total revenue\n",
    "        SUM(p.price * od.quantity) AS total_revenue,\n",
    "        -- Get the name from pizza_type table\n",
    "\t\tpt.name AS pizza_name\n",
    "FROM orders AS o\n",
    "-- Use appropriate JOIN\n",
    "LEFT JOIN order_details AS od\n",
    "ON o.order_id = od.order_id\n",
    "-- Use appropriate JOIN with pizzas table\n",
    "RIGHT JOIN pizzas p\n",
    "ON od.pizza_id = p.pizza_id\n",
    "-- NATURAL JOIN pizza_type table\n",
    "NATURAL JOIN pizza_type pt\n",
    "GROUP BY pt.name, pt.category\n",
    "ORDER BY total_revenue desc, total_orders desc"
   ]
  },
  {
   "cell_type": "markdown",
   "id": "428fa2f5-0f7c-4151-b168-3953e2e6c104",
   "metadata": {},
   "source": [
    "### LATERAL JOIN\n",
    "\n",
    "Pissa, the expanding pizza delivery enterprise, is now taking your expertise on identifying some trends.\n",
    "\n",
    "They want to find out which dates feature maximum sales for each type of pizza. This information will enable them to pinpoint trends and optimize future promotions.\n",
    "\n",
    "### Instructions\n",
    "    - Complete the query to find the max_quantity from the LATERAL query.\n",
    "    - Join the appropriate tables.\n",
    "    - Use LATERAL join to calculate max_quantity and complete the subquery to find max of quantity.\n",
    "    - Filter the subquery on pizza_type_id referencing outer pizza_type table."
   ]
  },
  {
   "cell_type": "code",
   "execution_count": null,
   "id": "dd1bdbdf-f4ed-471c-8467-93170f13ff07",
   "metadata": {},
   "outputs": [],
   "source": [
    "SELECT pt.name, \n",
    "\t   pt.category, \n",
    "       o.order_date,\n",
    "       -- Get max quantity from lateral query\n",
    "       x.max_quantity\n",
    "FROM pizzas AS pz\n",
    "JOIN pizza_type AS pt ON pz.pizza_type_id = pt.pizza_type_id\n",
    "JOIN order_details AS od ON pz.pizza_id = od.pizza_id\n",
    "-- Join with orders table\n",
    "JOIN orders AS o ON od.order_id = o.order_id,    \n",
    "LATERAL (\n",
    "    -- Select max of order_details quantity\n",
    "    SELECT MAX(od2.quantity) AS max_quantity\n",
    "    FROM order_details AS od2\n",
    "    -- Join with pizzas table\n",
    "    JOIN pizzas AS pz2 \n",
    "        ON od2.pizza_id = pz2.pizza_id\n",
    "    -- Filtering condition for the subquery\n",
    "    WHERE pz2.pizza_type_id = pz.pizza_type_id\n",
    ") AS x\n",
    "WHERE od.quantity = x.max_quantity\n",
    "GROUP BY pt.name, pt.category, o.order_date, x.max_quantity\n",
    "ORDER BY pt.name;"
   ]
  },
  {
   "cell_type": "code",
   "execution_count": null,
   "id": "afa013b5-f6de-4657-8ed2-50a89e8c99d3",
   "metadata": {},
   "outputs": [],
   "source": []
  }
 ],
 "metadata": {
  "kernelspec": {
   "display_name": "Python 3 (ipykernel)",
   "language": "python",
   "name": "python3"
  },
  "language_info": {
   "codemirror_mode": {
    "name": "ipython",
    "version": 3
   },
   "file_extension": ".py",
   "mimetype": "text/x-python",
   "name": "python",
   "nbconvert_exporter": "python",
   "pygments_lexer": "ipython3",
   "version": "3.11.6"
  }
 },
 "nbformat": 4,
 "nbformat_minor": 5
}
