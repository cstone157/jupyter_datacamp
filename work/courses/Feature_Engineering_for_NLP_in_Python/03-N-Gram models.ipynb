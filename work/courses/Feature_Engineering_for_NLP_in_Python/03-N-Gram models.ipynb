{
 "cells": [
  {
   "cell_type": "code",
   "execution_count": 2,
   "id": "b80062d3-6355-48ad-a6cd-58ea04eb754f",
   "metadata": {},
   "outputs": [],
   "source": [
    "import numpy as np\n",
    "import pandas as pd\n",
    "\n",
    "import matplotlib.pyplot as plt\n",
    "\n",
    "from textatistic import Textatistic\n",
    "\n",
    "import time\n",
    "\n",
    "ted = pd.read_csv(\"../../data/ted.csv\")\n",
    "tweets = pd.read_csv(\"../../data/russian_tweets.csv\")\n",
    "headlines = pd.read_csv(\"../../data/fakenews.csv\")\n",
    "movie_overviews = pd.read_csv(\"../../data/movie_overviews.csv\")"
   ]
  },
  {
   "cell_type": "markdown",
   "id": "15a5acb2-bbf0-4739-8cef-d29b48bd50c2",
   "metadata": {},
   "source": [
    "## BoW model for movie taglines\n",
    "\n",
    "### In this exercise, you have been provided with a corpus of more than 7000 movie tag lines. Your job is to generate the bag of words representation bow_matrix for these taglines. For this exercise, we will ignore the text preprocessing step and generate bow_matrix directly.\n",
    "\n",
    "### We will also investigate the shape of the resultant bow_matrix. The first five taglines in corpus have been printed to the console for you to examine.\n",
    "\n",
    "### Instructions\n",
    "-    Import the CountVectorizer class from sklearn.\n",
    "-    Instantiate a CountVectorizer object. Name it vectorizer.\n",
    "-    Using fit_transform(), generate bow_matrix for corpus."
   ]
  },
  {
   "cell_type": "code",
   "execution_count": 26,
   "id": "13ba0f56-4d50-4e61-bbf0-881b11344692",
   "metadata": {},
   "outputs": [],
   "source": [
    "corpus = movie_overviews[[\"tagline\"]].dropna()\n",
    "corpus = corpus[\"tagline\"]"
   ]
  },
  {
   "cell_type": "code",
   "execution_count": 27,
   "id": "609706f4-1389-4abb-92a9-62794cab7370",
   "metadata": {},
   "outputs": [
    {
     "name": "stdout",
     "output_type": "stream",
     "text": [
      "(7033, 6614)\n"
     ]
    }
   ],
   "source": [
    "# Import CountVectorizer\n",
    "from sklearn.feature_extraction.text import CountVectorizer\n",
    "\n",
    "# Create CountVectorizer object\n",
    "vectorizer = CountVectorizer()\n",
    "\n",
    "# Generate matrix of word vectors\n",
    "bow_matrix = vectorizer.fit_transform(corpus)\n",
    "\n",
    "# Print the shape of bow_matrix\n",
    "print(bow_matrix.shape)"
   ]
  },
  {
   "cell_type": "markdown",
   "id": "31088b32-a064-445f-865c-608c77b827a0",
   "metadata": {},
   "source": [
    "## Analyzing dimensionality and preprocessing\n",
    "\n",
    "### In this exercise, you have been provided with a lem_corpus which contains the pre-processed versions of the movie taglines from the previous exercise. In other words, the taglines have been lowercased and lemmatized, and stopwords have been removed.\n",
    "\n",
    "### Your job is to generate the bag of words representation bow_lem_matrix for these lemmatized taglines and compare its shape with that of bow_matrix obtained in the previous exercise. The first five lemmatized taglines in lem_corpus have been printed to the console for you to examine.\n",
    "\n",
    "### Instructions\n",
    "-    Import the CountVectorizer class from sklearn.\n",
    "-    Instantiate a CountVectorizer object. Name it vectorizer.\n",
    "-    Using fit_transform(), generate bow_lem_matrix for lem_corpus."
   ]
  },
  {
   "cell_type": "code",
   "execution_count": 30,
   "id": "fb6ce0f7-983d-4995-a721-7466b6a8f17f",
   "metadata": {},
   "outputs": [
    {
     "data": {
      "text/plain": [
       "1             roll the dice and unleash the excitement ! \n",
       "2       still Yelling . still fight . still Ready for ...\n",
       "3       friend be the people who let you be yourself ....\n",
       "4       just when his World be back to Normal ... he b...\n",
       "5                               a Los Angeles Crime Saga \n",
       "                              ...                        \n",
       "9091                      kingsglaive : Final Fantasy xv \n",
       "9093    what happen in Vegas , stay in Vegas . unless ...\n",
       "9095    Decorated Officer . Devoted Family Man . defen...\n",
       "9097                     a god incarnate . a city doom . \n",
       "9098          the band you know . the story you do not . \n",
       "Name: tagline, Length: 7033, dtype: object"
      ]
     },
     "execution_count": 30,
     "metadata": {},
     "output_type": "execute_result"
    }
   ],
   "source": [
    "import spacy\n",
    "nlp = spacy.load(\"en_core_web_sm\")\n",
    "\n",
    "def lemmize(text):\n",
    "    doc = nlp(text)\n",
    "    tmp = \"\"\n",
    "    for token in doc:\n",
    "        tmp += token.lemma_ + \" \"\n",
    "    return tmp\n",
    "\n",
    "lem_corpus = corpus.apply(lemmize)\n",
    "lem_corpus"
   ]
  },
  {
   "cell_type": "code",
   "execution_count": 31,
   "id": "c2573053-5d74-43dd-bb4b-8bc9746ed5dd",
   "metadata": {},
   "outputs": [
    {
     "name": "stdout",
     "output_type": "stream",
     "text": [
      "(7033, 5626)\n"
     ]
    }
   ],
   "source": [
    "# Import CountVectorizer\n",
    "from sklearn.feature_extraction.text import CountVectorizer\n",
    "\n",
    "# Create CountVectorizer object\n",
    "vectorizer = CountVectorizer()\n",
    "\n",
    "# Generate matrix of word vectors\n",
    "bow_lem_matrix = vectorizer.fit_transform(lem_corpus)\n",
    "\n",
    "# Print the shape of bow_lem_matrix\n",
    "print(bow_lem_matrix.shape)"
   ]
  },
  {
   "cell_type": "markdown",
   "id": "f6db54b1-5a8d-4bdc-ad6f-7c92a837cd6d",
   "metadata": {},
   "source": [
    "## Mapping feature indices with feature names\n",
    "\n",
    "### In the lesson video, we had seen that CountVectorizer doesn't necessarily index the vocabulary in alphabetical order. In this exercise, we will learn to map each feature index to its corresponding feature name from the vocabulary.\n",
    "\n",
    "### We will use the same three sentences on lions from the video. The sentences are available in a list named corpus and has already been printed to the console.\n",
    "\n",
    "### Instructions\n",
    "-    Instantiate a CountVectorizer object. Name it vectorizer.\n",
    "-    Using fit_transform(), generate bow_matrix for corpus.\n",
    "-    Using the get_feature_names() method, map the column names to the corresponding word in the vocabulary."
   ]
  },
  {
   "cell_type": "code",
   "execution_count": 32,
   "id": "428e111c-ee9a-452b-89b8-9a2c73de6cb1",
   "metadata": {},
   "outputs": [],
   "source": [
    "corpus = ['The lion is the king of the jungle',\n",
    " 'Lions have lifespans of a decade',\n",
    " 'The lion is an endangered species']"
   ]
  },
  {
   "cell_type": "code",
   "execution_count": 36,
   "id": "cdc5f762-2a83-49c1-a796-fbcdf6a6cb2f",
   "metadata": {},
   "outputs": [
    {
     "name": "stdout",
     "output_type": "stream",
     "text": [
      "   an  decade  endangered  have  is  jungle  king  lifespans  lion  lions  of  \\\n",
      "0   0       0           0     0   1       1     1          0     1      0   1   \n",
      "1   0       1           0     1   0       0     0          1     0      1   1   \n",
      "2   1       0           1     0   1       0     0          0     1      0   0   \n",
      "\n",
      "   species  the  \n",
      "0        0    3  \n",
      "1        0    0  \n",
      "2        1    1  \n"
     ]
    }
   ],
   "source": [
    "# Create CountVectorizer object\n",
    "vectorizer = CountVectorizer()\n",
    "\n",
    "# Generate matrix of word vectors\n",
    "bow_matrix = vectorizer.fit_transform(corpus)\n",
    "\n",
    "# Convert bow_matrix into a DataFrame\n",
    "bow_df = pd.DataFrame(bow_matrix.toarray())\n",
    "\n",
    "# Map the column names to vocabulary \n",
    "#bow_df.columns = vectorizer.get_feature_names() ## For some reason CountVectorizer doesn't have get_feature_names\n",
    "bow_df.columns = vectorizer.get_feature_names_out()\n",
    "\n",
    "# Print bow_df\n",
    "print(bow_df)"
   ]
  },
  {
   "cell_type": "markdown",
   "id": "d0e3cdbc-fdfb-4a52-9c7f-ecc0a028343d",
   "metadata": {},
   "source": [
    "## BoW vectors for movie reviews\n",
    "\n",
    "### In this exercise, you have been given two pandas Series, X_train and X_test, which consist of movie reviews. They represent the training and the test review data respectively. Your task is to preprocess the reviews and generate BoW vectors for these two sets using CountVectorizer.\n",
    "\n",
    "### Once we have generated the BoW vector matrices X_train_bow and X_test_bow, we will be in a very good position to apply a machine learning model to it and conduct sentiment analysis.\n",
    "\n",
    "### Instructions\n",
    "-    Import CountVectorizer from the sklearn library.\n",
    "-    Instantiate a CountVectorizer object named vectorizer. Ensure that all words are converted to lowercase and english stopwords are removed.\n",
    "-    Using X_train, fit vectorizer and then use it to transform X_train to generate the set of BoW vectors X_train_bow.\n",
    "-    Transform X_test using vectorizer to generate the set of BoW vectors X_test_bow."
   ]
  },
  {
   "cell_type": "code",
   "execution_count": 50,
   "id": "8d0fe42b-2330-45c6-8e6e-1282bf78d944",
   "metadata": {},
   "outputs": [],
   "source": [
    "from sklearn.model_selection import train_test_split\n",
    "corpus = movie_overviews[[\"tagline\"]].dropna()\n",
    "corpus = corpus[\"tagline\"]\n",
    "X_train, X_test = train_test_split(corpus, test_size=0.33, random_state=42)"
   ]
  },
  {
   "cell_type": "code",
   "execution_count": 51,
   "id": "e57bdeb0-51dd-441f-92ed-bec5b98f4bea",
   "metadata": {},
   "outputs": [
    {
     "name": "stdout",
     "output_type": "stream",
     "text": [
      "(4712, 5073)\n",
      "(2321, 5073)\n"
     ]
    }
   ],
   "source": [
    "# Import CountVectorizer\n",
    "from sklearn.feature_extraction.text import CountVectorizer\n",
    "\n",
    "# Create a CountVectorizer object\n",
    "vectorizer = CountVectorizer(lowercase=True, stop_words=\"english\")\n",
    "\n",
    "# Fit and transform X_train\n",
    "X_train_bow = vectorizer.fit_transform(X_train)\n",
    "\n",
    "# Transform X_test\n",
    "X_test_bow = vectorizer.transform(X_test)\n",
    "\n",
    "# Print shape of X_train_bow and X_test_bow\n",
    "print(X_train_bow.shape)\n",
    "print(X_test_bow.shape)"
   ]
  },
  {
   "cell_type": "markdown",
   "id": "390aab02-5596-4554-a483-d36995b45580",
   "metadata": {},
   "source": [
    "## Predicting the sentiment of a movie review\n",
    "\n",
    "### In the previous exercise, you generated the bag-of-words representations for the training and test movie review data. In this exercise, we will use this model to train a Naive Bayes classifier that can detect the sentiment of a movie review and compute its accuracy. Note that since this is a binary classification problem, the model is only capable of classifying a review as either positive (1) or negative (0). It is incapable of detecting neutral reviews.\n",
    "\n",
    "### In case you don't recall, the training and test BoW vectors are available as X_train_bow and X_test_bow respectively. The corresponding labels are available as y_train and y_test respectively. Also, for you reference, the original movie review dataset is available as df.\n",
    "\n",
    "### Instructions\n",
    "-    Instantiate an object of MultinomialNB. Name it clf.\n",
    "-    Fit clf using X_train_bow and y_train.\n",
    "-    Measure the accuracy of clf using X_test_bow and y_test."
   ]
  },
  {
   "cell_type": "code",
   "execution_count": 61,
   "id": "edac502c-a05d-4e84-98f4-0c9771e2efb2",
   "metadata": {},
   "outputs": [],
   "source": [
    "from sklearn.naive_bayes import MultinomialNB\n",
    "from sklearn.feature_extraction.text import CountVectorizer\n",
    "\n",
    "movie_reviews = pd.read_csv(\"data/movie_reviews_clean.csv\")\n",
    "\n",
    "X = movie_reviews[\"review\"]\n",
    "y = movie_reviews[\"sentiment\"]\n",
    "X_train, X_test, y_train, y_test = train_test_split(X, y, test_size=0.33, random_state=42)\n",
    "\n",
    "vectorizer = CountVectorizer(lowercase=True, stop_words=\"english\")\n",
    "X_train_bow = vectorizer.fit_transform(X_train)\n",
    "X_test_bow = vectorizer.transform(X_test)"
   ]
  },
  {
   "cell_type": "code",
   "execution_count": 62,
   "id": "00fe866b-79ac-4cff-b241-cae9b7670d41",
   "metadata": {},
   "outputs": [
    {
     "name": "stdout",
     "output_type": "stream",
     "text": [
      "The accuracy of the classifier on the test set is 0.779\n",
      "The sentiment predicted by the classifier is 0\n"
     ]
    }
   ],
   "source": [
    "# Create a MultinomialNB object\n",
    "clf = MultinomialNB()\n",
    "\n",
    "# Fit the classifier\n",
    "clf.fit(X_train_bow, y_train)\n",
    "\n",
    "# Measure the accuracy\n",
    "accuracy = clf.score(X_test_bow, y_test)\n",
    "print(\"The accuracy of the classifier on the test set is %.3f\" % accuracy)\n",
    "\n",
    "# Predict the sentiment of a negative review\n",
    "review = \"The movie was terrible. The music was underwhelming and the acting mediocre.\"\n",
    "prediction = clf.predict(vectorizer.transform([review]))[0]\n",
    "print(\"The sentiment predicted by the classifier is %i\" % (prediction))"
   ]
  },
  {
   "cell_type": "markdown",
   "id": "a7a4689c-9f1e-4c00-9921-c0c9d8bd9c7d",
   "metadata": {},
   "source": [
    "## n-gram models for movie tag lines\n",
    "\n",
    "### In this exercise, we have been provided with a corpus of more than 9000 movie tag lines. Our job is to generate n-gram models up to n equal to 1, n equal to 2 and n equal to 3 for this data and discover the number of features for each model.\n",
    "\n",
    "### We will then compare the number of features generated for each model.\n",
    "\n",
    "### Instructions\n",
    "-    Generate an n-gram model with n-grams up to n=1. Name it ng1\n",
    "-    Generate an n-gram model with n-grams up to n=2. Name it ng2\n",
    "-    Generate an n-Gram Model with n-grams up to n=3. Name it ng3\n",
    "-    Print the number of features for each model."
   ]
  },
  {
   "cell_type": "code",
   "execution_count": 63,
   "id": "c6b8a5fa-4aaf-4744-b12b-c69445c8d079",
   "metadata": {},
   "outputs": [
    {
     "name": "stdout",
     "output_type": "stream",
     "text": [
      "ng1, ng2 and ng3 have 6614, 37100 and 76881 features respectively\n"
     ]
    }
   ],
   "source": [
    "# Generate n-grams upto n=1\n",
    "vectorizer_ng1 = CountVectorizer(ngram_range=(1,1))\n",
    "ng1 = vectorizer_ng1.fit_transform(corpus)\n",
    "\n",
    "# Generate n-grams upto n=2\n",
    "vectorizer_ng2 = CountVectorizer(ngram_range=(1,2))\n",
    "ng2 = vectorizer_ng2.fit_transform(corpus)\n",
    "\n",
    "# Generate n-grams upto n=3\n",
    "vectorizer_ng3 = CountVectorizer(ngram_range=(1, 3))\n",
    "ng3 = vectorizer_ng3.fit_transform(corpus)\n",
    "\n",
    "# Print the number of features for each model\n",
    "print(\"ng1, ng2 and ng3 have %i, %i and %i features respectively\" % (ng1.shape[1], ng2.shape[1], ng3.shape[1]))"
   ]
  },
  {
   "cell_type": "markdown",
   "id": "db76b52c-cb11-4cf5-b60e-4cd614e7d35e",
   "metadata": {},
   "source": [
    "## Higher order n-grams for sentiment analysis\n",
    "\n",
    "### Similar to a previous exercise, we are going to build a classifier that can detect if the review of a particular movie is positive or negative. However, this time, we will use n-grams up to n=2 for the task.\n",
    "\n",
    "### The n-gram training reviews are available as X_train_ng. The corresponding test reviews are available as X_test_ng. Finally, use y_train and y_test to access the training and test sentiment classes respectively.\n",
    "\n",
    "### Instructions\n",
    "-    Define an instance of MultinomialNB. Name it clf_ng\n",
    "-    Fit the classifier on X_train_ng and y_train.\n",
    "-    Measure accuracy on X_test_ng and y_test the using score() method."
   ]
  },
  {
   "cell_type": "code",
   "execution_count": 75,
   "id": "0fefe6e0-ee2b-4c5f-a4a1-c968a00d248c",
   "metadata": {},
   "outputs": [],
   "source": [
    "movie_reviews = pd.read_csv(\"data/movie_reviews_clean.csv\")\n",
    "\n",
    "X = movie_reviews[\"review\"]\n",
    "y = movie_reviews[\"sentiment\"]\n",
    "X_train, X_test, y_train, y_test = train_test_split(X, y, test_size=0.33, random_state=42)\n",
    "\n",
    "ng_vectorizer = CountVectorizer(ngram_range=(1,2))\n",
    "\n",
    "X_train_ng = ng_vectorizer.fit_transform(X_train)\n",
    "X_test_ng = ng_vectorizer.transform(X_test)\n",
    "\n",
    "review = 'The movie was not good. The plot had several holes and the acting lacked panache.'"
   ]
  },
  {
   "cell_type": "code",
   "execution_count": 76,
   "id": "932a954a-cfb0-488f-bde4-5cbdcaa34c4b",
   "metadata": {},
   "outputs": [
    {
     "name": "stdout",
     "output_type": "stream",
     "text": [
      "The accuracy of the classifier on the test set is 0.782\n",
      "The sentiment predicted by the classifier is 0\n"
     ]
    }
   ],
   "source": [
    "# Define an instance of MultinomialNB \n",
    "clf_ng = MultinomialNB()\n",
    "\n",
    "# Fit the classifier \n",
    "clf_ng.fit(X_train_ng, y_train)\n",
    "\n",
    "# Measure the accuracy \n",
    "accuracy = clf_ng.score(X_test_ng, y_test)\n",
    "print(\"The accuracy of the classifier on the test set is %.3f\" % accuracy)\n",
    "\n",
    "# Predict the sentiment of a negative review\n",
    "review = \"The movie was not good. The plot had several holes and the acting lacked panache.\"\n",
    "prediction = clf_ng.predict(ng_vectorizer.transform([review]))[0]\n",
    "print(\"The sentiment predicted by the classifier is %i\" % (prediction))"
   ]
  },
  {
   "cell_type": "markdown",
   "id": "30a7c98c-9337-486c-be15-ea84a084b9f3",
   "metadata": {},
   "source": [
    "## Comparing performance of n-gram models\n",
    "\n",
    "### You now know how to conduct sentiment analysis by converting text into various n-gram representations and feeding them to a classifier. In this exercise, we will conduct sentiment analysis for the same movie reviews from before using two n-gram models: unigrams and n-grams upto n equal to 3.\n",
    "\n",
    "### We will then compare the performance using three criteria: accuracy of the model on the test set, time taken to execute the program and the number of features created when generating the n-gram representation.\n",
    "\n",
    "### Instructions 1/2\n",
    "-    Initialize a CountVectorizer object such that it generates unigrams."
   ]
  },
  {
   "cell_type": "code",
   "execution_count": 80,
   "id": "068243b6-5e8f-4944-b7cf-2a7e1f6f875a",
   "metadata": {},
   "outputs": [],
   "source": [
    "import time\n",
    "\n",
    "df = pd.read_csv(\"data/movie_reviews_clean.csv\")"
   ]
  },
  {
   "cell_type": "code",
   "execution_count": 81,
   "id": "26f1e4ed-7569-4243-86f4-4c6b2282af09",
   "metadata": {},
   "outputs": [
    {
     "name": "stdout",
     "output_type": "stream",
     "text": [
      "The program took 0.533 seconds to complete. The accuracy on the test set is 0.76. The ngram representation had 79059 features.\n"
     ]
    }
   ],
   "source": [
    "start_time = time.time()\n",
    "# Splitting the data into training and test sets\n",
    "train_X, test_X, train_y, test_y = train_test_split(df['review'], df['sentiment'], test_size=0.5, random_state=42, stratify=df['sentiment'])\n",
    "\n",
    "# Generating ngrams\n",
    "vectorizer = CountVectorizer(ngram_range=(1,2))\n",
    "train_X = vectorizer.fit_transform(train_X)\n",
    "test_X = vectorizer.transform(test_X)\n",
    "\n",
    "# Fit classifier\n",
    "clf = MultinomialNB()\n",
    "clf.fit(train_X, train_y)\n",
    "\n",
    "# Print accuracy, time and number of dimensions\n",
    "print(\"The program took %.3f seconds to complete. The accuracy on the test set is %.2f. The ngram representation had %i features.\" % (time.time() - start_time, clf.score(test_X, test_y), train_X.shape[1]))"
   ]
  },
  {
   "cell_type": "markdown",
   "id": "0e349c61-6809-4a2e-b071-8f9a54520d87",
   "metadata": {},
   "source": [
    "### Instructions 2/2\n",
    "-    Initialize a CountVectorizer object such that it generates ngrams upto n=3."
   ]
  },
  {
   "cell_type": "code",
   "execution_count": 82,
   "id": "a25e66cc-74a1-4115-b347-acd868f8bf58",
   "metadata": {},
   "outputs": [
    {
     "name": "stdout",
     "output_type": "stream",
     "text": [
      "The program took 1.059 seconds to complete. The accuracy on the test set is 0.77. The ngram representation had 178240 features.\n"
     ]
    }
   ],
   "source": [
    "start_time = time.time()\n",
    "# Splitting the data into training and test sets\n",
    "train_X, test_X, train_y, test_y = train_test_split(df['review'], df['sentiment'], test_size=0.5, random_state=42, stratify=df['sentiment'])\n",
    "\n",
    "# Generating ngrams\n",
    "vectorizer = CountVectorizer(ngram_range=(1,3))\n",
    "train_X = vectorizer.fit_transform(train_X)\n",
    "test_X = vectorizer.transform(test_X)\n",
    "\n",
    "# Fit classifier\n",
    "clf = MultinomialNB()\n",
    "clf.fit(train_X, train_y)\n",
    "\n",
    "# Print accuracy, time and number of dimensions\n",
    "print(\"The program took %.3f seconds to complete. The accuracy on the test set is %.2f. The ngram representation had %i features.\" % (time.time() - start_time, clf.score(test_X, test_y), train_X.shape[1]))"
   ]
  },
  {
   "cell_type": "code",
   "execution_count": null,
   "id": "57c642eb-86ca-41e3-b2db-0b1c1c71f6ab",
   "metadata": {},
   "outputs": [],
   "source": []
  }
 ],
 "metadata": {
  "kernelspec": {
   "display_name": "Python 3 (ipykernel)",
   "language": "python",
   "name": "python3"
  },
  "language_info": {
   "codemirror_mode": {
    "name": "ipython",
    "version": 3
   },
   "file_extension": ".py",
   "mimetype": "text/x-python",
   "name": "python",
   "nbconvert_exporter": "python",
   "pygments_lexer": "ipython3",
   "version": "3.11.6"
  }
 },
 "nbformat": 4,
 "nbformat_minor": 5
}
