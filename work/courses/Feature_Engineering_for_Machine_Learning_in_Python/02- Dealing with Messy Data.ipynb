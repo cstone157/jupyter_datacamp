{
 "cells": [
  {
   "cell_type": "code",
   "execution_count": 2,
   "id": "0d8b78ff-941d-4d4f-b11e-f7ebf63ceed0",
   "metadata": {},
   "outputs": [],
   "source": [
    "import pandas as pd\n",
    "import numpy as np\n",
    "\n",
    "so_survey_csv = 'https://assets.datacamp.com/production/repositories/3752/datasets/19699a2441073ad6459bf5e3e17690e2cae86cf1/Combined_DS_v10.csv'\n",
    "so_survey_df = pd.read_csv(so_survey_csv)"
   ]
  },
  {
   "cell_type": "markdown",
   "id": "26b20338-5f6e-4cce-bf85-f936d8bcee6f",
   "metadata": {},
   "source": [
    "## How sparse is my data?\n",
    "### Most datasets contain missing values, often represented as NaN (Not a Number). If you are working with Pandas you can easily check how many missing values exist in each column.\n",
    "### Let's find out how many of the developers taking the survey chose to enter their age (found in the Age column of so_survey_df) and their gender (Gender column of so_survey_df).\n",
    "### Instructions 1/2\n",
    "-    Subset the DataFrame to only include the 'Age' and 'Gender' columns.\n",
    "-    Print the number of non-missing values in both columns."
   ]
  },
  {
   "cell_type": "code",
   "execution_count": 3,
   "id": "6281a43a-edf3-4239-a742-0b62a293ae3d",
   "metadata": {},
   "outputs": [
    {
     "name": "stdout",
     "output_type": "stream",
     "text": [
      "<class 'pandas.core.frame.DataFrame'>\n",
      "RangeIndex: 999 entries, 0 to 998\n",
      "Data columns (total 2 columns):\n",
      " #   Column  Non-Null Count  Dtype \n",
      "---  ------  --------------  ----- \n",
      " 0   Age     999 non-null    int64 \n",
      " 1   Gender  693 non-null    object\n",
      "dtypes: int64(1), object(1)\n",
      "memory usage: 15.7+ KB\n",
      "None\n"
     ]
    }
   ],
   "source": [
    "# Subset the DataFrame\n",
    "sub_df = so_survey_df[[\"Age\", \"Gender\"]]\n",
    "\n",
    "# Print the number of non-missing values\n",
    "print(sub_df.info())"
   ]
  },
  {
   "cell_type": "markdown",
   "id": "d72009f8-a75d-4a67-9152-3ad6ef7ad811",
   "metadata": {},
   "source": [
    "## Finding the missing values\n",
    "### While having a summary of how much of your data is missing can be useful, often you will need to find the exact locations of these missing values. Using the same subset of the StackOverflow data from the last exercise (sub_df), you will show how a value can be flagged as missing.\n",
    "### Instructions 1/3\n",
    "-    Print the first 10 entries of the DataFrame."
   ]
  },
  {
   "cell_type": "code",
   "execution_count": 4,
   "id": "dedab066-7306-4aa0-b9fa-ccd61c49dbc5",
   "metadata": {},
   "outputs": [
    {
     "name": "stdout",
     "output_type": "stream",
     "text": [
      "   Age  Gender\n",
      "0   21    Male\n",
      "1   38    Male\n",
      "2   45     NaN\n",
      "3   46    Male\n",
      "4   39    Male\n",
      "5   39    Male\n",
      "6   34    Male\n",
      "7   24  Female\n",
      "8   23    Male\n",
      "9   36     NaN\n"
     ]
    }
   ],
   "source": [
    "# Print the top 10 entries of the DataFrame\n",
    "print(sub_df.head(10))"
   ]
  },
  {
   "cell_type": "markdown",
   "id": "b9ebf95c-b494-4dba-885c-399c9812627f",
   "metadata": {},
   "source": [
    "### Instructions 2/3\n",
    "-    Print the locations of the missing values in the first 10 rows."
   ]
  },
  {
   "cell_type": "code",
   "execution_count": 5,
   "id": "938231e7-fadb-4afc-8d39-440f844a7927",
   "metadata": {},
   "outputs": [
    {
     "name": "stdout",
     "output_type": "stream",
     "text": [
      "     Age  Gender\n",
      "0  False   False\n",
      "1  False   False\n",
      "2  False    True\n",
      "3  False   False\n",
      "4  False   False\n",
      "5  False   False\n",
      "6  False   False\n",
      "7  False   False\n",
      "8  False   False\n",
      "9  False    True\n"
     ]
    }
   ],
   "source": [
    "# Print the locations of the missing values\n",
    "print(sub_df.head(10).isnull())"
   ]
  },
  {
   "cell_type": "markdown",
   "id": "036a7ad4-5720-42c5-ba64-dee5b2f65a80",
   "metadata": {},
   "source": [
    "### Instructions 2/3\n",
    "-    Print the locations of the non-missing values in the first 10 rows."
   ]
  },
  {
   "cell_type": "code",
   "execution_count": 6,
   "id": "3fda8c63-254f-4163-86fd-6d8c5f89eb31",
   "metadata": {},
   "outputs": [
    {
     "name": "stdout",
     "output_type": "stream",
     "text": [
      "    Age  Gender\n",
      "0  True    True\n",
      "1  True    True\n",
      "2  True   False\n",
      "3  True    True\n",
      "4  True    True\n",
      "5  True    True\n",
      "6  True    True\n",
      "7  True    True\n",
      "8  True    True\n",
      "9  True   False\n"
     ]
    }
   ],
   "source": [
    "# Print the locations of the non-missing values\n",
    "print(sub_df.head(10).notnull())"
   ]
  },
  {
   "cell_type": "markdown",
   "id": "ded1470f-0dcc-47de-921d-5feb02d1242c",
   "metadata": {},
   "source": [
    "## Listwise deletion\n",
    "### The simplest way to deal with missing values in your dataset when they are occurring entirely at random is to remove those rows, also called 'listwise deletion'.\n",
    "### Depending on the use case, you will sometimes want to remove all missing values in your data while other times you may want to only remove a particular column if too many values are missing in that column.\n",
    "### Instructions 1/4\n",
    "-    Print the number of rows and columns in so_survey_df."
   ]
  },
  {
   "cell_type": "code",
   "execution_count": 9,
   "id": "4b9eb225-8ec5-4362-9e43-05ee2e094780",
   "metadata": {},
   "outputs": [
    {
     "name": "stdout",
     "output_type": "stream",
     "text": [
      "(999, 11)\n"
     ]
    }
   ],
   "source": [
    "# Print the number of rows and columns\n",
    "print(so_survey_df.shape)"
   ]
  },
  {
   "cell_type": "markdown",
   "id": "f47b4720-9d85-43fb-bcf9-1b50e660a562",
   "metadata": {},
   "source": [
    "### Instructions 2/4\n",
    "-    Drop all rows with missing values in so_survey_df."
   ]
  },
  {
   "cell_type": "code",
   "execution_count": 10,
   "id": "ef971b99-555d-493f-96d0-cc0035611fb3",
   "metadata": {},
   "outputs": [
    {
     "name": "stdout",
     "output_type": "stream",
     "text": [
      "(264, 11)\n"
     ]
    }
   ],
   "source": [
    "# Create a new DataFrame dropping all incomplete rows\n",
    "no_missing_values_rows = so_survey_df.dropna()\n",
    "\n",
    "# Print the shape of the new DataFrame\n",
    "print(no_missing_values_rows.shape)"
   ]
  },
  {
   "cell_type": "markdown",
   "id": "20f65fc2-b06c-433f-b5b6-e781b975b6b1",
   "metadata": {},
   "source": [
    "### Instructions 3/4\n",
    "-    Drop all columns with missing values in so_survey_df."
   ]
  },
  {
   "cell_type": "code",
   "execution_count": 11,
   "id": "915611c5-60e2-44a0-afaf-b4bc881a6283",
   "metadata": {},
   "outputs": [
    {
     "name": "stdout",
     "output_type": "stream",
     "text": [
      "(999, 7)\n"
     ]
    }
   ],
   "source": [
    "# Create a new DataFrame dropping all columns with incomplete rows\n",
    "no_missing_values_cols = so_survey_df.dropna(how='any', axis=1)\n",
    "\n",
    "# Print the shape of the new DataFrame\n",
    "print(no_missing_values_cols.shape)"
   ]
  },
  {
   "cell_type": "markdown",
   "id": "0076a85e-506d-44ba-accd-58f5b9cfff64",
   "metadata": {},
   "source": [
    "### Instructions 4/4\n",
    "-    Drop all rows in so_survey_df where 'Gender' is missing."
   ]
  },
  {
   "cell_type": "code",
   "execution_count": 12,
   "id": "3df829e9-4e8f-492c-ab21-eeb86b1e43f8",
   "metadata": {},
   "outputs": [
    {
     "name": "stdout",
     "output_type": "stream",
     "text": [
      "(693, 11)\n"
     ]
    }
   ],
   "source": [
    "# Drop all rows where Gender is missing\n",
    "no_gender = so_survey_df.dropna(subset=['Gender'])\n",
    "\n",
    "# Print the shape of the new DataFrame\n",
    "print(no_gender.shape)"
   ]
  },
  {
   "cell_type": "markdown",
   "id": "3b71cc04-48fc-4e6c-bd8e-62874181d3eb",
   "metadata": {},
   "source": [
    "## Replacing missing values with constants\n",
    "### While removing missing data entirely maybe a correct approach in many situations, this may result in a lot of information being omitted from your models.\n",
    "### You may find categorical columns where the missing value is a valid piece of information in itself, such as someone refusing to answer a question in a survey. In these cases, you can fill all missing values with a new category entirely, for example 'No response given'.\n",
    "### Instructions 1/2\n",
    "-    Print the count of occurrences of each category in so_survey_df's Gender column."
   ]
  },
  {
   "cell_type": "code",
   "execution_count": 17,
   "id": "3aae80e9-f920-4934-8e14-1518052fb30f",
   "metadata": {},
   "outputs": [],
   "source": [
    "so_survey_df = pd.read_csv(so_survey_csv)"
   ]
  },
  {
   "cell_type": "code",
   "execution_count": 18,
   "id": "34ef065b-2d9f-4e6c-8b76-89661f9a97a6",
   "metadata": {},
   "outputs": [
    {
     "name": "stdout",
     "output_type": "stream",
     "text": [
      "Gender\n",
      "Male                                                                         632\n",
      "Female                                                                        53\n",
      "Female;Male                                                                    2\n",
      "Transgender                                                                    2\n",
      "Female;Male;Transgender;Non-binary. genderqueer. or gender non-conforming      1\n",
      "Male;Non-binary. genderqueer. or gender non-conforming                         1\n",
      "Non-binary. genderqueer. or gender non-conforming                              1\n",
      "Female;Transgender                                                             1\n",
      "Name: count, dtype: int64\n"
     ]
    }
   ],
   "source": [
    "# Print the count of occurrences\n",
    "print(so_survey_df['Gender'].value_counts())"
   ]
  },
  {
   "cell_type": "markdown",
   "id": "3fb959e9-28e2-4e76-b7c7-9a936a88b759",
   "metadata": {},
   "source": [
    "### Instructions 2/2\n",
    "-    Replace all missing values in the Gender column with the string 'Not Given'. Make changes to the original DataFrame."
   ]
  },
  {
   "cell_type": "code",
   "execution_count": 19,
   "id": "50282c68-373a-428d-9080-26cae89e8803",
   "metadata": {},
   "outputs": [
    {
     "name": "stdout",
     "output_type": "stream",
     "text": [
      "Gender\n",
      "Male                                                                         632\n",
      "Not Given                                                                    306\n",
      "Female                                                                        53\n",
      "Female;Male                                                                    2\n",
      "Transgender                                                                    2\n",
      "Female;Male;Transgender;Non-binary. genderqueer. or gender non-conforming      1\n",
      "Male;Non-binary. genderqueer. or gender non-conforming                         1\n",
      "Non-binary. genderqueer. or gender non-conforming                              1\n",
      "Female;Transgender                                                             1\n",
      "Name: count, dtype: int64\n"
     ]
    }
   ],
   "source": [
    "# Replace missing values\n",
    "so_survey_df['Gender'].fillna(value='Not Given', inplace=True)\n",
    "\n",
    "# Print the count of each value\n",
    "print(so_survey_df['Gender'].value_counts())"
   ]
  },
  {
   "cell_type": "markdown",
   "id": "1577d145-eb42-46b6-ba79-1e5f311bf6d2",
   "metadata": {},
   "source": [
    "## Filling continuous missing values\n",
    "### In the last lesson, you dealt with different methods of removing data missing values and filling in missing values with a fixed string. These approaches are valid in many cases, particularly when dealing with categorical columns but have limited use when working with continuous values. In these cases, it may be most valid to fill the missing values in the column with a value calculated from the entries present in the column.\n",
    "### Instructions 1/3\n",
    "-    Print the first five rows of the StackOverflowJobsRecommend column of so_survey_df."
   ]
  },
  {
   "cell_type": "code",
   "execution_count": 20,
   "id": "f5e3e24a-6a72-4bf6-bdd0-f65255fd2770",
   "metadata": {},
   "outputs": [
    {
     "name": "stdout",
     "output_type": "stream",
     "text": [
      "0    NaN\n",
      "1    7.0\n",
      "2    8.0\n",
      "3    NaN\n",
      "4    8.0\n",
      "Name: StackOverflowJobsRecommend, dtype: float64\n"
     ]
    }
   ],
   "source": [
    "# Print the first five rows of StackOverflowJobsRecommend column\n",
    "print(so_survey_df[\"StackOverflowJobsRecommend\"].head())"
   ]
  },
  {
   "cell_type": "markdown",
   "id": "bf6c393f-bd7e-4a8b-b01a-4fdb33775e45",
   "metadata": {},
   "source": [
    "### Instructions 2/3\n",
    "-    Replace the missing values in the StackOverflowJobsRecommend column with its mean. Make changes directly to the original DataFrame."
   ]
  },
  {
   "cell_type": "code",
   "execution_count": 21,
   "id": "2ba93a82-0046-4069-b058-b955aa2314b5",
   "metadata": {},
   "outputs": [
    {
     "name": "stdout",
     "output_type": "stream",
     "text": [
      "0    7.061602\n",
      "1    7.000000\n",
      "2    8.000000\n",
      "3    7.061602\n",
      "4    8.000000\n",
      "Name: StackOverflowJobsRecommend, dtype: float64\n"
     ]
    }
   ],
   "source": [
    "# Fill missing values with the mean\n",
    "so_survey_df['StackOverflowJobsRecommend'].fillna(so_survey_df['StackOverflowJobsRecommend'].mean(), inplace=True)\n",
    "\n",
    "# Print the first five rows of StackOverflowJobsRecommend column\n",
    "print(so_survey_df['StackOverflowJobsRecommend'].head())"
   ]
  },
  {
   "cell_type": "markdown",
   "id": "b150a792-a296-4c5a-86f1-a91832d20cb6",
   "metadata": {},
   "source": [
    "### Instructions 3/3\n",
    "-    Round the decimal values that you introduced in the StackOverflowJobsRecommend column."
   ]
  },
  {
   "cell_type": "code",
   "execution_count": 22,
   "id": "18e47638-3b2f-458e-bd2f-7b0efa16f182",
   "metadata": {},
   "outputs": [
    {
     "name": "stdout",
     "output_type": "stream",
     "text": [
      "0    7.0\n",
      "1    7.0\n",
      "2    8.0\n",
      "3    7.0\n",
      "4    8.0\n",
      "Name: StackOverflowJobsRecommend, dtype: float64\n"
     ]
    }
   ],
   "source": [
    "# Fill missing values with the mean\n",
    "so_survey_df['StackOverflowJobsRecommend'].fillna(so_survey_df['StackOverflowJobsRecommend'].mean(), inplace=True)\n",
    "\n",
    "# Round the StackOverflowJobsRecommend values\n",
    "so_survey_df['StackOverflowJobsRecommend'] = np.round(so_survey_df['StackOverflowJobsRecommend'])\n",
    "\n",
    "# Print the top 5 rows\n",
    "print(so_survey_df['StackOverflowJobsRecommend'].head())"
   ]
  },
  {
   "cell_type": "markdown",
   "id": "1a8ff8cc-695b-427c-bbc0-8aff24d299ac",
   "metadata": {},
   "source": [
    "## Dealing with stray characters (I)\n",
    "### In this exercise, you will work with the RawSalary column of so_survey_df which contains the wages of the respondents along with the currency symbols and commas, such as $42,000. When importing data from Microsoft Excel, more often that not you will come across data in this form.\n",
    "\n",
    "### Instructions 1/2\n",
    "-    Remove the commas (,) from the RawSalary column."
   ]
  },
  {
   "cell_type": "code",
   "execution_count": 23,
   "id": "acfc3108-34e5-4b1a-9f2f-9d91d886fc69",
   "metadata": {},
   "outputs": [],
   "source": [
    "# Remove the commas in the column\n",
    "so_survey_df['RawSalary'] = so_survey_df['RawSalary'].str.replace(',', '')"
   ]
  },
  {
   "cell_type": "markdown",
   "id": "96ac8ae4-e69d-4443-b7fb-ea9745025da4",
   "metadata": {},
   "source": [
    "### Instructions 2/2\n",
    "-    Remove the dollar ($) signs from the RawSalary column."
   ]
  },
  {
   "cell_type": "code",
   "execution_count": 24,
   "id": "c8001ffa-12db-4c25-92fc-c4d4ecc87b96",
   "metadata": {},
   "outputs": [],
   "source": [
    "# Remove the dollar signs in the column\n",
    "so_survey_df['RawSalary'] = so_survey_df['RawSalary'].str.replace(\"$\", \"\")"
   ]
  },
  {
   "cell_type": "markdown",
   "id": "22079717-1f4d-4c2b-b10a-d33ae48a2b5a",
   "metadata": {},
   "source": [
    "## Dealing with stray characters (II)\n",
    "### In the last exercise, you could tell quickly based off of the df.head() call which characters were causing an issue. In many cases this will not be so apparent. There will often be values deep within a column that are preventing you from casting a column as a numeric type so that it can be used in a model or further feature engineering.\n",
    "\n",
    "### One approach to finding these values is to force the column to the data type desired using pd.to_numeric(), coercing any values causing issues to NaN, Then filtering the DataFrame by just the rows containing the NaN values.\n",
    "\n",
    "### Try to cast the RawSalary column as a float and it will fail as an additional character can now be found in it. Find the character and remove it so the column can be cast as a float.\n",
    "\n",
    "### Instructions 1/2\n",
    "-    Attempt to convert the RawSalary column of so_survey_df to numeric values coercing all failures into null values.\n",
    "-    Find the indexes of the rows containing NaNs.\n",
    "-    Print the rows in RawSalary based on these indexes."
   ]
  },
  {
   "cell_type": "code",
   "execution_count": 25,
   "id": "8ad7d9ae-af79-4ebf-a716-9e598030bdb2",
   "metadata": {},
   "outputs": [
    {
     "name": "stdout",
     "output_type": "stream",
     "text": [
      "0            NaN\n",
      "2            NaN\n",
      "4      £41671.00\n",
      "6            NaN\n",
      "8            NaN\n",
      "         ...    \n",
      "989          NaN\n",
      "990          NaN\n",
      "992          NaN\n",
      "994          NaN\n",
      "997          NaN\n",
      "Name: RawSalary, Length: 401, dtype: object\n"
     ]
    }
   ],
   "source": [
    "# Attempt to convert the column to numeric values\n",
    "numeric_vals = pd.to_numeric(so_survey_df['RawSalary'], errors='coerce')\n",
    "\n",
    "# Find the indexes of missing values\n",
    "idx = numeric_vals.isna()\n",
    "\n",
    "# Print the relevant rows\n",
    "print(so_survey_df['RawSalary'][idx])"
   ]
  },
  {
   "cell_type": "markdown",
   "id": "027ccc1c-32de-407a-8afa-5729afa3980c",
   "metadata": {},
   "source": [
    "### Instructions 2/2\n",
    "-    Did you notice the pound (£) signs in the RawSalary column? Remove these signs like you did in the previous exercise.\n",
    "-    Convert the RawSalary column to float."
   ]
  },
  {
   "cell_type": "code",
   "execution_count": 27,
   "id": "641199cc-f5d1-429a-9627-3e5bc78ef804",
   "metadata": {},
   "outputs": [
    {
     "name": "stdout",
     "output_type": "stream",
     "text": [
      "0            NaN\n",
      "1        70841.0\n",
      "2            NaN\n",
      "3        21426.0\n",
      "4        41671.0\n",
      "         ...    \n",
      "994          NaN\n",
      "995      58746.0\n",
      "996      55000.0\n",
      "997          NaN\n",
      "998    1000000.0\n",
      "Name: RawSalary, Length: 999, dtype: float64\n"
     ]
    }
   ],
   "source": [
    "# Replace the offending characters\n",
    "so_survey_df['RawSalary'] = so_survey_df['RawSalary'].str.replace(\"£\", \"\")\n",
    "\n",
    "# Convert the column to float\n",
    "so_survey_df['RawSalary'] = so_survey_df['RawSalary'].astype('float')\n",
    "\n",
    "# Print the column\n",
    "print(so_survey_df['RawSalary'])"
   ]
  },
  {
   "cell_type": "markdown",
   "id": "20dd4795-6c5e-49c6-8330-e28c689f43c5",
   "metadata": {},
   "source": [
    "## Method chaining\n",
    "### When applying multiple operations on the same column (like in the previous exercises), you made the changes in several steps, assigning the results back in each step. However, when applying multiple successive operations on the same column, you can \"chain\" these operations together for clarity and ease of management. This can be achieved by calling multiple methods sequentially:\n",
    "\n",
    "### Method chaining\n",
    "<code>\n",
    "df['column'] = df['column'].method1().method2().method3()\n",
    "</code>\n",
    "\n",
    "### Same as \n",
    "<code>\n",
    "df['column'] = df['column'].method1()\n",
    "df['column'] = df['column'].method2()\n",
    "df['column'] = df['column'].method3()\n",
    "</code>\n",
    "\n",
    "### In this exercise you will repeat the steps you performed in the last two exercises, but do so using method chaining.\n",
    "\n",
    "### Instructions\n",
    "-    Remove the commas (,) from the RawSalary column of so_survey_df.\n",
    "-    Remove the dollar ($) signs from the RawSalary column.\n",
    "-    Remove the pound (£) signs from the RawSalary column.\n",
    "-    Convert the RawSalary column to float."
   ]
  },
  {
   "cell_type": "code",
   "execution_count": 29,
   "id": "8dc1a629-5244-417c-b177-942422096654",
   "metadata": {},
   "outputs": [],
   "source": [
    "so_survey_df = pd.read_csv(so_survey_csv)"
   ]
  },
  {
   "cell_type": "code",
   "execution_count": 30,
   "id": "c12e4b9f-e6c1-4119-9ec9-feb90c3b74b0",
   "metadata": {},
   "outputs": [
    {
     "name": "stdout",
     "output_type": "stream",
     "text": [
      "0            NaN\n",
      "1        70841.0\n",
      "2            NaN\n",
      "3        21426.0\n",
      "4        41671.0\n",
      "         ...    \n",
      "994          NaN\n",
      "995      58746.0\n",
      "996      55000.0\n",
      "997          NaN\n",
      "998    1000000.0\n",
      "Name: RawSalary, Length: 999, dtype: float64\n"
     ]
    }
   ],
   "source": [
    "# Use method chaining\n",
    "so_survey_df['RawSalary'] = so_survey_df['RawSalary']\\\n",
    "                              .str.replace(\",\", \"\")\\\n",
    "                              .str.replace(\"$\", \"\")\\\n",
    "                              .str.replace(\"£\", \"\")\\\n",
    "                              .astype(\"float\")\n",
    " \n",
    "# Print the RawSalary column\n",
    "print(so_survey_df['RawSalary'])"
   ]
  },
  {
   "cell_type": "code",
   "execution_count": null,
   "id": "cc1f094d-8cbe-4c38-974c-5f1850d3d227",
   "metadata": {},
   "outputs": [],
   "source": []
  }
 ],
 "metadata": {
  "kernelspec": {
   "display_name": "Python 3 (ipykernel)",
   "language": "python",
   "name": "python3"
  },
  "language_info": {
   "codemirror_mode": {
    "name": "ipython",
    "version": 3
   },
   "file_extension": ".py",
   "mimetype": "text/x-python",
   "name": "python",
   "nbconvert_exporter": "python",
   "pygments_lexer": "ipython3",
   "version": "3.11.6"
  }
 },
 "nbformat": 4,
 "nbformat_minor": 5
}
