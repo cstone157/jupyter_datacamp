{
 "cells": [
  {
   "cell_type": "markdown",
   "id": "d95b0009-1c58-4d8b-9b8b-64e95f888c37",
   "metadata": {},
   "source": [
    "## Creating tensors and accessing attributes\n",
    "\n",
    "### Tensors are the primary data structure in PyTorch and will be the building blocks for our deep learning models. They share many similarities with NumPy arrays but have some unique attributes too.\n",
    "\n",
    "### In this exercise, you'll practice creating a tensor from a Python list and displaying some of its attributes.\n",
    "\n",
    "### Instructions 1/2\n",
    "-    Begin by importing PyTorch.\n",
    "-    Create a tensor from the Python list list_a"
   ]
  },
  {
   "cell_type": "code",
   "execution_count": 3,
   "id": "ef2a1e34-4d79-4a6c-b52c-9f5cef4b7f77",
   "metadata": {},
   "outputs": [
    {
     "name": "stdout",
     "output_type": "stream",
     "text": [
      "tensor([1, 2, 3, 4])\n"
     ]
    }
   ],
   "source": [
    "# Import PyTorch\n",
    "import torch\n",
    "\n",
    "list_a = [1, 2, 3, 4]\n",
    "\n",
    "# Create a tensor from list_a\n",
    "tensor_a = torch.tensor(list_a)\n",
    "\n",
    "print(tensor_a)"
   ]
  },
  {
   "cell_type": "markdown",
   "id": "e637ad53-443f-4c5f-88f7-98db28d44026",
   "metadata": {},
   "source": [
    "### Instructions 2/2\n",
    "-    Display the tensor device.\n",
    "-    Display the tensor data type."
   ]
  },
  {
   "cell_type": "code",
   "execution_count": 4,
   "id": "471a1229-a5ac-4e00-a220-bf007d19ec30",
   "metadata": {},
   "outputs": [
    {
     "name": "stdout",
     "output_type": "stream",
     "text": [
      "cpu\n",
      "torch.int64\n"
     ]
    }
   ],
   "source": [
    "# Import PyTorch\n",
    "import torch\n",
    "\n",
    "list_a = [1, 2, 3, 4]\n",
    "\n",
    "# Create a tensor from list_a\n",
    "tensor_a = torch.tensor(list_a)\n",
    "\n",
    "# Display the tensor device\n",
    "print(tensor_a.device)\n",
    "\n",
    "# Display the tensor data type\n",
    "print(tensor_a.dtype)"
   ]
  },
  {
   "cell_type": "markdown",
   "id": "6b5e3b1c-4b28-480b-b180-a45605cb336a",
   "metadata": {},
   "source": [
    "## Creating tensors from NumPy arrays\n",
    "\n",
    "### Tensors are the fundamental data structure of PyTorch. You can create complex deep learning algorithms by learning how to manipulate them.\n",
    "\n",
    "### The torch package has been imported, and two NumPy arrays have been created, named array_a and array_b. Both arrays have the same dimensions.\n",
    "\n",
    "### Instructions\n",
    "-    Create two tensors, tensor_a and tensor_b, from the NumPy arrays array_a and array_b, respectively.\n",
    "-    Subtract tensor_b from tensor_a.\n",
    "-    Perform an element-wise multiplication of tensor_a and tensor_b.\n",
    "-    Add the resulting tensors from the two previous steps together."
   ]
  },
  {
   "cell_type": "code",
   "execution_count": 5,
   "id": "c8aa6573-0eac-492b-ae48-f97f3f3c5810",
   "metadata": {},
   "outputs": [],
   "source": [
    "import numpy as np\n",
    "\n",
    "array_a = np.array([[1, 1, 1],\n",
    "       [2, 3, 4],\n",
    "       [4, 5, 6]])\n",
    "\n",
    "array_b = np.array([[7, 5, 4],\n",
    "       [2, 2, 8],\n",
    "       [6, 3, 8]])"
   ]
  },
  {
   "cell_type": "code",
   "execution_count": 6,
   "id": "9643be8f-9064-4915-a1f0-cf6661f46646",
   "metadata": {},
   "outputs": [
    {
     "name": "stdout",
     "output_type": "stream",
     "text": [
      "tensor([[ 1,  1,  1],\n",
      "        [ 4,  7, 28],\n",
      "        [22, 17, 46]])\n"
     ]
    }
   ],
   "source": [
    "# Create two tensors from the arrays\n",
    "tensor_a = torch.tensor(array_a)\n",
    "tensor_b = torch.tensor(array_b)\n",
    "\n",
    "# Subtract tensor_b from tensor_a \n",
    "tensor_c = tensor_a - tensor_b\n",
    "\n",
    "# Multiply each element of tensor_a with each element of tensor_b\n",
    "tensor_d = tensor_a * tensor_b\n",
    "\n",
    "# Add tensor_c with tensor_d\n",
    "tensor_e = tensor_c + tensor_d\n",
    "print(tensor_e)"
   ]
  },
  {
   "cell_type": "markdown",
   "id": "9d21b57c-771b-4a4c-a352-17087ba61ec4",
   "metadata": {},
   "source": [
    "## Your first neural network\n",
    "\n",
    "### In this exercise, you will implement a small neural network containing two linear layers. The first layer takes an eight-dimensional input, and the last layer outputs a one-dimensional tensor.\n",
    "\n",
    "### The torch package and the torch.nn package have already been imported for you.\n",
    "\n",
    "### Instructions\n",
    "-    Create a neural network of linear layers that takes a tensor of dimensions 1x8 as input and outputs a tensor of dimensions 1x1.\n",
    "-    Use any output dimension for the first layer you want."
   ]
  },
  {
   "cell_type": "code",
   "execution_count": 7,
   "id": "40afd39c-dd34-4d80-a3db-8a735fb989c3",
   "metadata": {},
   "outputs": [
    {
     "name": "stdout",
     "output_type": "stream",
     "text": [
      "tensor([[1.6708]], grad_fn=<AddmmBackward0>)\n"
     ]
    }
   ],
   "source": [
    "import torch\n",
    "import torch.nn as nn\n",
    "\n",
    "input_tensor = torch.Tensor([[2, 3, 6, 7, 9, 3, 2, 1]])\n",
    "\n",
    "# Implement a small neural network with exactly two linear layers\n",
    "model = nn.Sequential(nn.Linear(8, 1),\n",
    "                      nn.Linear(1, 1)\n",
    "                     )\n",
    "\n",
    "output = model(input_tensor)\n",
    "print(output)"
   ]
  },
  {
   "cell_type": "markdown",
   "id": "213fd41a-f10b-4fba-9c87-5f54a39facdc",
   "metadata": {},
   "source": [
    "## The sigmoid and softmax functions\n",
    "\n",
    "### The sigmoid and softmax functions are two of the most popular activation functions in deep learning. They are both usually used as the last step of a neural network. Sigmoid functions are used for binary classification problems, whereas softmax functions are often used for multi-class classification problems. This exercise will familiarize you with creating and using both functions.\n",
    "\n",
    "### Let's say that you have a neural network that returned the values contained in the score tensor as a pre-activation output. You will apply activation functions to this output.\n",
    "\n",
    "### torch.nn is already imported as nn.\n",
    "\n",
    "### Instructions 1/2\n",
    "-    Create a sigmoid function and apply it on input_tensor to generate a probability."
   ]
  },
  {
   "cell_type": "code",
   "execution_count": 9,
   "id": "7701aacd-5b11-4d9e-995c-ff96788313c1",
   "metadata": {},
   "outputs": [
    {
     "name": "stdout",
     "output_type": "stream",
     "text": [
      "tensor([[0.6900]])\n"
     ]
    }
   ],
   "source": [
    "input_tensor = torch.tensor([[0.8]])\n",
    "\n",
    "# Create a sigmoid function and apply it on input_tensor\n",
    "sigmoid = nn.Sigmoid()\n",
    "probability = sigmoid(input_tensor)\n",
    "print(probability)"
   ]
  },
  {
   "cell_type": "markdown",
   "id": "4a72475e-f0ca-4044-9a04-3ac865bd94ba",
   "metadata": {},
   "source": [
    "### Instructions 2/2\n",
    "-    Create a softmax function and apply it on input_tensor to generate a probability."
   ]
  },
  {
   "cell_type": "code",
   "execution_count": 10,
   "id": "dacf6a00-3efb-4e1d-8cf0-04595befa1cf",
   "metadata": {},
   "outputs": [
    {
     "name": "stdout",
     "output_type": "stream",
     "text": [
      "tensor([[1.2828e-01, 1.1698e-04, 5.7492e-01, 3.4961e-02, 1.5669e-01, 1.0503e-01]])\n"
     ]
    }
   ],
   "source": [
    "input_tensor = torch.tensor([[1.0, -6.0, 2.5, -0.3, 1.2, 0.8]])\n",
    "\n",
    "# Create a softmax function and apply it on input_tensor\n",
    "softmax = nn.Softmax(dim=-1)\n",
    "probabilities = softmax(input_tensor)\n",
    "print(probabilities)"
   ]
  },
  {
   "cell_type": "code",
   "execution_count": null,
   "id": "5ed704f7-1c1a-4c12-beda-550d691e4dae",
   "metadata": {},
   "outputs": [],
   "source": []
  }
 ],
 "metadata": {
  "kernelspec": {
   "display_name": "Python 3 (ipykernel)",
   "language": "python",
   "name": "python3"
  },
  "language_info": {
   "codemirror_mode": {
    "name": "ipython",
    "version": 3
   },
   "file_extension": ".py",
   "mimetype": "text/x-python",
   "name": "python",
   "nbconvert_exporter": "python",
   "pygments_lexer": "ipython3",
   "version": "3.11.6"
  }
 },
 "nbformat": 4,
 "nbformat_minor": 5
}
