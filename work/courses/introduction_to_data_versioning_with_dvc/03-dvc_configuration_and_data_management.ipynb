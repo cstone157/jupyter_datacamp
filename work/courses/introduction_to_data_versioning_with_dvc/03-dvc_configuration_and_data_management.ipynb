{
 "cells": [
  {
   "cell_type": "markdown",
   "id": "5bf79c29-fc7f-4c63-8d55-0f749567de72",
   "metadata": {},
   "source": [
    "## Setting up DVC\n",
    "\n",
    "Data Version Control (DVC) offers a structured method for managing data versioning, a crucial aspect that is sometimes neglected. By using DVC, you can accurately monitor modifications in your datasets, ensuring reproducibility, collaboration, and simplified troubleshooting. It acts as a protective shield against data-related hurdles, promoting confidence and efficiency in your data-centric endeavors\n",
    "\n",
    "In this exercise, you will practice initializing a DVC project and checking how DVC is installed. Git has already been initialized for this project.\n",
    "\n",
    "### Ide Exercise Instruction\n",
    "    - Initialize DVC in the workspace.\n",
    "    - Verify that .dvcignore file and .dvc folder are present.\n",
    "    - Check DVC version and learn how it was installed.\n",
    "    - Commit the changes using Git with \"initial commit\" commit message."
   ]
  },
  {
   "cell_type": "code",
   "execution_count": null,
   "id": "e60bde67-37e5-4f2d-ae18-06ef60dae54a",
   "metadata": {},
   "outputs": [],
   "source": [
    "#$ dvc init\n",
    "#$ dvc version\n",
    "#$ git add .\n",
    "#$ git commit -m \"initial commit\""
   ]
  },
  {
   "cell_type": "markdown",
   "id": "e12a0c3f-3002-4490-ae89-f6ee59c49e4f",
   "metadata": {},
   "source": [
    "## .dvcignore Patterns\n",
    "\n",
    "The .dvcignore file plays a crucial role in DVC (Data Version Control) projects by marking which files and/or directories should be excluded when traversing a DVC project. It allows you to specify patterns or paths that DVC should ignore during operations.\n",
    "\n",
    "In this exercise, you will modify the contents of a .dvcignore file to set file patterns that DVC should ignore during operation. You will also use the dvc check-ignore command to verify whether specific targets are ignored by DVC according to the .dvcignore file.\n",
    "\n",
    "### Ide Exercise Instruction\n",
    "    - Ignore all files in the dataset directory\n",
    "    - Make an exception for dataset/myData.csv to be tracked by DVC.\n",
    "    - Ignore all JSON files in the current workspace.\n",
    "    - Using dvc check-ignore -d <file_name or file_pattern> command, check if JSON files are actually ignored."
   ]
  },
  {
   "cell_type": "code",
   "execution_count": 1,
   "id": "fe662920-1199-4090-8f9e-8ab613915d6e",
   "metadata": {},
   "outputs": [],
   "source": [
    "#### ========> .dvcignore\n",
    "# # Add patterns of files dvc should ignore, which could improve\n",
    "# # the performance. Learn more at\n",
    "# # https://dvc.org/doc/user-guide/dvcignore\n",
    "# \n",
    "# # Ignore all files in the 'dataset' directory\n",
    "# dataset/*\n",
    "# \n",
    "# # But don't ignore 'dataset/myData.csv'\n",
    "# !dataset/myData.csv\n",
    "# \n",
    "# # Ignore all .json files\n",
    "# *.json\n",
    "\n",
    "#### ========> Command-line\n",
    "#$ dvc check-ignore -d dataset/myData.csv"
   ]
  },
  {
   "cell_type": "code",
   "execution_count": null,
   "id": "fb0d0106-4c70-43fa-9a19-acd70c9987ba",
   "metadata": {},
   "outputs": [],
   "source": []
  }
 ],
 "metadata": {
  "kernelspec": {
   "display_name": "Python 3 (ipykernel)",
   "language": "python",
   "name": "python3"
  },
  "language_info": {
   "codemirror_mode": {
    "name": "ipython",
    "version": 3
   },
   "file_extension": ".py",
   "mimetype": "text/x-python",
   "name": "python",
   "nbconvert_exporter": "python",
   "pygments_lexer": "ipython3",
   "version": "3.11.6"
  }
 },
 "nbformat": 4,
 "nbformat_minor": 5
}
