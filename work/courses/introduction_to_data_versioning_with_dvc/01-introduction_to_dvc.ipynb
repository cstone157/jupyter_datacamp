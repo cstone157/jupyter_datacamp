{
 "cells": [
  {
   "cell_type": "markdown",
   "id": "25e89d5b-2cc1-404c-a1ff-3e1289c4bec4",
   "metadata": {},
   "source": [
    "## Anatomy of a Machine Learning Model\n",
    "\n",
    "Now, you will reinforce your understanding of how data influences the model performance. You will be working with the Airbnb booking dataset (in the file booking.csv). The dataset is suited for classification tasks to predict if someone would cancel a booking. It contains several numerical and categorical columns. You will split the provided dataset into three mutually exclusive samples - train_A.csv, train_B.csv, and test.csv - using split_dataset.py script. Further, for each training dataset, you'll run the data processing and model training pipeline to train a Random Forest Classifier model and test its performance on the test set by using model_training.py. The hyperparameters defined in params.json are consistent in both runs.\n",
    "\n",
    "The Python scripts are designed to accept command line arguments and run via shell. Feel free to explore these scripts to enrich your understanding.\n",
    "\n",
    "### Ide Exercise Instruction\n",
    "    - Split the dataset by running the command python3 split_dataset.py booking.csv train_A.csv train_B.csv test.csv on the editor shell.\n",
    "    - Train and analyze model performance using the first training set by running python3 model_training.py <params_file> <training_file> <test_file> with proper filenames. Take a note of the metrics.\n",
    "    - Train and analyze model performance using the second training set by running python3 model_training.py <params_file> <training_file> <test_file> with proper filenames. Compare the metrics with the previous run."
   ]
  },
  {
   "cell_type": "code",
   "execution_count": null,
   "id": "6a67cac5-9db9-4a0d-a1f0-cdc2ddea0eeb",
   "metadata": {},
   "outputs": [],
   "source": [
    "#$ python3 split_dataset.py booking.csv train_A.csv train_B.csv test.csv\n",
    "#$ python3 model_training.py params.json train_A.csv test.csv\n",
    "#$ python3 model_training.py params.json train_B.csv test.csv"
   ]
  },
  {
   "cell_type": "markdown",
   "id": "9c5a3be9-c40b-41ea-9e9d-5cc586f7ff8c",
   "metadata": {},
   "source": [
    "## Working with Git CLI\n",
    "\n",
    "Imagine you're starting a new machine learning project. You want to utilize Git to track code changes and collaborate effectively. In this exercise, you'll create a Git repository, create a new branch, add an initial file, and make your first commit. These foundational Git commands will help you later when we apply them in conjunction with DVC. You can expand on this exercise by adding more files, creating more branches, and committing those changes to further your understanding.\n",
    "\n",
    "### Ide Exercise Instruction\n",
    "    - Initialize a Git repository within this directory.\n",
    "    - Create a new branch called main using git checkout -b <branch-name> command.\n",
    "    - Add the greeter.py file to the staging area.\n",
    "    - Commit the changes with the following commit message Initial commit: Added greeter.py."
   ]
  },
  {
   "cell_type": "code",
   "execution_count": 1,
   "id": "3c2d503e-fab0-425e-87c2-c149fe7da381",
   "metadata": {},
   "outputs": [
    {
     "name": "stdout",
     "output_type": "stream",
     "text": [
      "Hello World!\n"
     ]
    }
   ],
   "source": [
    "#$ git init\n",
    "#$ git checkout -b main\n",
    "#$ git add greeter.py\n",
    "#$ git commit -m \"Initial commit: Added greeter.py\"\n",
    "\n",
    "# greeter.py\n",
    "def greet():\n",
    "    print(\"Hello World!\")\n",
    "\n",
    "if __name__==\"__main__\":\n",
    "    greet()"
   ]
  },
  {
   "cell_type": "code",
   "execution_count": null,
   "id": "88c91468-31cd-456e-9685-a8b383be822d",
   "metadata": {},
   "outputs": [],
   "source": []
  }
 ],
 "metadata": {
  "kernelspec": {
   "display_name": "Python 3 (ipykernel)",
   "language": "python",
   "name": "python3"
  },
  "language_info": {
   "codemirror_mode": {
    "name": "ipython",
    "version": 3
   },
   "file_extension": ".py",
   "mimetype": "text/x-python",
   "name": "python",
   "nbconvert_exporter": "python",
   "pygments_lexer": "ipython3",
   "version": "3.11.6"
  }
 },
 "nbformat": 4,
 "nbformat_minor": 5
}
