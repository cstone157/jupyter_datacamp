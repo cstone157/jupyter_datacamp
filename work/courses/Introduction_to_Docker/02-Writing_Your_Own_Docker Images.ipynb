{
 "cells": [
  {
   "cell_type": "markdown",
   "id": "80a9e765-da30-4c68-acc0-8bd17c1f86c1",
   "metadata": {},
   "source": [
    "## Sharing your work using a Docker registry\n",
    "\n",
    "Your company is developing a new spam filter method. You think you've found a good method and would like to share your results with your colleague in a way that allows them to verify your results. You've decided that using a Docker image with all your code and datasets is the right approach. You've already created this image on your local machine and called it spam:v1. The next step is to push this image to your company's registry docker.mycompany.com so that your colleagues can build upon your work.\n",
    "\n",
    "### Instructions 1/2\n",
    "    - Using the terminal, enter the command to tag the spam:v1 container so it can be pushed to docker.mycompany.com."
   ]
  },
  {
   "cell_type": "code",
   "execution_count": null,
   "id": "cf85fbc7-4bc0-4752-ae8b-154de11afdca",
   "metadata": {},
   "outputs": [],
   "source": [
    "# $ docker tag spam:v1 docker.mycompany.com/spam:v1"
   ]
  },
  {
   "cell_type": "markdown",
   "id": "eb271769-477f-4830-9875-9a6a236202d9",
   "metadata": {},
   "source": [
    "### Instructions 2/2\n",
    "    - Using the terminal, enter the command to tag the spam:v1 container so it can be pushed to docker.mycompany.com.    - Using the terminal, enter the command to push the docker.mycompany.com/spam:v1 image to the docker.mycompany.com registry."
   ]
  },
  {
   "cell_type": "code",
   "execution_count": null,
   "id": "eca78b02-9fb7-4d11-801f-e7b8b7db20b3",
   "metadata": {},
   "outputs": [],
   "source": [
    "#$ docker image push docker.mycompany.com/spam:v1"
   ]
  },
  {
   "cell_type": "markdown",
   "id": "6e9bf159-44f5-45da-b2de-c53dc7e20106",
   "metadata": {},
   "source": [
    "## Saving an image to a file\n",
    "\n",
    "After you pushed your image to the company's registry, you got a lot of feedback from your colleagues. You addressed the most important feedback and would like to share your new Docker image, spam:v2, with just a few colleagues before you share it with the entire company again. Save your new Docker image to a file called spam_updated.tar so you can email it to your colleagues Alice and Bob.\n",
    "\n",
    "### Instructions\n",
    "    - Using the terminal, enter the command to save spam:v2 to a file called spam_updated.tar."
   ]
  },
  {
   "cell_type": "code",
   "execution_count": null,
   "id": "dcc663e2-73f3-4573-bb8c-dc9d593faeeb",
   "metadata": {},
   "outputs": [],
   "source": [
    "#$ docker save -o spam_updated.tar spam:v2"
   ]
  },
  {
   "cell_type": "markdown",
   "id": "e594acf6-4794-4c77-9fbc-4ff9110bd9e4",
   "metadata": {},
   "source": [
    "## Receiving Docker Images\n",
    "\n",
    "Your company is still working on that new spam filter! Your colleague Bob made possible improvements to your work and sent you a tar file. Another colleague, Alice, has pushed her version to the company's dockerhub, docker.mycompany.com. It's now up to you to run both containers and find out which runs fastest.\n",
    "\n",
    "### Instructions 1/4\n",
    "    - Using the terminal, enter the command to pull the container your colleague Alice made, spam_alice:v3, from the company's Docker Hub registry, docker.mycompany.com."
   ]
  },
  {
   "cell_type": "code",
   "execution_count": null,
   "id": "5050a1eb-4f80-4f32-9b63-4c04d1d0df8c",
   "metadata": {},
   "outputs": [],
   "source": [
    "#$ docker pull docker.mycompany.com/spam_alice:v3"
   ]
  },
  {
   "cell_type": "markdown",
   "id": "c3c17c90-9d59-4cfe-8e69-e2aa0f8b5966",
   "metadata": {},
   "source": [
    "### Instructions 2/4\n",
    "    - Run the container you just pulled, docker.mycompany.com/spam_alice:v3, to see how good its spam detection algorithm is."
   ]
  },
  {
   "cell_type": "code",
   "execution_count": null,
   "id": "411e19f4-4fe0-4c5a-bfdf-7fa832ff6889",
   "metadata": {},
   "outputs": [],
   "source": [
    "#$ docker run docker.mycompany.com/spam_alice:v3"
   ]
  },
  {
   "cell_type": "markdown",
   "id": "8b46f92f-ec26-466b-9dba-b62260ce852b",
   "metadata": {},
   "source": [
    "### Instructions 3/4\n",
    "    - Using the terminal, enter the command to open the tar file your colleague Bob sent you, spam_bob.tar."
   ]
  },
  {
   "cell_type": "code",
   "execution_count": null,
   "id": "9ab2f037-3a4c-420c-9921-898962f5cf21",
   "metadata": {},
   "outputs": [],
   "source": [
    "#$ docker load --input spam_bob.tar"
   ]
  },
  {
   "cell_type": "markdown",
   "id": "85ccbc82-777b-4a6e-8456-b39fb7027f95",
   "metadata": {},
   "source": [
    "### Instructions 4/4\n",
    "    - Just like you did for Alice's container, run Bob's container, spam_bob:v3, to see how good its spam detection algorithm is."
   ]
  },
  {
   "cell_type": "code",
   "execution_count": null,
   "id": "6490f6d5-7210-4bc0-8bb9-74a8e026be9a",
   "metadata": {},
   "outputs": [],
   "source": [
    "#$ docker run spam_bob:v3"
   ]
  },
  {
   "cell_type": "markdown",
   "id": "28cd00b7-8c58-452d-87cd-39880f51edab",
   "metadata": {},
   "source": [
    "## Building your first image\n",
    "\n",
    "Let's build your first image! We've created a Dockerfile for you, and you can see it in your current working directory using the ls command. You can look at its content using cat Dockerfile or using nano.\n",
    "\n",
    "### Instructions 1/2\n",
    "    - Using the terminal, enter the command to build an image from the Dockerfile in your current working directory."
   ]
  },
  {
   "cell_type": "code",
   "execution_count": null,
   "id": "036de4ae-ef41-4da8-a6d9-aaac5c8293d5",
   "metadata": {},
   "outputs": [],
   "source": [
    "#$ docker build ."
   ]
  },
  {
   "cell_type": "markdown",
   "id": "3ce5530a-4c10-43cb-b6d3-8d721e857212",
   "metadata": {},
   "source": [
    "### Instructions 2/2\n",
    "    - "
   ]
  },
  {
   "cell_type": "code",
   "execution_count": null,
   "id": "77232d4b-34c1-4708-a7a6-29aa9371edad",
   "metadata": {},
   "outputs": [],
   "source": [
    "#$ docker build -t my_first_image ."
   ]
  },
  {
   "cell_type": "markdown",
   "id": "71354ed5-dcde-45cf-851d-b2372313deae",
   "metadata": {},
   "source": [
    "## Working in the command-line\n",
    "\n",
    "A Dockerfile is just a textfile and creating or editing it can be done using any text editor. However since the default way to work with Docker is through the Command Line Interface, it's convenient to also edit Dockerfiles using the command line. Let's refresh our memory on how to navigate the file system and create or edit a Dockerfile with the command line.\n",
    "\n",
    "### Instructions 1/4\n",
    "    - Create a file called Dockerfile in the current working directory.\n",
    "    - Use touch Dockerfile; the touch command will create an empty file for you.\n",
    "    - Or use nano Dockerfile, which will create an empty file but also open the nano text editor, which you then have to save using CTRL+s after which you can exit with CTRL+x."
   ]
  },
  {
   "cell_type": "code",
   "execution_count": null,
   "id": "86a8fb44-7aae-405d-9199-c3c86ccfc4d1",
   "metadata": {},
   "outputs": [],
   "source": [
    "#$ touch Dockerfile"
   ]
  },
  {
   "cell_type": "markdown",
   "id": "d82bf1fa-5435-4545-b7ee-f0715e65e67c",
   "metadata": {},
   "source": [
    "### Instructions 2/4\n",
    "    - Now that you've created a new file let's add a line of text to it.\n",
    "        - Open the file using nano Dockerfile.\n",
    "        - add FROM ubuntu to the start of the file.\n",
    "        - Use CTRL+s to save your changes.\n",
    "        - Followed by CTRL+x to exit nano."
   ]
  },
  {
   "cell_type": "code",
   "execution_count": null,
   "id": "7a7809e9-6cba-44e3-b083-a67e226f5608",
   "metadata": {},
   "outputs": [],
   "source": [
    "#$ nano Dockerfile"
   ]
  },
  {
   "cell_type": "markdown",
   "id": "c8d17520-b535-42ce-afb6-001c121f49d2",
   "metadata": {},
   "source": [
    "### Instructions 3/4\n",
    "    - Using nano to edit a file is often the most intuitive way; however, you can also use echo combined with a double pipe (>>) to append to files without opening them. Let's use echo to append RUN apt-get update to our Dockerfile.\n",
    "        - Type the first part of the command, echo \"RUN apt-get update\" which will print the text between the quotes, don't press enter yet.\n",
    "        - Then add the double pipe >>, which will redirect the output.\n",
    "        - Followed by Dockerfile to make the output of echo append to the Dockerfile.\n",
    "        - Now execute the command by pressing the enter key."
   ]
  },
  {
   "cell_type": "code",
   "execution_count": null,
   "id": "1730c719-861b-4552-bf96-689e03c9ac97",
   "metadata": {},
   "outputs": [],
   "source": [
    "#$ echo \"RUN apt-get update\" >> Dockerfile"
   ]
  },
  {
   "cell_type": "markdown",
   "id": "3ce80736-a293-4948-acca-b4103f542e11",
   "metadata": {},
   "source": [
    "### Instructions 4/4\n",
    "    - Well done! You successfully created and made changes to a file. Often while working in the shell, you want to quickly check the contents of a file without making changes to it. This is easily done using the cat command.\n",
    "        - Check the contents of the Dockerfile using the cat command, cat expects a filename as its first and only argument."
   ]
  },
  {
   "cell_type": "code",
   "execution_count": null,
   "id": "f08be220-6dd3-493e-8e9a-a290cb0a7a29",
   "metadata": {},
   "outputs": [],
   "source": [
    "#$ cat Dockerfile"
   ]
  },
  {
   "cell_type": "markdown",
   "id": "6b92bc8e-f7a1-4915-91ef-99a1fd3ca630",
   "metadata": {},
   "source": [
    "## Editing a Dockerfile\n",
    "\n",
    "Let's get familiar with the RUN instruction. We've created a Dockerfile for you. You can look at its content using cat Dockerfile or using nano. Like before, the Dockerfile already has a FROM instruction, but you'll be adding a RUN command this time.\n",
    "\n",
    "### Instructions 1/2\n",
    "    - Add the correct instruction to the end of the Dockerfile so that the mkdir my_app shell command is run when building the Dockerfile."
   ]
  },
  {
   "cell_type": "code",
   "execution_count": null,
   "id": "c9e3cede-badd-4981-b386-abda5ab555b8",
   "metadata": {},
   "outputs": [],
   "source": [
    "#$ echo \"RUN mkdir my_app\" >> Dockerfile"
   ]
  },
  {
   "cell_type": "markdown",
   "id": "056536e3-8e8e-4bea-8e26-a869b642e454",
   "metadata": {},
   "source": [
    "### Instructions 2/2\n",
    "    - Using the terminal, run the command to build an image called my_app from the Dockerfile in your current working directory."
   ]
  },
  {
   "cell_type": "code",
   "execution_count": null,
   "id": "c45bb156-889b-4307-9226-27af503a790b",
   "metadata": {},
   "outputs": [],
   "source": [
    "#$ docker build -t my_app ."
   ]
  },
  {
   "cell_type": "markdown",
   "id": "c37077ca-62b3-4c00-aa55-758694694e5f",
   "metadata": {},
   "source": [
    "## Creating your own Dockerfile\n",
    "\n",
    "While it's possible to download images for many use cases, an image might not always meet your exact needs. In that case, you can create a new image based on an existing one that closely matches your requirements. Let's go through the steps to create a Dockerfile from scratch, build on top of an existing Ubuntu image, add your instructions, and then build it into a new image.\n",
    "\n",
    "### Instructions 1/4\n",
    "    - Create a file called Dockerfile in the current working directory."
   ]
  },
  {
   "cell_type": "code",
   "execution_count": null,
   "id": "aa1029cb-53a9-49f6-be04-70f467755a2c",
   "metadata": {},
   "outputs": [],
   "source": [
    "#$ touch Dockerfile"
   ]
  },
  {
   "cell_type": "markdown",
   "id": "b85278cf-6bf5-49cd-98e8-b74d6a11559f",
   "metadata": {},
   "source": [
    "### Instructions 2/4\n",
    "    - Add the first instruction to the Dockerfile so that it will build on top of the ubuntu image."
   ]
  },
  {
   "cell_type": "code",
   "execution_count": null,
   "id": "1f1e49b0-c057-496c-91a4-c88c08321253",
   "metadata": {},
   "outputs": [],
   "source": [
    "#$ echo \"FROM ubuntu\" >> Dockerfile"
   ]
  },
  {
   "cell_type": "markdown",
   "id": "ec04c53f-0455-475f-85a4-f5803b8cc865",
   "metadata": {},
   "source": [
    "### Instructions 3/4\n",
    "    - Add instructions to the Dockerfile so that it runs apt-get update and apt-get install -y python3 when building the Dockerfile."
   ]
  },
  {
   "cell_type": "code",
   "execution_count": null,
   "id": "69709dc1-249e-4ddd-8a32-de6196169700",
   "metadata": {},
   "outputs": [],
   "source": [
    "#$ echo \"RUN apt-get update\" >> Dockerfile \n",
    "#$ echo \"RUN apt-get install -y python3\" >> Dockerfile"
   ]
  },
  {
   "cell_type": "markdown",
   "id": "a2afdbd4-ab09-47c2-b21a-797202cda50c",
   "metadata": {},
   "source": [
    "### Instructions 4/4\n",
    "    - Using the terminal, run the command to build an image called my_python_image from the Dockerfile in your current working directory."
   ]
  },
  {
   "cell_type": "code",
   "execution_count": null,
   "id": "1b27f646-555e-4a6e-8315-8a708437e80d",
   "metadata": {},
   "outputs": [],
   "source": [
    "#$ docker build -t my_python_image ."
   ]
  },
  {
   "cell_type": "markdown",
   "id": "828cc92e-b575-480b-ba89-259351625657",
   "metadata": {},
   "source": [
    "## Copying files into an image\n",
    "\n",
    "You've created an Ubuntu and python3-based image to run your data pipeline. Update your Dockerfile so your image includes the pipeline.py file in which you defined the pipeline.\n",
    "\n",
    "### Instructions\n",
    "    - To the end of the Dockerfile, add the Docker instruction, which copies the pipeline.py file in your current working directory (/home/repl) to the /app folder in the image you want to build."
   ]
  },
  {
   "cell_type": "code",
   "execution_count": null,
   "id": "487d34b1-8d3f-4737-9147-317867eb77ef",
   "metadata": {},
   "outputs": [],
   "source": [
    "#$ echo \"COPY ./pipeline.py /app/pipeline.py\" >> Dockerfile"
   ]
  },
  {
   "cell_type": "markdown",
   "id": "798c5856-32e9-4341-a4fc-62aed222083f",
   "metadata": {},
   "source": [
    "## Copying folders\n",
    "\n",
    "After creating an ubuntu and python3 image with your pipeline python code in it, you realize you actually need your entire pipeline_v3 project in the Docker image to be able to install its dependencies. There is a Dockerfile in the current working directory to start from that already has python3 installed.\n",
    "\n",
    "### Instructions 1/2\n",
    "    - Add the instruction to copy all pipeline_v3 project files into the /app directory in your Docker image. You can find the files in the /pipeline_v3/ directory, which is in the current working directory on your local machine."
   ]
  },
  {
   "cell_type": "code",
   "execution_count": null,
   "id": "3dbccc86-510f-4760-96e1-a6a5dd45db37",
   "metadata": {},
   "outputs": [],
   "source": [
    "#$ echo \"COPY ./pipeline_v3/ /app/\" >> Dockerfile"
   ]
  },
  {
   "cell_type": "markdown",
   "id": "b69a4949-e0b0-4045-97e7-075b21a69365",
   "metadata": {},
   "source": [
    "### Instructions 2/2\n",
    "    - Using the terminal, run the command to build an image called pipeline_v3 from the Dockerfile in your current working directory."
   ]
  },
  {
   "cell_type": "code",
   "execution_count": null,
   "id": "94266950-af5e-4b8e-a2d9-48e1865ac95e",
   "metadata": {},
   "outputs": [],
   "source": [
    "#$ docker build -t pipeline_v3 ."
   ]
  },
  {
   "cell_type": "markdown",
   "id": "7d6fa978-0521-4132-832c-74a8cf6390ea",
   "metadata": {},
   "source": [
    "## Working with downloaded files\n",
    "\n",
    "Your previous image worked, and you were able to finalize your pipeline python code! You can now create the next version of your image. Let's create a Dockerfile from scratch, add instructions and then build it.\n",
    "\n",
    "### Instructions 1/4\n",
    "    - Create a file called Dockerfile in the current working directory."
   ]
  },
  {
   "cell_type": "code",
   "execution_count": null,
   "id": "a65d019d-e824-4d7b-a965-4b8f30dc834a",
   "metadata": {},
   "outputs": [],
   "source": [
    "#$ touch Dockerfile"
   ]
  },
  {
   "cell_type": "markdown",
   "id": "c71988f6-238f-471f-878d-e5ac067367f3",
   "metadata": {},
   "source": [
    "### Instructions 2/4\n",
    "    - Add the first instruction to the Dockerfile so that it will build on top of the ubuntu image.\n",
    "    - Add instructions to the Dockerfile so that it runs apt-get update and apt-get install -y python3 curl unzip."
   ]
  },
  {
   "cell_type": "code",
   "execution_count": null,
   "id": "e1734655-51ca-4e95-b384-e92c152ed7a3",
   "metadata": {},
   "outputs": [],
   "source": [
    "#$ echo \"FROM ubuntu\" >> Dockerfile\n",
    "#$ echo \"RUN  apt-get update\" >> Dockerfile\n",
    "#$ echo \"RUN apt-get install -y python3 curl unzip\" >> Dockerfile"
   ]
  },
  {
   "cell_type": "markdown",
   "id": "8224f9e1-0ca0-42bc-980e-f0defc59bc73",
   "metadata": {},
   "source": [
    "### Instructions 3/4\n",
    "    - Add instructions to the Dockerfile to:\n",
    "        - Download the zip file from https://assets.datacamp.com/production/repositories/6082/datasets/31a5052c6a5424cbb8d939a7a6eff9311957e7d0/pipeline_final.zip to /pipeline_final.zip.\n",
    "        - Unzip the file\n",
    "        - And remove the zip\n",
    "        - You can use three separate instructions or make it a single instruction to keep your image smaller."
   ]
  },
  {
   "cell_type": "code",
   "execution_count": null,
   "id": "3e7da493-beed-4d60-b927-5f2c5da51832",
   "metadata": {},
   "outputs": [],
   "source": [
    "#$ echo \"RUN curl https://assets.datacamp.com/production/repositories/6082/datasets/31a5052c6a5424cbb8d939a7a6eff9311957e7d0/pipeline_final.zip -o /pipeline_final.zip\" >> Dockerfile\n",
    "#$ echo \"RUN unzip /pipeline_final.zip\" >> Dockerfile\n",
    "#$ echo \"RUN rm /pipeline_final.zip\" >> Dockerfile"
   ]
  },
  {
   "cell_type": "markdown",
   "id": "8a0e485b-5280-4aef-81ac-023b31b138ad",
   "metadata": {},
   "source": [
    "### Instructions 4/4\n",
    "    - Using the terminal, run the command to build an image called pipeline from the Dockerfile in your current working directory."
   ]
  },
  {
   "cell_type": "code",
   "execution_count": null,
   "id": "57c8791d-38b5-497a-ade5-52a1e8f9b334",
   "metadata": {},
   "outputs": [],
   "source": [
    "#$ docker build -t pipeline ."
   ]
  }
 ],
 "metadata": {
  "kernelspec": {
   "display_name": "Python 3 (ipykernel)",
   "language": "python",
   "name": "python3"
  },
  "language_info": {
   "codemirror_mode": {
    "name": "ipython",
    "version": 3
   },
   "file_extension": ".py",
   "mimetype": "text/x-python",
   "name": "python",
   "nbconvert_exporter": "python",
   "pygments_lexer": "ipython3",
   "version": "3.11.6"
  }
 },
 "nbformat": 4,
 "nbformat_minor": 5
}
