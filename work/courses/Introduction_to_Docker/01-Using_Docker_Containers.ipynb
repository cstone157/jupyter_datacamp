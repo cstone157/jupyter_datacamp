{
 "cells": [
  {
   "cell_type": "markdown",
   "id": "98371185-c47b-479a-9cce-0d5113659371",
   "metadata": {},
   "source": [
    "## Running your first container\n",
    "\n",
    "Now that you know how to start and stop containers, look at running containers, and much more, let's get your hands dirty! We'll start off by just running a container that outputs some text so we can see that it successfully ran. In other words, it's your turn to run a hello-world container!\n",
    "\n",
    "### Instructions\n",
    "    - Using the terminal, enter the command to run the hello-world image."
   ]
  },
  {
   "cell_type": "code",
   "execution_count": 1,
   "id": "31f97576-26e1-4c47-a6bb-da5481733ceb",
   "metadata": {},
   "outputs": [],
   "source": [
    "#$ docker run hello-world"
   ]
  },
  {
   "cell_type": "markdown",
   "id": "adb7c561-297b-462b-a6a5-57e2848d8ac2",
   "metadata": {},
   "source": [
    "## Running a container in the background\n",
    "\n",
    "You got some projects set up already on your machine, but an urgent request has come in to fix a bug in your data ingestion pipeline. The pipeline is used to store data from different sources into a Postgres database. To search for the issue, you want to set up the project locally together with a Postgres database in a Docker container to ensure that fixing this bug doesn't affect anything else you are working on.\n",
    "\n",
    "### Instructions 1/2\n",
    "    - Using the terminal, enter the command to run the postgres image in the background."
   ]
  },
  {
   "cell_type": "code",
   "execution_count": null,
   "id": "1e83f63b-aa6d-4ffa-a195-cab1ca5a98ab",
   "metadata": {},
   "outputs": [],
   "source": [
    "#$ docker run -d postgres"
   ]
  },
  {
   "cell_type": "markdown",
   "id": "f3e168a0-884d-470e-8c75-5a4cf1317271",
   "metadata": {},
   "source": [
    "### Instructions 2/2\n",
    "    - Make sure the container is running by listing all containers and verifying that you see a Postgres container running."
   ]
  },
  {
   "cell_type": "code",
   "execution_count": 2,
   "id": "2d53c592-1fd4-4eb8-838a-f59e99c08ba6",
   "metadata": {},
   "outputs": [],
   "source": [
    "#$ docker ps"
   ]
  },
  {
   "cell_type": "markdown",
   "id": "6a5e1965-dbae-4c87-a98c-e71d1d961d2a",
   "metadata": {},
   "source": [
    "## Helping a colleague\n",
    "\n",
    "You're working on a project of your own and have quite a few containers running when your colleague asks you to debug an issue he's having. You've got some time to help your colleague, but you want to make sure you can find his container among all the ones you already have running.\n",
    "\n",
    "### Instructions 1/3\n",
    "    - Using the terminal, enter the command to run the my_project image detached from your shell while giving it the colleague_project name.\n",
    "    - To run an image in detached mode use the -d flag, without using this flag the image will run connected to your shell making it unusable. If this happens you can refresh the page."
   ]
  },
  {
   "cell_type": "code",
   "execution_count": null,
   "id": "33bc2981-628a-400c-b36f-f79980e6de09",
   "metadata": {},
   "outputs": [],
   "source": [
    "#$ docker run -d --name colleague_project my_project"
   ]
  },
  {
   "cell_type": "markdown",
   "id": "a96c648b-c84f-4276-a357-f31568c6f881",
   "metadata": {},
   "source": [
    "### Instructions 2/3\n",
    "    - The container should be running now. Make sure it is by filtering the running containers using the name colleague_project you gave the container."
   ]
  },
  {
   "cell_type": "code",
   "execution_count": null,
   "id": "b2d2936a-8cdf-47cb-baf7-f6337fdf8275",
   "metadata": {},
   "outputs": [],
   "source": [
    "#$ docker ps -f \"name=colleague_project\""
   ]
  },
  {
   "cell_type": "markdown",
   "id": "5643bc38-e8a3-45c8-b329-f10128ec3ba8",
   "metadata": {},
   "source": [
    "### Instructions 3/3\n",
    "    - Now that you're sure the container is running look at the logs using the container's name, colleague_project."
   ]
  },
  {
   "cell_type": "code",
   "execution_count": null,
   "id": "18cbb9c9-f5ec-4abb-93ae-eaba6ba1ce3d",
   "metadata": {},
   "outputs": [],
   "source": [
    "#$ docker logs colleague_project"
   ]
  },
  {
   "cell_type": "markdown",
   "id": "0a87694f-13b2-4d13-9d7c-1488bb459e1e",
   "metadata": {},
   "source": [
    "## Cleaning up containers\n",
    "\n",
    "You were able to find the issue with your colleague's container and help him fix it. Before you return to your project, you want to clean up the container you just started to help your colleague.\n",
    "\n",
    "### Instructions 1/2\n",
    "    - Using the terminal, enter the command to stop the colleague_project container."
   ]
  },
  {
   "cell_type": "code",
   "execution_count": null,
   "id": "5a7e89aa-5156-448f-b398-b80e0b491319",
   "metadata": {},
   "outputs": [],
   "source": [
    "#$ "
   ]
  },
  {
   "cell_type": "markdown",
   "id": "deef90bd-2351-474e-a049-2b3fd0feffeb",
   "metadata": {},
   "source": [
    "### Instructions 2/2\n",
    "    - Now that the container is stopped use the terminal to remove the container."
   ]
  },
  {
   "cell_type": "code",
   "execution_count": null,
   "id": "867ce3a2-fef7-4525-87b6-8aaf940a56f9",
   "metadata": {},
   "outputs": [],
   "source": []
  }
 ],
 "metadata": {
  "kernelspec": {
   "display_name": "Python 3 (ipykernel)",
   "language": "python",
   "name": "python3"
  },
  "language_info": {
   "codemirror_mode": {
    "name": "ipython",
    "version": 3
   },
   "file_extension": ".py",
   "mimetype": "text/x-python",
   "name": "python",
   "nbconvert_exporter": "python",
   "pygments_lexer": "ipython3",
   "version": "3.11.6"
  }
 },
 "nbformat": 4,
 "nbformat_minor": 5
}
