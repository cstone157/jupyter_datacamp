{
 "cells": [
  {
   "cell_type": "markdown",
   "id": "98371185-c47b-479a-9cce-0d5113659371",
   "metadata": {},
   "source": [
    "## Running your first container\n",
    "\n",
    "Now that you know how to start and stop containers, look at running containers, and much more, let's get your hands dirty! We'll start off by just running a container that outputs some text so we can see that it successfully ran. In other words, it's your turn to run a hello-world container!\n",
    "\n",
    "### Instructions\n",
    "    - Using the terminal, enter the command to run the hello-world image."
   ]
  },
  {
   "cell_type": "code",
   "execution_count": 1,
   "id": "31f97576-26e1-4c47-a6bb-da5481733ceb",
   "metadata": {},
   "outputs": [],
   "source": [
    "#$ docker run hello-world"
   ]
  },
  {
   "cell_type": "markdown",
   "id": "adb7c561-297b-462b-a6a5-57e2848d8ac2",
   "metadata": {},
   "source": [
    "## Running a container in the background\n",
    "\n",
    "You got some projects set up already on your machine, but an urgent request has come in to fix a bug in your data ingestion pipeline. The pipeline is used to store data from different sources into a Postgres database. To search for the issue, you want to set up the project locally together with a Postgres database in a Docker container to ensure that fixing this bug doesn't affect anything else you are working on.\n",
    "\n",
    "### Instructions 1/2\n",
    "    - Using the terminal, enter the command to run the postgres image in the background."
   ]
  },
  {
   "cell_type": "code",
   "execution_count": null,
   "id": "1e83f63b-aa6d-4ffa-a195-cab1ca5a98ab",
   "metadata": {},
   "outputs": [],
   "source": [
    "#$ docker run -d postgres"
   ]
  },
  {
   "cell_type": "markdown",
   "id": "f3e168a0-884d-470e-8c75-5a4cf1317271",
   "metadata": {},
   "source": [
    "### Instructions 2/2\n",
    "    - Make sure the container is running by listing all containers and verifying that you see a Postgres container running."
   ]
  },
  {
   "cell_type": "code",
   "execution_count": 2,
   "id": "2d53c592-1fd4-4eb8-838a-f59e99c08ba6",
   "metadata": {},
   "outputs": [],
   "source": [
    "#$ docker ps"
   ]
  },
  {
   "cell_type": "code",
   "execution_count": null,
   "id": "57229eab-b500-4ec3-827b-ffe319d4715f",
   "metadata": {},
   "outputs": [],
   "source": []
  },
  {
   "cell_type": "code",
   "execution_count": null,
   "id": "33bc2981-628a-400c-b36f-f79980e6de09",
   "metadata": {},
   "outputs": [],
   "source": []
  }
 ],
 "metadata": {
  "kernelspec": {
   "display_name": "Python 3 (ipykernel)",
   "language": "python",
   "name": "python3"
  },
  "language_info": {
   "codemirror_mode": {
    "name": "ipython",
    "version": 3
   },
   "file_extension": ".py",
   "mimetype": "text/x-python",
   "name": "python",
   "nbconvert_exporter": "python",
   "pygments_lexer": "ipython3",
   "version": "3.11.6"
  }
 },
 "nbformat": 4,
 "nbformat_minor": 5
}
