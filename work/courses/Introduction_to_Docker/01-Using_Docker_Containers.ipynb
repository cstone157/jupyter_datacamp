{
 "cells": [
  {
   "cell_type": "markdown",
   "id": "98371185-c47b-479a-9cce-0d5113659371",
   "metadata": {},
   "source": [
    "## Running your first container\n",
    "\n",
    "Now that you know how to start and stop containers, look at running containers, and much more, let's get your hands dirty! We'll start off by just running a container that outputs some text so we can see that it successfully ran. In other words, it's your turn to run a hello-world container!\n",
    "\n",
    "### Instructions\n",
    "    - Using the terminal, enter the command to run the hello-world image."
   ]
  },
  {
   "cell_type": "code",
   "execution_count": 1,
   "id": "31f97576-26e1-4c47-a6bb-da5481733ceb",
   "metadata": {},
   "outputs": [],
   "source": [
    "#$ docker run hello-world"
   ]
  },
  {
   "cell_type": "markdown",
   "id": "adb7c561-297b-462b-a6a5-57e2848d8ac2",
   "metadata": {},
   "source": [
    "## Running a container in the background\n",
    "\n",
    "You got some projects set up already on your machine, but an urgent request has come in to fix a bug in your data ingestion pipeline. The pipeline is used to store data from different sources into a Postgres database. To search for the issue, you want to set up the project locally together with a Postgres database in a Docker container to ensure that fixing this bug doesn't affect anything else you are working on.\n",
    "\n",
    "### Instructions 1/2\n",
    "    - Using the terminal, enter the command to run the postgres image in the background."
   ]
  },
  {
   "cell_type": "code",
   "execution_count": null,
   "id": "1e83f63b-aa6d-4ffa-a195-cab1ca5a98ab",
   "metadata": {},
   "outputs": [],
   "source": [
    "#$ docker run -d postgres"
   ]
  },
  {
   "cell_type": "markdown",
   "id": "f3e168a0-884d-470e-8c75-5a4cf1317271",
   "metadata": {},
   "source": [
    "### Instructions 2/2\n",
    "    - Make sure the container is running by listing all containers and verifying that you see a Postgres container running."
   ]
  },
  {
   "cell_type": "code",
   "execution_count": 2,
   "id": "2d53c592-1fd4-4eb8-838a-f59e99c08ba6",
   "metadata": {},
   "outputs": [],
   "source": [
    "#$ docker ps"
   ]
  },
  {
   "cell_type": "markdown",
   "id": "6a5e1965-dbae-4c87-a98c-e71d1d961d2a",
   "metadata": {},
   "source": [
    "## Helping a colleague\n",
    "\n",
    "You're working on a project of your own and have quite a few containers running when your colleague asks you to debug an issue he's having. You've got some time to help your colleague, but you want to make sure you can find his container among all the ones you already have running.\n",
    "\n",
    "### Instructions 1/3\n",
    "    - Using the terminal, enter the command to run the my_project image detached from your shell while giving it the colleague_project name.\n",
    "    - To run an image in detached mode use the -d flag, without using this flag the image will run connected to your shell making it unusable. If this happens you can refresh the page."
   ]
  },
  {
   "cell_type": "code",
   "execution_count": null,
   "id": "33bc2981-628a-400c-b36f-f79980e6de09",
   "metadata": {},
   "outputs": [],
   "source": [
    "#$ docker run -d --name colleague_project my_project"
   ]
  },
  {
   "cell_type": "markdown",
   "id": "a96c648b-c84f-4276-a357-f31568c6f881",
   "metadata": {},
   "source": [
    "### Instructions 2/3\n",
    "    - The container should be running now. Make sure it is by filtering the running containers using the name colleague_project you gave the container."
   ]
  },
  {
   "cell_type": "code",
   "execution_count": null,
   "id": "b2d2936a-8cdf-47cb-baf7-f6337fdf8275",
   "metadata": {},
   "outputs": [],
   "source": [
    "#$ docker ps -f \"name=colleague_project\""
   ]
  },
  {
   "cell_type": "markdown",
   "id": "5643bc38-e8a3-45c8-b329-f10128ec3ba8",
   "metadata": {},
   "source": [
    "### Instructions 3/3\n",
    "    - Now that you're sure the container is running look at the logs using the container's name, colleague_project."
   ]
  },
  {
   "cell_type": "code",
   "execution_count": null,
   "id": "18cbb9c9-f5ec-4abb-93ae-eaba6ba1ce3d",
   "metadata": {},
   "outputs": [],
   "source": [
    "#$ docker logs colleague_project"
   ]
  },
  {
   "cell_type": "markdown",
   "id": "0a87694f-13b2-4d13-9d7c-1488bb459e1e",
   "metadata": {},
   "source": [
    "## Cleaning up containers\n",
    "\n",
    "You were able to find the issue with your colleague's container and help him fix it. Before you return to your project, you want to clean up the container you just started to help your colleague.\n",
    "\n",
    "### Instructions 1/2\n",
    "    - Using the terminal, enter the command to stop the colleague_project container."
   ]
  },
  {
   "cell_type": "code",
   "execution_count": null,
   "id": "5a7e89aa-5156-448f-b398-b80e0b491319",
   "metadata": {},
   "outputs": [],
   "source": [
    "#$ docker stop colleague_project"
   ]
  },
  {
   "cell_type": "markdown",
   "id": "deef90bd-2351-474e-a049-2b3fd0feffeb",
   "metadata": {},
   "source": [
    "### Instructions 2/2\n",
    "    - Now that the container is stopped use the terminal to remove the container."
   ]
  },
  {
   "cell_type": "code",
   "execution_count": null,
   "id": "867ce3a2-fef7-4525-87b6-8aaf940a56f9",
   "metadata": {},
   "outputs": [],
   "source": [
    "#$ docker container rm colleague_project"
   ]
  },
  {
   "cell_type": "markdown",
   "id": "fb0d32c7-4dc2-4d21-80b0-e91d8a9d532f",
   "metadata": {},
   "source": [
    "## Pulling your first image\n",
    "\n",
    "Let's get some practice working with images. To start, we've removed the hello-world image from your session. Make it accessible locally again by downloading it from docker-hub.\n",
    "\n",
    "### Instructions\n",
    "    - Using the terminal, enter the command to download the hello-world container."
   ]
  },
  {
   "cell_type": "code",
   "execution_count": 3,
   "id": "fbfb755d-751c-4107-b450-a44ce39bf9e0",
   "metadata": {},
   "outputs": [],
   "source": [
    "#$ docker pull hello-world"
   ]
  },
  {
   "cell_type": "markdown",
   "id": "951db2b4-4f99-40c2-a095-0b9922b23055",
   "metadata": {},
   "source": [
    "## Pulling a specific tag\n",
    "\n",
    "You were helping a colleague by looking at an issue they were having with installing some of their tools on the ubuntu image. You couldn't reproduce the issues so far, and just realized you might be trying on a different version of Ubuntu.\n",
    "\n",
    "### Instructions 1/2\n",
    "    - Using the terminal, enter the command to see all images available on your machine."
   ]
  },
  {
   "cell_type": "code",
   "execution_count": null,
   "id": "68042272-d752-48f6-8984-2a796a04a446",
   "metadata": {},
   "outputs": [],
   "source": [
    "#$ docker image ls"
   ]
  },
  {
   "cell_type": "markdown",
   "id": "b41e49d0-2912-4a8f-9fc1-ebb53c2a49e2",
   "metadata": {},
   "source": [
    "### Instructions 2/2\n",
    "    - Seems like you are not using the same version as your colleague, who is using the 22.04 tag of ubuntu. Pull the right version, 22.04, of the ubuntu image"
   ]
  },
  {
   "cell_type": "code",
   "execution_count": null,
   "id": "6c010b33-c321-4220-8e9c-7aaabad1cb57",
   "metadata": {},
   "outputs": [],
   "source": [
    "#$ docker pull ubuntu:22.04"
   ]
  },
  {
   "cell_type": "markdown",
   "id": "5a1258bf-b215-4bf9-b2fa-cda93e2edb91",
   "metadata": {},
   "source": [
    "## Cleaning up images\n",
    "\n",
    "The project you were working on is done. You had to use and try several docker containers and images and would like to clear up some space on your system before starting your next project. You remember using the ubuntu image last and know you won't need it for your next project.\n",
    "\n",
    "### Instructions 1/3\n",
    "    - Using the terminal, enter the command to remove the ubuntu image."
   ]
  },
  {
   "cell_type": "code",
   "execution_count": null,
   "id": "719f2eac-44e3-4229-bae2-eb49bf27abbd",
   "metadata": {},
   "outputs": [],
   "source": [
    "#$ docker image rm ubuntu"
   ]
  },
  {
   "cell_type": "markdown",
   "id": "3504d811-20cd-4df9-9b67-adb179150b67",
   "metadata": {},
   "source": [
    "### Instructions 2/3\n",
    "    - The ubuntu image failed to remove since it still has a container using it. To be sure you can clean up your images, remove all stopped containers."
   ]
  },
  {
   "cell_type": "code",
   "execution_count": null,
   "id": "f2050e75-c32d-4e1b-902e-2e559b6dc5fc",
   "metadata": {},
   "outputs": [],
   "source": [
    "#$ docker container prune"
   ]
  },
  {
   "cell_type": "markdown",
   "id": "f2496239-de0b-411c-8085-98cc7d6efa44",
   "metadata": {},
   "source": [
    "### Instructions 3/3\n",
    "    - Now that all stopped containers are removed, also remove all unused images."
   ]
  },
  {
   "cell_type": "code",
   "execution_count": null,
   "id": "d87fa39f-8979-4c6a-8e25-bb5ea5940d4e",
   "metadata": {},
   "outputs": [],
   "source": [
    "#$ docker image prune -a"
   ]
  }
 ],
 "metadata": {
  "kernelspec": {
   "display_name": "Python 3 (ipykernel)",
   "language": "python",
   "name": "python3"
  },
  "language_info": {
   "codemirror_mode": {
    "name": "ipython",
    "version": 3
   },
   "file_extension": ".py",
   "mimetype": "text/x-python",
   "name": "python",
   "nbconvert_exporter": "python",
   "pygments_lexer": "ipython3",
   "version": "3.11.6"
  }
 },
 "nbformat": 4,
 "nbformat_minor": 5
}
