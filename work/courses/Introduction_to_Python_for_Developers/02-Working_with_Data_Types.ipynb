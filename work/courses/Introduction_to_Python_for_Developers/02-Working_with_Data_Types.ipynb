{
 "cells": [
  {
   "cell_type": "markdown",
   "id": "0bd545ee-b00c-477c-adb0-9e1751913f38",
   "metadata": {},
   "source": [
    "## Multi-line strings\n",
    "\n",
    "You have a friend who works at an e-learning company called LLM Camp, where they teach people how to work with large language models (LLMS).\n",
    "\n",
    "They want to use Python to store their user reviews and you've volunteered to help set this up! They've provided two of their most recent reviews:\n",
    "\n",
    "### review_one\n",
    "- I really enjoy the courses,\n",
    "- and they are easy to fit into my busy schedule. \n",
    "- I wish I had started using your platform sooner.\n",
    "- I'll be recommending you to my friends!!\n",
    "\n",
    "### review_two\n",
    "- One year ago, I was unsure of how to make progress in my career. \n",
    "- Now, I work as a Prompt Engineer, and I can't thank you enough! \n",
    "- Keep up the great work.\n",
    "\n",
    "### Instructions\n",
    "    - Store the first review as a multi-line string variable called review_one.\n",
    "    - Store the second review as a multi-line string variable called review_two.\n",
    "    - Print review_one then print review_two."
   ]
  },
  {
   "cell_type": "code",
   "execution_count": 1,
   "id": "cfee4487-5fd7-47a2-82bd-929f64038dc4",
   "metadata": {},
   "outputs": [
    {
     "name": "stdout",
     "output_type": "stream",
     "text": [
      "I really enjoy the courses,\n",
      "and they are easy to fit into my busy schedule. \n",
      "I wish I had started using your platform sooner.\n",
      "I'll be recommending you to my friends!!\n",
      "One year ago, I was unsure of how to make progress in my career. \n",
      "Now, I work as a Prompt Engineer, and I can't thank you enough! \n",
      "Keep up the great work.\n"
     ]
    }
   ],
   "source": [
    "# Create review_one\n",
    "review_one = \"\"\"I really enjoy the courses,\n",
    "and they are easy to fit into my busy schedule. \n",
    "I wish I had started using your platform sooner.\n",
    "I'll be recommending you to my friends!!\"\"\"\n",
    "\n",
    "# Create review_two\n",
    "review_two = \"\"\"One year ago, I was unsure of how to make progress in my career. \n",
    "Now, I work as a Prompt Engineer, and I can't thank you enough! \n",
    "Keep up the great work.\"\"\"\n",
    "\n",
    "# Print the two reviews individually\n",
    "print(review_one)\n",
    "print(review_two)"
   ]
  },
  {
   "cell_type": "markdown",
   "id": "90633f63-ac97-4c46-b2a2-c551017f4529",
   "metadata": {},
   "source": [
    "## Modifying string variables\n",
    "\n",
    "You did so well working with LLM Camp's reviews that they've asked for your help again.\n",
    "\n",
    "They have a variable called most_popular_course, which contains the name of their highest-ranked course. It has been provided in script.py so you can see its contents. However, there are issues with it:\n",
    "\n",
    "    - There's a typo. It should be \"Introduction\" rather than \"Intro\".\n",
    "    - They want to remove spaces and use underscores to make it easier to analyze.\n",
    "    - For consistency, they want all characters to be lowercase.\n",
    "\n",
    "They'd like your support in making these changes!\n",
    "\n",
    "### Instructions 1/3\n",
    "    - Update the variable so that \"Intro\" now reads \"Introduction\"."
   ]
  },
  {
   "cell_type": "code",
   "execution_count": 2,
   "id": "7bb49450-1330-4600-bbd8-2773fe05478b",
   "metadata": {},
   "outputs": [
    {
     "name": "stdout",
     "output_type": "stream",
     "text": [
      "Introduction to Embeddings with the OpenAI API\n"
     ]
    }
   ],
   "source": [
    "most_popular_course = \"Intro to Embeddings with the OpenAI API\"\n",
    "\n",
    "# Update the first word\n",
    "most_popular_course = most_popular_course.replace(\"Intro\", \"Introduction\")\n",
    "\n",
    "print(most_popular_course)"
   ]
  },
  {
   "cell_type": "markdown",
   "id": "0ceda9a7-0559-4b22-9293-0647c36c6f87",
   "metadata": {},
   "source": [
    "### Instructions 2/3\n",
    "    - Swap spaces to underscores throughout the string contained in most_popular_course."
   ]
  },
  {
   "cell_type": "code",
   "execution_count": 3,
   "id": "792bee06-63cd-476f-bae8-22b44304da68",
   "metadata": {},
   "outputs": [
    {
     "name": "stdout",
     "output_type": "stream",
     "text": [
      "Introduction_to_Embeddings_with_the_OpenAI_API\n"
     ]
    }
   ],
   "source": [
    "most_popular_course = \"Intro to Embeddings with the OpenAI API\"\n",
    "\n",
    "# Update the first word\n",
    "most_popular_course = most_popular_course.replace(\"Intro\", \"Introduction\")\n",
    "\n",
    "# Swap spaces for underscores\n",
    "most_popular_course = most_popular_course.replace(\" \", \"_\")\n",
    "\n",
    "print(most_popular_course)"
   ]
  },
  {
   "cell_type": "markdown",
   "id": "7ab97ccf-9fe8-45cd-b619-2d8bd77fd274",
   "metadata": {},
   "source": [
    "### Instructions 3/3\n",
    "    - Update most_popular_course so that it only contains lowercase characters."
   ]
  },
  {
   "cell_type": "code",
   "execution_count": 4,
   "id": "556da959-bf3c-4c71-a3a1-060768c4508e",
   "metadata": {},
   "outputs": [
    {
     "name": "stdout",
     "output_type": "stream",
     "text": [
      "introduction_to_embeddings_with_the_openai_api\n"
     ]
    }
   ],
   "source": [
    "most_popular_course = \"Intro to Embeddings with the OpenAI API\"\n",
    "\n",
    "# Update the first word\n",
    "most_popular_course = most_popular_course.replace(\"Intro\", \"Introduction\")\n",
    "\n",
    "# Swap spaces for underscores\n",
    "most_popular_course = most_popular_course.replace(\" \", \"_\")\n",
    "\n",
    "# Change to lowercase\n",
    "most_popular_course = most_popular_course.lower()\n",
    "\n",
    "print(most_popular_course)"
   ]
  },
  {
   "cell_type": "markdown",
   "id": "d0f60d9b-34c2-4069-9439-1923179b806a",
   "metadata": {},
   "source": [
    "## Building a party playlist\n",
    "\n",
    "You're planning a party and want to build a playlist containing songs and the order in which they should be played.\n",
    "\n",
    "You decide this is a great opportunity to build a list in Python! In this exercise, you will create your playlist variable and add the first three songs.\n",
    "\n",
    "### Instructions\n",
    "    - Create a list variable called playlist, containing the following numeric and string values (in order):\n",
    "    - 1, \"Blinding Lights\", 2, \"One Dance\", 3, \"Uptown Funk\".\n",
    "    - Print the list."
   ]
  },
  {
   "cell_type": "code",
   "execution_count": 5,
   "id": "f6047c90-aeac-4ee9-b1ec-1cde5dc1e974",
   "metadata": {},
   "outputs": [
    {
     "name": "stdout",
     "output_type": "stream",
     "text": [
      "(1, 'Blinding Lights', 2, 'One Dance', 3, 'Uptown Funk')\n"
     ]
    }
   ],
   "source": [
    "# Create the playlist variable\n",
    "playlist = (1, \"Blinding Lights\", 2, \"One Dance\", 3, \"Uptown Funk\")\n",
    "\n",
    "# Print the list\n",
    "print(playlist)"
   ]
  },
  {
   "cell_type": "markdown",
   "id": "6016277f-5cc5-4dab-b60e-2f40b246c75c",
   "metadata": {},
   "source": [
    "## Subsetting lists\n",
    "\n",
    "You've expanded your playlist. It still contains the song order and song names, but now you've also added the artist name for each song, as well as some additional songs!\n",
    "\n",
    "It repeats the same order throughout the list - 1) song number, 2) song name, 3) artist name, repeat.\n",
    "\n",
    "The new playlist has been printed in the IPython Shell for your reference.\n",
    "\n",
    "This is a great opportunity for you to practice extracting specific information from your list.\n",
    "\n",
    "### Instructions 1/3\n",
    "    - Find the name of the second song, which is the fifth element, in the playlist, and print the value."
   ]
  },
  {
   "cell_type": "code",
   "execution_count": 7,
   "id": "07e88569-c111-4654-b184-842dacd5f3e9",
   "metadata": {},
   "outputs": [],
   "source": [
    "playlist = [1, 'Blinding Lights', 'The Weeknd', 2, 'One Dance', 'Drake', 3, 'Uptown Funk', 'Mark Ronson', 4, 'Closer', 'The Chainsmokers', 5, 'One Kiss', 'Calvin Harris', 6, 'Mr. Brightside', 'The Killers']"
   ]
  },
  {
   "cell_type": "code",
   "execution_count": 8,
   "id": "5274c9ad-6dd2-4e62-8bf8-70ef92742a08",
   "metadata": {},
   "outputs": [
    {
     "name": "stdout",
     "output_type": "stream",
     "text": [
      "One Dance\n"
     ]
    }
   ],
   "source": [
    "# Find the second song\n",
    "print(playlist[4])"
   ]
  },
  {
   "cell_type": "markdown",
   "id": "b4f4341d-a151-44fd-9f6d-543b7ef057b2",
   "metadata": {},
   "source": [
    "### Instructions 2/3\n",
    "    - Print the name of the artist for the final song in the playlist."
   ]
  },
  {
   "cell_type": "code",
   "execution_count": 9,
   "id": "91a872ce-eced-4de5-9570-c44ead063c46",
   "metadata": {},
   "outputs": [
    {
     "name": "stdout",
     "output_type": "stream",
     "text": [
      "The Killers\n"
     ]
    }
   ],
   "source": [
    "# Get the last song's artist\n",
    "print(playlist[-1])"
   ]
  },
  {
   "cell_type": "markdown",
   "id": "224fef09-0506-426b-89a0-a6350a61ef2b",
   "metadata": {},
   "source": [
    "### Instructions 3/3\n",
    "    - Print every song name in the playlist."
   ]
  },
  {
   "cell_type": "code",
   "execution_count": 10,
   "id": "f32528c1-aef1-4abc-93b7-9e28de58fadd",
   "metadata": {},
   "outputs": [
    {
     "name": "stdout",
     "output_type": "stream",
     "text": [
      "['Blinding Lights', 'One Dance', 'Uptown Funk', 'Closer', 'One Kiss', 'Mr. Brightside']\n"
     ]
    }
   ],
   "source": [
    "# Print all songs in the playlist\n",
    "print(playlist[1::3])"
   ]
  },
  {
   "cell_type": "markdown",
   "id": "c470cd4d-f77b-4d1c-8f5b-3e57af50c8db",
   "metadata": {},
   "source": [
    "## Building a playlist dictionary\n",
    "\n",
    "With your new-found knowledge of dictionaries, you decide to translate your playlist from a list into a dictionary! As a reminder, this is the contents of playlist:\n",
    "\n",
    "[1, \"Blinding Lights\", \"The Weeknd\", 2, \"One Dance\", \"Drake\", \n",
    " 3, \"Uptown Funk\", \"Mark Ronson\", 4, \"Closer\", \"The Chainsmokers\",\n",
    " 5, \"One Kiss\", \"Calvin Harris\", 6, \"Mr. Brightside\", \"The Killers\"]\n",
    "\n",
    "The song names start at the second index \"Blinding Lights\" and make up every third value afterward.\n",
    "\n",
    "Artist names start at the third index \"The Weeknd\" and also make up every third value afterward.\n",
    "\n",
    "### Instructions\n",
    "    - Create a dictionary called playlist containing the first two songs, in that order, with artist names as keys and their respective songs as values.\n",
    "    - Print the dictionary."
   ]
  },
  {
   "cell_type": "code",
   "execution_count": 11,
   "id": "662f43db-2cf2-4130-b14a-bb5f0cfdf5d2",
   "metadata": {},
   "outputs": [
    {
     "name": "stdout",
     "output_type": "stream",
     "text": [
      "{'The Weeknd': 'Blinding Lights', 'Drake': 'One Dance'}\n"
     ]
    }
   ],
   "source": [
    "# Create the playlist dictionary\n",
    "playlist = {\"The Weeknd\": \"Blinding Lights\", \"Drake\": \"One Dance\"}\n",
    "\n",
    "# Print the playlist\n",
    "print(playlist)"
   ]
  },
  {
   "cell_type": "markdown",
   "id": "2635999e-ef7e-4484-b48c-bfef77d1b681",
   "metadata": {},
   "source": [
    "## Working with dictionaries\n",
    "\n",
    "You've been busy, adding more artists and songs to your playlist dictionary in preparation for the party!\n",
    "\n",
    "As a reminder, it contains artist names as keys and song names as values.\n",
    "\n",
    "In this exercise, you'll access parts of the dictionary as well as adding a new artist and song.\n",
    "\n",
    "### Instructions\n",
    "    - Print the name of the song in the playlist that is by the artist \"Coldplay\".\n",
    "    - Add a new key-value pair to the playlist, where the key is \"Usher\" and the value is \"Yeah!\".\n",
    "    - Print only the songs in the playlist."
   ]
  },
  {
   "cell_type": "code",
   "execution_count": 12,
   "id": "7bd31bbf-72bf-49cd-ad64-259054f43423",
   "metadata": {},
   "outputs": [],
   "source": [
    "playlist = {'The Weeknd': 'Blinding Lights', 'Drake': 'One Dance', 'Mark Ronson': 'Uptown Funk', 'The Chainsmokers': 'Closer',\n",
    " 'Calvin Harris': 'One Kiss', 'The Killers': 'Mr. Brightside', 'Oasis': 'Wonderwall', 'Rihanna': 'We Found Love', 'Coldplay': 'Paradise'}"
   ]
  },
  {
   "cell_type": "code",
   "execution_count": 13,
   "id": "f9a8218c-f42e-422e-8489-d0df3355e16d",
   "metadata": {},
   "outputs": [
    {
     "name": "stdout",
     "output_type": "stream",
     "text": [
      "Paradise\n",
      "dict_values(['Blinding Lights', 'One Dance', 'Uptown Funk', 'Closer', 'One Kiss', 'Mr. Brightside', 'Wonderwall', 'We Found Love', 'Paradise', 'Yeah!'])\n"
     ]
    }
   ],
   "source": [
    "# Print the song by Coldplay\n",
    "print(playlist[\"Coldplay\"])\n",
    "\n",
    "# Add a new song\n",
    "playlist[\"Usher\"] = \"Yeah!\"\n",
    "\n",
    "# Print the songs in the playlist\n",
    "print(playlist.values())"
   ]
  },
  {
   "cell_type": "markdown",
   "id": "df50572c-9c49-44b9-9301-9c91f37de549",
   "metadata": {},
   "source": [
    "## Last quarter's revenue\n",
    "\n",
    "Your friend at LLM Camp has finalized the financial performance for the last quarter and would like you to store this information in a format that cannot be modified. It will contain their revenue, new customer acquisitions, and cash position.\n",
    "\n",
    "You've decided to make a tuple containing this information.\n",
    "\n",
    "### Instructions\n",
    "    - Create a tuple called q3_financials containing the following values: 325780, 1041, and 4271599.\n",
    "    - Print the tuple."
   ]
  },
  {
   "cell_type": "code",
   "execution_count": 14,
   "id": "b7eab1a9-7406-4b32-aa7b-54e1c3e0d5c3",
   "metadata": {},
   "outputs": [
    {
     "name": "stdout",
     "output_type": "stream",
     "text": [
      "(325780, 1041, 4271599)\n"
     ]
    }
   ],
   "source": [
    "# Create a tuple\n",
    "q3_financials = (325780, 1041, 4271599)\n",
    "\n",
    "# Print the tuple\n",
    "print(q3_financials)"
   ]
  },
  {
   "cell_type": "markdown",
   "id": "04ff4bdd-962a-43c7-84db-0c11c9a6068d",
   "metadata": {},
   "source": [
    "## DJ Sets\n",
    "\n",
    "To practice working with data structures, you decide to split up the music artists in your playlist by genre, allowing you to create sets for each genre.\n",
    "\n",
    "In this exercise, you'll create a set to hold indie artists as well as convert a list of hip-hop artists into a set.\n",
    "\n",
    "### Instructions 1/3\n",
    "    - Create a set called indie_set containing \"Kings of Leon\", \"Arctic Monkeys\", and \"Stereophonics\"."
   ]
  },
  {
   "cell_type": "code",
   "execution_count": 15,
   "id": "d2c2245a-1775-4790-95d8-0f0ac4f6d8b5",
   "metadata": {},
   "outputs": [],
   "source": [
    "hip_hop = [\"Drake\", \"JAY-Z\", \"50 Cent\", \"Drake\"]\n",
    "\n",
    "# Create a set\n",
    "indie_set = {\"Kings of Leon\", \"Arctic Monkeys\", \"Stereophonics\"}"
   ]
  },
  {
   "cell_type": "markdown",
   "id": "17fcbac3-1dd3-4c00-8b0a-d372ff9fb2fc",
   "metadata": {},
   "source": [
    "### Instructions 2/3\n",
    "    - Convert the hip_hop list into a set, saving it as a new variable called hip_hop_set."
   ]
  },
  {
   "cell_type": "code",
   "execution_count": 16,
   "id": "c9a14bd3-5464-4669-8aba-f47061cb65d6",
   "metadata": {},
   "outputs": [],
   "source": [
    "hip_hop = [\"Drake\", \"JAY-Z\", \"50 Cent\", \"Drake\"]\n",
    "\n",
    "# Create a set\n",
    "indie_set = {\"Kings of Leon\", \"MGMT\", \"Stereophonics\"}\n",
    "\n",
    "# Convert hip_hop to a set\n",
    "hip_hop_set = set(hip_hop)"
   ]
  },
  {
   "cell_type": "markdown",
   "id": "1a3eb484-99e7-4197-8888-7e7b17fc704c",
   "metadata": {},
   "source": [
    "### Instructions 3/3\n",
    "    - Print the indie_set and hip_hop_set set variables."
   ]
  },
  {
   "cell_type": "code",
   "execution_count": 17,
   "id": "2ba4eba7-2f5c-4b86-a6ee-eb461eab57a0",
   "metadata": {},
   "outputs": [
    {
     "name": "stdout",
     "output_type": "stream",
     "text": [
      "{'Stereophonics', 'Kings of Leon', 'MGMT'} {'JAY-Z', 'Drake', '50 Cent'}\n"
     ]
    }
   ],
   "source": [
    "hip_hop = [\"Drake\", \"JAY-Z\", \"50 Cent\", \"Drake\"]\n",
    "\n",
    "# Create a set\n",
    "indie_set = {\"Kings of Leon\", \"MGMT\", \"Stereophonics\"}\n",
    "\n",
    "# Convert hip_hop to a set\n",
    "hip_hop_set = set(hip_hop)\n",
    "\n",
    "# Print the indie and hip_hop sets\n",
    "print(indie_set, hip_hop_set)"
   ]
  },
  {
   "cell_type": "code",
   "execution_count": null,
   "id": "6f867e1b-8a61-40da-a638-3aee7dd2e4c2",
   "metadata": {},
   "outputs": [],
   "source": []
  }
 ],
 "metadata": {
  "kernelspec": {
   "display_name": "Python 3 (ipykernel)",
   "language": "python",
   "name": "python3"
  },
  "language_info": {
   "codemirror_mode": {
    "name": "ipython",
    "version": 3
   },
   "file_extension": ".py",
   "mimetype": "text/x-python",
   "name": "python",
   "nbconvert_exporter": "python",
   "pygments_lexer": "ipython3",
   "version": "3.11.6"
  }
 },
 "nbformat": 4,
 "nbformat_minor": 5
}
