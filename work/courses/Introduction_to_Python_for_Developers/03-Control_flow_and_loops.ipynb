{
 "cells": [
  {
   "cell_type": "markdown",
   "id": "f74e4ce4-d1f5-40ef-a1f2-94a86acce531",
   "metadata": {},
   "source": [
    "## Checking inflation\n",
    "\n",
    "You've been asked to support the UK Government in analyzing their inflation statistics.\n",
    "\n",
    "They've supplied you with data for September and August 2023 stored as two float variables, inflation_september and inflation_august respectively.\n",
    "\n",
    "You'll need to build a workflow that compares these statistics.\n",
    "\n",
    "### Instructions 1/3\n",
    "    - Check if inflation_september is less than inflation_august, printing \"Inflation decreased\" if this is the case."
   ]
  },
  {
   "cell_type": "code",
   "execution_count": 1,
   "id": "187fe5c1-78da-4953-b97f-f165a0e4596f",
   "metadata": {},
   "outputs": [],
   "source": [
    "inflation_september = 6.7\n",
    "inflation_august = 6.7"
   ]
  },
  {
   "cell_type": "code",
   "execution_count": 2,
   "id": "7e702295-98bf-4f1c-bf65-fac37af219f2",
   "metadata": {},
   "outputs": [],
   "source": [
    "# Check if September inflation is less than August inflation\n",
    "if inflation_september < inflation_august:\n",
    "\tprint(\"Inflation decreased\")"
   ]
  },
  {
   "cell_type": "markdown",
   "id": "32433f9a-a9f0-4db4-876d-65711f6e5da4",
   "metadata": {},
   "source": [
    "### Instructions 2/3\n",
    "    - Else, check if inflation_september is more than inflation_august, printing \"Inflation increased\" if true."
   ]
  },
  {
   "cell_type": "code",
   "execution_count": 3,
   "id": "accad910-d1d7-4f28-b1ee-5a600a10a20a",
   "metadata": {},
   "outputs": [],
   "source": [
    "# Check if September inflation is less than August inflation\n",
    "if inflation_september < inflation_august:\n",
    "  print(\"Inflation decreased\")\n",
    "\n",
    "# Check if September inflation is more than August inflation\n",
    "elif inflation_september > inflation_august:\n",
    "  print(\"Inflation increased\")"
   ]
  },
  {
   "cell_type": "markdown",
   "id": "7b310638-3e42-46b8-bbce-5df22b245f13",
   "metadata": {},
   "source": [
    "### Instructions 3/3\n",
    "    - Otherwise, print \"Inflation remained stable\"."
   ]
  },
  {
   "cell_type": "code",
   "execution_count": 4,
   "id": "70053ee2-4616-47af-b892-fbd3f48a2387",
   "metadata": {},
   "outputs": [
    {
     "name": "stdout",
     "output_type": "stream",
     "text": [
      "Inflation remained stable\n"
     ]
    }
   ],
   "source": [
    "# Check if September inflation is less than August inflation\n",
    "if inflation_september < inflation_august:\n",
    "  print(\"Inflation decreased\")\n",
    "\n",
    "# Check if September inflation is more than August inflation\n",
    "elif inflation_september > inflation_august:\n",
    "  print(\"Inflation increased\")\n",
    "  \n",
    "# Confirm that they are equal\n",
    "else:\n",
    "  print(\"Inflation remained stable\")"
   ]
  },
  {
   "cell_type": "markdown",
   "id": "6566565a-37d7-4b86-a7d2-bc764f4fda77",
   "metadata": {},
   "source": [
    "## On the rental market\n",
    "\n",
    "You are looking to move and have defined variables containing your requirements/limits for number of bedrooms, minimum square feet (area), and maximum rent:\n",
    "\n",
    "<code>\n",
    "min_num_beds = 2\n",
    "min_sq_foot = 750\n",
    "max_rent = 1900\n",
    "</code>\n",
    "\n",
    "You've seen a property you are interested in and have stored its information in the variables num_beds, sq_foot, and rent. You will build a custom workflow to check if this potential property suits your needs.\n",
    "\n",
    "### Instructions\n",
    "    - Check if num_beds is less than min_num_beds, printing \"Insufficient bedrooms\" if this is the case.\n",
    "    - Else, check if sq_foot is less than or equal to min_sq_foot, printing \"Too small\" if this is the case.\n",
    "    - Else, check if rent is more than max_rent, printing \"Too expensive\" if this is the case.\n",
    "    - Otherwise, print \"This looks promising!\"."
   ]
  },
  {
   "cell_type": "code",
   "execution_count": 5,
   "id": "e9c3b641-5ebf-4920-af32-adf0fa928e60",
   "metadata": {},
   "outputs": [],
   "source": [
    "num_beds = 3\n",
    "min_num_beds = 2\n",
    "sq_foot = 800\n",
    "min_sq_foot = 750\n",
    "rent = 1750\n",
    "max_rent = 1900"
   ]
  },
  {
   "cell_type": "code",
   "execution_count": 6,
   "id": "61c36557-643f-4593-a26d-e1658ba9420c",
   "metadata": {},
   "outputs": [
    {
     "name": "stdout",
     "output_type": "stream",
     "text": [
      "This looks promising!\n"
     ]
    }
   ],
   "source": [
    "# Check the number of beds\n",
    "if num_beds < min_num_beds:\n",
    "  print(\"Insufficient bedrooms\")\n",
    "\n",
    "# Check square feet\n",
    "elif sq_foot <= min_sq_foot:\n",
    "  print(\"Too small\")\n",
    "  \n",
    "# Check the rent\n",
    "elif rent > max_rent:\n",
    "  print(\"Too expensive\")\n",
    "  \n",
    "# If all conditions met\n",
    "else:\n",
    "  print(\"This looks promising!\")"
   ]
  },
  {
   "cell_type": "markdown",
   "id": "35090e2e-a586-4125-be0b-faef1171a954",
   "metadata": {},
   "source": [
    "## Looping through a list\n",
    "\n",
    "Time to test your for-loop skills! In the script.py a list called user_ids has been stored, containing, you guessed it - user IDs!\n",
    "\n",
    "Your task is to loop through the list and print each ID individually.\n",
    "\n",
    "### Instructions\n",
    "    - Create a for loop to iterate over each user_id in user_ids.\n",
    "    - Within the for loop, print the user_id."
   ]
  },
  {
   "cell_type": "code",
   "execution_count": 7,
   "id": "c55f1246-309b-460d-bab5-0fca8e0f431a",
   "metadata": {},
   "outputs": [
    {
     "name": "stdout",
     "output_type": "stream",
     "text": [
      "T42YG4KTK\n",
      "VTQ39IDQ0\n",
      "CRL11YUWX\n",
      "K6Y5URXLR\n",
      "V4XCBER7V\n",
      "IOGQWC61K\n"
     ]
    }
   ],
   "source": [
    "user_ids = [\"T42YG4KTK\", \"VTQ39IDQ0\", \"CRL11YUWX\", \n",
    "            \"K6Y5URXLR\", \"V4XCBER7V\", \"IOGQWC61K\"]\n",
    "\n",
    "# Loop through user_ids\n",
    "for user_id in user_ids:\n",
    "  # Print the user_id\n",
    "  print(user_id)"
   ]
  },
  {
   "cell_type": "markdown",
   "id": "df08f1db-a044-4bb4-af64-fbfe1248b187",
   "metadata": {},
   "source": [
    "## Updating a variable with for loops\n",
    "\n",
    "You're planning to hold a party so you can show off your playlist to friends and family. You've hired a venue that has a maximum capacity of 30 people, and you'd like to keep track of tickets sold.\n",
    "\n",
    "This is a perfect opportunity to use a for loop - it will increment the value of a variable each time a ticket is sold and then print a statement once the event is sold out.\n",
    "\n",
    "### Instructions\n",
    "    - Create a variable called tickets_sold with a value of 0.\n",
    "    - Create a variable called max_capacity with a value of 30.\n",
    "    - Loop through a range starting at 1 and finishing at max_capacity plus one.\n",
    "    - Inside the for loop, add 1 to the value of tickets_sold."
   ]
  },
  {
   "cell_type": "code",
   "execution_count": 8,
   "id": "018b1051-e042-4d4f-bd2f-e1849c09cadf",
   "metadata": {},
   "outputs": [
    {
     "name": "stdout",
     "output_type": "stream",
     "text": [
      "Sold out: 30 tickets sold!\n"
     ]
    }
   ],
   "source": [
    "# Create the tickets_sold variable\n",
    "tickets_sold = 0\n",
    "\n",
    "# Create the max_capacity variable\n",
    "max_capacity = 30\n",
    "\n",
    "# Loop through a range up to and including max_capacity's value\n",
    "for i in range(1, max_capacity+1):\n",
    "  \n",
    "  # Add one to tickets_sold in each iteration\n",
    "  tickets_sold += 1\n",
    "  \n",
    "print(\"Sold out:\", tickets_sold, \"tickets sold!\")"
   ]
  },
  {
   "cell_type": "markdown",
   "id": "ab242a39-c2ac-4579-825e-01b5f2f594b3",
   "metadata": {},
   "source": [
    "## Conditional looping with a dictionary\n",
    "\n",
    "Your friend at LLM Camp has provided you with a dictionary called courses. It contains the names of courses as keys and their associated topic as a value. There are three topics: \"AI\", \"Programming\", and \"Data Engineering\".\n",
    "\n",
    "<code>\n",
    "courses = {\"LLM Concepts\": \"AI\", \n",
    "           \"Introduction to Data Pipelines\": \"Data Engineering\", \n",
    "           \"AI Ethics\": \"AI\",\n",
    "           \"Introduction to dbt\": \"Data Engineering\", \n",
    "           \"Writing Efficient Python Code\": \"Programming\",\n",
    "           \"Introduction to Docker\": \"Programming\"}\n",
    "</code>\n",
    "\n",
    "This is a great chance to practice looping through dictionaries!\n",
    "\n",
    "### Instructions\n",
    "    - Create a for loop to iterate over key, value in courses.items().\n",
    "    - Check if the value is \"AI\", and print the key if so.\n",
    "    - Else, check if the value is \"Programming\", printing the key if so.\n",
    "    - Otherwise, print the key to confirm it is a \"Data Engineering\" course."
   ]
  },
  {
   "cell_type": "code",
   "execution_count": null,
   "id": "702dba34-8e3a-4a01-a936-b95db72f708e",
   "metadata": {},
   "outputs": [],
   "source": [
    "courses = {'LLM Concepts': 'AI', 'Introduction to Data Pipelines': 'Data Engineering', 'AI Ethics': 'AI',\n",
    " 'Introduction to dbt': 'Data Engineering',\n",
    " 'Writing Efficient Python Code': 'Programming',\n",
    " 'Introduction to Docker': 'Programming'}"
   ]
  },
  {
   "cell_type": "code",
   "execution_count": null,
   "id": "9367cce3-792d-4b84-98ba-632cbf848a86",
   "metadata": {},
   "outputs": [],
   "source": []
  }
 ],
 "metadata": {
  "kernelspec": {
   "display_name": "Python 3 (ipykernel)",
   "language": "python",
   "name": "python3"
  },
  "language_info": {
   "codemirror_mode": {
    "name": "ipython",
    "version": 3
   },
   "file_extension": ".py",
   "mimetype": "text/x-python",
   "name": "python",
   "nbconvert_exporter": "python",
   "pygments_lexer": "ipython3",
   "version": "3.11.6"
  }
 },
 "nbformat": 4,
 "nbformat_minor": 5
}
