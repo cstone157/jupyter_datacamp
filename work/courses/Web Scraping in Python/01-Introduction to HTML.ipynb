{
 "cells": [
  {
   "cell_type": "code",
   "execution_count": 7,
   "id": "07b457a5-ab5d-41fd-88c1-d3f700ca659b",
   "metadata": {},
   "outputs": [],
   "source": [
    "from scrapy.selector import Selector\n",
    "\n",
    "def whats_my_class( html ):\n",
    "    sel = Selector( text = html )\n",
    "    try:\n",
    "        print( \"The class you assigned to the second div element is:\", sel.xpath( '//div' )[1].xpath('./@class' )[0].extract() )\n",
    "    except:\n",
    "        print(\"No second div element class found!\")"
   ]
  },
  {
   "cell_type": "code",
   "execution_count": 8,
   "id": "f2540257-1c16-443c-9b5e-a595c43ef5c4",
   "metadata": {},
   "outputs": [],
   "source": [
    "html = '''\n",
    "<html>\n",
    "  <head>\n",
    "    <title>Intro HTML</title>\n",
    "  </head>\n",
    "  <body>\n",
    "    <p>Hello World!</p>\n",
    "    <p>Enjoy DataCamp!</p>\n",
    "  </body>\n",
    "</html>\n",
    "'''"
   ]
  },
  {
   "cell_type": "code",
   "execution_count": 9,
   "id": "e354301d-42e7-427f-bc81-471b7b9ea06f",
   "metadata": {},
   "outputs": [
    {
     "name": "stdout",
     "output_type": "stream",
     "text": [
      "The class you assigned to the second div element is: you-are-classy\n"
     ]
    }
   ],
   "source": [
    "# HTML code string\n",
    "html = '''\n",
    "<html>\n",
    "  <body>\n",
    "    <div class=\"class1\" id=\"div1\">\n",
    "      <p class=\"class2\">Visit DataCamp!</p>\n",
    "    </div>\n",
    "    <div class=\"you-are-classy\">\n",
    "      <p class=\"class2\">Keep up the good work!</p>\n",
    "    </div>\n",
    "  </body>\n",
    "</html>\n",
    "'''\n",
    "# Print out the class of the second div element\n",
    "whats_my_class( html )"
   ]
  },
  {
   "cell_type": "code",
   "execution_count": 11,
   "id": "b3b68f33-3908-45fa-80ba-80d4d51eb923",
   "metadata": {},
   "outputs": [],
   "source": [
    "'''\n",
    "Consider the HTML code:\n",
    "\n",
    "<html>\n",
    "  <body>\n",
    "    <div>\n",
    "      <p>Good Luck!</p>\n",
    "      <p>Not here...</p>\n",
    "    </div>\n",
    "    <div>\n",
    "      <p>Where am I?</p>\n",
    "    </div>\n",
    "  </body>\n",
    "</html>\n",
    "\n",
    "Your job will be to create an XPath string using single forward-slashes and brackets which navigates to the paragraph p element which contains the text \"Where am I?\".\n",
    "'''\n",
    "\n",
    "# Fill in the blank\n",
    "xpath = '/html/body/div[2]/p'"
   ]
  },
  {
   "cell_type": "code",
   "execution_count": 12,
   "id": "65ea8840-1ff5-441d-9183-ff6f4d0b4d0c",
   "metadata": {},
   "outputs": [],
   "source": [
    "'''\n",
    "Using double forward-slash notation, assign to the variable xpath a simple XPath string navigating to all paragraph p elements within any HTML code.\n",
    "'''\n",
    "\n",
    "# Fill in the blank\n",
    "xpath = \"//p\""
   ]
  },
  {
   "cell_type": "code",
   "execution_count": 13,
   "id": "a1892167-418a-42cd-ba5a-e9e5dca39383",
   "metadata": {},
   "outputs": [],
   "source": [
    "'''\n",
    "Assign to the variable xpath an XPath string which will select all span elements whose class attribute equals \"span-class\". You do not need to see the actual HTML code to do this!\n",
    "'''\n",
    "\n",
    "# Fill in the blank\n",
    "xpath = '//span[@class=\"span-class\"]'"
   ]
  },
  {
   "cell_type": "code",
   "execution_count": null,
   "id": "2c052675-bbf9-4aac-ab16-be9255a958d2",
   "metadata": {},
   "outputs": [],
   "source": []
  }
 ],
 "metadata": {
  "kernelspec": {
   "display_name": "Python 3 (ipykernel)",
   "language": "python",
   "name": "python3"
  },
  "language_info": {
   "codemirror_mode": {
    "name": "ipython",
    "version": 3
   },
   "file_extension": ".py",
   "mimetype": "text/x-python",
   "name": "python",
   "nbconvert_exporter": "python",
   "pygments_lexer": "ipython3",
   "version": "3.11.6"
  }
 },
 "nbformat": 4,
 "nbformat_minor": 5
}
