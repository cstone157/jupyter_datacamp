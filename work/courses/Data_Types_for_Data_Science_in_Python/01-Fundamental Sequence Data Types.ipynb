{
 "cells": [
  {
   "cell_type": "code",
   "execution_count": 1,
   "id": "cba56cb3-3c62-4d45-9651-2713e74ab11d",
   "metadata": {},
   "outputs": [
    {
     "name": "stdout",
     "output_type": "stream",
     "text": [
      "['Ximena', 'Aliza', 'Ayden', 'Calvin', 'Sandeep']\n"
     ]
    }
   ],
   "source": [
    "# Create a list containing the names: baby_names\n",
    "baby_names = ['Ximena', 'Aliza', 'Ayden', 'Calvin']\n",
    "\n",
    "# Extend baby_names with 'Rowen' and 'Sandeep'\n",
    "baby_names.extend(['Rowen', 'Sandeep'])\n",
    "\n",
    "# Find the position of 'Rowen': position\n",
    "position = baby_names.index('Rowen')\n",
    "\n",
    "# Remove 'Rowen' from baby_names\n",
    "baby_names.pop(position)\n",
    "\n",
    "# Print baby_names\n",
    "print(baby_names)"
   ]
  },
  {
   "cell_type": "code",
   "execution_count": 2,
   "id": "3d500338-4637-4d73-8932-5fefc8b6cc79",
   "metadata": {},
   "outputs": [
    {
     "name": "stdout",
     "output_type": "stream",
     "text": [
      "['Abigail', 'Addison', 'Amelia', 'Aubrey', 'Ava', 'Avery', 'Brooklyn', 'Charlotte', 'Chloe', 'Elizabeth', 'Ella', 'Emily', 'Emma', 'Evelyn', 'Grace', 'Harper', 'Isabella', 'Lillian', 'Madison', 'Mia', 'Natalie', 'Olivia', 'Sofia', 'Sophia', 'Victoria', 'Zoey']\n"
     ]
    }
   ],
   "source": [
    "records = [['2014', 'F', '20799', 'Emma'],\n",
    " ['2014', 'F', '19674', 'Olivia'],\n",
    " ['2014', 'F', '18490', 'Sophia'],\n",
    " ['2014', 'F', '16950', 'Isabella'],\n",
    " ['2014', 'F', '15586', 'Ava'],\n",
    " ['2014', 'F', '13442', 'Mia'],\n",
    " ['2014', 'F', '12562', 'Emily'],\n",
    " ['2014', 'F', '11985', 'Abigail'],\n",
    " ['2014', 'F', '10247', 'Madison'],\n",
    " ['2014', 'F', '10048', 'Charlotte'],\n",
    " ['2014', 'F', '9564', 'Harper'],\n",
    " ['2014', 'F', '9542', 'Sofia'],\n",
    " ['2014', 'F', '9517', 'Avery'],\n",
    " ['2014', 'F', '9492', 'Elizabeth'],\n",
    " ['2014', 'F', '8727', 'Amelia'],\n",
    " ['2014', 'F', '8692', 'Evelyn'],\n",
    " ['2014', 'F', '8489', 'Ella'],\n",
    " ['2014', 'F', '8469', 'Chloe'],\n",
    " ['2014', 'F', '7955', 'Victoria'],\n",
    " ['2014', 'F', '7589', 'Aubrey'],\n",
    " ['2014', 'F', '7554', 'Grace'],\n",
    " ['2014', 'F', '7358', 'Zoey'],\n",
    " ['2014', 'F', '7061', 'Natalie'],\n",
    " ['2014', 'F', '6950', 'Addison'],\n",
    " ['2014', 'F', '6869', 'Lillian'],\n",
    " ['2014', 'F', '6767', 'Brooklyn']]\n",
    "\n",
    "# Create the list comprehension: baby_names\n",
    "baby_names = [i[3] for i in records]\n",
    "    \n",
    "# Print the sorted baby names in ascending alphabetical order\n",
    "print(sorted(baby_names))"
   ]
  },
  {
   "cell_type": "code",
   "execution_count": 1,
   "id": "b38f8280-ca5d-4599-85cb-7bb2b5cb01fa",
   "metadata": {},
   "outputs": [],
   "source": [
    "girl_names = ['Jada', 'Emily', 'Ava', 'Serenity', 'Claire', 'Sophia', 'Sarah', 'Ashley', 'Chaya', 'Abigail',\n",
    " 'Zoe', 'Leah', 'Hailey', 'Ava', 'Olivia', 'Emma', 'Chloe', 'Sophia', 'Aaliyah', 'Angela', 'Camila', 'Savannah',\n",
    " 'Serenity', 'Chloe', 'Fatoumata']\n",
    "\n",
    "boy_names = ['Josiah', 'Ethan', 'David', 'Jayden', 'Mason', 'Ryan', 'Christian', 'Isaiah', 'Jayden', 'Michael',\n",
    " 'Noah', 'Samuel', 'Sebastian', 'Noah', 'Dylan', 'Lucas', 'Joshua', 'Angel', 'Jacob', 'Matthew', 'Josiah',\n",
    " 'Jacob', 'Muhammad', 'Alexander', 'Jason']"
   ]
  },
  {
   "cell_type": "code",
   "execution_count": 2,
   "id": "ebce626f-c0f7-4801-a80b-6c0a5c21de6f",
   "metadata": {},
   "outputs": [
    {
     "name": "stdout",
     "output_type": "stream",
     "text": [
      "Rank 1: Jada and Josiah\n",
      "Rank 2: Emily and Ethan\n",
      "Rank 3: Ava and David\n",
      "Rank 4: Serenity and Jayden\n",
      "Rank 5: Claire and Mason\n",
      "Rank 6: Sophia and Ryan\n",
      "Rank 7: Sarah and Christian\n",
      "Rank 8: Ashley and Isaiah\n",
      "Rank 9: Chaya and Jayden\n",
      "Rank 10: Abigail and Michael\n",
      "Rank 11: Zoe and Noah\n",
      "Rank 12: Leah and Samuel\n",
      "Rank 13: Hailey and Sebastian\n",
      "Rank 14: Ava and Noah\n",
      "Rank 15: Olivia and Dylan\n",
      "Rank 16: Emma and Lucas\n",
      "Rank 17: Chloe and Joshua\n",
      "Rank 18: Sophia and Angel\n",
      "Rank 19: Aaliyah and Jacob\n",
      "Rank 20: Angela and Matthew\n",
      "Rank 21: Camila and Josiah\n",
      "Rank 22: Savannah and Jacob\n",
      "Rank 23: Serenity and Muhammad\n",
      "Rank 24: Chloe and Alexander\n",
      "Rank 25: Fatoumata and Jason\n"
     ]
    }
   ],
   "source": [
    "# Pair up the girl and boy names: pairs\n",
    "pairs = list(zip(girl_names, boy_names))\n",
    "\n",
    "# Iterate over pairs\n",
    "for rank, pair in enumerate(pairs):\n",
    "    # Unpack pair: girl_name, boy_name\n",
    "    girl_name, boy_name = pair\n",
    "    # Print the rank and names associated with each rank\n",
    "    print(f'Rank {rank+1}: {girl_name} and {boy_name}')"
   ]
  },
  {
   "cell_type": "code",
   "execution_count": 3,
   "id": "06d9db2c-8aaa-4d01-a90c-a04161689d6d",
   "metadata": {},
   "outputs": [
    {
     "name": "stdout",
     "output_type": "stream",
     "text": [
      "<class 'str'>\n",
      "<class 'tuple'>\n"
     ]
    }
   ],
   "source": [
    "# Create the normal variable: normal\n",
    "normal = 'simple'\n",
    "\n",
    "# Create the mistaken variable: error\n",
    "error = 'trailing comma',\n",
    "\n",
    "# Print the types of the variables\n",
    "print(type(normal))\n",
    "print(type(error))"
   ]
  },
  {
   "cell_type": "code",
   "execution_count": 4,
   "id": "db7ee0f3-e424-4efc-a474-599427ed893d",
   "metadata": {},
   "outputs": [],
   "source": [
    "top_ten_girl_names = [(1, 'Jada'), (2, 'Emily'), (3, 'Ava'), (4, 'Serenity'), (5, 'Claire'), (6, 'Sophia'), (7, 'Sarah'),\n",
    " (8, 'Ashley'), (9, 'Chaya'), (10, 'Abigail')]"
   ]
  },
  {
   "cell_type": "code",
   "execution_count": 5,
   "id": "faf20788-22d3-4b0f-9c64-f0f41b7c0ebc",
   "metadata": {},
   "outputs": [
    {
     "name": "stdout",
     "output_type": "stream",
     "text": [
      "Rank #: 1 - Jada\n",
      "Rank #: 2 - Emily\n",
      "Rank #: 3 - Ava\n",
      "Rank #: 4 - Serenity\n",
      "Rank #: 5 - Claire\n",
      "Rank #: 6 - Sophia\n",
      "Rank #: 7 - Sarah\n",
      "Rank #: 8 - Ashley\n",
      "Rank #: 9 - Chaya\n",
      "Rank #: 10 - Abigail\n"
     ]
    }
   ],
   "source": [
    "# Loop over top_ten_girl_names and unpack each tuple into top_ten_rank and name\n",
    "for top_ten_rank, name in top_ten_girl_names:\n",
    "  \t# Print each name in the proper format\n",
    "    print(f\"Rank #: { top_ten_rank } - { name }\")"
   ]
  },
  {
   "cell_type": "code",
   "execution_count": 7,
   "id": "97cecd1e-ee5f-4698-baa4-f5c20089adec",
   "metadata": {},
   "outputs": [],
   "source": [
    "boy_names = ['Josiah', 'Ethan', 'David', 'Jayden', 'Mason', 'Ryan', 'Christian', 'Isaiah', 'Jayden', 'Michael']"
   ]
  },
  {
   "cell_type": "code",
   "execution_count": 8,
   "id": "121aefa6-b98f-4e47-b01a-bb7e2675a153",
   "metadata": {},
   "outputs": [
    {
     "name": "stdout",
     "output_type": "stream",
     "text": [
      "The top ten boy names are: Josiah, Ethan, David, Jayden, Mason, Ryan, Christian, Isaiah, Jayden, and Michael.\n"
     ]
    }
   ],
   "source": [
    "# The top ten boy names are:  as preamble\n",
    "preamble = \"The top ten boy names are: \"\n",
    "\n",
    "# , and as conjunction\n",
    "conjunction = \", and\"\n",
    "\n",
    "# Combines the first 9 names in boy_names with a comma and space as first_nine_names\n",
    "first_nine_names = \", \".join(boy_names[0:9])\n",
    "\n",
    "# Print f-string preamble, first_nine_names, conjunction, the final item in boy_names and a period\n",
    "print(f\"{preamble}{first_nine_names}{conjunction} {boy_names[-1]}.\")"
   ]
  },
  {
   "cell_type": "code",
   "execution_count": 9,
   "id": "a2ead06f-889a-47fa-9949-e7e04eb9e6b8",
   "metadata": {},
   "outputs": [],
   "source": [
    "girl_names = ['Jada', 'Emily', 'Ava', 'Serenity', 'Claire', 'Sophia', 'Sarah', 'Ashley', 'Chaya', 'Abigail',\n",
    " 'Zoe', 'Leah', 'Hailey', 'Ava', 'Olivia', 'Emma', 'Chloe', 'Sophia', 'Aaliyah', 'Angela', 'Camila', 'Savannah',\n",
    " 'Serenity', 'Fatoumata']"
   ]
  },
  {
   "cell_type": "code",
   "execution_count": 10,
   "id": "6de4fdb3-2527-4da0-aded-2a5d586bb42b",
   "metadata": {},
   "outputs": [
    {
     "name": "stdout",
     "output_type": "stream",
     "text": [
      "['Serenity', 'Sophia', 'Sarah', 'Sophia', 'Savannah', 'Serenity']\n",
      "['Angela']\n"
     ]
    }
   ],
   "source": [
    "# Store a list of girl_names that start with s: names_with_s\n",
    "names_with_s = [name for name in girl_names if name.lower().startswith('s')]\n",
    "\n",
    "print(names_with_s)\n",
    "\n",
    "# Store a list of girl_names that contain angel: names_with_angel\n",
    "names_with_angel = [name for name in girl_names if 'angel' in name.lower()]\n",
    "\n",
    "print(names_with_angel)"
   ]
  },
  {
   "cell_type": "code",
   "execution_count": null,
   "id": "5dfc80c3-a885-4c2b-9c7e-2f987c6499a1",
   "metadata": {},
   "outputs": [],
   "source": []
  }
 ],
 "metadata": {
  "kernelspec": {
   "display_name": "Python 3 (ipykernel)",
   "language": "python",
   "name": "python3"
  },
  "language_info": {
   "codemirror_mode": {
    "name": "ipython",
    "version": 3
   },
   "file_extension": ".py",
   "mimetype": "text/x-python",
   "name": "python",
   "nbconvert_exporter": "python",
   "pygments_lexer": "ipython3",
   "version": "3.9.10"
  }
 },
 "nbformat": 4,
 "nbformat_minor": 5
}
