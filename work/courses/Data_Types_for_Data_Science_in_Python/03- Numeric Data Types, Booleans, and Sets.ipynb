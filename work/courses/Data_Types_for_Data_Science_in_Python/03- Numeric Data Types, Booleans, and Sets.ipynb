{
 "cells": [
  {
   "cell_type": "code",
   "execution_count": 1,
   "id": "25c916c5-b373-4a9e-85a6-765301fe31c9",
   "metadata": {},
   "outputs": [],
   "source": [
    "float1 = 0.0001\n",
    "float2 = 1e-05\n",
    "float3 = 1e-07"
   ]
  },
  {
   "cell_type": "code",
   "execution_count": 2,
   "id": "a22830e2-89db-404f-a33e-c5bd716a0c43",
   "metadata": {},
   "outputs": [
    {
     "name": "stdout",
     "output_type": "stream",
     "text": [
      "0.0001\n",
      "1e-05\n",
      "1e-07\n",
      "0.000010\n",
      "0.000000\n",
      "0.0000001\n"
     ]
    }
   ],
   "source": [
    "# Print floats 1, 2, and 3\n",
    "print(float1)\n",
    "print(float2)\n",
    "print(float3)\n",
    "\n",
    "# Print floats 2 and 3 using the f string formatter\n",
    "print(f\"{float2:f}\")\n",
    "print(f\"{float3:f}\")\n",
    "\n",
    "# Print float 3 with a 7 f string precision\n",
    "print(f\"{float3:.7f}\")"
   ]
  },
  {
   "cell_type": "code",
   "execution_count": 3,
   "id": "928e06ba-b820-48ad-b505-0e0b4462ffe2",
   "metadata": {},
   "outputs": [
    {
     "name": "stdout",
     "output_type": "stream",
     "text": [
      "2.0\n",
      "0.5\n",
      "2\n",
      "0\n",
      "<class 'float'>\n",
      "<class 'int'>\n"
     ]
    }
   ],
   "source": [
    "# Print the result of 2/1 and 1/2\n",
    "print(2/1)\n",
    "print(1/2)\n",
    "\n",
    "# Print the floored division result of 2//1 and 1//2\n",
    "print(2//1)\n",
    "print(1//2)\n",
    "\n",
    "# Print the type of 2/1 and 2//1\n",
    "print(type(2/1))\n",
    "print(type(2//1))"
   ]
  },
  {
   "cell_type": "code",
   "execution_count": 4,
   "id": "efc32053-fa3d-4f8d-9d60-f71888874e2e",
   "metadata": {},
   "outputs": [
    {
     "name": "stdout",
     "output_type": "stream",
     "text": [
      "False\n",
      "True\n"
     ]
    }
   ],
   "source": [
    "# Create an empty list\n",
    "my_list = []\n",
    "\n",
    "# Check the truthiness of my_list\n",
    "print(bool(my_list))\n",
    "\n",
    "# Append the string 'cookies' to my_list\n",
    "my_list.append('cookies')\n",
    "\n",
    "# Check the truthiness of my_list\n",
    "print(bool(my_list))"
   ]
  },
  {
   "cell_type": "code",
   "execution_count": 5,
   "id": "19843b8d-076d-4995-80a3-557246886d47",
   "metadata": {},
   "outputs": [],
   "source": [
    "penguins = [{'species': 'Adlie', 'flipper_length': 190.0, 'body_mass': 3050.0, 'sex': 'FEMALE'},\n",
    " {'species': 'Adlie', 'flipper_length': 184.0, 'body_mass': 3325.0, 'sex': 'FEMALE'},\n",
    " {'species': 'Gentoo', 'flipper_length': 209.0, 'body_mass': 4800.0, 'sex': 'FEMALE'},\n",
    " {'species': 'Adlie', 'flipper_length': 193.0, 'body_mass': 4200.0, 'sex': 'MALE'},\n",
    " {'species': 'Gentoo', 'flipper_length': 210.0, 'body_mass': 4400.0, 'sex': 'FEMALE'},\n",
    " {'species': 'Gentoo', 'flipper_length': 213.0, 'body_mass': 4650.0, 'sex': 'FEMALE'},\n",
    " {'species': 'Chinstrap', 'flipper_length': 193.0, 'body_mass': 3600.0, 'sex': 'FEMALE'},\n",
    " {'species': 'Adlie', 'flipper_length': 193.0, 'body_mass': 3800.0, 'sex': 'MALE'},\n",
    " {'species': 'Chinstrap', 'flipper_length': 199.0, 'body_mass': 3900.0, 'sex': 'FEMALE'},\n",
    " {'species': 'Chinstrap', 'flipper_length': 195.0, 'body_mass': 3650.0, 'sex': 'FEMALE'},\n",
    " {'species': 'Adlie', 'flipper_length': 185.0, 'body_mass': 3700.0, 'sex': 'FEMALE'},\n",
    " {'species': 'Gentoo', 'flipper_length': 208.0, 'body_mass': 4575.0, 'sex': 'FEMALE'},\n",
    " {'species': 'Adlie', 'flipper_length': 196.0, 'body_mass': 4350.0, 'sex': 'MALE'},\n",
    " {'species': 'Adlie', 'flipper_length': 191.0, 'body_mass': 3700.0, 'sex': 'FEMALE'},\n",
    " {'species': 'Chinstrap', 'flipper_length': 195.0, 'body_mass': 3300.0, 'sex': 'FEMALE'},\n",
    " {'species': 'Adlie', 'flipper_length': 195.0, 'body_mass': 3450.0, 'sex': 'FEMALE'},\n",
    " {'species': 'Gentoo', 'flipper_length': 217.0, 'body_mass': 4875.0, 'sex': '.'},\n",
    " {'species': 'Gentoo', 'flipper_length': 212.0, 'body_mass': 4875.0, 'sex': 'FEMALE'},\n",
    " {'species': 'Adlie', 'flipper_length': 205.0, 'body_mass': 4300.0, 'sex': 'MALE'},\n",
    " {'species': 'Gentoo', 'flipper_length': 220.0, 'body_mass': 6000.0, 'sex': 'MALE'}]"
   ]
  },
  {
   "cell_type": "code",
   "execution_count": 6,
   "id": "d4f0401d-07fb-4fff-9e80-a9228ec19da0",
   "metadata": {},
   "outputs": [
    {
     "name": "stdout",
     "output_type": "stream",
     "text": [
      "Adlie - FEMALE\n",
      "Gentoo - FEMALE\n",
      "Adlie - MALE\n",
      "Gentoo - FEMALE\n",
      "Gentoo - FEMALE\n",
      "Chinstrap - FEMALE\n",
      "Adlie - MALE\n",
      "Chinstrap - FEMALE\n",
      "Chinstrap - FEMALE\n",
      "Adlie - FEMALE\n",
      "Gentoo - FEMALE\n",
      "Adlie - MALE\n",
      "Adlie - FEMALE\n",
      "Adlie - FEMALE\n",
      "Gentoo - .\n",
      "Gentoo - FEMALE\n",
      "Adlie - MALE\n",
      "Gentoo - MALE\n"
     ]
    }
   ],
   "source": [
    "# Use a for loop to iterate over the penguins list\n",
    "for penguin in penguins:\n",
    "  # Check the penguin entry for a body mass of more than 3300 grams\n",
    "  if penguin[\"body_mass\"] > 3300:\n",
    "  \t# Print the species and sex of the penguin if true\n",
    "    print(f\"{penguin['species']} - {penguin['sex']}\")"
   ]
  },
  {
   "cell_type": "code",
   "execution_count": 7,
   "id": "ce0d3197-a204-47a0-a0e8-30b819f70f9a",
   "metadata": {},
   "outputs": [],
   "source": [
    "penguin_305_details = {'species': 'Adlie', 'flipper_length': 190.0, 'body_mass': 3050.0, 'tracked': True, 'sex': 'FEMALE'}"
   ]
  },
  {
   "cell_type": "code",
   "execution_count": 8,
   "id": "539430c1-9831-4dad-89de-475eaca42fa0",
   "metadata": {},
   "outputs": [
    {
     "name": "stdout",
     "output_type": "stream",
     "text": [
      "FEMALE: False\n",
      "True: True\n"
     ]
    }
   ],
   "source": [
    "# Check the truthiness of penguin_305_details sex key\n",
    "if penguin_305_details[\"sex\"]:\n",
    "\t# If true, check if sex is True and store it as sex_is_true\n",
    "    sex_is_true = penguin_305_details[\"sex\"] is True\n",
    "    # Print the sex key's value and sex_is_true\n",
    "    print(f\"{penguin_305_details['sex']}: {sex_is_true}\")\n",
    "\n",
    "# Check the truthiness of penguin_305_details tracked key\n",
    "if penguin_305_details[\"tracked\"]:\n",
    "\t# If true, check if tracked is True and store it as tracked_is_true\n",
    "    tracked_is_true = penguin_305_details[\"tracked\"] is True\n",
    "    # Print the tracked key and tracked_is_true\n",
    "    print(f\"{penguin_305_details['tracked']}: {tracked_is_true}\")"
   ]
  },
  {
   "cell_type": "code",
   "execution_count": 10,
   "id": "101a72b7-4c06-4f59-8d37-a3eea224cc71",
   "metadata": {},
   "outputs": [],
   "source": [
    "male_penguin_species = {'Adlie', 'Gentoo'}\n",
    "\n",
    "penguins = [{'species': 'Adlie', 'flipper_length': 190.0, 'body_mass': 3050.0, 'sex': 'FEMALE'},\n",
    " {'species': 'Adlie', 'flipper_length': 184.0, 'body_mass': 3325.0, 'sex': 'FEMALE'},\n",
    " {'species': 'Gentoo', 'flipper_length': 209.0, 'body_mass': 4800.0, 'sex': 'FEMALE'},\n",
    " {'species': 'Adlie', 'flipper_length': 193.0, 'body_mass': 4200.0, 'sex': 'MALE'},\n",
    " {'species': 'Gentoo', 'flipper_length': 210.0, 'body_mass': 4400.0, 'sex': 'FEMALE'},\n",
    " {'species': 'Gentoo', 'flipper_length': 213.0, 'body_mass': 4650.0, 'sex': 'FEMALE'},\n",
    " {'species': 'Chinstrap', 'flipper_length': 193.0, 'body_mass': 3600.0, 'sex': 'FEMALE'},\n",
    " {'species': 'Adlie', 'flipper_length': 193.0, 'body_mass': 3800.0, 'sex': 'MALE'},\n",
    " {'species': 'Chinstrap', 'flipper_length': 199.0, 'body_mass': 3900.0, 'sex': 'FEMALE'},\n",
    " {'species': 'Chinstrap', 'flipper_length': 195.0, 'body_mass': 3650.0, 'sex': 'FEMALE'},\n",
    " {'species': 'Adlie', 'flipper_length': 185.0, 'body_mass': 3700.0, 'sex': 'FEMALE'},\n",
    " {'species': 'Gentoo', 'flipper_length': 208.0, 'body_mass': 4575.0, 'sex': 'FEMALE'},\n",
    " {'species': 'Adlie', 'flipper_length': 196.0, 'body_mass': 4350.0, 'sex': 'MALE'},\n",
    " {'species': 'Adlie', 'flipper_length': 191.0, 'body_mass': 3700.0, 'sex': 'FEMALE'},\n",
    " {'species': 'Chinstrap', 'flipper_length': 195.0, 'body_mass': 3300.0, 'sex': 'FEMALE'},\n",
    " {'species': 'Adlie', 'flipper_length': 195.0, 'body_mass': 3450.0, 'sex': 'FEMALE'},\n",
    " {'species': 'Gentoo', 'flipper_length': 217.0, 'body_mass': 4875.0, 'sex': '.'},\n",
    " {'species': 'Gentoo', 'flipper_length': 212.0, 'body_mass': 4875.0, 'sex': 'FEMALE'},\n",
    " {'species': 'Adlie', 'flipper_length': 205.0, 'body_mass': 4300.0, 'sex': 'MALE'},\n",
    " {'species': 'Gentoo', 'flipper_length': 220.0, 'body_mass': 6000.0, 'sex': 'MALE'}]"
   ]
  },
  {
   "cell_type": "code",
   "execution_count": 11,
   "id": "6fe5e541-552a-47fa-b040-d63b61b9684c",
   "metadata": {},
   "outputs": [
    {
     "name": "stdout",
     "output_type": "stream",
     "text": [
      "{'Chinstrap'}\n"
     ]
    }
   ],
   "source": [
    "# Use a list comprehension to iterate over each penguin in penguins saved as female_species_list\n",
    "# If the the sex of the penguin is 'FEMALE', return the species value\n",
    "female_species_list = [penguin[\"species\"] for penguin in penguins if penguin[\"sex\"] == 'FEMALE']\n",
    "\n",
    "# Create a set using the female_species_list as female_penguin_species\n",
    "female_penguin_species = set(female_species_list)\n",
    "\n",
    "# Find the difference between female_penguin_species and male_penguin_species. Store the result as differences\n",
    "differences = female_penguin_species.difference(male_penguin_species)\n",
    "\n",
    "# Print the differences\n",
    "print(differences)"
   ]
  },
  {
   "cell_type": "code",
   "execution_count": 12,
   "id": "54339317-1d8f-4f3b-bcbf-abf20740c28d",
   "metadata": {},
   "outputs": [],
   "source": [
    "female_penguin_species = {'Adlie', 'Chinstrap', 'Gentoo'}\n",
    "male_penguin_species = {'Adlie', 'Gentoo'}"
   ]
  },
  {
   "cell_type": "code",
   "execution_count": 13,
   "id": "45233edd-ed90-4e43-94de-1d4450ade002",
   "metadata": {},
   "outputs": [
    {
     "name": "stdout",
     "output_type": "stream",
     "text": [
      "3\n",
      "2\n"
     ]
    }
   ],
   "source": [
    "# Find the union: all_species\n",
    "all_species = female_penguin_species.union(male_penguin_species)\n",
    "\n",
    "# Print the count of names in all_species\n",
    "print(len(all_species))\n",
    "\n",
    "# Find the intersection: overlapping_species\n",
    "overlapping_species = female_penguin_species.intersection(male_penguin_species)\n",
    "\n",
    "# Print the count of species in overlapping_species\n",
    "print(len(overlapping_species))"
   ]
  },
  {
   "cell_type": "code",
   "execution_count": null,
   "id": "c9722111-8cc4-484f-8ab8-82bcff6204ff",
   "metadata": {},
   "outputs": [],
   "source": []
  }
 ],
 "metadata": {
  "kernelspec": {
   "display_name": "Python 3 (ipykernel)",
   "language": "python",
   "name": "python3"
  },
  "language_info": {
   "codemirror_mode": {
    "name": "ipython",
    "version": 3
   },
   "file_extension": ".py",
   "mimetype": "text/x-python",
   "name": "python",
   "nbconvert_exporter": "python",
   "pygments_lexer": "ipython3",
   "version": "3.11.4"
  }
 },
 "nbformat": 4,
 "nbformat_minor": 5
}
