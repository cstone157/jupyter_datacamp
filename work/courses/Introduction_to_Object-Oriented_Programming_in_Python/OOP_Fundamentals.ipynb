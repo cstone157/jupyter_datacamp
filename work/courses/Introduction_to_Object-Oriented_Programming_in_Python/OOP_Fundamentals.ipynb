{
 "cells": [
  {
   "cell_type": "markdown",
   "id": "e4a2678d-e95c-42e0-b6ee-8b0f2042a782",
   "metadata": {},
   "source": [
    "## Exploring objects and classes\n",
    "\n",
    "The best way to learn how to write object-oriented code is to study the design of existing classes.\n",
    "\n",
    "In this exercise, you will explore objects of different classes to learn more about their attributes and methods.\n",
    "### Instructions 1/2\n",
    "    - Print all possible attributes and methods for the ratio object.\n",
    "    \n",
    "### Instructions 2/2\n",
    "    - Repeat this for the float class."
   ]
  },
  {
   "cell_type": "code",
   "execution_count": null,
   "id": "a2461eec-4aae-4659-b1a5-7282bb95a805",
   "metadata": {},
   "outputs": [],
   "source": [
    "ratio = 12 / 8\n",
    "\n",
    "# List all attributes and methods for the ratio object\n",
    "print(dir(ratio))"
   ]
  },
  {
   "cell_type": "code",
   "execution_count": null,
   "id": "698c896e-3005-426c-86a8-6223240c6fd8",
   "metadata": {},
   "outputs": [],
   "source": [
    "# List all attributes and methods for the float class\n",
    "print(dir(float))"
   ]
  },
  {
   "cell_type": "markdown",
   "id": "dbb71938-554a-4b56-be0e-1f100bda98f9",
   "metadata": {},
   "source": [
    "## Create your first class\n",
    "\n",
    "Time to write your first class!\n",
    "\n",
    "In this exercise, you'll start building the Employee class, beginning by defining it as an empty class, and then adding a method allowing you to set an object's .name attribute.\n",
    "\n",
    "### Instructions 1/2\n",
    "    - Create an empty class Employee.\n",
    "    - Create an object emp of the class Employee by calling Employee().\n",
    "\n",
    "### Instructions 2/2\n",
    "    - Modify the Employee class to define a set_name() method that takes a new_name argument and assigns new_name to the .name attribute of a to-be-defined object.\n",
    "    - Use the set_name() method on emp to set the name to 'Korel Rossi'."
   ]
  },
  {
   "cell_type": "code",
   "execution_count": null,
   "id": "4e1ce789-e7df-4a1f-8d0e-db18b37f7e7f",
   "metadata": {},
   "outputs": [],
   "source": [
    "# Create an empty class Employee\n",
    "class Employee:\n",
    "    pass\n",
    "\n",
    "# Create an object emp of class Employee \n",
    "emp = Employee()"
   ]
  },
  {
   "cell_type": "code",
   "execution_count": null,
   "id": "33d0c2dc-3f19-490b-9f18-0cd587357b01",
   "metadata": {},
   "outputs": [],
   "source": [
    "class Employee:\n",
    "  \n",
    "  # Include a set_name method\n",
    "  def set_name(self, new_name):\n",
    "    self.name = new_name\n",
    "\n",
    "emp = Employee()\n",
    "\n",
    "# Use set_name() on emp to set the name of emp to 'Korel Rossi'\n",
    "emp.set_name('Korel Rossi')\n",
    "print(emp.name)"
   ]
  },
  {
   "cell_type": "markdown",
   "id": "9d5f08ec-5c94-419a-b3fa-5c84c4517346",
   "metadata": {},
   "source": [
    "## Adding methods and attributes\n",
    "\n",
    "Now you'll start by creating methods that set attributes, and then add a few methods that manipulate them.\n",
    "\n",
    "As mentioned in the first video, an object-oriented approach is most useful when your code involves complex interactions of many objects. In real production code, classes can have dozens of attributes and methods with complicated logic, but the underlying structure is the same as with the most simple class.\n",
    "\n",
    "Your classes in this course will only have a few attributes and short methods, but the organizational principles behind them will be directly translatable to more complicated code.\n",
    "\n",
    "### Instructions\n",
    "    - Add another method to the Employee class called set_salary() that will set the salary attribute of an object to the new_salary argument passed to the method.\n",
    "    - Call the emp object's .set_name() method, assigning the value 'Korel Rossi'.\n",
    "    - Call the method on the emp object and set the salary to 50000.\n",
    "    - Print the salary attribute of the emp object."
   ]
  },
  {
   "cell_type": "code",
   "execution_count": null,
   "id": "6312a3ec-4da2-40ab-ae3b-c407789a4bd8",
   "metadata": {},
   "outputs": [],
   "source": [
    "class Employee:\n",
    "  def set_name(self, new_name):\n",
    "    self.name = new_name\n",
    "  \n",
    "  # Add set_salary() method  \n",
    "  def set_salary(self, new_salary):\n",
    "    self.salary = new_salary \n",
    "\n",
    "emp = Employee()\n",
    "\n",
    "# Use set_name to set the name of emp to 'Korel Rossi'\n",
    "emp.set_name('Korel Rossi')\n",
    "\n",
    "# Set the salary of emp to 50000\n",
    "emp.set_salary(50000)\n",
    "\n",
    "# Print the emp object's salary\n",
    "print(emp.salary)"
   ]
  },
  {
   "cell_type": "markdown",
   "id": "48d5c868-1a14-452c-8ef3-738ceb1c5aff",
   "metadata": {},
   "source": [
    "## Extending a class\n",
    "\n",
    "In the previous exercise, you defined an Employee class with two attributes and two methods that set those attributes. Remember, methods are functions, so anything you can do with a function, you can also do with a method.\n",
    "\n",
    "For example, you can use methods to print or return values, or to make plots, as long as the behavior is appropriate for objects of that class, e.g., an Employee probably wouldn't have a pivot_table() method.\n",
    "\n",
    "In this exercise, you'll learn how to use existing class attributes to define new methods. The Employee class and the emp object from the previous exercise are in your script.py.\n",
    "\n",
    "### Instructions\n",
    "    - Add a method give_raise() to the Employee class that increases the salary by the amount argument passed to give_raise().\n",
    "    - Create the emp object.\n",
    "    - Print the salary attribute of emp.\n",
    "    - Call give_raise() on the emp object, increasing their salary by 1500."
   ]
  },
  {
   "cell_type": "code",
   "execution_count": null,
   "id": "1bae0243-92d0-47a2-92b5-86cea3732f92",
   "metadata": {},
   "outputs": [],
   "source": [
    "class Employee:\n",
    "  def set_name(self, new_name):\n",
    "    self.name = new_name\n",
    "\n",
    "  def set_salary(self, new_salary):\n",
    "    self.salary = new_salary \n",
    "\n",
    "  # Add a give_raise() method with amount as an argument\n",
    "  def give_raise(self, amount):\n",
    "    self.salary = self.salary + amount\n",
    "\n",
    "# Create the emp object\n",
    "emp = Employee()\n",
    "emp.set_name('Korel Rossi')\n",
    "emp.set_salary(50000)\n",
    "\n",
    "# Print the salary\n",
    "print(emp.salary)\n",
    "\n",
    "# Give emp a raise of 1500\n",
    "emp.give_raise(1500)\n",
    "print(emp.salary)"
   ]
  },
  {
   "cell_type": "code",
   "execution_count": null,
   "id": "93c75e38-16e5-49a4-8805-a26cb5aab4cd",
   "metadata": {},
   "outputs": [],
   "source": []
  },
  {
   "cell_type": "code",
   "execution_count": null,
   "id": "3df5686e-6f43-4d8a-baa0-e878ac718361",
   "metadata": {},
   "outputs": [],
   "source": []
  }
 ],
 "metadata": {
  "kernelspec": {
   "display_name": "Python 3 (ipykernel)",
   "language": "python",
   "name": "python3"
  },
  "language_info": {
   "codemirror_mode": {
    "name": "ipython",
    "version": 3
   },
   "file_extension": ".py",
   "mimetype": "text/x-python",
   "name": "python",
   "nbconvert_exporter": "python",
   "pygments_lexer": "ipython3",
   "version": "3.11.6"
  }
 },
 "nbformat": 4,
 "nbformat_minor": 5
}
