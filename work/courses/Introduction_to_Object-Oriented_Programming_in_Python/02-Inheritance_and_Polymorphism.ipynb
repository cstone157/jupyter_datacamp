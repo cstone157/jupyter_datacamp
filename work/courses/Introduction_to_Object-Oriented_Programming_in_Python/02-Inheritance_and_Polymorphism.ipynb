{
 "cells": [
  {
   "cell_type": "markdown",
   "id": "1b3925e3-86de-47d0-a5a3-2c9c995ab1b8",
   "metadata": {},
   "source": [
    "## Class-level attributes\n",
    "\n",
    "Class attributes store data that is shared among all the class instances. They are assigned values in the class body and are referred to using the ClassName. syntax rather than self. syntax when used in methods.\n",
    "\n",
    "In this exercise, you will be a game developer working on a game that will have several players moving on a grid and interacting with each other. As the first step, you want to define a Player class that will just move along a straight line. Player will have a position attribute and move along a grid with a limited number of positions, so the position of Player will have a maximal value.\n",
    "\n",
    "### Instructions\n",
    "    - Define a Player class.\n",
    "    - Create a class attribute called MAX_POSITION with value of 10.\n",
    "    - In the __init__() constructor, set the position that assigns to an object to 0.\n",
    "    - Create a Player object p and print its MAX_POSITION."
   ]
  },
  {
   "cell_type": "code",
   "execution_count": null,
   "id": "b2898770-2f6c-41ed-bab8-19cf31c7b981",
   "metadata": {},
   "outputs": [],
   "source": [
    "# Create a Player class\n",
    "class Player:\n",
    "  \n",
    "  # Create MAX_POSITION class attribute\n",
    "  MAX_POSITION = 10\n",
    "  \n",
    "  # Add a constructor, setting position to zero\n",
    "  def __init__(self):\n",
    "    self.position = 0\n",
    "\n",
    "# Create a player p and print its MAX_POSITITON\n",
    "p = Player()\n",
    "print(p.MAX_POSITION)"
   ]
  },
  {
   "cell_type": "markdown",
   "id": "c28b7e5f-d7cc-465f-be66-f0ab1d84c363",
   "metadata": {},
   "source": [
    "## Implementing logic for attributes\n",
    "\n",
    "The Player class you previously created was a good start, but one of the key benefits of class-level attributes is their ability to restrict the upper and/or lower boundaries of data.\n",
    "\n",
    "In this exercise, you'll modify the Player class definition to restrict the value of position from going above the class-level MAX_POSITION value.\n",
    "\n",
    "### Instructions\n",
    "    - Define the __init__() constructor with two arguments, self and position.\n",
    "    - Inside the constructor, check if position is less than or equal to the class-level MAX_POSITION; if so, assign position to self.position\n",
    "    - If position is more than the class-level MAX_POSITION, assign it to the class' .MAX_POSITION attribute.\n",
    "    - Create a Player object p with a position of 6 and print its MAX_POSITION."
   ]
  },
  {
   "cell_type": "code",
   "execution_count": null,
   "id": "c9ed83c8-8a34-4c87-a95a-479ce49fe928",
   "metadata": {},
   "outputs": [],
   "source": [
    "class Player:\n",
    "  MAX_POSITION = 10\n",
    "  \n",
    "  # Define a constructor\n",
    "  def __init__(self, position):\n",
    "    \n",
    "    # Check if position is less than the class-level attribute value\n",
    "    if position <= Player.MAX_POSITION:\n",
    "      self.position = position\n",
    "    \n",
    "    # If not, set equal to the class-level attribute\n",
    "    else:\n",
    "      self.position = Player.MAX_POSITION\n",
    "\n",
    "# Create a Player object, p, and print its MAX_POSITITON\n",
    "p = Player(6)\n",
    "print(p.MAX_POSITION)"
   ]
  },
  {
   "cell_type": "markdown",
   "id": "bc2fd878-1db8-478b-a400-47fede09afc0",
   "metadata": {},
   "source": [
    "## Changing class attributes\n",
    "\n",
    "You learned how to define class attributes and how to access them from class instances. So what will happen if you try to assign another value to a class attribute when accessing it from an instance?\n",
    "\n",
    "The Player class from the previous exercise has been pre-defined, as shown below:\n",
    "\n",
    "<code>\n",
    "class Player:\n",
    "    MAX_POSITION = 10\n",
    "    def __init__(self, position):\n",
    "        if position <= Player.MAX_POSITION:\n",
    "              self.position = position\n",
    "        else:\n",
    "              self.position = Player.MAX_POSITION\n",
    "</code>\n",
    "\n",
    "### Instructions\n",
    "    - Create two Player objects: p1 and p2, with positions of 9 and 5 respectively.\n",
    "    - Print p1.MAX_POSITION and p2.MAX_POSITION.\n",
    "    - Assign 7 to p1.MAX_POSITION.\n",
    "    - Print p1.MAX_POSITION and p2.MAX_POSITION again."
   ]
  },
  {
   "cell_type": "code",
   "execution_count": null,
   "id": "9c266986-65ee-41e1-b8ad-9772a3b9a70d",
   "metadata": {},
   "outputs": [],
   "source": [
    "# Create Players p1 and p2\n",
    "p1 = Player(9)\n",
    "p2 = Player(5)\n",
    "\n",
    "print(\"MAX_POSITION of p1 and p2 before assignment:\")\n",
    "# Print p1.MAX_POSITION and p2.MAX_POSITION\n",
    "print(p1.MAX_POSITION)\n",
    "print(p2.MAX_POSITION)\n",
    "\n",
    "# Assign 7 to p1.MAX_POSITION\n",
    "p1.MAX_POSITION = 7\n",
    "\n",
    "print(\"MAX_POSITION of p1 and p2 after assignment:\")\n",
    "# Print p1.MAX_POSITION and p2.MAX_POSITION\n",
    "print(p1.MAX_POSITION)\n",
    "print(p2.MAX_POSITION)"
   ]
  },
  {
   "cell_type": "markdown",
   "id": "1a875fb1-074c-4ab8-9bb7-271cd10baed6",
   "metadata": {},
   "source": [
    "## Adding an alternative constructor\n",
    "\n",
    "Class methods are a great way of allowing an alternative way to create an object from a class, such as by a file or by accepting different information and performing a task during the construction to return the required attributes.\n",
    "\n",
    "In this exercise, you'll work with the Person class. The constructor expects a name and age during initialization. You will add a class method that allows initialization by providing name and birth year, where the method will then calculate age from the birth year.\n",
    "\n",
    "### Instructions\n",
    "    - Add a class method decorator.\n",
    "    - Define the from_birth_year() class method, which accepts three arguments: the conventional word used as a special argument referring to the class, name, and birth_year.\n",
    "    - Within the method, create the age variable by calculating the difference between the CURRENT_YEAR class attribute and birth_year.\n",
    "    - Return the name and age attributes of the class."
   ]
  },
  {
   "cell_type": "code",
   "execution_count": null,
   "id": "870d223f-0a88-49f9-bd21-966bdabb06c2",
   "metadata": {},
   "outputs": [],
   "source": [
    "class Person:\n",
    "  CURRENT_YEAR = 2024\n",
    "  def __init__(self, name, age):\n",
    "    self.name = name\n",
    "    self.age = age\n",
    "  \n",
    "  # Add a class method decorator\n",
    "  @classmethod\n",
    "  # Define the from_birth_year method\n",
    "  def from_birth_year(cls, name, birth_year):\n",
    "    # Create age\n",
    "    age = Person.CURRENT_YEAR - birth_year\n",
    "    # Return the name and age\n",
    "    return cls(name, age)\n",
    "\n",
    "bob = Person.from_birth_year(\"Bob\", 1990)"
   ]
  },
  {
   "cell_type": "markdown",
   "id": "69aadba0-3ba3-4b99-a12b-1ca6a220d30e",
   "metadata": {},
   "source": [
    "## Building a BetterDate Class\n",
    "\n",
    "You are developing a time series package and want to define your own class for working with dates, BetterDate.\n",
    "\n",
    "The attributes of the class will be year, month, and day. You want to have a constructor that creates BetterDate objects given the values for year, month, and day, but you also want to be able to create BetterDate objects from strings, such as 2021-04-30.\n",
    "\n",
    "### Instructions\n",
    "    - Define the class method called from_str(), providing the special required argument and another called datestr.\n",
    "    - Split datestr by hyphens \"-\" and store the result as the parts variable.\n",
    "    - Return year, month, and day, in that order, using the keyword that will also call __init__().\n",
    "    - Create the xmas variable using the class' .from_str() method, proving the string \"2024-12-25\"."
   ]
  },
  {
   "cell_type": "code",
   "execution_count": null,
   "id": "42ec1afd-45b3-4c4d-9e26-e80701783146",
   "metadata": {},
   "outputs": [],
   "source": []
  }
 ],
 "metadata": {
  "kernelspec": {
   "display_name": "Python 3 (ipykernel)",
   "language": "python",
   "name": "python3"
  },
  "language_info": {
   "codemirror_mode": {
    "name": "ipython",
    "version": 3
   },
   "file_extension": ".py",
   "mimetype": "text/x-python",
   "name": "python",
   "nbconvert_exporter": "python",
   "pygments_lexer": "ipython3",
   "version": "3.11.6"
  }
 },
 "nbformat": 4,
 "nbformat_minor": 5
}
