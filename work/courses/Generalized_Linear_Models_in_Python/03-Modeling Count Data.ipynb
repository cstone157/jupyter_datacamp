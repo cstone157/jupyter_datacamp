{
 "cells": [
  {
   "cell_type": "code",
   "execution_count": 10,
   "id": "ccde8806-68bf-4bb3-8301-3fc16fa3d193",
   "metadata": {},
   "outputs": [],
   "source": [
    "import pandas as pd\n",
    "import numpy as np\n",
    "\n",
    "import math\n",
    "\n",
    "import seaborn as sns\n",
    "import matplotlib.pyplot as plt\n",
    "\n",
    "import statsmodels.formula.api as smf\n",
    "from statsmodels.formula.api import ols, glm\n",
    "import statsmodels.api as sm\n",
    "\n",
    "crab = pd.read_csv(\"../../data/crab.csv\")\n",
    "salary = pd.read_csv('../../data/salary.csv')\n",
    "wells = pd.read_csv(\"../../data/wells.csv\")"
   ]
  },
  {
   "cell_type": "markdown",
   "id": "e28738ba-2cd0-41eb-b955-db738103950e",
   "metadata": {},
   "source": [
    "## Visualize the response\n",
    "### In the video you learned the main characteristics of the Poisson random variable and how its distribution changes as the parameter \n",
    " changes. In this exercise, you will examine the response variable visually to assess the parameter value, spread of the distribution or its skewness.\n",
    "\n",
    "### You will use the crab dataset which you used in previous chapter exercises, but now you will analyze the number of satellite crabs sat, instead of whether there is at least one, near the nesting place.\n",
    "\n",
    "### The crab dataset has been preloaded in the workspace.\n",
    "\n",
    "### Instructions\n",
    "-    Import seaborn library as sns.\n",
    "-    Import matplotlib library as plt\n",
    "-    Using the distplot() function plot satvariable.\n",
    "-    Display the plot using show() function."
   ]
  },
  {
   "cell_type": "code",
   "execution_count": 11,
   "id": "aac12abc-8bbc-4102-a050-2d9f529dbbb6",
   "metadata": {},
   "outputs": [
    {
     "name": "stderr",
     "output_type": "stream",
     "text": [
      "/tmp/ipykernel_122209/1393134521.py:6: UserWarning: \n",
      "\n",
      "`distplot` is a deprecated function and will be removed in seaborn v0.14.0.\n",
      "\n",
      "Please adapt your code to use either `displot` (a figure-level function with\n",
      "similar flexibility) or `histplot` (an axes-level function for histograms).\n",
      "\n",
      "For a guide to updating your code to use the new functions, please see\n",
      "https://gist.github.com/mwaskom/de44147ed2974457ad6372750bbe5751\n",
      "\n",
      "  sns.distplot(crab['sat'])\n"
     ]
    },
    {
     "data": {
      "image/png": "[encoded data removed]",
      "text/plain": [
       "<Figure size 640x480 with 1 Axes>"
      ]
     },
     "metadata": {},
     "output_type": "display_data"
    }
   ],
   "source": [
    "# Import libraries\n",
    "import seaborn as sns\n",
    "import matplotlib.pyplot as plt\n",
    "\n",
    "# Plot sat variable\n",
    "sns.distplot(crab['sat'])\n",
    "\n",
    "# Display the plot\n",
    "plt.show()"
   ]
  },
  {
   "cell_type": "markdown",
   "id": "a9b34f21-9bbf-49a1-8507-47324c813117",
   "metadata": {},
   "source": [
    "## Fitting a Poisson regression\n",
    "### Continuing with the crab dataset you will fit your first Poisson regression model in this exercise.\n",
    "\n",
    "### The crab dataset has been preloaded in the workspace.\n",
    "\n",
    "### Instructions\n",
    "-    Import statsmodels.api library as sm.\n",
    "-    Import glm from statsmodels.formula.api.\n",
    "-    Using Poisson() for the response distribution fit the Poisson regression with satas the response and weight for the explanatory variable.\n",
    "-    Display the model results using .summary()."
   ]
  },
  {
   "cell_type": "code",
   "execution_count": 12,
   "id": "3b9e3c80-9757-4ae8-891d-83b53c39a315",
   "metadata": {},
   "outputs": [
    {
     "name": "stdout",
     "output_type": "stream",
     "text": [
      "                 Generalized Linear Model Regression Results                  \n",
      "==============================================================================\n",
      "Dep. Variable:                    sat   No. Observations:                  173\n",
      "Model:                            GLM   Df Residuals:                      171\n",
      "Model Family:                 Poisson   Df Model:                            1\n",
      "Link Function:                    Log   Scale:                          1.0000\n",
      "Method:                          IRLS   Log-Likelihood:                -458.08\n",
      "Date:                Fri, 15 Mar 2024   Deviance:                       560.87\n",
      "Time:                        03:28:49   Pearson chi2:                     536.\n",
      "No. Iterations:                     5   Pseudo R-squ. (CS):             0.3402\n",
      "Covariance Type:            nonrobust                                         \n",
      "==============================================================================\n",
      "                 coef    std err          z      P>|z|      [0.025      0.975]\n",
      "------------------------------------------------------------------------------\n",
      "Intercept     -0.4284      0.179     -2.394      0.017      -0.779      -0.078\n",
      "weight         0.5893      0.065      9.064      0.000       0.462       0.717\n",
      "==============================================================================\n"
     ]
    }
   ],
   "source": [
    "# Import libraries\n",
    "import statsmodels.api as sm\n",
    "from statsmodels.formula.api import glm\n",
    "\n",
    "# Fit Poisson regression of sat by weight\n",
    "model = glm('sat ~ weight', data = crab, family = sm.families.Poisson()).fit()\n",
    "\n",
    "# Display model results\n",
    "print(model.summary())"
   ]
  },
  {
   "cell_type": "markdown",
   "id": "944b3aae-9220-4ee6-a615-7b49e518b936",
   "metadata": {},
   "source": [
    "## Estimate parameter lambda\n",
    "### In the video you learned how the log link function provides for the linear combination in the parameters defining the Poisson regression model of the form\n",
    "\n",
    "### To obtain the response function in terms of lambda we exponentiated the model function to obtain [equation skipped] In this exercise, you will use this formulation with the horseshoe crab data to compute the estimate of the mean [equation skipped] for the female crab width.\n",
    "\n",
    "### Dataset crab is preloaded in the workspace.\n",
    "\n",
    "### Instructions 1/2\n",
    "-    Import statsmodels.api library as sm and glm from statsmodels.formula.api.\n",
    "-    Fit and print a Poisson regression model with sat as the response and width as explanatory variable."
   ]
  },
  {
   "cell_type": "code",
   "execution_count": 13,
   "id": "26face0f-3277-4604-97ed-8087c2f4ae67",
   "metadata": {},
   "outputs": [
    {
     "name": "stdout",
     "output_type": "stream",
     "text": [
      "                 Generalized Linear Model Regression Results                  \n",
      "==============================================================================\n",
      "Dep. Variable:                    sat   No. Observations:                  173\n",
      "Model:                            GLM   Df Residuals:                      171\n",
      "Model Family:                 Poisson   Df Model:                            1\n",
      "Link Function:                    Log   Scale:                          1.0000\n",
      "Method:                          IRLS   Log-Likelihood:                -461.59\n",
      "Date:                Fri, 15 Mar 2024   Deviance:                       567.88\n",
      "Time:                        03:28:49   Pearson chi2:                     544.\n",
      "No. Iterations:                     5   Pseudo R-squ. (CS):             0.3129\n",
      "Covariance Type:            nonrobust                                         \n",
      "==============================================================================\n",
      "                 coef    std err          z      P>|z|      [0.025      0.975]\n",
      "------------------------------------------------------------------------------\n",
      "Intercept     -3.3048      0.542     -6.095      0.000      -4.368      -2.242\n",
      "width          0.1640      0.020      8.216      0.000       0.125       0.203\n",
      "==============================================================================\n"
     ]
    }
   ],
   "source": [
    "# Import libraries\n",
    "import statsmodels.api as sm\n",
    "from statsmodels.formula.api import glm\n",
    "\n",
    "# Fit Poisson regression of sat by width\n",
    "model = glm('sat ~ width', data = crab, family = sm.families.Poisson()).fit()\n",
    "\n",
    "# Display model results\n",
    "print(model.summary())"
   ]
  },
  {
   "cell_type": "markdown",
   "id": "7877b13e-2334-49e7-a5c4-43e00d3a4513",
   "metadata": {},
   "source": [
    "-    Using numpy mean() to compute average of width and save as mean_width.\n",
    "-    Extract coefficients from model and using the response function compute lambda."
   ]
  },
  {
   "cell_type": "code",
   "execution_count": 14,
   "id": "d1ea9253-65d0-47e0-b090-dc2769f499cd",
   "metadata": {},
   "outputs": [
    {
     "name": "stdout",
     "output_type": "stream",
     "text": [
      "Average width:  26.299\n",
      "Estimated mean of y at average width:  2.744\n"
     ]
    }
   ],
   "source": [
    "# Compute average crab width\n",
    "mean_width = np.mean(crab['width'])\n",
    "\n",
    "# Print the compute mean\n",
    "print('Average width: ', round(mean_width, 3))\n",
    "\n",
    "# Extract coefficients\n",
    "intercept, slope = model.params\n",
    "\n",
    "# Compute the estimated mean of y (lambda) at the average width\n",
    "est_lambda = np.exp(intercept) * np.exp(slope * mean_width)\n",
    "\n",
    "# Print estimated mean of y\n",
    "print('Estimated mean of y at average width: ', round(est_lambda, 3))"
   ]
  },
  {
   "cell_type": "markdown",
   "id": "576740ac-5372-40e4-9cc9-66362462b8a5",
   "metadata": {},
   "source": [
    "## Interpret Poisson coefficients\n",
    "### Using the fitted model from the previous exercise, model, you will further analyze the results by interpreting coefficients and the multiplicative effect on the mean of the response.\n",
    "\n",
    "### Recall that the multiplicative effect is computed with exp(B1).\n",
    "\n",
    "### Instructions 2/2\n",
    "-    Extract model coefficients from model and save them as intercept and slope.\n",
    "-    Compute the multiplicative effect on the fitted value for each 1-unit increase in width."
   ]
  },
  {
   "cell_type": "code",
   "execution_count": 15,
   "id": "9c08cb05-ff41-45c7-b319-b76c7c082f08",
   "metadata": {},
   "outputs": [
    {
     "name": "stdout",
     "output_type": "stream",
     "text": [
      "1.17826743864523\n"
     ]
    }
   ],
   "source": [
    "# Extract coefficients\n",
    "intercept, slope = model.params\n",
    "\n",
    "# Compute and print the multiplicative effect\n",
    "print(np.exp(slope))"
   ]
  },
  {
   "cell_type": "markdown",
   "id": "968944c3-659b-423b-a937-0e234613f8db",
   "metadata": {},
   "source": [
    "## Poisson confidence intervals\n",
    "### Using the previously fitted horseshoes crab model \"sat ~ width\" analyze uncertainty of the coefficient estimates by computing the confidence intervals for B1  and the confidence intervals for the multiplicative effect on the mean.\n",
    "\n",
    "### The model object and crab dataset are preloaded in the workspace.\n",
    "\n",
    "### Instructions\n",
    "-    Using the .conf_int() function extract the confidence intervals and save as model_ci.\n",
    "-    Compute confidence intervals for the multiplicative effect on the mean."
   ]
  },
  {
   "cell_type": "code",
   "execution_count": 16,
   "id": "3f541f2b-7440-4c90-864e-681e58013245",
   "metadata": {},
   "outputs": [
    {
     "name": "stdout",
     "output_type": "stream",
     "text": [
      "                  0         1\n",
      "Intercept  0.012683  0.106248\n",
      "width      1.133051  1.225289\n"
     ]
    }
   ],
   "source": [
    "# Compute confidence intervals for the coefficients\n",
    "model_ci = model.conf_int()\n",
    "\n",
    "# Compute and print the confidence intervals for the multiplicative effect on the mean\n",
    "print(np.exp(model_ci))"
   ]
  },
  {
   "cell_type": "markdown",
   "id": "a7b1c248-89d0-41ae-9d1b-b57709145c84",
   "metadata": {},
   "source": [
    "## Is the mean equal to the variance?\n",
    "### Under the Poisson model one of the assumptions was that the mean should be the same as the variance. As you learned in the lecture, if this assumption is violated then there is overdispersion. Without adjusting for overdispersion you would wrongly interpret standard errors of the given model.\n",
    "\n",
    "### In this exercise you will first compute the mean and the variance of the number of satellites for the female crabs.\n",
    "\n",
    "### The crab dataset is loaded in your workspace.\n",
    "\n",
    "### Instructions\n",
    "-    Use numpy mean() to compute and print sample mean for number of satellites variable sat as sat_mean.\n",
    "-    Use numpy var() to compute and print sample variance for number of satellites variable sat as sat_var.\n",
    "-    Compute and print ratio of sat_var to sat_mean."
   ]
  },
  {
   "cell_type": "code",
   "execution_count": 17,
   "id": "fda5ac25-303e-45f5-9773-14d05e674ebc",
   "metadata": {},
   "outputs": [
    {
     "name": "stdout",
     "output_type": "stream",
     "text": [
      "Sample mean: 2.919\n",
      "Sample variance: 9.855\n",
      "Ratio: 3.376\n"
     ]
    }
   ],
   "source": [
    "# Compute and print sample mean of the number of satellites: sat_mean\n",
    "sat_mean = np.mean(crab.sat)\n",
    "\n",
    "print('Sample mean:', round(sat_mean, 3))\n",
    "\n",
    "# Compute and print sample variance of the number of satellites: sat_var\n",
    "sat_var = np.var(crab.sat)\n",
    "print('Sample variance:', round(sat_var, 3))\n",
    "\n",
    "# Compute ratio of variance to mean\n",
    "print('Ratio:', round(sat_var/sat_mean, 3))"
   ]
  },
  {
   "cell_type": "markdown",
   "id": "85b16666-256a-409f-a41a-1781de81ea49",
   "metadata": {},
   "source": [
    "## Computing expected number of counts\n",
    "### In the previous exercises you have computed the mean and variance of the crab data and you determined they are not equal. In this exercise you will practice another analysis for overdispersion by using the already computed mean and calculating the expected number of counts per certain value of counts, for example zero counts. In other words, what count of zero satellites should we expect in the sample given the computed sample mean.\n",
    "\n",
    "### Recall figure from the crab dataset where you can notice a large number of zero counts. [graph skipped]\n",
    "\n",
    "### Recall that to compute the expected number of counts given the parameter you can use the defined Poisson distribution, given by \"P(y) = (lambda^y * e^(-lambda)) / y!\n",
    "\n",
    "### The crab dataset and the computed mean sat_mean is preloaded in the workspace.\n",
    "\n",
    "### Instructions\n",
    "-    Using computed mean sat_mean and the zero counts \"y = 0\" compute the expected number of zero counts. Use math factorial().\n",
    "-    Compute the number of observations with zero counts in the sat variable using the sum() and the total number of observations in the sample using the len() functions.\n",
    "-    Print the ratio of actual zero count observations and total number of observations."
   ]
  },
  {
   "cell_type": "code",
   "execution_count": 18,
   "id": "7529a835-492e-4534-bc4f-198a4c0947b1",
   "metadata": {},
   "outputs": [
    {
     "name": "stdout",
     "output_type": "stream",
     "text": [
      "Expected zero counts given mean of  2.919 is  5.4\n",
      "Actual zero counts in the sample:  35.8\n"
     ]
    }
   ],
   "source": [
    "# Expected number of zero counts\n",
    "exp_zero_cnt = ((sat_mean**0)*np.exp(-sat_mean))/math.factorial(0)\n",
    "\n",
    "# Print exp_zero_counts\n",
    "print('Expected zero counts given mean of ', round(sat_mean,3), \n",
    "      'is ', round(exp_zero_cnt,3)*100)\n",
    "\n",
    "# Number of zero counts in sat variable\n",
    "actual_zero_cnt = sum(crab['y']  == 0)\n",
    "\n",
    "# Number of observations in crab dataset\n",
    "num_obs = len(crab)\n",
    "\n",
    "# Print the percentage of zero count observations in the sample\n",
    "print('Actual zero counts in the sample: ', round(actual_zero_cnt / num_obs,3)*100)"
   ]
  },
  {
   "cell_type": "markdown",
   "id": "e185ed40-5299-4d18-8601-a1283d9ade31",
   "metadata": {},
   "source": [
    "## Checking for overdispersion\n",
    "### In this exercise you will check for overdispersion in the model you fitted previously, namely the horseshoe crab Poisson model where you fitted sat given width. Recall from the video that to check for potential overdispersion in the fit you would compute the following <code>model.pearson_chi2 / model.df_resid</code> where .pearson_chi2 represents Pearson statistic and .df_resid represents the degrees of freedom of the residuals.\n",
    "\n",
    "### The model crab_pois and crab dataset are preloaded in the workspace.\n",
    "\n",
    "### Instructions\n",
    "-    Compute the ratio of the Pearson statistic and the degrees of freedom of the residuals for the crab_pois Poisson regression model."
   ]
  },
  {
   "cell_type": "code",
   "execution_count": 20,
   "id": "14046099-b19d-4ad5-9c57-36dc4ef54e32",
   "metadata": {},
   "outputs": [],
   "source": [
    "crab_pois = glm('sat ~ width', data = crab, family = sm.families.Poisson()).fit()"
   ]
  },
  {
   "cell_type": "code",
   "execution_count": 21,
   "id": "68b3e470-d9e3-44a0-81fa-f3aec7bbb630",
   "metadata": {},
   "outputs": [
    {
     "name": "stdout",
     "output_type": "stream",
     "text": [
      "3.182204743877352\n"
     ]
    }
   ],
   "source": [
    "# Compute and print the overdispersion approximation\n",
    "print(crab_pois.pearson_chi2 / crab_pois.df_resid)"
   ]
  },
  {
   "cell_type": "markdown",
   "id": "a8687c43-6b9d-42f8-9653-80afd47e5c8b",
   "metadata": {},
   "source": [
    "## Fitting negative binomial\n",
    "### The negative binomial allows for the variance to exceed the mean, which is what you have measured in the previous exercise in your data crab. In this exercise you will recall the previous fit of the Poisson regression using the log link function and additionally fit negative binomial model also using the log link function.\n",
    "\n",
    "### You will analyze and see how the statistical measures were changed.\n",
    "\n",
    "### The model crab_pois and crab is loaded in your workspace.\n",
    "\n",
    "### Instructions\n",
    "-    Define a formula for the regression model so that sat is predicted by width.\n",
    "-    Fit the negative binomial using NegativeBinomial() and save the model as crab_NB.\n",
    "-    Print the summaries of the Poisson model crab_pois and the newly fitted negative binomial model."
   ]
  },
  {
   "cell_type": "code",
   "execution_count": 23,
   "id": "87396c8f-5693-4822-bf56-8d28898a2f53",
   "metadata": {},
   "outputs": [],
   "source": [
    "import statsmodels.formula.api as smf"
   ]
  },
  {
   "cell_type": "code",
   "execution_count": 24,
   "id": "f8251621-f855-44b2-94cd-84aa6b38f866",
   "metadata": {},
   "outputs": [
    {
     "name": "stdout",
     "output_type": "stream",
     "text": [
      "                 Generalized Linear Model Regression Results                  \n",
      "==============================================================================\n",
      "Dep. Variable:                    sat   No. Observations:                  173\n",
      "Model:                            GLM   Df Residuals:                      171\n",
      "Model Family:                 Poisson   Df Model:                            1\n",
      "Link Function:                    Log   Scale:                          1.0000\n",
      "Method:                          IRLS   Log-Likelihood:                -461.59\n",
      "Date:                Fri, 15 Mar 2024   Deviance:                       567.88\n",
      "Time:                        03:33:52   Pearson chi2:                     544.\n",
      "No. Iterations:                     5   Pseudo R-squ. (CS):             0.3129\n",
      "Covariance Type:            nonrobust                                         \n",
      "==============================================================================\n",
      "                 coef    std err          z      P>|z|      [0.025      0.975]\n",
      "------------------------------------------------------------------------------\n",
      "Intercept     -3.3048      0.542     -6.095      0.000      -4.368      -2.242\n",
      "width          0.1640      0.020      8.216      0.000       0.125       0.203\n",
      "==============================================================================\n",
      "                 Generalized Linear Model Regression Results                  \n",
      "==============================================================================\n",
      "Dep. Variable:                    sat   No. Observations:                  173\n",
      "Model:                            GLM   Df Residuals:                      171\n",
      "Model Family:        NegativeBinomial   Df Model:                            1\n",
      "Link Function:                    Log   Scale:                          1.0000\n",
      "Method:                          IRLS   Log-Likelihood:                -375.80\n",
      "Date:                Fri, 15 Mar 2024   Deviance:                       206.41\n",
      "Time:                        03:33:52   Pearson chi2:                     155.\n",
      "No. Iterations:                     6   Pseudo R-squ. (CS):             0.1015\n",
      "Covariance Type:            nonrobust                                         \n",
      "==============================================================================\n",
      "                 coef    std err          z      P>|z|      [0.025      0.975]\n",
      "------------------------------------------------------------------------------\n",
      "Intercept     -4.0323      1.129     -3.572      0.000      -6.245      -1.820\n",
      "width          0.1913      0.042      4.509      0.000       0.108       0.274\n",
      "==============================================================================\n"
     ]
    },
    {
     "name": "stderr",
     "output_type": "stream",
     "text": [
      "/opt/conda/lib/python3.11/site-packages/statsmodels/genmod/families/family.py:1367: ValueWarning: Negative binomial dispersion parameter alpha not set. Using default value alpha=1.0.\n",
      "  warnings.warn(\"Negative binomial dispersion parameter alpha not \"\n"
     ]
    }
   ],
   "source": [
    "# Define the formula for the model fit\n",
    "formula = 'sat ~ width'\n",
    "\n",
    "# Fit the GLM negative binomial model using log link function\n",
    "crab_NB = smf.glm(formula = formula, data = crab, \n",
    "\t\t\t\t  family = sm.families.NegativeBinomial()).fit()\n",
    "\n",
    "# Print Poisson model's summary\n",
    "print(crab_pois.summary())\n",
    "\n",
    "# Print the negative binomial model's summary\n",
    "print(crab_NB.summary())"
   ]
  },
  {
   "cell_type": "markdown",
   "id": "3d882fcf-6473-422d-9a89-f86a767ffb7b",
   "metadata": {},
   "source": [
    "## Confidence intervals for negative Binomial model\n",
    "### Continuing with the previously fitted crab model you will compare the confidence intervals for the negative Binomial model with the Poisson regression model.\n",
    "\n",
    "### The Poisson regression model crab_pois and the negative Binomial model crab_NB, and crab dataset are preloaded in the workspace.\n",
    "\n",
    "### Instructions\n",
    "-    Compute and print confidence intervals for the crab_pois model.\n",
    "-    Compute and print confidence intervals for the crab_NB model."
   ]
  },
  {
   "cell_type": "code",
   "execution_count": 25,
   "id": "7a7ed77f-c4fe-43c3-beed-958949bf1868",
   "metadata": {},
   "outputs": [
    {
     "name": "stdout",
     "output_type": "stream",
     "text": [
      "Confidence intervals for the Poisson model\n",
      "                  0         1\n",
      "Intercept -4.367531 -2.241983\n",
      "width      0.124914  0.203176\n",
      "Confidence intervals for the Negative Binomial model\n",
      "                  0         1\n",
      "Intercept -6.244509 -1.820000\n",
      "width      0.108155  0.274472\n"
     ]
    }
   ],
   "source": [
    "# Compute confidence intervals for crab_Pois model\n",
    "print('Confidence intervals for the Poisson model')\n",
    "print(crab_pois.conf_int())\n",
    "\n",
    "# Compute confidence intervals for crab_NB model\n",
    "print('Confidence intervals for the Negative Binomial model')\n",
    "print(crab_NB.conf_int())"
   ]
  },
  {
   "cell_type": "markdown",
   "id": "da98ef2c-4e54-4f11-ade6-4e699b1880c3",
   "metadata": {},
   "source": [
    "## Plotting data and linear model fit\n",
    "### In the previous exercises you have practiced how to fit and interpret the Poisson regression model. In this exercise you will visually analyze the crab data and then the model fit.\n",
    "\n",
    "### First, you will plot a linear fit to the data, which later on you will use to compare to Poisson regression fitted values.\n",
    "\n",
    "### Instructions\n",
    "-    Import seaborn and matplotlib libraries.\n",
    "-    Using crab dataset plot the data points with width on the x-axis and sat on the y-axis, with jitter of 0.3 for the sat variable.\n",
    "-    Add a linear model fit by setting the argument fit_reg to True.\n",
    "-    Set 'color' of the line fit as 'green' and the 'label' as 'LM fit'."
   ]
  },
  {
   "cell_type": "code",
   "execution_count": 33,
   "id": "e5572622-09b5-47b1-bc04-1a9215fdae7a",
   "metadata": {},
   "outputs": [
    {
     "data": {
      "image/png": "[encoded data removed]",
      "text/plain": [
       "<Figure size 640x480 with 1 Axes>"
      ]
     },
     "metadata": {},
     "output_type": "display_data"
    }
   ],
   "source": [
    "# Import libraries\n",
    "#import seaborn as sns\n",
    "#import matplotlib.pyplot as plt\n",
    "#\n",
    "# Plot the data points and linear model fit\n",
    "#sns.regplot('width', 'sat', data = crab,\n",
    "#            y_jitter = 0.3,\n",
    "#            fit_reg = True,\n",
    "#            line_kws = {'color':'green', \n",
    "#                        'label':'LM fit'})\n",
    "#\n",
    "# Print plot\n",
    "#plt.show()\n",
    "\n",
    "## CORRECTED\n",
    "# Import libraries\n",
    "import seaborn as sns\n",
    "import matplotlib.pyplot as plt\n",
    "\n",
    "# Plot the data points and linear model fit\n",
    "sns.regplot(x='width', y='sat', data = crab,\n",
    "            y_jitter = 0.3,\n",
    "            fit_reg = True,\n",
    "            line_kws = {'color':'green', \n",
    "                        'label':'LM fit'})\n",
    "\n",
    "# Print plot\n",
    "plt.show()"
   ]
  },
  {
   "cell_type": "markdown",
   "id": "a3803a52-cb21-44b1-8e6a-46e02b31edd1",
   "metadata": {},
   "source": [
    "## Plotting fitted values\n",
    "### Using the previously fitted Poisson regression model of horseshoe crab data with sat as the response and width as the explanatory variable you will visually assess the model fit and compare to the previously visualized linear model.\n",
    "\n",
    "### The crab data and Poisson regression model saved as model are loaded in the workspace.\n",
    "\n",
    "### Instructions 1/2\n",
    "-    Extract the fitted values and add them to the crab dataframe as a new fit_values column."
   ]
  },
  {
   "cell_type": "code",
   "execution_count": 35,
   "id": "f08aac86-0179-4aac-97a1-a15320dae998",
   "metadata": {},
   "outputs": [],
   "source": [
    "# Add fitted values to the fit_values column of crab dataframe\n",
    "crab['fit_values'] = model.fittedvalues"
   ]
  },
  {
   "cell_type": "markdown",
   "id": "ea82dbf1-f5f9-4c80-8db0-66ac428587c5",
   "metadata": {},
   "source": [
    "-    Using scatterplot() plot the fitted values of the Poisson regression model with width for x-axis and fitted values fit_values for y-axis.\n",
    "-    For 'color' define 'red' and 'label' define as 'Poisson'.\n",
    "-    Display the plot using show function."
   ]
  },
  {
   "cell_type": "code",
   "execution_count": 38,
   "id": "d9a0c6e3-7472-4591-911f-7a384d6b51c2",
   "metadata": {},
   "outputs": [
    {
     "data": {
      "image/png": "[encoded data removed]",
      "text/plain": [
       "<Figure size 640x480 with 1 Axes>"
      ]
     },
     "metadata": {},
     "output_type": "display_data"
    }
   ],
   "source": [
    "# Plot data points\n",
    "#sns.regplot('width', 'sat', data = crab,\n",
    "#            y_jitter = 0.3,\n",
    "#            fit_reg = True, \n",
    "#            line_kws = {'color':'green', \n",
    "#                        'label':'LM fit'})\n",
    "#\n",
    "# Poisson regression fitted values\n",
    "#sns.scatterplot('width','fit_values', data = crab,\n",
    "#           color = 'red', label = 'Poisson')\n",
    "#\n",
    "# Print plot          \n",
    "#plt.show()\n",
    "\n",
    "# Plot data points\n",
    "sns.regplot(x='width', y='sat', data = crab,\n",
    "            y_jitter = 0.3,\n",
    "            fit_reg = True, \n",
    "            line_kws = {'color':'green', \n",
    "                        'label':'LM fit'})\n",
    "\n",
    "# Poisson regression fitted values\n",
    "sns.scatterplot(x='width',y='fit_values', data = crab,\n",
    "           color = 'red', label = 'Poisson')\n",
    "\n",
    "# Print plot          \n",
    "plt.show()"
   ]
  },
  {
   "cell_type": "code",
   "execution_count": null,
   "id": "c9444ab5-cf31-4a26-870d-6130eb1b5709",
   "metadata": {},
   "outputs": [],
   "source": []
  }
 ],
 "metadata": {
  "kernelspec": {
   "display_name": "Python 3 (ipykernel)",
   "language": "python",
   "name": "python3"
  },
  "language_info": {
   "codemirror_mode": {
    "name": "ipython",
    "version": 3
   },
   "file_extension": ".py",
   "mimetype": "text/x-python",
   "name": "python",
   "nbconvert_exporter": "python",
   "pygments_lexer": "ipython3",
   "version": "3.11.6"
  }
 },
 "nbformat": 4,
 "nbformat_minor": 5
}
