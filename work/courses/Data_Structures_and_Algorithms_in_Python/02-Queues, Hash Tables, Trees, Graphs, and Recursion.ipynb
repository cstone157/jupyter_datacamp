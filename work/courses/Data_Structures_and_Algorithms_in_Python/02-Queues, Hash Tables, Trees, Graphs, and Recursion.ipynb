{
 "cells": [
  {
   "cell_type": "code",
   "execution_count": 1,
   "id": "098bd464-cedf-430e-af9a-0cbbda85aaf8",
   "metadata": {},
   "outputs": [],
   "source": [
    "import queue\n",
    "\n",
    "## They were actually using a linked-list, but F it.  I don't care enough to do that.\n",
    "class Queue:\n",
    "    def __init__(self):\n",
    "        self.queue = queue.LifoQueue(maxsize=0)\n",
    "    \n",
    "    def enqueue(self, data):\n",
    "        self.queue.put(data)\n",
    "    \n",
    "    def dequeue(self):\n",
    "        return self.queue.get()\n",
    "    \n",
    "    def has_elements(self):\n",
    "        return ~self.queue.empty()"
   ]
  },
  {
   "cell_type": "markdown",
   "id": "2c5e0997-7d4a-4e26-a844-948cdf58dcdb",
   "metadata": {},
   "source": [
    "## Implementing a queue for printer tasks\n",
    "\n",
    "### In the last video, you learned that queues can have multiple applications, such as managing the tasks for a printer.\n",
    "\n",
    "### In this exercise, you will implement a class called PrinterTasks(), which will represent a simplified queue for a printer. To do this, you will be provided with the Queue() class that includes the following methods:\n",
    "\n",
    "-    enqueue(data): adds an element to the queue\n",
    "-    dequeue(): removes an element from the queue\n",
    "-    has_elements(): checks if the queue has elements. This is the code:\n",
    "\n",
    "<code>\n",
    "    def has_elements(self):\n",
    "      return self.head != None\n",
    "</code>\n",
    "\n",
    "### You will start coding the PrinterTasks() class with its add_document() and print_documents() methods. After that, you will simulate the execution of a program that uses the PrinterTasks() class.\n",
    "\n",
    "-    Complete the add_document() function to add a document to the queue.\n",
    "-    Complete the print_documents() function to iterate over the queue while it has elements, and remove each document in the queue."
   ]
  },
  {
   "cell_type": "code",
   "execution_count": 2,
   "id": "7fc3daaf-aac1-488a-9c8e-cf20b3e54465",
   "metadata": {},
   "outputs": [],
   "source": [
    "class PrinterTasks:\n",
    "  def __init__(self):\n",
    "    self.queue = Queue()\n",
    "      \n",
    "  def add_document(self, document):\n",
    "    # Add the document to the queue\n",
    "    self.queue.enqueue(document)\n",
    "      \n",
    "  def print_documents(self):\n",
    "    # Iterate over the queue while it has elements\n",
    "    while self.queue.has_elements():\n",
    "      # Remove the document from the queue\n",
    "      print(\"Printing\", self.queue.dequeue())"
   ]
  },
  {
   "cell_type": "markdown",
   "id": "2fcb462d-09e8-4e5e-8f42-164488ed980c",
   "metadata": {},
   "source": [
    "-    Add some documents to print.\n",
    "-    Print all the documents in the queue."
   ]
  },
  {
   "cell_type": "code",
   "execution_count": null,
   "id": "d9309a12-cce4-4e74-b93b-151bcc79f191",
   "metadata": {},
   "outputs": [
    {
     "name": "stdout",
     "output_type": "stream",
     "text": [
      "Printing Document 3\n",
      "Printing Document 2\n",
      "Printing Document 1\n"
     ]
    }
   ],
   "source": [
    "printer_tasks = PrinterTasks()\n",
    "# Add some documents to print\n",
    "printer_tasks.add_document(\"Document 1\")\n",
    "printer_tasks.add_document(\"Document 2\")\n",
    "printer_tasks.add_document(\"Document 3\")\n",
    "# Print all the documents in the queue\n",
    "printer_tasks.print_documents()"
   ]
  },
  {
   "cell_type": "markdown",
   "id": "fd3a8574-3b90-42fb-a4db-1c13ebc2cf39",
   "metadata": {},
   "source": [
    "## Using Python's SimpleQueue\n",
    "\n",
    "### In this exercise, you will work with Python's SimpleQueue(). You will create a queue called my_orders_queue to add the orders of a restaurant and remove them from it when required.\n",
    "\n",
    "-    Create the queue.\n",
    "-    Add an element to the queue.\n",
    "-    Remove an element from the queue."
   ]
  },
  {
   "cell_type": "code",
   "execution_count": null,
   "id": "701ac632-d0b1-487a-b345-d062a00cbbab",
   "metadata": {},
   "outputs": [],
   "source": [
    "import queue\n",
    "\n",
    "# Create the queue\n",
    "my_orders_queue = queue.SimpleQueue()\n",
    "\n",
    "# Add an element to the queue\n",
    "my_orders_queue.put(\"samosas\")\n",
    "\n",
    "# Remove an element from the queue\n",
    "my_orders_queue.get()"
   ]
  },
  {
   "cell_type": "markdown",
   "id": "c3ef7869-8970-4ff3-ab37-7ee218c44907",
   "metadata": {},
   "source": [
    "## Correcting bugs in a dictionary\n",
    "\n",
    "### You have been given a program that is supposed to iterate over the dishes of a menu, printing the name and its value.\n",
    "\n",
    "### The dishes of the menu are stored in the following dictionary:\n",
    "\n",
    "<code>\n",
    "my_menu = {\n",
    "  'lasagna': 14.75,\n",
    "  'moussaka': 21.15,\n",
    "  'sushi': 16.05,\n",
    "  'paella': 21,\n",
    "  'samosas': 14\n",
    "}\n",
    "</code>\n",
    "\n",
    "### Testing the program, you realize that it is not correct.\n",
    "\n",
    "-    Correct the mistake in the for loop.\n",
    "-    Correct the mistake in the print() function."
   ]
  },
  {
   "cell_type": "code",
   "execution_count": null,
   "id": "543b34cd-c6b3-449d-ac2d-75b2b5f650f5",
   "metadata": {},
   "outputs": [],
   "source": [
    "my_menu = {\n",
    "  'lasagna': 14.75,\n",
    "  'moussaka': 21.15,\n",
    "  'sushi': 16.05,\n",
    "  'paella': 21,\n",
    "  'samosas': 14\n",
    "}\n",
    "\n",
    "# Correct the mistake\n",
    "for key, value in my_menu.items():\n",
    "  # Correct the mistake\n",
    "  print(f\"The price of the {key} is {value}.\")"
   ]
  },
  {
   "cell_type": "markdown",
   "id": "1d1658ae-44bd-47fe-a1e7-004be12e7efe",
   "metadata": {},
   "source": [
    "## Iterating over a nested dictionary\n",
    "\n",
    "### You are writing a program that iterates over the following nested dictionary to determine if the dishes need to be served cold or hot.\n",
    "<code>\n",
    "my_menu = {\n",
    "  'sushi' : {\n",
    "    'price' : 19.25,\n",
    "    'best_served' : 'cold'\n",
    "  },\n",
    "  'paella' : {\n",
    "    'price' : 15,\n",
    "    'best_served' : 'hot'\n",
    "  },\n",
    "  'samosa' : {\n",
    "    'price' : 14,\n",
    "    'best_served' : 'hot'\n",
    "  },\n",
    "  'gazpacho' : {\n",
    "    'price' : 8,\n",
    "    'best_served' : 'cold'\n",
    "  }\n",
    "}\n",
    "</code>\n",
    "\n",
    "### Can you complete the program so that it outputs the following?\n",
    "\n",
    "<code>\n",
    "Sushi is best served cold.\n",
    "Paella is best served hot.\n",
    "Samosa is best served hot.\n",
    "Gazpacho is best served cold.\n",
    "</code>\n",
    "    \n",
    "-    Iterate over the elements of the menu.\n",
    "-    Print whether the dish must be served cold or hot."
   ]
  },
  {
   "cell_type": "code",
   "execution_count": null,
   "id": "0a94c179-5cde-4309-b66e-4eb1c164ca58",
   "metadata": {},
   "outputs": [],
   "source": [
    "my_menu = {\n",
    "  'sushi' : {\n",
    "    'price' : 19.25,\n",
    "    'best_served' : 'cold'\n",
    "  },\n",
    "  'paella' : {\n",
    "    'price' : 15,\n",
    "    'best_served' : 'hot'\n",
    "  },\n",
    "  'samosa' : {\n",
    "    'price' : 14,\n",
    "    'best_served' : 'hot'\n",
    "  },\n",
    "  'gazpacho' : {\n",
    "    'price' : 8,\n",
    "    'best_served' : 'cold'\n",
    "  }\n",
    "}\n",
    "\n",
    "# Iterate the elements of the menu\n",
    "for dish, values in my_menu.items():\n",
    "  # Print whether the dish must be served cold or hot\n",
    "  print(f\"{dish.title()} is best served {values['best_served']}.\")"
   ]
  },
  {
   "cell_type": "markdown",
   "id": "fc2fe01f-ff53-420e-92c8-749a94237ff8",
   "metadata": {},
   "source": [
    "## Correcting bugs in a tree implementation\n",
    "\n",
    "### You have been given a program that is supposed to create the following binary tree:\n",
    "\n",
    "### Graphical representation of a tree. (Not included, Head is \"A\", left node is \"B\", and right node is \"C\")\n",
    "\n",
    "### Testing it, you realize that the program is not correct. Could you correct it so that it works correctly?\n",
    "\n",
    "-    Correct the mistakes in the init() method.\n",
    "-    Correct the mistake in the creation of the root_node."
   ]
  },
  {
   "cell_type": "code",
   "execution_count": null,
   "id": "d18ef20c-3122-4a81-b5ea-385ac9499392",
   "metadata": {},
   "outputs": [],
   "source": [
    "class TreeNode:\n",
    "  \n",
    "  def __init__(self, data, left=None, right=None):\n",
    "    # Correct the mistakes\n",
    "    self.data = data\n",
    "    self.left_child = left\n",
    "    self.right_child = right\n",
    "\n",
    "node1 = TreeNode(\"B\")\n",
    "node2 = TreeNode(\"C\")\n",
    "# Correct the mistake\n",
    "root_node = TreeNode(\"A\", node1, node2)"
   ]
  },
  {
   "cell_type": "markdown",
   "id": "43c4a54c-c16f-450f-8793-3fdd32210984",
   "metadata": {},
   "source": [
    "## Building a weighted graph\n",
    "\n",
    "### In the last video, you learned how to implement a graph in Python.\n",
    "\n",
    "<code>\n",
    "class Graph:\n",
    "  def __init__(self):\n",
    "    self.vertices = {}\n",
    "\n",
    "  def add_vertex(self, vertex):\n",
    "    self.vertices[vertex] = []\n",
    "\n",
    "  def add_edge(self, source, target):\n",
    "    self.vertices[source].append(target)\n",
    "</code>\n",
    "\n",
    "### This exercise has two steps. In the first one, you will modify this code so that it can be used to create a weighted graph. To do this, you can use a hash table to represent the adjacent vertices with their weights. In the second step, you will build the following weighted graph:\n",
    "\n",
    "### Representation of a weighted graph.  (Not included)\n",
    "\n",
    "-    Set the data for the vertex.\n",
    "-    Set the weight."
   ]
  },
  {
   "cell_type": "code",
   "execution_count": null,
   "id": "73609ac7-2d82-4558-b911-179a3b8d17a5",
   "metadata": {},
   "outputs": [],
   "source": [
    "class WeightedGraph:\n",
    "  def __init__(self):\n",
    "    self.vertices = {}\n",
    "  \n",
    "  def add_vertex(self, vertex):\n",
    "    # Set the data for the vertex\n",
    "    self.vertices[vertex] = []\n",
    "    \n",
    "  def add_edge(self, source, target, weight):\n",
    "    # Set the weight\n",
    "    self.vertices[source].append([target, weight])"
   ]
  },
  {
   "cell_type": "markdown",
   "id": "7b068aec-e087-4527-aab8-1e0581804bc1",
   "metadata": {},
   "source": [
    "-    Create the vertices for the cities.\n",
    "-    Create the adjacent vertices for the cities."
   ]
  },
  {
   "cell_type": "code",
   "execution_count": null,
   "id": "23daa280-4ddf-4023-9828-939b1b5ad367",
   "metadata": {},
   "outputs": [],
   "source": [
    "my_graph = WeightedGraph()\n",
    "\n",
    "# Create the vertices\n",
    "my_graph.add_vertex('Paris')\n",
    "my_graph.add_vertex('Toulouse')\n",
    "my_graph.add_vertex('Biarritz')\n",
    "\n",
    "# Create the edges\n",
    "my_graph.add_edge('Paris', 'Toulouse', 678)\n",
    "my_graph.add_edge('Toulouse', 'Biarritz', 312)\n",
    "my_graph.add_edge('Biarritz', 'Paris', 783)"
   ]
  },
  {
   "cell_type": "markdown",
   "id": "161fc478-4509-44bc-a57f-71f23d8e178e",
   "metadata": {},
   "source": [
    "## Fibonacci sequence\n",
    "\n",
    "### In this exercise, you will implement the Fibonacci sequence, which is ubiquitous in nature. The sequence looks like this: \"0, 1, 1, 2, 3, 5, 8…\". You will create a recursive implementation of an algorithm that generates the sequence.\n",
    "\n",
    "### The first numbers are 0 and 1, and the rest are the sum of the two preceding numbers.\n",
    "\n",
    "#### We can define this sequence recursively as: fib(n) = fib(n - 1) + fib(n - 2), with fib(0) = 0 and fib(1) = 1, being n the nth position in the sequence.\n",
    "\n",
    "### In the first step, you will code Fibonacci using recursion. In the second step, you will improve it by using dynamic programming, saving the solutions of the subproblems in the cache variable.\n",
    "\n",
    "-        Define the base case.\n",
    "-        Call the fibonacci() function recursively."
   ]
  },
  {
   "cell_type": "code",
   "execution_count": null,
   "id": "24f61bbd-c1b9-4009-a043-689c702dd0da",
   "metadata": {},
   "outputs": [],
   "source": [
    "def fibonacci(n):\n",
    "  # Define the base case\n",
    "  if n <= 1:\n",
    "    return n\n",
    "  else:\n",
    "    # Call recursively to fibonacci\n",
    "    return fibonacci(n - 1) + fibonacci(n - 2)\n",
    "    \n",
    "print(fibonacci(6))"
   ]
  },
  {
   "cell_type": "markdown",
   "id": "19ec7f21-cdc7-402c-bae4-7ab217bd0b95",
   "metadata": {},
   "source": [
    "-    Check if the value exists in cache.\n",
    "-    Save the result in cache to avoid recalculating it later."
   ]
  },
  {
   "cell_type": "code",
   "execution_count": null,
   "id": "735f81cc-1c7f-463f-ae84-55cb7f62fea0",
   "metadata": {},
   "outputs": [],
   "source": [
    "cache = [None]*(100)\n",
    "\n",
    "def fibonacci(n): \n",
    "    if n <= 1:\n",
    "        return n\n",
    "    \n",
    "    # Check if the value exists\n",
    "    if not cache[n]:\n",
    "        # Save the result in cache\n",
    "        cache[n] = fibonacci(n-1) + fibonacci(n-2)\n",
    "    \n",
    "    return cache[n]\n",
    "    \n",
    "\n",
    "print(fibonacci(6))"
   ]
  },
  {
   "cell_type": "markdown",
   "id": "55495a70-0fc2-4ad9-8956-f447e0091a9d",
   "metadata": {},
   "source": [
    "## Towers of Hanoi\n",
    "\n",
    "### In this exercise, you will implement the Towers of Hanoi puzzle with a recursive algorithm. The aim of this game is to transfer all the disks from one of the three rods to another, following these rules:\n",
    "\n",
    "-    You can only move one disk at a time.\n",
    "-    You can only take the upper disk from one of the stacks and place it on top of another stack.\n",
    "-    You cannot put a larger disk on top of a smaller one.\n",
    "\n",
    "### Picture of the game Tower of Hanoi\n",
    "\n",
    "### The algorithm shown is an implementation of this game with four disks and three rods called 'A', 'B' and 'C'. The code contains two mistakes. In fact, if you execute it, it crashes the console because it exceeds the maximum recursion depth. Can you find the bugs and fix them?\n",
    "\n",
    "-    Correct the base case.\n",
    "-    Correct the calls to the hanoi() function."
   ]
  },
  {
   "cell_type": "code",
   "execution_count": null,
   "id": "211e1394-8995-46da-8969-22fb5363813f",
   "metadata": {},
   "outputs": [],
   "source": [
    "def hanoi(num_disks, from_rod, to_rod, aux_rod):\n",
    "  # Correct the base case\n",
    "  if num_disks >= 0:\n",
    "    # Correct the calls to the hanoi function\n",
    "    hanoi(num_disks - 1, from_rod, aux_rod, to_rod)\n",
    "    print(\"Moving disk\", num_disks, \"from rod\", from_rod, \"to rod\", to_rod)\n",
    "    hanoi(num_disks - 1, aux_rod, to_rod, from_rod)   \n",
    "\n",
    "num_disks = 4\n",
    "source_rod = 'A'\n",
    "auxiliar_rod = 'B'\n",
    "target_rod = 'C'\n",
    "\n",
    "hanoi(num_disks, source_rod, target_rod, auxiliar_rod)"
   ]
  },
  {
   "cell_type": "code",
   "execution_count": null,
   "id": "b6fce6f9-54b4-4728-8aa7-7ea2e4292aa3",
   "metadata": {},
   "outputs": [],
   "source": []
  }
 ],
 "metadata": {
  "kernelspec": {
   "display_name": "Python 3 (ipykernel)",
   "language": "python",
   "name": "python3"
  },
  "language_info": {
   "codemirror_mode": {
    "name": "ipython",
    "version": 3
   },
   "file_extension": ".py",
   "mimetype": "text/x-python",
   "name": "python",
   "nbconvert_exporter": "python",
   "pygments_lexer": "ipython3",
   "version": "3.9.10"
  }
 },
 "nbformat": 4,
 "nbformat_minor": 5
}
