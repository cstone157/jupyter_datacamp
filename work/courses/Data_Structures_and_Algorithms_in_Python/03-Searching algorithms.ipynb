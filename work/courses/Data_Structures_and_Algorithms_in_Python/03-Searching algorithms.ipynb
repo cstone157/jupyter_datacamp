{
 "cells": [
  {
   "cell_type": "markdown",
   "id": "92b5624f-90b3-4516-ad57-b14a8c351e14",
   "metadata": {},
   "source": [
    "## Implementing binary search\n",
    "\n",
    "### In this video, you learned how to implement linear search and binary search and saw the differences between them.\n",
    "\n",
    "### In this exercise, you need to implement the binary_search() function. Can you do it?\n",
    "\n",
    "-    Check whether the search value equals the value in the middle.\n",
    "-    Check whether the search value is smaller than the value in the middle\n",
    "-    Set last to the value of middle minus one."
   ]
  },
  {
   "cell_type": "code",
   "execution_count": 1,
   "id": "48c3c161-6e39-418d-aff7-fb8d27774635",
   "metadata": {},
   "outputs": [
    {
     "name": "stdout",
     "output_type": "stream",
     "text": [
      "True\n"
     ]
    }
   ],
   "source": [
    "def binary_search(ordered_list, search_value):\n",
    "  first = 0\n",
    "  last = len(ordered_list) - 1\n",
    "  \n",
    "  while first <= last:\n",
    "    middle = (first + last)//2\n",
    "    # Check whether the search value equals the value in the middle\n",
    "    if search_value == ordered_list[middle]:\n",
    "      return True\n",
    "    # Check whether the search value is smaller than the value in the middle\n",
    "    elif search_value < ordered_list[middle]:\n",
    "      # Set last to the value of middle minus one\n",
    "      last = middle - 1\n",
    "    else:\n",
    "      first = middle + 1\n",
    "  return False\n",
    "  \n",
    "print(binary_search([1,5,8,9,15,20,70,72], 5))"
   ]
  },
  {
   "cell_type": "markdown",
   "id": "354544a0-e05e-4510-97cc-ab98792b0b16",
   "metadata": {},
   "source": [
    "## Binary search using recursion\n",
    "\n",
    "### In this exercise, you will implement the binary search algorithm you just learned using recursion. Recall that a recursive function refers to a function calling itself.\n",
    "\n",
    "-    Define the base case.\n",
    "-    Check whether the search value equals the value in the middle.\n",
    "-    Call the binary_search_recursive() function recursively on the left half of the list.\n",
    "-    Call the binary_search_recursive() function recursively on the right half of the list."
   ]
  },
  {
   "cell_type": "code",
   "execution_count": 2,
   "id": "a67409d4-07b6-4a89-9143-64bde747ddcb",
   "metadata": {},
   "outputs": [
    {
     "name": "stdout",
     "output_type": "stream",
     "text": [
      "True\n"
     ]
    }
   ],
   "source": [
    "def binary_search_recursive(ordered_list, search_value):\n",
    "  # Define the base case\n",
    "  if len(ordered_list) == 0:\n",
    "    return False\n",
    "  else:\n",
    "    middle = len(ordered_list)//2\n",
    "    # Check whether the search value equals the value in the middle\n",
    "    if search_value == ordered_list[middle]:\n",
    "        return True\n",
    "    elif search_value < ordered_list[middle]:\n",
    "        # Call recursively with the left half of the list\n",
    "        return binary_search_recursive(ordered_list[:middle], search_value)\n",
    "    else:\n",
    "        # Call recursively with the right half of the list\n",
    "        return binary_search_recursive(ordered_list[middle+1:], search_value)\n",
    "  \n",
    "print(binary_search_recursive([1,5,8,9,15,20,70,72], 5))"
   ]
  },
  {
   "cell_type": "markdown",
   "id": "dfbf3c00-a953-4a84-9302-eb6836e316a0",
   "metadata": {},
   "source": [
    "## Inserting a node into a binary search tree\n",
    "\n",
    "### In the video, you learned what binary search trees (BSTs) are and how to implement their main operations.\n",
    "\n",
    "### In this exercise, you will implement a function to insert a node into a BST.\n",
    "\n",
    "### To test your code, you can use the following tree: Graphical representation of a binary search tree. (Skipped)\n",
    "\n",
    "### The nodes contain titles of books, building a BST based on alphabetical order.\n",
    "\n",
    "### This tree has been preloaded in the bst variable:\n",
    "<code>\n",
    "bst = CreateTree()\n",
    "</code>\n",
    "    \n",
    "### You can check if the node is correctly inserted with this code:\n",
    "\n",
    "<code>\n",
    "bst.insert(\"Pride and Prejudice\")\n",
    "print(search(bst, \"Pride and Prejudice\"))\n",
    "</code>\n",
    "\n",
    "-    Check if the BST is empty.\n",
    "-    Check if the data to insert is smaller than the current node's data.\n",
    "-    Check if the data to insert is greater than the current node's data."
   ]
  },
  {
   "cell_type": "code",
   "execution_count": 5,
   "id": "cf06bebb-aa7f-4098-9369-1a8d1818539c",
   "metadata": {},
   "outputs": [],
   "source": [
    "class TreeNode:  \n",
    "    def __init__(self, data, left=None, right=None):    \n",
    "        self.data = data    \n",
    "        self.left_child = left    \n",
    "        self.right_child = right\n",
    "\n",
    "def search(bst, search_value):\n",
    "    current_node = bst.root\n",
    "    while current_node:\n",
    "      if search_value == current_node.data:\n",
    "        return True\n",
    "      elif search_value < current_node.data:\n",
    "        current_node = current_node.left_child\n",
    "      else:\n",
    "        current_node = current_node.right_child\n",
    "    return False\n",
    "\n",
    "def CreateTree():\n",
    "  dracula = TreeNode(\"Dracula\")\n",
    "  jane = TreeNode(\"Jane Eyre\")\n",
    "  moby = TreeNode(\"Moby Dick\")\n",
    "  vanity = TreeNode(\"Vanity\")\n",
    "  heidi = TreeNode(\"Heidi\", dracula, jane)\n",
    "  oliver = TreeNode(\"Oliver Twist\", moby, vanity)\n",
    "  root_node = TreeNode(\"Little women\", heidi, oliver)\n",
    "  bst = BinarySearchTree()\n",
    "  bst.root = root_node\n",
    "  return bst"
   ]
  },
  {
   "cell_type": "code",
   "execution_count": 6,
   "id": "1f471878-a22b-495f-867f-73ec6b284d09",
   "metadata": {},
   "outputs": [
    {
     "name": "stdout",
     "output_type": "stream",
     "text": [
      "True\n"
     ]
    }
   ],
   "source": [
    "class BinarySearchTree:\n",
    "  def __init__(self):\n",
    "    self.root = None\n",
    "\n",
    "  def insert(self, data):\n",
    "    new_node = TreeNode(data)\n",
    "    # Check if the BST is empty\n",
    "    if self.root == None:\n",
    "      self.root = new_node\n",
    "      return\n",
    "    else:\n",
    "      current_node = self.root\n",
    "      while True:\n",
    "        # Check if the data to insert is smaller than the current node's data\n",
    "        if data < current_node.data:\n",
    "          if current_node.left_child == None:\n",
    "            current_node.left_child = new_node\n",
    "            return \n",
    "          else:\n",
    "            current_node = current_node.left_child\n",
    "        # Check if the data to insert is greater than the current node's data\n",
    "        elif data > current_node.data:\n",
    "          if current_node.right_child == None:\n",
    "            current_node.right_child = new_node\n",
    "            return\n",
    "          else:\n",
    "            current_node = current_node.right_child\n",
    "\n",
    "bst = CreateTree()\n",
    "bst.insert(\"Pride and Prejudice\")\n",
    "print(search(bst, \"Pride and Prejudice\"))"
   ]
  },
  {
   "cell_type": "markdown",
   "id": "f1cc851b-ec7e-4451-b429-5af654cd3028",
   "metadata": {},
   "source": [
    "## Finding the minimum node of a BST\n",
    "\n",
    "### In this exercise, you will practice on a BST to find the minimum node.\n",
    "\n",
    "### To test your code, you can use the following tree: Graphical representation of a binary search tree. (Not included)\n",
    "\n",
    "### It has been preloaded in the bst variable (line 14):\n",
    "\n",
    "<code>\n",
    "bst = CreateTree()\n",
    "</code>\n",
    "\n",
    "### You can print the result that returns the find_min() method with this code (line 15):\n",
    "\n",
    "<code>\n",
    "print(bst.find_min())\n",
    "</code>\n",
    "\n",
    "-    Set current_node as the root.\n",
    "-    Iterate over the nodes on the appropriate subtree.\n",
    "-    Update the value for current_node."
   ]
  },
  {
   "cell_type": "code",
   "execution_count": 7,
   "id": "5f3b0bf7-ebee-4cd3-83d0-5b774bcdc38b",
   "metadata": {},
   "outputs": [
    {
     "name": "stdout",
     "output_type": "stream",
     "text": [
      "Dracula\n"
     ]
    }
   ],
   "source": [
    "class BinarySearchTree:\n",
    "  def __init__(self):\n",
    "    self.root = None\n",
    "\n",
    "  def find_min(self):\n",
    "    # Set current_node as the root\n",
    "    current_node = self.root\n",
    "    # Iterate over the nodes of the appropriate subtree\n",
    "    while current_node.left_child:\n",
    "      # Update current_node\n",
    "      current_node = current_node.left_child\n",
    "    return current_node.data\n",
    "  \n",
    "bst = CreateTree()\n",
    "print(bst.find_min())"
   ]
  },
  {
   "cell_type": "markdown",
   "id": "8de0019e-c53d-4196-a3d3-02f3d8880368",
   "metadata": {},
   "source": [
    "## Printing book titles in alphabetical order\n",
    "\n",
    "### This video taught you three ways of implementing the depth first search traversal into binary trees: in-order, pre-order, and post-order.\n",
    "\n",
    "### In the following binary search tree, you have stored the titles of some books.\n",
    "\n",
    "### Graphical representation of a binary search tree.  The tree has been preloaded in the bst variable (line 15): (Skipped)\n",
    "\n",
    "<code>\n",
    "bst = CreateTree()\n",
    "</code>\n",
    "    \n",
    "### Can you apply the in-order traversal so that the titles of the books appear alphabetically ordered?\n",
    "\n",
    "-    Check if current_node exists.\n",
    "-    Call the in_order() function recursively on the appropriate half of the tree.\n",
    "-    Print the value of the current_node.\n",
    "-    Call the in_order() function recursively on the other half of the tree."
   ]
  },
  {
   "cell_type": "code",
   "execution_count": 8,
   "id": "824aae2d-10dc-45c7-b89b-0281d0c38f3d",
   "metadata": {},
   "outputs": [
    {
     "name": "stdout",
     "output_type": "stream",
     "text": [
      "Dracula\n",
      "Heidi\n",
      "Jane Eyre\n",
      "Little women\n",
      "Moby Dick\n",
      "Oliver Twist\n",
      "Vanity\n"
     ]
    }
   ],
   "source": [
    "class BinarySearchTree:\n",
    "  def __init__(self):\n",
    "    self.root = None\n",
    "\n",
    "  def in_order(self, current_node):\n",
    "    # Check if current_node exists\n",
    "    if current_node:\n",
    "      # Call recursively with the appropriate half of the tree\n",
    "      self.in_order(current_node.left_child)\n",
    "      # Print the value of the current_node\n",
    "      print(current_node.data)\n",
    "      # Call recursively with the appropriate half of the tree\n",
    "      self.in_order(current_node.right_child)\n",
    "  \n",
    "bst = CreateTree()\n",
    "bst.in_order(bst.root)"
   ]
  },
  {
   "cell_type": "markdown",
   "id": "f7e9aef9-cbbc-4fd5-a1fb-68d8218be434",
   "metadata": {},
   "source": [
    "## Using pre-order traversal with Polish notation\n",
    "\n",
    "### Expression trees are a kind of binary tree that represent arithmetic expressions:  Graphical representation of a binary tree that has arithmetic expressions. (Skipped)\n",
    "\n",
    "### By applying in-order traversal to an expression tree, you can obtain the infix notation. This notation for the given tree will be (10-5)*3.\n",
    "\n",
    "### By applying pre-order traversal to an expression tree, you can obtain the prefix notation, aka Polish notation, where the operator appears before its operands. This notation for the given tree will be *-10 5 3.\n",
    "\n",
    "### By applying post-order traversal to an expression tree, you can obtain the postfix notation, aka reverse Polish notation, where the operator appears after its operands. This notation for the given tree will be 10 5- 3*.\n",
    "\n",
    "Code the pre-order traversal so that you can obtain the prefix notation of this expression tree.\n",
    "\n",
    "-    Check if current_node exists.\n",
    "-    Print the value of the current_node.\n",
    "-    Call the pre_order() function recursively on the appropriate halves of the tree."
   ]
  },
  {
   "cell_type": "code",
   "execution_count": 9,
   "id": "cfca1208-713d-42fa-8475-35bcab7d12ae",
   "metadata": {},
   "outputs": [],
   "source": [
    "def CreateExpressionTree():    \n",
    "  node10 = TreeNode(\"10\")\n",
    "  node5 = TreeNode(\"5\")\n",
    "  node_minus = TreeNode(\"-\", node10, node5)\n",
    "\n",
    "  node3 = TreeNode(\"3\")\n",
    "  root_node = TreeNode(\"*\", node_minus, node3)\n",
    "  \n",
    "  et = ExpressionTree()\n",
    "  et.root = root_node\n",
    "  return et"
   ]
  },
  {
   "cell_type": "code",
   "execution_count": 10,
   "id": "8cc5d830-1809-49cb-8ead-67dc17508c59",
   "metadata": {},
   "outputs": [
    {
     "name": "stdout",
     "output_type": "stream",
     "text": [
      "*\n",
      "-\n",
      "10\n",
      "5\n",
      "3\n"
     ]
    }
   ],
   "source": [
    "import queue\n",
    "\n",
    "class ExpressionTree:\n",
    "  def __init__(self):\n",
    "    self.root = None\n",
    "\n",
    "  def pre_order(self, current_node):\n",
    "    # Check if current_node exists\n",
    "    if current_node:\n",
    "      # Print the value of the current_node\n",
    "      print(current_node.data)\n",
    "      # Call pre_order recursively on the appropriate half of the tree\n",
    "      self.pre_order(current_node.left_child)\n",
    "      self.pre_order(current_node.right_child)\n",
    "          \n",
    "et = CreateExpressionTree()\n",
    "et.pre_order(et.root)"
   ]
  },
  {
   "cell_type": "markdown",
   "id": "e138fa84-094f-4aba-b10e-edd2121da26a",
   "metadata": {},
   "source": [
    "## Implementing DFS for graphs\n",
    "\n",
    "### In this exercise, you will implement a depth first search algorithm to traverse a graph.\n",
    "\n",
    "### Recall the steps:\n",
    "-    1.) Start at any vertex\n",
    "-    2.) Add the vertex to the visited vertices list\n",
    "-    3.) For each current node's adjacent vertex\n",
    "-        3.a) If it has been visited -> ignore it\n",
    "-        3.b) If it hasn't been visited -> recursively perform DFS\n",
    "\n",
    "### To help you test your code, the following graph has been loaded using a dictionary.  Graphical representation of a graph. (Skipped)\n",
    "\n",
    "<code>\n",
    "graph = {\n",
    "  '0' : ['1','2'],\n",
    "  '1' : ['0', '2', '3'],\n",
    "  '2' : ['0', '1', '4'],\n",
    "  '3' : ['1', '4'],\n",
    "  '4' : ['2', '3']\n",
    "}\n",
    "</code>\n",
    "\n",
    "-    Check if current_vertex hasn't been visited yet.\n",
    "-    Add current_vertex to visited_vertices.\n",
    "-    Call dfs() recursively by passing it the appropriate values."
   ]
  },
  {
   "cell_type": "code",
   "execution_count": 11,
   "id": "3e0a67fe-d84d-4d6f-a238-13545ddcf8b7",
   "metadata": {},
   "outputs": [],
   "source": [
    "graph = {'0': ['1', '2'],\n",
    " '1': ['0', '2', '3'],\n",
    " '2': ['0', '1', '4'],\n",
    " '3': ['1', '4'],\n",
    " '4': ['2', '3']}"
   ]
  },
  {
   "cell_type": "code",
   "execution_count": 12,
   "id": "d2a69ad9-4d12-49a1-9160-b9f5d1d9229c",
   "metadata": {},
   "outputs": [
    {
     "name": "stdout",
     "output_type": "stream",
     "text": [
      "0\n",
      "1\n",
      "2\n",
      "4\n",
      "3\n"
     ]
    }
   ],
   "source": [
    "def dfs(visited_vertices, graph, current_vertex):\n",
    "    # Check if current_vertex hasn't been visited yet\n",
    "    if current_vertex not in visited_vertices:\n",
    "        print(current_vertex)\n",
    "        # Add current_vertex to visited_vertices\n",
    "        visited_vertices.add(current_vertex)\n",
    "        for adjacent_vertex in graph[current_vertex]:\n",
    "            # Call recursively with the appropriate values\n",
    "            dfs(visited_vertices, graph, adjacent_vertex)\n",
    "            \n",
    "dfs(set(), graph, '0')"
   ]
  },
  {
   "cell_type": "markdown",
   "id": "7cd6345e-dc6a-429e-8359-2c99d11df375",
   "metadata": {},
   "source": [
    "## Finding a graph vertex using BFS\n",
    "\n",
    "### In this exercise, you will modify the BFS algorithm to search for a given vertex within a graph.\n",
    "\n",
    "### To help you test your code, the following graph has been loaded using a dictionary.  Graphical representation of a graph. (Skipped)\n",
    "\n",
    "<code>\n",
    "graph = {\n",
    "  '4' : ['6','7'],\n",
    "  '6' : ['4', '7', '8'],\n",
    "  '7' : ['4', '6', '9'],\n",
    "  '8' : ['6', '9'],\n",
    "  '9' : ['7', '8']\n",
    "}\n",
    "</code>\n",
    "\n",
    "-    Check if you found the search value.\n",
    "-    Return True if you found the search value.\n",
    "-    Inside the for loop, check if the adjacent vertex has been visited.\n",
    "-    Return False if you didn't find the search value."
   ]
  },
  {
   "cell_type": "code",
   "execution_count": 13,
   "id": "d440da52-0e1d-4d7f-958f-328304af7b4b",
   "metadata": {},
   "outputs": [],
   "source": [
    "graph = {'4': ['6', '7'],\n",
    " '6': ['4', '7', '8'],\n",
    " '7': ['4', '6', '9'],\n",
    " '8': ['6', '9'],\n",
    " '9': ['7', '8']}"
   ]
  },
  {
   "cell_type": "code",
   "execution_count": 14,
   "id": "8ecc9ddd-d1ff-489c-9c03-750e3152d1d3",
   "metadata": {},
   "outputs": [
    {
     "name": "stdout",
     "output_type": "stream",
     "text": [
      "True\n"
     ]
    }
   ],
   "source": [
    "import queue\n",
    "\n",
    "def bfs(graph, initial_vertex, search_value):\n",
    "  visited_vertices = []\n",
    "  bfs_queue = queue.SimpleQueue()\n",
    "  visited_vertices.append(initial_vertex)\n",
    "  bfs_queue.put(initial_vertex)\n",
    "\n",
    "  while not bfs_queue.empty():\n",
    "    current_vertex = bfs_queue.get()\n",
    "    # Check if you found the search value\n",
    "    if current_vertex == search_value:\n",
    "      # Return True if you find the search value\n",
    "      return True    \n",
    "    for adjacent_vertex in graph[current_vertex]:\n",
    "      # Check if the adjacent vertex has been visited\n",
    "      if adjacent_vertex not in visited_vertices:\n",
    "        visited_vertices.append(adjacent_vertex)\n",
    "        bfs_queue.put(adjacent_vertex)\n",
    "  # Return False if you didn't find the search value\n",
    "  return False\n",
    "\n",
    "print(bfs(graph, '4', '8'))"
   ]
  },
  {
   "cell_type": "code",
   "execution_count": null,
   "id": "cb77fc88-9730-411a-9637-cb8d35bfa62a",
   "metadata": {},
   "outputs": [],
   "source": []
  }
 ],
 "metadata": {
  "kernelspec": {
   "display_name": "Python 3 (ipykernel)",
   "language": "python",
   "name": "python3"
  },
  "language_info": {
   "codemirror_mode": {
    "name": "ipython",
    "version": 3
   },
   "file_extension": ".py",
   "mimetype": "text/x-python",
   "name": "python",
   "nbconvert_exporter": "python",
   "pygments_lexer": "ipython3",
   "version": "3.9.10"
  }
 },
 "nbformat": 4,
 "nbformat_minor": 5
}
