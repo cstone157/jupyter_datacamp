{
 "cells": [
  {
   "cell_type": "markdown",
   "id": "faf7052e-465b-4fc7-9216-5de3c43a7add",
   "metadata": {},
   "source": [
    "Using package templates\n",
    "\n",
    "Using project templates, like cookiecutter, makes it much faster and easier to begin writing a package. These templates create all of the basic files and structure your package needs.\n",
    "\n",
    "In this exercise, you will use cookiecutter to create a new package as if you were restarting impyrial from scratch.\n",
    "Ide Exercise Instruction\n",
    "100XP\n",
    "\n",
    "    Use cookiecutter to create a blank Python package to restart impyrial. Use the template at https://github.com/audreyfeldroy/cookiecutter-pypackage.git.\n",
    "    Set the project_name and project_slug to impyrial.\n",
    "    Fill in the other options however you'd like.\n",
    "\n",
    "cookiecutter https://github.com/audreyfeldroy/cookiecutter-pypackage.git\n"
   ]
  },
  {
   "cell_type": "markdown",
   "id": "3e35489a-07cf-4a87-aab4-c803718a2ec5",
   "metadata": {},
   "source": [
    "CONTRIBUTING.md\n",
    "\n",
    "What is the purpose of the CONTRIBUTING.md file?\n",
    "\n",
    "To tell potential users and developers how they can get involved with your project."
   ]
  },
  {
   "cell_type": "markdown",
   "id": "15989b95-82f7-41e9-bca3-b29b57239fa2",
   "metadata": {},
   "source": [
    "History file\n",
    "\n",
    "We have added all your work from the previous chapters into the empty cookiecutter package you just created.\n",
    "\n",
    "Since you last made a release of the package, you have written some pytest tests, fixed a bug, changed the supported versions of Python, re-styled some of the code using flake8, and added a few new additional files.\n",
    "\n",
    "Now it is time for a new minor version release, so you need to update your package's HISTORY.md file.\n",
    "Ide Exercise Instruction\n",
    "100XP\n",
    "\n",
    "    Add a subtitle above the 0.1.0 section for a new minor version release.\n",
    "    Add a \"Fixed\" section for the new release, similar to the \"Added\" section for 0.1.0.\n",
    "    Add a bullet point to tell the users that \"Bug fixed in `length` subpackage for inches-to-feet conversion.\"\n",
    "    Add a \"Deprecated\" section and add the bullet point \"Removed Python 2.7 support.\"\n",
    "\n",
    "### ------------------------ HISTORY.md ----------------------------------\n",
    "# History\n",
    "\n",
    "## 0.2.0\n",
    "### Fixed\n",
    "- Bug fixed in `length` subpackage for inches-to-feet conversion.\n",
    "### Deprecated\n",
    "- Removed Python 2.7 support.\n",
    "\n",
    "## 0.1.0\n",
    "### Added\n",
    "- First release on PyPI.\n"
   ]
  },
  {
   "cell_type": "markdown",
   "id": "658c15ac-fab5-4c51-8865-5634b3dffa3f",
   "metadata": {},
   "source": [
    "Tracking version number with bumpversion\n",
    "\n",
    "When making a new release you need to increase the version number. You will change the patch, minor or major version number, depending on how much you have changed in the package.\n",
    "\n",
    "This time you have implemented a bug fix, changed the code style, changed the supported Python versions and written tests. If it weren't for the change to the supported Python version, this would probably only be a patch, as the only thing a user would notice is the bug fix. But because of this more serious change, it will instead be a minor version update.\n",
    "Ide Exercise Instruction\n",
    "100XP\n",
    "\n",
    "    In the terminal, use bumpversion once to increase the minor version number by one.\n",
    "\n",
    "$ bumpversion minor"
   ]
  },
  {
   "cell_type": "markdown",
   "id": "da36170e-8b84-4ed9-ac4d-5d159e8a5627",
   "metadata": {},
   "source": [
    "PyPI classifiers\n",
    "\n",
    "Classifiers help your users discover your code on PyPI, and it is best practice to include them. They also add a more professional feel to your package.\n",
    "\n",
    "The classifiers in this setup.py file are those which cookiecutter picked, but they don't line up with the versions of Python that your package supports.\n",
    "Ide Exercise Instruction\n",
    "100XP\n",
    "\n",
    "    Remove some of the classifiers so that only the versions of Python that your package supports are included.\n",
    "\n",
    "### ------------------------ setup.py ----------------------------------\n",
    "#!/usr/bin/env python\n",
    "\n",
    "\"\"\"The setup script.\"\"\"\n",
    "\n",
    "from setuptools import setup, find_packages\n",
    "\n",
    "with open('README.md') as readme_file:\n",
    "    readme = readme_file.read()\n",
    "\n",
    "with open('HISTORY.md') as history_file:\n",
    "    history = history_file.read()\n",
    "\n",
    "setup(\n",
    "    author=\"All credit to you\",\n",
    "    author_email='you@chapter4.com',\n",
    "    description=\"A package for converting between imperial unit lengths and weights.\",\n",
    "    name='impyrial',\n",
    "    packages=find_packages(include=['impyrial', 'impyrial.*']),\n",
    "    version='0.1.0',\n",
    "    install_requires=['numpy>=1.10', 'pandas'],\n",
    "    python_requires=\"==3.6.*\",\n",
    "    classifiers=[\n",
    "        'Development Status :: 2 - Pre-Alpha',\n",
    "        'Intended Audience :: Developers',\n",
    "        'License :: OSI Approved :: MIT License',\n",
    "        'Natural Language :: English',\n",
    "        'Programming Language :: Python :: 3',\n",
    "        'Programming Language :: Python :: 3.6',\n",
    "    ],\n",
    "    license=\"MIT license\",\n",
    "    long_description=readme + '\\n\\n' + history,\n",
    "    long_description_content_type='text/markdown',\n",
    "    keywords='impyrial',    \n",
    "    zip_safe=False,\n",
    ")"
   ]
  },
  {
   "cell_type": "markdown",
   "id": "4bd90ab0-4c83-4ad2-b16e-14fdf4a3bf04",
   "metadata": {},
   "source": [
    "Using makefiles\n",
    "\n",
    "You have added some new features to your package and it is time to make a new release. To speed up this process, you will use the commands in the Makefile, saving you time and helping you to avoid missing important steps.\n",
    "\n",
    "Remember, the Makefile bundles up commands used to modify your package, just like a Python function bundles up several lines of code.\n",
    "Ide Exercise Instruction\n",
    "100XP\n",
    "\n",
    "    Use make to remove the old distributions.\n",
    "    Use make to run the package tests.\n",
    "    Use make to build new source and wheel distributions.\n",
    "\n",
    "### ------------------------ setup.py ----------------------------------\n",
    "# Run this file to complete the exercise \n",
    "\n",
    "# Remove old distributions\n",
    "make clean\n",
    "\n",
    "# Run tests\n",
    "make test\n",
    "\n",
    "# Make new source and wheel distributions\n",
    "make dist\n"
   ]
  },
  {
   "cell_type": "markdown",
   "id": "6159be30-73b3-4d2b-96d9-f3333b220637",
   "metadata": {},
   "source": []
  }
 ],
 "metadata": {
  "kernelspec": {
   "display_name": "Python 3 (ipykernel)",
   "language": "python",
   "name": "python3"
  },
  "language_info": {
   "codemirror_mode": {
    "name": "ipython",
    "version": 3
   },
   "file_extension": ".py",
   "mimetype": "text/x-python",
   "name": "python",
   "nbconvert_exporter": "python",
   "pygments_lexer": "ipython3",
   "version": "3.9.10"
  }
 },
 "nbformat": 4,
 "nbformat_minor": 5
}
