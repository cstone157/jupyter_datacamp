{
 "cells": [
  {
   "cell_type": "markdown",
   "id": "5bf79c29-fc7f-4c63-8d55-0f749567de72",
   "metadata": {},
   "source": [
    "## Setting up DVC\n",
    "\n",
    "Data Version Control (DVC) offers a structured method for managing data versioning, a crucial aspect that is sometimes neglected. By using DVC, you can accurately monitor modifications in your datasets, ensuring reproducibility, collaboration, and simplified troubleshooting. It acts as a protective shield against data-related hurdles, promoting confidence and efficiency in your data-centric endeavors\n",
    "\n",
    "In this exercise, you will practice initializing a DVC project and checking how DVC is installed. Git has already been initialized for this project.\n",
    "\n",
    "### Ide Exercise Instruction\n",
    "    - Initialize DVC in the workspace.\n",
    "    - Verify that .dvcignore file and .dvc folder are present.\n",
    "    - Check DVC version and learn how it was installed.\n",
    "    - Commit the changes using Git with \"initial commit\" commit message."
   ]
  },
  {
   "cell_type": "code",
   "execution_count": null,
   "id": "e60bde67-37e5-4f2d-ae18-06ef60dae54a",
   "metadata": {},
   "outputs": [],
   "source": [
    "#$ dvc init\n",
    "#$ dvc version\n",
    "#$ git add .\n",
    "#$ git commit -m \"initial commit\""
   ]
  },
  {
   "cell_type": "markdown",
   "id": "e12a0c3f-3002-4490-ae89-f6ee59c49e4f",
   "metadata": {},
   "source": [
    "## .dvcignore Patterns\n",
    "\n",
    "The .dvcignore file plays a crucial role in DVC (Data Version Control) projects by marking which files and/or directories should be excluded when traversing a DVC project. It allows you to specify patterns or paths that DVC should ignore during operations.\n",
    "\n",
    "In this exercise, you will modify the contents of a .dvcignore file to set file patterns that DVC should ignore during operation. You will also use the dvc check-ignore command to verify whether specific targets are ignored by DVC according to the .dvcignore file.\n",
    "\n",
    "### Ide Exercise Instruction\n",
    "    - Ignore all files in the dataset directory\n",
    "    - Make an exception for dataset/myData.csv to be tracked by DVC.\n",
    "    - Ignore all JSON files in the current workspace.\n",
    "    - Using dvc check-ignore -d <file_name or file_pattern> command, check if JSON files are actually ignored."
   ]
  },
  {
   "cell_type": "code",
   "execution_count": 1,
   "id": "fe662920-1199-4090-8f9e-8ab613915d6e",
   "metadata": {},
   "outputs": [],
   "source": [
    "#### ========> .dvcignore\n",
    "# # Add patterns of files dvc should ignore, which could improve\n",
    "# # the performance. Learn more at\n",
    "# # https://dvc.org/doc/user-guide/dvcignore\n",
    "# \n",
    "# # Ignore all files in the 'dataset' directory\n",
    "# dataset/*\n",
    "# \n",
    "# # But don't ignore 'dataset/myData.csv'\n",
    "# !dataset/myData.csv\n",
    "# \n",
    "# # Ignore all .json files\n",
    "# *.json\n",
    "\n",
    "#### ========> Command-line\n",
    "#$ dvc check-ignore -d dataset/myData.csv"
   ]
  },
  {
   "cell_type": "markdown",
   "id": "d2d6d25b-36c9-43d4-a6ce-f0075628bc01",
   "metadata": {},
   "source": [
    "## Working with DVC Cache\n",
    "\n",
    "In this exercise, you'll explore how to add and remove data to the DVC cache.\n",
    "\n",
    "You are working on a machine learning project that involves a weather dataset, predicting if it would rain given the atmospheric conditions. As you make updates to the dataset, you want to ensure that changes are tracked and that you can easily revert to previous versions if needed.\n",
    "\n",
    "Git and DVC are already initialized in the workspace.\n",
    "\n",
    "### Ide Exercise Instruction\n",
    "    - Add dataset.csv to DVC and examine the contents of dataset.csv.dvc by opening it in the file editor.\n",
    "    - Verify that DVC cache is populated by running find .dvc/cache -type f command in terminal. Open the dataset.csv.dvc file and compare the output of this command to md5 field.\n",
    "    - Unstage the DVC metadata file and clear the workspace cache by running appropriate commands in terminal.\n",
    "    - Verify that DVC cache is now empty by running find .dvc/cache -type f command in terminal."
   ]
  },
  {
   "cell_type": "code",
   "execution_count": 2,
   "id": "0f79b713-6f16-41d9-b424-2fee4ac0343a",
   "metadata": {},
   "outputs": [],
   "source": [
    "#$ dvc add dataset.csv\n",
    "#$ find .dvc/cache -type f\n",
    "#$ dvc remove dataset.csv.dvc\n",
    "#$ find .dvc/cache -type f"
   ]
  },
  {
   "cell_type": "markdown",
   "id": "103a71fc-b60c-4ad9-a6e3-1b82fe682d7f",
   "metadata": {},
   "source": [
    "## Setup a DVC Remote\n",
    "\n",
    "In this editor exercise, you'll practice the process of configuring and modifying DVC remotes for securely storing and distributing your datasets. DVC remotes allow you to store and share data with appropriate versions. We've already initialized DVC for this exercise. Your focus will be solely on setting up DVC remotes within a local filesystem environment.\n",
    "\n",
    "The syntax for adding a default DVC remote is\n",
    "\n",
    "dvc remote add --local <remote_name> </path/to/folder>\n",
    "\n",
    "where --local indicates that the DVC remote is pointed locally.\n",
    "\n",
    "While modifying a DVC remote's location, we can use the following command\n",
    "\n",
    "dvc remote modify --local <remote_name> url </path/to/new-location>\n",
    "\n",
    "notice how we modify the url key in the config that stores the location.\n",
    "\n",
    "### Ide Exercise Instruction\n",
    "    - Set up a local DVC remote named localremote pointed at /tmp/dvc. Check the context for command reference.\n",
    "    - List the local DVC remotes using the appropriate DVC subcommand. Is the location and name correctly printed?\n",
    "    - Modify the existing remote to a new location /tmp/dvc-new. Check the context for command reference.\n",
    "    - List the local DVC remotes using the appropriate DVC subcommand. Are changes in location accurately reflected?"
   ]
  },
  {
   "cell_type": "code",
   "execution_count": null,
   "id": "80624db4-6a82-45a6-9ab5-87bf6e1b8083",
   "metadata": {},
   "outputs": [],
   "source": [
    "#$ dvc remote add --local localremote /tmp/dvc\n",
    "#$ dvc remote list\n",
    "#$ dvc remote modify --local localremote url /tmp/dvc-new\n",
    "#$ dvc remote list"
   ]
  },
  {
   "cell_type": "markdown",
   "id": "5f02dd8d-8a4b-4abe-ac09-38df9fc32f2e",
   "metadata": {},
   "source": [
    "## Versioning Data using DVC Remote\n",
    "\n",
    "In this editor exercise, you'll practice how to version your datasets and push them into DVC remote. Data versioning and storage is the fundamental value proposition of DVC, and you'll learn the mechanics of the interplay between Git and DVC to achieve this. The dataset you'll be working with is a weather dataset that is used for rainfall prediction, given the atmospheric conditions.\n",
    "\n",
    "We've already initialized DVC, configured a local remote at /tmp/dvc, and added a setup commit.\n",
    "\n",
    "### Ide Exercise Instruction\n",
    "    - Add the dataset.csv to DVC cache.\n",
    "    - Commit the corresponding .dvc file to Git, with the commit message \"tracking dataset.csv\".\n",
    "    - Push the dataset to the DVC remote.\n",
    "    - Though you are the only one working with this DVC setup, run the dvc pull command to ensure everything is up to date."
   ]
  },
  {
   "cell_type": "code",
   "execution_count": 3,
   "id": "5507abae-8496-4518-a1d5-7c0a8e55ec12",
   "metadata": {},
   "outputs": [],
   "source": [
    "#$ dvc add dataset.csv\n",
    "#$ git commit -m \"tracking dataset.csv\"\n",
    "#$ dvc push\n",
    "#$ dvc pull"
   ]
  },
  {
   "cell_type": "markdown",
   "id": "4ebce9e5-8c1f-45f5-a73b-148d0797ed79",
   "metadata": {},
   "source": [
    "## Checking out Versioned Data\n",
    "\n",
    "In this editor exercise, you'll practice moving between versions of your datasets by checking out corresponding metadata versions from the Git repository. This exercise builds on the previous one by tracking the initial state of the weather dataset, followed by removing 1000 lines from it and committing it to DVC remote. Your task will be to roll back the Git commit to a previous state, check out the DVC dataset at that corresponding state, and observe the changes.\n",
    "\n",
    "We've already initialized DVC, configured a local remote at /tmp/dvc, and added a setup commit. Then, we added two more commits marking the dataset tracking and changes.\n",
    "\n",
    "NOTE: To rollback changes we have committed to git repository by N commits, you can use\n",
    "\n",
    "<code>git reset --hard HEAD~N</code>\n",
    "\n",
    "### Ide Exercise Instruction\n",
    "    - Inspect the Git commit history using git log command. Notice the top two commit messages reflecting the updates to the dataset. Press q to get out of interactive mode.\n",
    "    - Inspect the md5 value in the dataset.csv.dvc file and compare it to the file by running md5sum dataset.csv.\n",
    "    - Roll back the changes made to the dataset metadata file by one commit. The md5 value would have changed, but will be inconsistent with the md5sum dataset.csv.\n",
    "    - Update the dataset by checking out the version consistent with the metadata file. The md5 value in the metadata should now be consistent with md5sum dataset.csv."
   ]
  },
  {
   "cell_type": "code",
   "execution_count": null,
   "id": "1f88402b-48e8-4d6a-9c4a-34585369e20f",
   "metadata": {},
   "outputs": [],
   "source": [
    "#$ git log\n",
    "#$ md5sum dataset.csv\n",
    "#$ git reset --hard HEAD~1\n",
    "#$ dvc checkout"
   ]
  }
 ],
 "metadata": {
  "kernelspec": {
   "display_name": "Python 3 (ipykernel)",
   "language": "python",
   "name": "python3"
  },
  "language_info": {
   "codemirror_mode": {
    "name": "ipython",
    "version": 3
   },
   "file_extension": ".py",
   "mimetype": "text/x-python",
   "name": "python",
   "nbconvert_exporter": "python",
   "pygments_lexer": "ipython3",
   "version": "3.11.6"
  }
 },
 "nbformat": 4,
 "nbformat_minor": 5
}
