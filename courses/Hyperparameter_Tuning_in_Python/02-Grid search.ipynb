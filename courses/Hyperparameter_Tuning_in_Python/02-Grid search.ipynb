{
 "cells": [
  {
   "cell_type": "code",
   "execution_count": 1,
   "id": "2646b13d-ca17-4063-97df-09eb416714a5",
   "metadata": {},
   "outputs": [],
   "source": [
    "import numpy as np\n",
    "import pandas as pd\n",
    "import matplotlib.pyplot as plt\n",
    "from PIL import Image\n",
    "\n",
    "from sklearn.ensemble import RandomForestClassifier, GradientBoostingClassifier\n",
    "from sklearn.linear_model import LogisticRegression\n",
    "from sklearn.metrics import accuracy_score, confusion_matrix\n",
    "from sklearn.model_selection import train_test_split\n",
    "from sklearn.neighbors import KNeighborsClassifier\n",
    "\n",
    "df = pd.read_csv(\"../../data/credit-card-full.csv\")\n",
    "X = df[['LIMIT_BAL', 'AGE', 'PAY_0', 'PAY_2', 'PAY_3', 'PAY_4', 'PAY_5', 'PAY_6', 'BILL_AMT1', 'BILL_AMT2', 'BILL_AMT3', 'BILL_AMT4', 'BILL_AMT5', 'BILL_AMT6', 'PAY_AMT1', 'PAY_AMT2', 'PAY_AMT3',\n",
    "       'PAY_AMT4', 'PAY_AMT5', 'PAY_AMT6']]\n",
    "y = df[['SEX']].values.ravel()\n",
    "\n",
    "X_train, X_test, y_train, y_test = train_test_split(X, y, test_size=0.33, random_state=42)"
   ]
  },
  {
   "cell_type": "markdown",
   "id": "fa1004a8-4571-400f-9341-831ab4e11fd7",
   "metadata": {},
   "source": [
    "## Build Grid Search functions\n",
    "### In data science it is a great idea to try building algorithms, models and processes 'from scratch' so you can really understand what is happening at a deeper level. Of course there are great packages and libraries for this work (and we will get to that very soon!) but building from scratch will give you a great edge in your data science work.\n",
    "\n",
    "### In this exercise, you will create a function to take in 2 hyperparameters, build models and return results. You will use this function in a future exercise.\n",
    "\n",
    "### You will have available the X_train, X_test, y_train and y_test datasets available.\n",
    "\n",
    "### Instructions\n",
    "-    Build a function that takes two parameters called learning_rate and max_depth for the learning rate and maximum depth.\n",
    "-    Add capability in the function to build a GBM model and fit it to the data with the input hyperparameters.\n",
    "-    Have the function return the results of that model and the chosen hyperparameters (learning_rate and max_depth)."
   ]
  },
  {
   "cell_type": "code",
   "execution_count": 2,
   "id": "a7266086-80d2-417b-a548-d77ae8cd70f4",
   "metadata": {},
   "outputs": [],
   "source": [
    "# Create the function\n",
    "def gbm_grid_search(learning_rate, max_depth):\n",
    "\n",
    "\t# Create the model\n",
    "    model = GradientBoostingClassifier(learning_rate=learning_rate, max_depth=max_depth)\n",
    "    \n",
    "    # Use the model to make predictions\n",
    "    predictions = model.fit(X_train, y_train).predict(X_test)\n",
    "    \n",
    "    # Return the hyperparameters and score\n",
    "    return([learning_rate, max_depth, accuracy_score(y_test, predictions)])"
   ]
  },
  {
   "cell_type": "markdown",
   "id": "d76a281b-eeef-4295-945a-3c57f9f123bb",
   "metadata": {},
   "source": [
    "## Iteratively tune multiple hyperparameters\n",
    "### In this exercise, you will build on the function you previously created to take in 2 hyperparameters, build a model and return the results. You will now use that to loop through some values and then extend this function and loop with another hyperparameter.\n",
    "\n",
    "### The function gbm_grid_search(learn_rate, max_depth) is available in this exercise.\n",
    "\n",
    "### If you need to remind yourself of the function you can run the function print_func() that has been created for you\n",
    "\n",
    "### Instructions 1/3\n",
    "-    Write a for-loop to test the values (0.01, 0.1, 0.5) for the learning_rate and (2, 4, 6) for the max_depth using the function you created gbm_grid_search and print the results."
   ]
  },
  {
   "cell_type": "code",
   "execution_count": 3,
   "id": "e030c1a8-5527-4e5d-b4b9-f100617279fe",
   "metadata": {},
   "outputs": [
    {
     "name": "stdout",
     "output_type": "stream",
     "text": [
      "[[0.01, 2, 0.6004040404040404], [0.01, 4, 0.6139393939393939], [0.01, 6, 0.62], [0.1, 2, 0.6218181818181818], [0.1, 4, 0.6213131313131313], [0.1, 6, 0.6182828282828283], [0.5, 2, 0.6206060606060606], [0.5, 4, 0.6101010101010101], [0.5, 6, 0.5949494949494949]]\n"
     ]
    }
   ],
   "source": [
    "# Create the relevant lists\n",
    "results_list = []\n",
    "learn_rate_list = [0.01, 0.1, 0.5]\n",
    "max_depth_list = [2, 4, 6]\n",
    "\n",
    "# Create the for loop\n",
    "for learn_rate in learn_rate_list:\n",
    "    for max_depth in max_depth_list:\n",
    "        results_list.append(gbm_grid_search(learn_rate,max_depth))\n",
    "\n",
    "# Print the results\n",
    "print(results_list)   "
   ]
  },
  {
   "cell_type": "markdown",
   "id": "cfc411d1-e9fd-4795-828d-6fb92ed0a71b",
   "metadata": {},
   "source": [
    "### Instructions 2/3\n",
    "-    Extend the gbm_grid_search function to include the hyperparameter subsample. Name this new function gbm_grid_search_extended."
   ]
  },
  {
   "cell_type": "code",
   "execution_count": 4,
   "id": "76fd5840-f9f2-41b6-b958-201cddf61f5b",
   "metadata": {},
   "outputs": [],
   "source": [
    "results_list = []\n",
    "learn_rate_list = [0.01, 0.1, 0.5]\n",
    "max_depth_list = [2,4,6]\n",
    "\n",
    "# Extend the function input\n",
    "def gbm_grid_search_extended(learn_rate, max_depth, subsample):\n",
    "\n",
    "\t# Extend the model creation section\n",
    "    model = GradientBoostingClassifier(learning_rate=learn_rate, max_depth=max_depth, subsample=subsample)\n",
    "    \n",
    "    predictions = model.fit(X_train, y_train).predict(X_test)\n",
    "    \n",
    "    # Extend the return part\n",
    "    return([learn_rate, max_depth, subsample, accuracy_score(y_test, predictions)])       "
   ]
  },
  {
   "cell_type": "markdown",
   "id": "5ccc7032-e233-4f6b-bc72-0c52788cf0b2",
   "metadata": {},
   "source": [
    "### Instructions 3/3\n",
    "-    Extend your loop to call gbm_grid_search (available in your console), then test the values [0.4 , 0.6] for the subsample hyperparameter and print the results. max_depth_list & learn_rate_list are available in your environment."
   ]
  },
  {
   "cell_type": "code",
   "execution_count": 5,
   "id": "a918a796-76c9-43a1-afa2-a6ddf16bfb06",
   "metadata": {},
   "outputs": [
    {
     "name": "stdout",
     "output_type": "stream",
     "text": [
      "[[0.01, 2, 0.4, 0.6062626262626263], [0.01, 2, 0.6, 0.6025252525252526], [0.01, 4, 0.4, 0.6138383838383838], [0.01, 4, 0.6, 0.6135353535353535], [0.01, 6, 0.4, 0.6181818181818182], [0.01, 6, 0.6, 0.6194949494949495], [0.1, 2, 0.4, 0.6197979797979798], [0.1, 2, 0.6, 0.6188888888888889], [0.1, 4, 0.4, 0.6170707070707071], [0.1, 4, 0.6, 0.6176767676767677], [0.1, 6, 0.4, 0.6106060606060606], [0.1, 6, 0.6, 0.6129292929292929], [0.5, 2, 0.4, 0.6074747474747475], [0.5, 2, 0.6, 0.6097979797979798], [0.5, 4, 0.4, 0.6003030303030303], [0.5, 4, 0.6, 0.5993939393939394], [0.5, 6, 0.4, 0.5751515151515152], [0.5, 6, 0.6, 0.584949494949495]]\n"
     ]
    }
   ],
   "source": [
    "results_list = []\n",
    "\n",
    "# Create the new list to test\n",
    "subsample_list = [0.4 , 0.6]\n",
    "\n",
    "for learn_rate in learn_rate_list:\n",
    "    for max_depth in max_depth_list:\n",
    "    \n",
    "    \t# Extend the for loop\n",
    "        for subsample in subsample_list:\n",
    "        \t\n",
    "            # Extend the results to include the new hyperparameter\n",
    "            results_list.append(gbm_grid_search_extended(learn_rate, max_depth, subsample))\n",
    "            \n",
    "# Print results\n",
    "print(results_list)            "
   ]
  },
  {
   "cell_type": "markdown",
   "id": "fedd7b67-8c60-4925-ac85-d8fa05eba52c",
   "metadata": {},
   "source": [
    "## GridSearchCV with Scikit Learn\n",
    "### The GridSearchCV module from Scikit Learn provides many useful features to assist with efficiently undertaking a grid search. You will now put your learning into practice by creating a GridSearchCV object with certain parameters.\n",
    "\n",
    "### The desired options are:\n",
    "###### - A Random Forest Estimator, with the split criterion as 'entropy'\n",
    "###### - 5-fold cross validation\n",
    "###### - The hyperparameters max_depth (2, 4, 8, 15) and max_features ('auto' vs 'sqrt')\n",
    "###### - Use roc_auc to score the models\n",
    "###### - Use 4 cores for processing in parallel\n",
    "###### - Ensure you refit the best model and return training scores\n",
    "### You will have available X_train, X_test, y_train & y_test datasets.\n",
    "\n",
    "### Instructions\n",
    "-    Create a Random Forest estimator as specified in the context above.\n",
    "-    Create a parameter grid as specified in the context above.\n",
    "-    Create a GridSearchCV object as outlined in the context above, using the two elements created in the previous two instructions."
   ]
  },
  {
   "cell_type": "code",
   "execution_count": 7,
   "id": "8200bff7-e956-41cc-a829-ce49582d8d98",
   "metadata": {},
   "outputs": [],
   "source": [
    "from sklearn.model_selection import GridSearchCV"
   ]
  },
  {
   "cell_type": "code",
   "execution_count": 11,
   "id": "c7ba02ec-35c3-4ee1-b090-2949bfd45a6d",
   "metadata": {},
   "outputs": [
    {
     "name": "stdout",
     "output_type": "stream",
     "text": [
      "GridSearchCV(cv=5, estimator=RandomForestClassifier(criterion='entropy'),\n",
      "             n_jobs=4,\n",
      "             param_grid={'max_depth': [2, 4, 8, 15],\n",
      "                         'max_features': ['auto', 'sqrt']},\n",
      "             return_train_score=True, scoring='roc_auc')\n"
     ]
    }
   ],
   "source": [
    "# Create a Random Forest Classifier with specified criterion\n",
    "rf_class = RandomForestClassifier(criterion='entropy')\n",
    "\n",
    "# Create the parameter grid\n",
    "param_grid = {'max_depth': [2, 4, 8, 15], 'max_features': ['auto', 'sqrt']} \n",
    "\n",
    "# Create a GridSearchCV object\n",
    "grid_rf_class = GridSearchCV(\n",
    "    estimator=rf_class,\n",
    "    param_grid=param_grid,\n",
    "    scoring='roc_auc',\n",
    "    n_jobs=4,\n",
    "    cv=5,\n",
    "    refit=True, return_train_score=True)\n",
    "print(grid_rf_class)"
   ]
  },
  {
   "cell_type": "markdown",
   "id": "ff3e7339-6451-4c43-a96f-6af16e94a7cd",
   "metadata": {},
   "source": [
    "## Exploring the grid search results\n",
    "### You will now explore the cv_results_ property of the GridSearchCV object defined in the video. This is a dictionary that we can read into a pandas DataFrame and contains a lot of useful information about the grid search we just undertook.\n",
    "\n",
    "### A reminder of the different column types in this property:\n",
    "\n",
    "###### - time_ columns\n",
    "###### - param_ columns (one for each hyperparameter) and the singular params column (with all hyperparameter settings)\n",
    "###### - a train_score column for each cv fold including the mean_train_score and std_train_score columns\n",
    "###### - a test_score column for each cv fold including the mean_test_score and std_test_score columns\n",
    "###### - a rank_test_score column with a number from 1 to n (number of iterations) ranking the rows based on their mean_test_score\n",
    "### Instructions\n",
    "-    Read the cv_results_ property of the grid_rf_class GridSearchCV object into a data frame & print the whole thing out to inspect.\n",
    "-    Extract & print the singular column containing a dictionary of all hyperparameters used in each iteration of the grid search.\n",
    "-    Extract & print the row that had the best mean test score by indexing using the rank_test_score column."
   ]
  },
  {
   "cell_type": "code",
   "execution_count": 23,
   "id": "a93fb63f-4729-42f0-b0af-69fc7809ff5c",
   "metadata": {},
   "outputs": [
    {
     "data": {
      "text/html": [
       "<style>#sk-container-id-4 {color: black;background-color: white;}#sk-container-id-4 pre{padding: 0;}#sk-container-id-4 div.sk-toggleable {background-color: white;}#sk-container-id-4 label.sk-toggleable__label {cursor: pointer;display: block;width: 100%;margin-bottom: 0;padding: 0.3em;box-sizing: border-box;text-align: center;}#sk-container-id-4 label.sk-toggleable__label-arrow:before {content: \"▸\";float: left;margin-right: 0.25em;color: #696969;}#sk-container-id-4 label.sk-toggleable__label-arrow:hover:before {color: black;}#sk-container-id-4 div.sk-estimator:hover label.sk-toggleable__label-arrow:before {color: black;}#sk-container-id-4 div.sk-toggleable__content {max-height: 0;max-width: 0;overflow: hidden;text-align: left;background-color: #f0f8ff;}#sk-container-id-4 div.sk-toggleable__content pre {margin: 0.2em;color: black;border-radius: 0.25em;background-color: #f0f8ff;}#sk-container-id-4 input.sk-toggleable__control:checked~div.sk-toggleable__content {max-height: 200px;max-width: 100%;overflow: auto;}#sk-container-id-4 input.sk-toggleable__control:checked~label.sk-toggleable__label-arrow:before {content: \"▾\";}#sk-container-id-4 div.sk-estimator input.sk-toggleable__control:checked~label.sk-toggleable__label {background-color: #d4ebff;}#sk-container-id-4 div.sk-label input.sk-toggleable__control:checked~label.sk-toggleable__label {background-color: #d4ebff;}#sk-container-id-4 input.sk-hidden--visually {border: 0;clip: rect(1px 1px 1px 1px);clip: rect(1px, 1px, 1px, 1px);height: 1px;margin: -1px;overflow: hidden;padding: 0;position: absolute;width: 1px;}#sk-container-id-4 div.sk-estimator {font-family: monospace;background-color: #f0f8ff;border: 1px dotted black;border-radius: 0.25em;box-sizing: border-box;margin-bottom: 0.5em;}#sk-container-id-4 div.sk-estimator:hover {background-color: #d4ebff;}#sk-container-id-4 div.sk-parallel-item::after {content: \"\";width: 100%;border-bottom: 1px solid gray;flex-grow: 1;}#sk-container-id-4 div.sk-label:hover label.sk-toggleable__label {background-color: #d4ebff;}#sk-container-id-4 div.sk-serial::before {content: \"\";position: absolute;border-left: 1px solid gray;box-sizing: border-box;top: 0;bottom: 0;left: 50%;z-index: 0;}#sk-container-id-4 div.sk-serial {display: flex;flex-direction: column;align-items: center;background-color: white;padding-right: 0.2em;padding-left: 0.2em;position: relative;}#sk-container-id-4 div.sk-item {position: relative;z-index: 1;}#sk-container-id-4 div.sk-parallel {display: flex;align-items: stretch;justify-content: center;background-color: white;position: relative;}#sk-container-id-4 div.sk-item::before, #sk-container-id-4 div.sk-parallel-item::before {content: \"\";position: absolute;border-left: 1px solid gray;box-sizing: border-box;top: 0;bottom: 0;left: 50%;z-index: -1;}#sk-container-id-4 div.sk-parallel-item {display: flex;flex-direction: column;z-index: 1;position: relative;background-color: white;}#sk-container-id-4 div.sk-parallel-item:first-child::after {align-self: flex-end;width: 50%;}#sk-container-id-4 div.sk-parallel-item:last-child::after {align-self: flex-start;width: 50%;}#sk-container-id-4 div.sk-parallel-item:only-child::after {width: 0;}#sk-container-id-4 div.sk-dashed-wrapped {border: 1px dashed gray;margin: 0 0.4em 0.5em 0.4em;box-sizing: border-box;padding-bottom: 0.4em;background-color: white;}#sk-container-id-4 div.sk-label label {font-family: monospace;font-weight: bold;display: inline-block;line-height: 1.2em;}#sk-container-id-4 div.sk-label-container {text-align: center;}#sk-container-id-4 div.sk-container {/* jupyter's `normalize.less` sets `[hidden] { display: none; }` but bootstrap.min.css set `[hidden] { display: none !important; }` so we also need the `!important` here to be able to override the default hidden behavior on the sphinx rendered scikit-learn.org. See: https://github.com/scikit-learn/scikit-learn/issues/21755 */display: inline-block !important;position: relative;}#sk-container-id-4 div.sk-text-repr-fallback {display: none;}</style><div id=\"sk-container-id-4\" class=\"sk-top-container\"><div class=\"sk-text-repr-fallback\"><pre>GridSearchCV(cv=5, estimator=RandomForestClassifier(criterion=&#x27;entropy&#x27;),\n",
       "             n_jobs=4,\n",
       "             param_grid={&#x27;max_depth&#x27;: [2, 4, 8, 15], &#x27;max_features&#x27;: [&#x27;sqrt&#x27;]},\n",
       "             return_train_score=True, scoring=&#x27;roc_auc&#x27;)</pre><b>In a Jupyter environment, please rerun this cell to show the HTML representation or trust the notebook. <br />On GitHub, the HTML representation is unable to render, please try loading this page with nbviewer.org.</b></div><div class=\"sk-container\" hidden><div class=\"sk-item sk-dashed-wrapped\"><div class=\"sk-label-container\"><div class=\"sk-label sk-toggleable\"><input class=\"sk-toggleable__control sk-hidden--visually\" id=\"sk-estimator-id-10\" type=\"checkbox\" ><label for=\"sk-estimator-id-10\" class=\"sk-toggleable__label sk-toggleable__label-arrow\">GridSearchCV</label><div class=\"sk-toggleable__content\"><pre>GridSearchCV(cv=5, estimator=RandomForestClassifier(criterion=&#x27;entropy&#x27;),\n",
       "             n_jobs=4,\n",
       "             param_grid={&#x27;max_depth&#x27;: [2, 4, 8, 15], &#x27;max_features&#x27;: [&#x27;sqrt&#x27;]},\n",
       "             return_train_score=True, scoring=&#x27;roc_auc&#x27;)</pre></div></div></div><div class=\"sk-parallel\"><div class=\"sk-parallel-item\"><div class=\"sk-item\"><div class=\"sk-label-container\"><div class=\"sk-label sk-toggleable\"><input class=\"sk-toggleable__control sk-hidden--visually\" id=\"sk-estimator-id-11\" type=\"checkbox\" ><label for=\"sk-estimator-id-11\" class=\"sk-toggleable__label sk-toggleable__label-arrow\">estimator: RandomForestClassifier</label><div class=\"sk-toggleable__content\"><pre>RandomForestClassifier(criterion=&#x27;entropy&#x27;)</pre></div></div></div><div class=\"sk-serial\"><div class=\"sk-item\"><div class=\"sk-estimator sk-toggleable\"><input class=\"sk-toggleable__control sk-hidden--visually\" id=\"sk-estimator-id-12\" type=\"checkbox\" ><label for=\"sk-estimator-id-12\" class=\"sk-toggleable__label sk-toggleable__label-arrow\">RandomForestClassifier</label><div class=\"sk-toggleable__content\"><pre>RandomForestClassifier(criterion=&#x27;entropy&#x27;)</pre></div></div></div></div></div></div></div></div></div></div>"
      ],
      "text/plain": [
       "GridSearchCV(cv=5, estimator=RandomForestClassifier(criterion='entropy'),\n",
       "             n_jobs=4,\n",
       "             param_grid={'max_depth': [2, 4, 8, 15], 'max_features': ['sqrt']},\n",
       "             return_train_score=True, scoring='roc_auc')"
      ]
     },
     "execution_count": 23,
     "metadata": {},
     "output_type": "execute_result"
    }
   ],
   "source": [
    "rf_class = RandomForestClassifier(criterion='entropy')\n",
    "param_grid = {'max_depth': [2, 4, 8, 15], 'max_features': ['sqrt']} \n",
    "\n",
    "grid_rf_class = GridSearchCV(\n",
    "    estimator=rf_class, param_grid=param_grid,\n",
    "    scoring='roc_auc', n_jobs=4, cv=5,\n",
    "    refit=True, return_train_score=True)\n",
    "\n",
    "grid_rf_class.fit(X_train, y_train)"
   ]
  },
  {
   "cell_type": "code",
   "execution_count": 24,
   "id": "ebf8a620-3f25-48cf-94fd-b196ec6bb2b3",
   "metadata": {},
   "outputs": [
    {
     "name": "stdout",
     "output_type": "stream",
     "text": [
      "   mean_fit_time  std_fit_time  mean_score_time  std_score_time  \\\n",
      "0       0.894760      0.027684         0.026475        0.001236   \n",
      "1       1.458642      0.028673         0.028903        0.001102   \n",
      "2       2.572547      0.033429         0.038203        0.002381   \n",
      "3       4.856046      0.217442         0.067870        0.008103   \n",
      "\n",
      "  param_max_depth param_max_features  \\\n",
      "0               2               sqrt   \n",
      "1               4               sqrt   \n",
      "2               8               sqrt   \n",
      "3              15               sqrt   \n",
      "\n",
      "                                      params  split0_test_score  \\\n",
      "0   {'max_depth': 2, 'max_features': 'sqrt'}           0.603618   \n",
      "1   {'max_depth': 4, 'max_features': 'sqrt'}           0.623729   \n",
      "2   {'max_depth': 8, 'max_features': 'sqrt'}           0.632343   \n",
      "3  {'max_depth': 15, 'max_features': 'sqrt'}           0.633297   \n",
      "\n",
      "   split1_test_score  split2_test_score  ...  mean_test_score  std_test_score  \\\n",
      "0           0.601778           0.596628  ...         0.596806        0.008058   \n",
      "1           0.619004           0.611485  ...         0.614707        0.005794   \n",
      "2           0.623853           0.619151  ...         0.624961        0.004731   \n",
      "3           0.623308           0.619782  ...         0.626149        0.005353   \n",
      "\n",
      "   rank_test_score  split0_train_score  split1_train_score  \\\n",
      "0                4            0.604719            0.608001   \n",
      "1                3            0.637465            0.642690   \n",
      "2                2            0.751142            0.751244   \n",
      "3                1            0.975617            0.971523   \n",
      "\n",
      "   split2_train_score  split3_train_score  split4_train_score  \\\n",
      "0            0.609057            0.608674            0.601494   \n",
      "1            0.643719            0.643502            0.638539   \n",
      "2            0.749425            0.752180            0.751488   \n",
      "3            0.972765            0.977121            0.974948   \n",
      "\n",
      "   mean_train_score  std_train_score  \n",
      "0          0.606389         0.002888  \n",
      "1          0.641183         0.002642  \n",
      "2          0.751096         0.000910  \n",
      "3          0.974395         0.002007  \n",
      "\n",
      "[4 rows x 22 columns]\n",
      "                                      params\n",
      "0   {'max_depth': 2, 'max_features': 'sqrt'}\n",
      "1   {'max_depth': 4, 'max_features': 'sqrt'}\n",
      "2   {'max_depth': 8, 'max_features': 'sqrt'}\n",
      "3  {'max_depth': 15, 'max_features': 'sqrt'}\n",
      "   mean_fit_time  std_fit_time  mean_score_time  std_score_time  \\\n",
      "3       4.856046      0.217442          0.06787        0.008103   \n",
      "\n",
      "  param_max_depth param_max_features  \\\n",
      "3              15               sqrt   \n",
      "\n",
      "                                      params  split0_test_score  \\\n",
      "3  {'max_depth': 15, 'max_features': 'sqrt'}           0.633297   \n",
      "\n",
      "   split1_test_score  split2_test_score  ...  mean_test_score  std_test_score  \\\n",
      "3           0.623308           0.619782  ...         0.626149        0.005353   \n",
      "\n",
      "   rank_test_score  split0_train_score  split1_train_score  \\\n",
      "3                1            0.975617            0.971523   \n",
      "\n",
      "   split2_train_score  split3_train_score  split4_train_score  \\\n",
      "3            0.972765            0.977121            0.974948   \n",
      "\n",
      "   mean_train_score  std_train_score  \n",
      "3          0.974395         0.002007  \n",
      "\n",
      "[1 rows x 22 columns]\n"
     ]
    }
   ],
   "source": [
    "# Read the cv_results property into a dataframe & print it out\n",
    "cv_results_df = pd.DataFrame(grid_rf_class.cv_results_)\n",
    "print(cv_results_df)\n",
    "\n",
    "# Extract and print the column with a dictionary of hyperparameters used\n",
    "column = cv_results_df.loc[:, ['params']]\n",
    "print(column)\n",
    "\n",
    "# Extract and print the row that had the best mean test score\n",
    "best_row = cv_results_df[cv_results_df['rank_test_score'] == 1 ]\n",
    "print(best_row)"
   ]
  },
  {
   "cell_type": "markdown",
   "id": "db486f3f-b4a6-4399-9d82-8f1dd3ce1134",
   "metadata": {},
   "source": [
    "## Analyzing the best results\n",
    "### At the end of the day, we primarily care about the best performing 'square' in a grid search. Luckily Scikit Learn's gridSearchCv objects have a number of parameters that provide key information on just the best square (or row in cv_results_).\n",
    "\n",
    "### Three properties you will explore are:\n",
    "\n",
    "###### - best_score_ – The score (here ROC_AUC) from the best-performing square.\n",
    "###### - best_index_ – The index of the row in cv_results_ containing information on the best-performing square.\n",
    "###### - best_params_ – A dictionary of the parameters that gave the best score, for example 'max_depth': 10\n",
    "### The grid search object grid_rf_class is available.\n",
    "\n",
    "### A dataframe (cv_results_df) has been created from the cv_results_ for you on line 6. This will help you index into the results.\n",
    "\n",
    "### Instructions\n",
    "-    Extract and print out the ROC_AUC score from the best performing square in grid_rf_class.\n",
    "-    Create a variable from the best-performing row by indexing into cv_results_df.\n",
    "-    Create a variable, best_n_estimators by extracting the n_estimators parameter from the best-performing square in grid_rf_class and print it out."
   ]
  },
  {
   "cell_type": "code",
   "execution_count": 25,
   "id": "289c5f2e-099f-457c-8c7a-395bcc381aa4",
   "metadata": {},
   "outputs": [
    {
     "name": "stdout",
     "output_type": "stream",
     "text": [
      "0.6261485126962087\n",
      "   mean_fit_time  std_fit_time  mean_score_time  std_score_time  \\\n",
      "3       4.856046      0.217442          0.06787        0.008103   \n",
      "\n",
      "  param_max_depth param_max_features  \\\n",
      "3              15               sqrt   \n",
      "\n",
      "                                      params  split0_test_score  \\\n",
      "3  {'max_depth': 15, 'max_features': 'sqrt'}           0.633297   \n",
      "\n",
      "   split1_test_score  split2_test_score  ...  mean_test_score  std_test_score  \\\n",
      "3           0.623308           0.619782  ...         0.626149        0.005353   \n",
      "\n",
      "   rank_test_score  split0_train_score  split1_train_score  \\\n",
      "3                1            0.975617            0.971523   \n",
      "\n",
      "   split2_train_score  split3_train_score  split4_train_score  \\\n",
      "3            0.972765            0.977121            0.974948   \n",
      "\n",
      "   mean_train_score  std_train_score  \n",
      "3          0.974395         0.002007  \n",
      "\n",
      "[1 rows x 22 columns]\n"
     ]
    },
    {
     "ename": "KeyError",
     "evalue": "'n_estimators'",
     "output_type": "error",
     "traceback": [
      "\u001b[0;31m---------------------------------------------------------------------------\u001b[0m",
      "\u001b[0;31mKeyError\u001b[0m                                  Traceback (most recent call last)",
      "Cell \u001b[0;32mIn[25], line 11\u001b[0m\n\u001b[1;32m      8\u001b[0m \u001b[38;5;28mprint\u001b[39m(best_row)\n\u001b[1;32m     10\u001b[0m \u001b[38;5;66;03m# Get the n_estimators parameter from the best-performing square and print\u001b[39;00m\n\u001b[0;32m---> 11\u001b[0m best_n_estimators \u001b[38;5;241m=\u001b[39m \u001b[43mgrid_rf_class\u001b[49m\u001b[38;5;241;43m.\u001b[39;49m\u001b[43mbest_params_\u001b[49m\u001b[43m[\u001b[49m\u001b[38;5;124;43m\"\u001b[39;49m\u001b[38;5;124;43mn_estimators\u001b[39;49m\u001b[38;5;124;43m\"\u001b[39;49m\u001b[43m]\u001b[49m\n\u001b[1;32m     12\u001b[0m \u001b[38;5;28mprint\u001b[39m(best_n_estimators)\n",
      "\u001b[0;31mKeyError\u001b[0m: 'n_estimators'"
     ]
    }
   ],
   "source": [
    "# Print out the ROC_AUC score from the best-performing square\n",
    "best_score = grid_rf_class.best_score_\n",
    "print(best_score)\n",
    "\n",
    "# Create a variable from the row related to the best-performing square\n",
    "cv_results_df = pd.DataFrame(grid_rf_class.cv_results_)\n",
    "best_row = cv_results_df.loc[[grid_rf_class.best_index_]]\n",
    "print(best_row)\n",
    "\n",
    "# Get the n_estimators parameter from the best-performing square and print\n",
    "best_n_estimators = grid_rf_class.best_params_[\"n_estimators\"]\n",
    "print(best_n_estimators)"
   ]
  },
  {
   "cell_type": "markdown",
   "id": "92c0a000-6a7e-4711-bdbd-d5f962ba2c8f",
   "metadata": {},
   "source": [
    "## Using the best results\n",
    "### While it is interesting to analyze the results of our grid search, our final goal is practical in nature; we want to make predictions on our test set using our estimator object.\n",
    "\n",
    "### We can access this object through the best_estimator_ property of our grid search object.\n",
    "\n",
    "### Let's take a look inside the best_estimator_ property, make predictions, and generate evaluation scores. We will firstly use the default predict (giving class predictions), but then we will need to use predict_proba rather than predict to generate the roc-auc score as roc-auc needs probability scores for its calculation. We use a slice [:,1] to get probabilities of the positive class.\n",
    "\n",
    "### You have available the X_test and y_test datasets to use and the grid_rf_class object from previous exercises.\n",
    "\n",
    "### Instructions\n",
    "-    Check the type of the best_estimator_ property.\n",
    "-    Use the best_estimator_ property to make predictions on our test set.\n",
    "-    Generate a confusion matrix and ROC_AUC score from our predictions."
   ]
  },
  {
   "cell_type": "code",
   "execution_count": 26,
   "id": "4c142879-ad2b-4a09-9c2d-d11fc1226436",
   "metadata": {},
   "outputs": [
    {
     "name": "stdout",
     "output_type": "stream",
     "text": [
      "<class 'sklearn.ensemble._forest.RandomForestClassifier'>\n",
      "[2 2 2 2 1]\n",
      "Confusion Matrix \n",
      " [[ 893 3063]\n",
      " [ 695 5249]]\n"
     ]
    },
    {
     "ename": "NameError",
     "evalue": "name 'roc_auc_score' is not defined",
     "output_type": "error",
     "traceback": [
      "\u001b[0;31m---------------------------------------------------------------------------\u001b[0m",
      "\u001b[0;31mNameError\u001b[0m                                 Traceback (most recent call last)",
      "Cell \u001b[0;32mIn[26], line 15\u001b[0m\n\u001b[1;32m     13\u001b[0m \u001b[38;5;66;03m# Get the ROC-AUC score\u001b[39;00m\n\u001b[1;32m     14\u001b[0m predictions_proba \u001b[38;5;241m=\u001b[39m grid_rf_class\u001b[38;5;241m.\u001b[39mbest_estimator_\u001b[38;5;241m.\u001b[39mpredict_proba(X_test)[:,\u001b[38;5;241m1\u001b[39m]\n\u001b[0;32m---> 15\u001b[0m \u001b[38;5;28mprint\u001b[39m(\u001b[38;5;124m\"\u001b[39m\u001b[38;5;124mROC-AUC Score \u001b[39m\u001b[38;5;130;01m\\n\u001b[39;00m\u001b[38;5;124m\"\u001b[39m, \u001b[43mroc_auc_score\u001b[49m(y_test, predictions_proba))\n",
      "\u001b[0;31mNameError\u001b[0m: name 'roc_auc_score' is not defined"
     ]
    }
   ],
   "source": [
    "# See what type of object the best_estimator_ property is\n",
    "print(type(grid_rf_class.best_estimator_))\n",
    "\n",
    "# Create an array of predictions directly using the best_estimator_ property\n",
    "predictions = grid_rf_class.best_estimator_.predict(X_test)\n",
    "\n",
    "# Take a look to confirm it worked, this should be an array of 1's and 0's\n",
    "print(predictions[0:5])\n",
    "\n",
    "# Now create a confusion matrix \n",
    "print(\"Confusion Matrix \\n\", confusion_matrix(y_test, predictions))\n",
    "\n",
    "# Get the ROC-AUC score\n",
    "predictions_proba = grid_rf_class.best_estimator_.predict_proba(X_test)[:,1]\n",
    "print(\"ROC-AUC Score \\n\", roc_auc_score(y_test, predictions_proba))"
   ]
  },
  {
   "cell_type": "code",
   "execution_count": null,
   "id": "7f9e70f7-20c5-46b3-849d-8515874318ba",
   "metadata": {},
   "outputs": [],
   "source": []
  }
 ],
 "metadata": {
  "kernelspec": {
   "display_name": "Python 3 (ipykernel)",
   "language": "python",
   "name": "python3"
  },
  "language_info": {
   "codemirror_mode": {
    "name": "ipython",
    "version": 3
   },
   "file_extension": ".py",
   "mimetype": "text/x-python",
   "name": "python",
   "nbconvert_exporter": "python",
   "pygments_lexer": "ipython3",
   "version": "3.11.6"
  }
 },
 "nbformat": 4,
 "nbformat_minor": 5
}
