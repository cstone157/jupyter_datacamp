{
 "cells": [
  {
   "cell_type": "markdown",
   "id": "a4153647-b0f4-42fa-8835-1001856bc50a",
   "metadata": {
    "collapsed": true,
    "jupyter": {
     "outputs_hidden": true
    },
    "tags": []
   },
   "source": [
    "In the video, you learned how to create singly linked lists by implementing the Node() class and the LinkedList() class.\n",
    "\n",
    "In this exercise, you will practice implementing both of these classes. In the first step, we will implement the Node() class, and in the second step the LinkedList() class. Are you ready?"
   ]
  },
  {
   "cell_type": "code",
   "execution_count": 5,
   "id": "6ea61082-6008-42e7-a32e-27646a771d78",
   "metadata": {},
   "outputs": [],
   "source": [
    "class Node:\n",
    "  def __init__(self, data):\n",
    "    # Store the value for the node\n",
    "    self.value = data"
   ]
  },
  {
   "cell_type": "code",
   "execution_count": 6,
   "id": "da843a6d-c716-4685-9fef-6f7a004a978c",
   "metadata": {},
   "outputs": [],
   "source": [
    "class Node:\n",
    "  def __init__(self, data):\n",
    "    self.value = data\n",
    "    # Leave the node initially without a next value\n",
    "    self.next = None"
   ]
  },
  {
   "cell_type": "code",
   "execution_count": 7,
   "id": "89c412a1-72ab-4bc2-a394-c58095ba2178",
   "metadata": {},
   "outputs": [],
   "source": [
    "class LinkedList:\n",
    "  def __init__(self):\n",
    "    # Set the head and the tail with null values\n",
    "    self.head = None\n",
    "    self.tail = None"
   ]
  },
  {
   "cell_type": "markdown",
   "id": "21d9ab1d-1362-476a-b898-dd342e6977de",
   "metadata": {},
   "source": [
    "## Inserting a node at the beginning of a linked list\n",
    "\n",
    "In the previous exercise, you learned how to implement a Node() and LinkedList() class.\n",
    "\n",
    "In this exercise, you will prepare the code for the insert_at_beginning() method to add a new node at the beginning of a linked list.\n",
    "\n",
    "Recall the Node() class:\n",
    "\n",
    "<code>\n",
    "class Node:\n",
    "  def __init__(self, data):\n",
    "    self.data = data\n",
    "    self.next = None\n",
    "</code>"
   ]
  },
  {
   "cell_type": "code",
   "execution_count": 8,
   "id": "36b29aa7-0d42-4c31-b108-e973bd4b0df8",
   "metadata": {},
   "outputs": [],
   "source": [
    "def insert_at_beginning(self, data):\n",
    "    # Create the new node\n",
    "    new_node = Node(data)\n",
    "    # Check whether the linked list has a head node\n",
    "    if self.head:\n",
    "      # Point the next node of the new node to the head\n",
    "      new_node.next = self.head\n",
    "      self.head = new_node\n",
    "    else:\n",
    "      self.tail = new_node      \n",
    "      self.head = new_node"
   ]
  },
  {
   "cell_type": "markdown",
   "id": "a055f842-d695-4541-8e3e-a4e2786ec907",
   "metadata": {},
   "source": [
    "## Removing the first node from a linked list\n",
    "\n",
    "In the previous exercise, you learned how to insert a node at the beginning of a linked list.\n",
    "\n",
    "In this exercise, you will prepare the code for the remove_at_beginning() method. To do it, you will need to point the head of the linked list to the next node of the head.\n",
    "\n",
    "Recall the Node() class:\n",
    "\n",
    "<code>\n",
    "class Node:\n",
    "  def __init__(self, data):\n",
    "    self.data = data\n",
    "    self.next = None\n",
    "</code>"
   ]
  },
  {
   "cell_type": "code",
   "execution_count": 9,
   "id": "ad75a96e-a61f-4da3-a427-3d1fa0bf3e8f",
   "metadata": {},
   "outputs": [],
   "source": [
    "class LinkedList:\n",
    "  def __init__(self):\n",
    "    self.head = None\n",
    "    self.tail = None\n",
    "    \n",
    "  def remove_at_beginning(self):\n",
    "    # The \"next\" node of the head becomes the new head node\n",
    "    self.head = self.head.next"
   ]
  },
  {
   "cell_type": "markdown",
   "id": "4dcf6bff-0048-4ac9-8d7d-5283cc239fcc",
   "metadata": {},
   "source": [
    "## Practicing with Big O Notation\n",
    "\n",
    "### In this exercise, you will keep practicing your understanding of Big O notation.  In the first step, you will create an algorithm that prints all the elements of the following list:\n",
    "\n",
    "<code>colors = ['green', 'yellow', 'blue', 'pink']</code>\n",
    "\n",
    "### The algorithm will have an complexity.\n",
    "\n",
    "-    Iterate over the elements of the list.\n",
    "-    Inside the loop, print the current element of the list."
   ]
  },
  {
   "cell_type": "code",
   "execution_count": 10,
   "id": "e5050bb2-5d61-43d9-9d90-4fb9bb778d33",
   "metadata": {},
   "outputs": [
    {
     "name": "stdout",
     "output_type": "stream",
     "text": [
      "green\n",
      "yellow\n",
      "blue\n",
      "pink\n"
     ]
    }
   ],
   "source": [
    "colors = ['green', 'yellow', 'blue', 'pink']\n",
    "\n",
    "def linear(colors):\n",
    "  # Iterate the elements of the list\n",
    "  for color in colors:\n",
    "    # Print the current element of the list\n",
    "    print(color)\t\n",
    "\n",
    "linear(colors)"
   ]
  },
  {
   "cell_type": "markdown",
   "id": "dd9d768a-4a8e-4ffc-aa4e-cb7497dc9271",
   "metadata": {},
   "source": [
    "## Implementing a Stack with the push method\n",
    "\n",
    "### In the last video, you learned how to implement stacks in Python. As you saw, stacks follow the LIFO principle; the last element inserted is the first element to come out.\n",
    "\n",
    "### In this exercise, you will follow two steps to implement a stack with the push() operation using a singly linked list. You will also define a new attribute called size to track the number of items in the stack. You will start coding the class to build a Stack(), and after that, you will implement the push() operation.\n",
    "\n",
    "### To program this, you will use the Node() class that has the following code:\n",
    "\n",
    "<code>class Node:\n",
    "  def __init__(self, data):\n",
    "    self.data = data\n",
    "    self.next = None</code>\n",
    "\n",
    "-    Assign no value to the top node and set self.size with zero elements."
   ]
  },
  {
   "cell_type": "code",
   "execution_count": 11,
   "id": "8c4d6715-ee69-4dc1-a1ba-35dd1f5edfe2",
   "metadata": {},
   "outputs": [],
   "source": [
    "class Stack:\n",
    "  def __init__(self):\n",
    "    # Initially there won't be any node at the top of the stack\n",
    "    self.top = None\n",
    "    # Initially there will be zero elements in the stack\n",
    "    self.size = 0"
   ]
  },
  {
   "cell_type": "markdown",
   "id": "62ae8b8d-e3a6-4240-b552-c9237625a4aa",
   "metadata": {},
   "source": [
    "-    Create a Node() using the data argument.\n",
    "-    Set the created node to the top node.\n",
    "-    Increase by one the size of the stack."
   ]
  },
  {
   "cell_type": "code",
   "execution_count": 12,
   "id": "a823fe51-1b18-43f1-b6a1-1e420dc1f3f3",
   "metadata": {},
   "outputs": [],
   "source": [
    "class Stack:\n",
    "  def __init__(self):\n",
    "    self.top = None\n",
    "    self.size = 0\n",
    "    \n",
    "  def push(self, data):\n",
    "    # Create a node with the data\n",
    "    new_node = Node(data)\n",
    "    if self.top:\n",
    "      new_node.next = self.top\n",
    "    # Set the created node to the top node\n",
    "    self.top = new_node\n",
    "    # Increase the size of the stack by one\n",
    "    self.size += 1"
   ]
  },
  {
   "cell_type": "markdown",
   "id": "4668672d-30e6-4cd1-b67b-91ead5106481",
   "metadata": {},
   "source": [
    "## Implementing the pop method for a stack\n",
    "\n",
    "### In this exercise, you will implement the pop() operation for a stack. pop() will be used to remove an element from the top of the stack. Again, we will consider the size attribute to know the number of elements in the stack.\n",
    "\n",
    "### Recall the Node() class:\n",
    "\n",
    "<code>class Node:\n",
    "  def __init__(self, data):\n",
    "    self.data = data\n",
    "    self.next = None</code>\n",
    "\n",
    "-    Check if there is a top element in the stack.\n",
    "-    Decrement the size of the stack by one if there isn't a top element.\n",
    "-    Update the new value for the top node."
   ]
  },
  {
   "cell_type": "code",
   "execution_count": 13,
   "id": "df4cb208-edc0-4008-b4ae-e63479491b63",
   "metadata": {},
   "outputs": [],
   "source": [
    "class Stack:\n",
    "  def __init__(self):\n",
    "    self.top = None\n",
    "    self.size = 0\n",
    "    \n",
    "  def pop(self):\n",
    "    # Check if there is a top element\n",
    "    if self.top is None:\n",
    "      return None\n",
    "    else:\n",
    "      popped_node = self.top\n",
    "      # Decrement the size of the stack\n",
    "      self.size -= 1\n",
    "      # Update the new value for the top node\n",
    "      self.top = self.top.next\n",
    "      popped_node.next = None\n",
    "      return popped_node.data "
   ]
  },
  {
   "cell_type": "markdown",
   "id": "8eb63604-be6e-484d-ac1c-2a6375d00066",
   "metadata": {},
   "source": [
    "## Using Python's LifoQueue\n",
    "\n",
    "### In this exercise, you will work with Python's LifoQueue(). You will create a stack called my_book_stack to add books and remove them from it.\n",
    "\n",
    "-    Import the module that contains Python's LifoQueue().\n",
    "-    Create an infinite LifoQueue().\n",
    "-    Add an element to the stack.\n",
    "-    Remove an element from the stack."
   ]
  },
  {
   "cell_type": "code",
   "execution_count": 14,
   "id": "628e9568-cc05-4afb-b8ae-2c0cba9834f9",
   "metadata": {},
   "outputs": [
    {
     "data": {
      "text/plain": [
       "'Don Quixote'"
      ]
     },
     "execution_count": 14,
     "metadata": {},
     "output_type": "execute_result"
    }
   ],
   "source": [
    "# Import the module to work with Python's LifoQueue\n",
    "import queue\n",
    "\n",
    "# Create an infinite LifoQueue\n",
    "my_book_stack = queue.LifoQueue(maxsize=0)\n",
    "\n",
    "# Add an element to the stack\n",
    "my_book_stack.put(\"Don Quixote\")\n",
    "\n",
    "# Remove an element from the stack\n",
    "my_book_stack.get()"
   ]
  },
  {
   "cell_type": "code",
   "execution_count": null,
   "id": "30dc80a0-3f92-4228-9ff0-9d521f556fd5",
   "metadata": {},
   "outputs": [],
   "source": []
  }
 ],
 "metadata": {
  "kernelspec": {
   "display_name": "Python 3 (ipykernel)",
   "language": "python",
   "name": "python3"
  },
  "language_info": {
   "codemirror_mode": {
    "name": "ipython",
    "version": 3
   },
   "file_extension": ".py",
   "mimetype": "text/x-python",
   "name": "python",
   "nbconvert_exporter": "python",
   "pygments_lexer": "ipython3",
   "version": "3.11.6"
  }
 },
 "nbformat": 4,
 "nbformat_minor": 5
}
