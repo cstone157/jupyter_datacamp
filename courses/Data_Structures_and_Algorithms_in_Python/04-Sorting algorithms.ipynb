{
 "cells": [
  {
   "cell_type": "markdown",
   "id": "4205416a-3b23-4790-93ed-e66b0579aef3",
   "metadata": {},
   "source": [
    "## Correcting a bug in the bubble sort algorithm\n",
    "\n",
    "### You have been given a program that sorts a list of numbers using the bubble sort algorithm. While testing it, you realize that the code is not correct. Could you correct the algorithm so that it works correctly?\n",
    "\n",
    "-    Correct the mistake in the assignment of the is_sorted variable.\n",
    "-    Correct the mistake when checking the adjacent values.\n",
    "-    Correct the mistake when updating the value for the list_length variable."
   ]
  },
  {
   "cell_type": "code",
   "execution_count": 1,
   "id": "1455eea1-e437-41ed-b7d4-49e83ac27cc7",
   "metadata": {},
   "outputs": [
    {
     "name": "stdout",
     "output_type": "stream",
     "text": [
      "[5, 7, 1, 4, 2, 9]\n",
      "[5, 1, 4, 2, 7, 9]\n",
      "[1, 4, 2, 5, 7, 9]\n",
      "[1, 2, 4, 5, 7, 9]\n",
      "[1, 2, 4, 5, 7, 9]\n",
      "[1, 2, 4, 5, 7, 9]\n"
     ]
    }
   ],
   "source": [
    "def bubble_sort(my_list):\n",
    "  list_length = len(my_list)\n",
    "  # Correct the mistake\n",
    "  is_sorted = False\n",
    "  while not is_sorted:\n",
    "    is_sorted = True\n",
    "    for i in range(list_length - 1):\n",
    "      # Correct the mistake\n",
    "      if my_list[i] > my_list[i + 1]:\n",
    "        my_list[i] , my_list[i + 1] = my_list[i + 1] , my_list[i]\n",
    "        is_sorted = False\n",
    "    # Correct the mistake\n",
    "    list_length -= 1\n",
    "\n",
    "    print(my_list)\n",
    "  return my_list\n",
    "\n",
    "print(bubble_sort([5, 7, 9, 1, 4, 2]))"
   ]
  },
  {
   "cell_type": "markdown",
   "id": "ffc4db21-0a98-4b26-859c-5d386087e59c",
   "metadata": {},
   "source": [
    "## Coding selection sort\n",
    "\n",
    "### In the last video, you studied the selection sort algorithm.\n",
    "\n",
    "### In this exercise, you will need to implement it by completing the selection_sort() function.\n",
    "\n",
    "-    Set lowest to the element of the list located at index i.\n",
    "-    Iterate again over the list starting on the next position of the i variable.\n",
    "-    Compare whether the element of the list located at index j is smaller than lowest."
   ]
  },
  {
   "cell_type": "code",
   "execution_count": 2,
   "id": "a0f0ce51-4f47-44b1-8854-4ab85b792b93",
   "metadata": {},
   "outputs": [
    {
     "name": "stdout",
     "output_type": "stream",
     "text": [
      "[2, 4, 6, 7, 8, 9]\n"
     ]
    }
   ],
   "source": [
    "def selection_sort(my_list):\n",
    "  list_length = len(my_list)\n",
    "  for i in range(list_length - 1):\n",
    "    # Set lowest to the element of the list located at index i\n",
    "    lowest = my_list[i]\n",
    "    index = i\n",
    "    # Iterate again over the list starting on the next position of the i variable\n",
    "    for j in range(i + 1, list_length):\n",
    "      # Compare whether the element of the list located at index j is smaller than lowest\n",
    "      if my_list[j] < lowest:\n",
    "        index = j\n",
    "        lowest = my_list[j]\n",
    "    my_list[i] , my_list[index] = my_list[index] , my_list[i]\n",
    "  return my_list\n",
    "\n",
    "my_list = [6, 2, 9, 7, 4, 8] \n",
    "selection_sort(my_list)\n",
    "print(my_list)"
   ]
  },
  {
   "cell_type": "markdown",
   "id": "60036e1d-88e6-4950-89b3-17c601a4549e",
   "metadata": {},
   "source": [
    "## Correcting a bug in the merge sort algorithm\n",
    "\n",
    "### You have been given a program that sorts a list of numbers using the merge sort algorithm. While testing the merge_sort() function, you realize that the code is not correct. Can you correct the algorithm so that it works correctly?\n",
    "\n",
    "-    Correct the mistake when assigning the left half.\n",
    "-    Correct the mistake when assigning the right half.\n",
    "-    Correct the mistake when updating the pointer for the left half.\n",
    "-    Correct the mistake when updating the pointer for the right half."
   ]
  },
  {
   "cell_type": "code",
   "execution_count": 3,
   "id": "82fe6359-0f39-417d-b1d7-1c23684652c0",
   "metadata": {},
   "outputs": [
    {
     "name": "stdout",
     "output_type": "stream",
     "text": [
      "[1, 4, 20, 22, 30, 35, 40, 50, 90]\n"
     ]
    }
   ],
   "source": [
    "def merge_sort(my_list):\n",
    "\n",
    "    if len(my_list) > 1: \n",
    "        mid = len(my_list)//2\n",
    "        left_half = my_list[:mid]\n",
    "        right_half = my_list[mid:]\n",
    "        \n",
    "        merge_sort(left_half)\n",
    "        merge_sort(right_half)\n",
    " \n",
    "        i = j = k = 0\n",
    "\n",
    "        while i < len(left_half) and j < len(right_half):\n",
    "            if left_half[i] < right_half[j]:\n",
    "        \t\t# Correct mistake when assigning left half\n",
    "                my_list[k] = left_half[i]                \n",
    "                i += 1\n",
    "            else:\n",
    "                # Correct mistake when assigning right half\n",
    "                my_list[k] = right_half[j]\n",
    "                j += 1\n",
    "            k += 1\n",
    "            \n",
    "        while i < len(left_half):\n",
    "            my_list[k] = left_half[i]\n",
    "            # Correct mistake when updating pointer for left half\n",
    "            i += 1\n",
    "            k += 1\n",
    "         \n",
    "        while j < len(right_half):\n",
    "            my_list[k] = right_half[j]\n",
    "            # Correct mistake when updating pointer for right half\n",
    "            j += 1\n",
    "            k += 1\n",
    "        \n",
    "\n",
    "my_list = [35,22,90,4,50,20,30,40,1]\n",
    "merge_sort(my_list)\n",
    "print(my_list)"
   ]
  },
  {
   "cell_type": "markdown",
   "id": "30d51deb-3bc7-4ed0-a6e6-59651771f654",
   "metadata": {},
   "source": [
    "## Implementing the quicksort algorithm\n",
    "\n",
    "### In this exercise, you will implement the quicksort algorithm to sort a list of numbers.\n",
    "\n",
    "### In the first step, you will implement the partition() function, which returns the index of the pivot after having processed the list of numbers so that all the elements that are to the left of the pivot are less than the pivot and all the elements that are to the right of the pivot are greater than the pivot.\n",
    "\n",
    "### In the second step, you will implement the quicksort() function, which will call the partition() function.\n",
    "\n",
    "-    Iterate until the value pointed by left_pointer is greater than pivot or left_pointer is greater than last_index.\n",
    "-    Swap the values for the elements located at the left_pointer and right_pointer."
   ]
  },
  {
   "cell_type": "code",
   "execution_count": 4,
   "id": "af1ae802-5438-4da6-b545-2a41a3fae8e6",
   "metadata": {},
   "outputs": [],
   "source": [
    "def partition(my_list, first_index, last_index):\n",
    "  pivot = my_list[first_index]\n",
    "  left_pointer = first_index + 1\n",
    "  right_pointer = last_index\n",
    " \n",
    "  while True:\n",
    "    # Iterate until the value pointed by left_pointer is greater than pivot or left_pointer is greater than last_index\n",
    "    while left_pointer < right_pointer and first_index < right_pointer:\n",
    "      left_pointer += 1\n",
    "    \n",
    "    while my_list[right_pointer] > pivot and right_pointer >= first_index:\n",
    "      right_pointer -= 1 \n",
    "    if left_pointer >= right_pointer:\n",
    "        break\n",
    "    # Swap the values for the elements located at the left_pointer and right_pointer\n",
    "    my_list[left_pointer], my_list[right_pointer] = my_list[right_pointer], my_list[left_pointer]\n",
    "   \n",
    "  my_list[first_index], my_list[right_pointer] = my_list[right_pointer], my_list[first_index]\n",
    "  return right_pointer"
   ]
  },
  {
   "cell_type": "markdown",
   "id": "ec0b9364-4973-49d5-b89d-502c20251038",
   "metadata": {},
   "source": [
    "-    Call the partition() function with the appropriate parameters.\n",
    "-    Call quicksort() on the elements to the left of the partition."
   ]
  },
  {
   "cell_type": "code",
   "execution_count": 5,
   "id": "230200a1-13e0-4265-8870-d74820099626",
   "metadata": {},
   "outputs": [
    {
     "name": "stdout",
     "output_type": "stream",
     "text": [
      "[2, 6, 7, 9]\n"
     ]
    }
   ],
   "source": [
    "def quicksort(my_list, first_index, last_index):\n",
    "  if first_index < last_index:\n",
    "    # Call the partition() function with the appropriate parameters\n",
    "    partition_index = partition(my_list, first_index, last_index)\n",
    "    # Call quicksort() on the elements to the left of the partition\n",
    "    quicksort(my_list, first_index, partition_index)\n",
    "    quicksort(my_list, partition_index + 1, last_index)\n",
    "    \n",
    "my_list = [6, 2, 9, 7] \n",
    "quicksort(my_list, 0, len(my_list) - 1)\n",
    "print(my_list)"
   ]
  },
  {
   "cell_type": "code",
   "execution_count": null,
   "id": "6d7f4aec-b6bf-4ec4-88ec-b8384f3657bb",
   "metadata": {},
   "outputs": [],
   "source": []
  }
 ],
 "metadata": {
  "kernelspec": {
   "display_name": "Python 3 (ipykernel)",
   "language": "python",
   "name": "python3"
  },
  "language_info": {
   "codemirror_mode": {
    "name": "ipython",
    "version": 3
   },
   "file_extension": ".py",
   "mimetype": "text/x-python",
   "name": "python",
   "nbconvert_exporter": "python",
   "pygments_lexer": "ipython3",
   "version": "3.9.10"
  }
 },
 "nbformat": 4,
 "nbformat_minor": 5
}
