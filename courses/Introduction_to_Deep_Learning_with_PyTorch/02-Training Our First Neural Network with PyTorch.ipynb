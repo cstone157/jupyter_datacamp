{
 "cells": [
  {
   "cell_type": "code",
   "execution_count": 1,
   "id": "7b7bc9dd-41e2-437f-8a53-1c15a65ce8c3",
   "metadata": {},
   "outputs": [],
   "source": [
    "import numpy as np\n",
    "\n",
    "import torch\n",
    "import torch.nn as nn"
   ]
  },
  {
   "cell_type": "markdown",
   "id": "4ac496ab-fd9d-40d5-96fd-7d41c7a520b3",
   "metadata": {},
   "source": [
    "## Building a binary classifier in PyTorch\n",
    "\n",
    "### Recall that a small neural network with a single linear layer followed by a sigmoid function is a binary classifier. It acts just like a logistic regression.\n",
    "\n",
    "### In this exercise, you'll practice building this small network and interpreting the output of the classifier.\n",
    "\n",
    "### The torch package and the torch.nn package have already been imported for you.\n",
    "\n",
    "### Instructions 1/2\n",
    "-    Create a neural network that takes a tensor of dimensions 1x8 as input, and returns an output of the correct shape for binary classification.\n",
    "-    Pass the output of the linear layer to a sigmoid, which both takes in and return a single float."
   ]
  },
  {
   "cell_type": "code",
   "execution_count": 2,
   "id": "0eeb0948-b548-4ae8-a6cb-d2952d3fc16e",
   "metadata": {},
   "outputs": [
    {
     "name": "stdout",
     "output_type": "stream",
     "text": [
      "tensor([[0.9991]], grad_fn=<SigmoidBackward0>)\n"
     ]
    }
   ],
   "source": [
    "import torch\n",
    "import torch.nn as nn\n",
    "\n",
    "input_tensor = torch.Tensor([[3, 4, 6, 2, 3, 6, 8, 9]])\n",
    "\n",
    "# Implement a small neural network for binary classification\n",
    "model = nn.Sequential(\n",
    "  nn.Linear(11, 1),\n",
    "  nn.Sigmoid()\n",
    ")\n",
    "\n",
    "output = model(input_tensor)\n",
    "print(output)"
   ]
  },
  {
   "cell_type": "markdown",
   "id": "986a2c76-5549-4ed1-97e4-58af4d54589f",
   "metadata": {},
   "source": [
    "## From regression to multi-class classification\n",
    "\n",
    "### Recall that the models we have seen for binary classification, multi-class classification and regression have all been similar, barring a few tweaks to the model.\n",
    "\n",
    "### In this exercise, you'll start by building a model for regression, and then tweak the model to perform a multi-class classification.\n",
    "\n",
    "### Instructions 1/2\n",
    "-        Create a neural network with exactly four linear layers, which takes the input tensor as input, and outputs a regression value, using any shapes you like for the hidden layers."
   ]
  },
  {
   "cell_type": "code",
   "execution_count": 3,
   "id": "7a5c9234-7059-42e8-bc6e-0df9515ce6be",
   "metadata": {},
   "outputs": [
    {
     "name": "stdout",
     "output_type": "stream",
     "text": [
      "tensor([[-0.0057]], grad_fn=<AddmmBackward0>)\n"
     ]
    }
   ],
   "source": [
    "import torch\n",
    "import torch.nn as nn\n",
    "\n",
    "input_tensor = torch.Tensor([[3, 4, 6, 7, 10, 12, 2, 3, 6, 8, 9]])\n",
    "\n",
    "# Implement a neural network with exactly four linear layers\n",
    "model = nn.Sequential(\n",
    "  nn.Linear(11, 20),\n",
    "  nn.Linear(20, 8),\n",
    "  nn.Linear(8, 15),\n",
    "  nn.Linear(15, 1)\n",
    ")\n",
    "\n",
    "output = model(input_tensor)\n",
    "print(output)"
   ]
  },
  {
   "cell_type": "markdown",
   "id": "2dd0d229-da95-4afd-a9fe-071d4febf6a4",
   "metadata": {},
   "source": [
    "### Instructions 2/2\n",
    "-        A similar neural network to the one you just built is provided, containing four linear layers; update this network to perform a multi-class classification with four outputs."
   ]
  },
  {
   "cell_type": "code",
   "execution_count": 4,
   "id": "13e3f752-e0c7-4dd7-8d76-ad6ce529bf2c",
   "metadata": {},
   "outputs": [
    {
     "name": "stdout",
     "output_type": "stream",
     "text": [
      "tensor([[0.1790, 0.2474, 0.1353, 0.4384]], grad_fn=<SoftmaxBackward0>)\n"
     ]
    }
   ],
   "source": [
    "import torch\n",
    "import torch.nn as nn\n",
    "\n",
    "input_tensor = torch.Tensor([[3, 4, 6, 7, 10, 12, 2, 3, 6, 8, 9]])\n",
    "\n",
    "# Update network below to perform a multi-class classification with four labels\n",
    "model = nn.Sequential(\n",
    "  nn.Linear(11, 20),\n",
    "  nn.Linear(20, 12),\n",
    "  nn.Linear(12, 6),\n",
    "  nn.Linear(6, 4), \n",
    "  nn.Softmax(dim=-1)\n",
    ")\n",
    "\n",
    "output = model(input_tensor)\n",
    "print(output)"
   ]
  },
  {
   "cell_type": "markdown",
   "id": "d75087eb-38c2-40cf-943b-4b8853720cde",
   "metadata": {},
   "source": [
    "## Creating one-hot encoded labels\n",
    "\n",
    "#### One-hot encoding is a technique that turns a single integer label into a vector of N elements, where N is the number of classes in your dataset. This vector only contains zeros and ones. In this exercise, you'll create the one-hot encoded vector of the label y provided.\n",
    "\n",
    "#### You'll practice doing this manually, and then make your life easier by leveraging the help of PyTorch! Your dataset contains three classes.\n",
    "\n",
    "#### NumPy is already imported as np, and torch.nn.functional as F. The torch package is also imported.\n",
    "\n",
    "## Instructions\n",
    "-    Manually create a one-hot encoded vector of the ground truth label y by filling in the NumPy array provided.\n",
    "-    Create a one-hot encoded vector of the ground truth label y using PyTorch."
   ]
  },
  {
   "cell_type": "code",
   "execution_count": 5,
   "id": "4e6b24c6-af84-462b-83db-bd41b620e20a",
   "metadata": {},
   "outputs": [],
   "source": [
    "import torch.nn.functional as F"
   ]
  },
  {
   "cell_type": "code",
   "execution_count": 6,
   "id": "a9bf49ba-0f6a-46cd-bd9b-80760df98af1",
   "metadata": {},
   "outputs": [],
   "source": [
    "y = 1\n",
    "num_classes = 3\n",
    "\n",
    "# Create the one-hot encoded vector using NumPy\n",
    "one_hot_numpy = np.array([0, 1, 0])\n",
    "\n",
    "# Create the one-hot encoded vector using PyTorch\n",
    "one_hot_pytorch = F.one_hot(torch.tensor(1), num_classes = 3)"
   ]
  },
  {
   "cell_type": "markdown",
   "id": "7a3d27e1-1f83-4cac-8e83-bcbe83a31461",
   "metadata": {},
   "source": [
    "## Calculating cross entropy loss\n",
    "\n",
    "#### Cross entropy loss is the most used loss for classification problems. In this exercise, you will create inputs and calculate cross entropy loss in PyTorch. You are provided with the ground truth label y and a vector of scores predicted by your model.\n",
    "\n",
    "#### You'll start by creating a one-hot encoded vector of the ground truth label y, which is a required step to compare y with the scores predicted by your model. Next, you'll create a cross entropy loss function. Last, you'll call the loss function, which takes scores (model predictions before the final softmax function), and the one-hot encoded ground truth label, as inputs. It outputs a single float, the loss of that sample.\n",
    "\n",
    "#### torch, torch.nn as nn, and torch.nn.functional as F have already been imported for you.\n",
    "\n",
    "## Instructions 1/3\n",
    "-    Create the one-hot encoded vector of the ground truth label y and assign it to one_hot_label."
   ]
  },
  {
   "cell_type": "code",
   "execution_count": 7,
   "id": "d7be57de-c349-4203-90e3-670639acdeb4",
   "metadata": {},
   "outputs": [],
   "source": [
    "import torch\n",
    "import torch.nn as nn\n",
    "import torch.nn.functional as F\n",
    "\n",
    "y = [2]\n",
    "scores = torch.tensor([[0.1, 6.0, -2.0, 3.2]])\n",
    "\n",
    "# Create a one-hot encoded vector of the label y\n",
    "one_hot_label = F.one_hot(torch.tensor(2), num_classes=4)"
   ]
  },
  {
   "cell_type": "markdown",
   "id": "07bfb390-b22e-444f-8e58-57463efce859",
   "metadata": {},
   "source": [
    "## Instructions 2/3\n",
    "-    Create the cross entropy loss function and store it as criterion."
   ]
  },
  {
   "cell_type": "code",
   "execution_count": 8,
   "id": "3e1b4d4f-f24f-4c48-ac25-9434baf5d669",
   "metadata": {},
   "outputs": [],
   "source": [
    "import torch\n",
    "import torch.nn as nn\n",
    "import torch.nn.functional as F\n",
    "\n",
    "y = [2]\n",
    "scores = torch.tensor([[0.1, 6.0, -2.0, 3.2]])\n",
    "\n",
    "# Create a one-hot encoded vector of the label y\n",
    "one_hot_label = F.one_hot(torch.tensor(y), scores.shape[1])\n",
    "\n",
    "# Create the cross entropy loss function\n",
    "criterion = nn.CrossEntropyLoss()"
   ]
  },
  {
   "cell_type": "markdown",
   "id": "e8a825f7-5b72-4be2-90d0-8fe4a96f923a",
   "metadata": {},
   "source": [
    "## Instructions 3/3\n",
    "-    Calculate the cross entropy loss using the one_hot_label vector and the scores vector, by calling the loss_function you created."
   ]
  },
  {
   "cell_type": "code",
   "execution_count": 9,
   "id": "93198a55-5c1a-482f-9a10-df4c48420cfd",
   "metadata": {},
   "outputs": [
    {
     "name": "stdout",
     "output_type": "stream",
     "text": [
      "tensor(8.0619, dtype=torch.float64)\n"
     ]
    }
   ],
   "source": [
    "import torch\n",
    "import torch.nn as nn\n",
    "import torch.nn.functional as F\n",
    "\n",
    "y = [2]\n",
    "scores = torch.tensor([[0.1, 6.0, -2.0, 3.2]])\n",
    "\n",
    "# Create a one-hot encoded vector of the label y\n",
    "one_hot_label = F.one_hot(torch.tensor(y), scores.shape[1])\n",
    "\n",
    "# Create the cross entropy loss function\n",
    "criterion = nn.CrossEntropyLoss()\n",
    "\n",
    "# Calculate the cross entropy loss\n",
    "loss = criterion(scores.double(), one_hot_label.double())\n",
    "print(loss)"
   ]
  },
  {
   "cell_type": "markdown",
   "id": "386f2709-8219-4259-9c84-9a2461fbe227",
   "metadata": {},
   "source": [
    "## Estimating a sample\n",
    "\n",
    "#### In previous exercises, you used linear layers to build networks.\n",
    "\n",
    "#### Recall that the operation performed by nn.Linear() is to take an input X and apply the transformation W*X + b ,where W and b are two tensors (called the weight and bias).\n",
    "\n",
    "#### A critical part of training PyTorch models is to calculate gradients of the weight and bias tensors with respect to a loss function.\n",
    "\n",
    "#### In this exercise, you will calculate weight and bias tensor gradients using cross entropy loss and a sample of data.\n",
    "\n",
    "#### The following tensors are provded:\n",
    "\n",
    "#####    - weight: a 2x9 -element tensor\n",
    "#####    - bias: a 2 -element tensor\n",
    "#####    - preds: a 1x2 -element tensor containing the model predictions\n",
    "#####    - target: a 1x2 -element one-hot encoded tensor containing the ground-truth label\n",
    "\n",
    "## Instructions\n",
    "-    Use the criterion you have defined to calculate the loss value with respect to the predictions and target values.\n",
    "-    Compute the gradients of the cross entropy loss.\n",
    "-    Display the gradients of the weight and bias tensors, in that order."
   ]
  },
  {
   "cell_type": "code",
   "execution_count": 17,
   "id": "6408f9fa-f88f-46f1-bd25-c526abf1b6dd",
   "metadata": {},
   "outputs": [],
   "source": [
    "weight = torch.tensor([[ 0.7532,  1.2669,  0.1954,  0.7235, -2.6219,  0.3000, -0.4129, -0.8501,\n",
    "         -0.4101],\n",
    "        [ 0.9889, -0.7224,  2.4145,  1.3056,  0.6951, -1.1335, -2.1360,  0.1142,\n",
    "          0.2889]], requires_grad=True)\n",
    "\n",
    "bias = torch.tensor([-0.5319,  0.3623], requires_grad=True)\n",
    "## No idea how they got to -1.5858 and 1.4960, but fuck it if they can't be bothered to share they code, why should I care\n",
    "preds = bias + 1 #tensor([[-1.5858,  1.4960]], grad_fn=<AddBackward0>)\n",
    "target = torch.tensor([[1., 0.]])\n",
    "\n",
    "# Code doesn't work, so don't run"
   ]
  },
  {
   "cell_type": "code",
   "execution_count": null,
   "id": "6e928cef-b480-4ca2-a0a0-845711d78007",
   "metadata": {},
   "outputs": [],
   "source": [
    "criterion = nn.CrossEntropyLoss()\n",
    "\n",
    "# Calculate the loss\n",
    "loss = criterion(preds, target)\n",
    "\n",
    "# Compute the gradients of the loss\n",
    "loss.backward()\n",
    "\n",
    "# Display gradients of the weight and bias tensors in order\n",
    "print(weight.grad)\n",
    "print(bias.grad)"
   ]
  },
  {
   "cell_type": "markdown",
   "id": "9c7b60f7-69ae-4469-b030-60e87d893d25",
   "metadata": {},
   "source": [
    "## Accessing the model parameters\n",
    "\n",
    "#### A PyTorch model created with the nn.Sequential() is a module that contains the different layers of your network. Recall that each layer parameter can be accessed by indexing the created model directly. In this exercise, you will practice accessing the parameters of different linear layers of a neural network. You won't be accessing the sigmoid.\n",
    "\n",
    "## Instructions\n",
    "-    Access the weight parameter of the first linear layer.\n",
    "-    Access the bias parameter of the second linear layer."
   ]
  },
  {
   "cell_type": "code",
   "execution_count": null,
   "id": "cb143210-9a62-4b3f-a981-afcaa824137e",
   "metadata": {},
   "outputs": [],
   "source": [
    "model = nn.Sequential(nn.Linear(16, 8),\n",
    "                      nn.Sigmoid(),\n",
    "                      nn.Linear(8, 2))\n",
    "\n",
    "# Access the weight of the first linear layer\n",
    "weight_0 = model[0].weight\n",
    "\n",
    "# Access the bias of the second linear layer\n",
    "bias_1 = model[2].bias"
   ]
  },
  {
   "cell_type": "markdown",
   "id": "a955926b-447b-40a0-83b9-837a3d423bdb",
   "metadata": {},
   "source": [
    "## Updating the weights manually\n",
    "\n",
    "#### Now that you know how to access weights and biases, you will manually perform the job of the PyTorch optimizer. PyTorch functions can do what you're about to do, but it's helpful to do the work manually at least once, to understand what's going on under the hood.\n",
    "\n",
    "#### A neural network of three layers has been created and stored as the model variable. This network has been used for a forward pass and the loss and its derivatives have been calculated. A default learning rate, lr, has been chosen to scale the gradients when performing the update.\n",
    "\n",
    "## Instructions 1/2\n",
    "-    Create the gradient variables by accessing the local gradients of each weight tensor."
   ]
  },
  {
   "cell_type": "code",
   "execution_count": null,
   "id": "5e40c9e3-19f7-46bb-b91f-41c748100742",
   "metadata": {},
   "outputs": [],
   "source": [
    "weight0 = model[0].weight\n",
    "weight1 = model[1].weight\n",
    "weight2 = model[2].weight\n",
    "\n",
    "# Access the gradients of the weight of each linear layer\n",
    "grads0 = weight0.grad\n",
    "grads1 = weight1.grad\n",
    "grads2 = weight2.grad"
   ]
  },
  {
   "cell_type": "markdown",
   "id": "ae0c822f-5a0e-46fb-b96e-6f1082ceb58c",
   "metadata": {},
   "source": [
    "## Instructions 2/2\n",
    "-    Update the weights using the gradients scaled by the learning rate."
   ]
  },
  {
   "cell_type": "code",
   "execution_count": null,
   "id": "7da03fe0-8591-4f72-bd90-20ebea209649",
   "metadata": {},
   "outputs": [],
   "source": [
    "weight0 = model[0].weight\n",
    "weight1 = model[1].weight\n",
    "weight2 = model[2].weight\n",
    "\n",
    "# Access the gradients of the weight of each linear layer\n",
    "grads0 = weight0.grad\n",
    "grads1 = weight1.grad\n",
    "grads2 = weight2.grad\n",
    "\n",
    "# Update the weights using the learning rate and the gradients\n",
    "weight0 = weight0 - lr * grads0\n",
    "weight1 = weight1 - lr * grads1\n",
    "weight2 = weight2 - lr * grads2"
   ]
  },
  {
   "cell_type": "markdown",
   "id": "93441431-e6a9-43ee-b721-f74e9a0d8857",
   "metadata": {},
   "source": [
    "## Using the PyTorch optimizer\n",
    "\n",
    "#### In the previous exercise, you manually updated the weight of a network. You now know what's going on under the hood, but this approach is not scalable to a network of many layers.\n",
    "\n",
    "#### Thankfully, the PyTorch SGD optimizer does a similar job in a handful of lines of code. In this exercise, you will practice the last step to complete the training loop: updating the weights using a PyTorch optimizer.\n",
    "\n",
    "#### A neural network has been created and provided as the model variable. This model was used to run a forward pass and create the tensor of predictions pred. The one-hot encoded tensor is named target and the cross entropy loss function is stored as criterion.\n",
    "\n",
    "#### torch.optim as optim, and torch.nn as nn have already been loaded for you.\n",
    "\n",
    "## Instructions 1/2\n",
    "-    Use optim to create an SGD optimizer with a learning rate of your choice (must be less than one) for the model provided."
   ]
  },
  {
   "cell_type": "code",
   "execution_count": null,
   "id": "4451a9ee-09f5-4720-958a-c1c780ad62db",
   "metadata": {},
   "outputs": [],
   "source": [
    "# Create the optimizer\n",
    "optimizer = optim.SGD(model.parameters(), lr=0.001)"
   ]
  },
  {
   "cell_type": "markdown",
   "id": "099568c6-6ef2-49ce-85b2-5ace1646f5b5",
   "metadata": {},
   "source": [
    "## Instructions 2/2\n",
    "-    Update the model's parameters using the optimizer."
   ]
  },
  {
   "cell_type": "code",
   "execution_count": null,
   "id": "0ed2d512-5877-4e2a-8974-fccbf27b2e62",
   "metadata": {},
   "outputs": [],
   "source": [
    "# Create the optimizer\n",
    "optimizer = optim.SGD(model.parameters(), lr=0.001)\n",
    "\n",
    "loss = criterion(pred, target)\n",
    "loss.backward()\n",
    "\n",
    "# Update the model's parameters using the optimizer\n",
    "optimizer.step()"
   ]
  },
  {
   "cell_type": "markdown",
   "id": "a4f9d371-3113-4e5e-a860-6251e0652ea7",
   "metadata": {},
   "source": [
    "## Using the MSELoss\n",
    "\n",
    "#### Recall that we can't use cross-entropy loss for regression problems. The mean squared error loss (MSELoss) is a common loss function for regression problems. In this exercise, you will practice calculating and observing the loss using NumPy as well as its PyTorch implementation.\n",
    "\n",
    "#### The torch package has been imported as well as numpy as np and torch.nn as nn.\n",
    "\n",
    "## Instructions\n",
    "-    Calculate the MSELoss using NumPy.\n",
    "-    Create a MSELoss function using PyTorch.\n",
    "-    Convert y_hat and y to tensors and then float data types, and then use them to calculate MSELoss using PyTorch as mse_pytorch."
   ]
  },
  {
   "cell_type": "code",
   "execution_count": null,
   "id": "e7f09f7e-e6de-45f4-96b0-4ecb8198f799",
   "metadata": {},
   "outputs": [],
   "source": [
    "y_hat = np.array(10)\n",
    "y = np.array(1)\n",
    "\n",
    "# Calculate the MSELoss using NumPy\n",
    "mse_numpy = np.mean((y_hat - y)**2)\n",
    "\n",
    "# Create the MSELoss function\n",
    "criterion = nn.MSELoss()\n",
    "\n",
    "# Calculate the MSELoss using the created loss function\n",
    "mse_pytorch = criterion(torch.tensor(y_hat).float(), torch.tensor(y).float())\n",
    "print(mse_pytorch)"
   ]
  },
  {
   "cell_type": "markdown",
   "id": "472aef10-b1ef-4fc8-9b52-14a775cd99dd",
   "metadata": {},
   "source": [
    "## Writing a training loop\n",
    "\n",
    "#### In scikit-learn, the whole training loop is contained in the .fit() method. In PyTorch, however, you implement the loop manually. While this provides control over loop's content, it requires a custom implementation.\n",
    "\n",
    "#### You will write a training loop every time you train a deep learning model with PyTorch, which you'll practice in this exercise. The show_results() function provided will display some sample ground truth and the model predictions.\n",
    "\n",
    "#### The package imports provided are: pandas as pd, torch, torch.nn as nn, torch.optim as optim, as well as DataLoader and TensorDataset from torch.utils.data.\n",
    "\n",
    "#### The following variables have been created: dataloader, containing the dataloader; model, containing the neural network; criterion, containing the loss function, nn.MSELoss(); optimizer, containing the SGD optimizer; and num_epochs, containing the number of epochs.\n",
    "\n",
    "## Instructions 1/3\n",
    "-    Write a for loop that iterates over the dataloader; this should be nested within a for loop that iterates over a range equal to the number of epochs.\n",
    "-    Set the gradients of the optimizer to zero."
   ]
  },
  {
   "cell_type": "code",
   "execution_count": null,
   "id": "f31f4a8c-e6d4-4208-a032-980a555ceb5f",
   "metadata": {},
   "outputs": [],
   "source": [
    "# Loop over the number of epochs and then the dataloader\n",
    "for i in range(num_epochs):\n",
    "  for data in dataloader:\n",
    "    # Set the gradients to zero\n",
    "    optimizer.zero_grad()"
   ]
  },
  {
   "cell_type": "markdown",
   "id": "d8727d5f-d824-4480-ba3e-2c8bed53dd6e",
   "metadata": {},
   "source": [
    "## Instructions 2/3\n",
    "-    Write the forward pass.\n",
    "-    Compute the MSE loss value using the criterion() function provided.\n",
    "-    Compute the gradients."
   ]
  },
  {
   "cell_type": "code",
   "execution_count": null,
   "id": "bb8cfc48-c041-4118-ba2a-c7619aa69b36",
   "metadata": {},
   "outputs": [],
   "source": [
    "# Loop over the number of epochs and the dataloader\n",
    "for i in range(num_epochs):\n",
    "  for data in dataloader:\n",
    "    # Set the gradients to zero\n",
    "    optimizer.zero_grad()\n",
    "    # Run a forward pass\n",
    "    feature, target = data\n",
    "    prediction = model(feature)    \n",
    "    # Calculate the loss\n",
    "    loss = criterion(prediction, target)    \n",
    "    # Compute the gradients\n",
    "    loss.backward()"
   ]
  },
  {
   "cell_type": "markdown",
   "id": "8b3622c3-0a91-4322-847f-e50a0840f4e1",
   "metadata": {},
   "source": [
    "## Instructions 3/3\n",
    "-    Update the model's parameters."
   ]
  },
  {
   "cell_type": "code",
   "execution_count": null,
   "id": "832c85f5-1a53-4220-8feb-497346f48db9",
   "metadata": {},
   "outputs": [],
   "source": [
    "# Loop over the number of epochs and the dataloader\n",
    "for i in range(num_epochs):\n",
    "  for data in dataloader:\n",
    "    # Set the gradients to zero\n",
    "    optimizer.zero_grad()  \n",
    "    # Run a forward pass\n",
    "    feature, target = data\n",
    "    prediction = model(feature)    \n",
    "    # Calculate the loss\n",
    "    loss = criterion(prediction, target)    \n",
    "    # Compute the gradients\n",
    "    loss.backward()\n",
    "    # Update the model's parameters\n",
    "    optimizer.step()\n",
    "show_results(model, dataloader)"
   ]
  },
  {
   "cell_type": "code",
   "execution_count": null,
   "id": "93c80c97-ca6b-4d5b-984f-021621338e29",
   "metadata": {},
   "outputs": [],
   "source": []
  }
 ],
 "metadata": {
  "kernelspec": {
   "display_name": "Python 3 (ipykernel)",
   "language": "python",
   "name": "python3"
  },
  "language_info": {
   "codemirror_mode": {
    "name": "ipython",
    "version": 3
   },
   "file_extension": ".py",
   "mimetype": "text/x-python",
   "name": "python",
   "nbconvert_exporter": "python",
   "pygments_lexer": "ipython3",
   "version": "3.11.6"
  }
 },
 "nbformat": 4,
 "nbformat_minor": 5
}
