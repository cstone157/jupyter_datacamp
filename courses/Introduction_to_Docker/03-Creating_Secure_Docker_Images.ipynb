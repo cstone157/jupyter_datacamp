{
 "cells": [
  {
   "cell_type": "markdown",
   "id": "8dad3a2c-181b-49b7-b888-bbd78095a828",
   "metadata": {},
   "source": [
    "## Setting the user\n",
    "\n",
    "You've finished the python code for the pipeline you were building and have gotten all the feedback you need from colleagues. To make your pipeline Docker image more foolproof, you want to set the user to repl before the project files are copied into the image. We've already added the RUN instruction to create a repl user for you.\n",
    "\n",
    "### Instructions\n",
    "    - Using the terminal, open the Dockerfile in your current working directory and edit the third line to set the user to repl."
   ]
  },
  {
   "cell_type": "code",
   "execution_count": null,
   "id": "59d9f65e-9ae2-4010-8b58-67b262231da3",
   "metadata": {},
   "outputs": [],
   "source": [
    "#$ nano Dockerfile\n",
    "#USER repl"
   ]
  },
  {
   "cell_type": "markdown",
   "id": "223c20e8-3b31-4d99-92e1-fe9344ddb28e",
   "metadata": {},
   "source": [
    "## Setting the working directory\n",
    "\n",
    "Putting the finishing touches to your pipeline Docker image, you want to make it clear that all pipeline project files in your images will be in the repl users' home directory by setting the working directory to /home/repl.\n",
    "\n",
    "### Instructions\n",
    "    - Using the terminal, open the Dockerfile in your current working directory and edit the fourth line to make all next instructions run in /home/repl."
   ]
  },
  {
   "cell_type": "code",
   "execution_count": 1,
   "id": "6ae3817e-0fa9-4c97-92e7-ed83e442c87b",
   "metadata": {},
   "outputs": [],
   "source": [
    "#$ nano Dockerfile\n",
    "#WORKDIR /home/repl"
   ]
  },
  {
   "cell_type": "markdown",
   "id": "fa52e2f1-9e32-4f07-bc00-05f659e34eb1",
   "metadata": {},
   "source": [
    "## Overriding ARG in a build\n",
    "\n",
    "The ARG Dockerfile instruction allows us to set a variable in a Dockerfile and then optionally override it when building an image. We've added a Dockerfile to your current working directory with the following instructions:\n",
    "\n",
    "<code>\n",
    "FROM ubuntu\n",
    "ARG WELCOME_TEXT=Hello!\n",
    "RUN echo $WELCOME_TEXT\n",
    "CMD echo $WELCOME_TEXT\n",
    "</code>\n",
    "\n",
    "The Dockerfile adds an ARG named WELCOME_TEXT, which is then printed during the build. The same text is printed when a container is started from the image.\n",
    "\n",
    "### Instructions\n",
    "    - Using the terminal, enter the command to build the Dockerfile and set the WELCOME_TEXT variable to Welcome!."
   ]
  },
  {
   "cell_type": "code",
   "execution_count": null,
   "id": "c06360df-4117-45ac-8b85-cc4dd1c4554b",
   "metadata": {},
   "outputs": [],
   "source": [
    "#$ docker build --build-arg WELCOME_TEXT=\"Welcome!\" ."
   ]
  },
  {
   "cell_type": "markdown",
   "id": "44e22310-73b3-4d56-a617-7dd6bf22d060",
   "metadata": {},
   "source": [
    "## Changing behavior when starting a container\n",
    "\n",
    "Let's see how the ENV Dockerfile instruction works in practice. We've added a Dockerfile to your current working directory with the following instructions:\n",
    "\n",
    "<code>\n",
    "FROM ubuntu:22.04\n",
    "ENV NAME=Tim\n",
    "CMD echo \"Hello, my name is $NAME\"\n",
    "</code>code>\n",
    "\n",
    "The Dockerfile will print a personalized message, Hello, my name is Tim, on startup. Let's see how we can change this personalized message even after building an image from the Dockerfile.\n",
    "\n",
    "### Instructions 1/2\n",
    "    - Before we can start a container, we need to build the image from the Dockerfile. Build the Dockerfile in your local working directory giving it the name hello_image."
   ]
  },
  {
   "cell_type": "code",
   "execution_count": null,
   "id": "b12d3146-6dd5-4e38-b9c6-746555a92a1b",
   "metadata": {},
   "outputs": [],
   "source": [
    "#$ docker build -t hello_image ."
   ]
  },
  {
   "cell_type": "markdown",
   "id": "70cf7ca3-b583-490f-950f-24302cdf7ad2",
   "metadata": {},
   "source": [
    "### Instructions 2/2\n",
    "    - Now that we've built the image, we can start a container from it. Start a container from the hello_image image you just made, but use a flag on the command to set the NAME ENV variable to your name."
   ]
  },
  {
   "cell_type": "code",
   "execution_count": null,
   "id": "420da2c5-168a-429c-b3a8-7a9c3f91daf7",
   "metadata": {},
   "outputs": [],
   "source": [
    "#$ docker run --env NAME=\"SuckIt\" hello_image"
   ]
  },
  {
   "cell_type": "markdown",
   "id": "419e8f36-6922-453b-95b3-acca1046c385",
   "metadata": {},
   "source": [
    "## Be safe, don't use root\n",
    "\n",
    "Not giving access to the root user in your images makes images more foolproof, as users only have access to what's relevant to the use case you intended for the image. Additionally, it is one of the best options to increase their security. We've built an image for you from the following Dockerfile, which tries to install python3 as soon as you start it.\n",
    "\n",
    "<code>\n",
    "FROM ubuntu\n",
    "RUN useradd -m repl\n",
    "USER repl\n",
    "CMD apt-get install python3\n",
    "</code>\n",
    "\n",
    "Let's see what happens if we try to install python3 at startup as the repl user.\n",
    "\n",
    "### Instructions\n",
    "    - Use docker to run the repl_try_install image."
   ]
  },
  {
   "cell_type": "code",
   "execution_count": 2,
   "id": "434c8fb9-4730-4abd-8bd4-eb9e7445efd2",
   "metadata": {},
   "outputs": [],
   "source": [
    "#$ docker run repl_try_install "
   ]
  },
  {
   "cell_type": "code",
   "execution_count": null,
   "id": "2e145687-37b9-474d-95b4-15ad8d89b7ea",
   "metadata": {},
   "outputs": [],
   "source": []
  }
 ],
 "metadata": {
  "kernelspec": {
   "display_name": "Python 3 (ipykernel)",
   "language": "python",
   "name": "python3"
  },
  "language_info": {
   "codemirror_mode": {
    "name": "ipython",
    "version": 3
   },
   "file_extension": ".py",
   "mimetype": "text/x-python",
   "name": "python",
   "nbconvert_exporter": "python",
   "pygments_lexer": "ipython3",
   "version": "3.11.6"
  }
 },
 "nbformat": 4,
 "nbformat_minor": 5
}
