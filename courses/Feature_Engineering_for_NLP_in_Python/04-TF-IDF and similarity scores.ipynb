{
 "cells": [
  {
   "cell_type": "code",
   "execution_count": 3,
   "id": "c1c29496-a255-426d-96c1-4ff7b99c5460",
   "metadata": {},
   "outputs": [],
   "source": [
    "import numpy as np\n",
    "import pandas as pd\n",
    "\n",
    "import matplotlib.pyplot as plt\n",
    "\n",
    "from textatistic import Textatistic\n",
    "import spacy\n",
    "\n",
    "from sklearn.feature_extraction.text import CountVectorizer\n",
    "from sklearn.model_selection import train_test_split\n",
    "from sklearn.naive_bayes import MultinomialNB\n",
    "\n",
    "import time\n",
    "\n",
    "ted_df = pd.read_csv(\"../../data/ted.csv\")\n",
    "tweets_df = pd.read_csv(\"../../data/russian_tweets.csv\")\n",
    "headlines_df = pd.read_csv(\"../../data/fakenews.csv\")\n",
    "movie_overviews_df = pd.read_csv(\"../../data/movie_overviews.csv\")\n",
    "movie_reviews_df = pd.read_csv(\"../../data/movie_reviews_clean.csv\")"
   ]
  },
  {
   "cell_type": "markdown",
   "id": "f597e380-42d0-4399-ab69-acd82412d80d",
   "metadata": {},
   "source": [
    "## tf-idf vectors for TED talks\n",
    "\n",
    "### In this exercise, you have been given a corpus ted which contains the transcripts of 500 TED Talks. Your task is to generate the tf-idf vectors for these talks.\n",
    "\n",
    "### In a later lesson, we will use these vectors to generate recommendations of similar talks based on the transcript.\n",
    "\n",
    "### Instructions\n",
    "-    Import TfidfVectorizer from sklearn.\n",
    "-    Create a TfidfVectorizer object. Name it vectorizer.\n",
    "-    Generate tfidf_matrix for ted using the fit_transform() method."
   ]
  },
  {
   "cell_type": "code",
   "execution_count": 9,
   "id": "b0063cae-fa5f-4deb-a814-58d5264d75e6",
   "metadata": {},
   "outputs": [],
   "source": [
    "ted = ted_df[\"transcript\"]"
   ]
  },
  {
   "cell_type": "code",
   "execution_count": 10,
   "id": "b9014dca-dbcc-49b0-abe1-a769a3ef6807",
   "metadata": {},
   "outputs": [
    {
     "name": "stdout",
     "output_type": "stream",
     "text": [
      "(500, 29158)\n"
     ]
    }
   ],
   "source": [
    "# Import TfidfVectorizer\n",
    "from sklearn.feature_extraction.text import TfidfVectorizer\n",
    "\n",
    "# Create TfidfVectorizer object\n",
    "vectorizer = TfidfVectorizer()\n",
    "\n",
    "# Generate matrix of word vectors\n",
    "tfidf_matrix = vectorizer.fit_transform(ted)\n",
    "\n",
    "# Print the shape of tfidf_matrix\n",
    "print(tfidf_matrix.shape)"
   ]
  },
  {
   "cell_type": "markdown",
   "id": "f238aaee-6c1c-47c6-ad60-ee001dbecf97",
   "metadata": {},
   "source": [
    "## Computing dot product\n",
    "\n",
    "### In this exercise, we will learn to compute the dot product between two vectors, A = (1, 3) and B = (-2, 2), using the numpy library. More specifically, we will use the np.dot() function to compute the dot product of two numpy arrays.\n",
    "\n",
    "### Instructions\n",
    "-    Initialize A (1,3) and B (-2,2) as numpy arrays using np.array().\n",
    "-    Compute the dot product using np.dot() and passing A and B as arguments."
   ]
  },
  {
   "cell_type": "code",
   "execution_count": 11,
   "id": "bf63f548-63b4-480a-b34f-18b08ffe451b",
   "metadata": {},
   "outputs": [
    {
     "name": "stdout",
     "output_type": "stream",
     "text": [
      "4\n"
     ]
    }
   ],
   "source": [
    "# Initialize numpy vectors\n",
    "A = np.array([1,3])\n",
    "B = np.array([-2,2])\n",
    "\n",
    "# Compute dot product\n",
    "dot_prod = np.dot(A, B)\n",
    "\n",
    "# Print dot product\n",
    "print(dot_prod)"
   ]
  },
  {
   "cell_type": "markdown",
   "id": "c7147dd2-69cb-4044-bed8-ba817d5e0153",
   "metadata": {},
   "source": [
    "## Cosine similarity matrix of a corpus\n",
    "\n",
    "### In this exercise, you have been given a corpus, which is a list containing five sentences. The corpus is printed in the console. You have to compute the cosine similarity matrix which contains the pairwise cosine similarity score for every pair of sentences (vectorized using tf-idf).\n",
    "\n",
    "### Remember, the value corresponding to the ith row and jth column of a similarity matrix denotes the similarity score for the ith and jth vector.\n",
    "\n",
    "### Instructions\n",
    "-    Initialize an instance of TfidfVectorizer. Name it tfidf_vectorizer.\n",
    "-    Using fit_transform(), generate the tf-idf vectors for corpus. Name it tfidf_matrix.\n",
    "-    Use cosine_similarity() and pass tfidf_matrix to compute the cosine similarity matrix cosine_sim."
   ]
  },
  {
   "cell_type": "code",
   "execution_count": 13,
   "id": "c159af7a-ffd0-4dbe-b7ad-bb5e5d6da8e0",
   "metadata": {},
   "outputs": [],
   "source": [
    "from sklearn.metrics.pairwise import cosine_similarity\n",
    "\n",
    "corpus = ['The sun is the largest celestial body in the solar system',\n",
    " 'The solar system consists of the sun and eight revolving planets',\n",
    " 'Ra was the Egyptian Sun God',\n",
    " 'The Pyramids were the pinnacle of Egyptian architecture',\n",
    " 'The quick brown fox jumps over the lazy dog']"
   ]
  },
  {
   "cell_type": "code",
   "execution_count": 14,
   "id": "b799a006-b5b3-401b-8004-35fbd77e9fe8",
   "metadata": {},
   "outputs": [
    {
     "name": "stdout",
     "output_type": "stream",
     "text": [
      "[[1.         0.36413198 0.18314713 0.18435251 0.16336438]\n",
      " [0.36413198 1.         0.15054075 0.21704584 0.11203887]\n",
      " [0.18314713 0.15054075 1.         0.21318602 0.07763512]\n",
      " [0.18435251 0.21704584 0.21318602 1.         0.12960089]\n",
      " [0.16336438 0.11203887 0.07763512 0.12960089 1.        ]]\n"
     ]
    }
   ],
   "source": [
    "# Initialize an instance of tf-idf Vectorizer\n",
    "tfidf_vectorizer = TfidfVectorizer()\n",
    "\n",
    "# Generate the tf-idf vectors for the corpus\n",
    "tfidf_matrix = tfidf_vectorizer.fit_transform(corpus)\n",
    "\n",
    "# Compute and print the cosine similarity matrix\n",
    "cosine_sim = cosine_similarity(tfidf_matrix, tfidf_matrix)\n",
    "print(cosine_sim)"
   ]
  },
  {
   "cell_type": "markdown",
   "id": "16553c82-2191-4a1e-9303-8015b9ed0b2a",
   "metadata": {},
   "source": [
    "## Comparing linear_kernel and cosine_similarity\n",
    "\n",
    "### In this exercise, you have been given tfidf_matrix which contains the tf-idf vectors of a thousand documents. Your task is to generate the cosine similarity matrix for these vectors first using cosine_similarity and then, using linear_kernel.\n",
    "\n",
    "### We will then compare the computation times for both functions.\n",
    "\n",
    "### Instructions 1/2\n",
    "-    Compute the cosine similarity matrix for tfidf_matrix using cosine_similarity."
   ]
  },
  {
   "cell_type": "code",
   "execution_count": 18,
   "id": "052b28dd-caa1-41e6-b6d1-b0c12a9d0f29",
   "metadata": {},
   "outputs": [],
   "source": [
    "corpus = movie_overviews_df[\"overview\"].dropna()\n",
    "tfidf_matrix = TfidfVectorizer()\n",
    "tfidf_matrix = tfidf_vectorizer.fit_transform(corpus)"
   ]
  },
  {
   "cell_type": "code",
   "execution_count": 19,
   "id": "4526be4c-58f2-492a-81b3-3a1e585b24f8",
   "metadata": {},
   "outputs": [
    {
     "name": "stdout",
     "output_type": "stream",
     "text": [
      "[[1.         0.03388343 0.01368106 ... 0.0064274  0.03410257 0.03517135]\n",
      " [0.03388343 1.         0.05850441 ... 0.01046158 0.04600773 0.04850257]\n",
      " [0.01368106 0.05850441 1.         ... 0.00882085 0.04211172 0.03039092]\n",
      " ...\n",
      " [0.0064274  0.01046158 0.00882085 ... 1.         0.02631777 0.01108289]\n",
      " [0.03410257 0.04600773 0.04211172 ... 0.02631777 1.         0.05593863]\n",
      " [0.03517135 0.04850257 0.03039092 ... 0.01108289 0.05593863 1.        ]]\n",
      "Time taken: 3.1944987773895264 seconds\n"
     ]
    }
   ],
   "source": [
    "# Record start time\n",
    "start = time.time()\n",
    "\n",
    "# Compute cosine similarity matrix\n",
    "cosine_sim = cosine_similarity(tfidf_matrix, tfidf_matrix)\n",
    "\n",
    "# Print cosine similarity matrix\n",
    "print(cosine_sim)\n",
    "\n",
    "# Print time taken\n",
    "print(\"Time taken: %s seconds\" %(time.time() - start))"
   ]
  },
  {
   "cell_type": "markdown",
   "id": "f642cd89-1573-4004-aa93-23258d594fd6",
   "metadata": {},
   "source": [
    "### Instructions 2/2\n",
    "-    Compute the cosine similarity matrix for tfidf_matrix using linear_kernel."
   ]
  },
  {
   "cell_type": "code",
   "execution_count": 20,
   "id": "533ca816-df21-415d-83c1-63243ebe1379",
   "metadata": {},
   "outputs": [],
   "source": [
    "from sklearn.metrics.pairwise import linear_kernel"
   ]
  },
  {
   "cell_type": "code",
   "execution_count": 21,
   "id": "96a4ecd9-5495-45f0-91a8-040a804fbb01",
   "metadata": {},
   "outputs": [
    {
     "name": "stdout",
     "output_type": "stream",
     "text": [
      "[[1.         0.03388343 0.01368106 ... 0.0064274  0.03410257 0.03517135]\n",
      " [0.03388343 1.         0.05850441 ... 0.01046158 0.04600773 0.04850257]\n",
      " [0.01368106 0.05850441 1.         ... 0.00882085 0.04211172 0.03039092]\n",
      " ...\n",
      " [0.0064274  0.01046158 0.00882085 ... 1.         0.02631777 0.01108289]\n",
      " [0.03410257 0.04600773 0.04211172 ... 0.02631777 1.         0.05593863]\n",
      " [0.03517135 0.04850257 0.03039092 ... 0.01108289 0.05593863 1.        ]]\n",
      "Time taken: 3.757575273513794 seconds\n"
     ]
    }
   ],
   "source": [
    "# Record start time\n",
    "start = time.time()\n",
    "\n",
    "# Compute cosine similarity matrix\n",
    "cosine_sim = linear_kernel(tfidf_matrix, tfidf_matrix)\n",
    "\n",
    "# Print cosine similarity matrix\n",
    "print(cosine_sim)\n",
    "\n",
    "# Print time taken\n",
    "print(\"Time taken: %s seconds\" %(time.time() - start))"
   ]
  },
  {
   "cell_type": "markdown",
   "id": "01a80456-9720-4870-b929-e0f78d537203",
   "metadata": {},
   "source": [
    "## Plot recommendation engine\n",
    "\n",
    "### In this exercise, we will build a recommendation engine that suggests movies based on similarity of plot lines. You have been given a get_recommendations() function that takes in the title of a movie, a similarity matrix and an indices series as its arguments and outputs a list of most similar movies. indices has already been provided to you.\n",
    "\n",
    "### You have also been given a movie_plots Series that contains the plot lines of several movies. Your task is to generate a cosine similarity matrix for the tf-idf vectors of these plots.\n",
    "\n",
    "### Consequently, we will check the potency of our engine by generating recommendations for one of my favorite movies, The Dark Knight Rises.\n",
    "\n",
    "### Instructions\n",
    "-    Initialize a TfidfVectorizer with English stop_words. Name it tfidf.\n",
    "-    Construct tfidf_matrix by fitting and transforming the movie plot data using fit_transform().\n",
    "-    Generate the cosine similarity matrix cosine_sim using tfidf_matrix. Don't use cosine_similarity()!\n",
    "-    Use get_recommendations() to generate recommendations for 'The Dark Knight Rises'."
   ]
  },
  {
   "cell_type": "code",
   "execution_count": 26,
   "id": "5c5d83d2-073d-4118-9aeb-352c5af6aa53",
   "metadata": {},
   "outputs": [],
   "source": [
    "tmp = movie_overviews_df.dropna().set_index(\"id\")\n",
    "\n",
    "indices = tmp[\"title\"]\n",
    "movie_plots = tmp[\"overview\"]\n",
    "\n",
    "def get_recommendations(title, cosine_sim, indices):\n",
    "    # Get the index of the movie that matches the title\n",
    "    idx = indices[title]\n",
    "    # Get the pairwsie similarity scores\n",
    "    sim_scores = list(enumerate(cosine_sim[idx]))\n",
    "    # Sort the movies based on the similarity scores\n",
    "    sim_scores = sorted(sim_scores, key=lambda x: x[1], reverse=True)\n",
    "    # Get the scores for 10 most similar movies\n",
    "    sim_scores = sim_scores[1:11]\n",
    "    # Get the movie indices\n",
    "    movie_indices = [i[0] for i in sim_scores]\n",
    "    # Return the top 10 most similar movies\n",
    "    return metadata['title'].iloc[movie_indices]\n",
    "\n",
    "## I'm not in the mode to figure out what they did, to get their answer to work"
   ]
  },
  {
   "cell_type": "code",
   "execution_count": null,
   "id": "72496e83-9966-4c6d-8581-1e38c1c672cb",
   "metadata": {},
   "outputs": [],
   "source": [
    "# Initialize the TfidfVectorizer \n",
    "tfidf = TfidfVectorizer(stop_words='english')\n",
    "\n",
    "# Construct the TF-IDF matrix\n",
    "tfidf_matrix = tfidf.fit_transform(movie_plots)\n",
    "\n",
    "# Generate the cosine similarity matrix\n",
    "cosine_sim = linear_kernel(tfidf_matrix, tfidf_matrix)\n",
    " \n",
    "# Generate recommendations \n",
    "print(get_recommendations('The Dark Knight Rises', cosine_sim, indices))"
   ]
  },
  {
   "cell_type": "markdown",
   "id": "d08c4429-de3a-4b6b-8248-8268a0802546",
   "metadata": {},
   "source": [
    "## The recommender function\n",
    "\n",
    "### In this exercise, we will build a recommender function get_recommendations(), as discussed in the lesson and the previous exercise. As we know, it takes in a title, a cosine similarity matrix, and a movie title and index mapping as arguments and outputs a list of 10 titles most similar to the original title (excluding the title itself).\n",
    "\n",
    "### You have been given a dataset metadata that consists of the movie titles and overviews. The head of this dataset has been printed to console.\n",
    "\n",
    "### Instructions\n",
    "-    Get index of the movie that matches the title by using the title key of indices.\n",
    "-    Extract the ten most similar movies from sim_scores and store it back in sim_scores."
   ]
  },
  {
   "cell_type": "code",
   "execution_count": 31,
   "id": "56eb7e44-f364-4461-9bf1-ee54fc30a355",
   "metadata": {},
   "outputs": [],
   "source": [
    "metadata = movie_overviews_df.dropna()[[\"title\", \"tagline\"]]"
   ]
  },
  {
   "cell_type": "code",
   "execution_count": 32,
   "id": "69eb96fc-d778-4005-b66c-5525a2c594e2",
   "metadata": {},
   "outputs": [],
   "source": [
    "# Generate mapping between titles and index\n",
    "indices = pd.Series(metadata.index, index=metadata['title']).drop_duplicates()\n",
    "\n",
    "def get_recommendations(title, cosine_sim, indices):\n",
    "    # Get index of movie that matches title\n",
    "    idx = indices[title]\n",
    "    # Sort the movies based on the similarity scores\n",
    "    sim_scores = list(enumerate(cosine_sim[idx]))\n",
    "    sim_scores = sorted(sim_scores, key=lambda x: x[1], reverse=True)\n",
    "    # Get the scores for 10 most similar movies\n",
    "    sim_scores = sim_scores[1:11]\n",
    "    # Get the movie indices\n",
    "    movie_indices = [i[0] for i in sim_scores]\n",
    "    # Return the top 10 most similar movies\n",
    "    return metadata['title'].iloc[movie_indices]"
   ]
  },
  {
   "cell_type": "markdown",
   "id": "139533a2-2fc2-444b-9bea-ab4ed1ef4a3c",
   "metadata": {},
   "source": [
    "## TED talk recommender\n",
    "\n",
    "### In this exercise, we will build a recommendation system that suggests TED Talks based on their transcripts. You have been given a get_recommendations() function that takes in the title of a talk, a similarity matrix and an indices series as its arguments, and outputs a list of most similar talks. indices has already been provided to you.\n",
    "\n",
    "### You have also been given a transcripts series that contains the transcripts of around 500 TED talks. Your task is to generate a cosine similarity matrix for the tf-idf vectors of the talk transcripts.\n",
    "\n",
    "### Consequently, we will generate recommendations for a talk titled '5 ways to kill your dreams' by Brazilian entrepreneur Bel Pesce.\n",
    "\n",
    "### Instructions\n",
    "-    Initialize a TfidfVectorizer with English stopwords. Name it tfidf.\n",
    "-    Construct tfidf_matrix by fitting and transforming transcripts.\n",
    "-    Generate the cosine similarity matrix cosine_sim using tfidf_matrix.\n",
    "-    Use get_recommendations() to generate recommendations for '5 ways to kill your dreams'."
   ]
  },
  {
   "cell_type": "code",
   "execution_count": 36,
   "id": "9b49e58a-61c6-4e13-9ac8-e360c5f256dd",
   "metadata": {},
   "outputs": [],
   "source": [
    "transcripts = ted_df[\"transcript\"]\n",
    "## I'm not in the mode to figure out what they did, to get their answer to work"
   ]
  },
  {
   "cell_type": "code",
   "execution_count": null,
   "id": "75890dda-f650-4cd3-b32c-a7c801194a71",
   "metadata": {},
   "outputs": [],
   "source": [
    "# Initialize the TfidfVectorizer \n",
    "tfidf = TfidfVectorizer(stop_words=\"english\")\n",
    "\n",
    "# Construct the TF-IDF matrix\n",
    "tfidf_matrix = tfidf.fit_transform(transcripts)\n",
    "\n",
    "# Generate the cosine similarity matrix\n",
    "cosine_sim = linear_kernel(tfidf_matrix, tfidf_matrix)\n",
    " \n",
    "# Generate recommendations \n",
    "print(get_recommendations('5 ways to kill your dreams', cosine_sim, indices))"
   ]
  },
  {
   "cell_type": "markdown",
   "id": "eac03cd3-0f3e-44e4-aea2-0a7485565660",
   "metadata": {},
   "source": [
    "## Generating word vectors\n",
    "\n",
    "### In this exercise, we will generate the pairwise similarity scores of all the words in a sentence. The sentence is available as sent and has been printed to the console for your convenience.\n",
    "\n",
    "### Instructions\n",
    "-    Create a Doc object doc for sent.\n",
    "-    In the nested loop, compute the similarity between token1 and token2."
   ]
  },
  {
   "cell_type": "code",
   "execution_count": 39,
   "id": "b6b82c23-1eab-4533-b549-09917285a42e",
   "metadata": {},
   "outputs": [],
   "source": [
    "sent = 'I like apples and oranges'\n",
    "nlp = spacy.load(\"en_core_web_sm\")"
   ]
  },
  {
   "cell_type": "code",
   "execution_count": 40,
   "id": "7dc87788-00cc-48a8-8ddf-8e074bf264be",
   "metadata": {},
   "outputs": [
    {
     "name": "stdout",
     "output_type": "stream",
     "text": [
      "I I 1.0\n",
      "I like -0.06950665265321732\n",
      "I apples 0.1816101223230362\n",
      "I and -0.050600726157426834\n",
      "I oranges -0.01758648455142975\n",
      "like I -0.06950665265321732\n",
      "like like 1.0\n",
      "like apples 0.10200604051351547\n",
      "like and 0.0523926205933094\n",
      "like oranges 0.08973564207553864\n",
      "apples I 0.1816101223230362\n",
      "apples like 0.10200604051351547\n",
      "apples apples 1.0\n",
      "apples and -0.0011530559277161956\n",
      "apples oranges 0.41077685356140137\n",
      "and I -0.050600726157426834\n",
      "and like 0.0523926205933094\n",
      "and apples -0.0011530559277161956\n",
      "and and 1.0\n",
      "and oranges 0.028571248054504395\n",
      "oranges I -0.01758648455142975\n",
      "oranges like 0.08973564207553864\n",
      "oranges apples 0.41077685356140137\n",
      "oranges and 0.028571248054504395\n",
      "oranges oranges 1.0\n"
     ]
    },
    {
     "name": "stderr",
     "output_type": "stream",
     "text": [
      "/tmp/ipykernel_380283/2929505010.py:7: UserWarning: [W007] The model you're using has no word vectors loaded, so the result of the Token.similarity method will be based on the tagger, parser and NER, which may not give useful similarity judgements. This may happen if you're using one of the small models, e.g. `en_core_web_sm`, which don't ship with word vectors and only use context-sensitive tensors. You can always add your own word vectors, or use one of the larger models instead if available.\n",
      "  print(token1.text, token2.text, token1.similarity(token2))\n"
     ]
    }
   ],
   "source": [
    "# Create the doc object\n",
    "doc = nlp(sent)\n",
    "\n",
    "# Compute pairwise similarity scores\n",
    "for token1 in doc:\n",
    "  for token2 in doc:\n",
    "    print(token1.text, token2.text, token1.similarity(token2))"
   ]
  },
  {
   "cell_type": "markdown",
   "id": "6269f23f-9cf7-4e07-87ef-4ef888100ccb",
   "metadata": {},
   "source": [
    "## Computing similarity of Pink Floyd songs\n",
    "\n",
    "### In this final exercise, you have been given lyrics of three songs by the British band Pink Floyd, namely 'High Hopes', 'Hey You' and 'Mother'. The lyrics to these songs are available as hopes, hey and mother respectively.\n",
    "\n",
    "### Your task is to compute the pairwise similarity between mother and hopes, and mother and hey.\n",
    "\n",
    "### Instructions\n",
    "-    Create Doc objects for mother, hopes and hey.\n",
    "-    Compute the similarity between mother and hopes.\n",
    "-    Compute the similarity between mother and hey."
   ]
  },
  {
   "cell_type": "code",
   "execution_count": 41,
   "id": "c575f65d-8b39-4f1e-b5c0-ace7466eb8df",
   "metadata": {},
   "outputs": [],
   "source": [
    "mother = \"\\nMother do you think they'll drop the bomb?\\nMother do you think they'll like this song?\\nMother do you think they'll try to break my balls?\\nOoh, ah\\nMother should I build the wall?\\nMother should I run for President?\\nMother should I trust the government?\\nMother will they put me in the firing mine?\\nOoh ah,\\nIs it just a waste of time?\\nHush now baby, baby, don't you cry.\\nMama's gonna make all your nightmares come true.\\nMama's gonna put all her fears into you.\\nMama's gonna keep you right here under her wing.\\nShe won't let you fly, but she might let you sing.\\nMama's gonna keep baby cozy and warm.\\nOoh baby, ooh baby, ooh baby,\\nOf course mama's gonna help build the wall.\\nMother do you think she's good enough, for me?\\nMother do you think she's dangerous, to me?\\nMother will she tear your little boy apart?\\nOoh ah,\\nMother will she break my heart?\\nHush now baby, baby don't you cry.\\nMama's gonna check out all your girlfriends for you.\\nMama won't let anyone dirty get through.\\nMama's gonna wait up until you get in.\\nMama will always find out where you've been.\\nMama's gonna keep baby healthy and clean.\\nOoh baby, ooh baby, ooh baby,\\nYou'll always be baby to me.\\nMother, did it need to be so high?\\n\"\n",
    "hopes = \"\\nBeyond the horizon of the place we lived when we were young\\nIn a world of magnets and miracles\\nOur thoughts strayed constantly and without boundary\\nThe ringing of the division bell had begun\\nAlong the Long Road and on down the Causeway\\nDo they still meet there by the Cut\\nThere was a ragged band that followed in our footsteps\\nRunning before times took our dreams away\\nLeaving the myriad small creatures trying to tie us to the ground\\nTo a life consumed by slow decay\\nThe grass was greener\\nThe light was brighter\\nWhen friends surrounded\\nThe nights of wonder\\nLooking beyond the embers of bridges glowing behind us\\nTo a glimpse of how green it was on the other side\\nSteps taken forwards but sleepwalking back again\\nDragged by the force of some in a tide\\nAt a higher altitude with flag unfurled\\nWe reached the dizzy heights of that dreamed of world\\nEncumbered forever by desire and ambition\\nThere's a hunger still unsatisfied\\nOur weary eyes still stray to the horizon\\nThough down this road we've been so many times\\nThe grass was greener\\nThe light was brighter\\nThe taste was sweeter\\nThe nights of wonder\\nWith friends surrounded\\nThe dawn mist glowing\\nThe water flowing\\nThe endless river\\nForever and ever\\n\"\n",
    "hey = \"\\nHey you, out there in the cold\\nGetting lonely, getting old\\nCan you feel me?\\nHey you, standing in the aisles\\nWith itchy feet and fading smiles\\nCan you feel me?\\nHey you, don't help them to bury the light\\nDon't give in without a fight\\nHey you out there on your own\\nSitting naked by the phone\\nWould you touch me?\\nHey you with you ear against the wall\\nWaiting for someone to call out\\nWould you touch me?\\nHey you, would you help me to carry the stone?\\nOpen your heart, I'm coming home\\nBut it was only fantasy\\nThe wall was too high\\nAs you can see\\nNo matter how he tried\\nHe could not break free\\nAnd the worms ate into his brain\\nHey you, out there on the road\\nAlways doing what you're told\\nCan you help me?\\nHey you, out there beyond the wall\\nBreaking bottles in the hall\\nCan you help me?\\nHey you, don't tell me there's no hope at all\\nTogether we stand, divided we fall\\n\""
   ]
  },
  {
   "cell_type": "code",
   "execution_count": 42,
   "id": "c351142c-a468-4779-9cdb-d931e914280f",
   "metadata": {},
   "outputs": [
    {
     "name": "stdout",
     "output_type": "stream",
     "text": [
      "0.4734780725243333\n",
      "0.817943786306124\n"
     ]
    },
    {
     "name": "stderr",
     "output_type": "stream",
     "text": [
      "/tmp/ipykernel_380283/1287196326.py:7: UserWarning: [W007] The model you're using has no word vectors loaded, so the result of the Doc.similarity method will be based on the tagger, parser and NER, which may not give useful similarity judgements. This may happen if you're using one of the small models, e.g. `en_core_web_sm`, which don't ship with word vectors and only use context-sensitive tensors. You can always add your own word vectors, or use one of the larger models instead if available.\n",
      "  print(mother_doc.similarity(hopes_doc))\n",
      "/tmp/ipykernel_380283/1287196326.py:10: UserWarning: [W007] The model you're using has no word vectors loaded, so the result of the Doc.similarity method will be based on the tagger, parser and NER, which may not give useful similarity judgements. This may happen if you're using one of the small models, e.g. `en_core_web_sm`, which don't ship with word vectors and only use context-sensitive tensors. You can always add your own word vectors, or use one of the larger models instead if available.\n",
      "  print(mother_doc.similarity(hey_doc))\n"
     ]
    }
   ],
   "source": [
    "# Create Doc objects\n",
    "mother_doc = nlp(mother)\n",
    "hopes_doc = nlp(hopes)\n",
    "hey_doc = nlp(hey)\n",
    "\n",
    "# Print similarity between mother and hopes\n",
    "print(mother_doc.similarity(hopes_doc))\n",
    "\n",
    "# Print similarity between mother and hey\n",
    "print(mother_doc.similarity(hey_doc))"
   ]
  },
  {
   "cell_type": "code",
   "execution_count": null,
   "id": "b97a110d-9610-4234-8a7b-b690d2aabbde",
   "metadata": {},
   "outputs": [],
   "source": []
  }
 ],
 "metadata": {
  "kernelspec": {
   "display_name": "Python 3 (ipykernel)",
   "language": "python",
   "name": "python3"
  },
  "language_info": {
   "codemirror_mode": {
    "name": "ipython",
    "version": 3
   },
   "file_extension": ".py",
   "mimetype": "text/x-python",
   "name": "python",
   "nbconvert_exporter": "python",
   "pygments_lexer": "ipython3",
   "version": "3.11.6"
  }
 },
 "nbformat": 4,
 "nbformat_minor": 5
}
