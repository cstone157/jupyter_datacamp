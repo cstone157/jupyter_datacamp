{
 "cells": [
  {
   "cell_type": "markdown",
   "id": "053bba07-9110-4ebf-9dd7-724f5f477aae",
   "metadata": {},
   "source": [
    "## Cleaning text data\n",
    "\n",
    "In the video, you saw how to build a custom function that performs a calculation and rounds the results. However, custom functions can be used for any task we expect to repeat! One common example is cleaning text data so that it conforms to specific requirements.\n",
    "\n",
    "In this exercise, you'll create a function that takes string data and:\n",
    "\n",
    "    - Replaces spaces with underscores\n",
    "    - Converts to lowercase\n",
    "    - Returns the formatted string\n",
    "\n",
    "### Instructions\n",
    "    - Define a function called clean_string, which takes an argument called text.\n",
    "    - Inside the function, create a variable called no_spaces, which contains the text with spaces replaced by underscores.\n",
    "    - Inside the function, create a variable called clean_text, which converts characters in no_spaces to lowercase.\n",
    "    - Finish the function by producing clean_text as an output."
   ]
  },
  {
   "cell_type": "code",
   "execution_count": 1,
   "id": "fea5817b-20c5-42ad-abca-dec12f74e116",
   "metadata": {},
   "outputs": [
    {
     "name": "stdout",
     "output_type": "stream",
     "text": [
      "i_love_datacamp!\n"
     ]
    }
   ],
   "source": [
    "# Create the clean_string function\n",
    "def clean_string(text):\n",
    "  \n",
    "  # Replace spaces with underscores\n",
    "  no_spaces = text.replace(\" \", \"_\")\n",
    "  \n",
    "  # Convert to lowercase\n",
    "  clean_text = no_spaces.lower()\n",
    "  \n",
    "  # Display the final text as an output\n",
    "  return clean_text\n",
    "\n",
    "converted_text = clean_string(\"I LoVe dATaCamP!\")\n",
    "print(converted_text)"
   ]
  },
  {
   "cell_type": "markdown",
   "id": "ac5ee313-2ae4-408a-9e22-96b4f3e73ea7",
   "metadata": {},
   "source": [
    "## Building a password checker\n",
    "\n",
    "You've seen how conditional statements can be used to check for equality. Now you have the skills to build a custom function, you'll combine these two techniques to build a function called password_checker that compares a user's password to a submission, conditionally printing an output depending on the results.\n",
    "\n",
    "### Instructions\n",
    "    - Define the password_checker function, which should accept one argument called submission.\n",
    "    - Check if password is equal to submission.\n",
    "    - Add a keyword enabling the conditional printing of \"Incorrect password\" if password and submission are different.\n",
    "    - Call the function, passing \"NOT_VERY_SECURE_2023\"."
   ]
  },
  {
   "cell_type": "code",
   "execution_count": 2,
   "id": "c6f391fe-7b2b-43c6-8b6a-3903e418c3c5",
   "metadata": {},
   "outputs": [
    {
     "name": "stdout",
     "output_type": "stream",
     "text": [
      "Incorrect password\n"
     ]
    }
   ],
   "source": [
    "password = \"not_very_secure_2023\"\n",
    "\n",
    "# Define the password_checker function\n",
    "def password_checker(submission):\n",
    "  \n",
    "  # Check that the password variable and the submission match\n",
    "  if password == submission:\n",
    "    print(\"Successful login!\")\n",
    "  \n",
    "  # Otherwise, print \"Incorrect password\"\n",
    "  else:\n",
    "    print(\"Incorrect password\")\n",
    "\n",
    "# Call the function    \n",
    "password_checker(\"NOT_VERY_SECURE_2023\")"
   ]
  },
  {
   "cell_type": "markdown",
   "id": "9a615d01-7248-4983-aa27-3fe902b1b8c7",
   "metadata": {},
   "source": [
    "## Adding a keyword argument\n",
    "\n",
    "Previously, you developed a custom function to clean text, as shown here:\n",
    "\n",
    "```\n",
    "# Create the clean_string function\n",
    "def clean_string(text):\n",
    "\n",
    "      # Replace spaces with underscores\n",
    "      no_spaces = text.replace(\" \", \"_\")\n",
    "\n",
    "      # Convert to lowercase\n",
    "      clean_text = no_spaces.lower()\n",
    "\n",
    "      # Display the final text as an output\n",
    "      return clean_text\n",
    "```\n",
    "\n",
    "Now, you will modify it to take different default keyword arguments!\n",
    "\n",
    "### Instructions 1/2\n",
    "    - Define clean_text, which has two arguments: text, and lower, with the latter having a default value of True."
   ]
  },
  {
   "cell_type": "code",
   "execution_count": 3,
   "id": "2b19ceda-37f4-42ec-b550-bfab40e16435",
   "metadata": {},
   "outputs": [],
   "source": [
    "# Define clean_text\n",
    "def clean_text(text, lower=True):\n",
    "  if lower == False:\n",
    "    clean_text = text.replace(\" \", \"_\")\n",
    "    return clean_text\n",
    "  else:\n",
    "    clean_text = text.replace(\" \", \"_\")\n",
    "    clean_text = clean_text.lower()\n",
    "    return clean_text"
   ]
  },
  {
   "cell_type": "markdown",
   "id": "ef9f1ce2-5581-4c5f-b9b2-329abe3f5644",
   "metadata": {},
   "source": [
    "### Instructions 2/2\n",
    "    - Re-define clean_text with arguments of text followed by remove, with the latter having a default value of None."
   ]
  },
  {
   "cell_type": "code",
   "execution_count": null,
   "id": "abaf3a75-56cc-4317-a11c-be38fd11e438",
   "metadata": {},
   "outputs": [],
   "source": [
    "# Define clean_text\n",
    "def clean_text(text, remove=None):\n",
    "  if remove != None:\n",
    "    clean_text = text.replace(remove, \"\")\n",
    "    clean_text = clean_text.lower()\n",
    "    return clean_text\n",
    "  else:\n",
    "    clean_text = text.lower()\n",
    "    return clean_text"
   ]
  },
  {
   "cell_type": "markdown",
   "id": "305ad382-55a4-44c6-a6d5-6f321974fe93",
   "metadata": {},
   "source": [
    "## Data structure converter function\n",
    "\n",
    "Now you've learned about the types of arguments in functions, you'll put this into practice by building a custom function that converts data into different structures.\n",
    "\n",
    "### Instructions\n",
    "    - Define convert_data_structure with two arguments: data and data_type, where the latter has a default value of \"list\".\n",
    "    - Add a condition to check if data_type is \"tuple\".\n",
    "    - Else if data_type is \"set\", convert data into a set, saving it as a variable of the same name.\n",
    "    - Call the function on the data structure provided, using an appropriate keyword argument value-pair to convert it to a set."
   ]
  },
  {
   "cell_type": "code",
   "execution_count": 4,
   "id": "1ffa9bab-2255-4d0d-a39d-45c89ffc3155",
   "metadata": {},
   "outputs": [
    {
     "data": {
      "text/plain": [
       "{1, 2, 3, 'a', 'b', 'c'}"
      ]
     },
     "execution_count": 4,
     "metadata": {},
     "output_type": "execute_result"
    }
   ],
   "source": [
    "# Create the convert_data_structure function\n",
    "def convert_data_structure(data, data_type=\"list\"):\n",
    "  \n",
    "  # If data_type is \"tuple\"\n",
    "  if data_type == \"tuple\":\n",
    "    data = tuple(data)\n",
    "  \n",
    "  # Else if data_type is set, convert to a set\n",
    "  elif data_type == \"set\":\n",
    "    data = set(data)\n",
    "  else:\n",
    "    data = list(data)\n",
    "  return data\n",
    "\n",
    "# Call the function to convert to a set\n",
    "convert_data_structure({\"a\", 1, \"b\", 2, \"c\", 3}, data_type=\"set\")"
   ]
  },
  {
   "cell_type": "markdown",
   "id": "9db94f51-f2ad-42c2-81b2-3099b4169ee1",
   "metadata": {},
   "source": [
    "## Single-line docstrings\n",
    "\n",
    "Docstrings are used to explain the purpose of a function. While the function name should be descriptive, this needs to be balanced with the length of the function name, so docstrings allow you to provide more detail.\n",
    "\n",
    "In this exercise, you'll take the previously created clean_text function and add a single-line docstring.\n",
    "\n",
    "### Instructions\n",
    "    - Add a docstring stating \"\"\"Swap spaces to underscores and convert text to lowercase.\"\"\".\n",
    "    - Access the function's docstring using the appropriate attribute."
   ]
  },
  {
   "cell_type": "code",
   "execution_count": 1,
   "id": "323f216a-8bd5-481e-8ac0-c7867e4b0f40",
   "metadata": {},
   "outputs": [
    {
     "name": "stdout",
     "output_type": "stream",
     "text": [
      "Swap spaces to underscores and convert text to lowercase.\n"
     ]
    }
   ],
   "source": [
    "def clean_string(text):\n",
    "  \n",
    "  # Add a single-line docstring\n",
    "  \"\"\"Swap spaces to underscores and convert text to lowercase.\"\"\"\n",
    "  \n",
    "  no_spaces = text.replace(\" \", \"_\")\n",
    "  clean_text = no_spaces.lower()\n",
    "  return clean_text\n",
    "\n",
    "# Access the docstring\n",
    "print(clean_string.__doc__)"
   ]
  },
  {
   "cell_type": "markdown",
   "id": "8ce8eb46-ba17-4a53-8c6c-bb54c15733e3",
   "metadata": {},
   "source": [
    "## Multi-line docstrings\n",
    "\n",
    "Sometimes single-line docstrings are sufficient, but if your function is more complex or has several arguments, then it is generally a better choice to include a multi-line docstring.\n",
    "\n",
    "You'll practice this by creating a multi-line docstring for the convert_data_structure function you made earlier.\n",
    "\n",
    "### Instructions 1/3\n",
    "    - Add a summary to the docstring: Convert a data structure to a list, tuple, or set.."
   ]
  },
  {
   "cell_type": "code",
   "execution_count": 4,
   "id": "1c37847a-361e-4df1-a2b7-7beef708c5b1",
   "metadata": {},
   "outputs": [],
   "source": [
    "# Create the convert_data_type function\n",
    "def convert_data_structure(data, data_type=\"list\"):\n",
    "  # Add a multi-line docstring\n",
    "  \"\"\"\n",
    "  Convert a data structure to a list, tuple, or set.\n",
    "  \n",
    "  \n",
    "  \t\n",
    "    \n",
    "    \n",
    "  \n",
    "  \t\n",
    "  \"\"\"\n",
    "  if data_type == \"tuple\":\n",
    "    data = tuple(data)\n",
    "  elif data_type == \"set\":\n",
    "    data = set(data)\n",
    "  else:\n",
    "    data = list(data)\n",
    "  return data"
   ]
  },
  {
   "cell_type": "markdown",
   "id": "37e0021f-b6d6-46f8-872f-e7e168e04ad8",
   "metadata": {},
   "source": [
    "### Instructions 2/3\n",
    "    - Add Args:, first with data (list, tuple, or set): A data structure to be converted., and second with data_type (str): String representing the type of structure to convert data to."
   ]
  },
  {
   "cell_type": "code",
   "execution_count": 3,
   "id": "f6ddc9a0-9bc9-4d85-9b67-692da9e2923b",
   "metadata": {},
   "outputs": [],
   "source": [
    "# Create the convert_data_type function\n",
    "def convert_data_structure(data, data_type=\"list\"):\n",
    "  # Add a multi-line docstring\n",
    "  \"\"\"\n",
    "  Convert a data structure to a list, tuple, or set.\n",
    "  \n",
    "  Args:\n",
    "  \tdata (list, tuple, or set): A data structure to be converted.\n",
    "    data_type (str): String representing the type of structure to convert data to.\n",
    "    \n",
    "  \n",
    "  \t\n",
    "  \"\"\"\n",
    "  if data_type == \"tuple\":\n",
    "    data = tuple(data)\n",
    "  elif data_type == \"set\":\n",
    "    data = set(data)\n",
    "  else:\n",
    "    data = list(data)\n",
    "  return data"
   ]
  },
  {
   "cell_type": "markdown",
   "id": "09f31b8e-cb9c-42a6-b26f-7a1288902fe7",
   "metadata": {},
   "source": [
    "### Instructions 3/3\n",
    "    - Detail the Returns: section: data (list, tuple, or set): Converted data structure."
   ]
  },
  {
   "cell_type": "code",
   "execution_count": 2,
   "id": "a09785f1-78c0-4efb-bdac-67f8ba1ec741",
   "metadata": {},
   "outputs": [
    {
     "name": "stdout",
     "output_type": "stream",
     "text": [
      "Help on function convert_data_structure in module __main__:\n",
      "\n",
      "convert_data_structure(data, data_type='list')\n",
      "    Convert a data structure to a list, tuple, or set.\n",
      "    \n",
      "    Args:\n",
      "          data (list, tuple, or set): A data structure to be converted.\n",
      "      data_type (str): String representing the type of structure to convert data to.\n",
      "      \n",
      "    Returns:\n",
      "          data (list, tuple, or set): Converted data structure.\n",
      "\n",
      "None\n"
     ]
    }
   ],
   "source": [
    "# Create the convert_data_type function\n",
    "def convert_data_structure(data, data_type=\"list\"):\n",
    "  # Add a multi-line docstring\n",
    "  \"\"\"\n",
    "  Convert a data structure to a list, tuple, or set.\n",
    "  \n",
    "  Args:\n",
    "  \tdata (list, tuple, or set): A data structure to be converted.\n",
    "    data_type (str): String representing the type of structure to convert data to.\n",
    "    \n",
    "  Returns:\n",
    "  \tdata (list, tuple, or set): Converted data structure.\n",
    "  \"\"\"\n",
    "  if data_type == \"tuple\":\n",
    "    data = tuple(data)\n",
    "  elif data_type == \"set\":\n",
    "    data = set(data)\n",
    "  else:\n",
    "    data = list(data)\n",
    "  return data\n",
    "\n",
    "print(help(convert_data_structure))"
   ]
  },
  {
   "cell_type": "markdown",
   "id": "31e52e0d-c313-43ae-941a-b744c7cb99f8",
   "metadata": {},
   "source": [
    "## Adding arbitrary arguments\n",
    "\n",
    "In the video, you saw that Python allows custom functions to accept any number of positional arguments through the use of \"Arbitrary arguments\". This flexibility enables functions to be used in a variety of ways while still producing the expected results!\n",
    "\n",
    "Using this power, you'll build a function that concatenates (joins together) strings, regardless of how many blocks of text are provided!\n",
    "\n",
    "### Instructions\n",
    "    - Define a function called concat() that accepts arbitrary arguments called args.\n",
    "    - Create a variable called result and assign an empty string to it.\n",
    "    - Use a for loop to iterate over each arg in args.\n",
    "    - Call the function to test that it works correctly."
   ]
  },
  {
   "cell_type": "code",
   "execution_count": 5,
   "id": "260a76a5-dcea-405b-9b9f-9fe3118c0910",
   "metadata": {},
   "outputs": [
    {
     "name": "stdout",
     "output_type": "stream",
     "text": [
      " Python is great!\n"
     ]
    }
   ],
   "source": [
    "# Define a function called concat\n",
    "def concat(*args):\n",
    "  \n",
    "  # Create an empty string\n",
    "  result = \"\"\n",
    "  \n",
    "  # Iterate over the Python args tuple\n",
    "  for arg in args:\n",
    "    result += \" \" + arg\n",
    "  return result\n",
    "\n",
    "# Call the function\n",
    "print(concat(\"Python\", \"is\", \"great!\"))"
   ]
  },
  {
   "cell_type": "markdown",
   "id": "b542f2f1-35ab-4d09-9e76-fedf9d30c4d2",
   "metadata": {},
   "source": [
    "## Arbitrary keyword arguments\n",
    "\n",
    "Arbitrary positional arguments are one way to add flexibility when creating custom functions, but you can also use arbitrary keyword arguments.\n",
    "\n",
    "Your goal is to take the concat function that you created in the last exercise and modify it to accept arbitrary keyword arguments. Good luck!\n",
    "\n",
    "### Instructions\n",
    "    - Define concat() as a function that accepts arbitrary keyword arguments called kwargs.\n",
    "    - Inside the function, create an empty string.\n",
    "    - Inside the function, loop over the keyword argument values, using kwarg as the iterator.\n",
    "    - Call concat() with keyword arguments of start equal to \"Python\", middle equal to \"is\", and end equal to \"great!\"."
   ]
  },
  {
   "cell_type": "code",
   "execution_count": 6,
   "id": "5cdba64e-4514-4f81-8645-6410b75c87f3",
   "metadata": {},
   "outputs": [
    {
     "name": "stdout",
     "output_type": "stream",
     "text": [
      " Python is great!\n"
     ]
    }
   ],
   "source": [
    "# Define a function called concat\n",
    "def concat(**kwargs):\n",
    "  \n",
    "  # Create an empty string\n",
    "  result = \"\"\n",
    "  \n",
    "  # Iterate over the Python kwargs\n",
    "  for kwarg in kwargs.values():\n",
    "    result += \" \" + kwarg\n",
    "  return result\n",
    "\n",
    "# Call the function\n",
    "print(concat(start=\"Python\", middle=\"is\", end=\"great!\"))"
   ]
  },
  {
   "cell_type": "code",
   "execution_count": null,
   "id": "0fede4b6-70f6-4f79-8108-fb4858aef101",
   "metadata": {},
   "outputs": [],
   "source": []
  }
 ],
 "metadata": {
  "kernelspec": {
   "display_name": "Python 3 (ipykernel)",
   "language": "python",
   "name": "python3"
  },
  "language_info": {
   "codemirror_mode": {
    "name": "ipython",
    "version": 3
   },
   "file_extension": ".py",
   "mimetype": "text/x-python",
   "name": "python",
   "nbconvert_exporter": "python",
   "pygments_lexer": "ipython3",
   "version": "3.11.6"
  }
 },
 "nbformat": 4,
 "nbformat_minor": 5
}
