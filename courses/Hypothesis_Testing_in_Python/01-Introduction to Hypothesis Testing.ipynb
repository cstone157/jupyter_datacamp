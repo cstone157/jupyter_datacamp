{
 "cells": [
  {
   "cell_type": "code",
   "execution_count": 2,
   "id": "46c3b6a6-a6c6-4efb-bf7e-6b34e8e47331",
   "metadata": {},
   "outputs": [],
   "source": [
    "import pandas as pd\n",
    "import numpy as np\n",
    "\n",
    "late_shipments = pd.read_feather(\"../../data/late_shipments.feather\")"
   ]
  },
  {
   "cell_type": "code",
   "execution_count": null,
   "id": "a5c1a6d6-1208-434c-9a62-4efa83088956",
   "metadata": {},
   "outputs": [],
   "source": []
  },
  {
   "cell_type": "code",
   "execution_count": 3,
   "id": "52335553-6c02-4f8d-9045-ac4794713089",
   "metadata": {},
   "outputs": [
    {
     "name": "stdout",
     "output_type": "stream",
     "text": [
      "          id       country managed_by  fulfill_via vendor_inco_term  \\\n",
      "0    36203.0       Nigeria   PMO - US  Direct Drop              EXW   \n",
      "1    30998.0      Botswana   PMO - US  Direct Drop              EXW   \n",
      "2    69871.0       Vietnam   PMO - US  Direct Drop              EXW   \n",
      "3    17648.0  South Africa   PMO - US  Direct Drop              DDP   \n",
      "4     5647.0        Uganda   PMO - US  Direct Drop              EXW   \n",
      "..       ...           ...        ...          ...              ...   \n",
      "995  13608.0        Uganda   PMO - US  Direct Drop              DDP   \n",
      "996  80394.0    Congo, DRC   PMO - US  Direct Drop              EXW   \n",
      "997  61675.0        Zambia   PMO - US  Direct Drop              EXW   \n",
      "998  39182.0  South Africa   PMO - US  Direct Drop              DDP   \n",
      "999   5645.0      Botswana   PMO - US  Direct Drop              EXW   \n",
      "\n",
      "    shipment_mode  late_delivery late product_group    sub_classification  \\\n",
      "0             Air            1.0  Yes          HRDT              HIV test   \n",
      "1             Air            0.0   No          HRDT              HIV test   \n",
      "2             Air            0.0   No           ARV                 Adult   \n",
      "3           Ocean            0.0   No           ARV                 Adult   \n",
      "4             Air            0.0   No          HRDT  HIV test - Ancillary   \n",
      "..            ...            ...  ...           ...                   ...   \n",
      "995           Air            0.0   No           ARV                 Adult   \n",
      "996           Air            0.0   No          HRDT              HIV test   \n",
      "997           Air            1.0  Yes          HRDT              HIV test   \n",
      "998         Ocean            0.0   No           ARV                 Adult   \n",
      "999           Air            0.0   No          HRDT              HIV test   \n",
      "\n",
      "     ... line_item_quantity line_item_value pack_price unit_price  \\\n",
      "0    ...             2996.0       266644.00      89.00       0.89   \n",
      "1    ...               25.0          800.00      32.00       1.60   \n",
      "2    ...            22925.0       110040.00       4.80       0.08   \n",
      "3    ...           152535.0       361507.95       2.37       0.04   \n",
      "4    ...              850.0            8.50       0.01       0.00   \n",
      "..   ...                ...             ...        ...        ...   \n",
      "995  ...              121.0         9075.00      75.00       0.62   \n",
      "996  ...              292.0         9344.00      32.00       1.60   \n",
      "997  ...             2127.0       170160.00      80.00       0.80   \n",
      "998  ...           191011.0       861459.61       4.51       0.15   \n",
      "999  ...              200.0        14398.00      71.99       0.72   \n",
      "\n",
      "               manufacturing_site first_line_designation  weight_kilograms  \\\n",
      "0         Alere Medical Co., Ltd.                    Yes            1426.0   \n",
      "1            Trinity Biotech, Plc                    Yes              10.0   \n",
      "2    Hetero Unit III Hyderabad IN                    Yes            3723.0   \n",
      "3       Aurobindo Unit III, India                    Yes            7698.0   \n",
      "4                 Inverness Japan                    Yes              56.0   \n",
      "..                            ...                    ...               ...   \n",
      "995     Janssen-Cilag, Latina, IT                    Yes              43.0   \n",
      "996          Trinity Biotech, Plc                    Yes              99.0   \n",
      "997       Alere Medical Co., Ltd.                    Yes             881.0   \n",
      "998     Aurobindo Unit III, India                    Yes           16234.0   \n",
      "999               Inverness Japan                    Yes              46.0   \n",
      "\n",
      "     freight_cost_usd  freight_cost_groups  line_item_insurance_usd  \n",
      "0            33279.83            expensive                   373.83  \n",
      "1              559.89           reasonable                     1.72  \n",
      "2            19056.13            expensive                   181.57  \n",
      "3            11372.23            expensive                   779.41  \n",
      "4              360.00           reasonable                     0.01  \n",
      "..                ...                  ...                      ...  \n",
      "995            199.00           reasonable                    12.72  \n",
      "996           2162.55           reasonable                    13.10  \n",
      "997          14019.38            expensive                   210.49  \n",
      "998          14439.17            expensive                  1421.41  \n",
      "999           1028.18           reasonable                    23.04  \n",
      "\n",
      "[1000 rows x 27 columns]\n"
     ]
    }
   ],
   "source": [
    "# Print the late_shipments dataset\n",
    "print(late_shipments)"
   ]
  },
  {
   "cell_type": "code",
   "execution_count": 4,
   "id": "e94b84b8-0e4b-474d-93ce-7dc8fcba7cad",
   "metadata": {},
   "outputs": [
    {
     "name": "stdout",
     "output_type": "stream",
     "text": [
      "          id       country managed_by  fulfill_via vendor_inco_term  \\\n",
      "0    36203.0       Nigeria   PMO - US  Direct Drop              EXW   \n",
      "1    30998.0      Botswana   PMO - US  Direct Drop              EXW   \n",
      "2    69871.0       Vietnam   PMO - US  Direct Drop              EXW   \n",
      "3    17648.0  South Africa   PMO - US  Direct Drop              DDP   \n",
      "4     5647.0        Uganda   PMO - US  Direct Drop              EXW   \n",
      "..       ...           ...        ...          ...              ...   \n",
      "995  13608.0        Uganda   PMO - US  Direct Drop              DDP   \n",
      "996  80394.0    Congo, DRC   PMO - US  Direct Drop              EXW   \n",
      "997  61675.0        Zambia   PMO - US  Direct Drop              EXW   \n",
      "998  39182.0  South Africa   PMO - US  Direct Drop              DDP   \n",
      "999   5645.0      Botswana   PMO - US  Direct Drop              EXW   \n",
      "\n",
      "    shipment_mode  late_delivery late product_group    sub_classification  \\\n",
      "0             Air            1.0  Yes          HRDT              HIV test   \n",
      "1             Air            0.0   No          HRDT              HIV test   \n",
      "2             Air            0.0   No           ARV                 Adult   \n",
      "3           Ocean            0.0   No           ARV                 Adult   \n",
      "4             Air            0.0   No          HRDT  HIV test - Ancillary   \n",
      "..            ...            ...  ...           ...                   ...   \n",
      "995           Air            0.0   No           ARV                 Adult   \n",
      "996           Air            0.0   No          HRDT              HIV test   \n",
      "997           Air            1.0  Yes          HRDT              HIV test   \n",
      "998         Ocean            0.0   No           ARV                 Adult   \n",
      "999           Air            0.0   No          HRDT              HIV test   \n",
      "\n",
      "     ... line_item_quantity line_item_value pack_price unit_price  \\\n",
      "0    ...             2996.0       266644.00      89.00       0.89   \n",
      "1    ...               25.0          800.00      32.00       1.60   \n",
      "2    ...            22925.0       110040.00       4.80       0.08   \n",
      "3    ...           152535.0       361507.95       2.37       0.04   \n",
      "4    ...              850.0            8.50       0.01       0.00   \n",
      "..   ...                ...             ...        ...        ...   \n",
      "995  ...              121.0         9075.00      75.00       0.62   \n",
      "996  ...              292.0         9344.00      32.00       1.60   \n",
      "997  ...             2127.0       170160.00      80.00       0.80   \n",
      "998  ...           191011.0       861459.61       4.51       0.15   \n",
      "999  ...              200.0        14398.00      71.99       0.72   \n",
      "\n",
      "               manufacturing_site first_line_designation  weight_kilograms  \\\n",
      "0         Alere Medical Co., Ltd.                    Yes            1426.0   \n",
      "1            Trinity Biotech, Plc                    Yes              10.0   \n",
      "2    Hetero Unit III Hyderabad IN                    Yes            3723.0   \n",
      "3       Aurobindo Unit III, India                    Yes            7698.0   \n",
      "4                 Inverness Japan                    Yes              56.0   \n",
      "..                            ...                    ...               ...   \n",
      "995     Janssen-Cilag, Latina, IT                    Yes              43.0   \n",
      "996          Trinity Biotech, Plc                    Yes              99.0   \n",
      "997       Alere Medical Co., Ltd.                    Yes             881.0   \n",
      "998     Aurobindo Unit III, India                    Yes           16234.0   \n",
      "999               Inverness Japan                    Yes              46.0   \n",
      "\n",
      "     freight_cost_usd  freight_cost_groups  line_item_insurance_usd  \n",
      "0            33279.83            expensive                   373.83  \n",
      "1              559.89           reasonable                     1.72  \n",
      "2            19056.13            expensive                   181.57  \n",
      "3            11372.23            expensive                   779.41  \n",
      "4              360.00           reasonable                     0.01  \n",
      "..                ...                  ...                      ...  \n",
      "995            199.00           reasonable                    12.72  \n",
      "996           2162.55           reasonable                    13.10  \n",
      "997          14019.38            expensive                   210.49  \n",
      "998          14439.17            expensive                  1421.41  \n",
      "999           1028.18           reasonable                    23.04  \n",
      "\n",
      "[1000 rows x 27 columns]\n",
      "0.061\n"
     ]
    }
   ],
   "source": [
    "# Print the late_shipments dataset\n",
    "print(late_shipments)\n",
    "\n",
    "# Calculate the proportion of late shipments\n",
    "late_prop_samp = (late_shipments[\"late\"] == \"Yes\").mean()\n",
    "\n",
    "# Print the results\n",
    "print(late_prop_samp)"
   ]
  },
  {
   "cell_type": "code",
   "execution_count": null,
   "id": "69e9ca27-c811-45d3-bb2a-d0a67dc6c756",
   "metadata": {},
   "outputs": [],
   "source": []
  },
  {
   "cell_type": "code",
   "execution_count": 20,
   "id": "08f60b70-c582-44d0-afe1-538c02655446",
   "metadata": {},
   "outputs": [],
   "source": [
    "## Build our sample\n",
    "import numpy as np\n",
    "\n",
    "late_shipments_boot_distn = []\n",
    "late_shipments[\"late_as_number\"] = (late_shipments[\"late\"] == \"Yes\")\n",
    "\n",
    "for i in range(5000):  \n",
    "    late_shipments_boot_distn.append(\n",
    "        # Step 2. Calculate point estimate    \n",
    "        np.mean(\n",
    "            # Step 1. Resample        \n",
    "            late_shipments.sample(frac=1, replace=True)[\"late_as_number\"]\n",
    "        ))"
   ]
  },
  {
   "cell_type": "code",
   "execution_count": 10,
   "id": "4be9d94c-7b8a-4974-9a48-8cd99a8b0318",
   "metadata": {},
   "outputs": [
    {
     "name": "stdout",
     "output_type": "stream",
     "text": [
      "0.13450434883388826\n"
     ]
    }
   ],
   "source": [
    "# Hypothesize that the proportion is 6%\n",
    "late_prop_hyp = 0.06\n",
    "\n",
    "# Calculate the standard error\n",
    "std_error = np.std(late_shipments_boot_distn, ddof=1)\n",
    "\n",
    "# Find z-score of late_prop_samp\n",
    "z_score = (late_prop_samp - late_prop_hyp) / std_error\n",
    "\n",
    "# Print z_score\n",
    "print(z_score)"
   ]
  },
  {
   "cell_type": "code",
   "execution_count": null,
   "id": "87606963-1551-406f-9489-f6f095e3f613",
   "metadata": {},
   "outputs": [],
   "source": []
  },
  {
   "cell_type": "code",
   "execution_count": 14,
   "id": "2184e814-eabc-4a30-a32a-6f5431ad1b0f",
   "metadata": {},
   "outputs": [],
   "source": [
    "# You'll now return to the late shipments dataset and the proportion of late shipments.\n",
    "# The null hypothesis, H0, is that the proportion of late shipments is six percent.\n",
    "# The alternative hypothesis, HA, is that the proportion of late shipments is greater than six percent.\n",
    "# The observed sample statistic, late_prop_samp, the hypothesized value, late_prop_hyp (6%), and \n",
    "#     the bootstrap standard error, std_error are available. norm from scipy.stats has also been loaded \n",
    "#     without an alias.\n",
    "from scipy.stats import norm\n",
    "\n",
    "late_prop_hyp = 0.06\n",
    "late_prop_samp = 0.061\n",
    "std_error = 0.007488520883926666\n",
    "\n",
    "# Calculating the p-value\n",
    "# norm.cdf() is normal CDF from scipy.stats.\n",
    "# - Left-tailed test → use norm.cdf().\n",
    "# - Right-tailed test → use 1 - norm.cdf()."
   ]
  },
  {
   "cell_type": "code",
   "execution_count": 15,
   "id": "a174d18c-a454-414c-b257-9f82cd875f9d",
   "metadata": {},
   "outputs": [
    {
     "name": "stdout",
     "output_type": "stream",
     "text": [
      "0.4468840678346485\n"
     ]
    }
   ],
   "source": [
    "# Calculate the z-score of late_prop_samp\n",
    "z_score = (late_prop_samp - late_prop_hyp) / std_error\n",
    "\n",
    "# Calculate the p-value\n",
    "p_value = 1 - norm.cdf(z_score, loc=0, scale=1)\n",
    "                 \n",
    "# Print the p-value\n",
    "print(p_value) "
   ]
  },
  {
   "cell_type": "code",
   "execution_count": null,
   "id": "55f204a8-2ce6-4155-9166-f65dc24f827e",
   "metadata": {},
   "outputs": [],
   "source": []
  },
  {
   "cell_type": "code",
   "execution_count": null,
   "id": "c964ad83-7002-4844-b8cc-e0ed616f6ee2",
   "metadata": {},
   "outputs": [],
   "source": [
    "## Calculating a confidence interval\n",
    "# If you give a single estimate of a sample statistic, you are bound to be wrong by some amount. \n",
    "#     For example, the hypothesized proportion of late shipments was 6%. Even if evidence suggests \n",
    "#     the null hypothesis that the proportion of late shipments is equal to this, for any new sample \n",
    "#     of shipments, the proportion is likely to be a little different due to sampling variability. \n",
    "#     Consequently, it's a good idea to state a confidence interval. That is, you say, \"we are 95% \n",
    "#     'confident' that the proportion of late shipments is between A and B\" (for some value of A and B).\n",
    "# \n",
    "# Sampling in Python demonstrated two methods for calculating confidence intervals. Here, you'll \n",
    "#     use quantiles of the bootstrap distribution to calculate the confidence interval.\n"
   ]
  },
  {
   "cell_type": "code",
   "execution_count": 17,
   "id": "c20f90ed-1ee5-4508-af4c-6ac9012a2454",
   "metadata": {},
   "outputs": [
    {
     "name": "stdout",
     "output_type": "stream",
     "text": [
      "(0.047, 0.076)\n"
     ]
    }
   ],
   "source": [
    "# Calculate 95% confidence interval using quantile method\n",
    "lower = np.quantile(late_shipments_boot_distn, 0.025)\n",
    "upper = np.quantile(late_shipments_boot_distn, 0.975)\n",
    "\n",
    "# Print the confidence interval\n",
    "print((lower, upper))"
   ]
  },
  {
   "cell_type": "code",
   "execution_count": 18,
   "id": "0c10388c-6ebc-41d3-8939-8c638f2ab471",
   "metadata": {},
   "outputs": [],
   "source": [
    "# Does the confidence interval match up with the conclusion to stick with the original assumption \n",
    "#     that 6% is a reasonable value for the unknown population parameter?\n",
    "# Answer: Yes, since 0.06 is included in the 95% confidence interval and we failed to reject H0 \n",
    "#     due to a large p-value, the results are similar."
   ]
  },
  {
   "cell_type": "code",
   "execution_count": null,
   "id": "c0760f23-fbce-49df-b831-51dcc0f214af",
   "metadata": {},
   "outputs": [],
   "source": []
  }
 ],
 "metadata": {
  "kernelspec": {
   "display_name": "Python 3 (ipykernel)",
   "language": "python",
   "name": "python3"
  },
  "language_info": {
   "codemirror_mode": {
    "name": "ipython",
    "version": 3
   },
   "file_extension": ".py",
   "mimetype": "text/x-python",
   "name": "python",
   "nbconvert_exporter": "python",
   "pygments_lexer": "ipython3",
   "version": "3.11.6"
  }
 },
 "nbformat": 4,
 "nbformat_minor": 5
}
