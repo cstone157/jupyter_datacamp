{
 "cells": [
  {
   "cell_type": "code",
   "execution_count": 2,
   "id": "b1be881c-3586-40d8-baa5-9f5d92f90645",
   "metadata": {},
   "outputs": [],
   "source": [
    "import numpy as np\n",
    "import pandas as pd\n",
    "\n",
    "from sklearn.ensemble import RandomForestRegressor, RandomForestClassifier\n",
    "from sklearn.metrics import mean_absolute_error as mae\n",
    "from sklearn.model_selection import train_test_split\n",
    "\n",
    "from category_encoders.one_hot import OneHotEncoder\n",
    "\n",
    "tic_tac_toe = pd.read_csv('./../../data/tic-tac-toe.csv')\n",
    "candy = pd.read_csv('./../../data/candy-data.csv')"
   ]
  },
  {
   "cell_type": "markdown",
   "id": "6f034e0e-8926-4aa1-a72f-65775a33b048",
   "metadata": {},
   "source": [
    "## Create one holdout set\n",
    "### Your boss has asked you to create a simple random forest model on the tic_tac_toe dataset. She doesn't want you to spend much time selecting parameters; rather she wants to know how well the model will perform on future data. For future Tic-Tac-Toe games, it would be nice to know if your model can predict which player will win.\n",
    "\n",
    "### The dataset tic_tac_toe has been loaded for your use.\n",
    "\n",
    "### Note that in Python, =\\ indicates the code was too long for one line and has been split across two lines.\n",
    "\n",
    "### Instructions\n",
    "-    Create the X dataset by creating dummy variables for all of the categorical columns.\n",
    "-    Split X and y into train (X_train, y_train) and test (X_test, y_test) datasets.\n",
    "-    Split the datasets using 10% for testing"
   ]
  },
  {
   "cell_type": "code",
   "execution_count": 3,
   "id": "bcecf5d1-4a93-40ea-b47f-4067cfb4aff5",
   "metadata": {},
   "outputs": [],
   "source": [
    "# Create dummy variables using pandas\n",
    "X = pd.get_dummies(tic_tac_toe.iloc[:,0:9])\n",
    "y = tic_tac_toe.iloc[:, 9]\n",
    "\n",
    "# Create training and testing datasets. Use 10% for the test set\n",
    "X_train, X_test, y_train, y_test  = train_test_split(X, y, test_size=0.1, random_state=1111)"
   ]
  },
  {
   "cell_type": "markdown",
   "id": "eb982619-84d3-4082-a5a7-2b483fb680a9",
   "metadata": {},
   "source": [
    "## Create two holdout sets\n",
    "### You recently created a simple random forest model to predict Tic-Tac-Toe game wins for your boss, and at her request, you did not do any parameter tuning. Unfortunately, the overall model accuracy was too low for her standards. This time around, she has asked you to focus on model performance.\n",
    "\n",
    "### Before you start testing different models and parameter sets, you will need to split the data into training, validation, and testing datasets. Remember that after splitting the data into training and testing datasets, the validation dataset is created by splitting the training dataset.\n",
    "\n",
    "### The datasets X and y have been loaded for your use.\n",
    "\n",
    "### Instructions\n",
    "-    Create temporary datasets and testing datasets (X_test, y_test). Use 20% of the overall data for the testing datasets.\n",
    "-    Using the temporary datasets (X_temp, y_temp), create training (X_train, y_train) and validation (X_val, y_val) datasets.\n",
    "-    Use 25% of the temporary data for the validation datasets."
   ]
  },
  {
   "cell_type": "code",
   "execution_count": 4,
   "id": "c049e7b9-cc5a-4461-9f0e-d289184f8fb7",
   "metadata": {},
   "outputs": [],
   "source": [
    "# Create temporary training and final testing datasets\n",
    "X_temp, X_test, y_temp, y_test  =\\\n",
    "    train_test_split(X, y, test_size=0.20, random_state=1111)\n",
    "\n",
    "# Create the final training and validation datasets\n",
    "X_train, X_val, y_train, y_val =\\\n",
    "    train_test_split(X_temp, y_temp, test_size=0.25, random_state=1111)"
   ]
  },
  {
   "cell_type": "markdown",
   "id": "38944ddb-9288-441d-94ad-bf63e90a9a98",
   "metadata": {},
   "source": [
    "## Mean absolute error\n",
    "### Communicating modeling results can be difficult. However, most clients understand that on average, a predictive model was off by some number. This makes explaining the mean absolute error easy. For example, when predicting the number of wins for a basketball team, if you predict 42, and they end up with 40, you can easily explain that the error was two wins.\n",
    "\n",
    "### In this exercise, you are interviewing for a new position and are provided with two arrays. y_test, the true number of wins for all 30 NBA teams in 2017 and predictions, which contains a prediction for each team. To test your understanding, you are asked to both manually calculate the MAE and use sklearn.\n",
    "\n",
    "### Instructions\n",
    "-    Manually calculate the MAE using n as the number of observations predicted.\n",
    "-    Calculate the MAE using sklearn.\n",
    "-    Print off both accuracy values using the print statements."
   ]
  },
  {
   "cell_type": "code",
   "execution_count": 7,
   "id": "64629162-99b3-4685-90ec-fdfd796cd9c6",
   "metadata": {},
   "outputs": [],
   "source": [
    "y_test = np.array([53, 51, 51, 49, 43, 42, 42, 41, 41, 37, 36, 31, 29, 28, 20, 67, 61,\n",
    "       55, 51, 51, 47, 43, 41, 40, 34, 33, 32, 31, 26, 24])\n",
    "predictions = np.array([60, 62, 42, 42, 30, 50, 52, 42, 44, 35, 30, 30, 35, 40, 15, 72, 58,\n",
    "       60, 40, 42, 45, 46, 40, 35, 25, 40, 20, 34, 25, 24])"
   ]
  },
  {
   "cell_type": "code",
   "execution_count": 8,
   "id": "7da757fa-1267-4367-9197-b357822926d8",
   "metadata": {},
   "outputs": [
    {
     "name": "stdout",
     "output_type": "stream",
     "text": [
      "With a manual calculation, the error is 5.9\n",
      "Using scikit-learn, the error is 5.9\n"
     ]
    }
   ],
   "source": [
    "from sklearn.metrics import mean_absolute_error\n",
    "\n",
    "# Manually calculate the MAE\n",
    "n = len(predictions)\n",
    "mae_one = sum(abs(y_test - predictions)) / n\n",
    "print('With a manual calculation, the error is {}'.format(mae_one))\n",
    "\n",
    "# Use scikit-learn to calculate the MAE\n",
    "mae_two = mean_absolute_error(y_test, predictions)\n",
    "print('Using scikit-learn, the error is {}'.format(mae_two))"
   ]
  },
  {
   "cell_type": "markdown",
   "id": "96c36973-13f0-4c0e-b44b-30f6a6864085",
   "metadata": {},
   "source": [
    "## Mean squared error\n",
    "### Let's focus on the 2017 NBA predictions again. Every year, there are at least a couple of NBA teams that win way more games than expected. If you use the MAE, this accuracy metric does not reflect the bad predictions as much as if you use the MSE. Squaring the large errors from bad predictions will make the accuracy look worse.\n",
    "\n",
    "### In this example, NBA executives want to better predict team wins. You will use the mean squared error to calculate the prediction error. The actual wins are loaded as y_test and the predictions as predictions.\n",
    "\n",
    "### Instructions\n",
    "-    Manually calculate the MSE. $$ MSE = \\frac{\\sum_{i=1}^{n} (y_i - \\hat{y}_i ) ^2 }{n} $$\n",
    "-    Calculate the MSE using sklearn."
   ]
  },
  {
   "cell_type": "code",
   "execution_count": 9,
   "id": "0c30e5af-0eed-444a-81b2-6ac106c613a4",
   "metadata": {},
   "outputs": [
    {
     "name": "stdout",
     "output_type": "stream",
     "text": [
      "With a manual calculation, the error is 49.1\n",
      "Using scikit-learn, the error is 49.1\n"
     ]
    }
   ],
   "source": [
    "from sklearn.metrics import mean_squared_error\n",
    "\n",
    "n = len(predictions)\n",
    "# Finish the manual calculation of the MSE\n",
    "mse_one = sum((y_test - predictions)**2) / n\n",
    "print('With a manual calculation, the error is {}'.format(mse_one))\n",
    "\n",
    "# Use the scikit-learn function to calculate MSE\n",
    "mse_two = mean_squared_error(y_test, predictions)\n",
    "print('Using scikit-learn, the error is {}'.format(mse_two))"
   ]
  },
  {
   "cell_type": "markdown",
   "id": "b7d0ce79-8b27-45aa-be01-6175ba63d21b",
   "metadata": {},
   "source": [
    "## Performance on data subsets\n",
    "### In professional basketball, there are two conferences, the East and the West. Coaches and fans often only care about how teams in their own conference will do this year.\n",
    "\n",
    "### You have been working on an NBA prediction model and would like to determine if the predictions were better for the East or West conference. You added a third array to your data called labels, which contains an \"E\" for the East teams, and a \"W\" for the West. y_test and predictions have again been loaded for your use.\n",
    "\n",
    "### Instructions 1/4\n",
    "-    Create an array east_teams that can be used to filter labels to East conference teams."
   ]
  },
  {
   "cell_type": "code",
   "execution_count": 11,
   "id": "8f68e60a-15da-4055-b34e-4f728c63e0ba",
   "metadata": {},
   "outputs": [],
   "source": [
    "labels = np.array(['E', 'E', 'E', 'E', 'E', 'E', 'E', 'E', 'E', 'E', 'E', 'E', 'E',\n",
    "       'E', 'E', 'W', 'W', 'W', 'W', 'W', 'W', 'W', 'W', 'W', 'W', 'W',\n",
    "       'W', 'W', 'W', 'W'])"
   ]
  },
  {
   "cell_type": "code",
   "execution_count": 12,
   "id": "a1f22d07-b44d-46f0-b72d-f2250fe47f6d",
   "metadata": {},
   "outputs": [],
   "source": [
    "# Find the East conference teams\n",
    "east_teams = labels == \"E\""
   ]
  },
  {
   "cell_type": "markdown",
   "id": "5f560cef-8a14-47b9-a4dc-c5072b939971",
   "metadata": {},
   "source": [
    "### Instructions 2/4\n",
    "-    Create the arrays true_east and preds_east by filtering the arrays y_test and predictions."
   ]
  },
  {
   "cell_type": "code",
   "execution_count": 13,
   "id": "2a9ea59e-e764-472a-b8f9-173360299c3f",
   "metadata": {},
   "outputs": [],
   "source": [
    "# Find the East conference teams\n",
    "east_teams = labels == \"E\"\n",
    "\n",
    "# Create arrays for the true and predicted values\n",
    "true_east = y_test[east_teams]\n",
    "preds_east = predictions[east_teams]"
   ]
  },
  {
   "cell_type": "markdown",
   "id": "d9847389-15dd-4196-9212-a1220417e465",
   "metadata": {},
   "source": [
    "### Instructions 3/4\n",
    "-    Use the print statements to print the MAE (using scikit-learn) for the East conference. The mean_absolute_error function has been loaded as mae."
   ]
  },
  {
   "cell_type": "code",
   "execution_count": 14,
   "id": "b7fcd1f8-85ab-44c6-9ad5-943fc0a6bc65",
   "metadata": {},
   "outputs": [],
   "source": [
    "from sklearn.metrics import mean_absolute_error as mae"
   ]
  },
  {
   "cell_type": "code",
   "execution_count": 15,
   "id": "cca1b9fc-af1a-4ef7-ab34-337e46baef36",
   "metadata": {},
   "outputs": [
    {
     "name": "stdout",
     "output_type": "stream",
     "text": [
      "The MAE for East teams is 6.733333333333333\n"
     ]
    }
   ],
   "source": [
    "# Find the East conference teams\n",
    "east_teams = labels == \"E\"\n",
    "\n",
    "# Create arrays for the true and predicted values\n",
    "true_east = y_test[east_teams]\n",
    "preds_east = predictions[east_teams]\n",
    "\n",
    "# Print the accuracy metrics\n",
    "print('The MAE for East teams is {}'.format(\n",
    "    mae(true_east, preds_east)))"
   ]
  },
  {
   "cell_type": "markdown",
   "id": "bb86f2b1-53f7-44ed-988d-1ea0559822f3",
   "metadata": {},
   "source": [
    "### Instructions 4/4\n",
    "-    The variable west_error contains the MAE for the West teams. Use the print statement to print out the Western conference MAE."
   ]
  },
  {
   "cell_type": "code",
   "execution_count": 16,
   "id": "3079cbf2-c02a-4264-a88b-fb9a578a51fe",
   "metadata": {},
   "outputs": [],
   "source": [
    "west_error = 5.01"
   ]
  },
  {
   "cell_type": "code",
   "execution_count": 17,
   "id": "32331f59-4e24-4107-a855-fc71eeb720f1",
   "metadata": {},
   "outputs": [
    {
     "name": "stdout",
     "output_type": "stream",
     "text": [
      "The MAE for East teams is 6.733333333333333\n",
      "The MAE for West conference is 5.01\n"
     ]
    }
   ],
   "source": [
    "# Find the East conference teams\n",
    "east_teams = labels == \"E\"\n",
    "\n",
    "# Create arrays for the true and predicted values\n",
    "true_east = y_test[east_teams]\n",
    "preds_east = predictions[east_teams]\n",
    "\n",
    "# Print the accuracy metrics\n",
    "print('The MAE for East teams is {}'.format(\n",
    "    mae(true_east, preds_east)))\n",
    "\n",
    "# Print the West accuracy\n",
    "print('The MAE for West conference is {}'.format(west_error))"
   ]
  },
  {
   "cell_type": "markdown",
   "id": "f6172fd7-ae4d-4f12-ae81-4a740baaddd8",
   "metadata": {},
   "source": [
    "## Confusion matrices\n",
    "### Confusion matrices are a great way to start exploring your model's accuracy. They provide the values needed to calculate a wide range of metrics, including sensitivity, specificity, and the F1-score.\n",
    "\n",
    "### You have built a classification model to predict if a person has a broken arm based on an X-ray image. On the testing set, you have the following confusion matrix:\n",
    "\n",
    "<table>\n",
    "    <tr><th></th><th>Prediction: 0</th><th>Prediction: 1</th></tr>\n",
    "    <tr><td>Actual: 0</td><td>324 (TN)</td><td>15 (FP)</td></tr>\n",
    "    <tr><td>Actual: 1</td><td>123 (FN)</td><td>491 (TP)</td></tr>\n",
    "</table>\n",
    "\n",
    "### Instructions\n",
    "-    Use the confusion matrix to calculate overall accuracy.\n",
    "-    Use the confusion matrix to calculate precision and recall.\n",
    "-    Use the three print statements to print each accuracy value."
   ]
  },
  {
   "cell_type": "code",
   "execution_count": 18,
   "id": "3b1afb2e-a100-4f1d-9d55-22a3336e0f0b",
   "metadata": {},
   "outputs": [
    {
     "name": "stdout",
     "output_type": "stream",
     "text": [
      "The overall accuracy is  0.86\n",
      "The precision is  0.97\n",
      "The recall is  0.80\n"
     ]
    }
   ],
   "source": [
    "# Calculate and print the accuracy\n",
    "accuracy = (324 + 491) / (953)\n",
    "print(\"The overall accuracy is {0: 0.2f}\".format(accuracy))\n",
    "\n",
    "# Calculate and print the precision\n",
    "precision = (491) / (15 + 491)\n",
    "print(\"The precision is {0: 0.2f}\".format(precision))\n",
    "\n",
    "# Calculate and print the recall\n",
    "recall = (491) / (123 + 491)\n",
    "print(\"The recall is {0: 0.2f}\".format(recall))"
   ]
  },
  {
   "cell_type": "markdown",
   "id": "16aa54a7-2509-4b34-beb4-db2281b5c19a",
   "metadata": {},
   "source": [
    "## Confusion matrices, again\n",
    "### Creating a confusion matrix in Python is simple. The biggest challenge will be making sure you understand the orientation of the matrix. This exercise makes sure you understand the sklearn implementation of confusion matrices. Here, you have created a random forest model using the tic_tac_toe dataset rfc to predict outcomes of 0 (loss) or 1 (a win) for Player One.\n",
    "\n",
    "### Note: If you read about confusion matrices on another website or for another programming language, the values might be reversed.\n",
    "\n",
    "### Instructions\n",
    "-    Import sklearn's function for creating confusion matrices.\n",
    "-    Using the model rfc, create category predictions on the test set X_test.\n",
    "-    Create a confusion matrix using sklearn.\n",
    "-    Print the value from cm that represents the actual 1s that were predicted as 1s (true positives)."
   ]
  },
  {
   "cell_type": "code",
   "execution_count": 19,
   "id": "47cf4fa0-e766-487b-9ff9-fc03a1dfed55",
   "metadata": {},
   "outputs": [
    {
     "data": {
      "text/html": [
       "<style>#sk-container-id-1 {color: black;background-color: white;}#sk-container-id-1 pre{padding: 0;}#sk-container-id-1 div.sk-toggleable {background-color: white;}#sk-container-id-1 label.sk-toggleable__label {cursor: pointer;display: block;width: 100%;margin-bottom: 0;padding: 0.3em;box-sizing: border-box;text-align: center;}#sk-container-id-1 label.sk-toggleable__label-arrow:before {content: \"▸\";float: left;margin-right: 0.25em;color: #696969;}#sk-container-id-1 label.sk-toggleable__label-arrow:hover:before {color: black;}#sk-container-id-1 div.sk-estimator:hover label.sk-toggleable__label-arrow:before {color: black;}#sk-container-id-1 div.sk-toggleable__content {max-height: 0;max-width: 0;overflow: hidden;text-align: left;background-color: #f0f8ff;}#sk-container-id-1 div.sk-toggleable__content pre {margin: 0.2em;color: black;border-radius: 0.25em;background-color: #f0f8ff;}#sk-container-id-1 input.sk-toggleable__control:checked~div.sk-toggleable__content {max-height: 200px;max-width: 100%;overflow: auto;}#sk-container-id-1 input.sk-toggleable__control:checked~label.sk-toggleable__label-arrow:before {content: \"▾\";}#sk-container-id-1 div.sk-estimator input.sk-toggleable__control:checked~label.sk-toggleable__label {background-color: #d4ebff;}#sk-container-id-1 div.sk-label input.sk-toggleable__control:checked~label.sk-toggleable__label {background-color: #d4ebff;}#sk-container-id-1 input.sk-hidden--visually {border: 0;clip: rect(1px 1px 1px 1px);clip: rect(1px, 1px, 1px, 1px);height: 1px;margin: -1px;overflow: hidden;padding: 0;position: absolute;width: 1px;}#sk-container-id-1 div.sk-estimator {font-family: monospace;background-color: #f0f8ff;border: 1px dotted black;border-radius: 0.25em;box-sizing: border-box;margin-bottom: 0.5em;}#sk-container-id-1 div.sk-estimator:hover {background-color: #d4ebff;}#sk-container-id-1 div.sk-parallel-item::after {content: \"\";width: 100%;border-bottom: 1px solid gray;flex-grow: 1;}#sk-container-id-1 div.sk-label:hover label.sk-toggleable__label {background-color: #d4ebff;}#sk-container-id-1 div.sk-serial::before {content: \"\";position: absolute;border-left: 1px solid gray;box-sizing: border-box;top: 0;bottom: 0;left: 50%;z-index: 0;}#sk-container-id-1 div.sk-serial {display: flex;flex-direction: column;align-items: center;background-color: white;padding-right: 0.2em;padding-left: 0.2em;position: relative;}#sk-container-id-1 div.sk-item {position: relative;z-index: 1;}#sk-container-id-1 div.sk-parallel {display: flex;align-items: stretch;justify-content: center;background-color: white;position: relative;}#sk-container-id-1 div.sk-item::before, #sk-container-id-1 div.sk-parallel-item::before {content: \"\";position: absolute;border-left: 1px solid gray;box-sizing: border-box;top: 0;bottom: 0;left: 50%;z-index: -1;}#sk-container-id-1 div.sk-parallel-item {display: flex;flex-direction: column;z-index: 1;position: relative;background-color: white;}#sk-container-id-1 div.sk-parallel-item:first-child::after {align-self: flex-end;width: 50%;}#sk-container-id-1 div.sk-parallel-item:last-child::after {align-self: flex-start;width: 50%;}#sk-container-id-1 div.sk-parallel-item:only-child::after {width: 0;}#sk-container-id-1 div.sk-dashed-wrapped {border: 1px dashed gray;margin: 0 0.4em 0.5em 0.4em;box-sizing: border-box;padding-bottom: 0.4em;background-color: white;}#sk-container-id-1 div.sk-label label {font-family: monospace;font-weight: bold;display: inline-block;line-height: 1.2em;}#sk-container-id-1 div.sk-label-container {text-align: center;}#sk-container-id-1 div.sk-container {/* jupyter's `normalize.less` sets `[hidden] { display: none; }` but bootstrap.min.css set `[hidden] { display: none !important; }` so we also need the `!important` here to be able to override the default hidden behavior on the sphinx rendered scikit-learn.org. See: https://github.com/scikit-learn/scikit-learn/issues/21755 */display: inline-block !important;position: relative;}#sk-container-id-1 div.sk-text-repr-fallback {display: none;}</style><div id=\"sk-container-id-1\" class=\"sk-top-container\"><div class=\"sk-text-repr-fallback\"><pre>RandomForestClassifier(max_depth=2, random_state=0)</pre><b>In a Jupyter environment, please rerun this cell to show the HTML representation or trust the notebook. <br />On GitHub, the HTML representation is unable to render, please try loading this page with nbviewer.org.</b></div><div class=\"sk-container\" hidden><div class=\"sk-item\"><div class=\"sk-estimator sk-toggleable\"><input class=\"sk-toggleable__control sk-hidden--visually\" id=\"sk-estimator-id-1\" type=\"checkbox\" checked><label for=\"sk-estimator-id-1\" class=\"sk-toggleable__label sk-toggleable__label-arrow\">RandomForestClassifier</label><div class=\"sk-toggleable__content\"><pre>RandomForestClassifier(max_depth=2, random_state=0)</pre></div></div></div></div></div>"
      ],
      "text/plain": [
       "RandomForestClassifier(max_depth=2, random_state=0)"
      ]
     },
     "execution_count": 19,
     "metadata": {},
     "output_type": "execute_result"
    }
   ],
   "source": [
    "# Need to run \"$ pip install category_encoders\"\n",
    "from category_encoders.one_hot import OneHotEncoder\n",
    "\n",
    "tic_tac_toe = pd.read_csv('./data/tic-tac-toe.csv')\n",
    "\n",
    "encoder = OneHotEncoder(cols=[\"Top-Left\", \"Top-Middle\", \"Top-Right\", \"Middle-Left\", \"Middle-Middle\", \n",
    "                              \"Middle-Right\", \"Bottom-Left\", \"Bottom-Middle\", \"Bottom-Right\", \"Class\"])\n",
    "\n",
    "tic_tac_toe1 = encoder.fit_transform(tic_tac_toe)\n",
    "tic_tac_toe1.columns\n",
    "\n",
    "X = tic_tac_toe1[['Top-Left_1', 'Top-Left_2', 'Top-Left_3', 'Top-Middle_1', 'Top-Middle_2', 'Top-Middle_3', 'Top-Right_1', 'Top-Right_2',\n",
    "       'Top-Right_3', 'Middle-Left_1', 'Middle-Left_2', 'Middle-Left_3', 'Middle-Middle_1', 'Middle-Middle_2', 'Middle-Middle_3',\n",
    "       'Middle-Right_1', 'Middle-Right_2', 'Middle-Right_3', 'Bottom-Left_1', 'Bottom-Left_2', 'Bottom-Left_3', 'Bottom-Middle_1', 'Bottom-Middle_2',\n",
    "       'Bottom-Middle_3', 'Bottom-Right_1', 'Bottom-Right_2', 'Bottom-Right_3']]\n",
    "y = tic_tac_toe1[[\"Class_1\"]].values.ravel()\n",
    "\n",
    "X_train, X_test, y_train, y_test = train_test_split(X, y, test_size=0.33, random_state=42)\n",
    "\n",
    "rfc = RandomForestClassifier(max_depth=2, random_state=0)\n",
    "rfc.fit(X_train, y_train)"
   ]
  },
  {
   "cell_type": "code",
   "execution_count": 20,
   "id": "da22ca4d-e781-4eff-a3e1-2624bfdd705a",
   "metadata": {},
   "outputs": [
    {
     "name": "stdout",
     "output_type": "stream",
     "text": [
      "[[ 13  89]\n",
      " [  0 215]]\n",
      "The number of true positives is: 215\n"
     ]
    }
   ],
   "source": [
    "from sklearn.metrics import confusion_matrix\n",
    "\n",
    "# Create predictions\n",
    "test_predictions = rfc.predict(X_test)\n",
    "\n",
    "# Create and print the confusion matrix\n",
    "cm = confusion_matrix(y_test, test_predictions)\n",
    "print(cm)\n",
    "\n",
    "# Print the true positives (actual 1s that were predicted 1s)\n",
    "print(\"The number of true positives is: {}\".format(cm[1, 1]))"
   ]
  },
  {
   "cell_type": "markdown",
   "id": "9506dce5-f6a4-4e2d-a8f3-02b3156e1196",
   "metadata": {},
   "source": [
    "## Precision vs. recall\n",
    "### The accuracy metrics you use to evaluate your model should always be based on the specific application. For this example, let's assume you are a really sore loser when it comes to playing Tic-Tac-Toe, but only when you are certain that you are going to win.\n",
    "\n",
    "### Choose the most appropriate accuracy metric, either precision or recall, to complete this example. But remember, if you think you are going to win, you better win!\n",
    "\n",
    "### Use rfc, which is a random forest classification model built on the tic_tac_toe dataset.\n",
    "\n",
    "### Instructions\n",
    "-    Import the precision or the recall metric for sklearn. Only one method is correct for the given context.\n",
    "-    Calculate the precision or recall using y_test for the true values and test_predictions for the predictions.\n",
    "-    Print the final score based on your selected metric."
   ]
  },
  {
   "cell_type": "code",
   "execution_count": 21,
   "id": "ec2f046f-6d66-436b-ac86-544032d545dc",
   "metadata": {},
   "outputs": [
    {
     "name": "stdout",
     "output_type": "stream",
     "text": [
      "The precision value is 0.71\n"
     ]
    }
   ],
   "source": [
    "from sklearn.metrics import precision_score, recall_score\n",
    "\n",
    "test_predictions = rfc.predict(X_test)\n",
    "\n",
    "# Create precision or recall score based on the metric you imported\n",
    "score = precision_score(y_test, test_predictions)\n",
    "\n",
    "# Print the final result\n",
    "print(\"The precision value is {0:.2f}\".format(score))"
   ]
  },
  {
   "cell_type": "markdown",
   "id": "9a325460-5f5f-4783-9d76-045e3c7366ac",
   "metadata": {},
   "source": [
    "## Error due to under/over-fitting\n",
    "### The candy dataset is prime for overfitting. With only 85 observations, if you use 20% for the testing dataset, you are losing a lot of vital data that could be used for modeling. Imagine the scenario where most of the chocolate candies ended up in the training data and very few in the holdout sample. Our model might only see that chocolate is a vital factor, but fail to find that other attributes are also important. In this exercise, you'll explore how using too many features (columns) in a random forest model can lead to overfitting.\n",
    "\n",
    "### A feature represents which columns of the data are used in a decision tree. The parameter max_features limits the number of features available.\n",
    "\n",
    "### Instructions 1/3\n",
    "-    Create a random forest model with 25 trees, a random state of 1111, and max_features of 2. Read the print statements."
   ]
  },
  {
   "cell_type": "code",
   "execution_count": 22,
   "id": "06307cc5-34d9-45d9-97f8-041bf6219683",
   "metadata": {},
   "outputs": [],
   "source": [
    "X = candy[[\"chocolate\", \"fruity\", \"caramel\", \"peanutyalmondy\", \"nougat\", \"crispedricewafer\", \"hard\", \"bar\", \"pluribus\", \"sugarpercent\", \"pricepercent\"]]\n",
    "y = candy[[\"winpercent\"]].values.ravel()\n",
    "\n",
    "X_train, X_test, y_train, y_test = train_test_split(X, y, test_size=0.33, random_state=42)"
   ]
  },
  {
   "cell_type": "code",
   "execution_count": 23,
   "id": "ef3ae0d9-66ca-4409-8401-2a65c0904ec1",
   "metadata": {},
   "outputs": [
    {
     "name": "stdout",
     "output_type": "stream",
     "text": [
      "The training error is 3.32\n",
      "The testing error is 9.25\n"
     ]
    }
   ],
   "source": [
    "# Update the rfr model\n",
    "rfr = RandomForestRegressor(n_estimators=25,\n",
    "                            random_state=1111,\n",
    "                            max_features=2)\n",
    "rfr.fit(X_train, y_train)\n",
    "\n",
    "# Print the training and testing accuracies \n",
    "print('The training error is {0:.2f}'.format(\n",
    "  mae(y_train, rfr.predict(X_train))))\n",
    "print('The testing error is {0:.2f}'.format(\n",
    "  mae(y_test, rfr.predict(X_test))))"
   ]
  },
  {
   "cell_type": "markdown",
   "id": "a19fc325-8c2d-4232-adde-d0c91240bdd8",
   "metadata": {},
   "source": [
    "### Instructions 2/3\n",
    "-    Set max_features to 11 (the number of columns in the dataset). Read the print statements"
   ]
  },
  {
   "cell_type": "code",
   "execution_count": 24,
   "id": "e46486a3-e908-4f34-a0ac-02431fe8f2b4",
   "metadata": {},
   "outputs": [
    {
     "name": "stdout",
     "output_type": "stream",
     "text": [
      "The training error is 3.44\n",
      "The testing error is 9.47\n"
     ]
    }
   ],
   "source": [
    "# Update the rfr model\n",
    "rfr = RandomForestRegressor(n_estimators=25,\n",
    "                            random_state=1111,\n",
    "                            max_features=11)\n",
    "rfr.fit(X_train, y_train)\n",
    "\n",
    "# Print the training and testing accuracies \n",
    "print('The training error is {0:.2f}'.format(\n",
    "  mae(y_train, rfr.predict(X_train))))\n",
    "print('The testing error is {0:.2f}'.format(\n",
    "  mae(y_test, rfr.predict(X_test))))"
   ]
  },
  {
   "cell_type": "markdown",
   "id": "e64c178c-b7cb-4fdc-a685-77ed12b6ffb8",
   "metadata": {},
   "source": [
    "### Instructions 3/3\n",
    "-    Set max_features equal to 4. Read the print statements."
   ]
  },
  {
   "cell_type": "code",
   "execution_count": 25,
   "id": "f5521132-3c3d-446a-84ed-d4ba39df052a",
   "metadata": {},
   "outputs": [
    {
     "name": "stdout",
     "output_type": "stream",
     "text": [
      "The training error is 3.54\n",
      "The testing error is 9.11\n"
     ]
    }
   ],
   "source": [
    "# Update the rfr model\n",
    "rfr = RandomForestRegressor(n_estimators=25,\n",
    "                            random_state=1111,\n",
    "                            max_features=4)\n",
    "rfr.fit(X_train, y_train)\n",
    "\n",
    "# Print the training and testing accuracies \n",
    "print('The training error is {0:.2f}'.format(\n",
    "  mae(y_train, rfr.predict(X_train))))\n",
    "print('The testing error is {0:.2f}'.format(\n",
    "  mae(y_test, rfr.predict(X_test))))"
   ]
  },
  {
   "cell_type": "markdown",
   "id": "9cfbee4b-07f6-44af-aab2-4efeb23767d0",
   "metadata": {},
   "source": [
    "## Am I underfitting?\n",
    "### You are creating a random forest model to predict if you will win a future game of Tic-Tac-Toe. Using the tic_tac_toe dataset, you have created training and testing datasets, X_train, X_test, y_train, and y_test.\n",
    "\n",
    "### You have decided to create a bunch of random forest models with varying amounts of trees (1, 2, 3, 4, 5, 10, 20, and 50). The more trees you use, the longer your random forest model will take to run. However, if you don't use enough trees, you risk underfitting. You have created a for loop to test your model at the different number of trees.\n",
    "\n",
    "### Instructions\n",
    "-    For each loop, predict values for both the X_train and X_test datasets.\n",
    "-    For each loop, append the accuracy_score() of the y_train dataset and the corresponding predictions to train_scores.\n",
    "-    For each loop, append the accuracy_score() of the y_test dataset and the corresponding predictions to test_scores.\n",
    "-    Print the training and testing scores using the print statements."
   ]
  },
  {
   "cell_type": "code",
   "execution_count": 26,
   "id": "85d1bc3e-9886-43f1-bea9-1981058f3806",
   "metadata": {},
   "outputs": [],
   "source": [
    "tic_tac_toe = pd.read_csv('./../../data/tic-tac-toe.csv')\n",
    "\n",
    "encoder = OneHotEncoder(cols=[\"Top-Left\", \"Top-Middle\", \"Top-Right\", \"Middle-Left\", \"Middle-Middle\", \n",
    "                              \"Middle-Right\", \"Bottom-Left\", \"Bottom-Middle\", \"Bottom-Right\", \"Class\"])\n",
    "\n",
    "tic_tac_toe1 = encoder.fit_transform(tic_tac_toe)\n",
    "tic_tac_toe1.columns\n",
    "\n",
    "X = tic_tac_toe1[['Top-Left_1', 'Top-Left_2', 'Top-Left_3', 'Top-Middle_1', 'Top-Middle_2', 'Top-Middle_3', 'Top-Right_1', 'Top-Right_2',\n",
    "       'Top-Right_3', 'Middle-Left_1', 'Middle-Left_2', 'Middle-Left_3', 'Middle-Middle_1', 'Middle-Middle_2', 'Middle-Middle_3',\n",
    "       'Middle-Right_1', 'Middle-Right_2', 'Middle-Right_3', 'Bottom-Left_1', 'Bottom-Left_2', 'Bottom-Left_3', 'Bottom-Middle_1', 'Bottom-Middle_2',\n",
    "       'Bottom-Middle_3', 'Bottom-Right_1', 'Bottom-Right_2', 'Bottom-Right_3']]\n",
    "y = tic_tac_toe1[[\"Class_1\"]].values.ravel()\n",
    "\n",
    "X_train, X_test, y_train, y_test = train_test_split(X, y, test_size=0.33, random_state=42)"
   ]
  },
  {
   "cell_type": "code",
   "execution_count": 27,
   "id": "73e38047-bf3b-4842-98f2-2cc7019de979",
   "metadata": {},
   "outputs": [
    {
     "name": "stdout",
     "output_type": "stream",
     "text": [
      "The training scores were: [0.93, 0.94, 0.99, 0.99, 0.99, 1.0, 1.0, 1.0]\n",
      "The testing scores were: [0.79, 0.79, 0.88, 0.87, 0.91, 0.96, 0.96, 0.97]\n"
     ]
    }
   ],
   "source": [
    "from sklearn.metrics import accuracy_score\n",
    "\n",
    "test_scores, train_scores = [], []\n",
    "for i in [1, 2, 3, 4, 5, 10, 20, 50]:\n",
    "    rfc = RandomForestClassifier(n_estimators=i, random_state=1111)\n",
    "    rfc.fit(X_train, y_train)\n",
    "    # Create predictions for the X_train and X_test datasets.\n",
    "    train_predictions = rfc.predict(X_train)\n",
    "    test_predictions = rfc.predict(X_test)\n",
    "    # Append the accuracy score for the test and train predictions.\n",
    "    train_scores.append(round(accuracy_score(y_train, train_predictions), 2))\n",
    "    test_scores.append(round(accuracy_score(y_test, test_predictions), 2))\n",
    "# Print the train and test scores.\n",
    "print(\"The training scores were: {}\".format(train_scores))\n",
    "print(\"The testing scores were: {}\".format(test_scores))"
   ]
  },
  {
   "cell_type": "code",
   "execution_count": null,
   "id": "bc4f6648-9dab-46bf-96e5-720ffd084325",
   "metadata": {},
   "outputs": [],
   "source": []
  }
 ],
 "metadata": {
  "kernelspec": {
   "display_name": "Python 3 (ipykernel)",
   "language": "python",
   "name": "python3"
  },
  "language_info": {
   "codemirror_mode": {
    "name": "ipython",
    "version": 3
   },
   "file_extension": ".py",
   "mimetype": "text/x-python",
   "name": "python",
   "nbconvert_exporter": "python",
   "pygments_lexer": "ipython3",
   "version": "3.11.6"
  }
 },
 "nbformat": 4,
 "nbformat_minor": 5
}
