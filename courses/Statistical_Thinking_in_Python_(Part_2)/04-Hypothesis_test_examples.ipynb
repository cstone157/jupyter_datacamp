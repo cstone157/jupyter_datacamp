{
 "cells": [
  {
   "cell_type": "code",
   "execution_count": 1,
   "id": "dc5a2b65-be8c-484d-a98e-26ebc2e9ef1b",
   "metadata": {},
   "outputs": [],
   "source": [
    "import numpy as np\n",
    "import pandas as pd\n",
    "import matplotlib.pyplot as plt\n",
    "import seaborn as sns\n",
    "\n",
    "def ecdf(data):\n",
    "    return np.sort(data), np.arange(1, len(data)+1) / len(data)\n",
    "def permutation_sample(data1, data2):\n",
    "    \"\"\"Generate a permutation sample from two data sets.\"\"\"\n",
    "    # Concatenate the data sets: data\n",
    "    data = np.concatenate((data1, data2))\n",
    "    # Permute the concatenated array: permuted_data\n",
    "    permuted_data = np.random.permutation(data)\n",
    "    # Split the permuted array into two: perm_sample_1, perm_sample_2\n",
    "    perm_sample_1 = permuted_data[:len(data1)]\n",
    "    perm_sample_2 = permuted_data[len(data1):]\n",
    "    return perm_sample_1, perm_sample_2\n",
    "def draw_perm_reps(data_1, data_2, func, size=1):\n",
    "    \"\"\"Generate multiple permutation replicates.\"\"\"\n",
    "    # Initialize array of replicates: perm_replicates\n",
    "    perm_replicates = np.empty(size)\n",
    "    for i in range(size):\n",
    "        # Generate permutation sample\n",
    "        perm_sample_1, perm_sample_2 = permutation_sample(data_1, data_2)\n",
    "        # Compute the test statistic\n",
    "        perm_replicates[i] = func(perm_sample_1, perm_sample_2)\n",
    "    return perm_replicates\n",
    "def diff_of_means(data_1, data_2):\n",
    "    \"\"\"Difference in means of two arrays.\"\"\"\n",
    "    # The difference of means of data_1, data_2: diff\n",
    "    diff = np.mean(data_1) - np.mean(data_2)\n",
    "    return diff\n",
    "def bootstrap_replicate_1d(data, func):\n",
    "    return func(np.random.choice(data, size=len(data)))\n",
    "def draw_bs_reps(data, func, size=1):\n",
    "    return np.array([bootstrap_replicate_1d(data, func) for _ in range(size)])\n",
    "\n",
    "\n",
    "\n",
    "df = pd.read_csv('../../data/sheffield_weather_station.csv', \n",
    "                 skiprows=8, \n",
    "                 delimiter=' ', \n",
    "                 skipinitialspace=True)\n",
    "rainfall = df[\"rain\"].values\n",
    "\n",
    "\n",
    "df = pd.read_csv('../../data/female_literacy_fertility.csv')\n",
    "fertility = df[\"fertility\"].values\n",
    "illiteracy = (100 - df[\"female literacy\"].values)\n",
    "\n",
    "\n",
    "df = pd.read_csv('../../data/mlb_nohitters.csv')\n",
    "nohitter_times = df['game_number'].values\n",
    "\n",
    "\n",
    "df = pd.read_csv('../../data/sheffield_weather_station.csv', \n",
    "                 skiprows=8, \n",
    "                 delimiter=' ', \n",
    "                 skipinitialspace=True)\n",
    "rain_june = df[df['mm'] == 6][\"rain\"].values\n",
    "rain_november = df[df['mm'] == 11][\"rain\"].values\n",
    "\n",
    "\n",
    "df = pd.read_csv('../../data/frog_tongue.csv', \n",
    "                 skiprows=14, \n",
    "                 delimiter=',', \n",
    "                 skipinitialspace=True)\n",
    "df = df[['ID', 'impact force (mN)']]\n",
    "df['impact_force'] = df['impact force (mN)'] / 1000.0\n",
    "df = df.drop('impact force (mN)', axis=1)\n",
    "force_a = df[df[\"ID\"] == \"I\"][\"impact_force\"].values\n",
    "force_b = df[df[\"ID\"] == \"II\"][\"impact_force\"].values\n",
    "force_c = df[df[\"ID\"] == \"III\"][\"impact_force\"].values\n",
    "force_d = df[df[\"ID\"] == \"IV\"][\"impact_force\"].values"
   ]
  },
  {
   "cell_type": "markdown",
   "id": "3fcfe943-1fd8-40b5-94ce-5f77030e85e7",
   "metadata": {},
   "source": [
    "### The vote for the Civil Rights Act in 1964\n",
    "\n",
    "The Civil Rights Act of 1964 was one of the most important pieces of legislation ever passed in the USA. Excluding \"present\" and \"abstain\" votes, 153 House Democrats and 136 Republicans voted yea. However, 91 Democrats and 35 Republicans voted nay. Did party affiliation make a difference in the vote?\n",
    "\n",
    "To answer this question, you will evaluate the hypothesis that the party of a House member has no bearing on his or her vote. You will use the fraction of Democrats voting in favor as your test statistic and evaluate the probability of observing a fraction of Democrats voting in favor at least as small as the observed fraction of 153/244. (That's right, at least as small as. In 1964, it was the Democrats who were less progressive on civil rights issues.) To do this, permute the party labels of the House voters and then arbitrarily divide them into \"Democrats\" and \"Republicans\" and compute the fraction of Democrats voting yea.\n",
    "\n",
    "### Instructions\n",
    "    - Construct Boolean arrays, dems and reps that contain the votes of the respective parties; e.g., dems has 153 True entries and 91 False entries.\n",
    "    - Write a function, frac_yea_dems(dems, reps) that returns the fraction of Democrats that voted yea. The first input is an array of Booleans, Two inputs are required to use your draw_perm_reps() function, but the second is not used.\n",
    "    - Use your draw_perm_reps() function to draw 10,000 permutation replicates of the fraction of Democrat yea votes.\n",
    "    - Compute and print the p-value."
   ]
  },
  {
   "cell_type": "code",
   "execution_count": 2,
   "id": "b638d184-ce8c-4945-9b25-237aa763e594",
   "metadata": {},
   "outputs": [
    {
     "name": "stdout",
     "output_type": "stream",
     "text": [
      "p-value = 0.0\n"
     ]
    }
   ],
   "source": [
    "# Construct arrays of data: dems, reps\n",
    "dems = np.array([True] * 153 + [False] * 91)\n",
    "reps = np.array([True] * 136 + [False] * 35)\n",
    "\n",
    "def frac_yea_dems(dems, reps):\n",
    "    \"\"\"Compute fraction of Democrat yea votes.\"\"\"\n",
    "    frac = np.sum(dems) / len(dems)\n",
    "    return frac\n",
    "\n",
    "# Acquire permutation samples: perm_replicates\n",
    "perm_replicates = draw_perm_reps(dems, reps, frac_yea_dems, 10000)\n",
    "\n",
    "# Compute and print p-value: p\n",
    "p = np.sum(perm_replicates <= 153/244) / len(perm_replicates)\n",
    "print('p-value =', p)"
   ]
  },
  {
   "cell_type": "markdown",
   "id": "5b080d12-6172-463e-9501-05bcdd32e2f5",
   "metadata": {},
   "source": [
    "### A time-on-website analog\n",
    "\n",
    "It turns out that you already did a hypothesis test analogous to an A/B test where you are interested in how much time is spent on the website before and after an ad campaign. The frog tongue force (a continuous quantity like time on the website) is an analog. \"Before\" = Frog A and \"after\" = Frog B. Let's practice this again with something that actually is a before/after scenario.\n",
    "\n",
    "We return to the no-hitter data set. In 1920, Major League Baseball implemented important rule changes that ended the so-called dead ball era. Importantly, the pitcher was no longer allowed to spit on or scuff the ball, an activity that greatly favors pitchers. In this problem you will perform an A/B test to determine if these rule changes resulted in a slower rate of no-hitters (i.e., longer average time between no-hitters) using the difference in mean inter-no-hitter time as your test statistic. The inter-no-hitter times for the respective eras are stored in the arrays nht_dead and nht_live, where \"nht\" is meant to stand for \"no-hitter time.\"\n",
    "\n",
    "Since you will be using your draw_perm_reps() function in this exercise, it may be useful to remind yourself of its call signature: draw_perm_reps(d1, d2, func, size=1) or even referring back to the chapter 3 exercise in which you defined it.\n",
    "\n",
    "### Instructions\n",
    "    - Compute the observed difference in mean inter-nohitter time using diff_of_means().\n",
    "    - Generate 10,000 permutation replicates of the difference of means using draw_perm_reps().\n",
    "    - Compute and print the p-value."
   ]
  },
  {
   "cell_type": "code",
   "execution_count": 4,
   "id": "848c2a3d-4400-4297-a475-e55c04cd07d3",
   "metadata": {},
   "outputs": [],
   "source": [
    "nht_dead = [  -1,  894,   10,  130,    1,  934,   29,    6,  485,  254,  372,\n",
    "         81,  191,  355,  180,  286,   47,  269,  361,  173,  246,  492,\n",
    "        462, 1319,   58,  297,   31, 2970,  640,  237,  434,  570,   77,\n",
    "        271,  563, 3365,   89,    0,  379,  221,  479,  367,  628,  843,\n",
    "       1613, 1101,  215,  684,  814,  278,  324,  161,  219,  545,  715,\n",
    "        966,  624,   29,  450,  107,   20,   91, 1325,  124, 1468,  104,\n",
    "       1309,  429,   62, 1878, 1104,  123,  251,   93,  188,  983,  166,\n",
    "         96,  702,   23,  524,   26,  299,   59,   39,   12,    2,  308,\n",
    "       1114,  813,  887]\n",
    "\n",
    "nht_live = [ 645, 2088,   42, 2090,   11,  886, 1665, 1084, 2900, 2432,  750,\n",
    "       4021, 1070, 1765, 1322,   26,  548, 1525,   77, 2181, 2752,  127,\n",
    "       2147,  211,   41, 1575,  151,  479,  697,  557, 2267,  542,  392,\n",
    "         73,  603,  233,  255,  528,  397, 1529, 1023, 1194,  462,  583,\n",
    "         37,  943,  996,  480, 1497,  717,  224,  219, 1531,  498,   44,\n",
    "        288,  267,  600,   52,  269, 1086,  386,  176, 2199,  216,   54,\n",
    "        675, 1243,  463,  650,  171,  327,  110,  774,  509,    8,  197,\n",
    "        136,   12, 1124,   64,  380,  811,  232,  192,  731,  715,  226,\n",
    "        605,  539, 1491,  323,  240,  179,  702,  156,   82, 1397,  354,\n",
    "        778,  603, 1001,  385,  986,  203,  149,  576,  445,  180, 1403,\n",
    "        252,  675, 1351, 2983, 1568,   45,  899, 3260, 1025,   31,  100,\n",
    "       2055, 4043,   79,  238, 3931, 2351,  595,  110,  215,    0,  563,\n",
    "        206,  660,  242,  577,  179,  157,  192,  192, 1848,  792, 1693,\n",
    "         55,  388,  225, 1134, 1172, 1555,   31, 1582, 1044,  378, 1687,\n",
    "       2915,  280,  765, 2819,  511, 1521,  745, 2491,  580, 2072, 6450,\n",
    "        578,  745, 1075, 1103, 1549, 1520,  138, 1202,  296,  277,  351,\n",
    "        391,  950,  459,   62, 1056, 1128,  139,  420,   87,   71,  814,\n",
    "        603, 1349,  162, 1027,  783,  326,  101,  876,  381,  905,  156,\n",
    "        419,  239,  119,  129,  467]"
   ]
  },
  {
   "cell_type": "code",
   "execution_count": 5,
   "id": "e87035a8-9796-42fd-9123-e2d0892cd1c2",
   "metadata": {},
   "outputs": [
    {
     "name": "stdout",
     "output_type": "stream",
     "text": [
      "p-val = 0.0002\n"
     ]
    }
   ],
   "source": [
    "# Compute the observed difference in mean inter-no-hitter times: nht_diff_obs\n",
    "nht_diff_obs = diff_of_means(nht_dead, nht_live)\n",
    "\n",
    "# Acquire 10,000 permutation replicates of difference in mean no-hitter time: perm_replicates\n",
    "perm_replicates = draw_perm_reps(nht_dead, nht_live, diff_of_means, 10000)\n",
    "\n",
    "\n",
    "# Compute and print the p-value: p\n",
    "p = np.sum(perm_replicates <= nht_diff_obs) / len(perm_replicates)\n",
    "print('p-val =', p)"
   ]
  },
  {
   "cell_type": "markdown",
   "id": "4bd88cce-ea8f-46ee-a440-b700ec320242",
   "metadata": {},
   "source": [
    "### Hypothesis test on Pearson correlation\n",
    "\n",
    "The observed correlation between female illiteracy and fertility may just be by chance; the fertility of a given country may actually be totally independent of its illiteracy. You will test this hypothesis. To do so, permute the illiteracy values but leave the fertility values fixed. This simulates the hypothesis that they are totally independent of each other. For each permutation, compute the Pearson correlation coefficient and assess how many of your permutation replicates have a Pearson correlation coefficient greater than the observed one.\n",
    "\n",
    "The function pearson_r() that you wrote in the prequel to this course for computing the Pearson correlation coefficient is already available for you.\n",
    "\n",
    "### Instructions\n",
    "    - Compute the observed Pearson correlation between illiteracy and fertility.\n",
    "    - Initialize an array to store your permutation replicates.\n",
    "    - Write a for loop to draw 10,000 replicates:\n",
    "        = Permute the illiteracy measurements using np.random.permutation().\n",
    "        = Compute the Pearson correlation between the permuted illiteracy array, illiteracy_permuted, and fertility.\n",
    "    - Compute and print the p-value from the replicates."
   ]
  },
  {
   "cell_type": "code",
   "execution_count": 6,
   "id": "a8826378-13c1-4676-a632-9395e630676b",
   "metadata": {},
   "outputs": [],
   "source": [
    "def pearson_r(data_1, data_2):\n",
    "    return np.corrcoef(data_1, data_2)[0,1]"
   ]
  },
  {
   "cell_type": "code",
   "execution_count": 7,
   "id": "5c750a03-766a-48ba-9ddf-e156f5a30a67",
   "metadata": {},
   "outputs": [
    {
     "name": "stdout",
     "output_type": "stream",
     "text": [
      "p-val = 0.0\n"
     ]
    }
   ],
   "source": [
    "# Compute observed correlation: r_obs\n",
    "r_obs = pearson_r(illiteracy, fertility)\n",
    "\n",
    "# Initialize permutation replicates: perm_replicates\n",
    "perm_replicates = np.empty(10000)\n",
    "\n",
    "# Draw replicates\n",
    "for i in range(10000):\n",
    "    # Permute illiteracy measurments: illiteracy_permuted\n",
    "    illiteracy_permuted = np.random.permutation(illiteracy)\n",
    "\n",
    "    # Compute Pearson correlation\n",
    "    perm_replicates[i] = pearson_r(illiteracy_permuted, fertility)\n",
    "\n",
    "# Compute p-value: p\n",
    "p = np.sum(perm_replicates >= r_obs) / len(perm_replicates)\n",
    "print('p-val =', p)"
   ]
  },
  {
   "cell_type": "markdown",
   "id": "d1bcb72a-e87e-4650-bf0d-6976653e0ff8",
   "metadata": {},
   "source": [
    "### Do neonicotinoid insecticides have unintended consequences?\n",
    "\n",
    "As a final exercise in hypothesis testing before we put everything together in our case study in the next chapter, you will investigate the effects of neonicotinoid insecticides on bee reproduction. These insecticides are very widely used in the United States to combat aphids and other pests that damage plants.\n",
    "\n",
    "In a recent study, Straub, et al. (Proc. Roy. Soc. B, 2016) investigated the effects of neonicotinoids on the sperm of pollinating bees. In this and the next exercise, you will study how the pesticide treatment affected the count of live sperm per half milliliter of semen.\n",
    "\n",
    "First, we will do EDA, as usual. Plot ECDFs of the alive sperm count for untreated bees (stored in the NumPy array control) and bees treated with pesticide (stored in the NumPy array treated).\n",
    "\n",
    "### Instructions\n",
    "    - Use your ecdf() function to generate x,y values from the control and treated arrays for plotting the ECDFs.\n",
    "    - Plot the ECDFs on the same plot.\n",
    "    - The margins have been set for you, along with the legend and axis labels. Hit submit to see the result!"
   ]
  },
  {
   "cell_type": "code",
   "execution_count": 11,
   "id": "e1e35945-33f6-4000-917f-0367508e5cdb",
   "metadata": {},
   "outputs": [],
   "source": [
    "control = [ 4.159234,  4.408002,  0.172812,  3.498278,  3.104912,  5.164174,   6.615262,  4.633066,  0.170408,  2.65    ,  0.0875  ,  1.997148,\n",
    "            6.92668 ,  4.574932,  3.896466,  5.209814,  3.70625 ,  0.      ,   4.62545 ,  3.01444 ,  0.732652,  0.4     ,  6.518382,  5.225   ,\n",
    "            6.218742,  6.840358,  1.211308,  0.368252,  3.59937 ,  4.212158,   6.052364,  2.115532,  6.60413 ,  5.26074 ,  6.05695 ,  6.481172,\n",
    "            3.171522,  3.057228,  0.218808,  5.215112,  4.465168,  2.28909 ,   3.732572,  2.17087 ,  1.834326,  6.074862,  5.841978,  8.524892,\n",
    "            4.698492,  2.965624,  2.324206,  3.409412,  4.830726,  0.1     ,   0.      ,  4.101432,  3.478162,  1.009688,  4.999296,  4.32196 ,\n",
    "            0.299592,  3.606032,  7.54026 ,  4.284024,  0.057494,  6.036668,   2.924084,  4.150144,  1.256926,  4.666502,  4.806594,  2.52478 ,\n",
    "            2.027654,  2.52283 ,  4.735598,  2.033236,  0.      ,  6.177294,   2.601834,  3.544408,  3.6045  ,  5.520346,  4.80698 ,  3.002478,\n",
    "            3.559816,  7.075844, 10.      ,  0.139772,  6.17171 ,  3.201232,   8.459546,  0.17857 ,  7.088276,  5.496662,  5.415086,  1.932282,\n",
    "            3.02838 ,  7.47996 ,  1.86259 ,  7.838498,  2.242718,  3.292958,   6.363644,  4.386898,  8.47533 ,  4.156304,  1.463956,  4.533628,\n",
    "            5.573922,  1.29454 ,  7.547504,  3.92466 ,  5.820258,  4.118522,   4.125   ,  2.286698,  0.591882,  1.273124,  0.      ,  0.      ,\n",
    "            0.      , 12.22502 ,  7.601604,  5.56798 ,  1.679914,  8.77096 ,   5.823942,  0.258374,  0.      ,  5.899236,  5.486354,  2.053148,\n",
    "            3.25541 ,  2.72564 ,  3.364066,  2.43427 ,  5.282548,  3.963666,   0.24851 ,  0.347916,  4.046862,  5.461436,  4.066104,  0.      ,\n",
    "            0.065   ]\n",
    "treated = [1.342686, 1.058476, 3.793784, 0.40428 , 4.528388, 2.142966,  3.937742, 0.1375  , 6.919164, 0.      , 3.597812, 5.196538,\n",
    "           2.78955 , 2.3229  , 1.090636, 5.323916, 1.021618, 0.931836,  2.78    , 0.412202, 1.180934, 2.8674  , 0.      , 0.064354,\n",
    "           3.008348, 0.876634, 0.      , 4.971712, 7.280658, 4.79732 ,  2.084956, 3.251514, 1.9405  , 1.566192, 0.58894 , 5.219658,\n",
    "           0.977976, 3.124584, 1.297564, 1.433328, 4.24337 , 0.880964,  2.376566, 3.763658, 1.918426, 3.74    , 3.841726, 4.69964 ,\n",
    "           4.386876, 0.      , 1.127432, 1.845452, 0.690314, 4.185602,  2.284732, 7.237594, 2.185148, 2.799124, 3.43218 , 0.63354 ,\n",
    "           1.142496, 0.586   , 2.372858, 1.80032 , 3.329306, 4.028804,  3.474156, 7.508752, 2.032824, 1.336556, 1.906496, 1.396046,\n",
    "           2.488104, 4.759114, 1.07853 , 3.19927 , 3.814252, 4.275962,  2.817056, 0.552198, 3.27194 , 5.11525 , 2.064628, 0.      ,\n",
    "           3.34101 , 6.177322, 0.      , 3.66415 , 2.352582, 1.531696]"
   ]
  },
  {
   "cell_type": "code",
   "execution_count": 12,
   "id": "9b9ec643-1a24-4110-be85-828fce17f3bf",
   "metadata": {},
   "outputs": [
    {
     "data": {
      "image/png": "[encoded data removed]",
      "text/plain": [
       "<Figure size 640x480 with 1 Axes>"
      ]
     },
     "metadata": {},
     "output_type": "display_data"
    }
   ],
   "source": [
    "# Compute x,y values for ECDFs\n",
    "x_control, y_control = ecdf(control)\n",
    "x_treated, y_treated = ecdf(treated)\n",
    "\n",
    "# Plot the ECDFs\n",
    "plt.plot(x_control, y_control, marker='.', linestyle='none')\n",
    "plt.plot(x_treated, y_treated, marker='.', linestyle='none')\n",
    "\n",
    "# Set the margins\n",
    "plt.margins(0.02)\n",
    "\n",
    "# Add a legend\n",
    "plt.legend(('control', 'treated'), loc='lower right')\n",
    "\n",
    "# Label axes and show plot\n",
    "plt.xlabel('millions of alive sperm per mL')\n",
    "plt.ylabel('ECDF')\n",
    "plt.show()"
   ]
  },
  {
   "cell_type": "markdown",
   "id": "491fb9cc-d283-485e-b7ca-688cfd8e26a2",
   "metadata": {},
   "source": [
    "### Bootstrap hypothesis test on bee sperm counts\n",
    "\n",
    "Now, you will test the following hypothesis: On average, male bees treated with neonicotinoid insecticide have the same number of active sperm per milliliter of semen than do untreated male bees. You will use the difference of means as your test statistic.\n",
    "\n",
    "For your reference, the call signature for the draw_bs_reps() function you wrote in chapter 2 is draw_bs_reps(data, func, size=1).\n",
    "\n",
    "### Instructions\n",
    "    - Compute the mean alive sperm count of control minus that of treated.\n",
    "    - Compute the mean of all alive sperm counts. To do this, first concatenate control and treated and take the mean of the concatenated array.\n",
    "    - Generate shifted data sets for both control and treated such that the shifted data sets have the same mean. This has already been done for you.\n",
    "    - Generate 10,000 bootstrap replicates of the mean each for the two shifted arrays. Use your draw_bs_reps() function.\n",
    "    - Compute the bootstrap replicates of the difference of means.\n",
    "    - The code to compute and print the p-value has been written for you. Hit submit to see the result!"
   ]
  },
  {
   "cell_type": "code",
   "execution_count": 13,
   "id": "53f46bd0-8542-44ea-b2f4-beb481a3c2ef",
   "metadata": {},
   "outputs": [],
   "source": [
    "def draw_bs_reps(data, func, size=1):\n",
    "    return np.array([bootstrap_replicate_1d(data, func) for _ in range(size)])"
   ]
  },
  {
   "cell_type": "code",
   "execution_count": 14,
   "id": "b705c44f-71f4-494e-92a1-acd5c7ed36e8",
   "metadata": {},
   "outputs": [
    {
     "name": "stdout",
     "output_type": "stream",
     "text": [
      "p-value = 0.0001\n"
     ]
    }
   ],
   "source": [
    "# Compute the difference in mean sperm count: diff_means\n",
    "diff_means = np.mean(control) - np.mean(treated)\n",
    "\n",
    "# Compute mean of pooled data: mean_count\n",
    "mean_count = np.mean(np.concatenate((control, treated)))\n",
    "\n",
    "# Generate shifted data sets\n",
    "control_shifted = control - np.mean(control) + mean_count\n",
    "treated_shifted = treated - np.mean(treated) + mean_count\n",
    "\n",
    "# Generate bootstrap replicates\n",
    "bs_reps_control = draw_bs_reps(control_shifted,\n",
    "                       np.mean, size=10000)\n",
    "bs_reps_treated = draw_bs_reps(treated_shifted,\n",
    "                       np.mean, size=10000)\n",
    "\n",
    "# Get replicates of difference of means: bs_replicates\n",
    "bs_replicates = bs_reps_control - bs_reps_treated\n",
    "\n",
    "# Compute and print p-value: p\n",
    "p = np.sum(bs_replicates >= np.mean(control) - np.mean(treated)) \\\n",
    "            / len(bs_replicates)\n",
    "print('p-value =', p)"
   ]
  },
  {
   "cell_type": "code",
   "execution_count": null,
   "id": "afdb2b1e-e948-4e09-b343-f67319ba6400",
   "metadata": {},
   "outputs": [],
   "source": []
  }
 ],
 "metadata": {
  "kernelspec": {
   "display_name": "Python 3 (ipykernel)",
   "language": "python",
   "name": "python3"
  },
  "language_info": {
   "codemirror_mode": {
    "name": "ipython",
    "version": 3
   },
   "file_extension": ".py",
   "mimetype": "text/x-python",
   "name": "python",
   "nbconvert_exporter": "python",
   "pygments_lexer": "ipython3",
   "version": "3.11.6"
  }
 },
 "nbformat": 4,
 "nbformat_minor": 5
}
