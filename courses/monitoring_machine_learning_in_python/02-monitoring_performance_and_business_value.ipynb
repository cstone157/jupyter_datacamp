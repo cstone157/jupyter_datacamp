{
 "cells": [
  {
   "cell_type": "markdown",
   "id": "a92c04cc-fad7-4214-9521-77a9aa198538",
   "metadata": {},
   "source": [
    "## Comparing estimated and realized performance\n",
    "\n",
    "Now that you have seen how performance calculation works, your task is to calculate the realized performance for our tip prediction model for the NYC green taxi dataset.\n",
    "\n",
    "The reference and analysis set is already loaded and saved in the reference and analysis variables.\n",
    "\n",
    "In addition, results from the DLE algorithm for tip prediction are stored in the estimated_results variable.\n",
    "\n",
    "### Instructions\n",
    "    - Specify problem type as regression in calculator initialization.\n",
    "    - Fit the calculator with reference data and calculate performance for the analysis set.\n",
    "    - Show comparison plot between realized_results and estimated_results using compare() method."
   ]
  },
  {
   "cell_type": "code",
   "execution_count": null,
   "id": "bfde964b-79d9-40e0-80f9-c595b526e565",
   "metadata": {},
   "outputs": [],
   "source": [
    "# Intialize the calculator\n",
    "calculator = nannyml.PerformanceCalculator(\n",
    "    y_true='tip_amount',\n",
    "    y_pred='y_pred',\n",
    "    chunk_period='d',\n",
    "  \tmetrics=['mae'],\n",
    "    timestamp_column_name='lpep_pickup_datetime',\n",
    "    problem_type='regression')\n",
    "\n",
    "# Fit the calculator\n",
    "calculator.fit(reference)\n",
    "realized_results = calculator.calculate(analysis)\n",
    "\n",
    "# Show comparison plot for realized and estimated performance\n",
    "realized_results.compare(estimated_results).plot().show()"
   ]
  },
  {
   "cell_type": "markdown",
   "id": "cae6fe38-a633-44b3-92e6-cb4dc822eaff",
   "metadata": {},
   "source": [
    "## Different chunking methods\n",
    "\n",
    "A chunk represents a single data point in the monitoring results. Recall that there are three methods for chunking your data: based on time, size, or the number of chunks.\n",
    "\n",
    "In this exercise, you will chunk and visualize the results of the CBPE algorithm for the US Census dataset using size-based and number-based chunking methods.\n",
    "\n",
    "The nannyml library is already imported.\n",
    "\n",
    "### Instructions 1/2\n",
    "    - Load reference, analysis, and analysis labels using load_us_census_ma_employment_data() method and set chunk size to 5000."
   ]
  },
  {
   "cell_type": "code",
   "execution_count": null,
   "id": "c457a182-e813-40e5-a6ca-1d1e2ef53a7c",
   "metadata": {},
   "outputs": [],
   "source": [
    "reference, analysis, analysis_gt = nannyml.load_us_census_ma_employment_data()\n",
    "\n",
    "# Initialize the CBPE algorithm\n",
    "cbpe = nannyml.CBPE(\n",
    "    y_pred_proba='predicted_probability',\n",
    "    y_pred='prediction',\n",
    "    y_true='employed',\n",
    "    metrics = ['roc_auc', 'accuracy'],\n",
    "    problem_type = 'classification_binary',\n",
    "    chunk_size = 5000,\n",
    ")\n",
    "\n",
    "cbpe = cbpe.fit(reference)\n",
    "estimated_results = cbpe.estimate(analysis)\n",
    "estimated_results.plot().show()"
   ]
  },
  {
   "cell_type": "markdown",
   "id": "424a5982-8d62-4bd6-a043-2ba6057d10c9",
   "metadata": {},
   "source": [
    "### Instructions 2/2\n",
    "    - Add f1 metric to the monitored metrics and set chunk number to 8."
   ]
  },
  {
   "cell_type": "code",
   "execution_count": null,
   "id": "26c97669-2242-4a28-b0c1-a214024fd501",
   "metadata": {},
   "outputs": [],
   "source": [
    "reference, analysis, analysis_gt = nannyml.load_us_census_ma_employment_data()\n",
    "\n",
    "# Initialize the CBPE algorithm\n",
    "cbpe = nannyml.CBPE(\n",
    "    y_pred_proba='predicted_probability',\n",
    "    y_pred='prediction',\n",
    "    y_true='employed',\n",
    "    metrics = ['roc_auc', 'accuracy', 'f1'],\n",
    "    problem_type = 'classification_binary',\n",
    "\tchunk_number = 8,\n",
    ")\n",
    "\n",
    "cbpe = cbpe.fit(reference)\n",
    "estimated_results = cbpe.estimate(analysis)\n",
    "estimated_results.plot().show()"
   ]
  },
  {
   "cell_type": "markdown",
   "id": "dc35ad73-5a22-46ad-a111-579e9a124302",
   "metadata": {},
   "source": [
    "## Modifying the thresholds\n",
    "\n",
    "In the video, you observed how NannyML calculates threshold values and learned how to customize them to suit your solution.\n",
    "\n",
    "In this exercise, your task is to define two custom standard deviation and custom thresholds and then apply them to the results obtained from the CBPE algorithm for the US Census dataset.\n",
    "\n",
    "The reference and analysis sets have been pre-loaded as reference and analysis, along with the nannyml library.\n",
    "\n",
    "### Instructions\n",
    "    - Import ConstantThreshold, and StandardDeviationThreshold from nannyml.thresholds.\n",
    "    - Initialize the standard deviation method and set std_lower_multiplier and std_upper_multiplier parameters to 2.\n",
    "    - Initialize the constant threshold method and set the lower parameter to 0.9 and upper to 0.98.\n",
    "    - Pass the constant threshold method for the f1 metric and the standard deviation method for accuracy to the CBPE algorithm."
   ]
  },
  {
   "cell_type": "code",
   "execution_count": null,
   "id": "0e2328c5-917e-4991-9ea9-dbb96d9770ad",
   "metadata": {},
   "outputs": [],
   "source": [
    "# Import custom thresholds\n",
    "from nannyml.thresholds import ConstantThreshold, StandardDeviationThreshold\n",
    "\n",
    "# Initialize custom thresholds\n",
    "stdt = StandardDeviationThreshold(std_lower_multiplier=2, std_upper_multiplier=2)\n",
    "ct = ConstantThreshold(lower=0.9, upper=0.98)\n",
    "\n",
    "# Initialize the CBPE algorithm\n",
    "estimator = nannyml.CBPE(\n",
    "    problem_type='classification_binary',\n",
    "    y_pred_proba='predicted_probability',\n",
    "    y_pred='prediction',\n",
    "    y_true='employed',\n",
    "    metrics=['roc_auc', 'accuracy', 'f1'],\n",
    "    thresholds={'f1': ct, 'accuracy': stdt})"
   ]
  },
  {
   "cell_type": "markdown",
   "id": "bef043fc-189e-4540-a133-c3f07f215440",
   "metadata": {},
   "source": [
    "## Interacting with results\n",
    "\n",
    "In this exercise, you will filter, plot, and convert to the DataFrame the CBPE results obtained for the US Consensus dataset from the previous example. The display method here is used to show the plots and DataFrames that are called in the middle of the code.\n",
    "\n",
    "The results from the CBPE estimator are preloaded in the estimated_results variable.\n",
    "\n",
    "### Instructions\n",
    "    - Interact with the estimated results based on the comments above each code snippet."
   ]
  },
  {
   "cell_type": "code",
   "execution_count": null,
   "id": "8f88bba9-a2ed-49db-bae5-7e6787d27493",
   "metadata": {},
   "outputs": [],
   "source": [
    "# Filter estimated results for the roc_auc metric and convert them to a dataframe\n",
    "display(estimated_results.filter(metrics=['roc_auc']).to_df())\n",
    "\n",
    "# Filter estimated results for the reference period and convert them to a dataframe\n",
    "display(estimated_results.filter(period='reference').to_df())\n",
    "\n",
    "# Filter the estimated results for the accuracy metric\n",
    "display(estimated_results.filter(metrics=['accuracy']).plot().show())\n",
    "\n",
    "# Filter the estimated results for the analysis period, as well as for accuracy and roc_auc metrics\n",
    "display(estimated_results.filter(period='analysis', metrics=['accuracy', 'roc_auc']).plot().show())"
   ]
  },
  {
   "cell_type": "markdown",
   "id": "8ba8b08f-7f2d-4eeb-9b9c-6eb40bd23cc9",
   "metadata": {},
   "source": [
    "## Business calculation for hotel booking dataset\n",
    "\n",
    "Previously, you were introduced to the challenge of predicting booking cancellations. Here, you will work with the actual Hotel Booking dataset, where a model predicts booking cancellations based on the customer's country of origin, time between booking and arrival, required parking spaces, and the chosen hotel.\n",
    "\n",
    "The reference and analysis sets have already been loaded for you. Here are the first two rows:\n",
    "\n",
    "<table>\n",
    "    <tr><th></th><th>country</th><th>lead_time</th><th>parking_spaces</th><th>hotel</th><th>y_pred</th><th>y_pred_proba</th><th>is_canceled</th><th>timestamp</th></tr>\n",
    "    <tr><td>0</td><td>FRA</td><td>120</td><td>0</td><td>City Hotel</td><td>0</td><td>0.239983</td><td>0</td><td>2016-05-01</td></tr>\n",
    "    <tr><td>1</td><td>ITA</td><td>120</td><td>1</td><td>City Hotel</td><td>0</td><td>0.003965</td><td>0</td><td>2016-05-01</td></tr>\n",
    "</table>\n",
    "\n",
    "Your task is to check the model's monetary value and ROC AUC performance.\n",
    "\n",
    "### Instructions\n",
    "    - Initialize a custom threshold with 0 as the lower value and 150,000 as the upper value.\n",
    "    - Specify the business value and roc_auc metric for monitoring.\n",
    "    - Set TN to 0, FP to -100, FN to -200, and TP to 1500 in business_value_matrix.\n",
    "    - Assign custom threshold to the business value metric."
   ]
  },
  {
   "cell_type": "code",
   "execution_count": null,
   "id": "1e82d14c-efb0-4930-ad86-0ef6aacb97b1",
   "metadata": {},
   "outputs": [],
   "source": [
    "# Custom business value thresholds\n",
    "ct = ConstantThreshold(lower=0, upper=150000)\n",
    "# Intialize the performance calculator\n",
    "calc = PerformanceCalculator(problem_type='classification_binary',\n",
    "\t\t\ty_pred_proba='y_pred_proba',\n",
    "  \t\t\ttimestamp_column_name=\"timestamp\", \t\t\n",
    "  \t\t\ty_pred='y_pred',\n",
    "  \t\t\ty_true='is_canceled',\n",
    "            chunk_period='m',\n",
    "  \t\t\tmetrics=['business_value', 'roc_auc'],\n",
    "\t\t\t# [value_of_TN, value_of_FP], [value_of_FN, value_of_TP]]\n",
    "  \t\t\tbusiness_value_matrix = [[0, -100],[-200, 1500]],\n",
    "  \t\t\tthresholds={'business_value': ct})\n",
    "calc = calc.fit(reference)\n",
    "calc_res = calc.calculate(analysis)\n",
    "calc_res.filter(period='analysis').plot().show()"
   ]
  }
 ],
 "metadata": {
  "kernelspec": {
   "display_name": "Python 3 (ipykernel)",
   "language": "python",
   "name": "python3"
  },
  "language_info": {
   "codemirror_mode": {
    "name": "ipython",
    "version": 3
   },
   "file_extension": ".py",
   "mimetype": "text/x-python",
   "name": "python",
   "nbconvert_exporter": "python",
   "pygments_lexer": "ipython3",
   "version": "3.11.6"
  }
 },
 "nbformat": 4,
 "nbformat_minor": 5
}
