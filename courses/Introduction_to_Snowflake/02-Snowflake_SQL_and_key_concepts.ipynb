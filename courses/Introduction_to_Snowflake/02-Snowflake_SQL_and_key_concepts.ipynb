{
 "cells": [
  {
   "cell_type": "markdown",
   "id": "bddd4396-24ee-4633-b935-6470b8a94902",
   "metadata": {},
   "source": [
    "### Loading data\n",
    "\n",
    "You learned about how Snowflake loads data from a file in a staging area into a table. You are now working to load a file from your local staging area to a table.\n",
    "\n",
    "Can you recall which of the following command will load data from your staging area my_local_stage to table pizza_type."
   ]
  },
  {
   "cell_type": "code",
   "execution_count": null,
   "id": "6b95d324-ebd9-469e-a7ae-1972823d6cb1",
   "metadata": {},
   "outputs": [],
   "source": [
    "COPY INTO pizza_type FROM @my_local_stage"
   ]
  },
  {
   "cell_type": "markdown",
   "id": "0dc873ee-a41b-4d9f-900b-215dadce6abd",
   "metadata": {},
   "source": [
    "### Datatype conversion\n",
    "\n",
    "When working with databases, there are times when we need to change the data type of a column to better suit our operations or analyses.\n",
    "\n",
    "As a consulting data engineer for CityRide, you have been given access to a dataset from their partner, Uber.\n",
    "\n",
    "The datasets captures ride details and include fields such as driver_id, pickup_point, status, and request_timestamp.\n",
    "\n",
    "These fields might not be in the desired data types, and it's your task to rectify this and apply necessary data type conversions to ensure data consistency and facilitate smoother analysis.\n",
    "\n",
    "### Instructions 1/3\n",
    "    - Select and convert the request_id column from uber_request_data table to VARCHAR using the CAST method aliasing it to request_id_string."
   ]
  },
  {
   "cell_type": "code",
   "execution_count": null,
   "id": "9ca353b9-58c9-4270-b116-173bcf73310e",
   "metadata": {},
   "outputs": [],
   "source": [
    "-- Convert request_id to VARCHAR aliasing to request_id_string\n",
    "\n",
    "SELECT cast(request_id AS VARCHAR) AS request_id_string\n",
    "FROM uber_request_data"
   ]
  },
  {
   "cell_type": "markdown",
   "id": "3b9d78fc-5170-4c36-9160-1b83abc8fdb3",
   "metadata": {},
   "source": [
    "### Instructions 2/3\n",
    "    - Convert request_timestamp to DATE using the TO_DATE function aliasing it as request_date."
   ]
  },
  {
   "cell_type": "code",
   "execution_count": null,
   "id": "79a3e3d0-96e7-4eff-b890-305d1f5afb33",
   "metadata": {},
   "outputs": [],
   "source": [
    "-- Convert request_id to VARCHAR using CAST method and alias to request_id_string\n",
    "\n",
    "SELECT CAST(request_id AS VARCHAR) AS request_id_string, \n",
    "-- Convert request_timestamp to DATE using TO_DATE and alias as request_date\n",
    "\t   TO_DATE(request_timestamp) as request_date\n",
    "FROM uber_request_data\n"
   ]
  },
  {
   "cell_type": "markdown",
   "id": "d5ac291c-d821-4997-986d-8bcbe327f6b6",
   "metadata": {},
   "source": [
    "### Instructions 3/3\n",
    "    - Convert the drop_timestamp column to TIME using the :: operator, and alias it to drop_time.\n",
    "    - Filter the records where request_date is greater than '2016-06-01' and drop_time is less than '6 AM'."
   ]
  },
  {
   "cell_type": "code",
   "execution_count": null,
   "id": "b28c7af1-d113-4442-9cc5-8e4f81bddf49",
   "metadata": {},
   "outputs": [],
   "source": [
    "-- Convert request_id to VARCHAR using CAST method and alias to request_id_string\n",
    "SELECT CAST(request_id AS VARCHAR) AS request_id_string, \n",
    "-- Convert request_timestamp to DATE using TO_DATE and alias as request_date\n",
    "\t   TO_DATE(request_timestamp) AS request_date,\n",
    "-- Convert drop_timestamp column to TIME using :: operator and alias to drop_time\n",
    "       drop_timestamp::TIME as drop_time\n",
    "FROM uber_request_data\n",
    "-- Filter the records where request_date is greater than '2016-06-01' and drop_time is less than 6 AM.\n",
    "WHERE request_date::date > '2016-06-01' and drop_time::time < '06:00'"
   ]
  },
  {
   "cell_type": "markdown",
   "id": "58fe288e-25a6-4a38-94a7-e6ba84ea9605",
   "metadata": {},
   "source": [
    "### String functions\n",
    "\n",
    "Having recently mastered string functions such as UPPER, LOWER, and CONCAT, you're ready to put them into practice.\n",
    "\n",
    "As a freelance data engineer, CityRide, a leading urban mobility platform, has approached you with their raw Uber ride data. Your task is to make this data consistent using the string functions you've learned.\n",
    "\n",
    "### Instructions 1/3\n",
    "        - Standardize the status entries in the uber_request_data table. Convert all entries in the status column to lowercase."
   ]
  },
  {
   "cell_type": "code",
   "execution_count": null,
   "id": "ec9d3a33-c5d3-4462-b12e-85e307c60d93",
   "metadata": {},
   "outputs": [],
   "source": [
    "-- Convert status to lowercase\n",
    "\n",
    "SELECT lower(status) FROM uber_request_data"
   ]
  },
  {
   "cell_type": "markdown",
   "id": "412703fa-cf59-4bc1-a08a-623c6ccce655",
   "metadata": {},
   "source": [
    "### Instructions 2/3\n",
    "        - Convert all entries in the pickup_point column to uppercase."
   ]
  },
  {
   "cell_type": "code",
   "execution_count": null,
   "id": "43f74314-2f1c-4abb-aad4-bb74e4ad0d62",
   "metadata": {},
   "outputs": [],
   "source": [
    "-- Convert pickup_point to uppercase\n",
    "\n",
    "SELECT upper(pickup_point) FROM uber_request_data"
   ]
  },
  {
   "cell_type": "markdown",
   "id": "e721559e-f24e-4d5e-a654-5308bd582cd9",
   "metadata": {},
   "source": [
    "### Instructions 3/3\n",
    "        - Complete the CONCAT function to combine the pickup_point and status with the given comments."
   ]
  },
  {
   "cell_type": "code",
   "execution_count": null,
   "id": "dbeada49-78ef-4dea-9021-75babf5833e7",
   "metadata": {},
   "outputs": [],
   "source": [
    "-- Complete the CONCAT function for columns pickup_point and status\n",
    "\n",
    "SELECT CONCAT('Trip from ', pickup_point, ' was completed with status: ', status) AS trip_comment\n",
    "FROM uber_request_data"
   ]
  },
  {
   "cell_type": "markdown",
   "id": "cfc45b1b-abe6-4deb-8b02-39783d6167be",
   "metadata": {},
   "source": [
    "### Functions & Grouping\n",
    "\n",
    "As a freelancer at Pissa, you're examining pizza order details. As the team dives deeper into the sales data, there's a need to focus on orders with larger quantities to ensure efficient service and delivery.\n",
    "\n",
    "Using your knowledge of aggregate functions, sorting, and grouping, complete the query to analyze and prioritize these bulk orders.\n",
    "\n",
    "### Instructions\n",
    "    - Retrieve the order_id and pizza_id for orders where the total quantity of pizzas exceeds 3 using HAVING clause.\n",
    "    - Group the orders using GROUP BY ALL\n",
    "    - Arrange your results by order_id and then by total_quantity in a descending sequence."
   ]
  },
  {
   "cell_type": "code",
   "execution_count": null,
   "id": "b68901da-4bce-458c-a931-572244346f94",
   "metadata": {},
   "outputs": [],
   "source": [
    "-- Retrieve order_id, pizza_id and sum of quantity\n",
    "SELECT order_id, pizza_id, sum(quantity) AS total_quantity\n",
    "FROM order_details\n",
    "-- GROUP the orders using group by all having total_quantity greater than 3\n",
    "group by order_id, pizza_id\n",
    "having sum(quantity) > 3\n",
    "-- ORDER BY order id and total quantity in descending order\n",
    "order by order_id, sum(quantity) desc"
   ]
  },
  {
   "cell_type": "markdown",
   "id": "06f65e72-ec4c-4829-978e-49be8af91873",
   "metadata": {},
   "source": [
    "### DATE & TIME\n",
    "\n",
    "As a freelance data engineer assisting CityRide, you are now focusing on timestamp-related columns in their raw Uber ride data.\n",
    "\n",
    "Use your knowledge of date and time functions to accomplish the tasks.\n",
    "\n",
    "### Instructions 1/3\n",
    "    - Select the current date and current time using a valid date and time functions."
   ]
  },
  {
   "cell_type": "code",
   "execution_count": null,
   "id": "4bfd606f-3805-4627-9b8f-4af7b1e0211b",
   "metadata": {},
   "outputs": [],
   "source": [
    "-- Select the current date, current time\n",
    "select current_date(), current_time()"
   ]
  },
  {
   "cell_type": "markdown",
   "id": "8487cdcc-c417-43b0-9996-e42854dba421",
   "metadata": {},
   "source": [
    "### Instructions 2/3\n",
    "    - Complete the concatenation for the CURRENT_DATE and CURRENT_TIME, converting the result to TIMESTAMP."
   ]
  },
  {
   "cell_type": "code",
   "execution_count": null,
   "id": "62a22705-75ed-417a-bd4f-66a64996d0bc",
   "metadata": {},
   "outputs": [],
   "source": [
    "-- Select the current date, current time\n",
    "-- Concatenate and convert it to TIMESTAMP\n",
    "SELECT CONCAT(CURRENT_DATE, ' ', CURRENT_TIME)::TIMESTAMP"
   ]
  },
  {
   "cell_type": "markdown",
   "id": "9ebe7785-34d2-4e9f-b2d8-a51881459fe6",
   "metadata": {},
   "source": [
    "### Instructions 3/3\n",
    "    - Extract month from the concatenated timestamp and alias as concat_month\n",
    "    - Filter records from uber_request_data where request_timestamp's month is greater or equal than concat_month."
   ]
  },
  {
   "cell_type": "code",
   "execution_count": null,
   "id": "d02ac313-66ac-462a-afec-00c69a7f13b4",
   "metadata": {},
   "outputs": [],
   "source": [
    "-- Select the current date, current time\n",
    "-- Concatenate and convert it to TIMESTAMP\n",
    "SELECT *,\n",
    "-- Extract month and alias to concat_month\n",
    "\tEXTRACT(MONTH FROM CONCAT(CURRENT_DATE, ' ', CURRENT_TIME)::TIMESTAMP) AS concat_month\n",
    "-- Use table uber_request_data where request_timestamp's month is greater than concat_month\n",
    "FROM uber_request_data\n",
    "WHERE EXTRACT(month FROM request_timestamp) >= EXTRACT(MONTH FROM CONCAT(CURRENT_DATE, ' ', CURRENT_TIME)::TIMESTAMP)"
   ]
  },
  {
   "cell_type": "code",
   "execution_count": null,
   "id": "c7f96e3f-9dc7-4d6f-b538-411ff6d1b184",
   "metadata": {},
   "outputs": [],
   "source": []
  }
 ],
 "metadata": {
  "kernelspec": {
   "display_name": "Python 3 (ipykernel)",
   "language": "python",
   "name": "python3"
  },
  "language_info": {
   "codemirror_mode": {
    "name": "ipython",
    "version": 3
   },
   "file_extension": ".py",
   "mimetype": "text/x-python",
   "name": "python",
   "nbconvert_exporter": "python",
   "pygments_lexer": "ipython3",
   "version": "3.11.6"
  }
 },
 "nbformat": 4,
 "nbformat_minor": 5
}
