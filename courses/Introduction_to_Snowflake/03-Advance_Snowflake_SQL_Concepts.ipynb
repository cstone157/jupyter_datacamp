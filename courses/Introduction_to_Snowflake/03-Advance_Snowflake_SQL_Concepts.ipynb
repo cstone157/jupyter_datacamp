{
 "cells": [
  {
   "cell_type": "markdown",
   "id": "43abdf02-40b1-4e1d-8dea-f1ed04c4be20",
   "metadata": {},
   "source": [
    "### NATURAL JOIN\n",
    "\n",
    "Pissa, the ever-expanding pizza delivery enterprise, has a new challenge for you. They're interested in discovering which type of pizza generates the most revenue.\n",
    "\n",
    "Identify the top-selling pizza category using your knowledge on NATURAL JOIN.\n",
    "\n",
    "Here is the pizza schema for your reference:\n",
    "\n",
    "Schema Diagram [skipped]\n",
    "\n",
    "### Instructions\n",
    "    - Calculate total_revenue based on SUM of price * quantity; taking price from p (pizzas) and quantity from od (order_details) table.\n",
    "    - NATURAL JOIN the pizzas and pizza_type tables.\n",
    "    - GROUP the records by category from pt (pizza_type) table.\n",
    "    - ORDER the details by total_revenue in descending order and LIMIT to 1 to fetch only the top revenue pizza."
   ]
  },
  {
   "cell_type": "code",
   "execution_count": null,
   "id": "9ad4057a-a7a8-488a-b686-aad5f1c9e3c0",
   "metadata": {},
   "outputs": [],
   "source": [
    "SELECT \n",
    "    pt.category,\n",
    "\t-- Calculate total_revenue \n",
    "    sum(p.price*od.quantity) as total_revenue\n",
    "FROM order_details AS od\n",
    "-- NATURAL JOIN all tables\n",
    "NATURAL JOIN pizzas AS p \n",
    "NATURAL JOIN pizza_type AS pt\n",
    "-- GROUP the records by category from pizza_type table\n",
    "GROUP BY pt.category\n",
    "-- ORDER by total_revenue and limit the records\n",
    "ORDER BY total_revenue desc\n",
    "LIMIT 1"
   ]
  },
  {
   "cell_type": "markdown",
   "id": "ee15b2dc-0d2e-49e1-979d-3c1b0062b56a",
   "metadata": {},
   "source": [
    "### The world of JOINS\n",
    "\n",
    "As a consulting data engineer, Pissa now wants your advanced Snowflake SQL skills to get some insights in their sales and revenue.\n",
    "\n",
    "Apply your knowledge on Joins to get the desired result.\n",
    "\n",
    "### Instructions 1/3\n",
    "    - Ensure that all orders from the orders table are included in the result, regardless of whether they have corresponding entries in the order_details table."
   ]
  },
  {
   "cell_type": "code",
   "execution_count": null,
   "id": "a91b2a8e-a1f7-4ea1-b437-c3ac7b98eed8",
   "metadata": {},
   "outputs": [],
   "source": [
    "SELECT COUNT(o.order_id) AS total_orders\n",
    "FROM orders AS o\n",
    "-- Use appropriate JOIN\n",
    "LEFT JOIN order_details AS od\n",
    "ON o.order_id = od.order_id"
   ]
  },
  {
   "cell_type": "markdown",
   "id": "5a96ff28-7373-4855-9b26-8932a60acdab",
   "metadata": {},
   "source": [
    "### Instructions 2/3\n",
    "    - Calculate the total revenue using price column from pizzas table and quantity column of order_details table respectively.\n",
    "    - Use appropriate JOIN to include all records from the pizzas table."
   ]
  },
  {
   "cell_type": "code",
   "execution_count": null,
   "id": "5817da62-3447-45d6-b43c-f9f5ed95b1e5",
   "metadata": {},
   "outputs": [],
   "source": [
    "SELECT COUNT(o.order_id) AS total_orders,\n",
    "        AVG(p.price) AS average_price,\n",
    "        -- Calculate total revenue\n",
    "        SUM(p.price * od.quantity) AS total_revenue\t\n",
    "FROM orders AS o\n",
    "-- Use appropriate JOIN\n",
    "LEFT JOIN order_details AS od\n",
    "ON o.order_id = od.order_id\n",
    "-- Use appropriate JOIN with pizzas table\n",
    "RIGHT JOIN pizzas AS p\n",
    "ON od.pizza_id = p.pizza_id\n"
   ]
  },
  {
   "cell_type": "markdown",
   "id": "18ffeef5-ebb7-4624-b6c7-418ed61b1073",
   "metadata": {},
   "source": [
    "### Instructions 3/3\n",
    "    - Select pizza name from pizza_type by performing a NATURAL JOIN with the pizza_type table."
   ]
  },
  {
   "cell_type": "code",
   "execution_count": null,
   "id": "594d4336-14b1-459a-bdcc-204ce38a0ec2",
   "metadata": {},
   "outputs": [],
   "source": [
    "SELECT COUNT(o.order_id) AS total_orders,\n",
    "        AVG(p.price) AS average_price,\n",
    "        -- Calculate total revenue\n",
    "        SUM(p.price * od.quantity) AS total_revenue,\n",
    "        -- Get the name from pizza_type table\n",
    "\t\tpt.name AS pizza_name\n",
    "FROM orders AS o\n",
    "-- Use appropriate JOIN\n",
    "LEFT JOIN order_details AS od\n",
    "ON o.order_id = od.order_id\n",
    "-- Use appropriate JOIN with pizzas table\n",
    "RIGHT JOIN pizzas p\n",
    "ON od.pizza_id = p.pizza_id\n",
    "-- NATURAL JOIN pizza_type table\n",
    "NATURAL JOIN pizza_type pt\n",
    "GROUP BY pt.name, pt.category\n",
    "ORDER BY total_revenue desc, total_orders desc"
   ]
  },
  {
   "cell_type": "markdown",
   "id": "428fa2f5-0f7c-4151-b168-3953e2e6c104",
   "metadata": {},
   "source": [
    "### LATERAL JOIN\n",
    "\n",
    "Pissa, the expanding pizza delivery enterprise, is now taking your expertise on identifying some trends.\n",
    "\n",
    "They want to find out which dates feature maximum sales for each type of pizza. This information will enable them to pinpoint trends and optimize future promotions.\n",
    "\n",
    "### Instructions\n",
    "    - Complete the query to find the max_quantity from the LATERAL query.\n",
    "    - Join the appropriate tables.\n",
    "    - Use LATERAL join to calculate max_quantity and complete the subquery to find max of quantity.\n",
    "    - Filter the subquery on pizza_type_id referencing outer pizza_type table."
   ]
  },
  {
   "cell_type": "code",
   "execution_count": null,
   "id": "dd1bdbdf-f4ed-471c-8467-93170f13ff07",
   "metadata": {},
   "outputs": [],
   "source": [
    "SELECT pt.name, \n",
    "\t   pt.category, \n",
    "       o.order_date,\n",
    "       -- Get max quantity from lateral query\n",
    "       x.max_quantity\n",
    "FROM pizzas AS pz\n",
    "JOIN pizza_type AS pt ON pz.pizza_type_id = pt.pizza_type_id\n",
    "JOIN order_details AS od ON pz.pizza_id = od.pizza_id\n",
    "-- Join with orders table\n",
    "JOIN orders AS o ON od.order_id = o.order_id,    \n",
    "LATERAL (\n",
    "    -- Select max of order_details quantity\n",
    "    SELECT MAX(od2.quantity) AS max_quantity\n",
    "    FROM order_details AS od2\n",
    "    -- Join with pizzas table\n",
    "    JOIN pizzas AS pz2 \n",
    "        ON od2.pizza_id = pz2.pizza_id\n",
    "    -- Filtering condition for the subquery\n",
    "    WHERE pz2.pizza_type_id = pz.pizza_type_id\n",
    ") AS x\n",
    "WHERE od.quantity = x.max_quantity\n",
    "GROUP BY pt.name, pt.category, o.order_date, x.max_quantity\n",
    "ORDER BY pt.name;"
   ]
  },
  {
   "cell_type": "markdown",
   "id": "b8bc8b07-f0c7-4daf-9022-29be9700bae7",
   "metadata": {},
   "source": [
    "### Subqueries\n",
    "\n",
    "Pissa, the expanding pizza delivery enterprise, is now taking your expertise on identifying some trends.\n",
    "\n",
    "They want to streamline its pizza offerings by identifying underperforming pizza types. Your task is to find the pizza types that are ordered less frequently than the average for all types.\n",
    "\n",
    "### Instructions\n",
    "    - Complete the JOIN clauses to join the pizzas, and order_details tables appropriately.\n",
    "    - Use the GROUP BY clause to group the results by name and category from the pizza_type table.\n",
    "    - Fill in the subquery to find the AVG of total_quantity.\n",
    "    - Order the results by total_quantity in ascending order."
   ]
  },
  {
   "cell_type": "code",
   "execution_count": null,
   "id": "ae810724-82ca-4b9a-86e6-a2536ec6a741",
   "metadata": {},
   "outputs": [],
   "source": [
    "SELECT \n",
    "    pt.name, \n",
    "    pt.category, \n",
    "    SUM(od.quantity) AS total_quantity\n",
    "FROM pizza_type AS pt\n",
    "-- Join pizzas and order_details table\n",
    "join pizzas AS pz\n",
    "    ON pt.pizza_type_id = pz.pizza_type_id\n",
    "join order_details AS od\n",
    "    ON pz.pizza_id = od.pizza_id\n",
    "-- Group by name and category\n",
    "group by pt.name, pt.category\n",
    "HAVING SUM(od.quantity) < (\n",
    "    -- Calculate AVG of total_quantity \n",
    "    SELECT avg(total_quantity)\n",
    "    FROM (\n",
    "        SELECT SUM(od2.quantity) AS total_quantity\n",
    "        FROM pizzas AS pz2\n",
    "        JOIN order_details AS od2\n",
    "            ON pz2.pizza_id = od2.pizza_id\n",
    "        GROUP BY pz2.pizza_type_id\n",
    "    ) AS sub\n",
    ")\n",
    "-- Order  by total_quantity in ascending order\n",
    "order by total_quantity"
   ]
  },
  {
   "cell_type": "markdown",
   "id": "3971a512-4398-4283-acea-fc82954e76e2",
   "metadata": {},
   "source": [
    "### CTEs\n",
    "\n",
    "Pissa, the company you're consulting for, is planning a promotional campaign and needs your expertise.\n",
    "\n",
    "The campaign aims to spotlight their most popular pizza based on total orders.\n",
    "\n",
    "Additionally, they're thinking about introducing a value meal featuring their least expensive pizza.\n",
    "\n",
    "Your task as a consulting data engineer is to identify both these pizzas.\n",
    "\n",
    "### Instructions\n",
    "    - Create a CTE named most_ordered and limit the results to one.\n",
    "    - Create another CTE, called cheapest_pizza and filter for the cheapest pizza using a subquery to find the minimum price.\n",
    "    - Complete the query to select pizza_id and total_qty aliased as metric from most_ordered CTE.\n",
    "    - Include pizza_id and price aliased as metric from cheapest_pizza CTE. Note, maintain order of the columns."
   ]
  },
  {
   "cell_type": "code",
   "execution_count": null,
   "id": "676156fa-0563-4b30-9665-37f5a1237d46",
   "metadata": {},
   "outputs": [],
   "source": [
    "-- Create a CTE named most_ordered and limit the results \n",
    "with most_ordered as (\n",
    "    SELECT pizza_id, SUM(quantity) AS total_qty \n",
    "    FROM order_details GROUP BY pizza_id ORDER BY total_qty DESC\n",
    "    limit 1\n",
    ")\n",
    "-- Create CTE cheapest_pizza where price is equals to min price from pizzas table\n",
    ", cheapest_pizza as (\n",
    "    SELECT pizza_id, price\n",
    "    FROM pizzas \n",
    "    WHERE price = (SELECT min(price) FROM pizzas)\n",
    "    LIMIT 1\n",
    ")\n",
    "-- Select pizza_id and total_qty aliased as metric from first cte most_ordered\n",
    "SELECT pizza_id, 'Most Ordered' AS Description, total_qty as metric\n",
    "FROM most_ordered\n",
    "UNION ALL\n",
    "-- Select pizza_id and price aliased as metric from second cte cheapest_pizza\n",
    "SELECT pizza_id, 'Cheapest' AS Description, price as metric\n",
    "FROM cheapest_pizza"
   ]
  },
  {
   "cell_type": "markdown",
   "id": "7b0f511f-d12a-4cbb-9045-3b585248ba2a",
   "metadata": {},
   "source": [
    "### Early filtering\n",
    "\n",
    "Pissa has now asked for your expertise to optimize the performance of their database queries. They suspect that their existing query is not efficient enough and take too long to run.\n",
    "\n",
    "The goal is to retrieve the orders made after November 01, 2015, and only the pizzas in the 'Veggie' category.\n",
    "\n",
    "Complete the given SQL query by implementing early filtering techniques.\n",
    "\n",
    "### Instructions\n",
    "    - Use the filtered_orders CTE to select order_id and order_date from orders table, filtering to only include orders made after November 1, 2015.\n",
    "    - Use the filtered_pizza_type CTE to select the name and pizza_type_id from the pizza_type table, filtering to only include pizzas in the 'Veggie' category.\n",
    "    - Retrieve the records from the filtered_orders CTE.\n",
    "    - Join the filtered_pizza_type CTE based on the pizza_type_id column using ON clause."
   ]
  },
  {
   "cell_type": "code",
   "execution_count": null,
   "id": "075815e9-2a78-46f8-8cbe-0335c5ec8ce1",
   "metadata": {},
   "outputs": [],
   "source": [
    "WITH filtered_orders AS (\n",
    "  -- Select order_id, order_date and filter records where order_date is greater than November 1, 2015.\n",
    "  SELECT order_id, order_date \n",
    "  FROM orders \n",
    "  WHERE order_date > '2015-11-01'\n",
    ")\n",
    "\n",
    ", filtered_pizza_type AS (\n",
    "  -- Select name, pizza_type_id and filter the pizzas which has Veggie category\n",
    "  SELECT name, pizza_type_id \n",
    "  FROM pizza_type \n",
    "  WHERE category = 'Veggie'\n",
    ")\n",
    "\n",
    "SELECT o.order_id, o.order_date, pt.name, od.quantity\n",
    "-- Get the details from filtered_orders CTE\n",
    "FROM filtered_orders AS o\n",
    "JOIN order_details AS od ON o.order_id = od.order_id\n",
    "JOIN pizzas AS p ON od.pizza_id = p.pizza_id\n",
    "-- JOIN CTE filtered_pizza_type on common column\n",
    "JOIN filtered_pizza_type as pt ON pt.pizza_type_id = p.pizza_type_id"
   ]
  },
  {
   "cell_type": "markdown",
   "id": "35d456c1-35d7-4707-884c-1c0af87657f5",
   "metadata": {},
   "source": [
    "### Querying JSON data\n",
    "\n",
    "Yelpto, a leading platform for discovering local businesses, seeks your expertise as a consulting data engineer.\n",
    "\n",
    "They aim to explore the restaurant industry, focusing on Italian cuisine that's wheelchair accessible and open on weekends.\n",
    "\n",
    "You'll work with the yelp_business_data table, particularly the name, categories, attributes, and hours columns.\n",
    "\n",
    "Here is the schema of the yelp_business_data table:\n",
    "\n",
    "<code>\n",
    "CREATE TABLE yelp_business_data (\n",
    "  business_id VARCHAR(50),\n",
    "  name VARCHAR(100),\n",
    "  ...\n",
    "  attributes VARIANT,\n",
    "  categories VARCHAR(200),\n",
    "  hours VARIANT\n",
    ")\n",
    "</code>\n",
    "\n",
    "Note, both attributes and hours are VARIANT types.\n",
    "\n",
    "### Instructions 1/2\n",
    "    - Extract the WheelchairAccessible field from the attributes column and cast it to STRING using :: notation.\n",
    "    - Extract Saturday, Sunday from hours column and cast it to STRING using :: notation."
   ]
  },
  {
   "cell_type": "code",
   "execution_count": null,
   "id": "058eed03-68ba-406e-b85b-35525f597a1f",
   "metadata": {},
   "outputs": [],
   "source": [
    "SELECT\n",
    "  name,\n",
    "  categories,\n",
    "  -- Select WheelchairAccessible from attributes converting it to STRING\n",
    "  attributes:WheelchairAccessible::string AS wheelchair_accessible,\n",
    "  -- Select Saturday, Sunday from hours converting it to STRING\n",
    "  (hours:Saturday::string IS NOT NULL OR hours:Sunday::string IS NOT NULL) AS open_on_weekend\n",
    "FROM\n",
    "  yelp_business_data"
   ]
  },
  {
   "cell_type": "markdown",
   "id": "c53167c5-7770-429c-9b20-0aa552d2bcb2",
   "metadata": {},
   "source": [
    "### Instructions 2/2\n",
    "    - Filter the query results where wheelchair_accessible is 'True' and open_on_weekend is 'true'.\n",
    "    - Filter the query for categories that have 'Italian' in them."
   ]
  },
  {
   "cell_type": "code",
   "execution_count": null,
   "id": "09bbc679-8de2-4751-a851-12a43d354034",
   "metadata": {},
   "outputs": [],
   "source": [
    "SELECT\n",
    "  name,\n",
    "  categories,\n",
    "  -- Select WheelchairAccessible from attributes converting it to STRING\n",
    "  attributes:WheelchairAccessible::STRING AS wheelchair_accessible,\n",
    "  -- Select Saturday, Sunday from hours converting it to STRING\n",
    "  (hours:Saturday::STRING IS NOT NULL OR hours:Sunday::STRING IS NOT NULL) AS open_on_weekend\n",
    "FROM\n",
    "  yelp_business_data\n",
    "WHERE\n",
    "\t-- Filter where wheelchair_accessible is 'True' and open_on_weekend is 'true'\n",
    "\twheelchair_accessible = 'True' and open_on_weekend = 'true'\n",
    "    -- Filter further where categories is having Italian in it\n",
    "    and categories like '%Italian%'\n",
    "\n",
    "    "
   ]
  },
  {
   "cell_type": "markdown",
   "id": "ad851245-3c30-4232-87ce-116a54e99a24",
   "metadata": {},
   "source": [
    "### JSONified\n",
    "\n",
    "As you continue working as a consulting data engineer for Yelpto, they are looking for more insights from you.\n",
    "\n",
    "This time, they want to find out which restaurants allow dogs and are touristy.\n",
    "\n",
    "The catch? Some of the attributes are deeply nested within a JSON string.\n",
    "\n",
    "Leverage your acquired skills to help them get those insights in the upcoming steps.\n",
    "\n",
    "### Instructions 1/2\n",
    "    - Create a CTE named dogs_allowed.\n",
    "    - Filter businesses where the DogsAllowed attribute in the attributes column, when cast to STRING, is True."
   ]
  },
  {
   "cell_type": "code",
   "execution_count": null,
   "id": "8411b782-1f5f-4212-823d-911ce1d9f8ab",
   "metadata": {},
   "outputs": [],
   "source": [
    "-- Create CTE dogs_allowed.\n",
    "WITH dogs_allowed AS (\n",
    "  SELECT * \n",
    "  FROM yelp_business_data\n",
    "  WHERE attributes:DogsAllowed::STRING  NOT ILIKE '%None%'\n",
    "  -- Filter data where DogsAllowed is True.\n",
    "  AND attributes:DogsAllowed::STRING = 'True' \n",
    ")\n",
    "\n",
    "SELECT\n",
    "\tbusiness_id, name\n",
    "FROM dogs_allowed"
   ]
  },
  {
   "cell_type": "markdown",
   "id": "5b327f77-b70d-4f67-8c09-6691ddef4895",
   "metadata": {},
   "source": [
    "### Instructions 2/2\n",
    "    - From second CTE tourist_places, convert the Ambience attribute in the attributes columns into valid JSON using PARSE_JSON.\n",
    "    - From the valid parsed JSON, fetch the touristy attribute and check if it is true when cast to BOOLEAN."
   ]
  },
  {
   "cell_type": "code",
   "execution_count": null,
   "id": "d6afd5d8-b418-48cb-a8cc-585939683eff",
   "metadata": {},
   "outputs": [],
   "source": [
    "WITH dogs_allowed AS (\n",
    "  SELECT * \n",
    "  FROM yelp_business_data\n",
    "  WHERE attributes:DogsAllowed::STRING  NOT ILIKE '%None%'\n",
    "  AND attributes:DogsAllowed::STRING = 'True' \n",
    ")\n",
    "\n",
    ", touristy_places AS (\n",
    "  SELECT *\n",
    "  FROM yelp_business_data\n",
    "  WHERE attributes:Ambience NOT ILIKE '%None%'\n",
    "    AND attributes:Ambience IS NOT NULL\n",
    "    AND attributes:Ambience NOT ILIKE '%u\\'%'\n",
    "    -- Convert Ambience attribute in the attributes columns into valid JSON using PARSE_JSON.\n",
    "    -- From Valid JSON, fetch the touristy attribute and check if it is true when casted to BOOLEAN.\n",
    "    AND PARSE_JSON(attributes:Ambience):touristy::BOOLEAN = true\n",
    ")\n",
    "\n",
    "SELECT\n",
    "\td.business_id,\n",
    "    d.name\n",
    "FROM dogs_allowed d\n",
    "JOIN touristy_places t\n",
    "\tON d.business_id = t.business_id"
   ]
  },
  {
   "cell_type": "code",
   "execution_count": null,
   "id": "7ebabcae-12ea-427b-bcc7-0040b148e236",
   "metadata": {},
   "outputs": [],
   "source": []
  },
  {
   "cell_type": "code",
   "execution_count": null,
   "id": "36208fd0-bcdc-4945-bd28-586767505bda",
   "metadata": {},
   "outputs": [],
   "source": []
  }
 ],
 "metadata": {
  "kernelspec": {
   "display_name": "Python 3 (ipykernel)",
   "language": "python",
   "name": "python3"
  },
  "language_info": {
   "codemirror_mode": {
    "name": "ipython",
    "version": 3
   },
   "file_extension": ".py",
   "mimetype": "text/x-python",
   "name": "python",
   "nbconvert_exporter": "python",
   "pygments_lexer": "ipython3",
   "version": "3.11.6"
  }
 },
 "nbformat": 4,
 "nbformat_minor": 5
}
