{
 "cells": [
  {
   "cell_type": "markdown",
   "id": "6f73c711-f308-43ed-b239-c38d5e39fa01",
   "metadata": {},
   "source": [
    "## Creating content-based data\n",
    "\n",
    "As much as you might want to jump right to finding similar items and making recommendations, you first need to get your data in a usable format. In the next few exercises, you will explore your base data and work through how to format that data to be used for content-based recommendations.\n",
    "\n",
    "As a reminder, the desired outcome is a row per movie with each column indicating whether a genre applies to the movie. You will be looking at movie_genre_df, which contains these columns:\n",
    "\n",
    "    - name - Name of movie\n",
    "    - genre_list - Genre that the movie has been labeled as\n",
    "\n",
    "A movie may have multiple genres, and therefore multiple rows. In this exercise, you will particularly focus on one movie (Toy Story in this case) to be able to clearly see what is happening with the data.\n",
    "\n",
    "### Instructions 2/3\n",
    "    - Get the rows in movie_genre_df which have a name equal to Toy Story and save this as toy_story_genres."
   ]
  },
  {
   "cell_type": "code",
   "execution_count": null,
   "id": "88529f57-b195-4515-ad8f-00ac58a72933",
   "metadata": {},
   "outputs": [],
   "source": [
    "# Select only the rows with values in the name column equal to Toy Story\n",
    "toy_story_genres = movie_genre_df[movie_genre_df['name'] == 'Toy Story']\n",
    "\n",
    "# Inspect the subset\n",
    "print(toy_story_genres)"
   ]
  },
  {
   "cell_type": "markdown",
   "id": "68f221ed-af62-4891-9173-06dc201ec55c",
   "metadata": {},
   "source": [
    "### Instructions 3/3\n",
    "    - Transform movie_genre_df to a table called movie_cross_table.\n",
    "    - Assign the subset of movie_cross_table that contains Toy Story to the variable toy_story_genres_ct and inspect the results."
   ]
  },
  {
   "cell_type": "code",
   "execution_count": null,
   "id": "d3d5748e-c31c-4170-b971-1a866b35bbe8",
   "metadata": {},
   "outputs": [],
   "source": [
    "# Select only the rows with values in the name column equal to Toy Story\n",
    "toy_story_genres = movie_genre_df[movie_genre_df['name'] == 'Toy Story']\n",
    "\n",
    "# Create cross-tabulated DataFrame from name and genre_list columns\n",
    "movie_cross_table = pd.crosstab(movie_genre_df['name'], movie_genre_df['genre_list'])\n",
    "\n",
    "# Select only the rows with Toy Story as the index\n",
    "toy_story_genres_ct = movie_cross_table[movie_cross_table.index == 'Toy Story']\n",
    "print(toy_story_genres_ct)"
   ]
  },
  {
   "cell_type": "markdown",
   "id": "fb26b756-6549-4e19-855a-1718f6328673",
   "metadata": {},
   "source": [
    "## Comparing individual movies with Jaccard similarity\n",
    "\n",
    "In the last lesson, you built a DataFrame of movies, where each column represents a different genre. You can now use this DataFrame to compare movies by measuring the Jaccard similarity between rows. The higher the Jaccard similarity score, the more similar the two items are.\n",
    "\n",
    "In this exercise, you will compare the movie GoldenEye with the movie Toy Story, and GoldenEye with SkyFall and compare the results.\n",
    "\n",
    "The DataFrame movie_cross_table containing all the movies as rows and the genres as Boolean columns that you created in the last lesson has been loaded.\n",
    "\n",
    "### Instructions 1/3\n",
    "    - Import the Jaccard similarity score function from sklearn.metrics."
   ]
  },
  {
   "cell_type": "code",
   "execution_count": 1,
   "id": "afd01e18-125b-4320-a598-2af905b05585",
   "metadata": {},
   "outputs": [],
   "source": [
    "# Import numpy and the Jaccard similarity function\n",
    "import numpy as np\n",
    "from sklearn.metrics import jaccard_score"
   ]
  },
  {
   "cell_type": "markdown",
   "id": "851f9c47-3204-4cbd-a89f-ee5542fe890a",
   "metadata": {},
   "source": [
    "### Instructions 2/3\n",
    "    - Convert the rows containing 'GoldenEye' and 'Toy Story' to numpy arrays and measure their similarity."
   ]
  },
  {
   "cell_type": "code",
   "execution_count": null,
   "id": "ce0bc171-2b7d-4026-878f-e51645015aa3",
   "metadata": {},
   "outputs": [],
   "source": [
    "# Import numpy and the distance metric\n",
    "import numpy as np\n",
    "from sklearn.metrics import jaccard_score\n",
    "\n",
    "# Extract just the rows containing GoldenEye and Toy Story\n",
    "goldeneye_values = movie_cross_table.loc['GoldenEye'].values\n",
    "toy_story_values = movie_cross_table.loc['Toy Story'].values\n",
    "\n",
    "# Find the similarity between GoldenEye and Toy Story\n",
    "print(jaccard_score(goldeneye_values, toy_story_values))"
   ]
  },
  {
   "cell_type": "markdown",
   "id": "dae96e7a-1372-44c6-8858-a45380970b7e",
   "metadata": {},
   "source": [
    "### Instructions 3/3\n",
    "    - Convert the row containing Skyfall to a numpy array and measure its similarity to GoldenEye."
   ]
  },
  {
   "cell_type": "code",
   "execution_count": null,
   "id": "be9b3b1d-06eb-4371-8027-5abae38c5c52",
   "metadata": {},
   "outputs": [],
   "source": [
    "# Import numpy and the distance metric\n",
    "import numpy as np\n",
    "from sklearn.metrics import jaccard_score\n",
    "\n",
    "# Extract just the rows containing GoldenEye and Toy Story\n",
    "goldeneye_values = movie_cross_table.loc['GoldenEye'].values\n",
    "toy_story_values = movie_cross_table.loc['Toy Story'].values\n",
    "\n",
    "# Find the similarity between GoldenEye and Toy Story\n",
    "print(jaccard_score(goldeneye_values, toy_story_values))\n",
    "\n",
    "# Repeat for GoldenEye and Skyfall\n",
    "skyfall_values = movie_cross_table.loc['Skyfall'].values\n",
    "print(jaccard_score(goldeneye_values, skyfall_values))"
   ]
  },
  {
   "cell_type": "markdown",
   "id": "7a87ce1b-6846-43ef-b8ba-37dc28fe6f63",
   "metadata": {},
   "source": [
    "## Comparing all your movies at once\n",
    "\n",
    "While finding the Jaccard similarity between any two individual movies in your dataset is great for small-scale analyses, it can prove slow on larger datasets to make recommendations.\n",
    "\n",
    "In this exercise, you will find the similarities between all movies and store them in a DataFrame for quick and easy lookup.\n",
    "\n",
    "When finding the similarities between the rows in a DataFrame, you could run through all pairs and calculate them individually, but it's more efficient to use the pdist() (pairwise distance) function from scipy.\n",
    "\n",
    "This can be reshaped into the desired rectangular shape using squareform() from the same library. Since you want similarity values as opposed to distances, you should subtract the values from 1.\n",
    "\n",
    "movie_cross_table has once again been loaded for you.\n",
    "\n",
    "### Instructions\n",
    "    - Find the Jaccard distance measures between all movies and assign the results to jaccard_similarity_array.\n",
    "    - Create a DataFrame from the jaccard_similarity_array with movie_genre_df.index as its rows and columns.\n",
    "    - Print the top 5 rows of the DataFrame and examine the similarity scores."
   ]
  },
  {
   "cell_type": "code",
   "execution_count": null,
   "id": "e9995df6-64ef-40ff-8fe3-c1b86e9dc916",
   "metadata": {},
   "outputs": [],
   "source": [
    "# Import functions from scipy\n",
    "from scipy.spatial.distance import pdist, squareform\n",
    "\n",
    "# Calculate all pairwise distances\n",
    "jaccard_distances = pdist(movie_cross_table.values, metric='jaccard')\n",
    "\n",
    "# Convert the distances to a square matrix\n",
    "jaccard_similarity_array = 1 - squareform(jaccard_distances)\n",
    "\n",
    "# Wrap the array in a pandas DataFrame\n",
    "jaccard_similarity_df = pd.DataFrame(jaccard_similarity_array, index=movie_cross_table.index, columns=movie_cross_table.index)\n",
    "\n",
    "# Print the top 5 rows of the DataFrame\n",
    "print(jaccard_similarity_df.head())"
   ]
  },
  {
   "cell_type": "markdown",
   "id": "a8e013ee-b64c-4e90-8e38-d8fda05f11b6",
   "metadata": {},
   "source": [
    "## Making recommendations based on movie genres\n",
    "\n",
    "Now that you have your data in a usable format and know how to compare two movies, the next step is to use this to generate recommendations. In this exercise, you will learn how to generate recommendations for any movie in your dataset. The similarity scores between all movies in the dataset that you calculated in the last exercise have been pre-loaded for you as jaccard_similarity_array. movie_cross_table containing the movies and their attributes is also available.\n",
    "\n",
    "For ease of use, you will need to wrap the similarity scores in a DataFrame. Then you will use this new DataFrame to suggest a movie recommendation.\n",
    "\n",
    "### Instructions 1/2\n",
    "    - Generate a DataFrame called jaccard_similarity_df from jaccard_similarity_array.\n",
    "    - Store the similarity values between Thor and all other movies as a Series.\n",
    "    - Sort these from largest to smallest in ordered_similarities."
   ]
  },
  {
   "cell_type": "code",
   "execution_count": null,
   "id": "df0dfb96-e8f5-4f3a-823a-7ed11b896529",
   "metadata": {},
   "outputs": [],
   "source": [
    "# Wrap the preloaded array in a DataFrame\n",
    "jaccard_similarity_df = pd.DataFrame(jaccard_similarity_array, index=movie_cross_table.index, columns=movie_cross_table.index)\n",
    "\n",
    "# Find the values for the movie Thor\n",
    "jaccard_similarity_series = jaccard_similarity_df.loc['Thor']\n",
    "\n",
    "# Sort these values from highest to lowest\n",
    "ordered_similarities = jaccard_similarity_series.sort_values(ascending=False)\n",
    "\n",
    "# Print the results\n",
    "print(ordered_similarities)"
   ]
  },
  {
   "cell_type": "markdown",
   "id": "89173b30-ac3e-49b6-88c9-e5d6d33487de",
   "metadata": {},
   "source": [
    "## Instantiate the TF-IDF model\n",
    "\n",
    "TF-IDF by default generates a column for every word in all of your documents (movie summaries in our case). This creates a huge and unintuitive dataset as it will contain both very common words that appear in every document, and words that appear so rarely they provide no value in finding similarities between items.\n",
    "\n",
    "In this exercise, you will work with the df_plots DataFrame. It contains movies' names in the Title column and their plots in the Plot column.\n",
    "\n",
    "Using this DataFrame, you will generate the default TF-IDF scores and see if non-valuable columns are present.\n",
    "\n",
    "You will go on to rerun the TF-IDF calculations, this time limiting the number of columns using the min_df and max_df arguments and hopefully see the improvement.\n",
    "\n",
    "### Instructions 1/2\n",
    "    - Create a TfidfVectorizer and call it vectorizer.\n",
    "    - Use vectorizer to transform the data in the Plots column of df_plots and assign the output to vectorized_data.\n",
    "    - Inspect the features that have been generated by the transformation."
   ]
  },
  {
   "cell_type": "code",
   "execution_count": null,
   "id": "cf8aeab8-1308-4e92-9859-324e67531d40",
   "metadata": {},
   "outputs": [],
   "source": [
    "from sklearn.feature_extraction.text import TfidfVectorizer\n",
    "\n",
    "# Instantiate the vectorizer object to the vectorizer variable\n",
    "vectorizer = TfidfVectorizer()\n",
    "\n",
    "# Fit and transform the plot column\n",
    "vectorized_data = vectorizer.fit_transform(df_plots['Plot'])\n",
    "\n",
    "# Look at the features generated\n",
    "print(vectorizer.get_feature_names())"
   ]
  },
  {
   "cell_type": "markdown",
   "id": "c452e48a-b630-409d-8d8a-af419e380c69",
   "metadata": {},
   "source": [
    "### Instructions 2/2\n",
    "    - Repeat the creation of the TfidfVectorizer, but this time, set the minimum document frequency to 2 and the maximum document frequency to 0.7.\n",
    "    - Inspect the features that have been generated by the transformation."
   ]
  },
  {
   "cell_type": "code",
   "execution_count": null,
   "id": "ee5ca532-9dae-4866-bb2f-833feb9895ca",
   "metadata": {},
   "outputs": [],
   "source": [
    "from sklearn.feature_extraction.text import TfidfVectorizer\n",
    "\n",
    "# Instantiate the vectorizer object to the vectorizer variable\n",
    "vectorizer = TfidfVectorizer(min_df=2, max_df=0.7)\n",
    "\n",
    "# Fit and transform the plot column\n",
    "vectorized_data = vectorizer.fit_transform(df_plots['Plot'])\n",
    "\n",
    "# Look at the features generated\n",
    "print(vectorizer.get_feature_names())"
   ]
  },
  {
   "cell_type": "markdown",
   "id": "6e7fc334-b79d-4780-9966-465c274382d0",
   "metadata": {},
   "source": [
    "## Creating the TF-IDF DataFrame\n",
    "\n",
    "Now that you have generated our TF-IDF features, you will need to get them in a format that you can use to make recommendations. You will once again leverage pandas for this and wrap the array in a DataFrame. As you will be using the movie titles to do your filtering of the data, you can assign the titles to the DataFrame's index.\n",
    "\n",
    "The df_plots DataFrame has once again been loaded for you. It contains movies' names in the Title column and their plots in the Plot column.\n",
    "\n",
    "### Instructions\n",
    "    - Create a TfidfVectorizer and fit and transform it as you did in the previous exercise.\n",
    "    - Wrap the generated vectorized_data in a DataFrame. Use the names of the features generated during the fit and transform phase as its column names and assign your new DataFrame to tfidf_df.\n",
    "    - Assign the original movie titles to the index of the newly created tfidf_df DataFrame."
   ]
  },
  {
   "cell_type": "code",
   "execution_count": null,
   "id": "92bf14d6-e34d-445d-9436-4acdf2685224",
   "metadata": {},
   "outputs": [],
   "source": [
    "from sklearn.feature_extraction.text import TfidfVectorizer\n",
    "\n",
    "# Instantiate the vectorizer object and transform the plot column\n",
    "vectorizer = TfidfVectorizer(max_df=0.7, min_df=2)\n",
    "vectorized_data = vectorizer.fit_transform(df_plots['Plot']) \n",
    "\n",
    "# Create Dataframe from TF-IDFarray\n",
    "tfidf_df = pd.DataFrame(vectorized_data.toarray(), columns=vectorizer.get_feature_names())\n",
    "\n",
    "# Assign the movie titles to the index and inspect\n",
    "tfidf_df.index = df_plots['Title']\n",
    "print(tfidf_df.head())"
   ]
  },
  {
   "cell_type": "markdown",
   "id": "c27eed13-485b-4ca2-86d3-0dc27512dc4e",
   "metadata": {},
   "source": [
    "## Comparing all your movies with TF-IDF\n",
    "\n",
    "Now that you have put in the hard work of getting your TF-IDF data into a usable format, it's time to put it to work generating finding similarities and generating recommendations.\n",
    "\n",
    "This time as you are using TF-IDF scores (which are floats as opposed to Booleans) you will use the cosine similarity metric to find the similarities between items. In this exercise, you will generate a matrix of all of the movie cosine similarities and store them in a DataFrame for ease of lookup. This will allow you to compare movies and find recommendations quickly and easily.\n",
    "\n",
    "The tfidf_df DataFrame you created in the last exercise containing a row for each movie has been loaded for you.\n",
    "\n",
    "### Instructions\n",
    "    - Find the cosine similarity measures between all movies and assign the results to cosine_similarity_array.\n",
    "    - Create a DataFrame from the cosine_similarity_array with tfidf_summary_df.index as its rows and columns.\n",
    "    - Print the top five rows of the DataFrame and examine the similarity scores."
   ]
  },
  {
   "cell_type": "code",
   "execution_count": null,
   "id": "c848b099-d02b-4241-89f2-9832f7d9bf72",
   "metadata": {},
   "outputs": [],
   "source": [
    "# Import cosine_similarity measure\n",
    "from sklearn.metrics.pairwise import cosine_similarity\n",
    "\n",
    "# Create the array of cosine similarity values\n",
    "cosine_similarity_array = cosine_similarity(tfidf_summary_df)\n",
    "\n",
    "# Wrap the array in a pandas DataFrame\n",
    "cosine_similarity_df = pd.DataFrame(cosine_similarity_array, index=tfidf_summary_df.index, columns=tfidf_summary_df.index)\n",
    "\n",
    "# Print the top 5 rows of the DataFrame\n",
    "print(cosine_similarity_df.head())"
   ]
  },
  {
   "cell_type": "markdown",
   "id": "8fdf9915-c7f7-4d3b-ae27-c5669dc870a9",
   "metadata": {},
   "source": [
    "## Making recommendations with TF-IDF\n",
    "\n",
    "In the last exercise you pre-calculated the similarity ratings between all movies in the dataset based on their plots transformed by TF-IDF. Now you will put these similarity ratings in a DataFrame for ease of use. Then you will use this new DataFrame to suggest a movie recommendation.\n",
    "\n",
    "The cosine_similarity_array containing a matrix of the similarity values between all movies that you created in the last exercise has been loaded for you. The tfidf_summary_df DataFrame containing the movies and their TF-IDF features is also available.\n",
    "\n",
    "### Instructions 1/2\n",
    "    - Generate a DataFrame from cosine_similarity_array.\n",
    "    - Store the cosine similarity values between the movie Rio and all other movies as a Series.\n",
    "    - Sort these from largest to smallest in ordered_similarities and print the ordered results."
   ]
  },
  {
   "cell_type": "code",
   "execution_count": null,
   "id": "b0bc1e43-04d9-4e79-8429-9c389d4dd064",
   "metadata": {},
   "outputs": [],
   "source": [
    "# Wrap the preloaded array in a DataFrame\n",
    "cosine_similarity_df = pd.DataFrame(cosine_similarity_array, index=tfidf_summary_df.index, columns=tfidf_summary_df.index)\n",
    "\n",
    "# Find the values for the movie Rio\n",
    "cosine_similarity_series = cosine_similarity_df.loc['Rio']\n",
    "\n",
    "# Sort these values highest to lowest\n",
    "ordered_similarities = cosine_similarity_series.sort_values(ascending=False)\n",
    "\n",
    "# Print the results\n",
    "print(ordered_similarities)"
   ]
  },
  {
   "cell_type": "markdown",
   "id": "5bb067a2-ae6b-489d-afb8-575cf29e0eb0",
   "metadata": {},
   "source": []
  },
  {
   "cell_type": "code",
   "execution_count": null,
   "id": "987cb642-3edd-4ec6-80d6-b9d6577a3c48",
   "metadata": {},
   "outputs": [],
   "source": []
  }
 ],
 "metadata": {
  "kernelspec": {
   "display_name": "Python 3 (ipykernel)",
   "language": "python",
   "name": "python3"
  },
  "language_info": {
   "codemirror_mode": {
    "name": "ipython",
    "version": 3
   },
   "file_extension": ".py",
   "mimetype": "text/x-python",
   "name": "python",
   "nbconvert_exporter": "python",
   "pygments_lexer": "ipython3",
   "version": "3.11.6"
  }
 },
 "nbformat": 4,
 "nbformat_minor": 5
}
