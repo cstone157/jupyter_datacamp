{
 "cells": [
  {
   "cell_type": "code",
   "execution_count": 1,
   "id": "8ac93c33-8627-4c17-84b1-0b434303e138",
   "metadata": {},
   "outputs": [],
   "source": [
    "## import the libraries I'll be using for the rest of the project\n",
    "import numpy as np\n",
    "import pandas as pd"
   ]
  },
  {
   "cell_type": "code",
   "execution_count": 2,
   "id": "b9032a7a-af91-4889-9b1d-91e02fc74a62",
   "metadata": {},
   "outputs": [
    {
     "data": {
      "text/html": [
       "<div>\n",
       "<style scoped>\n",
       "    .dataframe tbody tr th:only-of-type {\n",
       "        vertical-align: middle;\n",
       "    }\n",
       "\n",
       "    .dataframe tbody tr th {\n",
       "        vertical-align: top;\n",
       "    }\n",
       "\n",
       "    .dataframe thead th {\n",
       "        text-align: right;\n",
       "    }\n",
       "</style>\n",
       "<table border=\"1\" class=\"dataframe\">\n",
       "  <thead>\n",
       "    <tr style=\"text-align: right;\">\n",
       "      <th></th>\n",
       "      <th>movieId</th>\n",
       "      <th>title</th>\n",
       "      <th>genres</th>\n",
       "    </tr>\n",
       "  </thead>\n",
       "  <tbody>\n",
       "    <tr>\n",
       "      <th>0</th>\n",
       "      <td>1</td>\n",
       "      <td>Toy Story (1995)</td>\n",
       "      <td>Adventure|Animation|Children|Comedy|Fantasy</td>\n",
       "    </tr>\n",
       "    <tr>\n",
       "      <th>1</th>\n",
       "      <td>2</td>\n",
       "      <td>Jumanji (1995)</td>\n",
       "      <td>Adventure|Children|Fantasy</td>\n",
       "    </tr>\n",
       "    <tr>\n",
       "      <th>2</th>\n",
       "      <td>3</td>\n",
       "      <td>Grumpier Old Men (1995)</td>\n",
       "      <td>Comedy|Romance</td>\n",
       "    </tr>\n",
       "    <tr>\n",
       "      <th>3</th>\n",
       "      <td>4</td>\n",
       "      <td>Waiting to Exhale (1995)</td>\n",
       "      <td>Comedy|Drama|Romance</td>\n",
       "    </tr>\n",
       "    <tr>\n",
       "      <th>4</th>\n",
       "      <td>5</td>\n",
       "      <td>Father of the Bride Part II (1995)</td>\n",
       "      <td>Comedy</td>\n",
       "    </tr>\n",
       "  </tbody>\n",
       "</table>\n",
       "</div>"
      ],
      "text/plain": [
       "   movieId                               title  \\\n",
       "0        1                    Toy Story (1995)   \n",
       "1        2                      Jumanji (1995)   \n",
       "2        3             Grumpier Old Men (1995)   \n",
       "3        4            Waiting to Exhale (1995)   \n",
       "4        5  Father of the Bride Part II (1995)   \n",
       "\n",
       "                                        genres  \n",
       "0  Adventure|Animation|Children|Comedy|Fantasy  \n",
       "1                   Adventure|Children|Fantasy  \n",
       "2                               Comedy|Romance  \n",
       "3                         Comedy|Drama|Romance  \n",
       "4                                       Comedy  "
      ]
     },
     "execution_count": 2,
     "metadata": {},
     "output_type": "execute_result"
    }
   ],
   "source": [
    "movies_org = pd.read_csv('movies.csv.zip')\n",
    "movies_org.head()"
   ]
  },
  {
   "cell_type": "code",
   "execution_count": 13,
   "id": "0924bd6f-2c97-434e-88f8-02f0f63e5b4e",
   "metadata": {},
   "outputs": [
    {
     "data": {
      "text/html": [
       "<div>\n",
       "<style scoped>\n",
       "    .dataframe tbody tr th:only-of-type {\n",
       "        vertical-align: middle;\n",
       "    }\n",
       "\n",
       "    .dataframe tbody tr th {\n",
       "        vertical-align: top;\n",
       "    }\n",
       "\n",
       "    .dataframe thead th {\n",
       "        text-align: right;\n",
       "    }\n",
       "</style>\n",
       "<table border=\"1\" class=\"dataframe\">\n",
       "  <thead>\n",
       "    <tr style=\"text-align: right;\">\n",
       "      <th></th>\n",
       "      <th>userId</th>\n",
       "      <th>movieId</th>\n",
       "      <th>rating</th>\n",
       "      <th>timestamp</th>\n",
       "      <th>title</th>\n",
       "      <th>genres</th>\n",
       "    </tr>\n",
       "  </thead>\n",
       "  <tbody>\n",
       "    <tr>\n",
       "      <th>0</th>\n",
       "      <td>1</td>\n",
       "      <td>1</td>\n",
       "      <td>4.0</td>\n",
       "      <td>964982703</td>\n",
       "      <td>Toy Story (1995)</td>\n",
       "      <td>Adventure|Animation|Children|Comedy|Fantasy</td>\n",
       "    </tr>\n",
       "    <tr>\n",
       "      <th>1</th>\n",
       "      <td>5</td>\n",
       "      <td>1</td>\n",
       "      <td>4.0</td>\n",
       "      <td>847434962</td>\n",
       "      <td>Toy Story (1995)</td>\n",
       "      <td>Adventure|Animation|Children|Comedy|Fantasy</td>\n",
       "    </tr>\n",
       "    <tr>\n",
       "      <th>2</th>\n",
       "      <td>7</td>\n",
       "      <td>1</td>\n",
       "      <td>4.5</td>\n",
       "      <td>1106635946</td>\n",
       "      <td>Toy Story (1995)</td>\n",
       "      <td>Adventure|Animation|Children|Comedy|Fantasy</td>\n",
       "    </tr>\n",
       "    <tr>\n",
       "      <th>3</th>\n",
       "      <td>15</td>\n",
       "      <td>1</td>\n",
       "      <td>2.5</td>\n",
       "      <td>1510577970</td>\n",
       "      <td>Toy Story (1995)</td>\n",
       "      <td>Adventure|Animation|Children|Comedy|Fantasy</td>\n",
       "    </tr>\n",
       "    <tr>\n",
       "      <th>4</th>\n",
       "      <td>17</td>\n",
       "      <td>1</td>\n",
       "      <td>4.5</td>\n",
       "      <td>1305696483</td>\n",
       "      <td>Toy Story (1995)</td>\n",
       "      <td>Adventure|Animation|Children|Comedy|Fantasy</td>\n",
       "    </tr>\n",
       "  </tbody>\n",
       "</table>\n",
       "</div>"
      ],
      "text/plain": [
       "   userId  movieId  rating   timestamp             title  \\\n",
       "0       1        1     4.0   964982703  Toy Story (1995)   \n",
       "1       5        1     4.0   847434962  Toy Story (1995)   \n",
       "2       7        1     4.5  1106635946  Toy Story (1995)   \n",
       "3      15        1     2.5  1510577970  Toy Story (1995)   \n",
       "4      17        1     4.5  1305696483  Toy Story (1995)   \n",
       "\n",
       "                                        genres  \n",
       "0  Adventure|Animation|Children|Comedy|Fantasy  \n",
       "1  Adventure|Animation|Children|Comedy|Fantasy  \n",
       "2  Adventure|Animation|Children|Comedy|Fantasy  \n",
       "3  Adventure|Animation|Children|Comedy|Fantasy  \n",
       "4  Adventure|Animation|Children|Comedy|Fantasy  "
      ]
     },
     "execution_count": 13,
     "metadata": {},
     "output_type": "execute_result"
    }
   ],
   "source": [
    "user_ratings_org = pd.read_csv('user_ratings.csv.zip')\n",
    "user_ratings_org.head()"
   ]
  },
  {
   "cell_type": "code",
   "execution_count": 3,
   "id": "ee93f17f-f11d-4629-b22d-39a2f447c5eb",
   "metadata": {},
   "outputs": [
    {
     "data": {
      "text/html": [
       "<div>\n",
       "<style scoped>\n",
       "    .dataframe tbody tr th:only-of-type {\n",
       "        vertical-align: middle;\n",
       "    }\n",
       "\n",
       "    .dataframe tbody tr th {\n",
       "        vertical-align: top;\n",
       "    }\n",
       "\n",
       "    .dataframe thead th {\n",
       "        text-align: right;\n",
       "    }\n",
       "</style>\n",
       "<table border=\"1\" class=\"dataframe\">\n",
       "  <thead>\n",
       "    <tr style=\"text-align: right;\">\n",
       "      <th></th>\n",
       "      <th>name</th>\n",
       "      <th>genre_list</th>\n",
       "    </tr>\n",
       "  </thead>\n",
       "  <tbody>\n",
       "    <tr>\n",
       "      <th>0</th>\n",
       "      <td>Toy Story</td>\n",
       "      <td>Adventure</td>\n",
       "    </tr>\n",
       "    <tr>\n",
       "      <th>1</th>\n",
       "      <td>Toy Story</td>\n",
       "      <td>Animation</td>\n",
       "    </tr>\n",
       "    <tr>\n",
       "      <th>2</th>\n",
       "      <td>Toy Story</td>\n",
       "      <td>Children</td>\n",
       "    </tr>\n",
       "    <tr>\n",
       "      <th>3</th>\n",
       "      <td>Toy Story</td>\n",
       "      <td>Comedy</td>\n",
       "    </tr>\n",
       "    <tr>\n",
       "      <th>4</th>\n",
       "      <td>Toy Story</td>\n",
       "      <td>Fantasy</td>\n",
       "    </tr>\n",
       "  </tbody>\n",
       "</table>\n",
       "</div>"
      ],
      "text/plain": [
       "        name genre_list\n",
       "0  Toy Story  Adventure\n",
       "1  Toy Story  Animation\n",
       "2  Toy Story   Children\n",
       "3  Toy Story     Comedy\n",
       "4  Toy Story    Fantasy"
      ]
     },
     "execution_count": 3,
     "metadata": {},
     "output_type": "execute_result"
    }
   ],
   "source": [
    "## Prepare the title column by removing the year\n",
    "movie_genre_df = movies_org.copy()\n",
    "movie_genre_df['title'] = movie_genre_df['title'].str.replace(r'\\(\\d{4}\\)', '', regex=True)\n",
    "\n",
    "## Drop the na, and then strip/trim the title column\n",
    "movie_genre_df = movie_genre_df.dropna().copy()\n",
    "movie_genre_df['title'] = movie_genre_df['title'].str.strip()\n",
    "\n",
    "## Split the genres\n",
    "movie_genre_df['genres'] = movie_genre_df['genres'].str.split('[|]')\n",
    "movie_genre_df = movie_genre_df.explode('genres').reset_index(drop=True)\n",
    "movie_genre_df[\"name\"] = movie_genre_df[\"title\"]\n",
    "movie_genre_df[\"genre_list\"] = movie_genre_df[\"genres\"]\n",
    "movie_genre_df = movie_genre_df[[\"name\", \"genre_list\"]]\n",
    "\n",
    "movie_genre_df.head()"
   ]
  },
  {
   "cell_type": "code",
   "execution_count": 4,
   "id": "6d211414-56a8-4908-9d9c-36272a6f881c",
   "metadata": {},
   "outputs": [
    {
     "data": {
      "text/html": [
       "<div>\n",
       "<style scoped>\n",
       "    .dataframe tbody tr th:only-of-type {\n",
       "        vertical-align: middle;\n",
       "    }\n",
       "\n",
       "    .dataframe tbody tr th {\n",
       "        vertical-align: top;\n",
       "    }\n",
       "\n",
       "    .dataframe thead th {\n",
       "        text-align: right;\n",
       "    }\n",
       "</style>\n",
       "<table border=\"1\" class=\"dataframe\">\n",
       "  <thead>\n",
       "    <tr style=\"text-align: right;\">\n",
       "      <th></th>\n",
       "      <th>userId</th>\n",
       "      <th>movieId</th>\n",
       "      <th>rating</th>\n",
       "      <th>timestamp</th>\n",
       "      <th>title</th>\n",
       "      <th>genres</th>\n",
       "    </tr>\n",
       "  </thead>\n",
       "  <tbody>\n",
       "    <tr>\n",
       "      <th>0</th>\n",
       "      <td>1</td>\n",
       "      <td>1</td>\n",
       "      <td>4.0</td>\n",
       "      <td>964982703</td>\n",
       "      <td>Toy Story (1995)</td>\n",
       "      <td>Adventure|Animation|Children|Comedy|Fantasy</td>\n",
       "    </tr>\n",
       "    <tr>\n",
       "      <th>1</th>\n",
       "      <td>5</td>\n",
       "      <td>1</td>\n",
       "      <td>4.0</td>\n",
       "      <td>847434962</td>\n",
       "      <td>Toy Story (1995)</td>\n",
       "      <td>Adventure|Animation|Children|Comedy|Fantasy</td>\n",
       "    </tr>\n",
       "    <tr>\n",
       "      <th>2</th>\n",
       "      <td>7</td>\n",
       "      <td>1</td>\n",
       "      <td>4.5</td>\n",
       "      <td>1106635946</td>\n",
       "      <td>Toy Story (1995)</td>\n",
       "      <td>Adventure|Animation|Children|Comedy|Fantasy</td>\n",
       "    </tr>\n",
       "    <tr>\n",
       "      <th>3</th>\n",
       "      <td>15</td>\n",
       "      <td>1</td>\n",
       "      <td>2.5</td>\n",
       "      <td>1510577970</td>\n",
       "      <td>Toy Story (1995)</td>\n",
       "      <td>Adventure|Animation|Children|Comedy|Fantasy</td>\n",
       "    </tr>\n",
       "    <tr>\n",
       "      <th>4</th>\n",
       "      <td>17</td>\n",
       "      <td>1</td>\n",
       "      <td>4.5</td>\n",
       "      <td>1305696483</td>\n",
       "      <td>Toy Story (1995)</td>\n",
       "      <td>Adventure|Animation|Children|Comedy|Fantasy</td>\n",
       "    </tr>\n",
       "  </tbody>\n",
       "</table>\n",
       "</div>"
      ],
      "text/plain": [
       "   userId  movieId  rating   timestamp             title  \\\n",
       "0       1        1     4.0   964982703  Toy Story (1995)   \n",
       "1       5        1     4.0   847434962  Toy Story (1995)   \n",
       "2       7        1     4.5  1106635946  Toy Story (1995)   \n",
       "3      15        1     2.5  1510577970  Toy Story (1995)   \n",
       "4      17        1     4.5  1305696483  Toy Story (1995)   \n",
       "\n",
       "                                        genres  \n",
       "0  Adventure|Animation|Children|Comedy|Fantasy  \n",
       "1  Adventure|Animation|Children|Comedy|Fantasy  \n",
       "2  Adventure|Animation|Children|Comedy|Fantasy  \n",
       "3  Adventure|Animation|Children|Comedy|Fantasy  \n",
       "4  Adventure|Animation|Children|Comedy|Fantasy  "
      ]
     },
     "execution_count": 4,
     "metadata": {},
     "output_type": "execute_result"
    }
   ],
   "source": [
    "user_ratings_org = pd.read_csv('user_ratings.csv.zip')\n",
    "user_ratings_org.head()"
   ]
  },
  {
   "cell_type": "markdown",
   "id": "6f73c711-f308-43ed-b239-c38d5e39fa01",
   "metadata": {},
   "source": [
    "## Creating content-based data\n",
    "\n",
    "As much as you might want to jump right to finding similar items and making recommendations, you first need to get your data in a usable format. In the next few exercises, you will explore your base data and work through how to format that data to be used for content-based recommendations.\n",
    "\n",
    "As a reminder, the desired outcome is a row per movie with each column indicating whether a genre applies to the movie. You will be looking at movie_genre_df, which contains these columns:\n",
    "\n",
    "    - name - Name of movie\n",
    "    - genre_list - Genre that the movie has been labeled as\n",
    "\n",
    "A movie may have multiple genres, and therefore multiple rows. In this exercise, you will particularly focus on one movie (Toy Story in this case) to be able to clearly see what is happening with the data.\n",
    "\n",
    "### Instructions 2/3\n",
    "    - Get the rows in movie_genre_df which have a name equal to Toy Story and save this as toy_story_genres."
   ]
  },
  {
   "cell_type": "code",
   "execution_count": 5,
   "id": "88529f57-b195-4515-ad8f-00ac58a72933",
   "metadata": {},
   "outputs": [
    {
     "name": "stdout",
     "output_type": "stream",
     "text": [
      "        name genre_list\n",
      "0  Toy Story  Adventure\n",
      "1  Toy Story  Animation\n",
      "2  Toy Story   Children\n",
      "3  Toy Story     Comedy\n",
      "4  Toy Story    Fantasy\n"
     ]
    }
   ],
   "source": [
    "# Select only the rows with values in the name column equal to Toy Story\n",
    "toy_story_genres = movie_genre_df[movie_genre_df['name'] == 'Toy Story']\n",
    "\n",
    "# Inspect the subset\n",
    "print(toy_story_genres)"
   ]
  },
  {
   "cell_type": "markdown",
   "id": "68f221ed-af62-4891-9173-06dc201ec55c",
   "metadata": {},
   "source": [
    "### Instructions 3/3\n",
    "    - Transform movie_genre_df to a table called movie_cross_table.\n",
    "    - Assign the subset of movie_cross_table that contains Toy Story to the variable toy_story_genres_ct and inspect the results."
   ]
  },
  {
   "cell_type": "code",
   "execution_count": 6,
   "id": "d3d5748e-c31c-4170-b971-1a866b35bbe8",
   "metadata": {},
   "outputs": [
    {
     "name": "stdout",
     "output_type": "stream",
     "text": [
      "genre_list  (no genres listed)  Action  Adventure  Animation  Children  \\\n",
      "name                                                                     \n",
      "Toy Story                    0       0          1          1         1   \n",
      "\n",
      "genre_list  Comedy  Crime  Documentary  Drama  Fantasy  Film-Noir  Horror  \\\n",
      "name                                                                        \n",
      "Toy Story        1      0            0      0        1          0       0   \n",
      "\n",
      "genre_list  IMAX  Musical  Mystery  Romance  Sci-Fi  Thriller  War  Western  \n",
      "name                                                                         \n",
      "Toy Story      0        0        0        0       0         0    0        0  \n"
     ]
    }
   ],
   "source": [
    "# Select only the rows with values in the name column equal to Toy Story\n",
    "toy_story_genres = movie_genre_df[movie_genre_df['name'] == 'Toy Story']\n",
    "\n",
    "# Create cross-tabulated DataFrame from name and genre_list columns\n",
    "movie_cross_table = pd.crosstab(movie_genre_df['name'], movie_genre_df['genre_list'])\n",
    "\n",
    "# Select only the rows with Toy Story as the index\n",
    "toy_story_genres_ct = movie_cross_table[movie_cross_table.index == 'Toy Story']\n",
    "print(toy_story_genres_ct)"
   ]
  },
  {
   "cell_type": "markdown",
   "id": "fb26b756-6549-4e19-855a-1718f6328673",
   "metadata": {},
   "source": [
    "## Comparing individual movies with Jaccard similarity\n",
    "\n",
    "In the last lesson, you built a DataFrame of movies, where each column represents a different genre. You can now use this DataFrame to compare movies by measuring the Jaccard similarity between rows. The higher the Jaccard similarity score, the more similar the two items are.\n",
    "\n",
    "In this exercise, you will compare the movie GoldenEye with the movie Toy Story, and GoldenEye with SkyFall and compare the results.\n",
    "\n",
    "The DataFrame movie_cross_table containing all the movies as rows and the genres as Boolean columns that you created in the last lesson has been loaded.\n",
    "\n",
    "### Instructions 1/3\n",
    "    - Import the Jaccard similarity score function from sklearn.metrics."
   ]
  },
  {
   "cell_type": "code",
   "execution_count": 7,
   "id": "afd01e18-125b-4320-a598-2af905b05585",
   "metadata": {},
   "outputs": [],
   "source": [
    "# Import numpy and the Jaccard similarity function\n",
    "import numpy as np\n",
    "from sklearn.metrics import jaccard_score"
   ]
  },
  {
   "cell_type": "markdown",
   "id": "851f9c47-3204-4cbd-a89f-ee5542fe890a",
   "metadata": {},
   "source": [
    "### Instructions 2/3\n",
    "    - Convert the rows containing 'GoldenEye' and 'Toy Story' to numpy arrays and measure their similarity."
   ]
  },
  {
   "cell_type": "code",
   "execution_count": 8,
   "id": "ce0bc171-2b7d-4026-878f-e51645015aa3",
   "metadata": {},
   "outputs": [
    {
     "name": "stdout",
     "output_type": "stream",
     "text": [
      "0.14285714285714285\n"
     ]
    }
   ],
   "source": [
    "# Import numpy and the distance metric\n",
    "import numpy as np\n",
    "from sklearn.metrics import jaccard_score\n",
    "\n",
    "# Extract just the rows containing GoldenEye and Toy Story\n",
    "goldeneye_values = movie_cross_table.loc['GoldenEye'].values\n",
    "toy_story_values = movie_cross_table.loc['Toy Story'].values\n",
    "\n",
    "# Find the similarity between GoldenEye and Toy Story\n",
    "print(jaccard_score(goldeneye_values, toy_story_values))"
   ]
  },
  {
   "cell_type": "markdown",
   "id": "dae96e7a-1372-44c6-8858-a45380970b7e",
   "metadata": {},
   "source": [
    "### Instructions 3/3\n",
    "    - Convert the row containing Skyfall to a numpy array and measure its similarity to GoldenEye."
   ]
  },
  {
   "cell_type": "code",
   "execution_count": 9,
   "id": "be9b3b1d-06eb-4371-8027-5abae38c5c52",
   "metadata": {},
   "outputs": [
    {
     "name": "stdout",
     "output_type": "stream",
     "text": [
      "0.14285714285714285\n",
      "0.75\n"
     ]
    }
   ],
   "source": [
    "# Import numpy and the distance metric\n",
    "import numpy as np\n",
    "from sklearn.metrics import jaccard_score\n",
    "\n",
    "# Extract just the rows containing GoldenEye and Toy Story\n",
    "goldeneye_values = movie_cross_table.loc['GoldenEye'].values\n",
    "toy_story_values = movie_cross_table.loc['Toy Story'].values\n",
    "\n",
    "# Find the similarity between GoldenEye and Toy Story\n",
    "print(jaccard_score(goldeneye_values, toy_story_values))\n",
    "\n",
    "# Repeat for GoldenEye and Skyfall\n",
    "skyfall_values = movie_cross_table.loc['Skyfall'].values\n",
    "print(jaccard_score(goldeneye_values, skyfall_values))"
   ]
  },
  {
   "cell_type": "markdown",
   "id": "7a87ce1b-6846-43ef-b8ba-37dc28fe6f63",
   "metadata": {},
   "source": [
    "## Comparing all your movies at once\n",
    "\n",
    "While finding the Jaccard similarity between any two individual movies in your dataset is great for small-scale analyses, it can prove slow on larger datasets to make recommendations.\n",
    "\n",
    "In this exercise, you will find the similarities between all movies and store them in a DataFrame for quick and easy lookup.\n",
    "\n",
    "When finding the similarities between the rows in a DataFrame, you could run through all pairs and calculate them individually, but it's more efficient to use the pdist() (pairwise distance) function from scipy.\n",
    "\n",
    "This can be reshaped into the desired rectangular shape using squareform() from the same library. Since you want similarity values as opposed to distances, you should subtract the values from 1.\n",
    "\n",
    "movie_cross_table has once again been loaded for you.\n",
    "\n",
    "### Instructions\n",
    "    - Find the Jaccard distance measures between all movies and assign the results to jaccard_similarity_array.\n",
    "    - Create a DataFrame from the jaccard_similarity_array with movie_genre_df.index as its rows and columns.\n",
    "    - Print the top 5 rows of the DataFrame and examine the similarity scores."
   ]
  },
  {
   "cell_type": "code",
   "execution_count": 10,
   "id": "e9995df6-64ef-40ff-8fe3-c1b86e9dc916",
   "metadata": {},
   "outputs": [
    {
     "name": "stdout",
     "output_type": "stream",
     "text": [
      "name                                   '71  'Hellboy': The Seeds of Creation  \\\n",
      "name                                                                           \n",
      "'71                               1.000000                             0.125   \n",
      "'Hellboy': The Seeds of Creation  0.125000                             1.000   \n",
      "'Round Midnight                   0.200000                             0.000   \n",
      "'Salem's Lot                      0.333333                             0.000   \n",
      "'Til There Was You                0.200000                             0.000   \n",
      "\n",
      "name                              'Round Midnight  'Salem's Lot  \\\n",
      "name                                                              \n",
      "'71                                      0.200000      0.333333   \n",
      "'Hellboy': The Seeds of Creation         0.000000      0.000000   \n",
      "'Round Midnight                          1.000000      0.200000   \n",
      "'Salem's Lot                             0.200000      1.000000   \n",
      "'Til There Was You                       0.333333      0.200000   \n",
      "\n",
      "name                              'Til There Was You  \\\n",
      "name                                                   \n",
      "'71                                         0.200000   \n",
      "'Hellboy': The Seeds of Creation            0.000000   \n",
      "'Round Midnight                             0.333333   \n",
      "'Salem's Lot                                0.200000   \n",
      "'Til There Was You                          1.000000   \n",
      "\n",
      "name                              'Tis the Season for Love  'burbs, The  \\\n",
      "name                                                                      \n",
      "'71                                                    0.0          0.0   \n",
      "'Hellboy': The Seeds of Creation                       0.0          0.2   \n",
      "'Round Midnight                                        0.0          0.0   \n",
      "'Salem's Lot                                           0.0          0.0   \n",
      "'Til There Was You                                     0.5          0.0   \n",
      "\n",
      "name                              'night Mother  (500) Days of Summer  \\\n",
      "name                                                                    \n",
      "'71                                        0.25              0.166667   \n",
      "'Hellboy': The Seeds of Creation           0.00              0.142857   \n",
      "'Round Midnight                            0.50              0.250000   \n",
      "'Salem's Lot                               0.25              0.166667   \n",
      "'Til There Was You                         0.50              0.666667   \n",
      "\n",
      "name                              *batteries not included  ...      Zulu  \\\n",
      "name                                                       ...             \n",
      "'71                                              0.000000  ...  0.600000   \n",
      "'Hellboy': The Seeds of Creation                 0.285714  ...  0.111111   \n",
      "'Round Midnight                                  0.000000  ...  0.000000   \n",
      "'Salem's Lot                                     0.000000  ...  0.142857   \n",
      "'Til There Was You                               0.000000  ...  0.000000   \n",
      "\n",
      "name                              [REC]  [REC]²  [REC]³ 3 Génesis  \\\n",
      "name                                                                \n",
      "'71                                0.40     0.2               0.2   \n",
      "'Hellboy': The Seeds of Creation   0.00     0.0               0.0   \n",
      "'Round Midnight                    0.25     0.0               0.0   \n",
      "'Salem's Lot                       0.75     0.5               0.5   \n",
      "'Til There Was You                 0.25     0.0               0.0   \n",
      "\n",
      "name                              anohana: The Flower We Saw That Day - The Movie  \\\n",
      "name                                                                                \n",
      "'71                                                                      0.200000   \n",
      "'Hellboy': The Seeds of Creation                                         0.000000   \n",
      "'Round Midnight                                                          0.333333   \n",
      "'Salem's Lot                                                             0.200000   \n",
      "'Til There Was You                                                       0.333333   \n",
      "\n",
      "name                              eXistenZ       xXx  xXx: State of the Union  \\\n",
      "name                                                                            \n",
      "'71                               0.400000  0.400000                 0.400000   \n",
      "'Hellboy': The Seeds of Creation  0.142857  0.142857                 0.142857   \n",
      "'Round Midnight                   0.000000  0.000000                 0.000000   \n",
      "'Salem's Lot                      0.166667  0.166667                 0.166667   \n",
      "'Til There Was You                0.000000  0.000000                 0.000000   \n",
      "\n",
      "name                              ¡Three Amigos!  \\\n",
      "name                                               \n",
      "'71                                     0.000000   \n",
      "'Hellboy': The Seeds of Creation        0.166667   \n",
      "'Round Midnight                         0.000000   \n",
      "'Salem's Lot                            0.000000   \n",
      "'Til There Was You                      0.000000   \n",
      "\n",
      "name                              À nous la liberté (Freedom for Us)  \n",
      "name                                                                  \n",
      "'71                                                         0.000000  \n",
      "'Hellboy': The Seeds of Creation                            0.166667  \n",
      "'Round Midnight                                             0.333333  \n",
      "'Salem's Lot                                                0.000000  \n",
      "'Til There Was You                                          0.000000  \n",
      "\n",
      "[5 rows x 9461 columns]\n"
     ]
    }
   ],
   "source": [
    "# Import functions from scipy\n",
    "from scipy.spatial.distance import pdist, squareform\n",
    "\n",
    "# Calculate all pairwise distances\n",
    "jaccard_distances = pdist(movie_cross_table.values, metric='jaccard')\n",
    "\n",
    "# Convert the distances to a square matrix\n",
    "jaccard_similarity_array = 1 - squareform(jaccard_distances)\n",
    "\n",
    "# Wrap the array in a pandas DataFrame\n",
    "jaccard_similarity_df = pd.DataFrame(jaccard_similarity_array, index=movie_cross_table.index, columns=movie_cross_table.index)\n",
    "\n",
    "# Print the top 5 rows of the DataFrame\n",
    "print(jaccard_similarity_df.head())"
   ]
  },
  {
   "cell_type": "markdown",
   "id": "a8e013ee-b64c-4e90-8e38-d8fda05f11b6",
   "metadata": {},
   "source": [
    "## Making recommendations based on movie genres\n",
    "\n",
    "Now that you have your data in a usable format and know how to compare two movies, the next step is to use this to generate recommendations. In this exercise, you will learn how to generate recommendations for any movie in your dataset. The similarity scores between all movies in the dataset that you calculated in the last exercise have been pre-loaded for you as jaccard_similarity_array. movie_cross_table containing the movies and their attributes is also available.\n",
    "\n",
    "For ease of use, you will need to wrap the similarity scores in a DataFrame. Then you will use this new DataFrame to suggest a movie recommendation.\n",
    "\n",
    "### Instructions 1/2\n",
    "    - Generate a DataFrame called jaccard_similarity_df from jaccard_similarity_array.\n",
    "    - Store the similarity values between Thor and all other movies as a Series.\n",
    "    - Sort these from largest to smallest in ordered_similarities."
   ]
  },
  {
   "cell_type": "code",
   "execution_count": 11,
   "id": "df0dfb96-e8f5-4f3a-823a-7ed11b896529",
   "metadata": {},
   "outputs": [
    {
     "name": "stdout",
     "output_type": "stream",
     "text": [
      "name\n",
      "Thor                                                    1.000000\n",
      "Harry Potter and the Deathly Hallows: Part 2            0.833333\n",
      "In the Name of the King III                             0.800000\n",
      "Harry Potter and the Deathly Hallows: Part 1            0.800000\n",
      "Harry Potter and the Order of the Phoenix               0.800000\n",
      "                                                          ...   \n",
      "Kevin Hart: I'm a Grown Little Man                      0.000000\n",
      "Kentucky Fried Movie, The                               0.000000\n",
      "Keeping Up with the Joneses                             0.000000\n",
      "Keep the River on Your Right: A Modern Cannibal Tale    0.000000\n",
      "À nous la liberté (Freedom for Us)                      0.000000\n",
      "Name: Thor, Length: 9461, dtype: float64\n"
     ]
    }
   ],
   "source": [
    "# Wrap the preloaded array in a DataFrame\n",
    "jaccard_similarity_df = pd.DataFrame(jaccard_similarity_array, index=movie_cross_table.index, columns=movie_cross_table.index)\n",
    "\n",
    "# Find the values for the movie Thor\n",
    "jaccard_similarity_series = jaccard_similarity_df.loc['Thor']\n",
    "\n",
    "# Sort these values from highest to lowest\n",
    "ordered_similarities = jaccard_similarity_series.sort_values(ascending=False)\n",
    "\n",
    "# Print the results\n",
    "print(ordered_similarities)"
   ]
  },
  {
   "cell_type": "markdown",
   "id": "89173b30-ac3e-49b6-88c9-e5d6d33487de",
   "metadata": {},
   "source": [
    "## Instantiate the TF-IDF model\n",
    "\n",
    "TF-IDF by default generates a column for every word in all of your documents (movie summaries in our case). This creates a huge and unintuitive dataset as it will contain both very common words that appear in every document, and words that appear so rarely they provide no value in finding similarities between items.\n",
    "\n",
    "In this exercise, you will work with the df_plots DataFrame. It contains movies' names in the Title column and their plots in the Plot column.\n",
    "\n",
    "Using this DataFrame, you will generate the default TF-IDF scores and see if non-valuable columns are present.\n",
    "\n",
    "You will go on to rerun the TF-IDF calculations, this time limiting the number of columns using the min_df and max_df arguments and hopefully see the improvement.\n",
    "\n",
    "### Instructions 1/2\n",
    "    - Create a TfidfVectorizer and call it vectorizer.\n",
    "    - Use vectorizer to transform the data in the Plots column of df_plots and assign the output to vectorized_data.\n",
    "    - Inspect the features that have been generated by the transformation."
   ]
  },
  {
   "cell_type": "code",
   "execution_count": 16,
   "id": "f99f8128-4304-4351-99b2-8336b27ccf05",
   "metadata": {},
   "outputs": [],
   "source": [
    "df_plots = pd.read_csv('../../data/movies_plot.csv.zip')"
   ]
  },
  {
   "cell_type": "code",
   "execution_count": 18,
   "id": "cf8aeab8-1308-4e92-9859-324e67531d40",
   "metadata": {},
   "outputs": [
    {
     "name": "stdout",
     "output_type": "stream",
     "text": [
      "['00' '000' '007' ... 'émile' 'étoile' 'željko']\n"
     ]
    }
   ],
   "source": [
    "from sklearn.feature_extraction.text import TfidfVectorizer\n",
    "\n",
    "# Instantiate the vectorizer object to the vectorizer variable\n",
    "vectorizer = TfidfVectorizer()\n",
    "\n",
    "# Fit and transform the plot column\n",
    "vectorized_data = vectorizer.fit_transform(df_plots['Plot'])\n",
    "\n",
    "# Look at the features generated\n",
    "#print(vectorizer.get_feature_names()) ## Corrected for the updated version\n",
    "print(vectorizer.get_feature_names_out())"
   ]
  },
  {
   "cell_type": "markdown",
   "id": "c452e48a-b630-409d-8d8a-af419e380c69",
   "metadata": {},
   "source": [
    "### Instructions 2/2\n",
    "    - Repeat the creation of the TfidfVectorizer, but this time, set the minimum document frequency to 2 and the maximum document frequency to 0.7.\n",
    "    - Inspect the features that have been generated by the transformation."
   ]
  },
  {
   "cell_type": "code",
   "execution_count": 20,
   "id": "ee5ca532-9dae-4866-bb2f-833feb9895ca",
   "metadata": {},
   "outputs": [
    {
     "name": "stdout",
     "output_type": "stream",
     "text": [
      "['00' '000' '04' ... 'zoological' 'zorro' 'zuckerman']\n"
     ]
    }
   ],
   "source": [
    "from sklearn.feature_extraction.text import TfidfVectorizer\n",
    "\n",
    "# Instantiate the vectorizer object to the vectorizer variable\n",
    "vectorizer = TfidfVectorizer(min_df=2, max_df=0.7)\n",
    "\n",
    "# Fit and transform the plot column\n",
    "vectorized_data = vectorizer.fit_transform(df_plots['Plot'])\n",
    "\n",
    "# Look at the features generated\n",
    "#print(vectorizer.get_feature_names()) ## Corrected for the updated version\n",
    "print(vectorizer.get_feature_names_out())"
   ]
  },
  {
   "cell_type": "markdown",
   "id": "6e7fc334-b79d-4780-9966-465c274382d0",
   "metadata": {},
   "source": [
    "## Creating the TF-IDF DataFrame\n",
    "\n",
    "Now that you have generated our TF-IDF features, you will need to get them in a format that you can use to make recommendations. You will once again leverage pandas for this and wrap the array in a DataFrame. As you will be using the movie titles to do your filtering of the data, you can assign the titles to the DataFrame's index.\n",
    "\n",
    "The df_plots DataFrame has once again been loaded for you. It contains movies' names in the Title column and their plots in the Plot column.\n",
    "\n",
    "### Instructions\n",
    "    - Create a TfidfVectorizer and fit and transform it as you did in the previous exercise.\n",
    "    - Wrap the generated vectorized_data in a DataFrame. Use the names of the features generated during the fit and transform phase as its column names and assign your new DataFrame to tfidf_df.\n",
    "    - Assign the original movie titles to the index of the newly created tfidf_df DataFrame."
   ]
  },
  {
   "cell_type": "code",
   "execution_count": 22,
   "id": "92bf14d6-e34d-445d-9436-4acdf2685224",
   "metadata": {},
   "outputs": [
    {
     "name": "stdout",
     "output_type": "stream",
     "text": [
      "                            00  000   04   10       100  1000  101st  10th  \\\n",
      "Title                                                                        \n",
      "The Ballad of Cable Hogue  0.0  0.0  0.0  0.0  0.022794   0.0    0.0   0.0   \n",
      "Monsters vs. Aliens        0.0  0.0  0.0  0.0  0.000000   0.0    0.0   0.0   \n",
      "The Bandit Queen           0.0  0.0  0.0  0.0  0.000000   0.0    0.0   0.0   \n",
      "Broken Arrow               0.0  0.0  0.0  0.0  0.000000   0.0    0.0   0.0   \n",
      "Dolemite                   0.0  0.0  0.0  0.0  0.000000   0.0    0.0   0.0   \n",
      "\n",
      "                            11   12  ...  zero  zoe  zola  zombie  zombies  \\\n",
      "Title                                ...                                     \n",
      "The Ballad of Cable Hogue  0.0  0.0  ...   0.0  0.0   0.0     0.0      0.0   \n",
      "Monsters vs. Aliens        0.0  0.0  ...   0.0  0.0   0.0     0.0      0.0   \n",
      "The Bandit Queen           0.0  0.0  ...   0.0  0.0   0.0     0.0      0.0   \n",
      "Broken Arrow               0.0  0.0  ...   0.0  0.0   0.0     0.0      0.0   \n",
      "Dolemite                   0.0  0.0  ...   0.0  0.0   0.0     0.0      0.0   \n",
      "\n",
      "                           zone  zoo  zoological     zorro  zuckerman  \n",
      "Title                                                                  \n",
      "The Ballad of Cable Hogue   0.0  0.0         0.0  0.000000        0.0  \n",
      "Monsters vs. Aliens         0.0  0.0         0.0  0.000000        0.0  \n",
      "The Bandit Queen            0.0  0.0         0.0  0.106494        0.0  \n",
      "Broken Arrow                0.0  0.0         0.0  0.000000        0.0  \n",
      "Dolemite                    0.0  0.0         0.0  0.000000        0.0  \n",
      "\n",
      "[5 rows x 12867 columns]\n"
     ]
    }
   ],
   "source": [
    "from sklearn.feature_extraction.text import TfidfVectorizer\n",
    "\n",
    "# Instantiate the vectorizer object and transform the plot column\n",
    "vectorizer = TfidfVectorizer(max_df=0.7, min_df=2)\n",
    "vectorized_data = vectorizer.fit_transform(df_plots['Plot']) \n",
    "\n",
    "# Create Dataframe from TF-IDFarray\n",
    "#tfidf_df = pd.DataFrame(vectorized_data.toarray(), columns=vectorizer.get_feature_names()) ## Corrected for the updated version\n",
    "tfidf_df = pd.DataFrame(vectorized_data.toarray(), columns=vectorizer.get_feature_names_out())\n",
    "\n",
    "# Assign the movie titles to the index and inspect\n",
    "tfidf_df.index = df_plots['Title']\n",
    "print(tfidf_df.head())"
   ]
  },
  {
   "cell_type": "markdown",
   "id": "c27eed13-485b-4ca2-86d3-0dc27512dc4e",
   "metadata": {},
   "source": [
    "## Comparing all your movies with TF-IDF\n",
    "\n",
    "Now that you have put in the hard work of getting your TF-IDF data into a usable format, it's time to put it to work generating finding similarities and generating recommendations.\n",
    "\n",
    "This time as you are using TF-IDF scores (which are floats as opposed to Booleans) you will use the cosine similarity metric to find the similarities between items. In this exercise, you will generate a matrix of all of the movie cosine similarities and store them in a DataFrame for ease of lookup. This will allow you to compare movies and find recommendations quickly and easily.\n",
    "\n",
    "The tfidf_df DataFrame you created in the last exercise containing a row for each movie has been loaded for you.\n",
    "\n",
    "### Instructions\n",
    "    - Find the cosine similarity measures between all movies and assign the results to cosine_similarity_array.\n",
    "    - Create a DataFrame from the cosine_similarity_array with tfidf_summary_df.index as its rows and columns.\n",
    "    - Print the top five rows of the DataFrame and examine the similarity scores."
   ]
  },
  {
   "cell_type": "code",
   "execution_count": 24,
   "id": "e74ffde8-5a05-4b55-9792-50253b0d0ad8",
   "metadata": {},
   "outputs": [],
   "source": [
    "tfidf_summary_df = tfidf_df"
   ]
  },
  {
   "cell_type": "code",
   "execution_count": 25,
   "id": "c848b099-d02b-4241-89f2-9832f7d9bf72",
   "metadata": {},
   "outputs": [
    {
     "name": "stdout",
     "output_type": "stream",
     "text": [
      "Title                      The Ballad of Cable Hogue  Monsters vs. Aliens  \\\n",
      "Title                                                                       \n",
      "The Ballad of Cable Hogue                   1.000000             0.028441   \n",
      "Monsters vs. Aliens                         0.028441             1.000000   \n",
      "The Bandit Queen                            0.012453             0.017621   \n",
      "Broken Arrow                                0.023429             0.038809   \n",
      "Dolemite                                    0.012980             0.023125   \n",
      "\n",
      "Title                      The Bandit Queen  Broken Arrow  Dolemite  \\\n",
      "Title                                                                 \n",
      "The Ballad of Cable Hogue          0.012453      0.023429  0.012980   \n",
      "Monsters vs. Aliens                0.017621      0.038809  0.023125   \n",
      "The Bandit Queen                   1.000000      0.012407  0.004632   \n",
      "Broken Arrow                       0.012407      1.000000  0.013701   \n",
      "Dolemite                           0.004632      0.013701  1.000000   \n",
      "\n",
      "Title                      The Astounding She-Monster  The Wolf Song  \\\n",
      "Title                                                                  \n",
      "The Ballad of Cable Hogue                    0.038187       0.008889   \n",
      "Monsters vs. Aliens                          0.066625       0.014403   \n",
      "The Bandit Queen                             0.010637       0.052729   \n",
      "Broken Arrow                                 0.025679       0.018230   \n",
      "Dolemite                                     0.006501       0.002061   \n",
      "\n",
      "Title                      Conan the Barbarian  Star Kid  Halloween  ...  \\\n",
      "Title                                                                ...   \n",
      "The Ballad of Cable Hogue             0.020613  0.028757   0.026356  ...   \n",
      "Monsters vs. Aliens                   0.043604  0.058880   0.028349  ...   \n",
      "The Bandit Queen                      0.025402  0.018278   0.017238  ...   \n",
      "Broken Arrow                          0.027254  0.032897   0.026099  ...   \n",
      "Dolemite                              0.030737  0.021017   0.012694  ...   \n",
      "\n",
      "Title                      The Sisterhood of the Traveling Pants 2  \\\n",
      "Title                                                                \n",
      "The Ballad of Cable Hogue                                 0.026715   \n",
      "Monsters vs. Aliens                                       0.044824   \n",
      "The Bandit Queen                                          0.026803   \n",
      "Broken Arrow                                              0.037092   \n",
      "Dolemite                                                  0.010940   \n",
      "\n",
      "Title                      Shield for Murder  Two for the Seesaw  \\\n",
      "Title                                                              \n",
      "The Ballad of Cable Hogue           0.022323            0.029898   \n",
      "Monsters vs. Aliens                 0.021015            0.041246   \n",
      "The Bandit Queen                    0.015266            0.013925   \n",
      "Broken Arrow                        0.023815            0.020893   \n",
      "Dolemite                            0.012211            0.027765   \n",
      "\n",
      "Title                      Tarzan and the Lost Safari  \\\n",
      "Title                                                   \n",
      "The Ballad of Cable Hogue                    0.011584   \n",
      "Monsters vs. Aliens                          0.025070   \n",
      "The Bandit Queen                             0.008860   \n",
      "Broken Arrow                                 0.019569   \n",
      "Dolemite                                     0.008315   \n",
      "\n",
      "Title                      The Nut Job 2: Nutty by Nature  Unknown Island  \\\n",
      "Title                                                                       \n",
      "The Ballad of Cable Hogue                        0.031396        0.040103   \n",
      "Monsters vs. Aliens                              0.045551        0.052202   \n",
      "The Bandit Queen                                 0.016744        0.028900   \n",
      "Broken Arrow                                     0.064618        0.041855   \n",
      "Dolemite                                         0.018803        0.010829   \n",
      "\n",
      "Title                      Boss Nigger  Secret Command  The Monolith Monsters  \\\n",
      "Title                                                                           \n",
      "The Ballad of Cable Hogue     0.044568        0.010396               0.065232   \n",
      "Monsters vs. Aliens           0.025738        0.009485               0.074491   \n",
      "The Bandit Queen              0.038336        0.009885               0.040089   \n",
      "Broken Arrow                  0.021669        0.005233               0.034998   \n",
      "Dolemite                      0.014670        0.003753               0.007722   \n",
      "\n",
      "Title                      Dick Tracy  \n",
      "Title                                  \n",
      "The Ballad of Cable Hogue    0.007656  \n",
      "Monsters vs. Aliens          0.020735  \n",
      "The Bandit Queen             0.001565  \n",
      "Broken Arrow                 0.005826  \n",
      "Dolemite                     0.023323  \n",
      "\n",
      "[5 rows x 1000 columns]\n"
     ]
    }
   ],
   "source": [
    "# Import cosine_similarity measure\n",
    "from sklearn.metrics.pairwise import cosine_similarity\n",
    "\n",
    "# Create the array of cosine similarity values\n",
    "cosine_similarity_array = cosine_similarity(tfidf_summary_df)\n",
    "\n",
    "# Wrap the array in a pandas DataFrame\n",
    "cosine_similarity_df = pd.DataFrame(cosine_similarity_array, index=tfidf_summary_df.index, columns=tfidf_summary_df.index)\n",
    "\n",
    "# Print the top 5 rows of the DataFrame\n",
    "print(cosine_similarity_df.head())"
   ]
  },
  {
   "cell_type": "markdown",
   "id": "8fdf9915-c7f7-4d3b-ae27-c5669dc870a9",
   "metadata": {},
   "source": [
    "## Making recommendations with TF-IDF\n",
    "\n",
    "In the last exercise you pre-calculated the similarity ratings between all movies in the dataset based on their plots transformed by TF-IDF. Now you will put these similarity ratings in a DataFrame for ease of use. Then you will use this new DataFrame to suggest a movie recommendation.\n",
    "\n",
    "The cosine_similarity_array containing a matrix of the similarity values between all movies that you created in the last exercise has been loaded for you. The tfidf_summary_df DataFrame containing the movies and their TF-IDF features is also available.\n",
    "\n",
    "### Instructions 1/2\n",
    "    - Generate a DataFrame from cosine_similarity_array.\n",
    "    - Store the cosine similarity values between the movie Rio and all other movies as a Series.\n",
    "    - Sort these from largest to smallest in ordered_similarities and print the ordered results."
   ]
  },
  {
   "cell_type": "code",
   "execution_count": null,
   "id": "b0bc1e43-04d9-4e79-8429-9c389d4dd064",
   "metadata": {},
   "outputs": [],
   "source": [
    "# Wrap the preloaded array in a DataFrame\n",
    "cosine_similarity_df = pd.DataFrame(cosine_similarity_array, index=tfidf_summary_df.index, columns=tfidf_summary_df.index)\n",
    "\n",
    "# Find the values for the movie Rio\n",
    "cosine_similarity_series = cosine_similarity_df.loc['Rio']\n",
    "\n",
    "# Sort these values highest to lowest\n",
    "ordered_similarities = cosine_similarity_series.sort_values(ascending=False)\n",
    "\n",
    "# Print the results\n",
    "print(ordered_similarities)"
   ]
  },
  {
   "cell_type": "markdown",
   "id": "5bb067a2-ae6b-489d-afb8-575cf29e0eb0",
   "metadata": {},
   "source": [
    "## Build the user profiles\n",
    "\n",
    "You are now able to generate suggestions for similar items based on their labeled features or based on their descriptions. But sometimes finding similar items might not be enough. In the next exercises, you will work through how one could create recommendations based on a user and all the items they liked as opposed to a singular item. You will first generate a profile for a user by aggregating all of the movies they have previously enjoyed.\n",
    "\n",
    "The tfidf_summary_df you have been working on in the last few exercises has been loaded for you. This contains a row per movie with their titles as the index and a column for each feature containing their respective TF-IDF score.\n",
    "\n",
    "### Instructions 1/2\n",
    "    - Create a subset of the tfidf_summary_df that contains only rows corresponding to the supplied list_of_movies_enjoyed list."
   ]
  },
  {
   "cell_type": "code",
   "execution_count": null,
   "id": "987cb642-3edd-4ec6-80d6-b9d6577a3c48",
   "metadata": {},
   "outputs": [],
   "source": [
    "list_of_movies_enjoyed = ['Captain America: The First Avenger', 'Green Lantern', 'The Avengers']\n",
    "\n",
    "# Create a subset of only the movies the user has enjoyed\n",
    "movies_enjoyed_df = tfidf_summary_df.reindex(list_of_movies_enjoyed)\n",
    "\n",
    "# Inspect the DataFrame\n",
    "print(movies_enjoyed_df)"
   ]
  },
  {
   "cell_type": "markdown",
   "id": "a149501d-f048-4241-8909-abde7b857862",
   "metadata": {},
   "source": [
    "### Instructions 2/2\n",
    "    - Generate the user profile by finding the average TF-IDF scores of each of the features of the movies contained in movies_enjoyed_df.\n",
    "    - Inspect the results."
   ]
  },
  {
   "cell_type": "code",
   "execution_count": null,
   "id": "b7f44f59-d5e5-4154-b41c-8330a81ca799",
   "metadata": {},
   "outputs": [],
   "source": [
    "list_of_movies_enjoyed = ['Captain America: The First Avenger', 'Green Lantern', 'The Avengers']\n",
    "\n",
    "# Create a subset of only the movies the user has enjoyed\n",
    "movies_enjoyed_df = tfidf_summary_df.reindex(list_of_movies_enjoyed)\n",
    "\n",
    "# Generate the user profile by finding the average scores of movies they enjoyed\n",
    "user_prof = movies_enjoyed_df.mean()\n",
    "\n",
    "# Inspect the results\n",
    "print(user_prof)"
   ]
  },
  {
   "cell_type": "markdown",
   "id": "83b0978a-a4db-4267-937b-b369e25bcf82",
   "metadata": {},
   "source": [
    "## User profile based recommendations\n",
    "\n",
    "Now that you have built the user profile based on the aggregate of the individual movies they enjoyed, you can compare it to the larger tfidf_summary_df DataFrame that you have been working with to generate suggestions. As you would not want to suggest movies that the user has already watched, you will first find a subset of the tfidf_summary_df DataFrame that does not contain any of the previously watched movies.\n",
    "\n",
    "The DataFrame user_prof that you generated in the last exercise that contains a single column representing the user has been loaded for you. Similarly, the list_of_movies_enjoyed has been loaded so you can exclude them from the predictions.\n",
    "\n",
    "### Instructions 1/3\n",
    "    - Find the subset of tfidf_df that does not include movies in list_of_movies_enjoyed and assign it to tfidf_subset_df."
   ]
  },
  {
   "cell_type": "code",
   "execution_count": null,
   "id": "63452de6-45fc-4291-b71f-c97f878011cc",
   "metadata": {},
   "outputs": [],
   "source": [
    "from sklearn.metrics.pairwise import cosine_similarity\n",
    "\n",
    "# Find subset of tfidf_df that does not include movies in list_of_movies_enjoyed\n",
    "tfidf_subset_df = tfidf_df.drop(list_of_movies_enjoyed, axis=0)"
   ]
  },
  {
   "cell_type": "markdown",
   "id": "eb84f68e-1fff-4c7b-aa0c-a9738074d6bd",
   "metadata": {},
   "source": [
    "### Instructions 2/3\n",
    "    - Calculate the cosine_similarity between the user profile contained in user_prof and all the movie profiles in tfidf_subset_df.\n",
    "    - Wrap the similarity_array in a DataFrame, assigning it the same index as tfidf_subset_df."
   ]
  },
  {
   "cell_type": "code",
   "execution_count": null,
   "id": "95f36723-312e-48a0-818e-6267f4508bc1",
   "metadata": {},
   "outputs": [],
   "source": [
    "from sklearn.metrics.pairwise import cosine_similarity\n",
    "\n",
    "# Find subset of tfidf_df that does not include movies in list_of_movies_enjoyed\n",
    "tfidf_subset_df = tfidf_df.drop(list_of_movies_enjoyed, axis=0)\n",
    "\n",
    "# Calculate the cosine_similarity and wrap it in a DataFrame\n",
    "similarity_array = cosine_similarity(user_prof.values.reshape(1, -1), tfidf_subset_df)\n",
    "similarity_df = pd.DataFrame(similarity_array.T, index=tfidf_subset_df.index, columns=[\"similarity_score\"])"
   ]
  },
  {
   "cell_type": "markdown",
   "id": "ad1c24ce-12fb-41ad-86ae-42c076fd361a",
   "metadata": {},
   "source": [
    "### Instructions 3/3\n",
    "    - Sort the results from high to low and take a look at the movies most similar to the user's likes."
   ]
  },
  {
   "cell_type": "code",
   "execution_count": null,
   "id": "cd1816c5-6107-42f5-8c46-aa66d9f6dcb3",
   "metadata": {},
   "outputs": [],
   "source": [
    "from sklearn.metrics.pairwise import cosine_similarity\n",
    "\n",
    "# Find subset of tfidf_df that does not include movies in list_of_movies_enjoyed\n",
    "tfidf_subset_df = tfidf_df.drop(list_of_movies_enjoyed, axis=0)\n",
    "\n",
    "# Calculate the cosine_similarity and wrap it in a DataFrame\n",
    "similarity_array = cosine_similarity(user_prof.values.reshape(1, -1), tfidf_subset_df)\n",
    "similarity_df = pd.DataFrame(similarity_array.T, index=tfidf_subset_df.index, columns=[\"similarity_score\"])\n",
    "\n",
    "# Sort the values from high to low by the values in the similarity_score\n",
    "sorted_similarity_df = similarity_df.sort_values(by=\"similarity_score\", ascending=False)\n",
    "\n",
    "# Inspect the most similar to the user preferences\n",
    "print(sorted_similarity_df.head())"
   ]
  }
 ],
 "metadata": {
  "kernelspec": {
   "display_name": "Python 3 (ipykernel)",
   "language": "python",
   "name": "python3"
  },
  "language_info": {
   "codemirror_mode": {
    "name": "ipython",
    "version": 3
   },
   "file_extension": ".py",
   "mimetype": "text/x-python",
   "name": "python",
   "nbconvert_exporter": "python",
   "pygments_lexer": "ipython3",
   "version": "3.11.6"
  }
 },
 "nbformat": 4,
 "nbformat_minor": 5
}
