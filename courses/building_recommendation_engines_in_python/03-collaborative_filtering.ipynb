{
 "cells": [
  {
   "cell_type": "markdown",
   "id": "3991b796-e8c2-47fb-9a7e-a006896fc137",
   "metadata": {},
   "source": [
    "## Pivoting your data\n",
    "\n",
    "In this chapter, you will go one step further in generating personalized recommendations — you will find items that users, similar to the one you are making recommendations for, have liked.\n",
    "\n",
    "The first step you will need to start with is formatting your data. You begin with a dataset containing users and their ratings as individual rows with the following columns:\n",
    "\n",
    "    user: User ID\n",
    "    title: Title of the movie\n",
    "    rating: Rating the user gave the movie\n",
    "\n",
    "You will need to transform the DataFrame into a user rating matrix where each row represents a user, and each column represents the movies on the platform. This will allow you to easily compare users and their preferences.\n",
    "\n",
    "### Instructions 1/3\n",
    "    - Inspect the first five rows of the user_ratings DataFrame to observe which columns would be most appropriate to pivot the data around."
   ]
  },
  {
   "cell_type": "code",
   "execution_count": null,
   "id": "521508b9-6e3a-475e-9e87-b590eed3921f",
   "metadata": {},
   "outputs": [],
   "source": [
    "# Inspect the first 5 rows of user_ratings\n",
    "print(user_ratings.head())"
   ]
  },
  {
   "cell_type": "markdown",
   "id": "941ab776-10cb-4893-9f0f-9368dc1b38e7",
   "metadata": {},
   "source": [
    "### Instructions 3/3\n",
    "    - Transform the user_ratings DataFrame to a DataFrame containing ratings with one row per user and one column per movie and call it user_ratings_table"
   ]
  },
  {
   "cell_type": "code",
   "execution_count": null,
   "id": "57b92e22-357f-4815-91f2-834db5f61108",
   "metadata": {},
   "outputs": [],
   "source": [
    "# Transform the table\n",
    "user_ratings_table = user_ratings.pivot(index='userId', columns='title', values='rating')\n",
    "# Inspect the transformed table\n",
    "print(user_ratings_table.head())"
   ]
  },
  {
   "cell_type": "markdown",
   "id": "b3dc6bdd-3f77-48b5-926e-518470bd108b",
   "metadata": {},
   "source": [
    "## Challenges with missing values\n",
    "\n",
    "You may have noticed that the pivoted DataFrames you have been working with often have missing data. This is to be expected since users rarely see all movies, and most movies are not seen by everyone, resulting in gaps in the user-rating matrix.\n",
    "\n",
    "In this exercise, you will explore another subset of the user ratings table user_ratings_subset that has missing values and observe how different approaches in dealing with missing data may impact its usability.\n",
    "\n",
    "### Instructions 2/3\n",
    "    - Fill the gaps in the user_ratings_subset with zeros.\n",
    "    - Print and inspect the results."
   ]
  },
  {
   "cell_type": "code",
   "execution_count": null,
   "id": "66d91a2d-fd60-4e95-af10-d64910de251d",
   "metadata": {},
   "outputs": [],
   "source": [
    "# Fill in missing values with 0\n",
    "user_ratings_table_filled = user_ratings_subset.fillna(0)\n",
    "\n",
    "# Inspect the result\n",
    "print(user_ratings_table_filled)"
   ]
  },
  {
   "cell_type": "markdown",
   "id": "7d112b63-3a78-4de7-8d5d-1b20c3ad4ac6",
   "metadata": {},
   "source": [
    "## Compensating for incomplete data\n",
    "\n",
    "For most datasets, the majority of users will have rated only a small number of items. As you saw in the last exercise, how you deal with users who do not have ratings for an item can greatly influence the validity of your models.\n",
    "\n",
    "In this exercise, you will fill in missing data with information that should not bias the data that you do have.\n",
    "\n",
    "You'll get the average score each user has given across all their ratings, and then use this average to center the users' scores around zero. Finally, you'll be able to fill in the empty values with zeros, which is now a neutral score, minimizing the impact on their overall profile, but still allowing the comparison of users.\n",
    "\n",
    "user_ratings_table with a row per user has been loaded for you.\n",
    "\n",
    "### Instructions\n",
    "    - Find the average of the ratings given by each user in user_ratings_table and store them as avg_ratings.\n",
    "    - Subtract the row averages from each row in user_ratings_table, and store it as user_ratings_table_centered.\n",
    "    - Fill the empty values in the newly created user_ratings_table_centered with zeros."
   ]
  },
  {
   "cell_type": "code",
   "execution_count": null,
   "id": "70c06f19-20a7-4124-b12a-6e73836789c1",
   "metadata": {},
   "outputs": [],
   "source": [
    "# Get the average rating for each user \n",
    "avg_ratings = user_ratings_table.mean(axis=1)\n",
    "\n",
    "# Center each users ratings around 0\n",
    "user_ratings_table_centered = user_ratings_table.sub(avg_ratings, axis=0)\n",
    "\n",
    "# Fill in the missing data with 0s\n",
    "user_ratings_table_normed = user_ratings_table_centered.fillna(0)"
   ]
  },
  {
   "cell_type": "markdown",
   "id": "a14533f9-a3ec-42df-8858-fcccbfbbc9cc",
   "metadata": {},
   "source": [
    "## User-based to item-based\n",
    "\n",
    "By now you have a dataset with no empty values that is primed for use.\n",
    "\n",
    "In the preceding video, you learned about both user-based recommendations and item-based recommendations. User-based recommendations compare amongst users, and item-based recommendations compare different items.\n",
    "\n",
    "In other words, you could use user-based data to find similar users based on how they rated different movies, while you could use item-based data to find similar movies based on how they have been rated by the users.\n",
    "\n",
    "In this exercise, you will switch between the two and compare their values.\n",
    "\n",
    "user_ratings_subset, a subset of the user-based DataFrame you have been working with, has been loaded for you.\n",
    "\n",
    "### Instructions 2/3\n",
    "    - Transpose the user_ratings_subset table so that it is indexed by the movies and store the result as movie_ratings_subset."
   ]
  },
  {
   "cell_type": "code",
   "execution_count": null,
   "id": "25fd14ba-a5ea-4963-a976-f26d88feaf58",
   "metadata": {},
   "outputs": [],
   "source": [
    "# Transpose the user_ratings_subset DataFrame\n",
    "movie_ratings_subset = user_ratings_subset.T\n",
    "\n",
    "print(movie_ratings_subset)"
   ]
  },
  {
   "cell_type": "markdown",
   "id": "ea29ad2d-b127-4768-9d25-27bdfe22e5b8",
   "metadata": {},
   "source": [
    "## Similar and different movie ratings\n",
    "\n",
    "Some types of movies might be liked by one group of people, but hated by another. This might reflect the type of movie far more than its quality. Take, for example, horror movies — many people absolutely love them, while others hate them.\n",
    "\n",
    "By understanding which movies were reviewed in a similar way, we can often find very similar movies.\n",
    "\n",
    "In this exercise, you will compare movies and see whether they have received similar reviewing patterns.\n",
    "\n",
    "The DataFrame movie_ratings_centered has been loaded with a row per movie, and the centered ratings it received as the values.\n",
    "\n",
    "### Instructions 1/2\n",
    "    - Assign the values for Star Wars: Episode IV and Star Wars: Episode V to sw_IV and sw_V.\n",
    "    - Find their cosine similarity."
   ]
  },
  {
   "cell_type": "code",
   "execution_count": null,
   "id": "5c2fdf07-6276-4ed1-9543-07e04ad5d138",
   "metadata": {},
   "outputs": [],
   "source": [
    "from sklearn.metrics.pairwise import cosine_similarity\n",
    "\n",
    "# Assign the arrays to variables\n",
    "sw_IV = movie_ratings_centered.loc['Star Wars: Episode IV - A New Hope (1977)', :].values.reshape(1, -1)\n",
    "sw_V = movie_ratings_centered.loc['Star Wars: Episode V - The Empire Strikes Back (1980)', :].values.reshape(1, -1)\n",
    "\n",
    "# Find the similarity between two Star Wars movies\n",
    "similarity_A = cosine_similarity(sw_IV, sw_V)\n",
    "print(similarity_A)"
   ]
  },
  {
   "cell_type": "markdown",
   "id": "ca67957e-d33b-450e-a71f-4ba635642df4",
   "metadata": {},
   "source": [
    "### Instructions 2/2\n",
    "    - Find the cosine similarity between the ratings for Jurassic Park (jurassic_park) and Pulp Fiction (pulp_fiction)."
   ]
  },
  {
   "cell_type": "code",
   "execution_count": null,
   "id": "d5bf52de-32e5-4756-913a-e8a68ef3a8ce",
   "metadata": {},
   "outputs": [],
   "source": [
    "from sklearn.metrics.pairwise import cosine_similarity\n",
    "\n",
    "# Assign the arrays to variables\n",
    "sw_IV = movie_ratings_centered.loc['Star Wars: Episode IV - A New Hope (1977)', :].values.reshape(1, -1)\n",
    "sw_V = movie_ratings_centered.loc['Star Wars: Episode V - The Empire Strikes Back (1980)', :].values.reshape(1, -1)\n",
    "\n",
    "# Find the similarity between two Star Wars movies\n",
    "similarity_A = cosine_similarity(sw_IV, sw_V)\n",
    "\n",
    "# Assign the arrays to variables\n",
    "jurassic_park = movie_ratings_centered.loc['Jurassic Park (1993)', :].values.reshape(1, -1)\n",
    "pulp_fiction = movie_ratings_centered.loc['Pulp Fiction (1994)', :].values.reshape(1, -1)\n",
    "\n",
    "# Find the similarity between Pulp Fiction and Jurassic Park\n",
    "similarity_B = cosine_similarity(jurassic_park, pulp_fiction)\n",
    "print(similarity_B)"
   ]
  },
  {
   "cell_type": "markdown",
   "id": "d8f277ef-741c-4ec6-ba13-7ad34d51f23e",
   "metadata": {},
   "source": [
    "## Finding similarly liked movies\n",
    "\n",
    "Just like you calculated the similarity between two movies, you can calculate it across all users to find the most similar movie to another based on how users have rated them.\n",
    "\n",
    "The approach is similar to how you worked with content-based filtering.\n",
    "\n",
    "You will find the similarity scores between all movies and then drill down on the movie of interest by isolating and sorting the column containing its similarity scores.\n",
    "\n",
    "movie_ratings_centered has once again been loaded, containing each movie as a row, and their centered ratings stored as the values.\n",
    "\n",
    "### Instructions\n",
    "    - Calculate the similarity matrix between all movies in movie_ratings_centered and store it as similarities.\n",
    "    - Wrap the similarities matrix in a DataFrame, with the indices of movie_ratings_centered as the columns and rows."
   ]
  },
  {
   "cell_type": "code",
   "execution_count": null,
   "id": "c98d6527-fc8d-411a-a438-d4eba18f83e7",
   "metadata": {},
   "outputs": [],
   "source": []
  }
 ],
 "metadata": {
  "kernelspec": {
   "display_name": "Python 3 (ipykernel)",
   "language": "python",
   "name": "python3"
  },
  "language_info": {
   "codemirror_mode": {
    "name": "ipython",
    "version": 3
   },
   "file_extension": ".py",
   "mimetype": "text/x-python",
   "name": "python",
   "nbconvert_exporter": "python",
   "pygments_lexer": "ipython3",
   "version": "3.11.6"
  }
 },
 "nbformat": 4,
 "nbformat_minor": 5
}
