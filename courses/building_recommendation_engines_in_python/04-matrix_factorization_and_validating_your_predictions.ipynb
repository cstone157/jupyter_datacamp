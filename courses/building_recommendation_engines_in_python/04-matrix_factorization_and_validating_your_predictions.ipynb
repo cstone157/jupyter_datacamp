{
 "cells": [
  {
   "cell_type": "markdown",
   "id": "b1ebc463-ecaf-4cf8-bc3e-f2c5f4aa0657",
   "metadata": {},
   "source": [
    "## Matrix sparsity\n",
    "\n",
    "A common challenge with real-world ratings data is that most users will not have rated most items, and most items will only have been rated by a small number of users. This results in a very empty or sparse DataFrame.\n",
    "\n",
    "In this exercise, you will calculate how sparse the movie_lens ratings data is by counting the number of occupied cells and compare it to the size of the full DataFrame. The DataFrame user_ratings_df that you have used in previous exercises, containing a row per user and a column per movie, has been loaded for you.\n",
    "\n",
    "### Instructions\n",
    "    - Count the number of non-empty cells in user_ratings_df and store the result as sparsity_count.\n",
    "    - Count the total number of cells in the user_ratings_df DataFrame and store it as full_count.\n",
    "    - Calculate the sparsity of the DataFrame by dividing the number of non-empty cells by the total number of cells and print the result."
   ]
  },
  {
   "cell_type": "code",
   "execution_count": null,
   "id": "559a4ad9-d5cf-469d-9c6d-7da18ad9282f",
   "metadata": {},
   "outputs": [],
   "source": [
    "# Count the occupied cells\n",
    "sparsity_count = user_ratings_df.isnull().values.sum()\n",
    "\n",
    "# Count all cells\n",
    "full_count = user_ratings_df.size\n",
    "\n",
    "# Find the sparsity of the DataFrame\n",
    "sparsity = sparsity_count / full_count\n",
    "print(sparsity)"
   ]
  },
  {
   "cell_type": "markdown",
   "id": "4de2e8bb-3671-4e09-b1fa-877882f6c745",
   "metadata": {},
   "source": [
    "## Limited data in your rows\n",
    "\n",
    "This data sparsity can cause an issue when using techniques like K-nearest neighbors as discussed in the last chapter. KNN needs to find the k most similar users that have rated an item, but if only less than or equal to k users have given an item the rating, all ratings will be the \"most similar\".\n",
    "\n",
    "In this exercise, you will count how often each movie in the user_ratings_df DataFrame has been given a rating, and then see how many have only one or two ratings.\n",
    "\n",
    "### Instructions 1/3\n",
    "    - Count the number of non-empty cells in each column of user_ratings_df and store it as occupied_count."
   ]
  },
  {
   "cell_type": "code",
   "execution_count": null,
   "id": "9b123322-7ed9-4571-b2c0-108899332e4e",
   "metadata": {},
   "outputs": [],
   "source": [
    "# Count the occupied cells per column\n",
    "occupied_count = user_ratings_df.notnull().sum()\n",
    "print(occupied_count)"
   ]
  },
  {
   "cell_type": "markdown",
   "id": "a190be86-9fe6-4ac4-a922-6f41681d271e",
   "metadata": {},
   "source": [
    "### Instructions 2/3\n",
    "    - Sort occupied_count from low to high. Looking at the resulting sorted Series, note the number of movies with one review."
   ]
  },
  {
   "cell_type": "code",
   "execution_count": null,
   "id": "762fafa5-92a7-490f-be6c-c155b21855f3",
   "metadata": {},
   "outputs": [],
   "source": [
    "# Count the occupied cells per column\n",
    "occupied_count = user_ratings_df.notnull().sum()\n",
    "\n",
    "# Sort the resulting series from low to high\n",
    "sorted_occupied_count = occupied_count.sort_values()\n",
    "print(sorted_occupied_count)"
   ]
  },
  {
   "cell_type": "markdown",
   "id": "67498b92-f0cd-484a-8940-2ae2fb12df11",
   "metadata": {},
   "source": [
    "### Instructions 3/3\n",
    "    - Create a histogram of the sorted_occupied_count Series you just created. matplotlib.pyplothas been loaded as plt."
   ]
  },
  {
   "cell_type": "code",
   "execution_count": null,
   "id": "dfae461a-c99f-4d38-905c-cc941ddd63e0",
   "metadata": {},
   "outputs": [],
   "source": [
    "# Count the occupied cells per column\n",
    "occupied_count = user_ratings_df.notnull().sum()\n",
    "\n",
    "# Sort the resulting series from low to high\n",
    "sorted_occupied_count = occupied_count.sort_values()\n",
    "\n",
    "# Plot a histogram of the values in sorted_occupied_count\n",
    "sorted_occupied_count.hist()\n",
    "plt.show()"
   ]
  },
  {
   "cell_type": "markdown",
   "id": "f535e480-bb6d-463e-9207-2ec1e7877f9c",
   "metadata": {},
   "source": [
    "## Information loss in factorization\n",
    "\n",
    "You may wonder how the factors with far fewer columns can summarize a larger DataFrame without loss. In fact, it doesn't — the factors we create are generally a close approximation of the data, as it is inevitable for some information to be lost. This means that predicted values might not be exact, but should be close enough to be useful.\n",
    "\n",
    "In this exercise, you will inspect the same original pre-factorization DataFrame from the last exercise loaded as original_df, and compare it to the product of its two factors, user_matrix and item_matrix.\n",
    "\n",
    "### Instructions\n",
    "    - Find the dot product of user_matrix and item_matrix and store it as predictions_df."
   ]
  },
  {
   "cell_type": "code",
   "execution_count": null,
   "id": "22a81176-5f4e-4b37-bdb8-77f120384f6f",
   "metadata": {},
   "outputs": [],
   "source": [
    "import numpy as np\n",
    "\n",
    "# Multiply the user and item matrices\n",
    "predictions_df = np.dot(user_matrix, item_matrix)\n",
    "# Inspect the recreated DataFrame\n",
    "print(predictions_df)\n",
    "\n",
    "# Inspect the original DataFrame and compare\n",
    "print(original_df)"
   ]
  },
  {
   "cell_type": "markdown",
   "id": "7b111c05-9360-4fc5-a246-d84d0d44afbd",
   "metadata": {},
   "source": [
    "## Normalize your data\n",
    "\n",
    "Before you can find the factors of the ratings matrix using singular value decomposition, you will need to \"de-mean\", or center it, by subtracting each row's mean from each value in that row.\n",
    "\n",
    "In this exercise, you will begin prepping the movie rating DataFrame you have been working with in order to be able to perform Singular value decomposition.\n",
    "\n",
    "user_ratings_df contains a row per user and a column for each movie and has been loaded for you.\n",
    "\n",
    "### Instructions\n",
    "    - Find the average rating each user has given across all the movies they have seen and store these values as avg_ratings.\n",
    "    - Subtract the row averages from their respective rows and store the result as user_ratings_centered.\n",
    "    - Finally, fill in all missing values in user_ratings_centered with zeros.\n",
    "    - Print the average of each column in user_ratings_centered to show they have been de-meaned."
   ]
  },
  {
   "cell_type": "code",
   "execution_count": null,
   "id": "e4a184e5-ca32-4a8b-abb0-483d83df1606",
   "metadata": {},
   "outputs": [],
   "source": [
    "# Get the average rating for each user \n",
    "avg_ratings = user_ratings_df.mean(axis=1)\n",
    "\n",
    "# Center each user's ratings around 0\n",
    "user_ratings_centered = user_ratings_df.sub(avg_ratings, axis=1)\n",
    "\n",
    "# Fill in all missing values with 0s\n",
    "user_ratings_centered.fillna(0, inplace=True)\n",
    "\n",
    "# Print the mean of each column\n",
    "print(user_ratings_centered.mean(axis=1))"
   ]
  }
 ],
 "metadata": {
  "kernelspec": {
   "display_name": "Python 3 (ipykernel)",
   "language": "python",
   "name": "python3"
  },
  "language_info": {
   "codemirror_mode": {
    "name": "ipython",
    "version": 3
   },
   "file_extension": ".py",
   "mimetype": "text/x-python",
   "name": "python",
   "nbconvert_exporter": "python",
   "pygments_lexer": "ipython3",
   "version": "3.11.6"
  }
 },
 "nbformat": 4,
 "nbformat_minor": 5
}
