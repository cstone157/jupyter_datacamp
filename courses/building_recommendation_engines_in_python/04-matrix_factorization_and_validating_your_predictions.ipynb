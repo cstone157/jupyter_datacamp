{
 "cells": [
  {
   "cell_type": "markdown",
   "id": "b1ebc463-ecaf-4cf8-bc3e-f2c5f4aa0657",
   "metadata": {},
   "source": [
    "## Matrix sparsity\n",
    "\n",
    "A common challenge with real-world ratings data is that most users will not have rated most items, and most items will only have been rated by a small number of users. This results in a very empty or sparse DataFrame.\n",
    "\n",
    "In this exercise, you will calculate how sparse the movie_lens ratings data is by counting the number of occupied cells and compare it to the size of the full DataFrame. The DataFrame user_ratings_df that you have used in previous exercises, containing a row per user and a column per movie, has been loaded for you.\n",
    "\n",
    "### Instructions\n",
    "    - Count the number of non-empty cells in user_ratings_df and store the result as sparsity_count.\n",
    "    - Count the total number of cells in the user_ratings_df DataFrame and store it as full_count.\n",
    "    - Calculate the sparsity of the DataFrame by dividing the number of non-empty cells by the total number of cells and print the result."
   ]
  },
  {
   "cell_type": "code",
   "execution_count": null,
   "id": "559a4ad9-d5cf-469d-9c6d-7da18ad9282f",
   "metadata": {},
   "outputs": [],
   "source": [
    "# Count the occupied cells\n",
    "sparsity_count = user_ratings_df.isnull().values.sum()\n",
    "\n",
    "# Count all cells\n",
    "full_count = user_ratings_df.size\n",
    "\n",
    "# Find the sparsity of the DataFrame\n",
    "sparsity = sparsity_count / full_count\n",
    "print(sparsity)"
   ]
  },
  {
   "cell_type": "markdown",
   "id": "4de2e8bb-3671-4e09-b1fa-877882f6c745",
   "metadata": {},
   "source": [
    "## Limited data in your rows\n",
    "\n",
    "This data sparsity can cause an issue when using techniques like K-nearest neighbors as discussed in the last chapter. KNN needs to find the k most similar users that have rated an item, but if only less than or equal to k users have given an item the rating, all ratings will be the \"most similar\".\n",
    "\n",
    "In this exercise, you will count how often each movie in the user_ratings_df DataFrame has been given a rating, and then see how many have only one or two ratings.\n",
    "\n",
    "### Instructions 1/3\n",
    "    - Count the number of non-empty cells in each column of user_ratings_df and store it as occupied_count."
   ]
  },
  {
   "cell_type": "code",
   "execution_count": null,
   "id": "9b123322-7ed9-4571-b2c0-108899332e4e",
   "metadata": {},
   "outputs": [],
   "source": [
    "# Count the occupied cells per column\n",
    "occupied_count = user_ratings_df.notnull().sum()\n",
    "print(occupied_count)"
   ]
  },
  {
   "cell_type": "markdown",
   "id": "a190be86-9fe6-4ac4-a922-6f41681d271e",
   "metadata": {},
   "source": [
    "### Instructions 2/3\n",
    "    - "
   ]
  },
  {
   "cell_type": "code",
   "execution_count": null,
   "id": "762fafa5-92a7-490f-be6c-c155b21855f3",
   "metadata": {},
   "outputs": [],
   "source": []
  },
  {
   "cell_type": "markdown",
   "id": "67498b92-f0cd-484a-8940-2ae2fb12df11",
   "metadata": {},
   "source": []
  },
  {
   "cell_type": "code",
   "execution_count": null,
   "id": "dfae461a-c99f-4d38-905c-cc941ddd63e0",
   "metadata": {},
   "outputs": [],
   "source": []
  }
 ],
 "metadata": {
  "kernelspec": {
   "display_name": "Python 3 (ipykernel)",
   "language": "python",
   "name": "python3"
  },
  "language_info": {
   "codemirror_mode": {
    "name": "ipython",
    "version": 3
   },
   "file_extension": ".py",
   "mimetype": "text/x-python",
   "name": "python",
   "nbconvert_exporter": "python",
   "pygments_lexer": "ipython3",
   "version": "3.11.6"
  }
 },
 "nbformat": 4,
 "nbformat_minor": 5
}
