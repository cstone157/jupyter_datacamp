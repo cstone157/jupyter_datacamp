{
 "cells": [
  {
   "cell_type": "markdown",
   "id": "44597fab-f02f-4f3e-93f6-402f9c8bd349",
   "metadata": {},
   "source": [
    "## Leveraging micro-partitions and data clustering\n",
    "\n",
    "During a quick chat in the hall with your Lead Data Engineer, she shared with you that Snowflake is using data clustering to sort data within micro-partitions by the year field in the olympic_medals table. You have a few queries that you regularly execute against this table, which you'd like to update to better take advantage of Snowflake's micro-partitions and data clustering.\n",
    "\n",
    "The create_engine function from the sqlalchemy module has been imported, and a connection object has been created and stored in the variable conn.\n",
    "\n",
    "### Instructions\n",
    "    - Update the Snowflake query to only return records for games that took place in 2000 later.\n",
    "    - Return the results of the Snowflake query as a pandas DataFrame, and print the result set."
   ]
  },
  {
   "cell_type": "code",
   "execution_count": null,
   "id": "b3e05dfd-b29a-4a6e-8e31-1f05f587993d",
   "metadata": {},
   "outputs": [],
   "source": [
    "# Leverage the existing micro-partitions and data clustering\n",
    "query = \"\"\"\n",
    "SELECT\n",
    "\tteam,\n",
    "    year,\n",
    "    sport,\n",
    "    event,\n",
    "    medal\n",
    "FROM olympic_medals\n",
    "WHERE year >= 2000;\n",
    "\"\"\"\n",
    "\n",
    "# Execute the query, print the results\n",
    "results = conn.cursor().execute(query).fetch_pandas_all()\n",
    "print(results)"
   ]
  },
  {
   "cell_type": "markdown",
   "id": "adfe2c01-d4ed-4127-b818-c78b2aa7224b",
   "metadata": {},
   "source": [
    "## Querying semi-structured data in Snowflake\n",
    "\n",
    "With Snowflake, semi-structured data can be stored in its most raw form. Here, information about a handful of Olympic host cities is stored in the city_meta column of the host_cities table. This column takes type VARIANT, allowing for unstructured data to be stored in this single column. The data takes the form below:\n",
    "\n",
    "<br/>![](../../imgs/2_4-Exercises.png)<br/>\n",
    "\n",
    "Snowflake table with a single column of type VARIANT.\n",
    "\n",
    "In this exercise, you'll practice querying this data using both bracket and dot notations. A connection object conn for the olympics database has been created for you. Good luck!\n",
    "\n",
    "### Instructions\n",
    "    - Use dot-notation to retrieve the city field from the city_meta column in the host_cities table.\n",
    "    - Use dot-notation to query the nested country field from the city_meta column in the host_cities table."
   ]
  },
  {
   "cell_type": "code",
   "execution_count": null,
   "id": "e23438cf-f48a-428a-9bd7-8d0c307811fb",
   "metadata": {},
   "outputs": [],
   "source": [
    "# Build a query to pull city and country names\n",
    "query = \"\"\"\n",
    "SELECT\n",
    "\tcity_meta:city,\n",
    "    city_meta:country\n",
    "FROM host_cities;\n",
    "\"\"\"\n",
    "\n",
    "# Execute query and output results\n",
    "results = conn.cursor().execute(query).fetch_pandas_all()\n",
    "print(results)"
   ]
  },
  {
   "cell_type": "markdown",
   "id": "783ac5a8-9e95-49bf-b0ad-71eda1b89ae3",
   "metadata": {},
   "source": [
    "## Querying nested semi-structured data\n",
    "\n",
    "Within columns of type VARIANT, data can often be nested, as we see in the city_meta column of the host_cities table below.\n",
    "\n",
    "<br/>![](../../imgs/2_4-Exercises-2.png)<br/>\n",
    "\n",
    "Snowflake table with a single column of type VARIANT.\n",
    "\n",
    "A Snowflake connection object to the database olympics has been created, and is available in the variable conn. Happy querying!\n",
    "\n",
    "### Instructions\n",
    "    - Using dot notation, complete the query to extract data from the nested lat field in the coordinates object.\n",
    "    - Query the nested long field from the coordinates object in the city_meta column.\n",
    "    - Execute the query, and print the results."
   ]
  },
  {
   "cell_type": "code",
   "execution_count": null,
   "id": "558d371f-f599-4d50-8c70-524c4bccd6af",
   "metadata": {},
   "outputs": [],
   "source": [
    "# Build a query to extract nested location coordinates\n",
    "query = \"\"\"\n",
    "SELECT\n",
    "\tcity_meta:coordinates.lat,\n",
    "    city_meta:coordinates.long\n",
    "FROM host_cities;\n",
    "\"\"\"\n",
    "\n",
    "# Execute the query and output the results\n",
    "results = conn.cursor().execute(query).fetch_pandas_all()\n",
    "print(results)"
   ]
  }
 ],
 "metadata": {
  "kernelspec": {
   "display_name": "Julia 1.9.3",
   "language": "julia",
   "name": "julia-1.9"
  },
  "language_info": {
   "file_extension": ".jl",
   "mimetype": "application/julia",
   "name": "julia",
   "version": "1.9.3"
  }
 },
 "nbformat": 4,
 "nbformat_minor": 5
}
