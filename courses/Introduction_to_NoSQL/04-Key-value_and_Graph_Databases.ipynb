{
 "cells": [
  {
   "cell_type": "markdown",
   "id": "033b9299-bb31-4a10-adb5-10347d0bd344",
   "metadata": {},
   "source": [
    "## Connecting to a Redis cluster\n",
    "\n",
    "You'll use Python to store and retrieve key-value data with Redis. In this exercises, you'll explore the basics of connecting to a Redis cluster running locally. Good luck!\n",
    "\n",
    "### Instructions\n",
    "    - Import the appropriate library to work with Redis using Python.\n",
    "    - Create a connection to the Redis cluster running localhost over port 6379.\n",
    "    - Make sure data is decoded when retrieved from Redis."
   ]
  },
  {
   "cell_type": "code",
   "execution_count": null,
   "id": "73a59976-2a94-462b-83ae-0262434b5640",
   "metadata": {},
   "outputs": [],
   "source": [
    "import redis\n",
    "\n",
    "# Create a connection to Redis cluster\n",
    "r = redis.Redis(\n",
    "  \thost=\"localhost\",\n",
    "    port=6379,\n",
    "    decode_responses=True\n",
    "  )"
   ]
  },
  {
   "cell_type": "markdown",
   "id": "c5a011bf-4bf5-4e89-a838-613ed3a6c92c",
   "metadata": {},
   "source": [
    "## Storing key-value data with Redis\n",
    "\n",
    "Redis is a powerful tool used to store key-value pairs and is especially common in web applications. In this example, you're a developer creating a widget that shows the current weather for users of an application and leveraging Redis to cache this information.\n",
    "\n",
    "To help get you stared, a connection to the Redis cluster has been created and is available in the variable redis_conn. Go get 'em!\n",
    "\n",
    "### Instructions\n",
    "    - Store the value \"London\" at the key \"city\".\n",
    "    - Using the key \"sunshine\", store the value 7\n",
    "    - Retrieve the values stored at the \"city\" and \"sunshine\" keys, take a look at the printed results."
   ]
  },
  {
   "cell_type": "code",
   "execution_count": null,
   "id": "7e1e41fe-b08c-4471-80c7-f1460987e085",
   "metadata": {},
   "outputs": [],
   "source": [
    "# Store the city key-value pair\n",
    "redis_conn.set(\"city\", \"London\")\n",
    "\n",
    "# Store the sunshine key-value pair\n",
    "redis_conn.set(\"sunshine\", \"7\")\n",
    "\n",
    "# Retrieve values stored at the city and sunshine keys\n",
    "city = redis_conn.get(\"city\")\n",
    "sunshine = redis_conn.get(\"sunshine\")\n",
    "\n",
    "print(city)\n",
    "print(sunshine)"
   ]
  },
  {
   "cell_type": "markdown",
   "id": "b0995218-42f7-45ac-9b2f-3160b3faa46c",
   "metadata": {},
   "source": [
    "## Retrieving key-value data with Redis\n",
    "\n",
    "Now that you've practiced storing key-value pairs with Redis and Python, it's time to explore the other half of that process: retrieving key-value pairs. In this example, you'll practice retrieving a few different key-value pairs that you might find in a web application built to report on weather data.\n",
    "\n",
    "A connection object has been created and stored in the variable redis_conn. Enjoy!\n",
    "\n",
    "### Instructions\n",
    "    - Use the redis_conn variable and the appropriate method to try and parse the temperature for each city in the list of cities from Redis.\n",
    "    - If the temperature value is None for the passed key, set \"unknown temperature\" as the value for that key, and print a short message."
   ]
  },
  {
   "cell_type": "code",
   "execution_count": null,
   "id": "ffa9a9e2-6e9c-4bcc-994a-be799b7d002d",
   "metadata": {},
   "outputs": [],
   "source": [
    "# Loop through each of the cities\n",
    "for city in cities:\n",
    "\t# Grab the temperature\n",
    "    temperature = redis_conn.get(f\"{city}_temp\")\n",
    "    \n",
    "    # Check if the temperature is None\n",
    "    if temperature is None:\n",
    "    \t# Store an unknown temperature\n",
    "        redis_conn.set(f\"{city}_temp\", \"unknown temperature\")\n",
    "        print(f\"Unknown temperature in {city}\")\n",
    "    \n",
    "    else:\n",
    "      \t# Otherwise, print the temperature\n",
    "    \tprint(f\"The temperature in {city} is {temperature}\")"
   ]
  },
  {
   "cell_type": "markdown",
   "id": "498f0387-a1be-4f7e-a4ce-c26cf87e0da7",
   "metadata": {},
   "source": [
    "## Storing Python dictionaries with Redis\n",
    "\n",
    "In addition to storing simple key-value pairs, you can store more complex Python data types, such as dictionaries. In this final exercise with Redis, you'll practice storing and retrieving Python dictionaries with the help of the redis module in Python.\n",
    "\n",
    "Similar to before, a connection object has been created and stored in the variable redis_conn. Good luck!\n",
    "\n",
    "### Instructions\n",
    "    - Using the redis_conn variable, store the dictionary london_weather_mapping to the \"london_weather\" key.\n",
    "    - Retrieve and print the \"london_weather\" key-value pair using the redis_conn variable and the appropriate method."
   ]
  },
  {
   "cell_type": "code",
   "execution_count": null,
   "id": "f36702a0-1de3-4066-b0cb-afb2f67d3a2a",
   "metadata": {},
   "outputs": [],
   "source": [
    "# Create a dictionary containing weather data\n",
    "london_weather_mapping = {\n",
    "\t\"temperature\": 42,\n",
    "\t\"humidity\": 88,\n",
    "\t\"visibility\": \"low\"\n",
    "}\n",
    "\n",
    "# Store the london_weather key-value pair\n",
    "redis_conn.hset(\n",
    "    \"london_weather\",\n",
    "\tmapping=london_weather_mapping\n",
    ")\n",
    "\n",
    "# Retrieve and print the london_weather key-value pair\n",
    "print(redis_conn.hgetall(\"london_weather\"))"
   ]
  }
 ],
 "metadata": {
  "kernelspec": {
   "display_name": "Python 3 (ipykernel)",
   "language": "python",
   "name": "python3"
  },
  "language_info": {
   "codemirror_mode": {
    "name": "ipython",
    "version": 3
   },
   "file_extension": ".py",
   "mimetype": "text/x-python",
   "name": "python",
   "nbconvert_exporter": "python",
   "pygments_lexer": "ipython3",
   "version": "3.11.6"
  }
 },
 "nbformat": 4,
 "nbformat_minor": 5
}
