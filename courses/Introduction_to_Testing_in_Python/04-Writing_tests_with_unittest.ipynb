{
 "cells": [
  {
   "cell_type": "code",
   "execution_count": 1,
   "id": "f3495ea4-5941-4f1b-b580-265ebd63b7fa",
   "metadata": {},
   "outputs": [],
   "source": [
    "from datetime import datetime\n",
    "import pytest\n",
    "import ipytest\n",
    "\n",
    "## Make pytest autorun\n",
    "ipytest.autoconfig()\n",
    "#ipytest.run()"
   ]
  },
  {
   "cell_type": "markdown",
   "id": "f24b46da-6c4a-4df7-93be-22b85e018440",
   "metadata": {},
   "source": [
    "## Factorial with unittest\n",
    "\n",
    "In this exercise, you will start using unittest to create basic tests for the factorial function. Since the library uses an object-oriented approach, the functions will be implemented as methods of a unittest.TestCase class. The unittest package has already been imported.\n",
    "\n",
    "### Instructions 1/3\n",
    "    - Use .assertEqual() to check that the factorial of 5 equals 120."
   ]
  },
  {
   "cell_type": "code",
   "execution_count": null,
   "id": "5419a5bc-578d-4fa4-90a7-5e9b3f717690",
   "metadata": {},
   "outputs": [],
   "source": [
    "def func_factorial(number):\n",
    "    if number < 0:\n",
    "        raise ValueError('Factorial is not defined for negative values')\n",
    "    factorial = 1\n",
    "    while number > 1:\n",
    "        factorial = factorial * number\n",
    "        number = number - 1\n",
    "    return factorial\n",
    "\n",
    "class TestFactorial(unittest.TestCase):\n",
    "    def test_positives(self):\n",
    "        # Add the test for testing positives here\n",
    "        self.assertEqual(func_factorial(5), 120)"
   ]
  },
  {
   "cell_type": "markdown",
   "id": "eec57d9b-8c5f-4bbc-8bf1-9ebe3afb2881",
   "metadata": {},
   "source": [
    "### Instructions 2/3\n",
    "    - Use .assertEqual() to check that the factorial of 0 equals 1."
   ]
  },
  {
   "cell_type": "code",
   "execution_count": null,
   "id": "4d891802-9338-4c5d-b6db-dcd834a053f7",
   "metadata": {},
   "outputs": [],
   "source": [
    "def func_factorial(number):\n",
    "    if number < 0:\n",
    "        raise ValueError('Factorial is not defined for negative values')\n",
    "    factorial = 1\n",
    "    while number > 1:\n",
    "        factorial = factorial * number\n",
    "        number = number - 1\n",
    "    return factorial\n",
    "\n",
    "class TestFactorial(unittest.TestCase):\n",
    "    def test_zero(self):\n",
    "        # Add the test for testing zero here\n",
    "        self.assertEqual(func_factorial(0), 1)"
   ]
  },
  {
   "cell_type": "markdown",
   "id": "955eae47-1a78-45af-97c6-807d59b69280",
   "metadata": {},
   "source": [
    "### Instructions 3/3\n",
    "    - Use .assertRaises() to create a test for checking that the factorial of a negative number will raise a ValueError."
   ]
  },
  {
   "cell_type": "code",
   "execution_count": null,
   "id": "90044d8a-8467-4b22-a782-e570d37c6b3e",
   "metadata": {},
   "outputs": [],
   "source": [
    "import unittest\n",
    "def func_factorial(number):\n",
    "    if number < 0:\n",
    "        raise ValueError('Factorial is not defined for negative values')\n",
    "    factorial = 1\n",
    "    while number > 1:\n",
    "        factorial = factorial * number\n",
    "        number = number - 1\n",
    "    return factorial\n",
    "\n",
    "class TestFactorial(unittest.TestCase):\n",
    "    def test_negatives(self):\n",
    "      \t# Add the test for testing negatives here\n",
    "        with self.assertRaises(ValueError):\n",
    "            func_factorial(-1)"
   ]
  },
  {
   "cell_type": "markdown",
   "id": "cbbc3c82-327f-4c8a-892c-cd164e87fa7d",
   "metadata": {},
   "source": [
    "## Is prime or not\n",
    "\n",
    "A prime number can only be divided by itself and 1 without remainders. In this exercise, you will test the function the is_prime() with unittest. The function gets a number and returns True if it is prime and False if it is not. It uses the math package to calculate the square root of the number. The packages math and unittest were already imported for you.\n",
    "\n",
    "### Instructions 1/3\n",
    "    - Implement a test to check that 17 is prime."
   ]
  },
  {
   "cell_type": "code",
   "execution_count": null,
   "id": "3e78904b-53c9-4117-84a5-e1dd4ae701db",
   "metadata": {},
   "outputs": [],
   "source": [
    "def is_prime(num):\n",
    "    if num == 1: return False\n",
    "    up_limit = int(math.sqrt(num)) + 1\n",
    "    for i in range(2, up_limit):\n",
    "        if num % i == 0:\n",
    "            return False\n",
    "    return True\n",
    "\n",
    "class TestSuite(unittest.TestCase):\n",
    "    def test_is_prime(self):\n",
    "        # Check that 17 is prime\n",
    "        self.assertEqual(is_prime(17), True)"
   ]
  },
  {
   "cell_type": "markdown",
   "id": "c4abbb62-aa64-4b7d-9c79-2f873b675ab5",
   "metadata": {},
   "source": [
    "### Instructions 2/3\n",
    "    - Implement a test to check that 6 is not prime."
   ]
  },
  {
   "cell_type": "code",
   "execution_count": null,
   "id": "aacda5fc-4e72-4bf9-8e07-0d069327a313",
   "metadata": {},
   "outputs": [],
   "source": [
    "def is_prime(num):\n",
    "    if num == 1: return False\n",
    "    up_limit = int(math.sqrt(num)) + 1\n",
    "    for i in range(2, up_limit):\n",
    "        if num % i == 0:\n",
    "            return False\n",
    "    return True\n",
    "\n",
    "class TestSuite(unittest.TestCase):\n",
    "    def test_is_prime(self):\n",
    "        # Check that 6 is not prime\n",
    "        self.assertEqual(is_prime(6), False)"
   ]
  },
  {
   "cell_type": "markdown",
   "id": "bc1c7a3d-5750-4524-b8ee-dd32ebdf2f99",
   "metadata": {},
   "source": [
    "### Instructions 3/3\n",
    "    - Implement a test to check that 1 is not prime."
   ]
  },
  {
   "cell_type": "code",
   "execution_count": null,
   "id": "90f6bfd6-f95e-47f1-978f-8c222df75331",
   "metadata": {},
   "outputs": [],
   "source": [
    "def is_prime(num):\n",
    "    if num == 1: return False\n",
    "    up_limit = int(math.sqrt(num)) + 1\n",
    "    for i in range(2, up_limit):\n",
    "        if num % i == 0:\n",
    "            return False\n",
    "    return True\n",
    "\n",
    "class TestSuite(unittest.TestCase):\n",
    "    def test_is_prime(self):\n",
    "        # Check that 1 is not prime\n",
    "        self.assertEqual(is_prime(1), False)"
   ]
  },
  {
   "cell_type": "markdown",
   "id": "4a5adc7c-a0e9-40b5-8ef5-66916fedcccf",
   "metadata": {},
   "source": [
    "## Run factorial with unittest\n",
    "\n",
    "You won't be able to find out anything before launching the tests. And you already have the test code. Now it is time to run your first test suite with unittest.\n",
    "\n",
    "### Ide Exercise Instruction\n",
    "    - Use the terminal to test factorial_unittest.py with unittest from CLI."
   ]
  },
  {
   "cell_type": "code",
   "execution_count": null,
   "id": "04900738-de27-449a-91f1-3bbe319b235f",
   "metadata": {},
   "outputs": [],
   "source": [
    "import unittest\n",
    "\n",
    "def func_factorial(number):\n",
    "    if number < 0:\n",
    "        raise ValueError('Factorial is not defined for negative values')\n",
    "    factorial = 1\n",
    "    while number > 1:\n",
    "        factorial = factorial * number\n",
    "        number = number - 1\n",
    "    return factorial\n",
    "\n",
    "class TestFactorial(unittest.TestCase):\n",
    "    def test_positives(self):\n",
    "        self.assertEqual(func_factorial(5), 120)\n",
    "\n",
    "    def test_zero(self):\n",
    "        self.assertEqual(func_factorial(0), 1)\n",
    "\n",
    "    def test_negatives(self):\n",
    "        with self.assertRaises(ValueError):\n",
    "            func_factorial(-1)\n",
    "\n",
    "#$ python3 -m unittest factorial_unittest.py"
   ]
  },
  {
   "cell_type": "markdown",
   "id": "f205d4c1-35cd-4327-95a0-dcd1dc54ef87",
   "metadata": {},
   "source": [
    "## Erroneouos factorial\n",
    "\n",
    "It is very important not only to create tests but use them to find and fix errors. In this exercise, you will meet an error in the code and you will have to fix it.\n",
    "\n",
    "### Ide Exercise Instruction\n",
    "    - Run the test script as is and see the error.\n",
    "    - Find the error in the code and fix it.\n",
    "    - Run the test script again to make sure that the problem was fixed."
   ]
  },
  {
   "cell_type": "code",
   "execution_count": null,
   "id": "d73181f3-4612-4ba9-9717-f6652d2f8f3c",
   "metadata": {},
   "outputs": [],
   "source": [
    "import unittest\n",
    "\n",
    "def err_func_factorial(number):\n",
    "    if number < 0:\n",
    "        raise ValueError('Factorial is not defined for negative values')\n",
    "    factorial = 1\n",
    "    while number >= 2:\n",
    "        factorial = factorial * number\n",
    "        number = number - 1\n",
    "    return factorial\n",
    "\n",
    "class TestFactorial(unittest.TestCase):\n",
    "    def test_err_func_1(self):\n",
    "        self.assertEqual(err_func_factorial(3), 6)\n",
    "    def test_err_func_2(self):\n",
    "        self.assertEqual(err_func_factorial(4), 24)"
   ]
  },
  {
   "cell_type": "code",
   "execution_count": null,
   "id": "a2957e97-56d3-4300-9096-2bfda8c13e2e",
   "metadata": {},
   "outputs": [],
   "source": [
    "#$ python3 -m unittest err_factorial_unittest.py"
   ]
  },
  {
   "cell_type": "markdown",
   "id": "22dd853c-6a25-4574-9e50-43b66bcf9a7c",
   "metadata": {},
   "source": [
    "## Unittest options\n",
    "\n",
    "Flags and keywords can seem strange, but they can make your life easier in many cases. In this exercise, you will run the \"Erroneous factorial\" test script using the commands with different options and analyze the results. You do not have to fix anything here; only run the commands.\n",
    "\n",
    "### Ide Exercise Instruction\n",
    "    - Run the script with the \"verbose\" flag to see the extended output about the failed tests.\n",
    "    - Run the script with the \"fail fast\" flag and notice how many of the tests run.\n",
    "    - Run the script with the \"keyword\" option with \"err_func_1\" and notice what tests run."
   ]
  },
  {
   "cell_type": "code",
   "execution_count": null,
   "id": "f8548335-6739-4582-bb08-e910b124fcf5",
   "metadata": {},
   "outputs": [],
   "source": [
    "import unittest\n",
    "\n",
    "def err_func_factorial(number):\n",
    "    if number < 0:\n",
    "        raise ValueError('Factorial is not defined for negative values')\n",
    "    factorial = 1\n",
    "    while number > 2:\n",
    "        factorial = factorial * number\n",
    "        number = number - 1\n",
    "    return factorial\n",
    "\n",
    "class TestFactorial(unittest.TestCase):\n",
    "    def test_err_func_1(self):\n",
    "        self.assertEqual(err_func_factorial(3), 6)\n",
    "    def test_err_func_2(self):\n",
    "        self.assertEqual(err_func_factorial(4), 24)\n"
   ]
  },
  {
   "cell_type": "code",
   "execution_count": null,
   "id": "9e871285-1dc6-4bfe-9dcc-2c72d23c7ca6",
   "metadata": {},
   "outputs": [],
   "source": [
    "#- Run this command to run the testing script with the verbose flag:\n",
    "#  python3 -m unittest -v err_factorial_unittest.py\n",
    "\n",
    "#- Run this command to run the testing script with the fail fast flag:\n",
    "#  python3 -m unittest -f err_factorial_unittest.py\n",
    "\n",
    "#- Run this command to run the testing script with the keyword flag:\n",
    "#  python3 -m unittest -k \"err_func_1\" err_factorial_unittest.py"
   ]
  },
  {
   "cell_type": "markdown",
   "id": "277aab67-6099-46be-9634-3d79a5863b21",
   "metadata": {},
   "source": [
    "## Test the string variable\n",
    "\n",
    "Now you will start using fixtures in unittest. This time, the prepared environment is the word 'banana'. Thus, the setup part is the word initialization, and the teardown part removes the variable.\n",
    "\n",
    "### Ide Exercise Instruction\n",
    "    - Complete the .setUp() method by assigning 'banana' to the self.word variable.\n",
    "    - Create three tests to check that B and y are not in the list, and b is.\n",
    "    - Complete the .tearDown() method.\n",
    "    - Run the unittest test script from CLI."
   ]
  },
  {
   "cell_type": "code",
   "execution_count": null,
   "id": "75cede0d-fa39-4091-a0c9-64633f737550",
   "metadata": {},
   "outputs": [],
   "source": [
    "import unittest\n",
    "\n",
    "class TestWord(unittest.TestCase):\n",
    "    # Fixture setup method\n",
    "    def setUp(self):\n",
    "        # Initialize the word banana here\n",
    "        self.word = 'banana'\n",
    "\n",
    "    # Test method\n",
    "    def test_the_word(self):\n",
    "        # Add the tests here\n",
    "        self.assertIn('b', self.word)\n",
    "        self.assertNotIn('B', self.word)\n",
    "        self.assertNotIn('y', self.word)\n",
    "    \n",
    "    # Fixture teardown method\n",
    "    def tearDown(self):\n",
    "        # Delete the word variable here\n",
    "        del self.word"
   ]
  },
  {
   "cell_type": "code",
   "execution_count": 2,
   "id": "32d130cc-7ef4-4e8e-82b3-e7264343195f",
   "metadata": {},
   "outputs": [],
   "source": [
    "#$ python3 -m unittest palindrome_check.py"
   ]
  },
  {
   "cell_type": "markdown",
   "id": "d33ddee9-5249-4689-a09b-289a436c3f42",
   "metadata": {},
   "source": [
    "## Palindrome check\n",
    "\n",
    "Palindrome is a word or phrase that reads the same backward as forward. The function create_data() returns some words, and the function check_palindrome() checks whether the word is a palindrome. You will complete the test suite's setup, test function, and teardown.\n",
    "\n",
    "### Ide Exercise Instruction\n",
    "    - Initialize the self.data variable with create_data().\n",
    "    - Verify that self.data equals expected_result.\n",
    "    - Clear the self.data list.\n",
    "    - Run the test script with the CLI command."
   ]
  },
  {
   "cell_type": "code",
   "execution_count": null,
   "id": "c7fb2f6d-cdb8-43e7-807d-e86e868a10b8",
   "metadata": {},
   "outputs": [],
   "source": [
    "import unittest\n",
    "\n",
    "def check_palindrome(string):\n",
    "    reversed_string = string[::-1]\n",
    "    return string == reversed_string\n",
    "\n",
    "def create_data():\n",
    "    return ['level', 'step', 'peep', 'toot']\n",
    "\n",
    "class TestPalindrome(unittest.TestCase):\n",
    "    def setUp(self):\n",
    "        # Initialize data here\n",
    "        self.data = create_data()\n",
    "    \n",
    "    def test_func(self):\n",
    "        expected_result = [True, False, True, True]\n",
    "        data_checked = list(map(check_palindrome, self.data))\n",
    "        # Verify the checked data here\n",
    "        self.assertEqual(data_checked, expected_result)\n",
    "\n",
    "    def tearDown(self):\n",
    "        # Clear the data here\n",
    "        self.data.clear()\n"
   ]
  },
  {
   "cell_type": "code",
   "execution_count": null,
   "id": "1bbcdd76-895d-4254-a4a5-66f81c955e5c",
   "metadata": {},
   "outputs": [],
   "source": [
    "#$ python3 -m unittest palindrome_check.py"
   ]
  },
  {
   "cell_type": "markdown",
   "id": "c7931c72-13c9-4b78-b158-4ee99bc6d4a0",
   "metadata": {},
   "source": [
    "## Integration and unit tests\n",
    "\n",
    "It is important to see when applying different testing types is appropriate. In this exercise, you will see them as a whole. You will create integration and unit tests with pytest for the data pipeline made with pandas. The pytest and pandas packages have already been imported.\n",
    "\n",
    "### Ide Exercise Instruction\n",
    "    - Ensure that read_df has a pd.DataFrame type.\n",
    "    - Check that the data contains rows.\n",
    "    - Verify that the result does not contain nulls.\n",
    "    - Run pytest from CLI to see the results."
   ]
  },
  {
   "cell_type": "code",
   "execution_count": null,
   "id": "9bfa275b-f805-46ba-8aae-ae5f05f617dd",
   "metadata": {},
   "outputs": [],
   "source": [
    "import pytest\n",
    "import pandas as pd\n",
    "\n",
    "DF_PATH = \"/usr/local/share/salaries.csv\"\n",
    "@pytest.fixture\n",
    "def read_df():\n",
    "    return pd.read_csv(DF_PATH)\n",
    "\n",
    "def get_grouped(df):\n",
    "    return df.groupby('work_year').agg({'salary': 'describe'})['salary']\n",
    "\n",
    "def test_read_df(read_df):\n",
    "    # Check the type of the dataframe\n",
    "    assert isinstance(read_df, pd.DataFrame)\n",
    "    # Check that df contains rows\n",
    "    assert read_df.shape[0] > 0\n",
    "\n",
    "def test_grouped(read_df):\n",
    "    df = read_df\n",
    "    salary_by_year = get_grouped(df)\n",
    "    # Check the nulls here\n",
    "    assert salary_by_year.isna().sum().sum() == 0"
   ]
  },
  {
   "cell_type": "code",
   "execution_count": null,
   "id": "c1e279d3-28fe-4bce-8fc9-4941b65bd65e",
   "metadata": {},
   "outputs": [],
   "source": [
    "#$ pytest integration_and_unit.py "
   ]
  },
  {
   "cell_type": "markdown",
   "id": "4416d035-0a90-4cfa-9daa-b6bc3b296793",
   "metadata": {},
   "source": [
    "## Feature and performance tests\n",
    "\n",
    "In this exercise, you will continue to test the pandas data pipeline. Here, you will create two types of tests. A feature test with pytest to validate that the feature \"finding a median salary for a 2022 year\" actually works. And a performance test with pytest-benchmark to find out how fast the process is with pytest-benchmark. Note: The function name testreadingspeed() in the solution is used to benchmark the performance. This is consistent with the naming convention and functionality.\n",
    "\n",
    "### Ide Exercise Instruction\n",
    "    - Check that the resulting median has the float type.\n",
    "    - Check that the median salary is greater than 0.\n",
    "    - Define the test_reading_speed() function with the benchmark argument.\n",
    "    - Run pytest from CLI to see the results."
   ]
  },
  {
   "cell_type": "code",
   "execution_count": null,
   "id": "8983b1b8-418f-4af6-b530-2079ac2bcda8",
   "metadata": {},
   "outputs": [],
   "source": [
    "import pytest\n",
    "import pandas as pd\n",
    "\n",
    "DF_PATH = \"/usr/local/share/salaries.csv\"\n",
    "@pytest.fixture\n",
    "def read_df():\n",
    "    return pd.read_csv(DF_PATH)\n",
    "\n",
    "def get_grouped(df):\n",
    "    return df.groupby('work_year').agg({'salary': 'describe'})['salary']\n",
    "\n",
    "def test_feature_2022(read_df):\n",
    "    salary_by_year = get_grouped(read_df)\n",
    "    salary_2022 = salary_by_year.loc[2022, '50%']\n",
    "    # Check the median type here\n",
    "    assert isinstance(salary_2022, float)\n",
    "    # Check the median is greater than zero\n",
    "    assert 0 < salary_2022\n",
    "\n",
    "# Use benchmark here\n",
    "def test_reading_speed(benchmark):\n",
    "    benchmark(pd.read_csv, DF_PATH)\n"
   ]
  },
  {
   "cell_type": "code",
   "execution_count": null,
   "id": "7bee6003-9a8c-4412-8239-a7683138cc92",
   "metadata": {},
   "outputs": [],
   "source": [
    "#$ pytest feature_and_performance.py "
   ]
  },
  {
   "cell_type": "markdown",
   "id": "549cbbc9-965f-4310-bb75-18425657a8ac",
   "metadata": {},
   "source": [
    "## Energy pipeline\n",
    "\n",
    "You will work with the dataset that contains data about energy production by different countries. This pipeline groups the data by COUNTRY summing over VALUE, and then gets COUNTRY with the minimum VALUE. This time you will implement a unit test to make sure that the dataset does not contain nulls before getting the country with a minimum VALUE. And a feature test to make sure that the final result is str.\n",
    "\n",
    "Use the unittest framework.\n",
    "\n",
    "### Ide Exercise Instruction\n",
    "    - Use unittest to verify that the dataset does not contain any nulls.\n",
    "    - Use unittest to ensure that the min_country() function returns a str.\n",
    "    - Run the unittest tests with CLI."
   ]
  },
  {
   "cell_type": "code",
   "execution_count": null,
   "id": "3b77284b-7fd3-4ba1-b74d-35ceab1f0824",
   "metadata": {},
   "outputs": [],
   "source": [
    "import unittest\n",
    "import pandas as pd\n",
    "DF_PATH = 'https://assets.datacamp.com/production/repositories/6253/datasets/f015ac99df614ada3ef5e011c168054ca369d23b/energy_truncated.csv'\n",
    "\n",
    "def get_data():\n",
    "    return pd.read_csv(DF_PATH)\n",
    "\n",
    "def min_country(df):\n",
    "    return df['VALUE'].idxmin()\n",
    "\n",
    "class TestDF(unittest.TestCase):\n",
    "    def setUp(self):\n",
    "        self.df = get_data()\n",
    "        self.df.drop('previousYearToDate', axis=1, inplace=True)\n",
    "        self.df = self.df.groupby('COUNTRY')\\\n",
    "            .agg({'VALUE': 'sum'})\n",
    "\n",
    "    def test_NAs(self):\n",
    "        # Check the number of nulls\n",
    "        self.assertEqual(self.df.isna().sum().sum(), 0)\n",
    "\n",
    "    def test_argmax(self):\n",
    "        # Check that min_country returns a string\n",
    "        self.assertIsInstance(min_country(self.df), str)\n",
    "\n",
    "    def tearDown(self):\n",
    "        self.df.drop(self.df.index, inplace=True)\n"
   ]
  },
  {
   "cell_type": "code",
   "execution_count": 3,
   "id": "8efd1e7f-3afc-4e1c-9f9b-17bf82356662",
   "metadata": {},
   "outputs": [],
   "source": [
    "#$ python3 -m unittest energy_pipeline.py"
   ]
  },
  {
   "cell_type": "code",
   "execution_count": null,
   "id": "7a1c901e-b3b5-441f-9d38-8654e76d3f3d",
   "metadata": {},
   "outputs": [],
   "source": []
  },
  {
   "cell_type": "code",
   "execution_count": null,
   "id": "f37f15a0-3330-428c-8921-45c4578b74fa",
   "metadata": {},
   "outputs": [],
   "source": []
  },
  {
   "cell_type": "code",
   "execution_count": null,
   "id": "0d4d6521-d781-4447-b180-75513eb82cfb",
   "metadata": {},
   "outputs": [],
   "source": []
  }
 ],
 "metadata": {
  "kernelspec": {
   "display_name": "Python 3 (ipykernel)",
   "language": "python",
   "name": "python3"
  },
  "language_info": {
   "codemirror_mode": {
    "name": "ipython",
    "version": 3
   },
   "file_extension": ".py",
   "mimetype": "text/x-python",
   "name": "python",
   "nbconvert_exporter": "python",
   "pygments_lexer": "ipython3",
   "version": "3.11.6"
  }
 },
 "nbformat": 4,
 "nbformat_minor": 5
}
