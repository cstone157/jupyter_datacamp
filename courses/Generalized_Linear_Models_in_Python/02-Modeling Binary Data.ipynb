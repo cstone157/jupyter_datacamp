{
 "cells": [
  {
   "cell_type": "code",
   "execution_count": 34,
   "id": "10553ecc-76c5-4e07-b2bf-eb1b0678d4c4",
   "metadata": {},
   "outputs": [],
   "source": [
    "import pandas as pd\n",
    "import numpy as np\n",
    "\n",
    "import seaborn as sns\n",
    "import matplotlib.pyplot as plt\n",
    "\n",
    "from statsmodels.formula.api import ols, glm\n",
    "import statsmodels.api as sm\n",
    "\n",
    "crab = pd.read_csv(\"../../data/crab.csv\")\n",
    "salary = pd.read_csv('../../data/salary.csv')\n",
    "wells = pd.read_csv(\"../../data/wells.csv\")"
   ]
  },
  {
   "cell_type": "markdown",
   "id": "56e97d27-5583-4ac8-9e6c-0a69a4ac416b",
   "metadata": {},
   "source": [
    "## Compute odds and probabilities\n",
    "### In this exercise you will review the concept of odds and their relationship to probabilities.\n",
    "### Recall the formulas from the video: [formula not included] and odds in terms of probabilities\n",
    "\n",
    "### Instructions\n",
    "-    An athlete competes in 60 races and wins 15 times.\n",
    "-    Compute and print the odds of winning."
   ]
  },
  {
   "cell_type": "code",
   "execution_count": 35,
   "id": "54fe6156-f00d-4867-8347-d37d60b1cf76",
   "metadata": {},
   "outputs": [
    {
     "name": "stdout",
     "output_type": "stream",
     "text": [
      "Odds are:  0.333\n"
     ]
    }
   ],
   "source": [
    "# Compute the odds\n",
    "odds = 15/60/(1-15/60)\n",
    "\n",
    "# Print the result\n",
    "print('Odds are: ', round(odds,3))"
   ]
  },
  {
   "cell_type": "markdown",
   "id": "df583a91-7c5c-4845-8e4a-696cb3b3f483",
   "metadata": {},
   "source": [
    "-    An athlete competes in 60 races and wins 15 times.\n",
    "-    Compute and print the probability of winning."
   ]
  },
  {
   "cell_type": "code",
   "execution_count": 36,
   "id": "40a4edb5-a913-460d-a845-93741bf25f9f",
   "metadata": {},
   "outputs": [
    {
     "name": "stdout",
     "output_type": "stream",
     "text": [
      "Probability is:  0.25\n"
     ]
    }
   ],
   "source": [
    "# Compute the probability\n",
    "probability = 15/60\n",
    "\n",
    "# Print the result\n",
    "print('Probability is: ', round(probability,3))"
   ]
  },
  {
   "cell_type": "markdown",
   "id": "efb51a5a-acb6-487d-8f45-1cdff14c5430",
   "metadata": {},
   "source": [
    "-    Compute and print the odds using the computed probabilities from previous exercise."
   ]
  },
  {
   "cell_type": "code",
   "execution_count": 37,
   "id": "804436bb-7d44-42f0-84e0-c41e9af37f80",
   "metadata": {},
   "outputs": [
    {
     "name": "stdout",
     "output_type": "stream",
     "text": [
      "0.333\n"
     ]
    }
   ],
   "source": [
    "# Probability calculation\n",
    "probability = 15/60\n",
    "\n",
    "# Compute odds using probability calculation\n",
    "odds_from_probs = probability/(1 - probability)\n",
    "\n",
    "# Print the results\n",
    "print(round(odds_from_probs, 3))"
   ]
  },
  {
   "cell_type": "markdown",
   "id": "a7b08932-8ab8-4c8f-9a1e-c92713c862e2",
   "metadata": {},
   "source": [
    "## Fit logistic regression\n",
    "### In this exercise, you will continue with the data from the study on the contamination of ground water with arsenic in Bangladesh where you want to model the probability of switching the current well given the level of arsenic present in the well.\n",
    "\n",
    "### Recall the dataset structure: [skipped image] Dataset wells is preloaded in the workspace.\n",
    "\n",
    "### Instructions\n",
    "-    Import statsmodels and glm.\n",
    "-    Using glm() fit a logistic regression model where switch is predicted by arsenic.\n",
    "-    Print model summary using .summary()."
   ]
  },
  {
   "cell_type": "code",
   "execution_count": 38,
   "id": "98f01281-35e3-4dab-a4b4-2ab2766a09a1",
   "metadata": {},
   "outputs": [
    {
     "name": "stdout",
     "output_type": "stream",
     "text": [
      "                 Generalized Linear Model Regression Results                  \n",
      "==============================================================================\n",
      "Dep. Variable:                 switch   No. Observations:                 3010\n",
      "Model:                            GLM   Df Residuals:                     3008\n",
      "Model Family:                Binomial   Df Model:                            1\n",
      "Link Function:                  Logit   Scale:                          1.0000\n",
      "Method:                          IRLS   Log-Likelihood:                -1997.3\n",
      "Date:                Thu, 14 Mar 2024   Deviance:                       3994.6\n",
      "Time:                        03:31:34   Pearson chi2:                 3.03e+03\n",
      "No. Iterations:                     4   Pseudo R-squ. (CS):            0.03570\n",
      "Covariance Type:            nonrobust                                         \n",
      "==============================================================================\n",
      "                 coef    std err          z      P>|z|      [0.025      0.975]\n",
      "------------------------------------------------------------------------------\n",
      "Intercept     -0.3058      0.070     -4.340      0.000      -0.444      -0.168\n",
      "arsenic        0.3799      0.039      9.837      0.000       0.304       0.456\n",
      "==============================================================================\n"
     ]
    }
   ],
   "source": [
    "# Load libraries and functions\n",
    "import statsmodels.api as sm\n",
    "from statsmodels.formula.api import glm\n",
    "\n",
    "# Fit logistic regression model\n",
    "model_GLM = glm(formula = \"switch ~ arsenic\",\n",
    "                data = wells,\n",
    "                family = sm.families.Binomial()).fit() \n",
    "\n",
    "# Print model summary\n",
    "print(model_GLM.summary())"
   ]
  },
  {
   "cell_type": "markdown",
   "id": "6a7cd1c2-a641-49ef-bed4-bb603bc231d3",
   "metadata": {},
   "source": [
    "## Coefficients in terms of odds\n",
    "### Previously you have fitted a logistic regression model for the probability of switching the well given the arsenic levels. In this exercise, you will see how another variable distance100 relates to the probability of switching and interpreting the coefficient values in terms of odds.\n",
    "\n",
    "### Recall that the logistic regression model is in terms of log odds, so to obtain by how much would the odds multiply given a unit increase in x you would exponentiate the coefficient estimates. This is also called odds ratio.\n",
    "\n",
    "### Recall that odds are a ratio of event occurring to the event not occurring. For example, if the odds of winning a game are 1/2 or 1 to 2 (1:2), it means that for every one win there are 2 losses.\n",
    "\n",
    "### The dataset wells is loaded in the workspace.\n",
    "\n",
    "### Instructions\n",
    "-    Import statsmodels library and glm function from statsmodels.formula.api. Also import numpyas np.\n",
    "-    Using glm() fit a logistic regression model where switch is predicted by distance100.\n",
    "-    Extract model coefficients using .params.\n",
    "-    Compute the multiplicative effect on the odds using numpy exp() function."
   ]
  },
  {
   "cell_type": "code",
   "execution_count": 39,
   "id": "0ce2a289-de8d-42a2-82b8-b4d558586b4d",
   "metadata": {},
   "outputs": [
    {
     "name": "stdout",
     "output_type": "stream",
     "text": [
      "Model coefficients: \n",
      " Intercept      0.610812\n",
      "distance100   -0.629081\n",
      "dtype: float64\n",
      "Odds: \n",
      " Intercept      1.841926\n",
      "distance100    0.533082\n",
      "dtype: float64\n"
     ]
    }
   ],
   "source": [
    "# Load libraries and functions\n",
    "import statsmodels.api as sm\n",
    "from statsmodels.formula.api import glm\n",
    "import numpy as np\n",
    "\n",
    "# Fit logistic regression model\n",
    "model_GLM = glm(formula = 'switch ~ distance100',\n",
    "                data = wells,\n",
    "                family = sm.families.Binomial()).fit() \n",
    "\n",
    "# Extract model coefficients\n",
    "print('Model coefficients: \\n', model_GLM.params)\n",
    "\n",
    "# Compute the multiplicative effect on the odds\n",
    "print('Odds: \\n', np.exp(model_GLM.params))"
   ]
  },
  {
   "cell_type": "markdown",
   "id": "7a08740c-47b5-4159-a131-76535b6548a4",
   "metadata": {},
   "source": [
    "## Rate of change in probability\n",
    "### For the wells dataset you have already fitted a logistic regression model with the model formula switch ~ distance100 obtaining the following fit\n",
    "\n",
    "### In this exercise you will use that model to understand how the estimated probability changes at a certain value of distance100, say 1.5 as depicted in the figure below. [figure skipped]  Recall the formulas for the inverse-logit (probability) [figure skipped] and the slope of the tangent line of the model fit at point : [figure skipped]\n",
    "\n",
    "### Dataset wells and the model wells_GLM are loaded in the workspace.\n",
    "\n",
    "## Instructions 1/3\n",
    "-    Define x to be the distance100 value of 1.5.\n",
    "-    Extract model coefficients and save them as intercept and slope respectively."
   ]
  },
  {
   "cell_type": "code",
   "execution_count": 40,
   "id": "51b30e72-7760-4f40-9441-c3de2da3fbb7",
   "metadata": {},
   "outputs": [
    {
     "name": "stderr",
     "output_type": "stream",
     "text": [
      "/opt/conda/lib/python3.11/site-packages/statsmodels/genmod/families/links.py:13: FutureWarning: The logit link alias is deprecated. Use Logit instead. The logit link alias will be removed after the 0.15.0 release.\n",
      "  warnings.warn(\n"
     ]
    }
   ],
   "source": [
    "model_formula = 'switch ~ distance100'\n",
    "link_function = sm.families.links.logit()\n",
    "model_family = sm.families.Binomial(link = link_function)\n",
    "\n",
    "wells_GLM = glm(formula = model_formula, \n",
    "                 data = wells, \n",
    "                 family = model_family).fit()"
   ]
  },
  {
   "cell_type": "code",
   "execution_count": 41,
   "id": "210eb55e-8af1-4b7f-9f02-b882ac406ca8",
   "metadata": {},
   "outputs": [],
   "source": [
    "# Define x at 1.5\n",
    "x = 1.5\n",
    "\n",
    "# Extract intercept & slope from the fitted model\n",
    "intercept, slope = wells_GLM.params"
   ]
  },
  {
   "cell_type": "markdown",
   "id": "ef2eac6b-3462-4c9c-b230-6ceb81bd3c60",
   "metadata": {},
   "source": [
    "-    Compute and print the estimated probability given x using the inverse-logit function. Note that numpy is preloaded as np."
   ]
  },
  {
   "cell_type": "code",
   "execution_count": 42,
   "id": "b183ce3f-86fe-42ea-b975-15af8621f426",
   "metadata": {},
   "outputs": [
    {
     "name": "stdout",
     "output_type": "stream",
     "text": [
      "Estimated probability at x = 1.5:  0.4176\n"
     ]
    }
   ],
   "source": [
    "# Define x at 1.5\n",
    "x = 1.5\n",
    "\n",
    "# Compute and print the estimated probability\n",
    "est_prob = np.exp(intercept + slope*x)/(1+np.exp(intercept + slope*x))\n",
    "print('Estimated probability at x = 1.5: ', round(est_prob, 4))"
   ]
  },
  {
   "cell_type": "markdown",
   "id": "0010329b-2d65-4440-ab11-c99e4d3b2b02",
   "metadata": {},
   "source": [
    "-    Compute and print the slope of the tangent line for parameter beta at x value."
   ]
  },
  {
   "cell_type": "code",
   "execution_count": 43,
   "id": "04904919-b687-4d67-a3d1-398309231100",
   "metadata": {},
   "outputs": [
    {
     "name": "stdout",
     "output_type": "stream",
     "text": [
      "Estimated probability at x = 1.5:  0.4176\n",
      "The rate of change in probability:  -0.153\n"
     ]
    }
   ],
   "source": [
    "# Define x at 1.5\n",
    "x = 1.5\n",
    "\n",
    "# Compute and print the estimated probability\n",
    "est_prob = np.exp(intercept + slope*x)/(1+np.exp(intercept + slope*x))\n",
    "print('Estimated probability at x = 1.5: ', round(est_prob, 4))\n",
    "\n",
    "# Compute the slope of the tangent line for parameter beta at x\n",
    "slope_tan = slope * est_prob * (1 - est_prob)\n",
    "print('The rate of change in probability: ', round(slope_tan,4))"
   ]
  },
  {
   "cell_type": "markdown",
   "id": "8bc8ce35-1c6e-4de4-a697-b70003f10617",
   "metadata": {},
   "source": [
    "## Statistical significance\n",
    "### In the video we analyzed the horseshoe crab model by predicting y with weight. In this exercise you will assess the significance of the estimated coefficients but with width as explanatory variable instead.\n",
    "\n",
    "### Recall that coefficients help us determine the significance of the relationship that we are trying to model, where a positive sign increases the probability of an event as the predictor increases and vice versa.\n",
    "\n",
    "### The dataset crab is loaded in the workspace.\n",
    "\n",
    "### Instructions 1/2\n",
    "-    Import statsmodels library and glm function from statsmodels.formula api.\n",
    "-    Fit a logistic regression model with y as the response and width as an explanatory variable.\n",
    "-    Print model summary using .summary() to view model results."
   ]
  },
  {
   "cell_type": "code",
   "execution_count": 44,
   "id": "55864b78-8a43-4cf7-8c5a-ae00b695ec2b",
   "metadata": {},
   "outputs": [
    {
     "name": "stdout",
     "output_type": "stream",
     "text": [
      "                 Generalized Linear Model Regression Results                  \n",
      "==============================================================================\n",
      "Dep. Variable:                      y   No. Observations:                  173\n",
      "Model:                            GLM   Df Residuals:                      171\n",
      "Model Family:                Binomial   Df Model:                            1\n",
      "Link Function:                  Logit   Scale:                          1.0000\n",
      "Method:                          IRLS   Log-Likelihood:                -97.226\n",
      "Date:                Thu, 14 Mar 2024   Deviance:                       194.45\n",
      "Time:                        03:31:35   Pearson chi2:                     165.\n",
      "No. Iterations:                     4   Pseudo R-squ. (CS):             0.1655\n",
      "Covariance Type:            nonrobust                                         \n",
      "==============================================================================\n",
      "                 coef    std err          z      P>|z|      [0.025      0.975]\n",
      "------------------------------------------------------------------------------\n",
      "Intercept    -12.3508      2.629     -4.698      0.000     -17.503      -7.199\n",
      "width          0.4972      0.102      4.887      0.000       0.298       0.697\n",
      "==============================================================================\n"
     ]
    }
   ],
   "source": [
    "# Import libraries and th glm function\n",
    "import statsmodels.api as sm\n",
    "from statsmodels.formula.api import glm\n",
    "\n",
    "# Fit logistic regression and save as crab_GLM\n",
    "crab_GLM = glm('y ~ width', data = crab, family = sm.families.Binomial()).fit()\n",
    "\n",
    "# Print model summary\n",
    "print(crab_GLM.summary())"
   ]
  },
  {
   "cell_type": "markdown",
   "id": "baccc46e-16c3-4d20-a6d0-9979f6ea8036",
   "metadata": {},
   "source": [
    "## Computing Wald statistic\n",
    "### In the previous exercise you fitted a model with width variable and assessed the relationship of the explanatory and response variable. In this exercise you will assess the significance of the width variable by computing the Wald statistic.\n",
    "\n",
    "### Also note that in the model summary the Wald statistic is presented by the letter z which means that the value of a statistic follows a standard normal distribution. Recall the formula for the Wald statistic: [equiation skipped] where B^ is the estimated coefficient and SE its standard error.\n",
    "\n",
    "### The fitted model crab_GLM and crab dataset have been preloaded in the workspace.\n",
    "\n",
    "### Instructions\n",
    "-    Using .params extract and print model coefficients and save as intercept and slope.\n",
    "-    Save and print covariance matrix as crab_cov.\n",
    "-    Compute and print the standard error std_error by extracting the relevant element using the covariance matrix.\n",
    "-    Compute and print the Wald statistic."
   ]
  },
  {
   "cell_type": "code",
   "execution_count": 45,
   "id": "d0b43516-6ea7-431a-af2a-823509b34c51",
   "metadata": {},
   "outputs": [
    {
     "name": "stdout",
     "output_type": "stream",
     "text": [
      "           Intercept     width\n",
      "Intercept   6.910158 -0.266848\n",
      "width      -0.266848  0.010350\n",
      "SE:  0.1017\n",
      "Wald statistic:  4.8875\n"
     ]
    }
   ],
   "source": [
    "# Extract coefficients\n",
    "intercept, slope = crab_GLM.params\n",
    "\n",
    "# Estimated covariance matrix: crab_cov\n",
    "crab_cov = crab_GLM.cov_params()\n",
    "print(crab_cov)\n",
    "\n",
    "# Compute standard error (SE): std_error\n",
    "std_error = np.sqrt(crab_cov.loc['width', 'width'])\n",
    "print('SE: ', round(std_error, 4))\n",
    "\n",
    "# Compute Wald statistic\n",
    "wald_stat = slope/std_error\n",
    "print('Wald statistic: ', round(wald_stat,4))"
   ]
  },
  {
   "cell_type": "markdown",
   "id": "2cb5cc26-cc7b-4436-a6b9-34ccabe62fb0",
   "metadata": {},
   "source": [
    "## Confidence intervals\n",
    "### Continuing from the previous exercise you will now asses the uncertainty of the coefficients by computing the confidence intervals.\n",
    "\n",
    "### Recall formulas for confidence intervals discussed in the video: [equation skipped], 95% confidence intervals for the parameter  [equation skipped], 95% confidence intervals for odds [equation skipped]\n",
    "\n",
    "### The model crab_GLM and crab dataset are loaded in the workspace.\n",
    "\n",
    "### Instructions 1/2\n",
    "-    Extract and print confidence intervals from the fitted model using .conf_int() function."
   ]
  },
  {
   "cell_type": "code",
   "execution_count": 46,
   "id": "f227d229-fded-420c-9d7f-137f0b97e622",
   "metadata": {},
   "outputs": [
    {
     "name": "stdout",
     "output_type": "stream",
     "text": [
      "                   0         1\n",
      "Intercept -17.503010 -7.198625\n",
      "width       0.297833  0.696629\n"
     ]
    }
   ],
   "source": [
    "# Extract and print confidence intervals\n",
    "print(crab_GLM.conf_int())"
   ]
  },
  {
   "cell_type": "markdown",
   "id": "70887d68-a760-44c4-bb81-1aa93d1a8a67",
   "metadata": {},
   "source": [
    "-    Compute and print confidence intervals for the odds."
   ]
  },
  {
   "cell_type": "code",
   "execution_count": 47,
   "id": "e2a672d7-d52d-43a0-acf1-a8650090fb40",
   "metadata": {},
   "outputs": [
    {
     "name": "stdout",
     "output_type": "stream",
     "text": [
      "                      0         1\n",
      "Intercept  2.503452e-08  0.000748\n",
      "width      1.346936e+00  2.006975\n"
     ]
    }
   ],
   "source": [
    "# Compute confidence intervals for the odds\n",
    "print(np.exp(crab_GLM.conf_int()))"
   ]
  },
  {
   "cell_type": "markdown",
   "id": "55b10174-9242-416b-9838-2799c1e8b311",
   "metadata": {},
   "source": [
    "## Visualize model fit using regplot()\n",
    "### After having fitted and analyzed the model we can visualize it by plotting the observation points and the fitted logistic regression.\n",
    "\n",
    "### Using the plot you can visually understand the relationship of the explanatory variable and the response for the range of values of the explanatory variable.\n",
    "\n",
    "### We can use the regplot() function from the seaborn module for this. The regplot() function takes an argument logistic, which allows you to specify whether you wish to estimate the logistic regression model for the given data using True or False values. This will also produce the plot of the fit.\n",
    "\n",
    "### Recall that the model that you fitted previously: [equation skipped]\n",
    " \n",
    "\n",
    "### The dataset wells is already loaded in your workspace.\n",
    "\n",
    "### Instructions\n",
    "-    Using the data wells to plot arsenic on the x-axis and switch on the y-axis.\n",
    "-    Apply y_jitter of 0.03 to spread the values of the response for easier visualization.\n",
    "-    Use True for argument logistic for the plot to overlay the logistic function on the given data and set confidence intervals argument ci to None which will not display confidence interval, but it will speed up the computation.\n",
    "-    Display the plot using the plt.show()."
   ]
  },
  {
   "cell_type": "code",
   "execution_count": 48,
   "id": "ce1ae288-36b2-42d6-b8d4-bca7fe42fd12",
   "metadata": {},
   "outputs": [
    {
     "data": {
      "image/png": "[encoded data removed]",
      "text/plain": [
       "<Figure size 640x480 with 1 Axes>"
      ]
     },
     "metadata": {},
     "output_type": "display_data"
    }
   ],
   "source": [
    "# Plot arsenic and switch and add overlay with the logistic fit\n",
    "sns.regplot(x = 'arsenic', y = 'switch', \n",
    "            y_jitter = 0.003,\n",
    "            data = wells, \n",
    "            logistic = True,\n",
    "            ci = None)\n",
    "\n",
    "# Display the plot\n",
    "plt.show()"
   ]
  },
  {
   "cell_type": "markdown",
   "id": "83622d7f-c2fb-4626-b651-81f4324032b8",
   "metadata": {},
   "source": [
    "## Compute predictions\n",
    "### Often, in practice, we are interested in using the fitted logistic regression to estimate the probabilities and construct confidence intervals for these estimates. Using the wells dataset and the model 'switch ~ arsenic' let's assume you have new observations wells_test which were not part of the training sample and you wish to predict the probability of switching to the nearest safe well.\n",
    "\n",
    "### You will do this with the help of the .predict() method.\n",
    "\n",
    "### Note that .predict() takes in several arguments: exog - new observations (test dataset), transform = True - passes the formula of the fit y ~ x to the data.  If exog is not defined the probabilities are computed for the training dataset.\n",
    "\n",
    "### Model wells_fit and datasets wells and wells_test are preloaded in the workspace.\n",
    "\n",
    "### Instructions\n",
    "-    Using the fitted model wells_fit, compute prediction on test data wells_test and save as prediction.\n",
    "-    Add prediction to the existing data frame wells_test and name the column prediction.\n",
    "-    Using print() display the first 5 rows of wells_test with columns switch, arsenic and prediction. Use pandas function head() to view only the first 5 rows."
   ]
  },
  {
   "cell_type": "code",
   "execution_count": 56,
   "id": "9443eb7b-abe2-42e8-9c62-54ffe51a79e5",
   "metadata": {},
   "outputs": [],
   "source": [
    "wells_test = wells[:200]\n",
    "wells = wells[200:]\n",
    "\n",
    "wells_fit = glm(formula = model_formula, \n",
    "                 data = wells, \n",
    "                 family = model_family).fit()"
   ]
  },
  {
   "cell_type": "code",
   "execution_count": 57,
   "id": "ad1b4023-8a73-49fd-8240-f384538eb2e3",
   "metadata": {},
   "outputs": [
    {
     "name": "stdout",
     "output_type": "stream",
     "text": [
      "     switch  arsenic  prediction\n",
      "400       1     2.18    0.470113\n",
      "401       1     4.77    0.461079\n",
      "402       1     3.79    0.502060\n",
      "403       1     3.48    0.502047\n",
      "404       0     3.02    0.549739\n"
     ]
    },
    {
     "name": "stderr",
     "output_type": "stream",
     "text": [
      "/tmp/ipykernel_120247/14328586.py:5: SettingWithCopyWarning: \n",
      "A value is trying to be set on a copy of a slice from a DataFrame.\n",
      "Try using .loc[row_indexer,col_indexer] = value instead\n",
      "\n",
      "See the caveats in the documentation: https://pandas.pydata.org/pandas-docs/stable/user_guide/indexing.html#returning-a-view-versus-a-copy\n",
      "  wells_test['prediction'] = prediction\n"
     ]
    }
   ],
   "source": [
    "# Compute predictions for the test sample wells_test and save as prediction\n",
    "prediction = wells_fit.predict(exog = wells_test)\n",
    "\n",
    "# Add prediction to the existing data frame wells_test and assign column name prediction\n",
    "wells_test['prediction'] = prediction\n",
    "\n",
    "# Examine the first 5 computed predictions\n",
    "print(wells_test[['switch', 'arsenic', 'prediction']].head())"
   ]
  },
  {
   "cell_type": "markdown",
   "id": "a369ae85-7cb1-40dd-80cf-6f45c7975831",
   "metadata": {},
   "source": [
    "## Compute confusion matrix\n",
    "### As you learned in the video the logistic regression model generates two types of predictions, a continuous valued prediction, in the form of a probability, and a class prediction which in the example of the wells dataset is a discrete category with two classes.\n",
    "\n",
    "### In the previous exercise you computed the continuous values prediction in the form of a probability. In this exercise you will use those values to assign a class to each observation in your wells_test sample. Finally you will describe the model using the confusion matrix.\n",
    "\n",
    "### Computed predictions prediction and wells_test are loaded in your workspace.\n",
    "\n",
    "### Instructions 1/3\n",
    "-    Using computed predictions prediction, classify them into 0 and 1 class labels by using the cutoff set at 0.5 and save as y_prediction."
   ]
  },
  {
   "cell_type": "code",
   "execution_count": 58,
   "id": "196feb01-daf2-40e4-8eaa-71d9edf59192",
   "metadata": {},
   "outputs": [],
   "source": [
    "# Define the cutoff\n",
    "cutoff = 0.5\n",
    "\n",
    "# Compute class predictions: y_prediction\n",
    "y_prediction = np.where(prediction > cutoff, 1, 0)"
   ]
  },
  {
   "cell_type": "markdown",
   "id": "d9846e0f-cdc0-4d11-80fd-e2cfedef2250",
   "metadata": {},
   "source": [
    "-    Extract column 'switch' from wells_test to obtain the actual class labels.\n",
    "-    Using crosstab() compute the confusion matrix with rownames set to 'Actual', columnames set to 'Predicted' and margins set to True.\n",
    "-    Print the results."
   ]
  },
  {
   "cell_type": "code",
   "execution_count": 59,
   "id": "6b6811e1-b4cf-448e-8a4c-dc62a3b87520",
   "metadata": {},
   "outputs": [
    {
     "name": "stdout",
     "output_type": "stream",
     "text": [
      "Predicted   0    1  All\n",
      "Actual                 \n",
      "0          12   85   97\n",
      "1           8   95  103\n",
      "All        20  180  200\n"
     ]
    }
   ],
   "source": [
    "# Compute class predictions y_pred\n",
    "y_prediction = np.where(prediction > cutoff, 1, 0)\n",
    "\n",
    "# Assign actual class labels from the test sample to y_actual\n",
    "y_actual = wells_test['switch']\n",
    "\n",
    "# Compute and print confusion matrix using crosstab function\n",
    "conf_mat = pd.crosstab(y_actual, y_prediction, \n",
    "                       rownames=['Actual'], \n",
    "                       colnames=['Predicted'], \n",
    "                       margins = True)\n",
    "                      \n",
    "# Print the confusion matrix\n",
    "print(conf_mat)"
   ]
  },
  {
   "cell_type": "code",
   "execution_count": null,
   "id": "45b533d3-3f63-439c-b45b-0449374cdec5",
   "metadata": {},
   "outputs": [],
   "source": []
  }
 ],
 "metadata": {
  "kernelspec": {
   "display_name": "Python 3 (ipykernel)",
   "language": "python",
   "name": "python3"
  },
  "language_info": {
   "codemirror_mode": {
    "name": "ipython",
    "version": 3
   },
   "file_extension": ".py",
   "mimetype": "text/x-python",
   "name": "python",
   "nbconvert_exporter": "python",
   "pygments_lexer": "ipython3",
   "version": "3.11.6"
  }
 },
 "nbformat": 4,
 "nbformat_minor": 5
}
