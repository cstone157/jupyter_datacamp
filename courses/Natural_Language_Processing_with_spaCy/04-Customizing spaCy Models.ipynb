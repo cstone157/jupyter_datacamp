{
 "cells": [
  {
   "cell_type": "code",
   "execution_count": 1,
   "id": "dd6e7d8e-aa5d-417f-ad77-ecbf0fbfbcd3",
   "metadata": {},
   "outputs": [],
   "source": [
    "import spacy\n",
    "from spacy.matcher import Matcher\n",
    "#!python3 -m spacy download en_core_web_sm\n",
    "\n",
    "import numpy as np\n",
    "import re\n",
    "\n",
    "import matplotlib.pyplot as plt\n",
    "from sklearn.decomposition import PCA\n",
    "\n",
    "nlp = spacy.load(\"en_core_web_md\")"
   ]
  },
  {
   "cell_type": "markdown",
   "id": "eca51cd9-6b79-4507-9a64-c97ad06133e3",
   "metadata": {},
   "source": [
    "## Model performance on your data\n",
    "\n",
    "### In this exercise, you will practice evaluating an existing model on your data. In this case, the aim is to examine model performance on a specific entity label, PRODUCT. If a model can accurately classify a large percentage of PRODUCT entities (e.g. more than 75%), you do not need to train the model on examples of PRODUCT entities, otherwise, you should consider training the model to improve its performance on PRODUCT entity prediction.\n",
    "\n",
    "### You'll use two reviews from the Amazon Fine Food Reviews dataset for this exercise. You can access these reviews by using the texts list.\n",
    "\n",
    "### The en_core_web_sm model is already loaded for you. You can access it by calling nlp(). The model is already ran on the texts list and documents, a list of Doc containers is available for your use.\n",
    "\n",
    "### Instructions\n",
    "-    Compile a target_entities list, of all the entities for each of the documents, and append a tuple of (entities text, entities label) only if Jumbo is in the entity text.\n",
    "-    For any tuple in the target_entities, append True to a correct_labels list if the entity label (second attribute in the tuple) is PRODUCT, otherwise append False."
   ]
  },
  {
   "cell_type": "code",
   "execution_count": 3,
   "id": "395ee665-9cb4-4235-9ba0-fbaa054676c6",
   "metadata": {},
   "outputs": [],
   "source": [
    "nlp = spacy.load(\"en_core_web_sm\")\n",
    "\n",
    "texts = ['Product arrived labeled as Jumbo Salted Peanuts.',\n",
    " 'Not sure if the product was labeled as Jumbo.']\n",
    "\n",
    "documents = [nlp(text) for text in texts]"
   ]
  },
  {
   "cell_type": "code",
   "execution_count": 4,
   "id": "ccb2fc3a-eee4-4d9c-964b-4477bf9e367b",
   "metadata": {},
   "outputs": [
    {
     "name": "stdout",
     "output_type": "stream",
     "text": [
      "[('Jumbo Salted Peanuts', 'PERSON'), ('Jumbo', 'PERSON')]\n",
      "[False, False]\n"
     ]
    }
   ],
   "source": [
    "# Append a tuple of (entities text, entities label) if Jumbo is in the entity\n",
    "target_entities = []\n",
    "for doc in documents:\n",
    "  target_entities.extend([(ent.text, ent.label_) for ent in doc.ents if \"Jumbo\" in ent.text])\n",
    "print(target_entities)\n",
    "\n",
    "# Append True to the correct_labels list if the entity label is `PRODUCT`\n",
    "correct_labels = []\n",
    "for ent in target_entities:\n",
    "  if ent[1] == \"PRODUCT\":\n",
    "    correct_labels.append(True)\n",
    "  else:\n",
    "    correct_labels.append(False)\n",
    "print(correct_labels)"
   ]
  },
  {
   "cell_type": "markdown",
   "id": "d3ca98f6-653e-4dea-b7a2-cf514d569dbe",
   "metadata": {},
   "source": [
    "## Annotation and preparing training data\n",
    "\n",
    "### After collecting data, you can annotate data in the required format for a spaCy model. In this exercise, you will practice forming the correct annotated data record for an NER task in the medical domain.\n",
    "\n",
    "### A sentence and two entities of entity_1 with a text of chest pain and a SYMPTOM type and entity_2 with a text of hyperthyroidism and a DISEASE type are available for you to use.\n",
    "\n",
    "### Instructions\n",
    "-    Complete the annotated_data record in the correct format.\n",
    "-    Extract start and end characters of each entity and store as the corresponding variables.\n",
    "-    Store the same input sentence and its entities in the proper training format as training_data."
   ]
  },
  {
   "cell_type": "code",
   "execution_count": 5,
   "id": "b1dd9477-76c7-4991-b457-ee82d83e6927",
   "metadata": {},
   "outputs": [
    {
     "name": "stdout",
     "output_type": "stream",
     "text": [
      "[('A patient with chest pain had hyperthyroidism.', {'entities': [(15, 25, 'SYMPTOM'), (30, 45, 'DISEASE')]})]\n"
     ]
    }
   ],
   "source": [
    "text = \"A patient with chest pain had hyperthyroidism.\"\n",
    "entity_1 = \"chest pain\"\n",
    "entity_2 = \"hyperthyroidism\"\n",
    "\n",
    "# Store annotated data information in the correct format\n",
    "annotated_data = {\"sentence\": text, \"entities\": [{\"label\": \"SYMPTOM\", \"value\": entity_1}, {\"label\": \"DISEASE\", \"value\": entity_2}]}\n",
    "\n",
    "# Extract start and end characters of each entity\n",
    "entity_1_start_char = text.index(entity_1)\n",
    "entity_1_end_char = entity_1_start_char + len(entity_1)\n",
    "entity_2_start_char = text.index(entity_2)\n",
    "entity_2_end_char = entity_2_start_char + len(entity_2)\n",
    "\n",
    "# Store the same input information in the proper format for training\n",
    "training_data = [(text, {\"entities\": [(entity_1_start_char,entity_1_end_char,\"SYMPTOM\"), \n",
    "                                      (entity_2_start_char,entity_2_end_char,\"DISEASE\")]})]\n",
    "print(training_data)"
   ]
  },
  {
   "cell_type": "markdown",
   "id": "7799f9e5-6a05-4672-96fe-21333e069a2b",
   "metadata": {},
   "source": [
    "## Compatible training data\n",
    "\n",
    "### Recall that you cannot feed the raw text directly to spaCy. Instead, you need to create an Example object for each training example. In this exercise, you will practice converting a training_data with a single annotated sentence into a list of Example objects.\n",
    "\n",
    "### en_core_web_sm model is already imported and ready for use as nlp. The Example class is also imported for your use.\n",
    "\n",
    "### Instructions\n",
    "-    Iterate through the text and annotations in the training_data, convert the text to a Doc container and store it at doc.\n",
    "-    Create an Example object using the doc object and the annotations of each training data point, and store it at example_sentence.\n",
    "-    Append example_sentence to a list of all_examples."
   ]
  },
  {
   "cell_type": "code",
   "execution_count": 6,
   "id": "9f1e0e84-2c1c-4f04-aa1c-fd3d88e53072",
   "metadata": {},
   "outputs": [],
   "source": [
    "from spacy.training import Example"
   ]
  },
  {
   "cell_type": "code",
   "execution_count": 7,
   "id": "44726603-427f-4bc1-b20d-611c1c9b7f28",
   "metadata": {},
   "outputs": [
    {
     "name": "stdout",
     "output_type": "stream",
     "text": [
      "{'doc_annotation': {'cats': {}, 'entities': ['O', 'O', 'O', 'B-SYMPTOM', 'L-SYMPTOM', 'O', 'U-DISEASE', 'O'], 'spans': {}, 'links': {}}, 'token_annotation': {'ORTH': ['A', 'patient', 'with', 'chest', 'pain', 'had', 'hyperthyroidism', '.'], 'SPACY': [True, True, True, True, True, True, False, False], 'TAG': ['', '', '', '', '', '', '', ''], 'LEMMA': ['', '', '', '', '', '', '', ''], 'POS': ['', '', '', '', '', '', '', ''], 'MORPH': ['', '', '', '', '', '', '', ''], 'HEAD': [0, 1, 2, 3, 4, 5, 6, 7], 'DEP': ['', '', '', '', '', '', '', ''], 'SENT_START': [1, 0, 0, 0, 0, 0, 0, 0]}} \n",
      "\n",
      "Number of formatted training data:  1\n"
     ]
    }
   ],
   "source": [
    "example_text = 'A patient with chest pain had hyperthyroidism.'\n",
    "training_data = [(example_text, {'entities': [(15, 25, 'SYMPTOM'), (30, 45, 'DISEASE')]})]\n",
    "\n",
    "all_examples = []\n",
    "# Iterate through text and annotations and convert text to a Doc container\n",
    "for text, annotations in training_data:\n",
    "  doc = nlp(text)\n",
    "  \n",
    "  # Create an Example object from the doc contianer and annotations\n",
    "  example_sentence = Example.from_dict(doc, annotations)\n",
    "  print(example_sentence.to_dict(), \"\\n\")\n",
    "  \n",
    "  # Append the Example object to the list of all examples\n",
    "  all_examples.append(example_sentence)\n",
    "  \n",
    "print(\"Number of formatted training data: \", len(all_examples))"
   ]
  },
  {
   "cell_type": "markdown",
   "id": "df850dba-9e7d-4689-a834-96319078c93e",
   "metadata": {},
   "source": [
    "## Training preparation steps\n",
    "\n",
    "### Before and during training of a spaCy model, you'll need to (1) disable other pipeline components in order to only train the intended component and (2) convert a Doc container of a training data point and its corresponding annotations into an Example class.\n",
    "\n",
    "### In this exercise, you will practice these two steps by using a pre-loaded en_core_web_sm model, which is accessible as nlp. Example class is already imported and a text string and related annotations are also available for your use.\n",
    "\n",
    "### Instructions\n",
    "-    Disable all pipeline components of the nlp model except ner.\n",
    "-    Convert a text string and its annotations to the correct format usable for training."
   ]
  },
  {
   "cell_type": "code",
   "execution_count": 8,
   "id": "4899f680-aef5-47bb-abaf-8439c5d19891",
   "metadata": {},
   "outputs": [],
   "source": [
    "text = 'I will visit you in Austin.'\n",
    "annotations = {'entities': [(20, 26, 'GPE')]}"
   ]
  },
  {
   "cell_type": "code",
   "execution_count": 9,
   "id": "a40a26d7-5d8c-4f72-bcfd-57443bcf823d",
   "metadata": {},
   "outputs": [
    {
     "name": "stdout",
     "output_type": "stream",
     "text": [
      "Example object for training: \n",
      " {'doc_annotation': {'cats': {}, 'entities': ['O', 'O', 'O', 'O', 'O', 'U-GPE', 'O'], 'spans': {}, 'links': {}}, 'token_annotation': {'ORTH': ['I', 'will', 'visit', 'you', 'in', 'Austin', '.'], 'SPACY': [True, True, True, True, True, False, False], 'TAG': ['', '', '', '', '', '', ''], 'LEMMA': ['', '', '', '', '', '', ''], 'POS': ['', '', '', '', '', '', ''], 'MORPH': ['', '', '', '', '', '', ''], 'HEAD': [0, 1, 2, 3, 4, 5, 6], 'DEP': ['', '', '', '', '', '', ''], 'SENT_START': [1, 0, 0, 0, 0, 0, 0]}}\n"
     ]
    }
   ],
   "source": [
    "nlp = spacy.load(\"en_core_web_sm\")\n",
    "\n",
    "# Disable all pipeline components of  except `ner`\n",
    "other_pipes = [pipe for pipe in nlp.pipe_names if pipe != 'ner']\n",
    "nlp.disable_pipes(*other_pipes)\n",
    "\n",
    "# Convert a text and its annotations to the correct format usable for training\n",
    "doc = nlp.make_doc(text)\n",
    "example = Example.from_dict(doc, annotations)\n",
    "print(\"Example object for training: \\n\", example.to_dict())"
   ]
  },
  {
   "cell_type": "markdown",
   "id": "23c7e9b9-57aa-4d1f-82b3-bc8cd4b606a0",
   "metadata": {},
   "source": [
    "## Train an existing NER model\n",
    "\n",
    "### A spaCy model may not work well on a given data. One solution is to train the model on our data. In this exercise, you will practice training a NER model in order to improve its prediction performance.\n",
    "\n",
    "### A spaCy en_core_web_sm model that is accessible as nlp, which is not able to correctly predict house as an entity in a test string.\n",
    "\n",
    "### Given a training_data, write the steps to update this model while iterating through the data two times. The other pipelines are already disabled and optimizer is also ready to be used. Number of epochs is already set to 2.\n",
    "\n",
    "### Instructions\n",
    "-    Use the optimizer object and for each epoch, shuffle the dataset using random package and create an Example object.\n",
    "-    Update the nlp model using .update attribute and set the sgd arguments to use the optimizer."
   ]
  },
  {
   "cell_type": "code",
   "execution_count": 15,
   "id": "ef4797ce-27d3-45f1-a3ab-01dcca40aa47",
   "metadata": {},
   "outputs": [],
   "source": [
    "import random\n",
    "\n",
    "training_data = [('I will visit you in Austin.', {'entities': [(20, 26, 'GPE')]}),\n",
    " (\"I'm going to Sam's house.\",\n",
    "  {'entities': [(13, 16, 'PERSON'), (19, 24, 'GPE')]}),\n",
    " ('I will go.', {'entities': []})]\n",
    "\n",
    "test = \"I'm going to Sam's house.\"\n",
    "\n",
    "epochs = 2"
   ]
  },
  {
   "cell_type": "code",
   "execution_count": 16,
   "id": "e328a1ed-7ee8-47d9-9e77-e53e1ab9ca88",
   "metadata": {},
   "outputs": [
    {
     "name": "stdout",
     "output_type": "stream",
     "text": [
      "Before training:  [('Sam', 'PERSON')]\n",
      "After training:  [('Sam', 'PERSON'), ('house', 'GPE')]\n"
     ]
    }
   ],
   "source": [
    "nlp = spacy.load(\"en_core_web_sm\")\n",
    "print(\"Before training: \", [(ent.text, ent.label_) for ent in nlp(test).ents])\n",
    "other_pipes = [pipe for pipe in nlp.pipe_names if pipe != 'ner']\n",
    "nlp.disable_pipes(*other_pipes)\n",
    "optimizer = nlp.create_optimizer()\n",
    "\n",
    "# Shuffle training data and the dataset using random package per epoch\n",
    "for i in range(epochs):\n",
    "  random.shuffle(training_data)\n",
    "  for text, annotations in training_data:\n",
    "    doc = nlp.make_doc(text)\n",
    "    # Update nlp model after setting sgd argument to optimizer\n",
    "    example = Example.from_dict(doc, annotations)\n",
    "    nlp.update([example], sgd = optimizer)\n",
    "print(\"After training: \", [(ent.text, ent.label_) for ent in nlp(test).ents])"
   ]
  },
  {
   "cell_type": "markdown",
   "id": "9885285a-ae11-4adf-98d8-99eb05eef28b",
   "metadata": {},
   "source": [
    "## Training a spaCy model from scratch\n",
    "\n",
    "### spaCy provides a very clean and efficient approach to train your own models. In this exercise, you will train a NER model from scratch on a real-world corpus (CORD-19 data).\n",
    "\n",
    "### Training data is available in the right format as training_data. In this exercise, you will use a given list of labels (\"Pathogen\", \"MedicalCondition\", \"Medicine\") stored in labels using a blank English model (nlp) with an NER component. Intended medical labels will be added the NER pipeline and then you can train the model for one epoch. You can use pre-imported Example class to convert the training data to the required format. To track model training you can add a losses list to the .update() method and review training loss.\n",
    "\n",
    "### Instructions\n",
    "-    Create a blank spaCy model and add an NER component to the model.\n",
    "-    Disable other pipeline components, use the created optimizer object and update the model weights using converted data to the Example format."
   ]
  },
  {
   "cell_type": "code",
   "execution_count": 20,
   "id": "43bbbe9c-309f-434f-89a2-7b9e0dcf9204",
   "metadata": {},
   "outputs": [],
   "source": [
    "training_data = [('Diarrhea, also spelled diarrhoea, is the condition of having at least three loose, liquid, or watery bowel movements each day.[2] It often lasts for a few days and can result in dehydration due to fluid loss.[2] Signs of dehydration often begin with loss of the normal stretchiness of the skin and irritable behaviour.[2] This can progress to decreased urination, loss of skin color, a fast heart rate, and a decrease in responsiveness as it becomes more severe.[2] Loose but non-watery stools in babies who are exclusively breastfed, however, are normal.[2]',\n",
    "  {'entities': [(364, 382, 'MedicalCondition'), (0, 8, 'MedicalCondition'), (94, 116, 'MedicalCondition'), (178, 189, 'MedicalCondition'),\n",
    "    (221, 232, 'MedicalCondition'), (23, 32, 'MedicalCondition'), (409, 435, 'MedicalCondition'), (386, 401, 'MedicalCondition')]}),\n",
    " ('Antiretroviral therapy (ART) is recommended for all HIV-infected individuals to reduce the risk of disease progression.\\nART also is recommended for HIV-infected individuals for the prevention of transmission of HIV.\\nPatients starting ART should be willing and able to commit to treatment and understand the benefits and risks of therapy and the importance of adherence. Patients may choose to postpone therapy, and providers, on a case-by-case basis, may elect to defer therapy on the basis of clinical and/or psychosocial factors.',\n",
    "  {'entities': [(0, 22, 'Medicine'), (24, 27, 'Medicine'), (120, 123, 'Medicine'), (211, 214, 'Pathogen'), (52, 55, 'Pathogen'),\n",
    "    (234, 237, 'Medicine'), (148, 151, 'Pathogen')]}),\n",
    " (\"The goals of treatment are to reduce pain, decrease inflammation, and improve a person's overall functioning.[5] This may be helped by balancing rest and exercise, the use of splints and braces, or the use of assistive devices.[1][6][7] Pain medications, steroids, and NSAIDs are frequently used to help with symptoms.[1] Disease-modifying antirheumatic drugs (DMARDs), such as hydroxychloroquine and methotrexate, may be used to try to slow the progression of disease.[1] Biological DMARDs may be used when disease does not respond to other treatments.[8] However, they may have a greater rate of adverse effects.[9] Surgery to repair, replace, or fuse joints may help in certain situations.[1] Most alternative medicine treatments are not supported by evidence.[10][11]\",\n",
    "  {'entities': [(401, 413, 'Medicine'), (378, 396, 'Medicine'), (473, 490, 'Medicine'), (255, 263, 'Medicine')]}),\n",
    " (\"Hantaviruses, usually found in rodents and shrews, were discovered in two species of bats. The Mouyassué virus (MOUV) was isolated from banana pipistrelle bats captured near Mouyassué village in Cote d'Ivoire, West Africa. The Magboi virus was isolated from hairy slit-faced bats found near the Magboi River in Sierra Leone in 2011. They are single-stranded, negative sense, RNA viruses in the Bunyaviridae family.[29][30][31][32]\",\n",
    "  {'entities': [(0, 12, 'Pathogen'), (394, 406, 'Pathogen'), (227, 239, 'Pathogen'), (95, 110, 'Pathogen')]}),\n",
    " ('Bats are the most common source of rabies in humans in North and South America, Western Europe, and Australia. In the United States, there were 19 cases of human rabies from 1997–2006, 17 of which were attributed to bats.[27] In North America, about half of human rabies instances are cryptic, meaning that the patient has no known bite history.[24] While it has been speculated that rabies virus could be transmitted through aerosols, studies of the rabies virus have concluded that this is only feasible in limited conditions. These conditions include a very large colony of bats in a hot and humid cave with poor ventilation. While two human deaths in 1956 and 1959 had been tentatively attributed to aerosolization of the rabies virus after entering a cave with bats, \"investigations of the 2 reported human cases revealed that both infections could be explained by means other than aerosol transmission\".[28] It is instead generally thought that most instances of cryptic rabies are the result of an unknown bat bite.[24] Bites from a bat can be so small that they are not visible without magnification equipment, for example. Outside of bites, rabies virus exposure can also occur if infected fluids come in contact with a mucous membrane or a break in the skin. Rabies virus has also been transmitted when an infected human unknowingly dies of rabies, and their organs are transplanted to others.[28]',\n",
    "  {'entities': [(35, 41, 'MedicalCondition'),\n",
    "    (162, 168, 'MedicalCondition'), (384, 396, 'Pathogen'), (1269, 1281, 'Pathogen'), (1343, 1347, 'MedicalCondition'),\n",
    "    (977, 983, 'MedicalCondition'), (1027, 1032, 'MedicalCondition')]}),\n",
    " ('Other groups of intracellular bacterial pathogens include Salmonella, Neisseria, Brucella, Mycobacterium, Nocardia, Listeria, Francisella, Legionella, and Yersinia pestis. These can exist intracellularly, but can exist outside of host cells.',\n",
    "  {'entities': [(116, 124, 'Pathogen'), (155, 170, 'Pathogen'), (126, 137, 'Pathogen'), (70, 79, 'Pathogen'),\n",
    "    (139, 149, 'Pathogen'), (106, 114, 'Pathogen'), (91, 104, 'Pathogen'), (81, 89, 'Pathogen'), (58, 68, 'Pathogen')]}),\n",
    " ('One of the bacterial diseases with the highest disease burden is tuberculosis, caused by Mycobacterium tuberculosis bacteria, which kills about 2 million people a year, mostly in sub-Saharan Africa. Pathogenic bacteria contribute to other globally important diseases, such as pneumonia, which can be caused by bacteria such as Streptococcus and Pseudomonas, and foodborne illnesses, which can be caused by bacteria such as Shigella, Campylobacter, and Salmonella. Pathogenic bacteria also cause infections such as tetanus, typhoid fever, diphtheria, syphilis, and leprosy. Pathogenic bacteria are also the cause of high infant mortality rates in developing countries.[3]',\n",
    "  {'entities': [(327, 340, 'Pathogen'), (514, 521, 'MedicalCondition'), (452, 462, 'Pathogen'), (276, 285, 'MedicalCondition'),\n",
    "    (523, 536, 'MedicalCondition'), (564, 571, 'MedicalCondition'), (433, 446, 'Pathogen'), (538, 548, 'MedicalCondition'),\n",
    "    (345, 356, 'Pathogen'), (65, 77, 'MedicalCondition'), (550, 558, 'MedicalCondition'), (89, 115, 'Pathogen'), (423, 431, 'Pathogen')]}),\n",
    " (\"Although the vast majority of bacteria are harmless or beneficial to one's body, a few pathogenic bacteria can cause infectious diseases. The most common bacterial disease is tuberculosis, caused by the bacterium Mycobacterium tuberculosis, which affects about 2 million people mostly in sub-Saharan Africa. Pathogenic bacteria contribute to other globally important diseases, such as pneumonia, which can be caused by bacteria such as Streptococcus and Pseudomonas, and foodborne illnesses, which can be caused by bacteria such as Shigella, Campylobacter, and Salmonella. Pathogenic bacteria also cause infections such as tetanus, typhoid fever, diphtheria, syphilis, and Hansen's disease. They typically range between 1 and 5 micrometers in length.\",\n",
    "  {'entities': [(659, 667, 'MedicalCondition'), (436, 449, 'Pathogen'), (673, 689, 'MedicalCondition'), (30, 38, 'Pathogen'),\n",
    "    (454, 465, 'Pathogen'), (647, 657, 'MedicalCondition'), (87, 106, 'Pathogen'), (532, 540, 'Pathogen'), (561, 571, 'Pathogen'),\n",
    "    (623, 630, 'MedicalCondition'), (471, 490, 'MedicalCondition'), (632, 645, 'MedicalCondition'), (542, 555, 'Pathogen')]}),\n",
    " ('Much like viral pathogens, infection by certain bacterial pathogens can be prevented via vaccines.[30] Vaccines against bacterial pathogens include the anthrax vaccine and the pneumococcal vaccine. Many other bacterial pathogens lack vaccines as a preventive measure, but infection by these bacteria can often be treated or prevented with antibiotics. Common antibiotics include amoxicillin, ciprofloxacin, and doxycycline. Each antibiotic has different bacteria that it is effective against and has different mechanisms to kill that bacteria. For example, doxycycline inhibits the synthesis of new proteins in both gram-negative and gram-positive bacteria which leads to the death of the affected bacteria.[35]',\n",
    "  {'entities': [(379, 390, 'Medicine'), (152, 167, 'Medicine'), (411, 422, 'Medicine'), (392, 405, 'Medicine'), (176, 196, 'Medicine')]}),\n",
    " ('The term pathogen came into use in the 1880s.[1][2] Typically, the term is used to describe an infectious microorganism or agent, such as a virus, bacterium, protozoan, prion, viroid, or fungus.[',\n",
    "  {'entities': [(158, 167, 'Pathogen'), (95, 119, 'Pathogen'), (187, 193, 'Pathogen'), (147, 156, 'Pathogen'), (140, 145, 'Pathogen')]}),\n",
    " (\"Some antidepressants are used as a treatment for social anxiety disorder, but their efficacy is not entirely convincing, as only a small proportion of antidepressants showed some efficacy for this condition. Paroxetine was the first drug to be FDA-approved for this disorder. Its efficacy is considered beneficial, although not everyone responds favorably to the drug. Sertraline and fluvoxamine extended release were later approved for it as well, while escitalopram is used off-label with acceptable efficacy. However, there isn't enough evidence to support citalopram for treating social phobia, and fluoxetine was no better than placebo in clinical trials. SSRIs are used as a first-line treatment for social anxiety, but they don't work for everyone. One alternative would be venlafaxine, which is a SNRI. It showed benefits for social phobia in five clinical trials against placebo, while the other SNRIs are not considered particularly useful for this disorder as many of them didn't undergo testing for it. As of now, it is unclear if duloxetine and desvenlafaxine can provide benefits for social anxiety sufferers. However, another class of antidepressants called MAOIs are considered effective for social anxiety, but they come with many unwanted side effects and are rarely used. Phenelzine was shown to be a good treatment option, but its use is limited by dietary restrictions. Moclobemide is a RIMA and showed mixed results but still got approval in some European countries for social anxiety disorder. TCA antidepressants, such as clomipramine and imipramine, are not considered effective for this anxiety disorder in particular. This leaves out SSRIs such as paroxetine, sertraline and fluvoxamine CR as acceptable and tolerated treatment options for this disorder.[19][20]\",\n",
    "  {'entities': [(384, 395, 'Medicine'), (1098, 1112, 'MedicalCondition'), (1687, 1697, 'Medicine'), (49, 72, 'MedicalCondition'),\n",
    "    (1173, 1178, 'Medicine'), (1702, 1713, 'Medicine'), (781, 792, 'Medicine'), (1563, 1573, 'Medicine'), (603, 613, 'Medicine'),\n",
    "    (1675, 1685, 'MedicalCondition'), (1613, 1629, 'MedicalCondition'), (369, 379, 'Medicine'), (1291, 1301, 'Medicine'), (1546, 1558, 'Medicine'),\n",
    "    (455, 467, 'Medicine'), (1391, 1402, 'Medicine'), (584, 597, 'MedicalCondition')]}),\n",
    " (\"However, existing data suggest that patients taking bedaquiline in addition to standard TB therapy are five times more likely to die than those without the new drug,[184] which has resulted in medical journal articles raising health policy questions about why the FDA approved the drug and whether financial ties to the company making bedaquiline influenced physicians' support for its use.[183][185]\",\n",
    "  {'entities': [(88, 98, 'Medicine'), (335, 346, 'Medicine'), (52, 63, 'Medicine')]}),\n",
    " ('Tuberculosis may infect any part of the body, but most commonly occurs in the lungs (known as pulmonary tuberculosis).[9] Extrapulmonary TB occurs when tuberculosis develops outside of the lungs, although extrapulmonary TB may coexist with pulmonary TB.[9]\\n\\nGeneral signs and symptoms include fever, chills, night sweats, loss of appetite, weight loss, and fatigue.[9] Significant nail clubbing may also occur.[16]',\n",
    "  {'entities': []}),\n",
    " ('A number of factors make people more susceptible to TB infections. The most important risk factor globally is HIV; 13% of all people with TB are infected by the virus.[39] This is a particular problem in sub-Saharan Africa, where rates of HIV are high.[40][41] Of people without HIV who are infected with tuberculosis, about 5–10% develop active disease during their lifetimes;[16] in contrast, 30% of those coinfected with HIV develop the active disease.[16]',\n",
    "  {'entities': [(279, 282, 'Pathogen')]}),\n",
    " ('Examples of common human diseases caused by viruses include the common cold, influenza, chickenpox, and cold sores. Many serious diseases such as rabies, Ebola virus disease, AIDS (HIV), avian influenza, and SARS are caused by viruses. The relative ability of viruses to cause disease is described in terms of virulence. Other diseases are under investigation to discover if they have a virus as the causative agent, such as the possible connection between human herpesvirus 6 (HHV6) and neurological diseases such as multiple sclerosis and chronic fatigue syndrome.[151] There is controversy over whether the bornavirus, previously thought to cause neurological diseases in horses, could be responsible for psychiatric illnesses in humans.[152]',\n",
    "  {'entities': [(518, 536, 'MedicalCondition'), (154, 165, 'Pathogen'), (708, 729, 'MedicalCondition'), (463, 476, 'Pathogen'),\n",
    "    (77, 86, 'MedicalCondition'), (88, 98, 'MedicalCondition'), (187, 202, 'MedicalCondition'), (610, 620, 'Pathogen')]}),\n",
    " ('Buprenorphine has been shown experimentally (1982–1995) to be effective against severe, refractory depression',\n",
    "  {'entities': [(0, 13, 'Medicine'), (88, 109, 'MedicalCondition')]}),\n",
    " ('Bupropion (Wellbutrin), an anti-depressant, is also used as a smoking cessation aid; this indication was later approved, and the name of the smoking cessation product is Zyban. In Ontario, Canada, smoking cessation drugs are not covered by provincial drug plans; elsewhere, Zyban is priced higher than Wellbutrin, despite being the same drug. Therefore, some physicians prescribe Wellbutrin for both indications.[',\n",
    "  {'entities': [(274, 279, 'Medicine'), (11, 21, 'Medicine'), (302, 312, 'Medicine'), (380, 390, 'Medicine'), (170, 175, 'Medicine'), (0, 9, 'Medicine')]}),\n",
    " ('Carbamazepine is an approved treatment for bipolar disorder and epileptic seizures, but it has side effects useful in treating attention-deficit hyperactivity disorder (ADHD), schizophrenia, phantom limb syndrome, paroxysmal extreme pain disorder, neuromyotonia, and post-traumatic stress disorder.[8]',\n",
    "  {'entities': [(267, 288, 'MedicalCondition'), (248, 261, 'MedicalCondition'), (0, 13, 'Medicine'), (43, 59, 'MedicalCondition'),\n",
    "    (145, 167, 'MedicalCondition'), (176, 189, 'MedicalCondition'), (64, 82, 'MedicalCondition'), (191, 212, 'MedicalCondition')]}),\n",
    " ('The antiviral drugs amantadine and rimantadine inhibit a viral ion channel (M2 protein), thus inhibiting replication of the influenza A virus.[86] These drugs are sometimes effective against influenza A if given early in the infection but are ineffective against influenza B viruses, which lack the M2 drug target.[160] Measured resistance to amantadine and rimantadine in American isolates of H3N2 has increased to 91% in 2005.[161] This high level of resistance may be due to the easy availability of amantadines as part of over-the-counter cold remedies in countries such as China and Russia,[162] and their use to prevent outbreaks of influenza in farmed poultry.[163][164] The CDC recommended against using M2 inhibitors during the 2005–06 influenza season due to high levels of drug resistance.[165]',\n",
    "  {'entities': [(639, 648, 'MedicalCondition'), (35, 46, 'Medicine'), (712, 725, 'Medicine'), (20, 30, 'Medicine')]}),\n",
    " ('The two classes of antiviral drugs used against influenza are neuraminidase inhibitors (oseltamivir, zanamivir, laninamivir and peramivir) and M2 protein inhibitors (adamantane derivatives)',\n",
    "  {'entities': [(128, 137, 'Medicine'), (101, 110, 'Medicine'), (112, 123, 'Medicine'), (48, 57, 'MedicalCondition'), (88, 99, 'Medicine')]})]\n",
    "\n",
    "text = 'The two classes of antiviral drugs used against influenza are neuraminidase inhibitors (oseltamivir, zanamivir, laninamivir and peramivir) and M2 protein inhibitors (adamantane derivatives)'\n",
    "labels = ['Pathogen', 'MedicalCondition', 'Medicine']"
   ]
  },
  {
   "cell_type": "code",
   "execution_count": 21,
   "id": "9d792b3b-ffa7-49d0-b357-b131981c3b5c",
   "metadata": {},
   "outputs": [
    {
     "name": "stdout",
     "output_type": "stream",
     "text": [
      "{'ner': 99.35713374614716}\n",
      "{'ner': 190.30853682756424}\n",
      "{'ner': 311.3611886501312}\n",
      "{'ner': 377.91553181409836}\n",
      "{'ner': 580.8560008406639}\n",
      "{'ner': 610.654515504837}\n",
      "{'ner': 673.2626938521862}\n",
      "{'ner': 725.7986409887671}\n",
      "{'ner': 745.9462028536946}\n",
      "{'ner': 755.2395603848854}\n",
      "{'ner': 788.5934267874109}\n",
      "{'ner': 794.5253374492286}\n",
      "{'ner': 794.7103092671293}\n",
      "{'ner': 796.7045415722134}\n",
      "{'ner': 812.6534608074492}\n",
      "{'ner': 816.6401432161048}\n",
      "{'ner': 828.4768828170328}\n",
      "{'ner': 844.368554690433}\n",
      "{'ner': 852.3417709166351}\n",
      "{'ner': 862.2381579514815}\n"
     ]
    }
   ],
   "source": [
    "# Load a blank English model, add NER component, add given labels to the ner pipeline\n",
    "nlp = spacy.blank(\"en\")\n",
    "ner = nlp.add_pipe(\"ner\")\n",
    "for ent in labels:\n",
    "    ner.add_label(ent)\n",
    "\n",
    "# Disable other pipeline components, complete training loop and run training loop\n",
    "other_pipes = [pipe for pipe in nlp.pipe_names if pipe != \"ner\"]\n",
    "nlp.disable_pipes(*other_pipes)\n",
    "losses = {}\n",
    "optimizer = nlp.begin_training()\n",
    "for text, annotation in training_data:\n",
    "    doc = nlp.make_doc(text)\n",
    "    example = Example.from_dict(doc, annotation)\n",
    "    nlp.update([example], sgd=optimizer, losses=losses)\n",
    "    print(losses)"
   ]
  },
  {
   "cell_type": "code",
   "execution_count": null,
   "id": "2d82b7df-44ba-4eea-814d-6966d12baf43",
   "metadata": {},
   "outputs": [],
   "source": []
  }
 ],
 "metadata": {
  "kernelspec": {
   "display_name": "Python 3 (ipykernel)",
   "language": "python",
   "name": "python3"
  },
  "language_info": {
   "codemirror_mode": {
    "name": "ipython",
    "version": 3
   },
   "file_extension": ".py",
   "mimetype": "text/x-python",
   "name": "python",
   "nbconvert_exporter": "python",
   "pygments_lexer": "ipython3",
   "version": "3.11.6"
  }
 },
 "nbformat": 4,
 "nbformat_minor": 5
}
