{
 "cells": [
  {
   "cell_type": "markdown",
   "id": "f74e4ce4-d1f5-40ef-a1f2-94a86acce531",
   "metadata": {},
   "source": [
    "## Checking inflation\n",
    "\n",
    "You've been asked to support the UK Government in analyzing their inflation statistics.\n",
    "\n",
    "They've supplied you with data for September and August 2023 stored as two float variables, inflation_september and inflation_august respectively.\n",
    "\n",
    "You'll need to build a workflow that compares these statistics.\n",
    "\n",
    "### Instructions 1/3\n",
    "    - Check if inflation_september is less than inflation_august, printing \"Inflation decreased\" if this is the case."
   ]
  },
  {
   "cell_type": "code",
   "execution_count": 1,
   "id": "187fe5c1-78da-4953-b97f-f165a0e4596f",
   "metadata": {},
   "outputs": [],
   "source": [
    "inflation_september = 6.7\n",
    "inflation_august = 6.7"
   ]
  },
  {
   "cell_type": "code",
   "execution_count": 2,
   "id": "7e702295-98bf-4f1c-bf65-fac37af219f2",
   "metadata": {},
   "outputs": [],
   "source": [
    "# Check if September inflation is less than August inflation\n",
    "if inflation_september < inflation_august:\n",
    "\tprint(\"Inflation decreased\")"
   ]
  },
  {
   "cell_type": "markdown",
   "id": "32433f9a-a9f0-4db4-876d-65711f6e5da4",
   "metadata": {},
   "source": [
    "### Instructions 2/3\n",
    "    - Else, check if inflation_september is more than inflation_august, printing \"Inflation increased\" if true."
   ]
  },
  {
   "cell_type": "code",
   "execution_count": 3,
   "id": "accad910-d1d7-4f28-b1ee-5a600a10a20a",
   "metadata": {},
   "outputs": [],
   "source": [
    "# Check if September inflation is less than August inflation\n",
    "if inflation_september < inflation_august:\n",
    "  print(\"Inflation decreased\")\n",
    "\n",
    "# Check if September inflation is more than August inflation\n",
    "elif inflation_september > inflation_august:\n",
    "  print(\"Inflation increased\")"
   ]
  },
  {
   "cell_type": "markdown",
   "id": "7b310638-3e42-46b8-bbce-5df22b245f13",
   "metadata": {},
   "source": [
    "### Instructions 3/3\n",
    "    - Otherwise, print \"Inflation remained stable\"."
   ]
  },
  {
   "cell_type": "code",
   "execution_count": 4,
   "id": "70053ee2-4616-47af-b892-fbd3f48a2387",
   "metadata": {},
   "outputs": [
    {
     "name": "stdout",
     "output_type": "stream",
     "text": [
      "Inflation remained stable\n"
     ]
    }
   ],
   "source": [
    "# Check if September inflation is less than August inflation\n",
    "if inflation_september < inflation_august:\n",
    "  print(\"Inflation decreased\")\n",
    "\n",
    "# Check if September inflation is more than August inflation\n",
    "elif inflation_september > inflation_august:\n",
    "  print(\"Inflation increased\")\n",
    "  \n",
    "# Confirm that they are equal\n",
    "else:\n",
    "  print(\"Inflation remained stable\")"
   ]
  },
  {
   "cell_type": "markdown",
   "id": "6566565a-37d7-4b86-a7d2-bc764f4fda77",
   "metadata": {},
   "source": [
    "## On the rental market\n",
    "\n",
    "You are looking to move and have defined variables containing your requirements/limits for number of bedrooms, minimum square feet (area), and maximum rent:\n",
    "\n",
    "<code>\n",
    "min_num_beds = 2\n",
    "min_sq_foot = 750\n",
    "max_rent = 1900\n",
    "</code>\n",
    "\n",
    "You've seen a property you are interested in and have stored its information in the variables num_beds, sq_foot, and rent. You will build a custom workflow to check if this potential property suits your needs.\n",
    "\n",
    "### Instructions\n",
    "    - Check if num_beds is less than min_num_beds, printing \"Insufficient bedrooms\" if this is the case.\n",
    "    - Else, check if sq_foot is less than or equal to min_sq_foot, printing \"Too small\" if this is the case.\n",
    "    - Else, check if rent is more than max_rent, printing \"Too expensive\" if this is the case.\n",
    "    - Otherwise, print \"This looks promising!\"."
   ]
  },
  {
   "cell_type": "code",
   "execution_count": 5,
   "id": "e9c3b641-5ebf-4920-af32-adf0fa928e60",
   "metadata": {},
   "outputs": [],
   "source": [
    "num_beds = 3\n",
    "min_num_beds = 2\n",
    "sq_foot = 800\n",
    "min_sq_foot = 750\n",
    "rent = 1750\n",
    "max_rent = 1900"
   ]
  },
  {
   "cell_type": "code",
   "execution_count": 6,
   "id": "61c36557-643f-4593-a26d-e1658ba9420c",
   "metadata": {},
   "outputs": [
    {
     "name": "stdout",
     "output_type": "stream",
     "text": [
      "This looks promising!\n"
     ]
    }
   ],
   "source": [
    "# Check the number of beds\n",
    "if num_beds < min_num_beds:\n",
    "  print(\"Insufficient bedrooms\")\n",
    "\n",
    "# Check square feet\n",
    "elif sq_foot <= min_sq_foot:\n",
    "  print(\"Too small\")\n",
    "  \n",
    "# Check the rent\n",
    "elif rent > max_rent:\n",
    "  print(\"Too expensive\")\n",
    "  \n",
    "# If all conditions met\n",
    "else:\n",
    "  print(\"This looks promising!\")"
   ]
  },
  {
   "cell_type": "markdown",
   "id": "35090e2e-a586-4125-be0b-faef1171a954",
   "metadata": {},
   "source": [
    "## Looping through a list\n",
    "\n",
    "Time to test your for-loop skills! In the script.py a list called user_ids has been stored, containing, you guessed it - user IDs!\n",
    "\n",
    "Your task is to loop through the list and print each ID individually.\n",
    "\n",
    "### Instructions\n",
    "    - Create a for loop to iterate over each user_id in user_ids.\n",
    "    - Within the for loop, print the user_id."
   ]
  },
  {
   "cell_type": "code",
   "execution_count": 7,
   "id": "c55f1246-309b-460d-bab5-0fca8e0f431a",
   "metadata": {},
   "outputs": [
    {
     "name": "stdout",
     "output_type": "stream",
     "text": [
      "T42YG4KTK\n",
      "VTQ39IDQ0\n",
      "CRL11YUWX\n",
      "K6Y5URXLR\n",
      "V4XCBER7V\n",
      "IOGQWC61K\n"
     ]
    }
   ],
   "source": [
    "user_ids = [\"T42YG4KTK\", \"VTQ39IDQ0\", \"CRL11YUWX\", \n",
    "            \"K6Y5URXLR\", \"V4XCBER7V\", \"IOGQWC61K\"]\n",
    "\n",
    "# Loop through user_ids\n",
    "for user_id in user_ids:\n",
    "  # Print the user_id\n",
    "  print(user_id)"
   ]
  },
  {
   "cell_type": "markdown",
   "id": "df08f1db-a044-4bb4-af64-fbfe1248b187",
   "metadata": {},
   "source": [
    "## Updating a variable with for loops\n",
    "\n",
    "You're planning to hold a party so you can show off your playlist to friends and family. You've hired a venue that has a maximum capacity of 30 people, and you'd like to keep track of tickets sold.\n",
    "\n",
    "This is a perfect opportunity to use a for loop - it will increment the value of a variable each time a ticket is sold and then print a statement once the event is sold out.\n",
    "\n",
    "### Instructions\n",
    "    - Create a variable called tickets_sold with a value of 0.\n",
    "    - Create a variable called max_capacity with a value of 30.\n",
    "    - Loop through a range starting at 1 and finishing at max_capacity plus one.\n",
    "    - Inside the for loop, add 1 to the value of tickets_sold."
   ]
  },
  {
   "cell_type": "code",
   "execution_count": 8,
   "id": "018b1051-e042-4d4f-bd2f-e1849c09cadf",
   "metadata": {},
   "outputs": [
    {
     "name": "stdout",
     "output_type": "stream",
     "text": [
      "Sold out: 30 tickets sold!\n"
     ]
    }
   ],
   "source": [
    "# Create the tickets_sold variable\n",
    "tickets_sold = 0\n",
    "\n",
    "# Create the max_capacity variable\n",
    "max_capacity = 30\n",
    "\n",
    "# Loop through a range up to and including max_capacity's value\n",
    "for i in range(1, max_capacity+1):\n",
    "  \n",
    "  # Add one to tickets_sold in each iteration\n",
    "  tickets_sold += 1\n",
    "  \n",
    "print(\"Sold out:\", tickets_sold, \"tickets sold!\")"
   ]
  },
  {
   "cell_type": "markdown",
   "id": "ab242a39-c2ac-4579-825e-01b5f2f594b3",
   "metadata": {},
   "source": [
    "## Conditional looping with a dictionary\n",
    "\n",
    "Your friend at LLM Camp has provided you with a dictionary called courses. It contains the names of courses as keys and their associated topic as a value. There are three topics: \"AI\", \"Programming\", and \"Data Engineering\".\n",
    "\n",
    "<code>\n",
    "courses = {\"LLM Concepts\": \"AI\", \n",
    "           \"Introduction to Data Pipelines\": \"Data Engineering\", \n",
    "           \"AI Ethics\": \"AI\",\n",
    "           \"Introduction to dbt\": \"Data Engineering\", \n",
    "           \"Writing Efficient Python Code\": \"Programming\",\n",
    "           \"Introduction to Docker\": \"Programming\"}\n",
    "</code>\n",
    "\n",
    "This is a great chance to practice looping through dictionaries!\n",
    "\n",
    "### Instructions\n",
    "    - Create a for loop to iterate over key, value in courses.items().\n",
    "    - Check if the value is \"AI\", and print the key if so.\n",
    "    - Else, check if the value is \"Programming\", printing the key if so.\n",
    "    - Otherwise, print the key to confirm it is a \"Data Engineering\" course."
   ]
  },
  {
   "cell_type": "code",
   "execution_count": 9,
   "id": "702dba34-8e3a-4a01-a936-b95db72f708e",
   "metadata": {},
   "outputs": [],
   "source": [
    "courses = {'LLM Concepts': 'AI', 'Introduction to Data Pipelines': 'Data Engineering', 'AI Ethics': 'AI',\n",
    " 'Introduction to dbt': 'Data Engineering', 'Writing Efficient Python Code': 'Programming', 'Introduction to Docker': 'Programming'}"
   ]
  },
  {
   "cell_type": "code",
   "execution_count": 10,
   "id": "9367cce3-792d-4b84-98ba-632cbf848a86",
   "metadata": {},
   "outputs": [
    {
     "name": "stdout",
     "output_type": "stream",
     "text": [
      "LLM Concepts is an AI course\n",
      "Introduction to Data Pipelines is a Data Engineering course\n",
      "AI Ethics is an AI course\n",
      "Introduction to dbt is a Data Engineering course\n",
      "Writing Efficient Python Code is a Programming course\n",
      "Introduction to Docker is a Programming course\n"
     ]
    }
   ],
   "source": [
    "# Loop through the dictionary's keys and values\n",
    "for key, value in courses.items():\n",
    "  \n",
    "  # Check if the value is \"AI\"\n",
    "  if value == \"AI\":\n",
    "    print(key, \"is an AI course\")\n",
    "  \n",
    "  # Check if the value is \"Programming\"\n",
    "  elif value == \"Programming\":\n",
    "    print(key, \"is a Programming course\")\n",
    "  \n",
    "  # Otherwise, print that it is a \"Data Engineering\" course\n",
    "  else:\n",
    "    print(key, \"is a Data Engineering course\")"
   ]
  },
  {
   "cell_type": "markdown",
   "id": "1f072a08-445d-4a4e-8a26-093ed3560e4e",
   "metadata": {},
   "source": [
    "## Converting to a while loop\n",
    "\n",
    "You can often achieve the same tasks using either a for or while loop.\n",
    "\n",
    "To demonstrate this, you're going to take the for loop you built earlier in the course and modify it to use a while loop that achieves the same results!\n",
    "\n",
    "```\n",
    "# Create the tickets_sold variable\n",
    "tickets_sold = 0\n",
    "\n",
    "# Create the max_capacity variable\n",
    "max_capacity = 10\n",
    "\n",
    "#&nbsp;Loop through a range up to and including max_capacity's value\n",
    "for tickets in range(1, max_capacity + 1):\n",
    "\n",
    "  # Add one to tickets_sold in each iteration\n",
    "  tickets_sold += 1\n",
    "\n",
    "print(\"Sold out:\", tickets_sold, \"tickets sold!\")\n",
    "```\n",
    "\n",
    "### Instructions\n",
    "    - Create a while loop to run while tickets_sold is less than max_capacity.\n",
    "    - Inside the loop, increment tickets_sold by 1, representing an increase for each ticket sold.\n",
    "    - Outside of the loop, print tickets_sold."
   ]
  },
  {
   "cell_type": "code",
   "execution_count": 11,
   "id": "23fa0c01-d87b-4b44-8649-15b30febb1d7",
   "metadata": {},
   "outputs": [
    {
     "name": "stdout",
     "output_type": "stream",
     "text": [
      "Sold out: 10 tickets sold!\n"
     ]
    }
   ],
   "source": [
    "tickets_sold = 0\n",
    "max_capacity = 10\n",
    "\n",
    "# Create a while loop\n",
    "while tickets_sold < max_capacity:\n",
    "  \n",
    "  # Add one to tickets_sold in each iteration\n",
    "  tickets_sold += 1\n",
    "\n",
    "# Print the number of tickets sold\n",
    "print(\"Sold out:\", tickets_sold, \"tickets sold!\")"
   ]
  },
  {
   "cell_type": "markdown",
   "id": "93b2e257-1ed0-4b58-b1f0-9269c639c918",
   "metadata": {},
   "source": [
    "## Conditional while loops\n",
    "\n",
    "You've offered to help build a program that LLM Camp can use to promote an upcoming new course launching on the 26th of the month.\n",
    "\n",
    "Today's date is the 22nd, and they have a pre-release version available from the 24th for all users who purchase a subscription on or before the 24th!\n",
    "\n",
    "You'll need to build a custom workflow that provides tailored messages depending on the date.\n",
    "\n",
    "### Instructions\n",
    "    - Create a while loop based on current_date being less than or equal to release_date.\n",
    "    - Increment current_date by one for each day that passes.\n",
    "    - Check if current_date is less than or equal to 24 and, if so, print \"Purchase before the 25th for early access\"\n",
    "    - Otherwise, check if current_date is equal to 25, printing \"Coming soon!\"."
   ]
  },
  {
   "cell_type": "code",
   "execution_count": 12,
   "id": "1940eb49-127e-4332-bbc6-782c4d4c4917",
   "metadata": {},
   "outputs": [
    {
     "name": "stdout",
     "output_type": "stream",
     "text": [
      "Purchase before the 25th for early access\n",
      "Purchase before the 25th for early access\n",
      "Coming soon!\n",
      "Available now!\n",
      "Available now!\n"
     ]
    }
   ],
   "source": [
    "release_date = 26\n",
    "current_date = 22\n",
    "\n",
    "# Create a conditional loop while current_date is less than or equal to the release_date\n",
    "while current_date <= release_date:\n",
    "  \n",
    "  # Increment current_date by one\n",
    "  current_date += 1\n",
    "  \n",
    "  # Promote purchases\n",
    "  if current_date <= 24:\n",
    "    print(\"Purchase before the 25th for early access\")\n",
    "  \n",
    "  # Check if the date is equal to the 25th\n",
    "  elif current_date == 25:\n",
    "    print(\"Coming soon!\")\n",
    "  else:\n",
    "    print(\"Available now!\")"
   ]
  },
  {
   "cell_type": "markdown",
   "id": "160f58be-d3fc-4552-9f1c-779aa7b5d987",
   "metadata": {},
   "source": [
    "## Appending to a list\n",
    "\n",
    "You've been provided with a dictionary called authors, which has information about 20 of the most popular fiction authors in the World. It contains the names of authors as keys and the number of books they've created as values.\n",
    "\n",
    "You're interested in finding out how many of these authors have made less than 25 books. To do this, you will create a list called authors_below_twenty_five, filling it with author names conditionally based on whether they have created less than 25 books.\n",
    "\n",
    "### Instructions\n",
    "    - Create an empty list called authors_below_twenty_five.\n",
    "    - Loop through key and value in the authors dictionary.\n",
    "    - Inside the for loop, check if the number of books is less than 25.\n",
    "    - If so, append the author's name to the authors_below_twenty_five list."
   ]
  },
  {
   "cell_type": "code",
   "execution_count": 13,
   "id": "ab8f4ef3-8bb2-4d48-886c-e756ea0306f0",
   "metadata": {},
   "outputs": [],
   "source": [
    "authors = {'Penny Jordan': 200, 'Nicholas Sparks': 22, 'Ken Follett': 30, 'Erskine Caldwell': 25,\n",
    " 'Wilbur Smith': 32, 'Judith Krantz': 12, 'Harold Robbins': 23, 'J. K. Rowling': 22,\n",
    " 'Debbie Macomber': 199, 'Eiichiro Oda': 106, 'Danielle Steel': 179, 'Barbara Cartland': 723,\n",
    " 'Georges Simenon': 570, 'Corín Tellado': 4000, 'Clive Cussler': 37, 'Sidney Sheldon': 21,\n",
    " 'Dean Koontz': 91, 'Janet Dailey': 93, 'Jirō Akagawa': 500, 'Stephen King': 77}"
   ]
  },
  {
   "cell_type": "code",
   "execution_count": 14,
   "id": "623609f5-c899-4fba-b626-177b0d9aa78f",
   "metadata": {},
   "outputs": [
    {
     "name": "stdout",
     "output_type": "stream",
     "text": [
      "['Nicholas Sparks', 'Judith Krantz', 'Harold Robbins', 'J. K. Rowling', 'Sidney Sheldon']\n"
     ]
    }
   ],
   "source": [
    "# Create an empty list\n",
    "authors_below_twenty_five = []\n",
    "\n",
    "# Loop through the authors dictionary\n",
    "for key, value in authors.items():\n",
    "  \n",
    "  # Check for values less than 25\n",
    "  if value < 25:\n",
    "    \n",
    "    # Append the author to the list\n",
    "    authors_below_twenty_five.append(key)\n",
    "    \n",
    "print(authors_below_twenty_five)"
   ]
  },
  {
   "cell_type": "markdown",
   "id": "a62e1106-d30d-4b27-9dad-10f6fb6b2358",
   "metadata": {},
   "source": [
    "## Book genre popularity\n",
    "\n",
    "Previously, you worked with a dictionary containing information about authors and the number of books that they have written.\n",
    "\n",
    "In this exercise, data about the same authors has been aggregated to create a new dictionary called genre_sales, where the keys are the genre and the values are the average sales for that genre among the 20 most popular authors.\n",
    "\n",
    "Your job is to find the most and least popular genres among these authors, along with their average sales revenue.\n",
    "\n",
    "### Instructions\n",
    "    - Filter where average_sale is equal to the largest sales revenue (5166000000) in genre_sales.\n",
    "    - Print the genre with the largest average sales.\n",
    "    - Next, filter where average_sale is equal to the smallest sales revenue (80000000).\n",
    "    - Lastly, print the genre with the smallest average sales."
   ]
  },
  {
   "cell_type": "code",
   "execution_count": 15,
   "id": "705f9269-3063-4c9d-9ffc-03badbf5e93c",
   "metadata": {},
   "outputs": [],
   "source": [
    "genre_sales = {'Adventure': 367500000, 'Horror': 312500000, 'Literature': 80000000, 'Manga': 5166000000,\n",
    " 'Mystery': 300000000, 'Romance': 252500000, 'Thriller': 320000000}"
   ]
  },
  {
   "cell_type": "code",
   "execution_count": 16,
   "id": "21ef2511-5b5e-422b-b53f-d6663116791f",
   "metadata": {},
   "outputs": [
    {
     "name": "stdout",
     "output_type": "stream",
     "text": [
      "Least popular genre:  Literature\n",
      "Average sales:  80000000\n",
      "Most popular genre:  Manga\n",
      "Average sales:  5166000000\n"
     ]
    }
   ],
   "source": [
    "for genre, average_sale in genre_sales.items():\n",
    "    \n",
    "    # Filter for the maximum sales value\n",
    "    if average_sale == 5166000000:\n",
    "      \n",
    "      # Print the genre\n",
    "      print(\"Most popular genre: \", genre)\n",
    "      print(\"Average sales: \", average_sale)\n",
    "    \n",
    "    # Filter for the minimum sales value\n",
    "    elif average_sale ==  80000000:\n",
    "      \n",
    "      # Print the genre\n",
    "      print(\"Least popular genre: \", genre)\n",
    "      print(\"Average sales: \", average_sale)"
   ]
  },
  {
   "cell_type": "markdown",
   "id": "32b6b248-ccfe-4fdc-8750-0706615c3600",
   "metadata": {},
   "source": [
    "## Working with keywords\n",
    "\n",
    "Working with the genre_sales dictionary again, this time you will apply multiple conditions simultaneously to find out information about book genres and average sales!\n",
    "\n",
    "### Instructions 1/2\n",
    "    - Loop through the keys and values of the genre_sales dictionary.\n",
    "    - Inside the loop, check if the genre is \"Horror\" or \"Mystery\"."
   ]
  },
  {
   "cell_type": "code",
   "execution_count": 17,
   "id": "3055c995-faf7-4003-81e8-631eab9ff8ba",
   "metadata": {},
   "outputs": [],
   "source": [
    "genre_sales = {'Adventure': 367500000, 'Horror': 312500000, 'Literature': 80000000, 'Manga': 5166000000,\n",
    " 'Mystery': 300000000, 'Romance': 252500000, 'Thriller': 320000000}"
   ]
  },
  {
   "cell_type": "code",
   "execution_count": 18,
   "id": "7d77134c-1f13-4006-87e0-a678ec0f2151",
   "metadata": {},
   "outputs": [
    {
     "name": "stdout",
     "output_type": "stream",
     "text": [
      "Horror 312500000\n",
      "Mystery 300000000\n"
     ]
    }
   ],
   "source": [
    "# Loop through the dictionary\n",
    "for genre, sale in genre_sales.items():\n",
    "  \n",
    "  # Check if genre is Horror or Mystery\n",
    "  if genre == \"Horror\" or genre == \"Mystery\":\n",
    "    print(genre, sale)"
   ]
  },
  {
   "cell_type": "markdown",
   "id": "03b4adec-6756-4264-ae39-6544fbf1a81a",
   "metadata": {},
   "source": [
    "### Instructions 2/2\n",
    "    - "
   ]
  },
  {
   "cell_type": "code",
   "execution_count": 19,
   "id": "e5846280-586d-4029-adbe-6da2f936df11",
   "metadata": {},
   "outputs": [
    {
     "name": "stdout",
     "output_type": "stream",
     "text": [
      "Horror 312500000\n",
      "Mystery 300000000\n",
      "Thriller 320000000\n"
     ]
    }
   ],
   "source": [
    "# Loop through the dictionary\n",
    "for genre, sale in genre_sales.items():\n",
    "  \n",
    "  # Check if genre is Horror or Mystery\n",
    "  if genre == \"Horror\" or genre == \"Mystery\":\n",
    "    print(genre, sale)\n",
    "  \n",
    "  # Check if genre is Thriller and sale is at least 3 million\n",
    "  elif genre == \"Thriller\" and sale >= 3000000:\n",
    "    print(genre, sale)"
   ]
  },
  {
   "cell_type": "code",
   "execution_count": null,
   "id": "7cb4fefe-2aa0-4322-a173-9a2e811c7c0f",
   "metadata": {},
   "outputs": [],
   "source": []
  }
 ],
 "metadata": {
  "kernelspec": {
   "display_name": "Python 3 (ipykernel)",
   "language": "python",
   "name": "python3"
  },
  "language_info": {
   "codemirror_mode": {
    "name": "ipython",
    "version": 3
   },
   "file_extension": ".py",
   "mimetype": "text/x-python",
   "name": "python",
   "nbconvert_exporter": "python",
   "pygments_lexer": "ipython3",
   "version": "3.11.6"
  }
 },
 "nbformat": 4,
 "nbformat_minor": 5
}
