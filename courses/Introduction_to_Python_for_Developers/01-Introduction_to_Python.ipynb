{
 "cells": [
  {
   "cell_type": "markdown",
   "id": "ca84f4da-f034-4fa8-a6a6-2e1ca220509d",
   "metadata": {},
   "source": [
    "## Python as a calculator\n",
    "\n",
    "Working with numbers and performing calculations are very common tasks when programming. In this exercise, you'll need to perform a variety of calculations!\n",
    "\n",
    "Feel free to use the IPython Shell to test out some calculations and, when you're ready, fill in the script.py by replacing the scaffolding ____ with your code.\n",
    "\n",
    "### Instructions\n",
    "    - Print the sum of 19 + 17.\n",
    "    - Print the result of subtracting 12 from 99.\n",
    "    - Multiply 27 by 23.\n",
    "    - Divide 99 by 12."
   ]
  },
  {
   "cell_type": "code",
   "execution_count": 1,
   "id": "4145a292-59a0-4a79-bbbf-a4135bc8b1c8",
   "metadata": {},
   "outputs": [
    {
     "name": "stdout",
     "output_type": "stream",
     "text": [
      "36\n",
      "87\n",
      "621\n",
      "8.25\n"
     ]
    }
   ],
   "source": [
    "# Add 19 and 17\n",
    "print(19 + 17)\n",
    "\n",
    "# Subtract 12 from 99\n",
    "print(99 - 12)\n",
    "\n",
    "# Multiply 27 by 23\n",
    "print(27 * 23)\n",
    "\n",
    "# Divide 99 by 12\n",
    "print(99 / 12)"
   ]
  },
  {
   "cell_type": "markdown",
   "id": "f81c7853-3ad1-4aa2-852f-59a70c76cff8",
   "metadata": {},
   "source": [
    "## Advanced calculations\n",
    "\n",
    "Python makes it possible to perform more challenging calculations, such as exponentiation and modulo. In this exercise, you'll make advanced calculations and print their results.\n",
    "\n",
    "### Instructions\n",
    "    - Print the result of nine-squared.\n",
    "    - Find the remainder of dividing 337 by 27."
   ]
  },
  {
   "cell_type": "code",
   "execution_count": 2,
   "id": "dd9f277f-fcc4-4c93-aa73-6e551cc0a568",
   "metadata": {},
   "outputs": [
    {
     "name": "stdout",
     "output_type": "stream",
     "text": [
      "81\n",
      "13\n"
     ]
    }
   ],
   "source": [
    "# Calculate and print nine squared\n",
    "print(9**2)\n",
    "\n",
    "# Find the remainder from 337 divided by 27\n",
    "print(337 % 27)"
   ]
  },
  {
   "cell_type": "markdown",
   "id": "01ff1545-50f3-4d72-9059-9b7635ac725f",
   "metadata": {},
   "source": [
    "## Checking data types\n",
    "\n",
    "Python makes our life easier by inferring the type of data we are working with, avoiding the need for us to explicitly declare the data type!\n",
    "\n",
    "Let's practice checking the data type of different values and variables. Two variables, current_quarter and revenue_on_target have been created and their values printed in the IPython Shell. These variables are available to use in script.py.\n",
    "\n",
    "### Instructions 1/3\n",
    "    - Print the data type of the current_quarter variable."
   ]
  },
  {
   "cell_type": "code",
   "execution_count": 6,
   "id": "8a59a475-02ef-490e-9dcb-33c8a389bb04",
   "metadata": {},
   "outputs": [],
   "source": [
    "current_quarter = 4\n",
    "revenue_on_target = True"
   ]
  },
  {
   "cell_type": "code",
   "execution_count": 7,
   "id": "87ebf197-63c5-4f45-8d5f-7085d5afe155",
   "metadata": {},
   "outputs": [
    {
     "name": "stdout",
     "output_type": "stream",
     "text": [
      "<class 'int'>\n"
     ]
    }
   ],
   "source": [
    "# Print the data type of current_quarter\n",
    "print(type(current_quarter))"
   ]
  },
  {
   "cell_type": "markdown",
   "id": "a670dffd-ae2b-41c1-b3ac-37825d5806e9",
   "metadata": {},
   "source": [
    "### Instructions 2/3\n",
    "    - Print the data type of the value 9.75."
   ]
  },
  {
   "cell_type": "code",
   "execution_count": 8,
   "id": "34ff7f5c-95a0-48cf-9fc2-cca9e2ef7948",
   "metadata": {},
   "outputs": [
    {
     "name": "stdout",
     "output_type": "stream",
     "text": [
      "<class 'float'>\n"
     ]
    }
   ],
   "source": [
    "# Print the data type of 9.75\n",
    "print(type(9.75))"
   ]
  },
  {
   "cell_type": "markdown",
   "id": "0b5c7496-8df6-4679-930b-ee8ed0b2ec2b",
   "metadata": {},
   "source": [
    "### Instructions 3/3\n",
    "    - Print the data type of the revenue_on_target variable."
   ]
  },
  {
   "cell_type": "code",
   "execution_count": 9,
   "id": "754cf2d7-2622-4c83-a16e-e0cd67617e8c",
   "metadata": {},
   "outputs": [
    {
     "name": "stdout",
     "output_type": "stream",
     "text": [
      "<class 'bool'>\n"
     ]
    }
   ],
   "source": [
    "# Print the data type of revenue_on_target\n",
    "print(type(revenue_on_target))"
   ]
  },
  {
   "cell_type": "markdown",
   "id": "a888eca5-45ad-4db9-8fbc-33c489dd12f3",
   "metadata": {},
   "source": [
    "## Working with variables\n",
    "\n",
    "Variables allow you to store information to refer back to later, such as customer information and timestamps of events. You can also modify the values that are assigned to these variables if circumstances change!\n",
    "\n",
    "### Instructions\n",
    "    - Create a string variable called name, setting it equal to John Smith.\n",
    "    - Create an integer variable called age with a value of 47.\n",
    "    - Create a string variable called address with a value of The Shard, London, SE1 9SG.\n",
    "    - Print the three variables."
   ]
  },
  {
   "cell_type": "code",
   "execution_count": 10,
   "id": "b2e964cf-bd91-4f4d-8999-0f998495b736",
   "metadata": {},
   "outputs": [
    {
     "name": "stdout",
     "output_type": "stream",
     "text": [
      "John Smith 47 The Shard, London, SE1 9SG\n"
     ]
    }
   ],
   "source": [
    "# Create a string variable called name\n",
    "name = \"John Smith\"\n",
    "\n",
    "# Create an integer variable called age\n",
    "age = 47\n",
    "\n",
    "# Create a string variable called address\n",
    "address = \"The Shard, London, SE1 9SG\"\n",
    "\n",
    "# Print their information\n",
    "print(name, age,  address)"
   ]
  },
  {
   "cell_type": "markdown",
   "id": "71216e0f-acea-4d7a-aa44-470a4a2f4858",
   "metadata": {},
   "source": [
    "## Checking and updating conditions\n",
    "\n",
    "Boolean values can be used to check whether a condition has been satisfied, such as whether mandatory information has been submitted via a website or if a payment has been processed successfully.\n",
    "\n",
    "Additionally, variables are not necessarily static, they can change over time like a customer changing their bank account details.\n",
    "\n",
    "Here, you'll work with John Smith's data from the previous exercise, adding another variable along with updating his information.\n",
    "\n",
    "### Instructions\n",
    "    - Based on John's age, create a variable called is_adult with a value of True or False confirming whether John is an adult or not.\n",
    "    - John has upgraded his accommodation - change his address to Buckingham Palace, London, SW1A 1AA.\n",
    "    - Print John's address and is_adult variables."
   ]
  },
  {
   "cell_type": "code",
   "execution_count": 11,
   "id": "8d40d650-811a-4ae6-87d6-8c6c00615d2c",
   "metadata": {},
   "outputs": [
    {
     "name": "stdout",
     "output_type": "stream",
     "text": [
      "Buckingham Palace, London, SW1A 1AA True\n"
     ]
    }
   ],
   "source": [
    "age = 47\n",
    "\n",
    "# Create a boolean variable called is_adult\n",
    "is_adult = True\n",
    "\n",
    "# Update John's address\n",
    "address = \"Buckingham Palace, London, SW1A 1AA\"\n",
    "\n",
    "# Print their information\n",
    "print(address, is_adult)"
   ]
  },
  {
   "cell_type": "code",
   "execution_count": null,
   "id": "83e8cfe5-0d43-407e-ad66-08a544e5fb4b",
   "metadata": {},
   "outputs": [],
   "source": []
  }
 ],
 "metadata": {
  "kernelspec": {
   "display_name": "Python 3 (ipykernel)",
   "language": "python",
   "name": "python3"
  },
  "language_info": {
   "codemirror_mode": {
    "name": "ipython",
    "version": 3
   },
   "file_extension": ".py",
   "mimetype": "text/x-python",
   "name": "python",
   "nbconvert_exporter": "python",
   "pygments_lexer": "ipython3",
   "version": "3.11.6"
  }
 },
 "nbformat": 4,
 "nbformat_minor": 5
}
