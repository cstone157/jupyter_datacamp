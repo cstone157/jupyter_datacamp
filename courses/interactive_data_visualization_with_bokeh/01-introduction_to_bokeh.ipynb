{
 "cells": [
  {
   "cell_type": "markdown",
   "id": "92812dc7-277c-4596-a00e-9e72482ac855",
   "metadata": {},
   "source": [
    "## Blocks vs. rebounds\n",
    "\n",
    "You are working for a sports media agency that produces data journalism content such as blogs, analyses, and visualizations, primarily focused on basketball. The nba dataset has been preloaded for you and contains per-game statistics for basketball players in the 2017 season as well as their team, conference, and a label for their scoring ability.\n",
    "\n",
    "The agency has asked you to produce a scatter plot displaying the relationship between blocks and rebounds.\n",
    "\n",
    "### Instructions\n",
    "    - Import figure, output_file, and show from the two relevant Bokeh classes.\n",
    "    - Create a new figure, fig, setting keyword arguments to label the x-axis as \"Blocks per Game\" and y-axis as \"Rebounds per Game\".\n",
    "    - Add circle glyphs, setting x as nba[\"blocks\"] and y as nba[\"rebounds\"].\n",
    "    - Call the function to produce the plot as an HTML file, setting the filename as \"my_first_plot.html\", and display the plot."
   ]
  },
  {
   "cell_type": "code",
   "execution_count": null,
   "id": "dd2844b5-a42f-499f-a90c-69b826d6dc9e",
   "metadata": {},
   "outputs": [],
   "source": [
    "# Import required libraries\n",
    "from bokeh.plotting import figure\n",
    "from bokeh.io import output_file, show\n",
    "\n",
    "# Create a new figure\n",
    "fig = figure(x_axis_label=\"Blocks per Game\", y_axis_label=\"Rebounds per Game\")\n",
    "\n",
    "# Add circle glyphs\n",
    "fig.circle(x=nba[\"blocks\"], y=nba[\"rebounds\"])\n",
    "\n",
    "# Call function to produce html file and display plot\n",
    "output_file(filename=\"my_first_plot.html\")\n",
    "show(fig)"
   ]
  },
  {
   "cell_type": "markdown",
   "id": "7af20dac-3b7e-40d2-adb2-15c5d80bcb02",
   "metadata": {},
   "source": [
    "## Kevin Durant's performance across seasons\n",
    "\n",
    "The agency is writing an article on Kevin Durant and the evolution of the Small Forward position in basketball.\n",
    "\n",
    "They would like you to supply them with a line plot displaying Kevin Durant's points per game from his rookie year to the end of the 2016-17 season.\n",
    "\n",
    "kevin_durant has been preloaded for you containing Kevin's basketball performance statistics in 2010-2017.\n",
    "\n",
    "### Instructions\n",
    "    - Create a figure, labeling the x-axis as \"Season\" and y-axis as \"Points\".\n",
    "    - Add line glyphs, using the \"season\" column from kevin_durant for the x-axis and the \"points\" column for the y-axis.\n",
    "    - Generate a HTML file called \"Kevin_Durant_performance.html\".\n",
    "    - Display the figure."
   ]
  },
  {
   "cell_type": "code",
   "execution_count": null,
   "id": "16d48ce3-24c6-4a61-96b2-0124252f77c3",
   "metadata": {},
   "outputs": [],
   "source": [
    "# Create figure\n",
    "fig = figure(x_axis_label=\"Season\", y_axis_label=\"Points\")\n",
    "\n",
    "# Add line glyphs\n",
    "fig.line(x=kevin_durant[\"season\"], y=kevin_durant[\"points\"])\n",
    "\n",
    "# Generate HTML file\n",
    "output_file(filename=\"Kevin_Durant_performance.html\")\n",
    "\n",
    "# Display plot\n",
    "show(fig)"
   ]
  },
  {
   "cell_type": "markdown",
   "id": "7335d956-2bfb-4686-8001-abfd5db56f79",
   "metadata": {},
   "source": [
    "## Shooting ability by position\n",
    "\n",
    "The agency is producing an article about how 3 point field goal shooting ability has changed across basketball positions over the years.\n",
    "\n",
    "They have asked you to produce a bar plot representing 3 point field goal percentage by position for the 2017 NBA season, which will be included in their article.\n",
    "\n",
    "pandas has been imported as pd and the nba dataset preloaded for you. figure has also been imported from bokeh.plotting, along with output_file and show from bokeh.io. These will all be preloaded for you throughout the remainder of the course.\n",
    "\n",
    "### Instructions 1/3\n",
    "    - Group nba by position, calculating the average of the \"three_point_perc\" column."
   ]
  },
  {
   "cell_type": "code",
   "execution_count": null,
   "id": "44dc9827-d6d0-404b-a9de-b17fc883a633",
   "metadata": {},
   "outputs": [],
   "source": [
    "# Calculate average three point field goal percentage by position\n",
    "positions = nba.groupby(\"position\", as_index=False)[\"three_point_perc\"].mean()"
   ]
  },
  {
   "cell_type": "markdown",
   "id": "bff4ef97-463d-4523-b0bc-63a4a9f2c6f5",
   "metadata": {},
   "source": [
    "### Instructions 2/3\n",
    "    - Create a figure, fig, setting the x-axis and y-axis labels as \"Position\" and \"3 Point Field Goal (%)\" respectively, and passing the \"position\" column of the positions DataFrame to the x_range argument."
   ]
  },
  {
   "cell_type": "code",
   "execution_count": null,
   "id": "25712d44-5fec-4785-b0fc-300e6d4e7d26",
   "metadata": {},
   "outputs": [],
   "source": [
    "# Calculate average three point field goal percentage by position\n",
    "positions = nba.groupby(\"position\", as_index=False)[\"three_point_perc\"].mean()\n",
    "\n",
    "# Instantiate figure\n",
    "fig = figure(x_axis_label=\"Position\", y_axis_label=\"3 Point Field Goal (%)\", x_range=positions[\"position\"]) "
   ]
  },
  {
   "cell_type": "markdown",
   "id": "aaeade32-f7c2-4787-82d8-9b67f44a28ab",
   "metadata": {},
   "source": [
    "### Instructions 3/3\n",
    "    - Add bars to the figure using the positions DataFrame, setting x to represent the player position, and top to show 3 point field goal percentage.\n",
    "    - Create the HTML file, called \"3p_fg_by_position.html\", and display the plot."
   ]
  },
  {
   "cell_type": "code",
   "execution_count": null,
   "id": "2f7ef3b9-d8dc-42dd-ae23-e48d10bb0778",
   "metadata": {},
   "outputs": [],
   "source": [
    "# Calculate average three point field goal percentage by position\n",
    "positions = nba.groupby(\"position\", as_index=False)[\"three_point_perc\"].mean()\n",
    "\n",
    "# Instantiate figure\n",
    "fig = figure(x_axis_label=\"Position\", y_axis_label=\"3 Point Field Goal (%)\", x_range=positions[\"position\"]) \n",
    "\n",
    "# Add bars\n",
    "fig.vbar(x=positions[\"position\"], top=positions[\"three_point_perc\"])\n",
    "\n",
    "# Produce the html file and display the plot\n",
    "output_file(filename=\"3p_fg_by_position.html\")\n",
    "show(fig)"
   ]
  },
  {
   "cell_type": "markdown",
   "id": "0c9c814d-c586-4c45-81a0-a6a997325117",
   "metadata": {},
   "source": [
    "## Setting tools\n",
    "\n",
    "The agency is now interested in understanding whether the most accurate shooters are more likely to average a higher amount of points per game. They would like to have the toolbar customized to include poly_select, wheel_zoom, reset, and save, so they can further investigate the plot themselves.\n",
    "\n",
    "The nba DataFrame is again available to you.\n",
    "\n",
    "### Instructions\n",
    "    - Create a list of required tools, poly_select, wheel_zoom, reset, and save.\n",
    "    - Create a figure, fig, labeling the x and y axes as \"Field Goal (%)\" and \"Points per Game\", along with setting the tools to be included.\n",
    "    - Add circle glyphs to represent \"field_goal_perc\" as x and \"points\" as y.\n",
    "    - Generate an HTML file called \"points_vs_field_goal_perc.html\", and display the plot."
   ]
  },
  {
   "cell_type": "code",
   "execution_count": null,
   "id": "62036a26-45a7-44ef-9c36-406e9caedb9a",
   "metadata": {},
   "outputs": [],
   "source": [
    "# Create a list of tools\n",
    "tools = [\"poly_select\", \"wheel_zoom\", \"reset\", \"save\"]\n",
    "\n",
    "# Create figure and set tools\n",
    "fig = figure(x_axis_label=\"Field Goal (%)\", y_axis_label=\"Points per Game\", tools=tools)\n",
    "\n",
    "# Add circle glyphs\n",
    "fig.circle(x=nba[\"field_goal_perc\"], y=nba[\"points\"])\n",
    "\n",
    "# Generate HTML file and display plot\n",
    "output_file(filename=\"points_vs_field_goal_perc.html\")\n",
    "show(fig)"
   ]
  },
  {
   "cell_type": "markdown",
   "id": "11abe5e4-9117-4cfc-b8fc-adc328f2cff1",
   "metadata": {},
   "source": [
    "## Adding LassoSelectTool\n",
    "\n",
    "The agency loved your last plot! However, they have realized that it would also be useful to have access to the LassoSelectTool.\n",
    "\n",
    "The figure and glyphs from the previous exercise have been preloaded for you.\n",
    "\n",
    "### Instructions\n",
    "    - Import LassoSelectTool from the relevant Bokeh class.\n",
    "    - Add LassoSelectTool() to the figure's layout."
   ]
  },
  {
   "cell_type": "code",
   "execution_count": null,
   "id": "dbb43529-2695-455d-8e54-188db973c59a",
   "metadata": {},
   "outputs": [],
   "source": [
    "tools = ['poly_select', 'wheel_zoom', 'reset', 'save']\n",
    "\n",
    "# Import LassoSelectTool\n",
    "from bokeh.models import LassoSelectTool\n",
    "\n",
    "fig = figure(x_axis_label=\"Field Goal (%)\", y_axis_label=\"Points per Game\", tools=tools)\n",
    "fig.circle(x=nba[\"field_goal_perc\"], y=nba[\"points\"])\n",
    "\n",
    "# Update the figure to include LassoSelectTool\n",
    "fig.add_tools(LassoSelectTool())\n",
    "output_file(filename=\"updated_plot_with_lasso_select.html\")\n",
    "show(fig)"
   ]
  }
 ],
 "metadata": {
  "kernelspec": {
   "display_name": "Python 3 (ipykernel)",
   "language": "python",
   "name": "python3"
  },
  "language_info": {
   "codemirror_mode": {
    "name": "ipython",
    "version": 3
   },
   "file_extension": ".py",
   "mimetype": "text/x-python",
   "name": "python",
   "nbconvert_exporter": "python",
   "pygments_lexer": "ipython3",
   "version": "3.11.6"
  }
 },
 "nbformat": 4,
 "nbformat_minor": 5
}
