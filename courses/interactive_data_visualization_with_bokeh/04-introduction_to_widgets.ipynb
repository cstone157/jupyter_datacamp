{
 "cells": [
  {
   "cell_type": "code",
   "execution_count": null,
   "id": "bff3b79c-0f14-4cd6-8e97-62e003baa4ac",
   "metadata": {},
   "outputs": [],
   "source": [
    "import zipfile\n",
    "\n",
    "import numpy as np\n",
    "import pandas as pd\n",
    "\n",
    "#with zipfile.ZipFile('bakery.csv.zip', 'r') as zip_ref:\n",
    "#    zip_ref.extractall('.')\n",
    "with zipfile.ZipFile('melb_clean.csv.zip', 'r') as zip_ref:\n",
    "    zip_ref.extractall('.')\n",
    "with zipfile.ZipFile('nba.csv.zip', 'r') as zip_ref:\n",
    "    zip_ref.extractall('.')\n",
    "#with zipfile.ZipFile('stocks_cleaned.csv.zip', 'r') as zip_ref:\n",
    "#    zip_ref.extractall('.')\n",
    "\n",
    "nba_org = pd.read_csv(\"nba.csv\")\n",
    "\n",
    "melb_clean = pd.read_csv(\"melb_clean.csv\")\n",
    "north = melb_clean[melb_clean[\"region\"] == \"Northern\"]\n",
    "south = melb_clean[melb_clean[\"region\"] == \"Southern\"]\n",
    "\n",
    "## Switch bokeh to the notebook mode\n",
    "from bokeh.io import output_notebook\n",
    "output_notebook()\n",
    "\n",
    "## Import the libraries we need\n",
    "from bokeh.plotting import figure\n",
    "from bokeh.models import ColumnDataSource, NumeralTickFormatter, FactorRange\n",
    "from bokeh.io import output_file, show"
   ]
  },
  {
   "cell_type": "markdown",
   "id": "095e1e6b-bfce-433c-bc03-0e2bec557269",
   "metadata": {},
   "source": []
  },
  {
   "cell_type": "code",
   "execution_count": null,
   "id": "f543b1e5-bec7-44f3-add3-448037ea4749",
   "metadata": {},
   "outputs": [],
   "source": []
  },
  {
   "cell_type": "markdown",
   "id": "992355ef-05dd-456f-a732-f9d147fc53b4",
   "metadata": {},
   "source": []
  },
  {
   "cell_type": "code",
   "execution_count": null,
   "id": "dff2c6b6-e440-428d-a2e6-2d27bf34c6bb",
   "metadata": {},
   "outputs": [],
   "source": []
  },
  {
   "cell_type": "markdown",
   "id": "09d7b617-eeb7-468b-a05f-b5598f14a1e8",
   "metadata": {},
   "source": []
  },
  {
   "cell_type": "code",
   "execution_count": null,
   "id": "05dace6c-efb0-416e-b18e-1c0681abefc0",
   "metadata": {},
   "outputs": [],
   "source": []
  },
  {
   "cell_type": "markdown",
   "id": "f2c7ab9e-790c-4962-bc28-ddfaf6562a41",
   "metadata": {},
   "source": []
  },
  {
   "cell_type": "code",
   "execution_count": null,
   "id": "286968a4-dbd4-4c07-a318-46ad76763f7a",
   "metadata": {},
   "outputs": [],
   "source": []
  },
  {
   "cell_type": "markdown",
   "id": "3a854ca8-c202-43c0-9909-07cd8bde88aa",
   "metadata": {},
   "source": []
  },
  {
   "cell_type": "code",
   "execution_count": null,
   "id": "8b9c8ebc-5c6f-4922-8b7b-3a207ddefbcd",
   "metadata": {},
   "outputs": [],
   "source": []
  },
  {
   "cell_type": "markdown",
   "id": "f80db1fe-9eed-4b96-8c1d-10b4a271b2f8",
   "metadata": {},
   "source": []
  },
  {
   "cell_type": "code",
   "execution_count": null,
   "id": "eebce792-71e0-4be7-9f38-c7d2ee101807",
   "metadata": {},
   "outputs": [],
   "source": []
  }
 ],
 "metadata": {
  "kernelspec": {
   "display_name": "Python 3 (ipykernel)",
   "language": "python",
   "name": "python3"
  },
  "language_info": {
   "codemirror_mode": {
    "name": "ipython",
    "version": 3
   },
   "file_extension": ".py",
   "mimetype": "text/x-python",
   "name": "python",
   "nbconvert_exporter": "python",
   "pygments_lexer": "ipython3",
   "version": "3.11.6"
  }
 },
 "nbformat": 4,
 "nbformat_minor": 5
}
