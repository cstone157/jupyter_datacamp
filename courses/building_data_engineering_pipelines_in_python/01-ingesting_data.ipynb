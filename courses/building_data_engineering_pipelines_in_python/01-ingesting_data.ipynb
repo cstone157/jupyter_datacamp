{
 "cells": [
  {
   "cell_type": "markdown",
   "id": "41c509d8-1fac-4736-b370-1456e092db0b",
   "metadata": {},
   "source": [
    "## Working with JSON\n",
    "\n",
    "Because JSON is ubiquitous, you should be able to read and write this format. As you will see in the next lesson, many configuration files in Singer hold JSON.\n",
    "\n",
    "In this exercise, you will write some configuration details of a database to a JSON file. Doing this is good practice by the way, as it keeps hardcoded parts out of your code, which allows other people to reference the same configuration files using other languages even.\n",
    "\n",
    "Do not hesitate to refer to the slides, available in the tab on the right of IPython Shell, if you’re stuck.\n",
    "\n",
    "### Instructions\n",
    "    - Import the Python module we need to deal with JSON.\n",
    "    - Open a file with the name database_config.json for writing (and only for writing).\n",
    "    - Serialize the database_address dictionary as JSON and write it to the open file handle. If you’re unsure which arguments the function takes, type ?json.dump to get more information on what obj and fp expect."
   ]
  },
  {
   "cell_type": "code",
   "execution_count": null,
   "id": "5ba8aabc-4b4f-468e-a5c0-206d5d6e0a78",
   "metadata": {},
   "outputs": [],
   "source": [
    "# Import json\n",
    "import json\n",
    "\n",
    "database_address = {\n",
    "  \"host\": \"10.0.0.5\",\n",
    "  \"port\": 8456\n",
    "}\n",
    "\n",
    "# Open the configuration file in writable mode\n",
    "with open(\"database_config.json\", \"w\") as fh:\n",
    "  # Serialize the object in this file handle\n",
    "  json.dump(obj=database_address, fp=fh) "
   ]
  },
  {
   "cell_type": "markdown",
   "id": "6188e1ed-6891-4984-8f9e-9f7f32a5d579",
   "metadata": {},
   "source": [
    "## Specifying the schema of the data\n",
    "\n",
    "You’re given a dataset of pricing details of diapers from several stores. After some inspection, you understand that the products have an identical schema, regardless of the store.\n",
    "\n",
    "Since your company is already invested in Stitch, the mother company of Singer, you’ll be writing a custom Singer “tap” to export the different products in a standardized way. To do so, you will need to associate a schema with the actual data.\n",
    "\n",
    "Example of the products for a particular shop:\n",
    "\n",
    "```json\n",
    "{'items': [{'brand': 'Huggies',\n",
    "            'model': 'newborn',\n",
    "            'price': 6.8,\n",
    "            'currency': 'EUR',            \n",
    "            'quantity': 40,\n",
    "            'date': '2019-02-01',\n",
    "            'countrycode': 'DE'            \n",
    "            },\n",
    "           {…}]\n",
    "```\n",
    "\n",
    "### Instructions\n",
    "    - Infer from the example above the name and the data type of each component of the store’s items. Complete the JSON schema object with this information.\n",
    "    - Write that schema, using the write_schema() function, to the \"products\" stream using the Singer API."
   ]
  },
  {
   "cell_type": "code",
   "execution_count": null,
   "id": "ecc3f2d1-8652-40f9-86d3-d0e13cd22624",
   "metadata": {},
   "outputs": [],
   "source": [
    "# Complete the JSON schema\n",
    "schema = {'properties': {\n",
    "    'brand': {'type': 'string'},\n",
    "    'model': {\"type\": \"string\"},\n",
    "    'price': {'type': 'number'},\n",
    "    'currency': {'type': \"string\"},\n",
    "    'quantity': {'type': \"number\", 'minimum': 1},  \n",
    "    \"date\": {'type': 'string', 'format': 'date'},\n",
    "    \"countrycode\": {\"type\": \"string\", 'pattern': \"^[A-Z]{2}$\"}, \n",
    "    'store_name': {'type': 'string'}}}\n",
    "\n",
    "# Write the schema\n",
    "singer.write_schema(stream_name=\"products\", schema=schema, key_properties=[])"
   ]
  },
  {
   "cell_type": "markdown",
   "id": "7e9fcb1e-b6a3-4f09-b643-e229a4b7b4a1",
   "metadata": {},
   "source": [
    "## Communicating with an API\n",
    "\n",
    "Before diving into this third lesson’s concepts, make sure you remember how URLs are constructed and how to interact with web APIs, from the prerequisite course Importing Data in Python, Part 2.\n",
    "\n",
    "The marketing team you are collaborating with has been scraping several websites for customer reviews on consumer products. The dataset is only exposed to you through an internal REST API. You would like to add that data in its entirety to the data lake and store it in a convenient way, say csv. While the data is available over the company’s internal network, you still need to supply the API key that the marketing team has created for your exploration use case: api_key: scientist007.\n",
    "\n",
    "For technical reasons, the endpoint has been made available to you on localhost:5000. You can “browse” to it, using the well-known requests module, by calling requests.get(SOME_URL). You can authenticate to the API using your API key. Simply fill in the template URL <endpoint>/<api_key>/.\n",
    "\n",
    "### Instructions 1/3\n",
    "    - Fill in the correct API key.\n",
    "    - Create the URL of the web API by completing the template URL above. You need to pass the endpoint first and then the API key.\n",
    "    - Use that URL in the call to requests.get() so that you may see what more the API can tell you about itself."
   ]
  },
  {
   "cell_type": "code",
   "execution_count": null,
   "id": "32f65a4e-1dcb-4781-8f3c-a056c3fec0fd",
   "metadata": {},
   "outputs": [],
   "source": [
    "endpoint = \"http://localhost:5000\"\n",
    "\n",
    "# Fill in the correct API key\n",
    "api_key = \"scientist007\"\n",
    "\n",
    "# Create the web API’s URL\n",
    "authenticated_endpoint = \"{}/{}\".format(endpoint, api_key)\n",
    "\n",
    "# Get the web API’s reply to the endpoint\n",
    "api_response = requests.get(authenticated_endpoint).json()\n",
    "pprint.pprint(api_response)"
   ]
  },
  {
   "cell_type": "markdown",
   "id": "68d088ae-4555-414c-8dd3-ff45ad7b6689",
   "metadata": {},
   "source": [
    "### Instructions 2/3\n",
    "Take a look at the output in the console from the previous step. Notice that it is a list of endpoints, each containing a description of the content found at the endpoint and the template for the URL to access it. The template can be filled in, like you did in the previous step.\n",
    "\n",
    "    - Complete the URL that should give you back a list of all shops that were scraped by the marketing team."
   ]
  },
  {
   "cell_type": "code",
   "execution_count": null,
   "id": "dc1dc54a-4ecc-402c-82bb-89a52bccd1a1",
   "metadata": {},
   "outputs": [],
   "source": [
    "endpoint = \"http://localhost:5000\"\n",
    "\n",
    "# Fill in the correct API key\n",
    "api_key = \"scientist007\"\n",
    "\n",
    "# Create the web API’s URL\n",
    "authenticated_endpoint = \"{}/{}\".format(endpoint, api_key)\n",
    "\n",
    "# Get the web API’s reply to the endpoint\n",
    "api_response = requests.get(authenticated_endpoint).json()\n",
    "pprint.pprint(api_response)\n",
    "\n",
    "# Create the API’s endpoint for the shops\n",
    "shops_endpoint = \"{}/{}/{}/{}\".format(endpoint, api_key, \"diaper/api/v1.0\", \"shops\")\n",
    "shops = requests.get(shops_endpoint).json()\n",
    "print(shops)"
   ]
  },
  {
   "cell_type": "markdown",
   "id": "156ae0d8-55c8-47ff-9ae5-11badd3a5dfb",
   "metadata": {},
   "source": [
    "### Instructions 3/3\n",
    "Take a look at the output in the console from the previous step. The shops variable contains the list of all shops known by the web API.\n",
    "\n",
    "    - From the shops variable, find the one that starts with the letter “D”. Use it in the second (templated) url that was shown by the call to pprint.pprint(api_response), to list the items of this specific shop. You must use the appropriate url endpoint, combined with the http://localhost:5000, similar to how you completed the previous step."
   ]
  },
  {
   "cell_type": "code",
   "execution_count": null,
   "id": "68f127ee-4091-4544-b8b5-f2a0120c859b",
   "metadata": {},
   "outputs": [],
   "source": [
    "endpoint = \"http://localhost:5000\"\n",
    "\n",
    "# Fill in the correct API key\n",
    "api_key = \"scientist007\"\n",
    "\n",
    "# Create the web API’s URL\n",
    "authenticated_endpoint = \"{}/{}\".format(endpoint, api_key)\n",
    "\n",
    "# Get the web API’s reply to the endpoint\n",
    "api_response = requests.get(authenticated_endpoint).json()\n",
    "pprint.pprint(api_response)\n",
    "\n",
    "# Create the API’s endpoint for the shops\n",
    "shops_endpoint = \"{}/{}/{}/{}\".format(endpoint, api_key, \"diaper/api/v1.0\", \"shops\")\n",
    "shops = requests.get(shops_endpoint).json()\n",
    "print(shops)\n",
    "\n",
    "# Create the API’s endpoint for items of the shop starting with a \"D\"\n",
    "items_of_specific_shop_URL = \"{}/{}/{}/{}/{}\".format(endpoint, api_key, \"diaper/api/v1.0\", \"items\", \"DM\")\n",
    "products_of_shop = requests.get(items_of_specific_shop_URL).json()\n",
    "pprint.pprint(products_of_shop)"
   ]
  },
  {
   "cell_type": "markdown",
   "id": "60142ba9-faf0-40a7-874d-b2bd0df0205f",
   "metadata": {},
   "source": [
    "## Streaming records\n",
    "\n",
    "In an earlier exercise, you codified the schema of products being sold by a store that you got from the marketing team’s REST API. If you don’t remember it, check the schema in this exercise. Now it’s time to stream some data to go with it.\n",
    "\n",
    "A convenience function, retrieve_products(), has been made available to you. It basically executes the last step of the previous exercise: it requires one positional argument, the name of a shop, and will return a list of all products related to that shop.\n",
    "\n",
    "This exercise is pushing you to use unpacking, using the ** operator, as shown in the video. If it’s the first time you encounter the unpacking operator, fear not: there’s a first time for everything. We want to show it to you because you will encounter it in your colleagues’ scripts. Do not hesitate to refer to the slides on the tab to the right of the IPython Shell. Unpacking lets you update a record in one step, but you don’t have to use it. You can add the key-value pair outside of the function call as well, by adding a few lines of code. Use any method you like, as long as the record is defined correctly.\n",
    "\n",
    "### Instructions 1/3\n",
    "    - Retrieve the products of the shop called Tesco."
   ]
  },
  {
   "cell_type": "code",
   "execution_count": null,
   "id": "d24000be-f1d2-4cea-94ec-c9be3508c7ab",
   "metadata": {},
   "outputs": [],
   "source": [
    "# Use the convenience function to query the API\n",
    "tesco_items = retrieve_products(\"Tesco\")\n",
    "\n",
    "singer.write_schema(stream_name=\"products\", schema=schema,\n",
    "                    key_properties=[])"
   ]
  },
  {
   "cell_type": "markdown",
   "id": "6aa63598-3e96-4ee6-990d-dd5589752bec",
   "metadata": {},
   "source": [
    "### Instructions 2/3\n",
    "    - Based on the output of the previous step, use the function write_record() to write one of these products to the products stream, which is where you also wrote the schema to. Make sure to add to the product a key-value pair that is mentioned in the schema, but is missing from the product, so that the record you write complies with the schema."
   ]
  },
  {
   "cell_type": "code",
   "execution_count": null,
   "id": "244648f2-3adc-4df6-93fd-1e1c065b24ef",
   "metadata": {},
   "outputs": [],
   "source": [
    "# Use the convenience function to query the API\n",
    "tesco_items = retrieve_products(\"Tesco\")\n",
    "\n",
    "singer.write_schema(stream_name=\"products\", schema=schema,\n",
    "                    key_properties=[])\n",
    "\n",
    "# Write a single record to the stream, that adheres to the schema\n",
    "singer.write_record(stream_name=\"products\", \n",
    "            record={**tesco_items[0], 'store_name': \"Tesco\"})"
   ]
  },
  {
   "cell_type": "markdown",
   "id": "59140cae-0114-4eff-8df5-f93d371fda9a",
   "metadata": {},
   "source": [
    "### Instructions 3/3\n",
    "    - Now use the more appropriate function write_records() to write all items for all shops exposed by the API. As you don’t know a priori how big the dataset will be, you will be using a generator expression in which you enrich the items with the store_name one at a time."
   ]
  },
  {
   "cell_type": "code",
   "execution_count": null,
   "id": "10dd9d75-3083-45ef-b10e-f3a46aecd0c7",
   "metadata": {},
   "outputs": [],
   "source": [
    "# Use the convenience function to query the API\n",
    "tesco_items = retrieve_products(\"Tesco\")\n",
    "\n",
    "singer.write_schema(stream_name=\"products\", schema=schema,\n",
    "                    key_properties=[])\n",
    "\n",
    "# Write a single record to the stream, that adheres to the schema\n",
    "singer.write_record(stream_name=\"products\", \n",
    "                    record={**tesco_items[0], \"store_name\": \"Tesco\"})\n",
    "\n",
    "for shop in requests.get(SHOPS_URL).json()[\"shops\"]:\n",
    "    # Write all of the records that you retrieve from the API\n",
    "    singer.write_records(\n",
    "      stream_name=\"products\", # Use the same stream name that you used in the schema\n",
    "      records=({**item, \"store_name\": shop}\n",
    "               for item in retrieve_products(shop))\n",
    "    )    "
   ]
  },
  {
   "cell_type": "markdown",
   "id": "4548790c-1a18-4611-b4d7-0cd72357ec2f",
   "metadata": {},
   "source": [
    "## Chain taps and targets\n",
    "\n",
    "Welcome to your first IDE exercise! This interface is similar to the one you will encounter outside of DataCamp. On the left of the righthand pane, you have a directory of folders and files. You can open the files and see the code in the right part of the pane. For now, you need to use only one file, data_lake.conf, which is already open for you, and run a command in the shell (the bottom panel). Feel free to explore the directories, though it’s not required for this exercise. Parts of an integrated development environment\n",
    "\n",
    "Your company’s data lake, which is file system based, is made available to you under /home/repl/workspace/mnt/data_lake. Your goal is to add a file to it, using the Singer tap we’ve been building over the last few exercises, tap-marketing-api, and an already existing Singer target, target-csv.\n",
    "\n",
    "Your Singer tap has been packaged as tap-marketing-api (you can call it like that from the bash shell, which is in the bottom panel). Its output is simply the schema and records you made earlier. You can therefore use it in a shell pipeline, like so: tap-marketing-api | some-target. Remember, some taps and targets can be configured through configuration and state files in which case you should use those flags and pass in relevant files, e.g. some-tap | target-csv --config some_config_file.\n",
    "\n",
    "### Ide Exercise Instruction\n",
    "Create a Singer pipeline that will create a file in the landing area of the data lake, holding the output of tap-marketing-api in CSV format. To do so:\n",
    "\n",
    "    - In the shell, pipe the output of your Singer “tap”, tap-marketing-api, to target-csv.\n",
    "    - Pass the configuration file data_lake.conf (located in the ingest folder of the data lake) to target-csv, using the --config flag. The configuration file specifies where the CSV file should be written to and should not be changed.\n",
    "\n",
    "Execute your command and click on “Submit Answer”, below, to see if you got it right."
   ]
  },
  {
   "cell_type": "markdown",
   "id": "d3f5dce5-113f-4617-bd13-aea8d8fbda91",
   "metadata": {},
   "source": [
    "- You need to run the following command in the terminal from the ~/workspace directory.\n",
    "- We'll bring you there first. \n",
    "- The command here is still prefixed with a '#'.\n",
    "- Run everything after the '#' sign.\n",
    "\n",
    "```bash\n",
    "$ tap-marketing-api | target-csv --config ingest/data_lake.conf\n",
    "```"
   ]
  },
  {
   "cell_type": "code",
   "execution_count": null,
   "id": "9d56abd7-f266-4c90-9af5-12ee4074cc09",
   "metadata": {},
   "outputs": [],
   "source": []
  }
 ],
 "metadata": {
  "kernelspec": {
   "display_name": "Python 3 (ipykernel)",
   "language": "python",
   "name": "python3"
  },
  "language_info": {
   "codemirror_mode": {
    "name": "ipython",
    "version": 3
   },
   "file_extension": ".py",
   "mimetype": "text/x-python",
   "name": "python",
   "nbconvert_exporter": "python",
   "pygments_lexer": "ipython3",
   "version": "3.11.6"
  }
 },
 "nbformat": 4,
 "nbformat_minor": 5
}
