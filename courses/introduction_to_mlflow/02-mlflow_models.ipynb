{
 "cells": [
  {
   "cell_type": "markdown",
   "id": "2ec503c2-3f1d-4b08-814a-5ba1a1bc3bc9",
   "metadata": {},
   "source": [
    "## Package a machine learning model\n",
    "\n",
    "In this exercise, you will train a LinearRegression model from scikit-learn to predict profit of a Unicorn Company.\n",
    "\n",
    "You will use MLflow's built-in scikit-learn Flavor to package the model. You will use the Flavor's auto logging function to automatically log metrics, parameters and the model to MLflow Tracking when the fit estimator is called.\n",
    "\n",
    "### Instructions\n",
    "    - Import the sklearn Flavor from the mlflow module.\n",
    "    - Set the Experiment to \"Sklearn Model\".\n",
    "    - Use auto logging from the flavor to package your model."
   ]
  },
  {
   "cell_type": "code",
   "execution_count": null,
   "id": "833aeca1-518b-447f-9525-41df89570873",
   "metadata": {},
   "outputs": [],
   "source": [
    "# Import Scikit-learn flavor\n",
    "import mlflow.sklearn\n",
    "\n",
    "# Set the experiment to \"Sklearn Model\"\n",
    "mlflow.set_experiment(\"Sklearn Model\")\n",
    "\n",
    "# Set Auto logging for Scikit-learn flavor \n",
    "mlflow.sklearn.autolog()\n",
    "\n",
    "lr = LinearRegression()\n",
    "lr.fit(X_train, y_train)\n",
    "\n",
    "# Get a prediction from test data\n",
    "print(lr.predict(X_test.iloc[[5]]))"
   ]
  },
  {
   "cell_type": "markdown",
   "id": "59719b0b-b5f1-4155-8cf9-8dab255b105a",
   "metadata": {},
   "source": [
    "## Saving and loading a model\n",
    "\n",
    "With the Model API, models can be shared between developers who may not have access to the same MLflow Tracking server by using a local filesystem.\n",
    "\n",
    "In this exercise, you will train a new LinearRegression model from an existing one using the Unicorn dataset. First, you will load an existing model from the local filesystem. Then you will train a new model from the existing model and save it back to the local filesystem.\n",
    "\n",
    "The existing model has been saved to the local filesystem in a directory called \"lr_local_v1\". The mlflow module will be imported.\n",
    "\n",
    "### Instructions\n",
    "    - Load the model from the local filesystem directory \"lr_local_v1\" using scikit-learn library from the MLflow module.\n",
    "    - Using the scikit-learn library from the mlflow module, save the model locally to a directory called \"lr_local_v2\"."
   ]
  },
  {
   "cell_type": "code",
   "execution_count": null,
   "id": "d4001904-36af-4187-85c2-0503bde624f0",
   "metadata": {},
   "outputs": [],
   "source": [
    "# Load model from local filesystem\n",
    "model = mlflow.sklearn.load_model(\"lr_local_v1\")\n",
    "\n",
    "# Training Data\n",
    "X = df[[\"R&D Spend\", \"Administration\", \"Marketing Spend\", \"State\"]]\n",
    "y = df[[\"Profit\"]]\n",
    "X_train, X_test, y_train, y_test = train_test_split(X, y, train_size=0.7,random_state=0)\n",
    "# Train Model\n",
    "model.fit(X_train, y_train)\n",
    "\n",
    "# Save model to local filesystem\n",
    "mlflow.sklearn.save_model(model, \"lr_local_v2\")"
   ]
  },
  {
   "cell_type": "markdown",
   "id": "c9bb631b-9ecd-4016-824d-3cdab4b51306",
   "metadata": {},
   "source": [
    "## Logging and loading a model\n",
    "\n",
    "The Model API provides a way to interact with our models by logging and loading them directly from MLflow Tracking in a standardized manner. Being able to interact with models is crucial during the ML lifecycle for the Model Engineering and Model Evaluation steps.\n",
    "\n",
    "In this exercise you will create a Linear Regression model from scikit-learn using the Unicorn dataset. This model will be logged to MLflow Tracking and then loaded using the run_id used to log the artifact.\n",
    "\n",
    "First, you will log the model using the scikit-learn library from the MLflow module. Then you will load the model from MLflow Tracking using the run_id.\n",
    "\n",
    "The model will be trained and have the name lr_model.\n",
    "\n",
    "<code>\n",
    "lr_model = LinearRegression()\n",
    "lr_model.fit(X_train, y_train)\n",
    "</code>code>\n",
    "\n",
    "The mlflow module will be imported.\n",
    "\n",
    "### Instructions\n",
    "    - Log the model to MLflow Tracking under the artifact path of \"lr_tracking\".\n",
    "    - Create a variable called run that is set to the last run.\n",
    "    - Create another variable called run_id that is set to the run_id of the run variable.\n",
    "    - Load the model using the run_id and the artifact path used to log the model."
   ]
  },
  {
   "cell_type": "code",
   "execution_count": null,
   "id": "c23327aa-71e7-48d4-9baf-20aa0f87178d",
   "metadata": {},
   "outputs": [],
   "source": [
    "# Log model to MLflow Tracking\n",
    "mlflow.sklearn.log_model(lr_model, \"lr_tracking\")\n",
    "\n",
    "# Get the last run\n",
    "run = mlflow.last_active_run()\n",
    "\n",
    "# Get the run_id of the above run\n",
    "run_id = run.info.run_id\n",
    "\n",
    "# Load model from MLflow Tracking\n",
    "model = mlflow.sklearn.load_model(f\"runs:/{run_id}/lr_tracking\")"
   ]
  },
  {
   "cell_type": "markdown",
   "id": "77fb9534-546d-4970-86ef-17e421b66987",
   "metadata": {},
   "source": [
    "## Creating a custom Python Class\n",
    "\n",
    "MLflow provides a way to create custom models in order to provide a way to support a wide variety of use cases. To create custom models, MLflow allows for users to create a Python Class which inherits mlflow.pyfunc.PythonModel Class. The PythonModel Class provides customization by providing methods for custom inference logic and artifact dependencies.\n",
    "\n",
    "In this exercise, you will create a new Python Class for a custom model that loads a specific model and then decodes labels after inference. The mlflow module will be imported.\n",
    "\n",
    "### Instructions\n",
    "    - Create a Python Class with the name CustomPredict.\n",
    "    - Define the load_context() method used for loading artifacts within a custom Class.\n",
    "    - Define the predict() method for defining custom inference."
   ]
  },
  {
   "cell_type": "code",
   "execution_count": null,
   "id": "458ecf54-48e3-4f8f-90ff-4f77e12e6606",
   "metadata": {},
   "outputs": [],
   "source": [
    "# Create Python Class\n",
    "class CustomPredict(mlflow.pyfunc.PythonModel):\n",
    "    # Set method for loading model\n",
    "    def load_context(self, context):\n",
    "        self.model = mlflow.sklearn.load_model(\"./lr_model/\")\n",
    "    # Set method for custom inference     \n",
    "    def predict(self, context, model_input):\n",
    "        predictions = self.model.predict(model_input)\n",
    "        decoded_predictions = []  \n",
    "        for prediction in predictions:\n",
    "            if prediction == 0:\n",
    "                decoded_predictions.append(\"female\")\n",
    "            else:\n",
    "                decoded_predictions.append(\"male\")\n",
    "        return decoded_predictions"
   ]
  },
  {
   "cell_type": "markdown",
   "id": "5da1b282-0b7f-4472-a5f2-def9101e0b73",
   "metadata": {},
   "source": [
    "## Custom scikit-learn model\n",
    "\n",
    "In this exercise you are going to create a custom model using MLflow's pyfunc flavor. Using the insurance_charges dataset, the labels must be changed from female to 0 and male to 1 for classification during training. When using the model, the strings of female or male must be returned instead of 0 or 1.\n",
    "\n",
    "The custom model is a Classification model based on LogisticRegression and will use a Class called CustomPredict. The CustomPredict adds an additional step in the predict method that sets your labels of 0 and 1 back to female and male when the model receives input. You will be using pyfunc flavor for logging and loading your model.\n",
    "\n",
    "Our insurance_charges dataset will be preprocessed and model will be trained using:\n",
    "\n",
    "<code>\n",
    "lr_model = LogisticRegression().fit(X_train, y_train)\n",
    "</code>\n",
    "\n",
    "The MLflow module will be imported.\n",
    "\n",
    "### Instructions\n",
    "    - Use MLflow's pyfunc flavor to log the custom model.\n",
    "    - Set pyfunc python_model argument to use the Custom Class CustomPredict().\n",
    "    - Load the custom model using pyfunc."
   ]
  },
  {
   "cell_type": "code",
   "execution_count": null,
   "id": "8867d330-727e-4072-9e20-5bb84648ef59",
   "metadata": {},
   "outputs": [],
   "source": [
    "# Log the pyfunc model \n",
    "mlflow.pyfunc.log_model(\n",
    "\tartifact_path=\"lr_pyfunc\", \n",
    "    # Set model to use CustomPredict Class\n",
    "\tpython_model=CustomPredict(), \n",
    "\tartifacts={\"lr_model\": \"lr_model\"}\n",
    ")\n",
    "\n",
    "run = mlflow.last_active_run()\n",
    "run_id = run.info.run_id\n",
    "\n",
    "# Load the model in python_function format\n",
    "loaded_model = mlflow.pyfunc.load_model(f\"runs:/{run_id}/lr_pyfunc\")"
   ]
  },
  {
   "cell_type": "markdown",
   "id": "cf15c223-d7b8-463d-93e1-a3c8bbfa7c13",
   "metadata": {},
   "source": [
    "## Scikit-learn flavor and evaluation\n",
    "\n",
    "In this exercise you will train a classification model and evaluates its performance. The model uses your Insurance Charges dataset in order to classify if the charges were for a female or male.\n",
    "\n",
    "We will start by logging our model to MLflow Tracking using the scikit-learn flavor and finish by evaluating your model using an eval_data dataset.\n",
    "\n",
    "Your evaluation dataset is created as eval_data and our model trained with the name lr_class. The eval_data will consist of X_test and y_test as the training data was split using train_test_split() function from sklearn.\n",
    "\n",
    "<code>\n",
    "# Model\n",
    "lr_class = LogisticRegression()\n",
    "lr_class.fit(X_train, y_train)\n",
    "</code>\n",
    "\n",
    "The mlflow module is imported.\n",
    "\n",
    "### Instructions\n",
    "    - Log the lr_class model using scikit-learn \"built-in\" flavor.\n",
    "    - Call the evaluate() function from mlflow module.\n",
    "    - Evaluate the eval_data dataset and target the \"sex\" column."
   ]
  },
  {
   "cell_type": "code",
   "execution_count": null,
   "id": "4b3fb31b-4dbe-41d8-b14e-d376933f0d16",
   "metadata": {},
   "outputs": [],
   "source": [
    "# Eval Data\n",
    "eval_data = X_test\n",
    "eval_data[\"sex\"] = y_test\n",
    "# Log the lr_class model using Scikit-Learn Flavor\n",
    "mlflow.sklearn.log_model(lr_class, \"model\")\n",
    "\n",
    "# Get run id\n",
    "run = mlflow.last_active_run()\n",
    "run_id = run.info.run_id\n",
    "\n",
    "# Evaluate the logged model with eval_data data\n",
    "mlflow.evaluate(f\"runs:/{run_id}/model\", \n",
    "        data=eval_data, \n",
    "        targets=\"sex\",\n",
    "        model_type=\"classifier\"\n",
    ")"
   ]
  }
 ],
 "metadata": {
  "kernelspec": {
   "display_name": "Python 3 (ipykernel)",
   "language": "python",
   "name": "python3"
  },
  "language_info": {
   "codemirror_mode": {
    "name": "ipython",
    "version": 3
   },
   "file_extension": ".py",
   "mimetype": "text/x-python",
   "name": "python",
   "nbconvert_exporter": "python",
   "pygments_lexer": "ipython3",
   "version": "3.11.6"
  }
 },
 "nbformat": 4,
 "nbformat_minor": 5
}
