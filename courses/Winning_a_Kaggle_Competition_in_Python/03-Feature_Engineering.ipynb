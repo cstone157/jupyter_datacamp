{
 "cells": [
  {
   "cell_type": "code",
   "execution_count": 2,
   "id": "d985f86c-bbad-4d25-8ede-ec6557095dff",
   "metadata": {},
   "outputs": [],
   "source": [
    "import numpy as np\n",
    "import pandas as pd\n",
    "\n",
    "import matplotlib.pyplot as plt\n",
    "\n",
    "from sklearn.ensemble import RandomForestRegressor\n",
    "from sklearn.metrics import mean_squared_error\n",
    "from sklearn.model_selection import KFold, StratifiedKFold, TimeSeriesSplit\n"
   ]
  },
  {
   "cell_type": "markdown",
   "id": "7ac6503f-8e68-47ea-8bd7-0939a90455c3",
   "metadata": {},
   "source": [
    "## Arithmetical features\n",
    "\n",
    "- To practice creating new features, you will be working with a subsample from the Kaggle competition called \"House Prices: Advanced Regression Techniques\". The goal of this competition is to predict the price of the house based on its properties. It's a regression problem with Root Mean Squared Error as an evaluation metric.\n",
    "\n",
    "- Your goal is to create new features and determine whether they improve your validation score. To get the validation score from 5-fold cross-validation, you're given the get_kfold_rmse() function. Use it with the train DataFrame, available in your workspace, as an argument.\n",
    "\n",
    "### Instructions 1/3\n",
    "-    Create a new feature representing the total area (basement, 1st and 2nd floors) of the house. The columns \"TotalBsmtSF\", \"FirstFlrSF\" and \"SecondFlrSF\" give the areas of the basement, 1st and 2nd floors, "
   ]
  },
  {
   "cell_type": "code",
   "execution_count": 14,
   "id": "8c07818d-f8f8-41af-b063-722f74f9ee9e",
   "metadata": {},
   "outputs": [],
   "source": [
    "from sklearn.model_selection import KFold\n",
    "from sklearn.metrics import mean_squared_error\n",
    "\n",
    "kf = KFold()\n",
    "\n",
    "def get_kfold_rmse(train):\n",
    "    mse_scores = []\n",
    "\n",
    "    for train_index, test_index in kf.split(train):\n",
    "        train = train.fillna(0)\n",
    "        feats = [x for x in train.columns if x not in ['Id', 'SalePrice', 'RoofStyle', 'CentralAir']]\n",
    "        \n",
    "        fold_train, fold_test = train.loc[train_index], train.loc[test_index]\n",
    "\n",
    "        # Fit the data and make predictions\n",
    "        # Create a Random Forest object\n",
    "        rf = RandomForestRegressor(n_estimators=10, min_samples_split=10, random_state=123)\n",
    "\n",
    "        # Train a model\n",
    "        rf.fit(X=fold_train[feats], y=fold_train['SalePrice'])\n",
    "\n",
    "        # Get predictions for the test set\n",
    "        pred = rf.predict(fold_test[feats])\n",
    "    \n",
    "        fold_score = mean_squared_error(fold_test['SalePrice'], pred)\n",
    "        mse_scores.append(np.sqrt(fold_score))\n",
    "        \n",
    "    return round(np.mean(mse_scores) + np.std(mse_scores), 2)\n",
    "\n",
    "train = pd.read_csv(\"../../data/house_prices_train.csv\")\n",
    "test = pd.read_csv(\"../../data/house_prices_test.csv\")\n",
    "\n",
    "train[\"FirstFlrSF\"] = train[\"1stFlrSF\"]\n",
    "train[\"SecondFlrSF\"] = train[\"2ndFlrSF\"]\n",
    "\n",
    "test[\"FirstFlrSF\"] = test[\"1stFlrSF\"]\n",
    "test[\"SecondFlrSF\"] = test[\"2ndFlrSF\"]"
   ]
  },
  {
   "cell_type": "code",
   "execution_count": 15,
   "id": "1939219a-eb54-4139-965d-dae6247d5223",
   "metadata": {},
   "outputs": [
    {
     "name": "stdout",
     "output_type": "stream",
     "text": [
      "RMSE before feature engineering: 34458.13\n",
      "RMSE with total area: 34180.15\n"
     ]
    }
   ],
   "source": [
    "# Look at the initial RMSE\n",
    "print('RMSE before feature engineering:', get_kfold_rmse(train))\n",
    "\n",
    "# Find the total area of the house\n",
    "train['TotalArea'] = train[\"TotalBsmtSF\"] + train[\"FirstFlrSF\"] + train[\"SecondFlrSF\"]\n",
    "\n",
    "# Look at the updated RMSE\n",
    "print('RMSE with total area:', get_kfold_rmse(train))"
   ]
  },
  {
   "cell_type": "markdown",
   "id": "2bbe36c3-f51e-4ebc-9278-04188b3ddd08",
   "metadata": {},
   "source": [
    "### Instructions 2/3\n",
    "-    Create a new feature representing the area of the garden. It is a difference between the total area of the property (\"LotArea\") and the first floor area (\"FirstFlrSF\")."
   ]
  },
  {
   "cell_type": "code",
   "execution_count": 16,
   "id": "c860c0b4-2052-4b4d-82aa-c9b9e2b71b79",
   "metadata": {},
   "outputs": [
    {
     "name": "stdout",
     "output_type": "stream",
     "text": [
      "RMSE before feature engineering: 34180.15\n",
      "RMSE with total area: 34180.15\n",
      "RMSE with garden area: 35301.11\n"
     ]
    }
   ],
   "source": [
    "# Look at the initial RMSE\n",
    "print('RMSE before feature engineering:', get_kfold_rmse(train))\n",
    "\n",
    "# Find the total area of the house\n",
    "train['TotalArea'] = train['TotalBsmtSF'] + train['FirstFlrSF'] + train['SecondFlrSF']\n",
    "print('RMSE with total area:', get_kfold_rmse(train))\n",
    "\n",
    "# Find the area of the garden\n",
    "train['GardenArea'] = train['LotArea'] - train['FirstFlrSF']\n",
    "print('RMSE with garden area:', get_kfold_rmse(train))"
   ]
  },
  {
   "cell_type": "markdown",
   "id": "4df4c1fc-ed52-41ad-95df-906aa7539cb4",
   "metadata": {},
   "source": [
    "### Instructions 3/3\n",
    "-    Create a new feature representing the total number of bathrooms in the house. It is a sum of full bathrooms (\"FullBath\") and half bathrooms (\"HalfBath\")."
   ]
  },
  {
   "cell_type": "code",
   "execution_count": 17,
   "id": "b3d07a27-cf58-44a4-b8fc-5318e0ed86d6",
   "metadata": {},
   "outputs": [
    {
     "name": "stdout",
     "output_type": "stream",
     "text": [
      "RMSE before feature engineering: 35301.11\n",
      "RMSE with total area: 35301.11\n",
      "RMSE with garden area: 35301.11\n",
      "RMSE with number of bathrooms: 34920.65\n"
     ]
    }
   ],
   "source": [
    "# Look at the initial RMSE\n",
    "print('RMSE before feature engineering:', get_kfold_rmse(train))\n",
    "\n",
    "# Find the total area of the house\n",
    "train['TotalArea'] = train['TotalBsmtSF'] + train['FirstFlrSF'] + train['SecondFlrSF']\n",
    "print('RMSE with total area:', get_kfold_rmse(train))\n",
    "\n",
    "# Find the area of the garden\n",
    "train['GardenArea'] = train['LotArea'] - train['FirstFlrSF']\n",
    "print('RMSE with garden area:', get_kfold_rmse(train))\n",
    "\n",
    "# Find total number of bathrooms\n",
    "train['TotalBath'] = train['FullBath'] + train['HalfBath']\n",
    "print('RMSE with number of bathrooms:', get_kfold_rmse(train))"
   ]
  },
  {
   "cell_type": "markdown",
   "id": "c061c8e7-ed06-490f-a909-37205b3d9377",
   "metadata": {},
   "source": [
    "## Date features\n",
    "\n",
    "- You've built some basic features using numerical variables. Now, it's time to create features based on date and time. You will practice on a subsample from the Taxi Fare Prediction Kaggle competition data. The data represents information about the taxi rides and the goal is to predict the price for each ride.\n",
    "\n",
    "- Your objective is to generate date features from the pickup datetime. Recall that it's better to create new features for train and test data simultaneously. After the features are created, split the data back into the train and test DataFrames. Here it's done using pandas' isin() method.\n",
    "\n",
    "- The train and test DataFrames are already available in your workspace.\n",
    "\n",
    "### Instructions\n",
    "-    Concatenate the train and test DataFrames into a single DataFrame taxi.\n",
    "-    Convert the \"pickup_datetime\" column to a datetime object.\n",
    "-    Create the day of week (using .dayofweek attribute) and hour (using .hour attribute) features from the \"pickup_datetime\" column."
   ]
  },
  {
   "cell_type": "code",
   "execution_count": 18,
   "id": "9d70035e-a8f9-4065-9a71-6774e126f1b2",
   "metadata": {},
   "outputs": [],
   "source": [
    "train = pd.read_csv(\"../../data/taxi_train_chapter_4.csv\")\n",
    "test = pd.read_csv(\"../../data/taxi_test_chapter_4.csv\")"
   ]
  },
  {
   "cell_type": "code",
   "execution_count": 19,
   "id": "d4cd253d-942f-4f4d-ba4e-9576c46023a2",
   "metadata": {},
   "outputs": [],
   "source": [
    "# Concatenate train and test together\n",
    "taxi = pd.concat([train, test])\n",
    "\n",
    "# Convert pickup date to datetime object\n",
    "taxi['pickup_datetime'] = pd.to_datetime(taxi['pickup_datetime'])\n",
    "\n",
    "# Create a day of week feature\n",
    "taxi['dayofweek'] = taxi['pickup_datetime'].dt.dayofweek\n",
    "\n",
    "# Create an hour feature\n",
    "taxi['hour'] = taxi['pickup_datetime'].dt.hour\n",
    "\n",
    "# Split back into train and test\n",
    "new_train = taxi[taxi['id'].isin(train['id'])]\n",
    "new_test = taxi[taxi['id'].isin(test['id'])]"
   ]
  },
  {
   "cell_type": "markdown",
   "id": "de0f1ed0-eeb2-4379-b252-9dc27296aa49",
   "metadata": {},
   "source": [
    "## Label encoding\n",
    "\n",
    "- Let's work on categorical variables encoding. You will again work with a subsample from the House Prices Kaggle competition.\n",
    "\n",
    "- Your objective is to encode categorical features \"RoofStyle\" and \"CentralAir\" using label encoding. The train and test DataFrames are already available in your workspace.\n",
    "\n",
    "### Instructions\n",
    "-    Concatenate train and test DataFrames into a single DataFrame houses.\n",
    "-    Create a LabelEncoder object without arguments and assign it to le.\n",
    "-    Create new label-encoded features for \"RoofStyle\" and \"CentralAir\" using the same le object."
   ]
  },
  {
   "cell_type": "code",
   "execution_count": 21,
   "id": "eee8586d-4324-47ae-9037-d760a202c9aa",
   "metadata": {},
   "outputs": [],
   "source": [
    "from sklearn.preprocessing import LabelEncoder\n",
    "\n",
    "train = pd.read_csv(\"../../data/house_prices_train.csv\")\n",
    "test = pd.read_csv(\"../../data/house_prices_test.csv\")"
   ]
  },
  {
   "cell_type": "code",
   "execution_count": 22,
   "id": "4d05cc3e-c314-48a3-9567-666b8623ad31",
   "metadata": {},
   "outputs": [
    {
     "name": "stdout",
     "output_type": "stream",
     "text": [
      "  RoofStyle  RoofStyle_enc CentralAir  CentralAir_enc\n",
      "0     Gable              1          Y               1\n",
      "1     Gable              1          Y               1\n",
      "2     Gable              1          Y               1\n",
      "3     Gable              1          Y               1\n",
      "4     Gable              1          Y               1\n"
     ]
    }
   ],
   "source": [
    "# Concatenate train and test together\n",
    "houses = pd.concat([train, test])\n",
    "\n",
    "# Label encoder\n",
    "from sklearn.preprocessing import LabelEncoder\n",
    "le = LabelEncoder()\n",
    "\n",
    "# Create new features\n",
    "houses['RoofStyle_enc'] = le.fit_transform(houses[\"RoofStyle\"])\n",
    "houses['CentralAir_enc'] = le.fit_transform(houses[\"CentralAir\"])\n",
    "\n",
    "# Look at new features\n",
    "print(houses[['RoofStyle', 'RoofStyle_enc', 'CentralAir', 'CentralAir_enc']].head())"
   ]
  },
  {
   "cell_type": "markdown",
   "id": "a4933174-49fe-47c0-8168-789fea393c7d",
   "metadata": {},
   "source": [
    "## One-Hot encoding\n",
    "\n",
    "- The problem with label encoding is that it implicitly assumes that there is a ranking dependency between the categories. So, let's change the encoding method for the features \"RoofStyle\" and \"CentralAir\" to one-hot encoding. Again, the train and test DataFrames from House Prices Kaggle competition are already available in your workspace.\n",
    "\n",
    "- Recall that if you're dealing with binary features (categorical features with only two categories) it is suggested to apply label encoder only.\n",
    "\n",
    "- Your goal is to determine which of the mentioned features is not binary, and to apply one-hot encoding only to this one.\n",
    "\n",
    "### Instructions 1/4\n",
    "-    Determine the distribution of \"RoofStyle\" and \"CentralAir\" features using pandas' value_counts() method."
   ]
  },
  {
   "cell_type": "code",
   "execution_count": 23,
   "id": "5aed08f8-0621-4e33-bd77-30f94259d4d9",
   "metadata": {},
   "outputs": [
    {
     "name": "stdout",
     "output_type": "stream",
     "text": [
      "RoofStyle\n",
      "Gable      2310\n",
      "Hip         551\n",
      "Gambrel      22\n",
      "Flat         20\n",
      "Mansard      11\n",
      "Shed          5\n",
      "Name: count, dtype: int64 \n",
      "\n",
      "CentralAir\n",
      "Y    2723\n",
      "N     196\n",
      "Name: count, dtype: int64\n"
     ]
    }
   ],
   "source": [
    "# Concatenate train and test together\n",
    "houses = pd.concat([train, test])\n",
    "\n",
    "# Look at feature distributions\n",
    "print(houses['RoofStyle'].value_counts(), '\\n')\n",
    "print(houses['CentralAir'].value_counts())"
   ]
  },
  {
   "cell_type": "markdown",
   "id": "548bed26-d757-4084-bd42-4a4e59728233",
   "metadata": {},
   "source": [
    "### Instructions 3/4\n",
    "-    As long as \"CentralAir\" is a binary feature, encode it with a label encoder (0 - for one class and 1 - for another class)."
   ]
  },
  {
   "cell_type": "code",
   "execution_count": 24,
   "id": "0d8c97be-6a0f-4c44-a126-15273b2b1165",
   "metadata": {},
   "outputs": [],
   "source": [
    "# Concatenate train and test together\n",
    "houses = pd.concat([train, test])\n",
    "\n",
    "# Label encode binary 'CentralAir' feature\n",
    "from sklearn.preprocessing import LabelEncoder\n",
    "le = LabelEncoder()\n",
    "houses['CentralAir_enc'] = le.fit_transform(houses[\"CentralAir\"])"
   ]
  },
  {
   "cell_type": "markdown",
   "id": "cacec29d-4455-4b4f-b439-6d52dfba34ed",
   "metadata": {},
   "source": [
    "### Instructions 4/4\n",
    "-    For the categorical feature \"RoofStyle\" let's use the one-hot encoder. Firstly, create one-hot encoded features using the get_dummies() method. Then they are concatenated to the initial houses DataFrame."
   ]
  },
  {
   "cell_type": "code",
   "execution_count": 25,
   "id": "6bca31a3-c49d-4549-90cf-21cb51869d75",
   "metadata": {},
   "outputs": [
    {
     "name": "stdout",
     "output_type": "stream",
     "text": [
      "  RoofStyle  RoofStyle_Flat  RoofStyle_Gable  RoofStyle_Gambrel  \\\n",
      "0     Gable           False             True              False   \n",
      "1     Gable           False             True              False   \n",
      "2     Gable           False             True              False   \n",
      "\n",
      "   RoofStyle_Hip  RoofStyle_Mansard  RoofStyle_Shed  \n",
      "0          False              False           False  \n",
      "1          False              False           False  \n",
      "2          False              False           False  \n"
     ]
    }
   ],
   "source": [
    "# Concatenate train and test together\n",
    "houses = pd.concat([train, test])\n",
    "\n",
    "# Label encode binary 'CentralAir' feature\n",
    "from sklearn.preprocessing import LabelEncoder\n",
    "le = LabelEncoder()\n",
    "houses['CentralAir_enc'] = le.fit_transform(houses['CentralAir'])\n",
    "\n",
    "# Create One-Hot encoded features\n",
    "ohe = pd.get_dummies(houses['RoofStyle'], prefix='RoofStyle')\n",
    "\n",
    "# Concatenate OHE features to houses\n",
    "houses = pd.concat([houses, ohe], axis=1)\n",
    "\n",
    "# Look at OHE features\n",
    "print(houses[[col for col in houses.columns if 'RoofStyle' in col]].head(3))"
   ]
  },
  {
   "cell_type": "markdown",
   "id": "46f5c191-a2b4-484c-b820-c393140e13ac",
   "metadata": {},
   "source": [
    "## Mean target encoding\n",
    "\n",
    "- First of all, you will create a function that implements mean target encoding. Remember that you need to develop the two following steps:\n",
    "\n",
    "    1.    Calculate the mean on the train, apply to the test\n",
    "    2.    Split train into K folds. Calculate the out-of-fold mean for each fold, apply to this particular fold\n",
    "<br/>\n",
    "- Each of these steps will be implemented in a separate function: test_mean_target_encoding() and train_mean_target_encoding(), respectively.\n",
    "\n",
    "- The final function mean_target_encoding() takes as arguments: the train and test DataFrames, the name of the categorical column to be encoded, the name of the target column and a smoothing parameter alpha. It returns two values: a new feature for train and test DataFrames, respectively.\n",
    "\n",
    "### Instructions 1/3\n",
    "-    You need to add smoothing to avoid overfitting. So, add $\\alpha$ parameter to the denominator in train_statistics calculations.\n",
    "-    You need to treat new categories in the test data. So, pass a global mean as an argument to the fillna() method."
   ]
  },
  {
   "cell_type": "code",
   "execution_count": 26,
   "id": "0996d7b9-c59c-47db-afe1-dd9c9e6f3047",
   "metadata": {},
   "outputs": [],
   "source": [
    "def test_mean_target_encoding(train, test, target, categorical, alpha=5):\n",
    "    # Calculate global mean on the train data\n",
    "    global_mean = train[target].mean()\n",
    "    \n",
    "    # Group by the categorical feature and calculate its properties\n",
    "    train_groups = train.groupby(categorical)\n",
    "    category_sum = train_groups[target].sum()\n",
    "    category_size = train_groups.size()\n",
    "    \n",
    "    # Calculate smoothed mean target statistics\n",
    "    train_statistics = (category_sum + global_mean * alpha) / (category_size + alpha)\n",
    "    \n",
    "    # Apply statistics to the test data and fill new categories\n",
    "    test_feature = test[categorical].map(train_statistics).fillna(global_mean)\n",
    "    return test_feature.values"
   ]
  },
  {
   "cell_type": "markdown",
   "id": "3dc837fe-4a4a-4963-8731-0fad478c0b5b",
   "metadata": {},
   "source": [
    "### Instructions 2/3\n",
    "-    To calculate the train mean encoded feature you need to use out-of-fold statistics, splitting train into several folds. Specify the train and test indices for each validation split to access it."
   ]
  },
  {
   "cell_type": "code",
   "execution_count": 27,
   "id": "63f971cd-8fce-4500-9ac8-a764490dacbd",
   "metadata": {},
   "outputs": [],
   "source": [
    "def train_mean_target_encoding(train, target, categorical, alpha=5):\n",
    "    # Create 5-fold cross-validation\n",
    "    kf = KFold(n_splits=5, random_state=123, shuffle=True)\n",
    "    train_feature = pd.Series(index=train.index)\n",
    "    \n",
    "    # For each folds split\n",
    "    for train_index, test_index in kf.split(train):\n",
    "        cv_train, cv_test = train.iloc[train_index], train.iloc[test_index]\n",
    "      \n",
    "        # Calculate out-of-fold statistics and apply to cv_test\n",
    "        cv_test_feature = test_mean_target_encoding(cv_train, cv_test, target, categorical, alpha)\n",
    "        \n",
    "        # Save new feature for this particular fold\n",
    "        train_feature.iloc[test_index] = cv_test_feature       \n",
    "    return train_feature.values"
   ]
  },
  {
   "cell_type": "markdown",
   "id": "377ea70e-42f5-4f39-a1f4-3be45d886272",
   "metadata": {},
   "source": [
    "### Instructions 3/3\n",
    "-    Finally, you just calculate train and test target mean encoded features and return them from the function. So, return train_feature and test_feature obtained."
   ]
  },
  {
   "cell_type": "code",
   "execution_count": 28,
   "id": "dd422dd2-e712-4880-851a-63c14d14fc65",
   "metadata": {},
   "outputs": [],
   "source": [
    "def mean_target_encoding(train, test, target, categorical, alpha=5):\n",
    "  \n",
    "    # Get the train feature\n",
    "    train_feature = train_mean_target_encoding(train, target, categorical, alpha)\n",
    "  \n",
    "    # Get the test feature\n",
    "    test_feature = test_mean_target_encoding(train, test, target, categorical, alpha)\n",
    "    \n",
    "    # Return new features to add to the model\n",
    "    return train_feature, test_feature"
   ]
  },
  {
   "cell_type": "markdown",
   "id": "5935a6e3-09da-40c6-b99e-a4aa5712f68e",
   "metadata": {},
   "source": [
    "## K-fold cross-validation\n",
    "\n",
    "- You will work with a binary classification problem on a subsample from Kaggle playground competition. The objective of this competition is to predict whether a famous basketball player Kobe Bryant scored a basket or missed a particular shot.\n",
    "\n",
    "- Train data is available in your workspace as bryant_shots DataFrame. It contains data on 10,000 shots with its properties and a target variable \"shot\\_made\\_flag\" -- whether shot was scored or not.\n",
    "\n",
    "- One of the features in the data is \"game_id\" -- a particular game where the shot was made. There are 541 distinct games. So, you deal with a high-cardinality categorical feature. Let's encode it using a target mean!\n",
    "\n",
    "- Suppose you're using 5-fold cross-validation and want to evaluate a mean target encoded feature on the local validation.\n",
    "\n",
    "### Instructions\n",
    "-    To achieve this, you need to repeat encoding procedure for the \"game_id\" categorical feature inside each folds split separately. Your goal is to specify all the missing parameters for the mean_target_encoding() function call inside each folds split.\n",
    "-    Recall that the train and test parameters expect the train and test DataFrames.\n",
    "-    While the target and categorical parameters expect names of the target variable and categorical feature to be encoded."
   ]
  },
  {
   "cell_type": "code",
   "execution_count": 29,
   "id": "b327f47c-51a8-4763-86d4-86978d8bdefb",
   "metadata": {},
   "outputs": [],
   "source": [
    "bryant_shots = pd.read_csv(\"../../data/bryant_shots_data.csv\")"
   ]
  },
  {
   "cell_type": "code",
   "execution_count": 30,
   "id": "268954c8-7a86-4a52-bf3c-66a210b80f43",
   "metadata": {},
   "outputs": [
    {
     "name": "stdout",
     "output_type": "stream",
     "text": [
      "       game_id  shot_made_flag  game_id_enc\n",
      "4364  20200774             1.0      0.39249\n",
      "        game_id  shot_made_flag  game_id_enc\n",
      "17264  21000610             1.0     0.403392\n",
      "        game_id  shot_made_flag  game_id_enc\n",
      "17920  21001139             NaN     0.464476\n",
      "       game_id  shot_made_flag  game_id_enc\n",
      "2653  20100816             1.0     0.222784\n",
      "        game_id  shot_made_flag  game_id_enc\n",
      "12249  20700572             1.0     0.366376\n"
     ]
    },
    {
     "name": "stderr",
     "output_type": "stream",
     "text": [
      "/tmp/ipykernel_1054596/2144274239.py:9: SettingWithCopyWarning: \n",
      "A value is trying to be set on a copy of a slice from a DataFrame.\n",
      "Try using .loc[row_indexer,col_indexer] = value instead\n",
      "\n",
      "See the caveats in the documentation: https://pandas.pydata.org/pandas-docs/stable/user_guide/indexing.html#returning-a-view-versus-a-copy\n",
      "  cv_train['game_id_enc'], cv_test['game_id_enc'] = mean_target_encoding(train=cv_train,\n",
      "/tmp/ipykernel_1054596/2144274239.py:9: SettingWithCopyWarning: \n",
      "A value is trying to be set on a copy of a slice from a DataFrame.\n",
      "Try using .loc[row_indexer,col_indexer] = value instead\n",
      "\n",
      "See the caveats in the documentation: https://pandas.pydata.org/pandas-docs/stable/user_guide/indexing.html#returning-a-view-versus-a-copy\n",
      "  cv_train['game_id_enc'], cv_test['game_id_enc'] = mean_target_encoding(train=cv_train,\n",
      "/tmp/ipykernel_1054596/2144274239.py:9: SettingWithCopyWarning: \n",
      "A value is trying to be set on a copy of a slice from a DataFrame.\n",
      "Try using .loc[row_indexer,col_indexer] = value instead\n",
      "\n",
      "See the caveats in the documentation: https://pandas.pydata.org/pandas-docs/stable/user_guide/indexing.html#returning-a-view-versus-a-copy\n",
      "  cv_train['game_id_enc'], cv_test['game_id_enc'] = mean_target_encoding(train=cv_train,\n",
      "/tmp/ipykernel_1054596/2144274239.py:9: SettingWithCopyWarning: \n",
      "A value is trying to be set on a copy of a slice from a DataFrame.\n",
      "Try using .loc[row_indexer,col_indexer] = value instead\n",
      "\n",
      "See the caveats in the documentation: https://pandas.pydata.org/pandas-docs/stable/user_guide/indexing.html#returning-a-view-versus-a-copy\n",
      "  cv_train['game_id_enc'], cv_test['game_id_enc'] = mean_target_encoding(train=cv_train,\n",
      "/tmp/ipykernel_1054596/2144274239.py:9: SettingWithCopyWarning: \n",
      "A value is trying to be set on a copy of a slice from a DataFrame.\n",
      "Try using .loc[row_indexer,col_indexer] = value instead\n",
      "\n",
      "See the caveats in the documentation: https://pandas.pydata.org/pandas-docs/stable/user_guide/indexing.html#returning-a-view-versus-a-copy\n",
      "  cv_train['game_id_enc'], cv_test['game_id_enc'] = mean_target_encoding(train=cv_train,\n",
      "/tmp/ipykernel_1054596/2144274239.py:9: SettingWithCopyWarning: \n",
      "A value is trying to be set on a copy of a slice from a DataFrame.\n",
      "Try using .loc[row_indexer,col_indexer] = value instead\n",
      "\n",
      "See the caveats in the documentation: https://pandas.pydata.org/pandas-docs/stable/user_guide/indexing.html#returning-a-view-versus-a-copy\n",
      "  cv_train['game_id_enc'], cv_test['game_id_enc'] = mean_target_encoding(train=cv_train,\n",
      "/tmp/ipykernel_1054596/2144274239.py:9: SettingWithCopyWarning: \n",
      "A value is trying to be set on a copy of a slice from a DataFrame.\n",
      "Try using .loc[row_indexer,col_indexer] = value instead\n",
      "\n",
      "See the caveats in the documentation: https://pandas.pydata.org/pandas-docs/stable/user_guide/indexing.html#returning-a-view-versus-a-copy\n",
      "  cv_train['game_id_enc'], cv_test['game_id_enc'] = mean_target_encoding(train=cv_train,\n",
      "/tmp/ipykernel_1054596/2144274239.py:9: SettingWithCopyWarning: \n",
      "A value is trying to be set on a copy of a slice from a DataFrame.\n",
      "Try using .loc[row_indexer,col_indexer] = value instead\n",
      "\n",
      "See the caveats in the documentation: https://pandas.pydata.org/pandas-docs/stable/user_guide/indexing.html#returning-a-view-versus-a-copy\n",
      "  cv_train['game_id_enc'], cv_test['game_id_enc'] = mean_target_encoding(train=cv_train,\n",
      "/tmp/ipykernel_1054596/2144274239.py:9: SettingWithCopyWarning: \n",
      "A value is trying to be set on a copy of a slice from a DataFrame.\n",
      "Try using .loc[row_indexer,col_indexer] = value instead\n",
      "\n",
      "See the caveats in the documentation: https://pandas.pydata.org/pandas-docs/stable/user_guide/indexing.html#returning-a-view-versus-a-copy\n",
      "  cv_train['game_id_enc'], cv_test['game_id_enc'] = mean_target_encoding(train=cv_train,\n",
      "/tmp/ipykernel_1054596/2144274239.py:9: SettingWithCopyWarning: \n",
      "A value is trying to be set on a copy of a slice from a DataFrame.\n",
      "Try using .loc[row_indexer,col_indexer] = value instead\n",
      "\n",
      "See the caveats in the documentation: https://pandas.pydata.org/pandas-docs/stable/user_guide/indexing.html#returning-a-view-versus-a-copy\n",
      "  cv_train['game_id_enc'], cv_test['game_id_enc'] = mean_target_encoding(train=cv_train,\n"
     ]
    }
   ],
   "source": [
    "# Create 5-fold cross-validation\n",
    "kf = KFold(n_splits=5, random_state=123, shuffle=True)\n",
    "\n",
    "# For each folds split\n",
    "for train_index, test_index in kf.split(bryant_shots):\n",
    "    cv_train, cv_test = bryant_shots.iloc[train_index], bryant_shots.iloc[test_index]\n",
    "\n",
    "    # Create mean target encoded feature\n",
    "    cv_train['game_id_enc'], cv_test['game_id_enc'] = mean_target_encoding(train=cv_train,\n",
    "                                                                           test=cv_test,\n",
    "                                                                           target='shot_made_flag',\n",
    "                                                                           categorical='game_id',\n",
    "                                                                           alpha=5)\n",
    "    # Look at the encoding\n",
    "    print(cv_train[['game_id', 'shot_made_flag', 'game_id_enc']].sample(n=1))"
   ]
  },
  {
   "cell_type": "markdown",
   "id": "8269ad61-886e-40db-9363-ae028a6162b0",
   "metadata": {},
   "source": [
    "## Beyond binary classification\n",
    "\n",
    "- Of course, binary classification is just a single special case. Target encoding could be applied to any target variable type:\n",
    "    -    For binary classification usually mean target encoding is used\n",
    "    -    For regression mean could be changed to median, quartiles, etc.\n",
    "    -    For multi-class classification with N classes we create N features with target mean for each category in one vs. all fashion\n",
    "<br/>\n",
    "- The mean_target_encoding() function you've created could be used for any target type specified above. Let's apply it for the regression problem on the example of House Prices Kaggle competition.\n",
    "\n",
    "- Your goal is to encode a categorical feature \"RoofStyle\" using mean target encoding. The train and test DataFrames are already available in your workspace.\n",
    "\n",
    "### Instructions\n",
    "-    Specify all the missing parameters for the mean_target_encoding() function call. Target variable name is \"SalePrice\". Set $\\alpha$ hyperparameter to 10.\n",
    "-    Recall that the train and test parameters expect the train and test DataFrames.\n",
    "-    While the target and categorical parameters expect names of the target variable and feature to be encoded."
   ]
  },
  {
   "cell_type": "code",
   "execution_count": 31,
   "id": "477f8644-b36a-4b29-8428-818f27899bc1",
   "metadata": {},
   "outputs": [],
   "source": [
    "train = pd.read_csv(\"../../data/house_prices_train.csv\")\n",
    "test = pd.read_csv(\"../../data/house_prices_test.csv\")"
   ]
  },
  {
   "cell_type": "code",
   "execution_count": 32,
   "id": "60ac9bb7-a049-42c9-a0c5-2a0fa2531a55",
   "metadata": {},
   "outputs": [
    {
     "name": "stdout",
     "output_type": "stream",
     "text": [
      "     RoofStyle  RoofStyle_enc\n",
      "0        Gable  171565.947836\n",
      "1          Hip  217594.645131\n",
      "98     Gambrel  164152.950424\n",
      "133       Flat  188703.563431\n",
      "362    Mansard  180775.938759\n",
      "1053      Shed  188267.663242\n"
     ]
    }
   ],
   "source": [
    "# Create mean target encoded feature\n",
    "train['RoofStyle_enc'], test['RoofStyle_enc'] = mean_target_encoding(train=train,\n",
    "                                                                     test=test,\n",
    "                                                                     target='SalePrice',\n",
    "                                                                     categorical='RoofStyle',\n",
    "                                                                     alpha=10)\n",
    "\n",
    "# Look at the encoding\n",
    "print(test[['RoofStyle', 'RoofStyle_enc']].drop_duplicates())"
   ]
  },
  {
   "cell_type": "markdown",
   "id": "d74f08b0-1f1b-4141-a50b-b379353c07ed",
   "metadata": {},
   "source": [
    "## Find missing data\n",
    "\n",
    "- Let's impute missing data on a real Kaggle dataset. For this purpose, you will be using a data subsample from the Kaggle \"Two sigma connect: rental listing inquiries\" competition.\n",
    "\n",
    "- Before proceeding with any imputing you need to know the number of missing values for each of the features. Moreover, if the feature has missing values, you should explore the type of this feature.\n",
    "\n",
    "### Instructions 1/2\n",
    "-    Read the \"twosigma_train.csv\" file using pandas.\n",
    "-    Find the number of missing values in each column."
   ]
  },
  {
   "cell_type": "code",
   "execution_count": null,
   "id": "8194599d-685b-492c-b52c-9ce59e037ce7",
   "metadata": {},
   "outputs": [],
   "source": [
    "# Read dataframe\n",
    "twosigma = pd.read_csv(\"twosigma_train.csv\")\n",
    "\n",
    "# Find the number of missing values in each column\n",
    "print(twosigma.isnull().sum())"
   ]
  },
  {
   "cell_type": "markdown",
   "id": "70f1f00d-c105-4b25-a5b2-3d16f493d198",
   "metadata": {},
   "source": [
    "### Instructions 2/2\n",
    "-    Select the columns with the missing values and look at the head of the DataFrame."
   ]
  },
  {
   "cell_type": "code",
   "execution_count": null,
   "id": "8f817c45-185a-4352-8c87-a18b0aadb0f4",
   "metadata": {},
   "outputs": [],
   "source": [
    "# Read DataFrame\n",
    "twosigma = pd.read_csv('twosigma_train.csv')\n",
    "\n",
    "# Find the number of missing values in each column\n",
    "print(twosigma.isnull().sum())\n",
    "\n",
    "# Look at the columns with the missing values\n",
    "print(twosigma[[\"building_id\", \"price\"]].head())"
   ]
  },
  {
   "cell_type": "markdown",
   "id": "952c24a4-5ccb-477c-9e74-3c826fe0e0b7",
   "metadata": {},
   "source": [
    "## Impute missing data\n",
    "\n",
    "- You've found that \"price\" and \"building_id\" columns have missing values in the Rental Listing Inquiries dataset. So, before passing the data to the models you need to impute these values.\n",
    "\n",
    "- Numerical feature \"price\" will be encoded with a mean value of non-missing prices.\n",
    "\n",
    "- Imputing categorical feature \"building_id\" with the most frequent category is a bad idea, because it would mean that all the apartments with a missing \"building_id\" are located in the most popular building. The better idea is to impute it with a new category.\n",
    "\n",
    "- The DataFrame rental_listings with competition data is read for you.\n",
    "\n",
    "### Instructions 1/2\n",
    "-        Create a SimpleImputer object with \"mean\" strategy.\n",
    "-        Impute missing prices with the mean value."
   ]
  },
  {
   "cell_type": "code",
   "execution_count": null,
   "id": "1945147b-96ad-45c3-b3cc-a4225e0cb771",
   "metadata": {},
   "outputs": [],
   "source": [
    "# Import SimpleImputer\n",
    "from sklearn.impute import SimpleImputer\n",
    "\n",
    "# Create mean imputer\n",
    "mean_imputer = SimpleImputer(strategy='mean')\n",
    "\n",
    "# Price imputation\n",
    "rental_listings[['price']] = mean_imputer.fit_transform(rental_listings[[\"price\"]])"
   ]
  },
  {
   "cell_type": "markdown",
   "id": "1c0653c4-a2de-4bb8-a96b-d8d09961caa8",
   "metadata": {},
   "source": [
    "### Instructions 2/2\n",
    "-        Create an imputer with \"constant\" strategy. Use \"MISSING\" as fill_value.\n",
    "-        Impute missing buildings with a constant value."
   ]
  },
  {
   "cell_type": "code",
   "execution_count": null,
   "id": "685e15df-bacd-437f-9aad-24b7671a2ab8",
   "metadata": {},
   "outputs": [],
   "source": [
    "# Import SimpleImputer\n",
    "from sklearn.impute import SimpleImputer\n",
    "\n",
    "# Create constant imputer\n",
    "constant_imputer = SimpleImputer(strategy=\"constant\", fill_value='MISSING')\n",
    "\n",
    "# building_id imputation\n",
    "rental_listings[['building_id']] = constant_imputer.fit_transform(rental_listings[[\"building_id\"]])"
   ]
  }
 ],
 "metadata": {
  "kernelspec": {
   "display_name": "Python 3 (ipykernel)",
   "language": "python",
   "name": "python3"
  },
  "language_info": {
   "codemirror_mode": {
    "name": "ipython",
    "version": 3
   },
   "file_extension": ".py",
   "mimetype": "text/x-python",
   "name": "python",
   "nbconvert_exporter": "python",
   "pygments_lexer": "ipython3",
   "version": "3.11.6"
  }
 },
 "nbformat": 4,
 "nbformat_minor": 5
}
