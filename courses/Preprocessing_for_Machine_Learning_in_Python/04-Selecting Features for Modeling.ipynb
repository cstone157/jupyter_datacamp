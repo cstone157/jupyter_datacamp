{
 "cells": [
  {
   "cell_type": "code",
   "execution_count": 14,
   "id": "647da440-f75b-406c-814f-3713c27c7fc5",
   "metadata": {},
   "outputs": [],
   "source": [
    "import pandas as pd\n",
    "import numpy as np\n",
    "import re\n",
    "\n",
    "from sklearn.decomposition import PCA\n",
    "from sklearn.model_selection import train_test_split\n",
    "from sklearn.naive_bayes import GaussianNB\n",
    "from sklearn.neighbors import KNeighborsClassifier\n",
    "from sklearn.preprocessing import StandardScaler\n",
    "from sklearn.preprocessing import LabelEncoder\n",
    "from sklearn.feature_extraction.text import TfidfVectorizer\n",
    "\n",
    "\n",
    "volunteer_org = pd.read_csv(\"./data/volunteer_opportunities.csv\")\n",
    "wine = pd.read_csv(\"./data/wine_types.csv\")\n",
    "\n",
    "X = wine[[\"Proline\", \"Total phenols\", \"Hue\", \"Nonflavanoid phenols\"]]\n",
    "y = wine[\"Type\"]\n",
    "\n",
    "hiking = pd.read_json(\"./data/hiking.json\")\n",
    "\n",
    "running_times_5k = pd.DataFrame({\n",
    "    \"name\": [\"Sue\", \"Mark\", \"Sean\", \"Erin\", \"Jenny\", \"Russell\"],\n",
    "    \"run1\": [20.1, 16.5, 23.5, 21.7, 25.8, 30.9],\n",
    "    \"run2\": [18.5, 17.1, 25.1, 21.1, 27.1, 29.6],\n",
    "    \"run3\": [19.6, 16.9, 25.2, 20.9, 26.1, 31.4],\n",
    "    \"run4\": [20.3, 17.6, 24.6, 22.1, 26.7, 30.4],\n",
    "    \"run5\": [18.3, 17.3, 23.9, 22.2, 26.9, 29.9]})\n",
    "\n",
    "volunteer = volunteer_org[['vol_requests', 'title', 'hits', 'category_desc', 'locality', 'region', 'postalcode', 'created_date']]"
   ]
  },
  {
   "cell_type": "code",
   "execution_count": 15,
   "id": "7598a211-8167-4ffd-8850-2b2bee2e8be8",
   "metadata": {},
   "outputs": [
    {
     "name": "stdout",
     "output_type": "stream",
     "text": [
      "                                               title  hits  postalcode\n",
      "0  Volunteers Needed For Rise Up & Stay Put! Home...   737         NaN\n",
      "1                                       Web designer    22     10010.0\n",
      "2      Urban Adventures - Ice Skating at Lasker Rink    62     10026.0\n",
      "3  Fight global hunger and support women farmers ...    14      2114.0\n",
      "4                                      Stop 'N' Swap    31     10455.0\n"
     ]
    }
   ],
   "source": [
    "# Create a list of redundant column names to drop\n",
    "to_drop = [\"category_desc\", \"created_date\", \"locality\", \"region\", \"vol_requests\"]\n",
    "\n",
    "# Drop those columns from the dataset\n",
    "volunteer_subset = volunteer.drop(to_drop, axis=1)\n",
    "\n",
    "# Print out the head of volunteer_subset\n",
    "print(volunteer_subset.head())"
   ]
  },
  {
   "cell_type": "code",
   "execution_count": 16,
   "id": "2397f533-b4ed-40b5-807f-f57560d21f67",
   "metadata": {},
   "outputs": [
    {
     "name": "stdout",
     "output_type": "stream",
     "text": [
      "                                  Type   Alcohol  Malic acid       Ash  \\\n",
      "Type                          1.000000 -0.328222    0.437776 -0.049643   \n",
      "Alcohol                      -0.328222  1.000000    0.094397  0.211545   \n",
      "Malic acid                    0.437776  0.094397    1.000000  0.164045   \n",
      "Ash                          -0.049643  0.211545    0.164045  1.000000   \n",
      "Alcalinity of ash             0.517859 -0.310235    0.288500  0.443367   \n",
      "Magnesium                    -0.209179  0.270798   -0.054575  0.286587   \n",
      "Total phenols                -0.719163  0.289101   -0.335167  0.128980   \n",
      "Flavanoids                   -0.847498  0.236815   -0.411007  0.115077   \n",
      "Nonflavanoid phenols          0.489109 -0.155929    0.292977  0.186230   \n",
      "Proanthocyanins              -0.499130  0.136698   -0.220746  0.009652   \n",
      "Color intensity               0.265668  0.546364    0.248985  0.258887   \n",
      "Hue                          -0.617369 -0.071747   -0.561296 -0.074667   \n",
      "OD280/OD315 of diluted wines -0.788230  0.072343   -0.368710  0.003911   \n",
      "Proline                      -0.633717  0.643720   -0.192011  0.223626   \n",
      "\n",
      "                              Alcalinity of ash  Magnesium  Total phenols  \\\n",
      "Type                                   0.517859  -0.209179      -0.719163   \n",
      "Alcohol                               -0.310235   0.270798       0.289101   \n",
      "Malic acid                             0.288500  -0.054575      -0.335167   \n",
      "Ash                                    0.443367   0.286587       0.128980   \n",
      "Alcalinity of ash                      1.000000  -0.083333      -0.321113   \n",
      "Magnesium                             -0.083333   1.000000       0.214401   \n",
      "Total phenols                         -0.321113   0.214401       1.000000   \n",
      "Flavanoids                            -0.351370   0.195784       0.864564   \n",
      "Nonflavanoid phenols                   0.361922  -0.256294      -0.449935   \n",
      "Proanthocyanins                       -0.197327   0.236441       0.612413   \n",
      "Color intensity                        0.018732   0.199950      -0.055136   \n",
      "Hue                                   -0.273955   0.055398       0.433681   \n",
      "OD280/OD315 of diluted wines          -0.276769   0.066004       0.699949   \n",
      "Proline                               -0.440597   0.393351       0.498115   \n",
      "\n",
      "                              Flavanoids  Nonflavanoid phenols  \\\n",
      "Type                           -0.847498              0.489109   \n",
      "Alcohol                         0.236815             -0.155929   \n",
      "Malic acid                     -0.411007              0.292977   \n",
      "Ash                             0.115077              0.186230   \n",
      "Alcalinity of ash              -0.351370              0.361922   \n",
      "Magnesium                       0.195784             -0.256294   \n",
      "Total phenols                   0.864564             -0.449935   \n",
      "Flavanoids                      1.000000             -0.537900   \n",
      "Nonflavanoid phenols           -0.537900              1.000000   \n",
      "Proanthocyanins                 0.652692             -0.365845   \n",
      "Color intensity                -0.172379              0.139057   \n",
      "Hue                             0.543479             -0.262640   \n",
      "OD280/OD315 of diluted wines    0.787194             -0.503270   \n",
      "Proline                         0.494193             -0.311385   \n",
      "\n",
      "                              Proanthocyanins  Color intensity       Hue  \\\n",
      "Type                                -0.499130         0.265668 -0.617369   \n",
      "Alcohol                              0.136698         0.546364 -0.071747   \n",
      "Malic acid                          -0.220746         0.248985 -0.561296   \n",
      "Ash                                  0.009652         0.258887 -0.074667   \n",
      "Alcalinity of ash                   -0.197327         0.018732 -0.273955   \n",
      "Magnesium                            0.236441         0.199950  0.055398   \n",
      "Total phenols                        0.612413        -0.055136  0.433681   \n",
      "Flavanoids                           0.652692        -0.172379  0.543479   \n",
      "Nonflavanoid phenols                -0.365845         0.139057 -0.262640   \n",
      "Proanthocyanins                      1.000000        -0.025250  0.295544   \n",
      "Color intensity                     -0.025250         1.000000 -0.521813   \n",
      "Hue                                  0.295544        -0.521813  1.000000   \n",
      "OD280/OD315 of diluted wines         0.519067        -0.428815  0.565468   \n",
      "Proline                              0.330417         0.316100  0.236183   \n",
      "\n",
      "                              OD280/OD315 of diluted wines   Proline  \n",
      "Type                                             -0.788230 -0.633717  \n",
      "Alcohol                                           0.072343  0.643720  \n",
      "Malic acid                                       -0.368710 -0.192011  \n",
      "Ash                                               0.003911  0.223626  \n",
      "Alcalinity of ash                                -0.276769 -0.440597  \n",
      "Magnesium                                         0.066004  0.393351  \n",
      "Total phenols                                     0.699949  0.498115  \n",
      "Flavanoids                                        0.787194  0.494193  \n",
      "Nonflavanoid phenols                             -0.503270 -0.311385  \n",
      "Proanthocyanins                                   0.519067  0.330417  \n",
      "Color intensity                                  -0.428815  0.316100  \n",
      "Hue                                               0.565468  0.236183  \n",
      "OD280/OD315 of diluted wines                      1.000000  0.312761  \n",
      "Proline                                           0.312761  1.000000  \n",
      "   Type  Alcohol  Malic acid   Ash  Alcalinity of ash  Magnesium  \\\n",
      "0     1    14.23        1.71  2.43               15.6        127   \n",
      "1     1    13.20        1.78  2.14               11.2        100   \n",
      "2     1    13.16        2.36  2.67               18.6        101   \n",
      "3     1    14.37        1.95  2.50               16.8        113   \n",
      "4     1    13.24        2.59  2.87               21.0        118   \n",
      "\n",
      "   Total phenols  Nonflavanoid phenols  Proanthocyanins  Color intensity  \\\n",
      "0           2.80                  0.28             2.29             5.64   \n",
      "1           2.65                  0.26             1.28             4.38   \n",
      "2           2.80                  0.30             2.81             5.68   \n",
      "3           3.85                  0.24             2.18             7.80   \n",
      "4           2.80                  0.39             1.82             4.32   \n",
      "\n",
      "    Hue  OD280/OD315 of diluted wines  Proline  \n",
      "0  1.04                          3.92     1065  \n",
      "1  1.05                          3.40     1050  \n",
      "2  1.03                          3.17     1185  \n",
      "3  0.86                          3.45     1480  \n",
      "4  1.04                          2.93      735  \n"
     ]
    }
   ],
   "source": [
    "# Print out the column correlations of the wine dataset\n",
    "print(wine.corr())\n",
    "\n",
    "# Drop that column from the DataFrame\n",
    "wine = wine.drop([\"Flavanoids\"], axis=1)\n",
    "\n",
    "print(wine.head())"
   ]
  },
  {
   "cell_type": "code",
   "execution_count": 17,
   "id": "d2a1d0a8-13a9-4cb7-8cbb-1202ff191720",
   "metadata": {},
   "outputs": [
    {
     "data": {
      "text/plain": [
       "'\\n# Add in the rest of the arguments\\ndef return_weights(vocab, original_vocab, vector, vector_index, top_n):\\n    zipped = dict(zip(vector[vector_index].indices, vector[vector_index].data))\\n    \\n    # Transform that zipped dict into a series\\n    zipped_series = pd.Series({vocab[i]:zipped[i] for i in vector[vector_index].indices})\\n    \\n    # Sort the series to pull out the top n weighted words\\n    zipped_index = zipped_series.sort_values(ascending=False)[:top_n].index\\n    return [original_vocab[i] for i in zipped_index]\\n\\n# Print out the weighted words\\nprint(return_weights(vocab, tfidf_vec.vocabulary_, text_tfidf, 8, 3))\\n'"
      ]
     },
     "execution_count": 17,
     "metadata": {},
     "output_type": "execute_result"
    }
   ],
   "source": [
    "## I have no idea what the vocab, tfidf_vec.vocabulary and text_tfidf are\n",
    "\n",
    "'''\n",
    "# Add in the rest of the arguments\n",
    "def return_weights(vocab, original_vocab, vector, vector_index, top_n):\n",
    "    zipped = dict(zip(vector[vector_index].indices, vector[vector_index].data))\n",
    "    \n",
    "    # Transform that zipped dict into a series\n",
    "    zipped_series = pd.Series({vocab[i]:zipped[i] for i in vector[vector_index].indices})\n",
    "    \n",
    "    # Sort the series to pull out the top n weighted words\n",
    "    zipped_index = zipped_series.sort_values(ascending=False)[:top_n].index\n",
    "    return [original_vocab[i] for i in zipped_index]\n",
    "\n",
    "# Print out the weighted words\n",
    "print(return_weights(vocab, tfidf_vec.vocabulary_, text_tfidf, 8, 3))\n",
    "'''"
   ]
  },
  {
   "cell_type": "code",
   "execution_count": 18,
   "id": "4e75a521-0bcd-4035-817c-29e4d2cf5e11",
   "metadata": {},
   "outputs": [
    {
     "data": {
      "text/plain": [
       "\"\\ndef words_to_filter(vocab, original_vocab, vector, top_n):\\n    filter_list = []\\n    for i in range(0, vector.shape[0]):\\n    \\n        # Call the return_weights function and extend filter_list\\n        filtered = return_weights(vocab, original_vocab, vector, i, top_n)\\n        filter_list.extend(filtered)\\n        \\n    # Return the list in a set, so we don't get duplicate word indices\\n    return set(filter_list)\\n\\n# Call the function to get the list of word indices\\nfiltered_words = words_to_filter(vocab, tfidf_vec.vocabulary_, text_tfidf, 3)\\n\\n# Filter the columns in text_tfidf to only those in filtered_words\\nfiltered_text = text_tfidf[:, list(filtered_words)]\\n\""
      ]
     },
     "execution_count": 18,
     "metadata": {},
     "output_type": "execute_result"
    }
   ],
   "source": [
    "## Same as before\n",
    "\n",
    "'''\n",
    "def words_to_filter(vocab, original_vocab, vector, top_n):\n",
    "    filter_list = []\n",
    "    for i in range(0, vector.shape[0]):\n",
    "    \n",
    "        # Call the return_weights function and extend filter_list\n",
    "        filtered = return_weights(vocab, original_vocab, vector, i, top_n)\n",
    "        filter_list.extend(filtered)\n",
    "        \n",
    "    # Return the list in a set, so we don't get duplicate word indices\n",
    "    return set(filter_list)\n",
    "\n",
    "# Call the function to get the list of word indices\n",
    "filtered_words = words_to_filter(vocab, tfidf_vec.vocabulary_, text_tfidf, 3)\n",
    "\n",
    "# Filter the columns in text_tfidf to only those in filtered_words\n",
    "filtered_text = text_tfidf[:, list(filtered_words)]\n",
    "'''"
   ]
  },
  {
   "cell_type": "code",
   "execution_count": 19,
   "id": "0c4d4e0a-fd0a-4c5b-8c84-86e37af9edd3",
   "metadata": {},
   "outputs": [
    {
     "data": {
      "text/plain": [
       "\"\\n# Split the dataset according to the class distribution of category_desc\\nX_train, X_test, y_train, y_test = train_test_split(filtered_text.toarray(), y, stratify=y, random_state=42)\\n\\n# Fit the model to the training data\\nnb.fit(X_train, y_train)\\n\\n# Print out the model's accuracy\\nprint(nb.score(X_test, y_test))\\n\""
      ]
     },
     "execution_count": 19,
     "metadata": {},
     "output_type": "execute_result"
    }
   ],
   "source": [
    "## Same\n",
    "\n",
    "'''\n",
    "# Split the dataset according to the class distribution of category_desc\n",
    "X_train, X_test, y_train, y_test = train_test_split(filtered_text.toarray(), y, stratify=y, random_state=42)\n",
    "\n",
    "# Fit the model to the training data\n",
    "nb.fit(X_train, y_train)\n",
    "\n",
    "# Print out the model's accuracy\n",
    "print(nb.score(X_test, y_test))\n",
    "'''"
   ]
  },
  {
   "cell_type": "code",
   "execution_count": 20,
   "id": "f9c83aaa-1cdf-494d-9b1c-afd0e8607f83",
   "metadata": {},
   "outputs": [
    {
     "name": "stdout",
     "output_type": "stream",
     "text": [
      "[9.97802349e-01 2.02071713e-03 9.82348559e-05 5.53994004e-05\n",
      " 1.10395648e-05 5.87233448e-06 3.13858204e-06 1.54420449e-06\n",
      " 1.02927386e-06 3.90521513e-07 1.95535151e-07 8.99659634e-08]\n"
     ]
    }
   ],
   "source": [
    "# Instantiate a PCA object\n",
    "pca = PCA()\n",
    "\n",
    "# Define the features and labels from the wine dataset\n",
    "X = wine.drop(\"Type\", axis=1)\n",
    "y = wine[\"Type\"]\n",
    "\n",
    "X_train, X_test, y_train, y_test = train_test_split(X, y, stratify=y, random_state=42)\n",
    "\n",
    "# Apply PCA to the wine dataset X vector\n",
    "pca_X_train = pca.fit_transform(X_train)\n",
    "pca_X_test = pca.transform(X_test)\n",
    "\n",
    "# Look at the percentage of variance explained by the different components\n",
    "print(pca.explained_variance_ratio_)"
   ]
  },
  {
   "cell_type": "code",
   "execution_count": 21,
   "id": "8daf62ee-5006-4710-bff6-86debc93a8e7",
   "metadata": {},
   "outputs": [],
   "source": [
    "knn = KNeighborsClassifier()"
   ]
  },
  {
   "cell_type": "code",
   "execution_count": 22,
   "id": "e23317e7-d4e3-4c67-9ea1-862d81977dae",
   "metadata": {},
   "outputs": [
    {
     "name": "stdout",
     "output_type": "stream",
     "text": [
      "0.7777777777777778\n"
     ]
    }
   ],
   "source": [
    "# Fit knn to the training data\n",
    "knn.fit(pca_X_train, y_train)\n",
    "\n",
    "# Score knn on the test data and print it out\n",
    "print(knn.score(pca_X_test, y_test))"
   ]
  },
  {
   "cell_type": "code",
   "execution_count": null,
   "id": "cdcb3c8d-8a2f-4504-9365-c42401454a55",
   "metadata": {},
   "outputs": [],
   "source": []
  }
 ],
 "metadata": {
  "kernelspec": {
   "display_name": "Python 3 (ipykernel)",
   "language": "python",
   "name": "python3"
  },
  "language_info": {
   "codemirror_mode": {
    "name": "ipython",
    "version": 3
   },
   "file_extension": ".py",
   "mimetype": "text/x-python",
   "name": "python",
   "nbconvert_exporter": "python",
   "pygments_lexer": "ipython3",
   "version": "3.9.10"
  }
 },
 "nbformat": 4,
 "nbformat_minor": 5
}
