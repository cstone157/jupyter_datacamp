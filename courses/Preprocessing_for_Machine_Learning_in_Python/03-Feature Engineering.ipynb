{
 "cells": [
  {
   "cell_type": "code",
   "execution_count": 54,
   "id": "fbfd6c9f-1bfc-4851-8c99-a6b83ba3e5a2",
   "metadata": {},
   "outputs": [],
   "source": [
    "import pandas as pd\n",
    "import numpy as np\n",
    "import re\n",
    "\n",
    "from sklearn.model_selection import train_test_split\n",
    "from sklearn.naive_bayes import GaussianNB\n",
    "from sklearn.neighbors import KNeighborsClassifier\n",
    "from sklearn.preprocessing import StandardScaler\n",
    "from sklearn.preprocessing import LabelEncoder\n",
    "from sklearn.feature_extraction.text import TfidfVectorizer\n",
    "\n",
    "volunteer = pd.read_csv(\"./data/volunteer_opportunities.csv\")\n",
    "wine = pd.read_csv(\"./data/wine_types.csv\")\n",
    "\n",
    "X = wine[[\"Proline\", \"Total phenols\", \"Hue\", \"Nonflavanoid phenols\"]]\n",
    "y = wine[\"Type\"]\n",
    "\n",
    "hiking = pd.read_json(\"./data/hiking.json\")\n",
    "\n",
    "running_times_5k = pd.DataFrame({\n",
    "    \"name\": [\"Sue\", \"Mark\", \"Sean\", \"Erin\", \"Jenny\", \"Russell\"],\n",
    "    \"run1\": [20.1, 16.5, 23.5, 21.7, 25.8, 30.9],\n",
    "    \"run2\": [18.5, 17.1, 25.1, 21.1, 27.1, 29.6],\n",
    "    \"run3\": [19.6, 16.9, 25.2, 20.9, 26.1, 31.4],\n",
    "    \"run4\": [20.3, 17.6, 24.6, 22.1, 26.7, 30.4],\n",
    "    \"run5\": [18.3, 17.3, 23.9, 22.2, 26.9, 29.9]})"
   ]
  },
  {
   "cell_type": "code",
   "execution_count": 55,
   "id": "9dc0ec1b-d568-421d-830b-cdd848ef1a37",
   "metadata": {},
   "outputs": [
    {
     "name": "stdout",
     "output_type": "stream",
     "text": [
      "  Accessible  Accessible_enc\n",
      "0          Y               1\n",
      "1          N               0\n",
      "2          N               0\n",
      "3          N               0\n",
      "4          N               0\n"
     ]
    }
   ],
   "source": [
    "# Set up the LabelEncoder object\n",
    "enc = LabelEncoder()\n",
    "\n",
    "# Apply the encoding to the \"Accessible\" column\n",
    "hiking[\"Accessible_enc\"] = enc.fit_transform(hiking[\"Accessible\"])\n",
    "\n",
    "# Compare the two columns\n",
    "print(hiking[[\"Accessible\", \"Accessible_enc\"]].head())"
   ]
  },
  {
   "cell_type": "code",
   "execution_count": 56,
   "id": "12e00b80-2ae2-4366-b825-51b170f71fc6",
   "metadata": {},
   "outputs": [
    {
     "name": "stdout",
     "output_type": "stream",
     "text": [
      "   Education  Emergency Preparedness  Environment  Health  \\\n",
      "0          0                       0            0       0   \n",
      "1          0                       0            0       0   \n",
      "2          0                       0            0       0   \n",
      "3          0                       0            0       0   \n",
      "4          0                       0            1       0   \n",
      "\n",
      "   Helping Neighbors in Need  Strengthening Communities  \n",
      "0                          0                          0  \n",
      "1                          0                          1  \n",
      "2                          0                          1  \n",
      "3                          0                          1  \n",
      "4                          0                          0  \n"
     ]
    }
   ],
   "source": [
    "# Transform the category_desc column\n",
    "category_enc = pd.get_dummies(volunteer[\"category_desc\"])\n",
    "\n",
    "# Take a look at the encoded columns\n",
    "print(category_enc.head())"
   ]
  },
  {
   "cell_type": "code",
   "execution_count": 57,
   "id": "d876737a-88ff-492e-8e3c-7bee145b0404",
   "metadata": {},
   "outputs": [
    {
     "name": "stdout",
     "output_type": "stream",
     "text": [
      "    name  run1  run2  run3  run4  run5   mean\n",
      "0    Sue  20.1  18.5  19.6  20.3  18.3  19.36\n",
      "1   Mark  16.5  17.1  16.9  17.6  17.3  17.08\n",
      "2   Sean  23.5  25.1  25.2  24.6  23.9  24.46\n",
      "3   Erin  21.7  21.1  20.9  22.1  22.2  21.60\n",
      "4  Jenny  25.8  27.1  26.1  26.7  26.9  26.52\n"
     ]
    }
   ],
   "source": [
    "# Use .loc to create a mean column\n",
    "running_times_5k[\"mean\"] = running_times_5k.loc[:, \"run1\":\"run5\"].mean(axis=1)\n",
    "\n",
    "# Take a look at the results\n",
    "print(running_times_5k.head())"
   ]
  },
  {
   "cell_type": "code",
   "execution_count": 58,
   "id": "4744e895-6bf6-4baf-8415-9796baad198f",
   "metadata": {},
   "outputs": [
    {
     "name": "stdout",
     "output_type": "stream",
     "text": [
      "  start_date_converted  start_date_month\n",
      "0           2011-07-30                 7\n",
      "1           2011-02-01                 2\n",
      "2           2011-01-29                 1\n",
      "3           2011-02-14                 2\n",
      "4           2011-02-05                 2\n"
     ]
    }
   ],
   "source": [
    "# First, convert string column to date column\n",
    "volunteer[\"start_date_converted\"] = pd.to_datetime(volunteer[\"start_date_date\"])\n",
    "\n",
    "# Extract just the month from the converted column\n",
    "volunteer[\"start_date_month\"] = volunteer[\"start_date_converted\"].dt.month\n",
    "\n",
    "# Take a look at the converted and new month columns\n",
    "print(volunteer[[\"start_date_converted\", \"start_date_month\"]].head())"
   ]
  },
  {
   "cell_type": "code",
   "execution_count": 59,
   "id": "83211e1c-649c-4c43-9f7a-61af349921d1",
   "metadata": {},
   "outputs": [],
   "source": [
    "hiking = hiking[['Prop_ID', 'Name', 'Location', 'Park_Name', 'Length', 'Difficulty', 'Other_Details', 'Accessible', 'Limited_Access']]\n",
    "hiking = hiking.dropna()"
   ]
  },
  {
   "cell_type": "code",
   "execution_count": 60,
   "id": "c75201bb-344a-43d7-90f4-28e807f46703",
   "metadata": {},
   "outputs": [
    {
     "name": "stdout",
     "output_type": "stream",
     "text": [
      "       Length  Length_num\n",
      "1    1.0 mile        1.00\n",
      "2  0.75 miles        0.75\n",
      "3   0.5 miles        0.50\n",
      "4   0.5 miles        0.50\n",
      "5     Various         NaN\n"
     ]
    }
   ],
   "source": [
    "# Write a pattern to extract numbers and decimals\n",
    "def return_mileage(length):\n",
    "    pattern = re.compile(r\"\\d+\\.\\d+\")\n",
    "\n",
    "    # Search the text for matches\n",
    "    mile = re.match(pattern, length)\n",
    "    \n",
    "    # If a value is returned, use group(0) to return the found value\n",
    "    if mile is not None:\n",
    "        return float(mile.group(0))\n",
    "        \n",
    "# Apply the function to the Length column and take a look at both columns\n",
    "hiking[\"Length_num\"] = hiking[\"Length\"].apply(lambda row: return_mileage(row))\n",
    "print(hiking[[\"Length\", \"Length_num\"]].head())"
   ]
  },
  {
   "cell_type": "code",
   "execution_count": 61,
   "id": "8fa33379-3fff-4d3a-8be2-fa102439abf6",
   "metadata": {},
   "outputs": [],
   "source": [
    "# Take the title text\n",
    "title_text = volunteer[\"title\"]\n",
    "\n",
    "# Create the vectorizer method\n",
    "tfidf_vec = TfidfVectorizer()\n",
    "\n",
    "# Transform the text into tf-idf vectors\n",
    "text_tfidf = tfidf_vec.fit_transform(title_text)"
   ]
  },
  {
   "cell_type": "code",
   "execution_count": 65,
   "id": "159d6a17-37b3-44d4-bfed-1c1154e2f58a",
   "metadata": {},
   "outputs": [],
   "source": [
    "volunteer = volunteer[[\"title\", \"category_desc\"]].dropna()\n",
    "title_text = volunteer[\"title\"]\n",
    "tfidf_vec = TfidfVectorizer()\n",
    "text_tfidf = tfidf_vec.fit_transform(title_text)\n",
    "\n",
    "nb = GaussianNB()"
   ]
  },
  {
   "cell_type": "code",
   "execution_count": 66,
   "id": "5d22c9ab-b147-446d-b807-139ec901905b",
   "metadata": {},
   "outputs": [
    {
     "name": "stdout",
     "output_type": "stream",
     "text": [
      "0.5161290322580645\n"
     ]
    }
   ],
   "source": [
    "# Split the dataset according to the class distribution of category_desc\n",
    "y = volunteer[\"category_desc\"]\n",
    "X_train, X_test, y_train, y_test = train_test_split(text_tfidf.toarray(), y, stratify=y, random_state=42)\n",
    "\n",
    "# Fit the model to the training data\n",
    "nb.fit(X_train, y_train)\n",
    "\n",
    "# Print out the model's accuracy\n",
    "print(nb.score(X_test, y_test))"
   ]
  },
  {
   "cell_type": "code",
   "execution_count": null,
   "id": "6a4fd81c-5998-4057-8234-e36a96e09cc1",
   "metadata": {},
   "outputs": [],
   "source": []
  }
 ],
 "metadata": {
  "kernelspec": {
   "display_name": "Python 3 (ipykernel)",
   "language": "python",
   "name": "python3"
  },
  "language_info": {
   "codemirror_mode": {
    "name": "ipython",
    "version": 3
   },
   "file_extension": ".py",
   "mimetype": "text/x-python",
   "name": "python",
   "nbconvert_exporter": "python",
   "pygments_lexer": "ipython3",
   "version": "3.9.10"
  }
 },
 "nbformat": 4,
 "nbformat_minor": 5
}
