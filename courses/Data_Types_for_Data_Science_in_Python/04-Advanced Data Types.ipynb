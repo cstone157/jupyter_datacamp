{
 "cells": [
  {
   "cell_type": "code",
   "execution_count": 1,
   "id": "193cd607-9aaf-47c7-ad01-50657acb5c05",
   "metadata": {},
   "outputs": [],
   "source": [
    "penguins  =[{'Species': 'Gentoo', 'Flipper Length (mm)': 230.0, 'Body Mass (g)': 5500.0, 'Sex': 'MALE'},\n",
    " {'Species': 'Chinstrap', 'Flipper Length (mm)': 201.0, 'Body Mass (g)': 4300.0, 'Sex': 'MALE'},\n",
    " {'Species': 'Adlie', 'Flipper Length (mm)': 180.0, 'Body Mass (g)': 3800.0, 'Sex': 'MALE'},\n",
    " {'Species': 'Gentoo', 'Flipper Length (mm)': 229.0, 'Body Mass (g)': 5800.0, 'Sex': 'MALE'},\n",
    " {'Species': 'Chinstrap', 'Flipper Length (mm)': 210.0, 'Body Mass (g)': 4100.0, 'Sex': 'MALE'},\n",
    " {'Species': 'Adlie', 'Flipper Length (mm)': 200.0, 'Body Mass (g)': 3975.0, 'Sex': 'MALE'},\n",
    " {'Species': 'Gentoo', 'Flipper Length (mm)': 225.0, 'Body Mass (g)': 5400.0, 'Sex': 'MALE'},\n",
    " {'Species': 'Chinstrap', 'Flipper Length (mm)': 210.0, 'Body Mass (g)': 4800.0, 'Sex': 'MALE'},\n",
    " {'Species': 'Chinstrap', 'Flipper Length (mm)': 193.0, 'Body Mass (g)': 3800.0, 'Sex': 'FEMALE'},\n",
    " {'Species': 'Adlie', 'Flipper Length (mm)': 176.0, 'Body Mass (g)': 3450.0, 'Sex': 'FEMALE'},\n",
    " {'Species': 'Chinstrap', 'Flipper Length (mm)': 210.0, 'Body Mass (g)': 3950.0, 'Sex': 'MALE'},\n",
    " {'Species': 'Gentoo', 'Flipper Length (mm)': 219.0, 'Body Mass (g)': 5250.0, 'Sex': 'MALE'},\n",
    " {'Species': 'Gentoo', 'Flipper Length (mm)': 210.0, 'Body Mass (g)': 4300.0, 'Sex': 'FEMALE'},\n",
    " {'Species': 'Gentoo', 'Flipper Length (mm)': 216.0, 'Body Mass (g)': 4925.0, 'Sex': 'MALE'},\n",
    " {'Species': 'Adlie', 'Flipper Length (mm)': 187.0, 'Body Mass (g)': 3550.0, 'Sex': 'FEMALE'},\n",
    " {'Species': 'Adlie', 'Flipper Length (mm)': 192.0, 'Body Mass (g)': 3950.0, 'Sex': 'MALE'},\n",
    " {'Species': 'Chinstrap', 'Flipper Length (mm)': 193.0, 'Body Mass (g)': 3800.0, 'Sex': 'MALE'},\n",
    " {'Species': 'Chinstrap', 'Flipper Length (mm)': 201.0, 'Body Mass (g)': 4050.0, 'Sex': 'MALE'},\n",
    " {'Species': 'Adlie', 'Flipper Length (mm)': 190.0, 'Body Mass (g)': 3650.0, 'Sex': 'MALE'},\n",
    " {'Species': 'Adlie', 'Flipper Length (mm)': 181.0, 'Body Mass (g)': 3175.0, 'Sex': 'FEMALE'}]"
   ]
  },
  {
   "cell_type": "code",
   "execution_count": 2,
   "id": "e18e0690-7c44-4cce-bcf0-58c43e1b0727",
   "metadata": {},
   "outputs": [
    {
     "name": "stdout",
     "output_type": "stream",
     "text": [
      "Counter({'MALE': 15, 'FEMALE': 5})\n"
     ]
    }
   ],
   "source": [
    "# Import the Counter object\n",
    "from collections import Counter\n",
    "\n",
    "# Create a Counter of the penguins sex using a list comp\n",
    "penguins_sex_counts = Counter([penguin[\"Sex\"] for penguin in penguins])\n",
    "\n",
    "# Print the penguins_sex_counts\n",
    "print(penguins_sex_counts)"
   ]
  },
  {
   "cell_type": "code",
   "execution_count": 3,
   "id": "af9ccb1b-d856-4c87-88e9-2c6ce5fdc8d1",
   "metadata": {},
   "outputs": [
    {
     "name": "stdout",
     "output_type": "stream",
     "text": [
      "[('Chinstrap', 7), ('Adlie', 7), ('Gentoo', 6)]\n"
     ]
    }
   ],
   "source": [
    "# Import the Counter object\n",
    "from collections import Counter\n",
    "\n",
    "# Create a Counter of the penguins list: penguins_species_counts\n",
    "penguins_species_counts = Counter([penguin[\"Species\"] for penguin in penguins])\n",
    "\n",
    "# Find the 3 most common species counts\n",
    "print(penguins_species_counts.most_common(3))"
   ]
  },
  {
   "cell_type": "code",
   "execution_count": null,
   "id": "be3dd2ff-256a-4e36-afc4-8a4ae6f97fb5",
   "metadata": {},
   "outputs": [],
   "source": [
    "weight_log = [('Chinstrap', 'FEMALE', 3800.0), ('Adlie', 'FEMALE', 3450.0), ('Gentoo', 'FEMALE', 4300.0), ('Adlie', 'FEMALE', 3550.0), ('Adlie', 'FEMALE', 3175.0)]"
   ]
  },
  {
   "cell_type": "code",
   "execution_count": null,
   "id": "bb37d543-15f4-4e2f-8e11-d66aef47bdce",
   "metadata": {},
   "outputs": [],
   "source": [
    "# Create an empty dictionary: female_penguin_weights\n",
    "female_penguin_weights = dict()\n",
    "\n",
    "# Iterate over the weight_log entries\n",
    "for species, sex, body_mass in weight_log:\n",
    "    # Check to see if species is already in the dictionary\n",
    "    if species not in female_penguin_weights:\n",
    "        # Create an empty list for any missing species\n",
    "        female_penguin_weights[species] = []\n",
    "    # Append the sex and body_mass as a tuple to the species keys list\n",
    "    female_penguin_weights[species].append((sex, body_mass))\n",
    "    \n",
    "# Print the weights for 'Adlie'\n",
    "print(female_penguin_weights['Adlie'])"
   ]
  },
  {
   "cell_type": "code",
   "execution_count": null,
   "id": "822f34e6-5601-40a9-941d-bf3a3533104c",
   "metadata": {},
   "outputs": [],
   "source": [
    "weight_log = [('Gentoo', 'MALE', 5500.0), ('Chinstrap', 'MALE', 4300.0), ('Adlie', 'MALE', 3800.0), ('Gentoo', 'MALE', 5800.0), ('Chinstrap', 'MALE', 4100.0),\n",
    " ('Adlie', 'MALE', 3975.0), ('Gentoo', 'MALE', 5400.0), ('Chinstrap', 'MALE', 4800.0), ('Chinstrap', 'MALE', 3950.0), ('Gentoo', 'MALE', 5250.0),\n",
    " ('Gentoo', 'MALE', 4925.0), ('Adlie', 'MALE', 3950.0), ('Chinstrap', 'MALE', 3800.0), ('Chinstrap', 'MALE', 4050.0), ('Adlie', 'MALE', 3650.0)]"
   ]
  },
  {
   "cell_type": "code",
   "execution_count": null,
   "id": "65f96255-b061-477f-b3c0-0bf3b9b5e633",
   "metadata": {},
   "outputs": [],
   "source": [
    "# Import defaultdict\n",
    "from collections import defaultdict\n",
    "\n",
    "# Create a defaultdict with a default type of list: male_penguin_weights\n",
    "male_penguin_weights = defaultdict(list)\n",
    "\n",
    "# Iterate over the weight_log entries\n",
    "for species, sex, body_mass in weight_log:\n",
    "    # Use the species as the key, and append the body_mass to it\n",
    "    male_penguin_weights[species].append(body_mass)\n",
    "    \n",
    "# Print the first 2 items of the male_penguin_weights dictionary\n",
    "print(list(male_penguin_weights.items())[:2])"
   ]
  },
  {
   "cell_type": "code",
   "execution_count": null,
   "id": "72833946-cf1b-4140-abd2-660a6aa5c61a",
   "metadata": {},
   "outputs": [],
   "source": [
    "weight_log = [('Gentoo', 'MALE', 5500.0), ('Chinstrap', 'MALE', 4300.0), ('Adlie', 'MALE', 3800.0), ('Gentoo', 'MALE', 5800.0), ('Chinstrap', 'MALE', 4100.0),\n",
    " ('Adlie', 'MALE', 3975.0), ('Gentoo', 'MALE', 5400.0), ('Chinstrap', 'MALE', 4800.0), ('Chinstrap', 'FEMALE', 3800.0), ('Adlie', 'FEMALE', 3450.0),\n",
    " ('Chinstrap', 'MALE', 3950.0), ('Gentoo', 'MALE', 5250.0), ('Gentoo', 'FEMALE', 4300.0), ('Gentoo', 'MALE', 4925.0), ('Adlie', 'FEMALE', 3550.0), ('Adlie', 'MALE', 3950.0),\n",
    " ('Chinstrap', 'MALE', 3800.0), ('Chinstrap', 'MALE', 4050.0), ('Adlie', 'MALE', 3650.0), ('Adlie', 'FEMALE', 3175.0)]"
   ]
  },
  {
   "cell_type": "code",
   "execution_count": null,
   "id": "62b1b0ce-eec1-4e8d-aa98-80e8fabcca8c",
   "metadata": {},
   "outputs": [],
   "source": [
    "# Import namedtuple from collections\n",
    "from collections import namedtuple\n",
    "\n",
    "# Create the namedtuple: SpeciesDetails\n",
    "SpeciesDetails = namedtuple('SpeciesDetails', ['species', 'sex', 'body_mass'])\n",
    "\n",
    "# Create the empty list: labeled_entries\n",
    "labeled_entries = []\n",
    "\n",
    "# Iterate over the weight_log entries\n",
    "for species, sex, body_mass in weight_log:\n",
    "    # Append a new SpeciesDetails namedtuple instance for each entry to labeled_entries\n",
    "    labeled_entries.append(SpeciesDetails(species, sex, body_mass))\n",
    "    \n",
    "print(labeled_entries[:5])"
   ]
  },
  {
   "cell_type": "code",
   "execution_count": null,
   "id": "9f2cc8e4-8177-4842-a3e4-fc56c4948e4e",
   "metadata": {},
   "outputs": [],
   "source": [
    "labeled_entries = [SpeciesDetails(species='Gentoo', sex='MALE', body_mass=5500.0),\n",
    " SpeciesDetails(species='Chinstrap', sex='MALE', body_mass=4300.0), SpeciesDetails(species='Adlie', sex='MALE', body_mass=3800.0),\n",
    " SpeciesDetails(species='Gentoo', sex='MALE', body_mass=5800.0), SpeciesDetails(species='Chinstrap', sex='MALE', body_mass=4100.0),\n",
    " SpeciesDetails(species='Adlie', sex='MALE', body_mass=3975.0), SpeciesDetails(species='Gentoo', sex='MALE', body_mass=5400.0),\n",
    " SpeciesDetails(species='Chinstrap', sex='MALE', body_mass=4800.0), SpeciesDetails(species='Chinstrap', sex='FEMALE', body_mass=3800.0),\n",
    " SpeciesDetails(species='Adlie', sex='FEMALE', body_mass=3450.0), SpeciesDetails(species='Chinstrap', sex='MALE', body_mass=3950.0),\n",
    " SpeciesDetails(species='Gentoo', sex='MALE', body_mass=5250.0), SpeciesDetails(species='Gentoo', sex='FEMALE', body_mass=4300.0),\n",
    " SpeciesDetails(species='Gentoo', sex='MALE', body_mass=4925.0), SpeciesDetails(species='Adlie', sex='FEMALE', body_mass=3550.0),\n",
    " SpeciesDetails(species='Adlie', sex='MALE', body_mass=3950.0), SpeciesDetails(species='Chinstrap', sex='MALE', body_mass=3800.0),\n",
    " SpeciesDetails(species='Chinstrap', sex='MALE', body_mass=4050.0), SpeciesDetails(species='Adlie', sex='MALE', body_mass=3650.0),\n",
    " SpeciesDetails(species='Adlie', sex='FEMALE', body_mass=3175.0)]"
   ]
  },
  {
   "cell_type": "code",
   "execution_count": null,
   "id": "95d5ed40-d617-41a9-9982-87a0001cef96",
   "metadata": {},
   "outputs": [],
   "source": [
    "# Iterate over the first twenty entries in labeled_entries\n",
    "for entry in labeled_entries[:20]:\n",
    "    # if the entry's species equals Chinstrap\n",
    "    if entry.species == 'Chinstrap':\n",
    "      # Print each entry's sex and body_mass seperated by a colon\n",
    "      print(f'{entry.sex}:{entry.body_mass}')"
   ]
  },
  {
   "cell_type": "code",
   "execution_count": null,
   "id": "0a5dda78-24e3-4229-8c0a-7f2d09a20139",
   "metadata": {},
   "outputs": [],
   "source": [
    "# Import dataclass\n",
    "from dataclasses import dataclass\n",
    "\n",
    "@dataclass\n",
    "class WeightEntry:\n",
    "    # Define the fields on the class\n",
    "    species: str\n",
    "    body_mass: int\n",
    "    flipper_length: int\n",
    "    sex: str\n",
    "        \n",
    "    # Define a property that returns the body_mass / flipper_length\n",
    "    @property\n",
    "    def mass_to_flipper_length_ratio(self):\n",
    "        return self.body_mass / self.flipper_length"
   ]
  },
  {
   "cell_type": "code",
   "execution_count": null,
   "id": "09d636b8-0930-48dc-b93a-62ba2bb06442",
   "metadata": {},
   "outputs": [],
   "source": [
    "weight_log = [('Gentoo', 'MALE', 5500.0, 230.0), ('Gentoo', 'MALE', 5800.0, 229.0), ('Gentoo', 'MALE', 5400.0, 225.0), ('Gentoo', 'MALE', 5250.0, 219.0), \n",
    "              ('Gentoo', 'FEMALE', 4300.0, 210.0), ('Gentoo', 'MALE', 4925.0, 216.0)]"
   ]
  },
  {
   "cell_type": "code",
   "execution_count": null,
   "id": "14ce4db3-7884-46f1-91d3-1aef3079b9d3",
   "metadata": {},
   "outputs": [],
   "source": [
    "# Create the empty list: labeled_entries\n",
    "labeled_entries = []\n",
    "\n",
    "# Iterate over the weight_log entries\n",
    "for species, sex, flipper_length, body_mass in weight_log:\n",
    "    # Append a new WeightEntry instance to labeled_entries\n",
    "    labeled_entries.append(WeightEntry(species, body_mass, flipper_length, sex))\n",
    "    \n",
    "# Print a list of the first 5 mass_to_flipper_length_ratio values\n",
    "print([entry.mass_to_flipper_length_ratio for entry in labeled_entries[:5]])"
   ]
  },
  {
   "cell_type": "code",
   "execution_count": null,
   "id": "63c50896-d7da-4a6c-916b-618ffb05cdbe",
   "metadata": {},
   "outputs": [],
   "source": []
  }
 ],
 "metadata": {
  "kernelspec": {
   "display_name": "Python 3 (ipykernel)",
   "language": "python",
   "name": "python3"
  },
  "language_info": {
   "codemirror_mode": {
    "name": "ipython",
    "version": 3
   },
   "file_extension": ".py",
   "mimetype": "text/x-python",
   "name": "python",
   "nbconvert_exporter": "python",
   "pygments_lexer": "ipython3",
   "version": "3.11.4"
  }
 },
 "nbformat": 4,
 "nbformat_minor": 5
}
