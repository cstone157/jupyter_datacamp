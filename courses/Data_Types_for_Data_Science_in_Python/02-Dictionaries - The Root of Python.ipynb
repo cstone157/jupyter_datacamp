{
 "cells": [
  {
   "cell_type": "code",
   "execution_count": 1,
   "id": "48f5d86c-8e8b-4f33-a0d5-e3e4c43e3d33",
   "metadata": {},
   "outputs": [],
   "source": [
    "squirrels = [('Marcus Garvey Park', ('Black', 'Cinnamon', 'Cleaning', None)),\n",
    " ('Highbridge Park', ('Gray', 'Cinnamon', 'Running, Eating', 'Runs From, watches us in short tree')),\n",
    " ('Madison Square Park', ('Gray', None, 'Foraging', 'Indifferent')),\n",
    " ('City Hall Park', ('Gray', 'Cinnamon', 'Eating', 'Approaches')),\n",
    " ('J. Hood Wright Park', ('Gray', 'White', 'Running', 'Indifferent')),\n",
    " ('Seward Park', ('Gray', 'Cinnamon', 'Eating', 'Indifferent')),\n",
    " ('Union Square Park', ('Gray', 'Black', 'Climbing', None)),\n",
    " ('Tompkins Square Park', ('Gray', 'Gray', 'Lounging', 'Approaches'))]"
   ]
  },
  {
   "cell_type": "code",
   "execution_count": 2,
   "id": "06543383-2886-46a4-84bb-65ee983adaac",
   "metadata": {},
   "outputs": [
    {
     "name": "stdout",
     "output_type": "stream",
     "text": [
      "City Hall Park: ('Gray', 'Cinnamon', 'Eating', 'Approaches')\n",
      "Highbridge Park: ('Gray', 'Cinnamon', 'Running, Eating', 'Runs From, watches us in short tree')\n",
      "J. Hood Wright Park: ('Gray', 'White', 'Running', 'Indifferent')\n",
      "Madison Square Park: ('Gray', None, 'Foraging', 'Indifferent')\n",
      "Marcus Garvey Park: ('Black', 'Cinnamon', 'Cleaning', None)\n",
      "Seward Park: ('Gray', 'Cinnamon', 'Eating', 'Indifferent')\n",
      "Tompkins Square Park: ('Gray', 'Gray', 'Lounging', 'Approaches')\n",
      "Union Square Park: ('Gray', 'Black', 'Climbing', None)\n"
     ]
    }
   ],
   "source": [
    "# Create an empty dictionary: squirrels_by_park\n",
    "squirrels_by_park = {}\n",
    "\n",
    "# Loop over the squirrels list and unpack each tuple\n",
    "for park, squirrel_details in squirrels:\n",
    "    # Add each squirrel_details to the squirrels_by_park dictionary \n",
    "    squirrels_by_park[park] = squirrel_details\n",
    "    \n",
    "# Sort the squirrels_by_park dict alphabetically by park\n",
    "for park in sorted(squirrels_by_park):\n",
    "    # Print each park and its value in squirrels_by_park\n",
    "    print(f'{park}: {squirrels_by_park[park]}')"
   ]
  },
  {
   "cell_type": "code",
   "execution_count": 3,
   "id": "57efab4b-c0a5-409a-bf48-d894c48893ba",
   "metadata": {},
   "outputs": [
    {
     "name": "stdout",
     "output_type": "stream",
     "text": [
      "('Gray', 'Black', 'Climbing', None)\n",
      "<class 'NoneType'>\n",
      "Not Found\n"
     ]
    }
   ],
   "source": [
    "# Safely print 'Union Square Park' from the squirrels_by_park dictionary\n",
    "print(squirrels_by_park.get('Union Square Park'))\n",
    "\n",
    "# Safely print the type of 'Fort Tryon Park' from the squirrels_by_park dictionary\n",
    "print(type(squirrels_by_park.get('Fort Tryon Park')))\n",
    "\n",
    "# Safely print 'Central Park' from the squirrels_by_park dictionary or 'Not Found'\n",
    "print(squirrels_by_park.get('Central Park', 'Not Found'))"
   ]
  },
  {
   "cell_type": "code",
   "execution_count": 4,
   "id": "ea5925a2-8a9e-4ad6-bc68-660cdea4e51a",
   "metadata": {},
   "outputs": [],
   "source": [
    "squirrels_by_park = {'Union Square Park': []}\n",
    "\n",
    "squirrels_madison = [{'primary_fur_color': 'Gray', 'highlights_in_fur_color': None, 'activities': 'Sitting', 'interactions_with_humans': 'Indifferent'},\n",
    " {'primary_fur_color': 'Gray', 'highlights_in_fur_color': 'Cinnamon', 'activities': 'Foraging', 'interactions_with_humans': 'Indifferent'},\n",
    " {'primary_fur_color': 'Gray', 'highlights_in_fur_color': None, 'activities': 'Climbing, Foraging', 'interactions_with_humans': 'Indifferent'}]\n",
    "\n",
    "squirrels_union = ('Union Square Park', [{'primary_fur_color': 'Gray', 'highlights_in_fur_color': None, 'activities': 'Eating, Foraging', 'interactions_with_humans': None},\n",
    "  {'primary_fur_color': 'Gray', 'highlights_in_fur_color': 'Cinnamon', 'activities': 'Climbing, Eating', 'interactions_with_humans': None}, \n",
    "  {'primary_fur_color': 'Cinnamon', 'highlights_in_fur_color': None, 'activities': 'Foraging', 'interactions_with_humans': 'Indifferent'},\n",
    "  {'primary_fur_color': 'Gray', 'highlights_in_fur_color': None, 'activities': 'Running, Digging', 'interactions_with_humans': 'Runs From'},  \n",
    "  {'primary_fur_color': 'Gray', 'highlights_in_fur_color': None, 'activities': 'Digging', 'interactions_with_humans': 'Indifferent'},\n",
    "  {'primary_fur_color': 'Gray', 'highlights_in_fur_color': 'Black', 'activities': 'Climbing', 'interactions_with_humans': None},\n",
    "  {'primary_fur_color': 'Gray', 'highlights_in_fur_color': None, 'activities': 'Eating, Foraging', 'interactions_with_humans': None}])"
   ]
  },
  {
   "cell_type": "code",
   "execution_count": 5,
   "id": "ba9ae107-fd82-4841-966b-187b41ef9b8b",
   "metadata": {},
   "outputs": [
    {
     "name": "stdout",
     "output_type": "stream",
     "text": [
      "Union Square Park ['Gray', 'Gray', 'Cinnamon', 'Gray', 'Gray', 'Gray', 'Gray']\n",
      "Madison Square Park ['Gray', 'Gray', 'Gray']\n"
     ]
    }
   ],
   "source": [
    "# Assign squirrels_madison as the value to the 'Madison Square Park' key\n",
    "squirrels_by_park['Madison Square Park'] = squirrels_madison\n",
    "\n",
    "# Update squirrels_by_park with the squirrels_union tuple\n",
    "squirrels_by_park.update([squirrels_union])\n",
    "\n",
    "# Loop over the park_name in the squirrels_by_park dictionary \n",
    "for park_name in squirrels_by_park:\n",
    "    # Safely print a list of the primary_fur_color for each squirrel in park_name\n",
    "    print(park_name, [squirrel.get('primary_fur_color', 'N/A') for squirrel in squirrels_by_park[park_name]])  "
   ]
  },
  {
   "cell_type": "code",
   "execution_count": 6,
   "id": "211261c1-ee96-4724-877f-ca60faac669a",
   "metadata": {},
   "outputs": [],
   "source": [
    "squirrels_by_park.update({'Tompkins Square Park': [{'primary_fur_color': 'Gray', 'highlights_in_fur_color': 'Gray', 'activities': 'Foraging', 'interactions_with_humans': 'Approaches'}, \n",
    "                                                   {'primary_fur_color': 'Gray', 'highlights_in_fur_color': 'Gray', 'activities': 'Climbing (down tree)', 'interactions_with_humans': 'Indifferent'}, \n",
    "                                                   {'primary_fur_color': 'Gray', 'highlights_in_fur_color': 'Gray', 'activities': 'Foraging', 'interactions_with_humans': 'Indifferent'}, \n",
    "                                                   {'primary_fur_color': 'Gray', 'highlights_in_fur_color': 'Gray', 'activities': 'Foraging', 'interactions_with_humans': 'Indifferent'}]})"
   ]
  },
  {
   "cell_type": "code",
   "execution_count": 7,
   "id": "282381e7-be8c-4928-88eb-68e2879e49ca",
   "metadata": {},
   "outputs": [
    {
     "name": "stdout",
     "output_type": "stream",
     "text": [
      "{'Tompkins Square Park': [{'primary_fur_color': 'Gray', 'highlights_in_fur_color': 'Gray', 'activities': 'Foraging', 'interactions_with_humans': 'Approaches'}, {'primary_fur_color': 'Gray', 'highlights_in_fur_color': 'Gray', 'activities': 'Climbing (down tree)', 'interactions_with_humans': 'Indifferent'}, {'primary_fur_color': 'Gray', 'highlights_in_fur_color': 'Gray', 'activities': 'Foraging', 'interactions_with_humans': 'Indifferent'}, {'primary_fur_color': 'Gray', 'highlights_in_fur_color': 'Gray', 'activities': 'Foraging', 'interactions_with_humans': 'Indifferent'}]}\n"
     ]
    }
   ],
   "source": [
    "# Remove \"Madison Square Park\" from squirrels_by_park\n",
    "squirrels_madison = squirrels_by_park.pop(\"Madison Square Park\")\n",
    "\n",
    "# Safely remove \"City Hall Park\" from squirrels_by_park with an empty dictionary as the default\n",
    "squirrels_city_hall = squirrels_by_park.pop(\"City Hall Park\", {})\n",
    "\n",
    "# Delete \"Union Square Park\" from squirrels_by_park\n",
    "del squirrels_by_park[\"Union Square Park\"]\n",
    "\n",
    "# Print squirrels_by_park\n",
    "print(squirrels_by_park)"
   ]
  },
  {
   "cell_type": "code",
   "execution_count": 9,
   "id": "06d8cb5f-604d-48d1-ac6f-2bce5cec19a8",
   "metadata": {},
   "outputs": [],
   "source": [
    "squirrels_by_park = {'Madison Square Park': [{'primary_fur_color': 'Gray', 'highlights_in_fur_color': None, 'activities': 'Foraging', 'interactions_with_humans': 'Indifferent'},\n",
    "  {'primary_fur_color': 'Gray', 'highlights_in_fur_color': None, 'activities': 'Sitting', 'interactions_with_humans': 'Indifferent'}],\n",
    " 'Union Square Park': [{'primary_fur_color': 'Gray', 'highlights_in_fur_color': None, 'activities': 'Eating, Foraging', 'interactions_with_humans': None},\n",
    "  {'primary_fur_color': 'Cinnamon', 'highlights_in_fur_color': None, 'activities': 'Foraging', 'interactions_with_humans': None},\n",
    "  {'primary_fur_color': 'Gray', 'highlights_in_fur_color': None, 'activities': 'Eating, Foraging', 'interactions_with_humans': None},\n",
    "  {'primary_fur_color': 'Gray', 'highlights_in_fur_color': None, 'activities': 'Digging', 'interactions_with_humans': 'Indifferent'}]}"
   ]
  },
  {
   "cell_type": "code",
   "execution_count": 10,
   "id": "7307bc2e-ef43-46fe-ac42-115bbe52a05f",
   "metadata": {},
   "outputs": [
    {
     "name": "stdout",
     "output_type": "stream",
     "text": [
      "primary_fur_color Gray\n",
      "highlights_in_fur_color None\n",
      "activities Foraging\n",
      "interactions_with_humans Indifferent\n",
      "-------------\n",
      "primary_fur_color Cinnamon\n",
      "highlights_in_fur_color None\n",
      "activities Foraging\n",
      "interactions_with_humans None\n"
     ]
    }
   ],
   "source": [
    "# Iterate over the first squirrel entry in the Madison Square Park list\n",
    "for field, value in squirrels_by_park[\"Madison Square Park\"][0].items():\n",
    "    # Print field and value\n",
    "    print(field, value)\n",
    "\n",
    "print('-' * 13)\n",
    "\n",
    "# Iterate over the second squirrel entry in the Union Square Park list\n",
    "for field, value in squirrels_by_park[\"Union Square Park\"][1].items():\n",
    "    # Print field and value\n",
    "    print(field, value)"
   ]
  },
  {
   "cell_type": "code",
   "execution_count": 12,
   "id": "55f9fee2-9edc-4360-b67c-dcc4d140778f",
   "metadata": {},
   "outputs": [],
   "source": [
    "squirrels_by_park = {'Tompkins Square Park': [{'primary_fur_color': 'Gray', 'highlights_in_fur_color': 'Gray', 'activities': 'Foraging', 'interactions_with_humans': 'Approaches'},\n",
    "  {'primary_fur_color': 'Gray', 'highlights_in_fur_color': 'Gray', 'activities': 'Climbing (down tree)', 'interactions_with_humans': 'Indifferent'},\n",
    "  {'primary_fur_color': 'Gray', 'highlights_in_fur_color': 'Gray', 'activities': 'Foraging', 'interactions_with_humans': 'Indifferent'},\n",
    "  {'primary_fur_color': 'Gray', 'highlights_in_fur_color': 'Gray', 'activities': 'Foraging', 'interactions_with_humans': 'Indifferent'}],\n",
    " 'Union Square Park': [{'primary_fur_color': 'Gray', 'highlights_in_fur_color': None, 'activities': 'Eating, Foraging', 'interactions_with_humans': None},\n",
    "  {'primary_fur_color': 'Cinnamon', 'highlights_in_fur_color': None, 'activities': 'Foraging', 'interactions_with_humans': None},\n",
    "  {'primary_fur_color': 'Gray', 'highlights_in_fur_color': None, 'activities': 'Eating, Foraging', 'interactions_with_humans': None},\n",
    "  {'primary_fur_color': 'Gray', 'highlights_in_fur_color': None, 'activities': 'Digging', 'interactions_with_humans': 'Indifferent'}]}"
   ]
  },
  {
   "cell_type": "code",
   "execution_count": 13,
   "id": "73c78b1b-7d9b-4f8d-b7e8-91d11cc69f97",
   "metadata": {},
   "outputs": [
    {
     "name": "stdout",
     "output_type": "stream",
     "text": [
      "Found Tompkins Square Park\n",
      "Central Park missing\n"
     ]
    }
   ],
   "source": [
    "# Check to see if Tompkins Square Park is in squirrels_by_park\n",
    "if \"Tompkins Square Park\" in squirrels_by_park:\n",
    "    # Print 'Found Tompkins Square Park'\n",
    "    print('Found Tompkins Square Park')\n",
    "    \n",
    "# Check to see if Central Park is in squirrels_by_park\n",
    "if \"Central Park\" in squirrels_by_park:\n",
    "    # Print 'Found Central Park' if found\n",
    "    print('Found Central Park')\n",
    "else:\n",
    "    # Print 'Central Park missing' if not found\n",
    "    print('Central Park missing')"
   ]
  },
  {
   "cell_type": "code",
   "execution_count": 14,
   "id": "9d563e69-1146-4ca9-b0a9-f2d90d24ff20",
   "metadata": {},
   "outputs": [],
   "source": [
    "squirrels_by_park = {'J. Hood Wright Park': {'primary_fur_color': 'Gray', 'highlights_in_fur_color': 'Cinnamon', 'activities': 'Running', 'interactions_with_humans': 'Indifferent'},\n",
    " 'Stuyvesant Square Park': {'primary_fur_color': 'Gray', 'highlights_in_fur_color': 'Cinnamon', 'activities': 'Foraging', 'interactions_with_humans': 'Indifferent'},\n",
    " 'Highbridge Park': {'primary_fur_color': 'Gray', 'highlights_in_fur_color': 'White', 'activities': 'Climbing', 'interactions_with_humans': None},\n",
    " 'Tompkins Square Park': {'primary_fur_color': 'Gray', 'highlights_in_fur_color': 'Gray', 'activities': 'Foraging', 'interactions_with_humans': None},\n",
    " 'Union Square Park': {'primary_fur_color': 'Gray', 'activities': 'Eating, Foraging', 'interactions_with_humans': None},\n",
    " 'City Hall Park': {'primary_fur_color': 'Gray', 'highlights_in_fur_color': 'White', 'activities': 'Eating, Foraging', 'interactions_with_humans': 'Indifferent'},\n",
    " 'Msgr. McGolrick Park': {'primary_fur_color': 'Gray', 'highlights_in_fur_color': 'Cinnamon', 'activities': 'Running', 'interactions_with_humans': 'Indifferent'},\n",
    " 'John V. Lindsay East River Park': {'primary_fur_color': 'Gray', 'highlights_in_fur_color': 'Gray', 'activities': 'Running, Chasing, Eating', 'interactions_with_humans': None}}"
   ]
  },
  {
   "cell_type": "code",
   "execution_count": 15,
   "id": "543e012e-7804-482f-980b-f64647a3610c",
   "metadata": {},
   "outputs": [
    {
     "name": "stdout",
     "output_type": "stream",
     "text": [
      "dict_keys(['J. Hood Wright Park', 'Stuyvesant Square Park', 'Highbridge Park', 'Tompkins Square Park', 'Union Square Park', 'City Hall Park', 'Msgr. McGolrick Park', 'John V. Lindsay East River Park'])\n",
      "dict_keys(['primary_fur_color', 'activities', 'interactions_with_humans'])\n",
      "J. Hood Wright Park Cinnamon\n",
      "Stuyvesant Square Park Cinnamon\n",
      "Highbridge Park White\n",
      "Tompkins Square Park Gray\n",
      "Union Square Park N/A\n",
      "City Hall Park White\n",
      "Msgr. McGolrick Park Cinnamon\n",
      "John V. Lindsay East River Park Gray\n"
     ]
    }
   ],
   "source": [
    "# Print a list of keys from the squirrels_by_park dictionary\n",
    "print(squirrels_by_park.keys())\n",
    "\n",
    "# Print the keys from the squirrels_by_park dictionary for 'Union Square Park'\n",
    "print(squirrels_by_park[\"Union Square Park\"].keys())\n",
    "\n",
    "# Loop over the dictionary\n",
    "for park_name in squirrels_by_park:\n",
    "    # Safely print the park_name and the highlights_in_fur_color or 'N/A'\n",
    "    print(park_name, squirrels_by_park[park_name].get('highlights_in_fur_color', 'N/A'))"
   ]
  },
  {
   "cell_type": "code",
   "execution_count": 16,
   "id": "0bfa6a28-7490-40a9-a332-e13c0580f35a",
   "metadata": {},
   "outputs": [],
   "source": [
    "squirrels_by_park = {'Tompkins Square Park': [{'primary_fur_color': 'Gray', 'highlights_in_fur_color': 'Gray', 'activities': 'Foraging', 'interactions_with_humans': 'Approaches'},\n",
    "  {'primary_fur_color': 'Gray', 'highlights_in_fur_color': 'Gray', 'activities': 'Climbing (down tree)', 'interactions_with_humans': 'Indifferent'},\n",
    "  {'primary_fur_color': 'Gray', 'highlights_in_fur_color': 'Gray', 'interactions_with_humans': 'Indifferent'},\n",
    "  {'primary_fur_color': 'Gray', 'highlights_in_fur_color': 'Gray', 'activities': 'Foraging', 'interactions_with_humans': 'Indifferent'}],\n",
    " 'Union Square Park': [{'primary_fur_color': 'Gray', 'highlights_in_fur_color': None, 'activities': 'Eating, Foraging', 'interactions_with_humans': None},\n",
    "  {'primary_fur_color': 'Cinnamon', 'highlights_in_fur_color': None, 'activities': 'Foraging', 'interactions_with_humans': None},\n",
    "  {'primary_fur_color': 'Gray', 'highlights_in_fur_color': None, 'activities': 'Eating, Foraging', 'interactions_with_humans': None},\n",
    "  {'primary_fur_color': 'Gray', 'highlights_in_fur_color': None, 'activities': 'Digging', 'interactions_with_humans': 'Indifferent'}]}"
   ]
  },
  {
   "cell_type": "code",
   "execution_count": 17,
   "id": "0a0663a3-b299-4d5a-94df-cb86931c01f5",
   "metadata": {},
   "outputs": [
    {
     "name": "stdout",
     "output_type": "stream",
     "text": [
      "Foraging\n",
      "Climbing (down tree)\n",
      "None\n",
      "Foraging\n",
      "[{'primary_fur_color': 'Cinnamon', 'highlights_in_fur_color': None, 'activities': 'Foraging', 'interactions_with_humans': None}]\n"
     ]
    }
   ],
   "source": [
    "# Use a for loop to iterate over the squirrels in Tompkins Square Park:\n",
    "for squirrel in squirrels_by_park[\"Tompkins Square Park\"]:\n",
    "\t# Safely print the activities of each squirrel or None\n",
    "    print(squirrel.get(\"activities\"))\n",
    "    \n",
    "# Print the list of 'Cinnamon' primary_fur_color squirrels in Union Square Park\n",
    "print([squirrel for squirrel in squirrels_by_park[\"Union Square Park\"] if \"Cinnamon\" == squirrel[\"primary_fur_color\"]])"
   ]
  },
  {
   "cell_type": "code",
   "execution_count": null,
   "id": "917f5d96-085c-44bb-9f09-ab2c0c69c3ba",
   "metadata": {},
   "outputs": [],
   "source": []
  }
 ],
 "metadata": {
  "kernelspec": {
   "display_name": "Python 3 (ipykernel)",
   "language": "python",
   "name": "python3"
  },
  "language_info": {
   "codemirror_mode": {
    "name": "ipython",
    "version": 3
   },
   "file_extension": ".py",
   "mimetype": "text/x-python",
   "name": "python",
   "nbconvert_exporter": "python",
   "pygments_lexer": "ipython3",
   "version": "3.11.4"
  }
 },
 "nbformat": 4,
 "nbformat_minor": 5
}
