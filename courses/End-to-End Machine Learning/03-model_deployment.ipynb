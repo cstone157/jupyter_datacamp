{
 "cells": [
  {
   "cell_type": "code",
   "execution_count": 1,
   "id": "8665be62-9e64-4ec6-9ad8-b61cb1a979c9",
   "metadata": {},
   "outputs": [],
   "source": [
    "import numpy as np\n",
    "import pandas as pd\n",
    "\n",
    "import matplotlib.pyplot as plt\n",
    "\n",
    "from sklearn.model_selection import train_test_split\n",
    "\n",
    "#import feast\n",
    "\n",
    "heart_disease_df = pd.read_csv('./heart_disease_df_1.csv')\n",
    "X_train, X_test = train_test_split(heart_disease_df, test_size=0.2, random_state=42)"
   ]
  },
  {
   "cell_type": "markdown",
   "id": "e964ce2c-8154-4566-a29d-3095f4f841ac",
   "metadata": {},
   "source": [
    "## Writing unit tests\n",
    "\n",
    "In the previous video on inference testing, you learned about the importance of writing test cases for your trained and evaluated model using the Python unittest library. In this exercise, you will put your new skills to the test by writing a test case for the model to check that it is producing binary outputs as expected. Your trained model is imported, as well as the testing portion of the dataset X_test.\n",
    "\n",
    "### Instructions 1/4\n",
    "    - Define a test case class called TestModelInference that inherits from unittest.TestCase ."
   ]
  },
  {
   "cell_type": "code",
   "execution_count": null,
   "id": "1b53e22f-d013-4f5c-a376-3f24de7e5b46",
   "metadata": {},
   "outputs": [],
   "source": [
    "import unittest\n",
    "import numpy as np\n",
    "\n",
    "# Create a class called TestModelInference\n",
    "class TestModelInference(unittest.TestCase):\n",
    "\tdef setUp(self):\n",
    "\t\tself.model = model"
   ]
  },
  {
   "cell_type": "markdown",
   "id": "1e1d21ee-e86b-4328-a174-40efb36e6cb7",
   "metadata": {},
   "source": [
    "### Instructions 2/4\n",
    "    - Complete the setUp function by assigning X_test as a testcase class attribute."
   ]
  },
  {
   "cell_type": "code",
   "execution_count": null,
   "id": "af65ce25-ac24-4389-a727-fc1953a70f7e",
   "metadata": {},
   "outputs": [],
   "source": [
    "import unittest\n",
    "import numpy as np\n",
    "\n",
    "# Create a class called TestModelInference\n",
    "class TestModelInference(unittest.TestCase):\n",
    "\tdef setUp(self):\n",
    "\t\tself.model = model\n",
    "\n",
    "\t\t# set X_test as a class attribute\n",
    "\t\tself.X_test = X_test"
   ]
  },
  {
   "cell_type": "markdown",
   "id": "392366f2-50b4-444e-b2c6-5ed80668724a",
   "metadata": {},
   "source": [
    "### Instructions 3/4\n",
    "    - Define a test called test_prediction_output_values()."
   ]
  },
  {
   "cell_type": "code",
   "execution_count": null,
   "id": "174c1284-ea60-45ea-b0b6-ad473f363bc4",
   "metadata": {},
   "outputs": [],
   "source": [
    "import unittest\n",
    "import numpy as np\n",
    "\n",
    "# Create a class called TestModelInference\n",
    "class TestModelInference(unittest.TestCase):\n",
    "\tdef setUp(self):\n",
    "\t\tself.model = model\n",
    "\n",
    "\t\t# set X_test as a class attribute\n",
    "\t\tself.X_test = X_test\n",
    "\n",
    "\t# define a test for prediction output values\n",
    "\tdef test_prediction_output_values(self):\n",
    "\t\tprint(\"Running test_prediction_output_values test case\")"
   ]
  },
  {
   "cell_type": "markdown",
   "id": "ff3552d0-ab0e-448c-94e8-a84c8f75a12e",
   "metadata": {},
   "source": [
    "### Instructions 4/4\n",
    "    - Complete the test case by calling model.predict() on X_test; the test then checks that the output values are either 1 or 0."
   ]
  },
  {
   "cell_type": "code",
   "execution_count": null,
   "id": "b8c739df-82f0-4309-acd4-2891cf86efd0",
   "metadata": {},
   "outputs": [],
   "source": [
    "import unittest\n",
    "import numpy as np\n",
    "\n",
    "# Create a class called TestModelInference\n",
    "class TestModelInference(unittest.TestCase):\n",
    "\tdef setUp(self):\n",
    "\t\tself.model = model\n",
    "\n",
    "\t\t# set X_test as a class attribute\n",
    "\t\tself.X_test = X_test\n",
    "\n",
    "\t# define a test for prediction output values\n",
    "\tdef test_prediction_output_values(self):\n",
    "\t\tprint(\"Running test_prediction_output_values test case\")\n",
    "\n",
    "\t\t# Get model predictions\n",
    "\t\ty_pred = self.model.predict(self.X_test)\n",
    "\t\tunique_values = np.unique(y_pred)\n",
    "\t\tfor value in unique_values:\n",
    "\t\t\tself.assertIn(value, [0, 1])"
   ]
  },
  {
   "cell_type": "markdown",
   "id": "7b3b7dad-3cc0-4619-820f-5f5bca039399",
   "metadata": {},
   "source": [
    "## Defining features for a feature store\n",
    "\n",
    "Before creating a feature store, you need to ensure that features are formally defined, in order to ensure the feature store knows the relationships, type, and structure of the features to be loaded. In this exercise, you will formally define a number of features in preparation for the creation of a feature store. Field is imported for you from feast.\n",
    "\n",
    "### Instructions\n",
    "    - Define the cp, thalach, ca, thal features using Feast's Field class."
   ]
  },
  {
   "cell_type": "code",
   "execution_count": null,
   "id": "f61a3ce9-ad2d-4443-a65c-2e02320757c2",
   "metadata": {},
   "outputs": [],
   "source": [
    "# Define entity and selected features\n",
    "patient = Entity(name=\"patient\", join_keys=[\"patient_id\"])\n",
    "cp = Field(name=\"cp\", dtype=Float32)\n",
    "thalach = Field(name=\"thalach\", dtype=Int32)\n",
    "ca = Field(name=\"ca\", dtype=Int32)\n",
    "thal = Field(name=\"thal\", dtype=Int32)"
   ]
  },
  {
   "cell_type": "markdown",
   "id": "280bf9e9-f361-421a-94aa-3af7bdbc2ab4",
   "metadata": {},
   "source": [
    "## Feature store using Feast\n",
    "\n",
    "In order to ensure effective development throughout the machine learning lifecycle, it is important to maintain detailed and comprehensive records of resources. Feature stores and model registries are examples of helpful resource records in the pre-modelling and modelling phases. In this exercise, you will implement a feature store using Feast. The predefined patient, Entity, as well as the cp, thalach, ca, and thal features have been loaded for you. ValueType, FeatureStore, and FileSource are all imported from feast. heart_disease_df is also imported.\n",
    "\n",
    "### Instructions 1/3\n",
    "    - Define a data source of your heart_disease_df."
   ]
  },
  {
   "cell_type": "code",
   "execution_count": null,
   "id": "b2fb3d1e-4589-4170-8d5c-1765c0e7886f",
   "metadata": {},
   "outputs": [],
   "source": [
    "heart_disease_df.to_parquet(\"heart_disease.parquet\")\n",
    "\n",
    "# Point File Source to the saved file\n",
    "data_source = FileSource(\n",
    "    path=\"heart_disease.parquet\",\n",
    "    event_timestamp_column=\"timestamp\",\n",
    "    created_timestamp_column=\"created\",\n",
    ")"
   ]
  },
  {
   "cell_type": "markdown",
   "id": "6e8ff240-f016-46af-b3cb-915ba687f6b8",
   "metadata": {},
   "source": [
    "### Instructions 2/3\n",
    "    - Create a Feature View object using the features defined - make sure to pass features in the right order!"
   ]
  },
  {
   "cell_type": "code",
   "execution_count": null,
   "id": "5b6258f8-10ea-41e3-8b21-f6ba6e23dba6",
   "metadata": {},
   "outputs": [],
   "source": [
    "heart_disease_df.to_parquet(\"heart_disease.parquet\")\n",
    "\n",
    "# Point File Source to the saved file\n",
    "data_source = FileSource(\n",
    "    path=\"heart_disease.parquet\",\n",
    "    event_timestamp_column=\"timestamp\",\n",
    "    created_timestamp_column=\"created\",\n",
    ")\n",
    "\n",
    "# Create a Feature View of the features\n",
    "heart_disease_fv = FeatureView(\n",
    "    name=\"heart_disease\",\n",
    "    entities=[patient],\n",
    "    schema=[cp, thalach, ca, thal],\n",
    "    source=data_source,\n",
    ")"
   ]
  },
  {
   "cell_type": "markdown",
   "id": "e1a72f50-6ed1-4825-80ef-97c26f93ac69",
   "metadata": {},
   "source": [
    "### Instructions 3/3\n",
    "    - Create a Feature Store and apply the features you have defined."
   ]
  },
  {
   "cell_type": "code",
   "execution_count": null,
   "id": "f8e6a9e3-4e05-46da-9a90-e505a06bd284",
   "metadata": {},
   "outputs": [],
   "source": [
    "heart_disease_df.to_parquet(\"heart_disease.parquet\")\n",
    "\n",
    "# Point File Source to the saved file\n",
    "data_source = FileSource(\n",
    "    path=\"heart_disease.parquet\",\n",
    "    event_timestamp_column=\"timestamp\",\n",
    "    created_timestamp_column=\"created\",\n",
    ")\n",
    "\n",
    "# Create a Feature View of the features\n",
    "heart_disease_fv = FeatureView(\n",
    "    name=\"heart_disease\",\n",
    "    entities=[patient],\n",
    "    schema=[cp, thalach, ca, thal],\n",
    "    source=data_source,\n",
    ")\n",
    "\n",
    "# Create a store of the data and apply the features\n",
    "store = FeatureStore(repo_path=\".\")\n",
    "store.apply([patient, heart_disease_fv])"
   ]
  },
  {
   "cell_type": "markdown",
   "id": "ac1a1d9c-5c74-4b66-9f12-42f82fb9fbd4",
   "metadata": {},
   "source": []
  },
  {
   "cell_type": "code",
   "execution_count": null,
   "id": "5b3e8e38-170b-4a50-b9a4-740a05f42221",
   "metadata": {},
   "outputs": [],
   "source": []
  }
 ],
 "metadata": {
  "kernelspec": {
   "display_name": "Python 3 (ipykernel)",
   "language": "python",
   "name": "python3"
  },
  "language_info": {
   "codemirror_mode": {
    "name": "ipython",
    "version": 3
   },
   "file_extension": ".py",
   "mimetype": "text/x-python",
   "name": "python",
   "nbconvert_exporter": "python",
   "pygments_lexer": "ipython3",
   "version": "3.11.6"
  }
 },
 "nbformat": 4,
 "nbformat_minor": 5
}
