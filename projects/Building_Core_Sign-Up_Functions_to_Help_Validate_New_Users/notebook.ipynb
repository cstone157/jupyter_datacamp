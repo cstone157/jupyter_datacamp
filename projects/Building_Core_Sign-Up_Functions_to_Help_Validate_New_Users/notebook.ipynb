{
 "cells": [
  {
   "cell_type": "markdown",
   "id": "cad7ef7c-554e-4871-a178-fbbbae7b2f7b",
   "metadata": {},
   "source": [
    "![login_img](../../imgs/login_img.jpg)\n"
   ]
  },
  {
   "cell_type": "markdown",
   "id": "4a8145cb-8f2c-4133-b8d7-462b5310c6ea",
   "metadata": {},
   "source": [
    "You recently joined a small startup as a junior developer. The product managers have come to you for help improving new user sign-ups for the company's flagship mobile app.\n",
    "\n",
    "There are lots of invalid and incomplete sign-up attempts crashing the app. Before creating new accounts, you suggest standardizing validation checks by writing reusable Python functions to validate names, emails, passwords, etc. The managers love this idea and task you with coding core validation functions for improving sign-ups. It's your job to write these custom functions to check all user inputs to ensure they meet minimum criteria before account creation to reduce crashes."
   ]
  },
  {
   "cell_type": "code",
   "execution_count": 8,
   "id": "37988e6b-da88-4ca4-846c-06d7f8e7d740",
   "metadata": {
    "executionCancelledAt": null,
    "executionTime": 10,
    "lastExecutedAt": 1726284266917,
    "lastExecutedByKernel": "68a1f3a5-b529-4527-a5f8-8a2b79f03843",
    "lastScheduledRunId": null,
    "lastSuccessfullyExecutedCode": "# Re-run this cell\n# Preloaded data for validating email domain.\ntop_level_domains = [\n    \".org\",\n    \".net\",\n    \".edu\",\n    \".ac\",\n    \".gov\",\n    \".com\",\n    \".io\"\n]"
   },
   "outputs": [],
   "source": [
    "# Re-run this cell\n",
    "# Preloaded data for validating email domain.\n",
    "top_level_domains = [\n",
    "    \".org\",\n",
    "    \".net\",\n",
    "    \".edu\",\n",
    "    \".ac\",\n",
    "    \".gov\",\n",
    "    \".com\",\n",
    "    \".io\"\n",
    "]"
   ]
  },
  {
   "cell_type": "code",
   "execution_count": 9,
   "id": "178a7c62-d560-467e-8b64-c434db4eb255",
   "metadata": {
    "executionCancelledAt": null,
    "executionTime": 51,
    "lastExecutedAt": 1726284266968,
    "lastExecutedByKernel": "68a1f3a5-b529-4527-a5f8-8a2b79f03843",
    "lastScheduledRunId": null,
    "lastSuccessfullyExecutedCode": "# Start coding here. Use as many cells as you need.\ndef validate_name(user_name):\n    if type(user_name) != str:\n        return False\n    if len(user_name) < 3:\n        return False\n    return True\n\ndef validate_email(email):\n    if \"@\" not in email:\n        return False\n    for domain in top_level_domains:\n        if domain in email:\n            return True\n    return False\n\n"
   },
   "outputs": [],
   "source": [
    "# Start coding here. Use as many cells as you need.\n",
    "def validate_name(user_name):\n",
    "    if type(user_name) != str:\n",
    "        return False\n",
    "    if len(user_name) < 3:\n",
    "        return False\n",
    "    return True\n",
    "\n",
    "def validate_email(email):\n",
    "    if \"@\" not in email:\n",
    "        return False\n",
    "    for domain in top_level_domains:\n",
    "        if domain in email:\n",
    "            return True\n",
    "    return False\n",
    "\n"
   ]
  }
 ],
 "metadata": {
  "colab": {
   "name": "Welcome to DataCamp Workspaces.ipynb",
   "provenance": []
  },
  "kernelspec": {
   "display_name": "Python 3 (ipykernel)",
   "language": "python",
   "name": "python3"
  },
  "language_info": {
   "codemirror_mode": {
    "name": "ipython",
    "version": 3
   },
   "file_extension": ".py",
   "mimetype": "text/x-python",
   "name": "python",
   "nbconvert_exporter": "python",
   "pygments_lexer": "ipython3",
   "version": "3.11.6"
  }
 },
 "nbformat": 4,
 "nbformat_minor": 5
}
