{
 "cells": [
  {
   "cell_type": "markdown",
   "id": "fe7ecb8d-ad0b-40c0-b404-8b4c339d1c8b",
   "metadata": {},
   "source": [
    "![insomnia](../../imgs/insomnia.jpg)\n"
   ]
  },
  {
   "cell_type": "markdown",
   "id": "04929432-e076-40ef-b2a7-8e67dc7ba1a3",
   "metadata": {},
   "source": [
    "Your client, SleepInc, has shared anonymized sleep data from their hot new sleep tracking app SleepScope. As their data science consultant, your mission is to analyze the lifestyle survey data with Python to discover relationships between exercise, gender, occupation, and sleep quality. See if you can identify patterns leading to insights on sleep quality.\n",
    "\n",
    "## 💾 The data: sleep_health_data.csv\n",
    "\n",
    "SleepInc has provided you with an anonymized dataset of sleep and lifestyle metrics for 374 individuals. This dataset contains average values for each person calculated over the past six months. The data is saved as `sleep_health_data.csv`.\n",
    "\n",
    "The dataset includes 13 columns covering sleep duration, quality, disorders, exercise, stress, diet, demographics, and other factors related to sleep health. \n",
    "\n",
    "| Column | Description |\n",
    "|---------|----------------------------------------|  \n",
    "| `Person ID` | An identifier for each individual. |\n",
    "| `Gender` | The gender of the person (Male/Female). |  \n",
    "| `Age` | The age of the person in years. |\n",
    "| `Occupation` | The occupation or profession of the person. |\n",
    "| `Sleep Duration (hours)` | The average number of hours the person sleeps per day. |\n",
    "| `Quality of Sleep (scale: 1-10)` | A subjective rating of the quality of sleep, ranging from 1 to 10. |\n",
    "| `Physical Activity Level (minutes/day)` | The average number of minutes the person engages in physical activity daily. |  \n",
    "| `Stress Level (scale: 1-10)` | A subjective rating of the stress level experienced by the person, ranging from 1 to 10. |\n",
    "| `BMI Category` | The BMI category of the person (e.g., Underweight, Normal, Overweight). |\n",
    "| `Blood Pressure (systolic/diastolic)` | The average blood pressure measurement of the person, indicated as systolic pressure over diastolic pressure. |\n",
    "| `Heart Rate (bpm)` | The average resting heart rate of the person in beats per minute. |\n",
    "| `Daily Steps` | The average number of steps the person takes per day. |\n",
    "| `Sleep Disorder` | The presence or absence of a sleep disorder in the person (None, Insomnia, Sleep Apnea). |"
   ]
  },
  {
   "cell_type": "code",
   "execution_count": 31,
   "id": "a622f61f-54d5-468a-83b6-41f0ff404278",
   "metadata": {
    "executionCancelledAt": null,
    "executionTime": 141,
    "lastExecutedAt": 1704817386715,
    "lastScheduledRunId": null,
    "lastSuccessfullyExecutedCode": "# Start coding here\n# Use as many cells as you need\nimport pandas as pd\n"
   },
   "outputs": [
    {
     "name": "stdout",
     "output_type": "stream",
     "text": [
      "Occupations with the lowest \"Sleep Duration\": Sales Representative\n",
      "Occupations with the lowest \"Quality of Sleep\": Sales Representative\n",
      "Is the occupation with the least 'sleep duration' the same as the one with the least 'quality of sleep': True\n"
     ]
    },
    {
     "data": {
      "text/plain": [
       "{'Normal': 0.04, 'Obese': 0.4, 'Overweight': 0.43}"
      ]
     },
     "execution_count": 31,
     "metadata": {},
     "output_type": "execute_result"
    }
   ],
   "source": [
    "# Use as many cells as you need\n",
    "import pandas as pd\n",
    "\n",
    "## Load our dataframe\n",
    "df = pd.read_csv(\"../../data/sleep_health_data.csv\")\n",
    "\n",
    "## Retrieve the occupation with the least average sleep duration\n",
    "lowest_sleep_occ = df[[\"Occupation\", \"Sleep Duration\"]].copy().groupby([\"Occupation\"]).mean().reset_index().sort_values([\"Sleep Duration\"], ascending=True)\n",
    "lowest_sleep_occ = lowest_sleep_occ[\"Occupation\"].values[0]\n",
    "print(f\"Occupations with the lowest \\\"Sleep Duration\\\": {lowest_sleep_occ}\")\n",
    "\n",
    "## Retrieve the occupation with the lowest average sleep quality\n",
    "lowest_sleep_quality_occ = df[[\"Occupation\", \"Quality of Sleep\"]].copy().groupby([\"Occupation\"]).mean().reset_index().sort_values([\"Quality of Sleep\"], ascending=True)\n",
    "lowest_sleep_quality_occ = lowest_sleep_quality_occ[\"Occupation\"].values[0]\n",
    "print(f\"Occupations with the lowest \\\"Quality of Sleep\\\": {lowest_sleep_quality_occ}\")\n",
    "\n",
    "## Are the the occupations with the least 'quality of sleep' the same 'sleep duration'\n",
    "same_occ = (lowest_sleep_occ == lowest_sleep_quality_occ)\n",
    "print(f\"Is the occupation with the least 'sleep duration' the same as the one with the least 'quality of sleep': {same_occ}\")\n",
    "\n",
    "## Look at ratio of of Sleep Disorders to BMI Category\n",
    "bmi_insomnia_ratios = {}\n",
    "bmi_insomnia = df[[\"BMI Category\", \"Sleep Disorder\"]].copy()\n",
    "bmi_insomnia[\"Count\"] = 1\n",
    "\n",
    "bmi_insomnia['Insomnia'] = bmi_insomnia.apply(lambda x: 1 if x['Sleep Disorder'] == \"Insomnia\" else 0, axis=1)\n",
    "\n",
    "bmi_insomnia = bmi_insomnia[[\"BMI Category\", \"Count\", \"Insomnia\"]].groupby([\"BMI Category\"]).sum().reset_index()\n",
    "bmi_insomnia[\"Ratio\"] = bmi_insomnia[\"Insomnia\"] / bmi_insomnia[\"Count\"]\n",
    "\n",
    "for index, row in bmi_insomnia.iterrows():\n",
    "    bmi_insomnia_ratios[row[\"BMI Category\"]] = round(row[\"Ratio\"], 2)\n",
    "\n",
    "bmi_insomnia_ratios\n",
    "#bmi_insomnia"
   ]
  },
  {
   "cell_type": "code",
   "execution_count": null,
   "id": "c4f860a3-0b99-4f1e-8585-ad81e7014e6b",
   "metadata": {},
   "outputs": [],
   "source": []
  },
  {
   "cell_type": "code",
   "execution_count": null,
   "id": "7de32303-d311-413f-a98b-d0ced3c14018",
   "metadata": {},
   "outputs": [],
   "source": []
  }
 ],
 "metadata": {
  "colab": {
   "name": "Welcome to DataCamp Workspaces.ipynb",
   "provenance": []
  },
  "kernelspec": {
   "display_name": "Python 3 (ipykernel)",
   "language": "python",
   "name": "python3"
  },
  "language_info": {
   "codemirror_mode": {
    "name": "ipython",
    "version": 3
   },
   "file_extension": ".py",
   "mimetype": "text/x-python",
   "name": "python",
   "nbconvert_exporter": "python",
   "pygments_lexer": "ipython3",
   "version": "3.11.6"
  }
 },
 "nbformat": 4,
 "nbformat_minor": 5
}
