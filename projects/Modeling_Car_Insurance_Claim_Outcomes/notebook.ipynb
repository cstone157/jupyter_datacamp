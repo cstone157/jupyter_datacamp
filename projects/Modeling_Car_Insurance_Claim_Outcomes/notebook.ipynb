{
 "cells": [
  {
   "attachments": {},
   "cell_type": "markdown",
   "id": "c3f0e974-faf8-458f-bf2a-06a469d0ea5e",
   "metadata": {},
   "source": [
    "![car](../../imgs/car.jpg)\n",
    "\n",
    "Insurance companies invest a lot of [time and money](https://www.accenture.com/_acnmedia/pdf-84/accenture-machine-leaning-insurance.pdf) into optimizing their pricing and accurately estimating the likelihood that customers will make a claim. In many countries insurance it is a legal requirement to have car insurance in order to drive a vehicle on public roads, so the market is very large!\n",
    "\n",
    "Knowing all of this, On the Road car insurance have requested your services in building a model to predict whether a customer will make a claim on their insurance during the policy period. As they have very little expertise and infrastructure for deploying and monitoring machine learning models, they've asked you to identify the single feature that results in the best performing model, as measured by accuracy, so they can start with a simple model in production.\n",
    "\n",
    "They have supplied you with their customer data as a csv file called `car_insurance.csv`, along with a table detailing the column names and descriptions below."
   ]
  },
  {
   "cell_type": "markdown",
   "id": "8928ffdf-25d6-4ad9-909f-0dd8d10b9a42",
   "metadata": {},
   "source": [
    "\n",
    "\n",
    "## The dataset\n",
    "\n",
    "| Column | Description |\n",
    "|--------|-------------|\n",
    "| `id` | Unique client identifier |\n",
    "| `age` | Client's age: <br> <ul><li>`0`: 16-15</li><li>`1`: 26-39</li><li>`2`: 40-64</li><li>`3`: 65+</li></ul> |\n",
    "| `gender` | Client's gender: <br> <ul><li>`0`: Female</li><li>`1`: Male</li></ul> |\n",
    "| `driving_experience` | Years the client has been driving: <br> <ul><li>`0`: 0-9</li><li>`1`: 10-19</li><li>`2`: 20-29</li><li>`3`: 30+</li></ul> |\n",
    "| `education` | Client's level of education: <br> <ul><li>`0`: No education</li><li>`1`: High school</li><li>`2`: University</li></ul> |\n",
    "| `income` | Client's income level: <br> <ul><li>`0`: Poverty</li><li>`1`: Working class</li><li>`2`: Middle class</li><li>`3`: Upper class</li></ul> |\n",
    "| `credit_score` | Client's credit score (between zero and one) |\n",
    "| `vehicle_ownership` | Client's vehicle ownership status: <br><ul><li>`0`: Does not own their vehilce (paying off finance)</li><li>`1`: Owns their vehicle</li></ul> |\n",
    "| `vehcile_year` | Year of vehicle registration: <br><ul><li>`0`: Before 2015</li><li>`1`: 2015 or later</li></ul> |\n",
    "| `married` | Client's marital status: <br><ul><li>`0`: Not married</li><li>`1`: Married</li></ul> |\n",
    "| `children` | Client's number of children |\n",
    "| `postal_code` | Client's postal code | \n",
    "| `annual_mileage` | Number of miles driven by the client each year |\n",
    "| `vehicle_type` | Type of car: <br> <ul><li>`0`: Sedan</li><li>`1`: Sports car</li></ul> |\n",
    "| `speeding_violations` | Total number of speeding violations received by the client | \n",
    "| `duis` | Number of times the client has been caught driving under the influence of alcohol |\n",
    "| `past_accidents` | Total number of previous accidents the client has been involved in |\n",
    "| `outcome` | Whether the client made a claim on their car insurance (response variable): <br><ul><li>`0`: No claim</li><li>`1`: Made a claim</li></ul> |"
   ]
  },
  {
   "cell_type": "code",
   "execution_count": 8,
   "id": "d0eb4f16-5a99-460d-a5ba-706b7ef0bbe7",
   "metadata": {
    "collapsed": false,
    "executionCancelledAt": null,
    "executionTime": 2719,
    "id": "bA5ajAmk7XH6",
    "jupyter": {
     "outputs_hidden": false,
     "source_hidden": false
    },
    "lastExecutedAt": 1702868499856,
    "lastScheduledRunId": null,
    "lastSuccessfullyExecutedCode": "# Import required modules\nimport pandas as pd\nimport numpy as np\nfrom statsmodels.formula.api import logit\n\ncars = pd.read_csv(\"car_insurance.csv\")\n#cars = cars.sort_values(by=[\"outcome\"], ascending=False)\n#cars.head(50)\n\n# Fill empties\ncars[\"credit_score\"].fillna(cars[\"credit_score\"].mean(), inplace=True)\ncars[\"annual_mileage\"].fillna(cars[\"annual_mileage\"].mean(), inplace=True)\n\n# List to store the results\nmodels = []\n\n# The outcome/reature column\nfeatures = cars.drop(columns=[\"id\", \"outcome\"]).columns\n\n# Loop throught all of the models\nfor col in features:\n    model = logit(f\"outcome ~ {col}\", data=cars).fit()\n    models.append(model)\n\n\n# Our accuracies\naccuracies = []\n\n# Loop through models\nfor feature in range(0, len(models)):\n    #Confusion matrix\n    confusion_matrix = models[feature].pred_table()\n    # True negatives\n    true_negative = confusion_matrix[0, 0]\n    # True positives\n    true_positive = confusion_matrix[1, 1]\n    # False negatives\n    false_negative = confusion_matrix[1, 0]\n    # False positives\n    false_positive = confusion_matrix[0, 1]\n    \n    accuracy = (true_negative + true_positive) / (true_negative + \\\n                                                  false_negative + false_positive + true_positive)\n    accuracies.append(accuracy)\n    \n# Fine the feature with largest accuracy\nbest_feature = features[accuracies.index(max(accuracies))]\n\nbest_feature_df = pd.DataFrame({\"best_feature\": best_feature,\n                                \"best_accuracy\": max(accuracies)},\n                              index=[0])\n",
    "outputsMetadata": {
     "0": {
      "height": 616,
      "type": "stream"
     }
    }
   },
   "outputs": [
    {
     "name": "stdout",
     "output_type": "stream",
     "text": [
      "Optimization terminated successfully.\n",
      "         Current function value: 0.511794\n",
      "         Iterations 6\n",
      "Optimization terminated successfully.\n",
      "         Current function value: 0.615951\n",
      "         Iterations 5\n",
      "Optimization terminated successfully.\n",
      "         Current function value: 0.467092\n",
      "         Iterations 8\n",
      "Optimization terminated successfully.\n",
      "         Current function value: 0.603742\n",
      "         Iterations 5\n",
      "Optimization terminated successfully.\n",
      "         Current function value: 0.531499\n",
      "         Iterations 6\n",
      "Optimization terminated successfully.\n",
      "         Current function value: 0.572557\n",
      "         Iterations 6\n",
      "Optimization terminated successfully.\n",
      "         Current function value: 0.552412\n",
      "         Iterations 5\n",
      "Optimization terminated successfully.\n",
      "         Current function value: 0.572668\n",
      "         Iterations 6\n",
      "Optimization terminated successfully.\n",
      "         Current function value: 0.586659\n",
      "         Iterations 5\n",
      "Optimization terminated successfully.\n",
      "         Current function value: 0.595431\n",
      "         Iterations 5\n",
      "Optimization terminated successfully.\n",
      "         Current function value: 0.617345\n",
      "         Iterations 5\n",
      "Optimization terminated successfully.\n",
      "         Current function value: 0.605716\n",
      "         Iterations 5\n",
      "Optimization terminated successfully.\n",
      "         Current function value: 0.621700\n",
      "         Iterations 5\n",
      "Optimization terminated successfully.\n",
      "         Current function value: 0.558922\n",
      "         Iterations 7\n",
      "Optimization terminated successfully.\n",
      "         Current function value: 0.598699\n",
      "         Iterations 6\n",
      "Optimization terminated successfully.\n",
      "         Current function value: 0.549220\n",
      "         Iterations 7\n"
     ]
    }
   ],
   "source": [
    "# Import required modules\n",
    "import pandas as pd\n",
    "import numpy as np\n",
    "from statsmodels.formula.api import logit\n",
    "\n",
    "cars = pd.read_csv(\"../../data/car_insurance.csv\")\n",
    "#cars = cars.sort_values(by=[\"outcome\"], ascending=False)\n",
    "#cars.head(50)\n",
    "\n",
    "# Fill empties\n",
    "cars[\"credit_score\"].fillna(cars[\"credit_score\"].mean(), inplace=True)\n",
    "cars[\"annual_mileage\"].fillna(cars[\"annual_mileage\"].mean(), inplace=True)\n",
    "\n",
    "# List to store the results\n",
    "models = []\n",
    "\n",
    "# The outcome/reature column\n",
    "features = cars.drop(columns=[\"id\", \"outcome\"]).columns\n",
    "\n",
    "# Loop throught all of the models\n",
    "for col in features:\n",
    "    model = logit(f\"outcome ~ {col}\", data=cars).fit()\n",
    "    models.append(model)\n",
    "\n",
    "\n",
    "# Our accuracies\n",
    "accuracies = []\n",
    "\n",
    "# Loop through models\n",
    "for feature in range(0, len(models)):\n",
    "    #Confusion matrix\n",
    "    confusion_matrix = models[feature].pred_table()\n",
    "    # True negatives\n",
    "    true_negative = confusion_matrix[0, 0]\n",
    "    # True positives\n",
    "    true_positive = confusion_matrix[1, 1]\n",
    "    # False negatives\n",
    "    false_negative = confusion_matrix[1, 0]\n",
    "    # False positives\n",
    "    false_positive = confusion_matrix[0, 1]\n",
    "    \n",
    "    accuracy = (true_negative + true_positive) / (true_negative + \\\n",
    "                                                  false_negative + false_positive + true_positive)\n",
    "    accuracies.append(accuracy)\n",
    "    \n",
    "# Fine the feature with largest accuracy\n",
    "best_feature = features[accuracies.index(max(accuracies))]\n",
    "\n",
    "best_feature_df = pd.DataFrame({\"best_feature\": best_feature,\n",
    "                                \"best_accuracy\": max(accuracies)},\n",
    "                              index=[0])\n"
   ]
  }
 ],
 "metadata": {
  "colab": {
   "name": "Welcome to DataCamp Workspaces.ipynb",
   "provenance": []
  },
  "editor": "DataCamp Workspace",
  "kernelspec": {
   "display_name": "Python 3 (ipykernel)",
   "language": "python",
   "name": "python3"
  },
  "language_info": {
   "codemirror_mode": {
    "name": "ipython",
    "version": 3
   },
   "file_extension": ".py",
   "mimetype": "text/x-python",
   "name": "python",
   "nbconvert_exporter": "python",
   "pygments_lexer": "ipython3",
   "version": "3.11.6"
  },
  "vscode": {
   "interpreter": {
    "hash": "aee8b7b246df8f9039afb4144a1f6fd8d2ca17a180786b69acc140d282b71a49"
   }
  }
 },
 "nbformat": 4,
 "nbformat_minor": 5
}
