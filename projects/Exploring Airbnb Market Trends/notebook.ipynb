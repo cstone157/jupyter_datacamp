{
 "cells": [
  {
   "cell_type": "markdown",
   "id": "c747d469-ee97-4b95-880f-feefd5456042",
   "metadata": {
    "id": "bA5ajAmk7XH6"
   },
   "source": [
    "![NYC Skyline](../../imgs/nyc.jpg)\n",
    "\n",
    "Welcome to New York City, one of the most-visited cities in the world. There are many Airbnb listings in New York City to meet the high demand for temporary lodging for travelers, which can be anywhere between a few nights to many months. In this project, we will take a closer look at the New York Airbnb market by combining data from multiple file types like `.csv`, `.tsv`, and `.xlsx`.\n",
    "\n",
    "Recall that **CSV**, **TSV**, and **Excel** files are three common formats for storing data. \n",
    "Three files containing data on 2019 Airbnb listings are available to you:\n",
    "\n",
    "**data/airbnb_price.csv**\n",
    "This is a CSV file containing data on Airbnb listing prices and locations.\n",
    "- **`listing_id`**: unique identifier of listing\n",
    "- **`price`**: nightly listing price in USD\n",
    "- **`nbhood_full`**: name of borough and neighborhood where listing is located\n",
    "\n",
    "**data/airbnb_room_type.xlsx**\n",
    "This is an Excel file containing data on Airbnb listing descriptions and room types.\n",
    "- **`listing_id`**: unique identifier of listing\n",
    "- **`description`**: listing description\n",
    "- **`room_type`**: Airbnb has three types of rooms: shared rooms, private rooms, and entire homes/apartments\n",
    "\n",
    "**data/airbnb_last_review.tsv**\n",
    "This is a TSV file containing data on Airbnb host names and review dates.\n",
    "- **`listing_id`**: unique identifier of listing\n",
    "- **`host_name`**: name of listing host\n",
    "- **`last_review`**: date when the listing was last reviewed"
   ]
  },
  {
   "cell_type": "code",
   "execution_count": 1,
   "id": "1fdc5784-479e-46cb-b05b-68439dcc94a7",
   "metadata": {
    "executionCancelledAt": null,
    "executionTime": 1424,
    "lastExecutedAt": 1702847400661,
    "lastScheduledRunId": null,
    "lastSuccessfullyExecutedCode": "# We've loaded your first package for you! You can add as many cells as you need.\nimport numpy as np\nimport pandas as pd\n\n# Import the different files\nairbnb_price = pd.read_csv(\"data/airbnb_price.csv\")\nairbnb_room_type = pd.read_excel(\"data/airbnb_room_type.xlsx\")\nairbnb_last_review = pd.read_csv(\"data/airbnb_last_review.tsv\", sep=\"\\t\")\n\n# Convert the last_review to datetime\nairbnb_last_review[\"last_review_date\"] = pd.to_datetime(airbnb_last_review[\"last_review\"])\n\n# Convert room/type to lower case to make it easier to match\nairbnb_room_type[\"room_type_clean\"] = airbnb_room_type[\"room_type\"].str.lower()\n\n# Remove \"dollars\" from the price column\nairbnb_price[\"price_clean\"] = airbnb_price[\"price\"].str.replace(\" dollars\", \"\").astype(float)\n\n# Join the three data frames together into one\nlistings = pd.merge(airbnb_price, airbnb_room_type, on='listing_id')\nlistings = pd.merge(listings, airbnb_last_review, on='listing_id')\n\n# Get the first and last review dates\nfirst_reviewed = airbnb_last_review[\"last_review_date\"].min()\nlast_reviewed = airbnb_last_review[\"last_review_date\"].max()\n\n# Get the number of private rooms\nprivate_room_count = airbnb_room_type[airbnb_room_type[\"room_type_clean\"] == \"private room\"].shape[0]\n\n# Get the a average room price\navg_price = airbnb_price[\"price_clean\"].mean()\n\nreview_dates = pd.DataFrame({\n    \"first_reviewed\": [first_reviewed],\n    \"last_reviewed\": [last_reviewed],\n    \"nb_private_rooms\": [private_room_count],\n    \"avg_price\": [round(avg_price, 2)]\n})",
    "outputsMetadata": {
     "0": {
      "height": 137,
      "type": "stream"
     }
    }
   },
   "outputs": [],
   "source": [
    "# We've loaded your first package for you! You can add as many cells as you need.\n",
    "import numpy as np\n",
    "import pandas as pd\n",
    "\n",
    "# Import the different files\n",
    "airbnb_price = pd.read_csv(\"../../data/airbnb_price.csv\")\n",
    "airbnb_room_type = pd.read_excel(\"../../data/airbnb_room_type.xlsx\")\n",
    "airbnb_last_review = pd.read_csv(\"../../data/airbnb_last_review.tsv\", sep=\"\\t\")\n",
    "\n",
    "# Convert the last_review to datetime\n",
    "airbnb_last_review[\"last_review_date\"] = pd.to_datetime(airbnb_last_review[\"last_review\"])\n",
    "\n",
    "# Convert room/type to lower case to make it easier to match\n",
    "airbnb_room_type[\"room_type_clean\"] = airbnb_room_type[\"room_type\"].str.lower()\n",
    "\n",
    "# Remove \"dollars\" from the price column\n",
    "airbnb_price[\"price_clean\"] = airbnb_price[\"price\"].str.replace(\" dollars\", \"\").astype(float)\n",
    "\n",
    "# Join the three data frames together into one\n",
    "listings = pd.merge(airbnb_price, airbnb_room_type, on='listing_id')\n",
    "listings = pd.merge(listings, airbnb_last_review, on='listing_id')\n",
    "\n",
    "# Get the first and last review dates\n",
    "first_reviewed = airbnb_last_review[\"last_review_date\"].min()\n",
    "last_reviewed = airbnb_last_review[\"last_review_date\"].max()\n",
    "\n",
    "# Get the number of private rooms\n",
    "private_room_count = airbnb_room_type[airbnb_room_type[\"room_type_clean\"] == \"private room\"].shape[0]\n",
    "\n",
    "# Get the a average room price\n",
    "avg_price = airbnb_price[\"price_clean\"].mean()\n",
    "\n",
    "review_dates = pd.DataFrame({\n",
    "    \"first_reviewed\": [first_reviewed],\n",
    "    \"last_reviewed\": [last_reviewed],\n",
    "    \"nb_private_rooms\": [private_room_count],\n",
    "    \"avg_price\": [round(avg_price, 2)]\n",
    "})"
   ]
  },
  {
   "cell_type": "code",
   "execution_count": null,
   "id": "04a006de-9ee9-467a-9b6b-8df7d8475e37",
   "metadata": {},
   "outputs": [],
   "source": []
  }
 ],
 "metadata": {
  "colab": {
   "name": "Welcome to DataCamp Workspaces.ipynb",
   "provenance": []
  },
  "kernelspec": {
   "display_name": "Python 3 (ipykernel)",
   "language": "python",
   "name": "python3"
  },
  "language_info": {
   "codemirror_mode": {
    "name": "ipython",
    "version": 3
   },
   "file_extension": ".py",
   "mimetype": "text/x-python",
   "name": "python",
   "nbconvert_exporter": "python",
   "pygments_lexer": "ipython3",
   "version": "3.11.6"
  }
 },
 "nbformat": 4,
 "nbformat_minor": 5
}
