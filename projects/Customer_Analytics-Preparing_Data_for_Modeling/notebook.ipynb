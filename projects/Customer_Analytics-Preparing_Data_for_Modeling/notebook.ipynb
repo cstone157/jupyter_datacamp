{
 "cells": [
  {
   "cell_type": "markdown",
   "id": "a09e6d54-bf3f-4632-b299-bd49d5c80d5f",
   "metadata": {},
   "source": [
    "![Two data scientists working on a dashboard.](../../imgs/hr-image-small.png)\n",
    "\n",
    "A common problem when creating models to generate business value from data is that the datasets can be so large that it can take days for the model to generate predictions. Ensuring that your dataset is stored as efficiently as possible is crucial for allowing these models to run on a more reasonable timescale without having to reduce the size of the dataset.\n",
    "\n",
    "You've been hired by a major online data science training provider called *Training Data Ltd.* to clean up one of their largest customer datasets. This dataset will eventually be used to predict whether their students are looking for a new job or not, information that they will then use to direct them to prospective recruiters.\n",
    "\n",
    "You've been given access to `customer_train.csv`, which is a subset of their entire customer dataset, so you can create a proof-of-concept of a much more efficient storage solution. The dataset contains anonymized student information, and whether they were looking for a new job or not during training:\n",
    "\n",
    "| Column       | Description                                  |\n",
    "|------------- |--------------------------------------------- |\n",
    "| `student_id`   | A unique ID for each student.                 |\n",
    "| `city`  | A code for the city the student lives in.  |\n",
    "| `city_development_index` | A scaled development index for the city.       |\n",
    "| `gender` | The student's gender.       |\n",
    "| `relevant_experience` | An indicator of the student's work relevant experience.       |\n",
    "| `enrolled_university` | The type of university course enrolled in (if any).       |\n",
    "| `education_level` | The student's education level.       |\n",
    "| `major_discipline` | The educational discipline of the student.       |\n",
    "| `experience` | The student's total work experience (in years).       |\n",
    "| `company_size` | The number of employees at the student's current employer.       |\n",
    "| `last_new_job` | The number of years between the student's current and previous jobs.       |\n",
    "| `training_hours` | The number of hours of training completed.       |\n",
    "| `job_change` | An indicator of whether the student is looking for a new job (`1`) or not (`0`).       |"
   ]
  },
  {
   "cell_type": "code",
   "execution_count": 1,
   "id": "7dacda55-041c-4985-87ee-af451dcd6d8c",
   "metadata": {
    "executionCancelledAt": null,
    "executionTime": 64,
    "lastExecutedAt": 1702844971893,
    "lastScheduledRunId": null,
    "lastSuccessfullyExecutedCode": "# Start your code here!\nimport pandas as pd\n\nds_jobs = pd.read_csv(\"customer_train.csv\")\nds_jobs_clean = ds_jobs.copy()\n\n# Create a dictionary of columns containing ordered categorical data\nordered_cats = {\n    'relevant_experience': ['No relevant experience', 'Has relevant experience'],\n    'enrolled_university': ['no_enrollment', 'Part time course', 'Full time course'],\n    'education_level': ['Primary School', 'High School', 'Graduate', 'Masters', 'Phd'],\n    'experience': ['<1'] + list(map(str, range(1, 21))) + ['>20'],\n    'company_size': ['<10', '10-49', '50-99', '100-499', '500-999', '1000-4999', '5000-9999', '10000+'],\n    'last_new_job': ['never', '1', '2', '3', '4', '>4']\n}\n\nfor col in ds_jobs_clean:\n    # Convert the int64 to int32\n    if ds_jobs_clean[col].dtype == 'int':\n        ds_jobs_clean[col] = ds_jobs_clean[col].astype(\"int32\")\n    \n    # Convert the float64 to float16\n    elif ds_jobs_clean[col].dtype == 'float':\n        ds_jobs_clean[col] = ds_jobs_clean[col].astype(\"float16\")\n    \n    # Converted the ordered categories from string to categorical\n    elif col in ordered_cats.keys():\n        category = pd.CategoricalDtype(ordered_cats[col], ordered=True)\n        ds_jobs_clean[col] = ds_jobs_clean[col].astype(category)\n    \n    # Convert to categories\n    else:\n        ds_jobs_clean[col] = ds_jobs_clean[col].astype(\"category\")\n\nds_jobs_clean = ds_jobs_clean[(ds_jobs_clean[\"experience\"] >= \"10\") & \\\n                              (ds_jobs_clean[\"company_size\"] >= \"1000-4999\")]",
    "outputsMetadata": {
     "0": {
      "height": 397,
      "type": "stream"
     }
    }
   },
   "outputs": [],
   "source": [
    "# Start your code here!\n",
    "import pandas as pd\n",
    "\n",
    "ds_jobs = pd.read_csv(\"../../data/customer_train.csv\")\n",
    "ds_jobs_clean = ds_jobs.copy()\n",
    "\n",
    "# Create a dictionary of columns containing ordered categorical data\n",
    "ordered_cats = {\n",
    "    'relevant_experience': ['No relevant experience', 'Has relevant experience'],\n",
    "    'enrolled_university': ['no_enrollment', 'Part time course', 'Full time course'],\n",
    "    'education_level': ['Primary School', 'High School', 'Graduate', 'Masters', 'Phd'],\n",
    "    'experience': ['<1'] + list(map(str, range(1, 21))) + ['>20'],\n",
    "    'company_size': ['<10', '10-49', '50-99', '100-499', '500-999', '1000-4999', '5000-9999', '10000+'],\n",
    "    'last_new_job': ['never', '1', '2', '3', '4', '>4']\n",
    "}\n",
    "\n",
    "for col in ds_jobs_clean:\n",
    "    # Convert the int64 to int32\n",
    "    if ds_jobs_clean[col].dtype == 'int':\n",
    "        ds_jobs_clean[col] = ds_jobs_clean[col].astype(\"int32\")\n",
    "    \n",
    "    # Convert the float64 to float16\n",
    "    elif ds_jobs_clean[col].dtype == 'float':\n",
    "        ds_jobs_clean[col] = ds_jobs_clean[col].astype(\"float16\")\n",
    "    \n",
    "    # Converted the ordered categories from string to categorical\n",
    "    elif col in ordered_cats.keys():\n",
    "        category = pd.CategoricalDtype(ordered_cats[col], ordered=True)\n",
    "        ds_jobs_clean[col] = ds_jobs_clean[col].astype(category)\n",
    "    \n",
    "    # Convert to categories\n",
    "    else:\n",
    "        ds_jobs_clean[col] = ds_jobs_clean[col].astype(\"category\")\n",
    "\n",
    "ds_jobs_clean = ds_jobs_clean[(ds_jobs_clean[\"experience\"] >= \"10\") & \\\n",
    "                              (ds_jobs_clean[\"company_size\"] >= \"1000-4999\")]"
   ]
  },
  {
   "cell_type": "code",
   "execution_count": 18,
   "id": "aea829c5-a063-45c5-a4af-40e8f5314e2b",
   "metadata": {
    "executionCancelledAt": null,
    "executionTime": 47,
    "lastExecutedAt": 1702844971940,
    "lastScheduledRunId": null,
    "lastSuccessfullyExecutedCode": "ds_jobs_clean.head()",
    "outputsMetadata": {
     "0": {
      "height": 213,
      "type": "dataFrame"
     }
    }
   },
   "outputs": [
    {
     "data": {
      "application/com.datacamp.data-table.v2+json": {
       "table": {
        "data": {
         "city": [
          "city_103",
          "city_61",
          "city_103",
          "city_16",
          "city_114"
         ],
         "city_development_index": [
          0.919921875,
          0.9130859375,
          0.919921875,
          0.91015625,
          0.92578125
         ],
         "company_size": [
          "10000+",
          "1000-4999",
          "5000-9999",
          "5000-9999",
          "1000-4999"
         ],
         "company_type": [
          "Pvt Ltd",
          "Pvt Ltd",
          "Pvt Ltd",
          "Pvt Ltd",
          "Public Sector"
         ],
         "education_level": [
          "Graduate",
          "Graduate",
          "Graduate",
          "Graduate",
          "Masters"
         ],
         "enrolled_university": [
          "no_enrollment",
          "no_enrollment",
          "Part time course",
          "no_enrollment",
          "Full time course"
         ],
         "experience": [
          "17",
          ">20",
          "19",
          "12",
          "16"
         ],
         "gender": [
          null,
          "Male",
          "Male",
          "Male",
          "Female"
         ],
         "index": [
          9,
          12,
          31,
          34,
          40
         ],
         "job_change": [
          0,
          0,
          0,
          0,
          0
         ],
         "last_new_job": [
          ">4",
          "3",
          ">4",
          "3",
          "2"
         ],
         "major_discipline": [
          "STEM",
          "STEM",
          "STEM",
          "Business Degree",
          "STEM"
         ],
         "relevant_experience": [
          "Has relevant experience",
          "Has relevant experience",
          "Has relevant experience",
          "Has relevant experience",
          "Has relevant experience"
         ],
         "student_id": [
          699,
          25619,
          22293,
          26494,
          2547
         ],
         "training_hours": [
          123,
          23,
          141,
          145,
          14
         ]
        },
        "schema": {
         "fields": [
          {
           "name": "index",
           "type": "integer"
          },
          {
           "name": "student_id",
           "type": "integer"
          },
          {
           "constraints": {
            "enum": [
             "city_1",
             "city_10",
             "city_100",
             "city_101",
             "city_102",
             "city_103",
             "city_104",
             "city_105",
             "city_106",
             "city_107",
             "city_109",
             "city_11",
             "city_111",
             "city_114",
             "city_115",
             "city_116",
             "city_117",
             "city_118",
             "city_12",
             "city_120",
             "city_121",
             "city_123",
             "city_126",
             "city_127",
             "city_128",
             "city_129",
             "city_13",
             "city_131",
             "city_133",
             "city_134",
             "city_136",
             "city_138",
             "city_139",
             "city_14",
             "city_140",
             "city_141",
             "city_142",
             "city_143",
             "city_144",
             "city_145",
             "city_146",
             "city_149",
             "city_150",
             "city_152",
             "city_155",
             "city_157",
             "city_158",
             "city_159",
             "city_16",
             "city_160",
             "city_162",
             "city_165",
             "city_166",
             "city_167",
             "city_171",
             "city_173",
             "city_175",
             "city_176",
             "city_179",
             "city_18",
             "city_180",
             "city_19",
             "city_2",
             "city_20",
             "city_21",
             "city_23",
             "city_24",
             "city_25",
             "city_26",
             "city_27",
             "city_28",
             "city_30",
             "city_31",
             "city_33",
             "city_36",
             "city_37",
             "city_39",
             "city_40",
             "city_41",
             "city_42",
             "city_43",
             "city_44",
             "city_45",
             "city_46",
             "city_48",
             "city_50",
             "city_53",
             "city_54",
             "city_55",
             "city_57",
             "city_59",
             "city_61",
             "city_62",
             "city_64",
             "city_65",
             "city_67",
             "city_69",
             "city_7",
             "city_70",
             "city_71",
             "city_72",
             "city_73",
             "city_74",
             "city_75",
             "city_76",
             "city_77",
             "city_78",
             "city_79",
             "city_8",
             "city_80",
             "city_81",
             "city_82",
             "city_83",
             "city_84",
             "city_89",
             "city_9",
             "city_90",
             "city_91",
             "city_93",
             "city_94",
             "city_97",
             "city_98",
             "city_99"
            ]
           },
           "name": "city",
           "ordered": false,
           "type": "any"
          },
          {
           "name": "city_development_index",
           "type": "number"
          },
          {
           "constraints": {
            "enum": [
             "Female",
             "Male",
             "Other"
            ]
           },
           "name": "gender",
           "ordered": false,
           "type": "any"
          },
          {
           "constraints": {
            "enum": [
             "No relevant experience",
             "Has relevant experience"
            ]
           },
           "name": "relevant_experience",
           "ordered": true,
           "type": "any"
          },
          {
           "constraints": {
            "enum": [
             "no_enrollment",
             "Part time course",
             "Full time course"
            ]
           },
           "name": "enrolled_university",
           "ordered": true,
           "type": "any"
          },
          {
           "constraints": {
            "enum": [
             "Primary School",
             "High School",
             "Graduate",
             "Masters",
             "Phd"
            ]
           },
           "name": "education_level",
           "ordered": true,
           "type": "any"
          },
          {
           "constraints": {
            "enum": [
             "Arts",
             "Business Degree",
             "Humanities",
             "No Major",
             "Other",
             "STEM"
            ]
           },
           "name": "major_discipline",
           "ordered": false,
           "type": "any"
          },
          {
           "constraints": {
            "enum": [
             "<1",
             "1",
             "2",
             "3",
             "4",
             "5",
             "6",
             "7",
             "8",
             "9",
             "10",
             "11",
             "12",
             "13",
             "14",
             "15",
             "16",
             "17",
             "18",
             "19",
             "20",
             ">20"
            ]
           },
           "name": "experience",
           "ordered": true,
           "type": "any"
          },
          {
           "constraints": {
            "enum": [
             "<10",
             "10-49",
             "50-99",
             "100-499",
             "500-999",
             "1000-4999",
             "5000-9999",
             "10000+"
            ]
           },
           "name": "company_size",
           "ordered": true,
           "type": "any"
          },
          {
           "constraints": {
            "enum": [
             "Early Stage Startup",
             "Funded Startup",
             "NGO",
             "Other",
             "Public Sector",
             "Pvt Ltd"
            ]
           },
           "name": "company_type",
           "ordered": false,
           "type": "any"
          },
          {
           "constraints": {
            "enum": [
             "never",
             "1",
             "2",
             "3",
             "4",
             ">4"
            ]
           },
           "name": "last_new_job",
           "ordered": true,
           "type": "any"
          },
          {
           "name": "training_hours",
           "type": "integer"
          },
          {
           "name": "job_change",
           "type": "integer"
          }
         ],
         "pandas_version": "1.4.0",
         "primaryKey": [
          "index"
         ]
        }
       },
       "total_rows": 5,
       "truncation_type": null
      },
      "text/html": [
       "<div>\n",
       "<style scoped>\n",
       "    .dataframe tbody tr th:only-of-type {\n",
       "        vertical-align: middle;\n",
       "    }\n",
       "\n",
       "    .dataframe tbody tr th {\n",
       "        vertical-align: top;\n",
       "    }\n",
       "\n",
       "    .dataframe thead th {\n",
       "        text-align: right;\n",
       "    }\n",
       "</style>\n",
       "<table border=\"1\" class=\"dataframe\">\n",
       "  <thead>\n",
       "    <tr style=\"text-align: right;\">\n",
       "      <th></th>\n",
       "      <th>student_id</th>\n",
       "      <th>city</th>\n",
       "      <th>city_development_index</th>\n",
       "      <th>gender</th>\n",
       "      <th>relevant_experience</th>\n",
       "      <th>enrolled_university</th>\n",
       "      <th>education_level</th>\n",
       "      <th>major_discipline</th>\n",
       "      <th>experience</th>\n",
       "      <th>company_size</th>\n",
       "      <th>company_type</th>\n",
       "      <th>last_new_job</th>\n",
       "      <th>training_hours</th>\n",
       "      <th>job_change</th>\n",
       "    </tr>\n",
       "  </thead>\n",
       "  <tbody>\n",
       "    <tr>\n",
       "      <th>9</th>\n",
       "      <td>699</td>\n",
       "      <td>city_103</td>\n",
       "      <td>0.919922</td>\n",
       "      <td>NaN</td>\n",
       "      <td>Has relevant experience</td>\n",
       "      <td>no_enrollment</td>\n",
       "      <td>Graduate</td>\n",
       "      <td>STEM</td>\n",
       "      <td>17</td>\n",
       "      <td>10000+</td>\n",
       "      <td>Pvt Ltd</td>\n",
       "      <td>&gt;4</td>\n",
       "      <td>123</td>\n",
       "      <td>0</td>\n",
       "    </tr>\n",
       "    <tr>\n",
       "      <th>12</th>\n",
       "      <td>25619</td>\n",
       "      <td>city_61</td>\n",
       "      <td>0.913086</td>\n",
       "      <td>Male</td>\n",
       "      <td>Has relevant experience</td>\n",
       "      <td>no_enrollment</td>\n",
       "      <td>Graduate</td>\n",
       "      <td>STEM</td>\n",
       "      <td>&gt;20</td>\n",
       "      <td>1000-4999</td>\n",
       "      <td>Pvt Ltd</td>\n",
       "      <td>3</td>\n",
       "      <td>23</td>\n",
       "      <td>0</td>\n",
       "    </tr>\n",
       "    <tr>\n",
       "      <th>31</th>\n",
       "      <td>22293</td>\n",
       "      <td>city_103</td>\n",
       "      <td>0.919922</td>\n",
       "      <td>Male</td>\n",
       "      <td>Has relevant experience</td>\n",
       "      <td>Part time course</td>\n",
       "      <td>Graduate</td>\n",
       "      <td>STEM</td>\n",
       "      <td>19</td>\n",
       "      <td>5000-9999</td>\n",
       "      <td>Pvt Ltd</td>\n",
       "      <td>&gt;4</td>\n",
       "      <td>141</td>\n",
       "      <td>0</td>\n",
       "    </tr>\n",
       "    <tr>\n",
       "      <th>34</th>\n",
       "      <td>26494</td>\n",
       "      <td>city_16</td>\n",
       "      <td>0.910156</td>\n",
       "      <td>Male</td>\n",
       "      <td>Has relevant experience</td>\n",
       "      <td>no_enrollment</td>\n",
       "      <td>Graduate</td>\n",
       "      <td>Business Degree</td>\n",
       "      <td>12</td>\n",
       "      <td>5000-9999</td>\n",
       "      <td>Pvt Ltd</td>\n",
       "      <td>3</td>\n",
       "      <td>145</td>\n",
       "      <td>0</td>\n",
       "    </tr>\n",
       "    <tr>\n",
       "      <th>40</th>\n",
       "      <td>2547</td>\n",
       "      <td>city_114</td>\n",
       "      <td>0.925781</td>\n",
       "      <td>Female</td>\n",
       "      <td>Has relevant experience</td>\n",
       "      <td>Full time course</td>\n",
       "      <td>Masters</td>\n",
       "      <td>STEM</td>\n",
       "      <td>16</td>\n",
       "      <td>1000-4999</td>\n",
       "      <td>Public Sector</td>\n",
       "      <td>2</td>\n",
       "      <td>14</td>\n",
       "      <td>0</td>\n",
       "    </tr>\n",
       "  </tbody>\n",
       "</table>\n",
       "</div>"
      ],
      "text/plain": [
       "    student_id      city  ...  training_hours job_change\n",
       "9          699  city_103  ...             123          0\n",
       "12       25619   city_61  ...              23          0\n",
       "31       22293  city_103  ...             141          0\n",
       "34       26494   city_16  ...             145          0\n",
       "40        2547  city_114  ...              14          0\n",
       "\n",
       "[5 rows x 14 columns]"
      ]
     },
     "execution_count": 18,
     "metadata": {},
     "output_type": "execute_result"
    }
   ],
   "source": [
    "ds_jobs_clean.head()"
   ]
  },
  {
   "cell_type": "code",
   "execution_count": 19,
   "id": "d482a919-2595-4264-8ca4-8c3e6180917c",
   "metadata": {
    "executionCancelledAt": null,
    "executionTime": 48,
    "lastExecutedAt": 1702844971988,
    "lastScheduledRunId": null,
    "lastSuccessfullyExecutedCode": "ds_jobs_clean.info()",
    "outputsMetadata": {
     "0": {
      "height": 437,
      "type": "stream"
     }
    }
   },
   "outputs": [
    {
     "name": "stdout",
     "output_type": "stream",
     "text": [
      "<class 'pandas.core.frame.DataFrame'>\n",
      "Int64Index: 2201 entries, 9 to 19143\n",
      "Data columns (total 14 columns):\n",
      " #   Column                  Non-Null Count  Dtype   \n",
      "---  ------                  --------------  -----   \n",
      " 0   student_id              2201 non-null   int32   \n",
      " 1   city                    2201 non-null   category\n",
      " 2   city_development_index  2201 non-null   float16 \n",
      " 3   gender                  1821 non-null   category\n",
      " 4   relevant_experience     2201 non-null   category\n",
      " 5   enrolled_university     2185 non-null   category\n",
      " 6   education_level         2184 non-null   category\n",
      " 7   major_discipline        2097 non-null   category\n",
      " 8   experience              2201 non-null   category\n",
      " 9   company_size            2201 non-null   category\n",
      " 10  company_type            2144 non-null   category\n",
      " 11  last_new_job            2184 non-null   category\n",
      " 12  training_hours          2201 non-null   int32   \n",
      " 13  job_change              2201 non-null   int32   \n",
      "dtypes: category(10), float16(1), int32(3)\n",
      "memory usage: 76.1 KB\n"
     ]
    }
   ],
   "source": [
    "ds_jobs_clean.info()"
   ]
  }
 ],
 "metadata": {
  "editor": "DataCamp Workspace",
  "kernelspec": {
   "display_name": "Python 3 (ipykernel)",
   "language": "python",
   "name": "python3"
  },
  "language_info": {
   "codemirror_mode": {
    "name": "ipython",
    "version": 3
   },
   "file_extension": ".py",
   "mimetype": "text/x-python",
   "name": "python",
   "nbconvert_exporter": "python",
   "pygments_lexer": "ipython3",
   "version": "3.11.6"
  }
 },
 "nbformat": 4,
 "nbformat_minor": 5
}
