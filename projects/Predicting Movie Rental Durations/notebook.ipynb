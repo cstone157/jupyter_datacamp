{
 "cells": [
  {
   "cell_type": "markdown",
   "id": "b4ae5707-109f-4cd6-8168-88cac0179d6b",
   "metadata": {},
   "source": [
    "![dvd_image](../../imgs/dvd_image.jpg)\n",
    "\n",
    "A DVD rental company needs your help! They want to figure out how many days a customer will rent a DVD for based on some features and has approached you for help. They want you to try out some regression models which will help predict the number of days a customer will rent a DVD for. The company wants a model which yeilds a MSE of 3 or less on a test set. The model you make will help the company become more efficient inventory planning.\n",
    "\n",
    "The data they provided is in the csv file `rental_info.csv`. It has the following features:\n",
    "- `\"rental_date\"`: The date (and time) the customer rents the DVD.\n",
    "- `\"return_date\"`: The date (and time) the customer returns the DVD.\n",
    "- `\"amount\"`: The amount paid by the customer for renting the DVD.\n",
    "- `\"amount_2\"`: The square of `\"amount\"`.\n",
    "- `\"rental_rate\"`: The rate at which the DVD is rented for.\n",
    "- `\"rental_rate_2\"`: The square of `\"rental_rate\"`.\n",
    "- `\"release_year\"`: The year the movie being rented was released.\n",
    "- `\"length\"`: Lenght of the movie being rented, in minuites.\n",
    "- `\"length_2\"`: The square of `\"length\"`.\n",
    "- `\"replacement_cost\"`: The amount it will cost the company to replace the DVD.\n",
    "- `\"special_features\"`: Any special features, for example trailers/deleted scenes that the DVD also has.\n",
    "- `\"NC-17\"`, `\"PG\"`, `\"PG-13\"`, `\"R\"`: These columns are dummy variables of the rating of the movie. It takes the value 1 if the move is rated as the column name and 0 otherwise. For your convinience, the reference dummy has already been dropped."
   ]
  },
  {
   "cell_type": "code",
   "execution_count": 1,
   "id": "a7ede566-910a-445c-b11a-68d192ac8506",
   "metadata": {
    "executionCancelledAt": null,
    "executionTime": 95,
    "lastExecutedAt": 1705468863803,
    "lastScheduledRunId": null,
    "lastSuccessfullyExecutedCode": "import pandas as pd\nimport numpy as np\n\nfrom sklearn.model_selection import train_test_split\nfrom sklearn.metrics import mean_squared_error\n\n# Import any additional modules and start coding below\nrental_info = pd.read_csv('rental_info.csv')\nrental_info['return_date'] = pd.to_datetime(rental_info['return_date'])\nrental_info['rental_date'] = pd.to_datetime(rental_info['rental_date'])\nrental_info['deleted_scenes'] = np.where(rental_info[\"special_features\"].\\\n                                         str.contains(\"Deleted Scenes\"), 1, 0)\nrental_info['behind_the_scenes'] = np.where(rental_info[\"special_features\"].\\\n                                            str.contains(\"Behind the Scenes\"), 1, 0)\n\nrental_info['rental_length_days'] = (rental_info['return_date'] - rental_info['rental_date']).dt.days\nrental_info.head()",
    "outputsMetadata": {
     "0": {
      "height": 213,
      "type": "dataFrame"
     }
    }
   },
   "outputs": [
    {
     "data": {
      "text/html": [
       "<div>\n",
       "<style scoped>\n",
       "    .dataframe tbody tr th:only-of-type {\n",
       "        vertical-align: middle;\n",
       "    }\n",
       "\n",
       "    .dataframe tbody tr th {\n",
       "        vertical-align: top;\n",
       "    }\n",
       "\n",
       "    .dataframe thead th {\n",
       "        text-align: right;\n",
       "    }\n",
       "</style>\n",
       "<table border=\"1\" class=\"dataframe\">\n",
       "  <thead>\n",
       "    <tr style=\"text-align: right;\">\n",
       "      <th></th>\n",
       "      <th>rental_date</th>\n",
       "      <th>return_date</th>\n",
       "      <th>amount</th>\n",
       "      <th>release_year</th>\n",
       "      <th>rental_rate</th>\n",
       "      <th>length</th>\n",
       "      <th>replacement_cost</th>\n",
       "      <th>special_features</th>\n",
       "      <th>NC-17</th>\n",
       "      <th>PG</th>\n",
       "      <th>PG-13</th>\n",
       "      <th>R</th>\n",
       "      <th>amount_2</th>\n",
       "      <th>length_2</th>\n",
       "      <th>rental_rate_2</th>\n",
       "      <th>deleted_scenes</th>\n",
       "      <th>behind_the_scenes</th>\n",
       "      <th>rental_length_days</th>\n",
       "    </tr>\n",
       "  </thead>\n",
       "  <tbody>\n",
       "    <tr>\n",
       "      <th>0</th>\n",
       "      <td>2005-05-25 02:54:33+00:00</td>\n",
       "      <td>2005-05-28 23:40:33+00:00</td>\n",
       "      <td>2.99</td>\n",
       "      <td>2005.0</td>\n",
       "      <td>2.99</td>\n",
       "      <td>126.0</td>\n",
       "      <td>16.99</td>\n",
       "      <td>{Trailers,\"Behind the Scenes\"}</td>\n",
       "      <td>0</td>\n",
       "      <td>0</td>\n",
       "      <td>0</td>\n",
       "      <td>1</td>\n",
       "      <td>8.9401</td>\n",
       "      <td>15876.0</td>\n",
       "      <td>8.9401</td>\n",
       "      <td>0</td>\n",
       "      <td>1</td>\n",
       "      <td>3</td>\n",
       "    </tr>\n",
       "    <tr>\n",
       "      <th>1</th>\n",
       "      <td>2005-06-15 23:19:16+00:00</td>\n",
       "      <td>2005-06-18 19:24:16+00:00</td>\n",
       "      <td>2.99</td>\n",
       "      <td>2005.0</td>\n",
       "      <td>2.99</td>\n",
       "      <td>126.0</td>\n",
       "      <td>16.99</td>\n",
       "      <td>{Trailers,\"Behind the Scenes\"}</td>\n",
       "      <td>0</td>\n",
       "      <td>0</td>\n",
       "      <td>0</td>\n",
       "      <td>1</td>\n",
       "      <td>8.9401</td>\n",
       "      <td>15876.0</td>\n",
       "      <td>8.9401</td>\n",
       "      <td>0</td>\n",
       "      <td>1</td>\n",
       "      <td>2</td>\n",
       "    </tr>\n",
       "    <tr>\n",
       "      <th>2</th>\n",
       "      <td>2005-07-10 04:27:45+00:00</td>\n",
       "      <td>2005-07-17 10:11:45+00:00</td>\n",
       "      <td>2.99</td>\n",
       "      <td>2005.0</td>\n",
       "      <td>2.99</td>\n",
       "      <td>126.0</td>\n",
       "      <td>16.99</td>\n",
       "      <td>{Trailers,\"Behind the Scenes\"}</td>\n",
       "      <td>0</td>\n",
       "      <td>0</td>\n",
       "      <td>0</td>\n",
       "      <td>1</td>\n",
       "      <td>8.9401</td>\n",
       "      <td>15876.0</td>\n",
       "      <td>8.9401</td>\n",
       "      <td>0</td>\n",
       "      <td>1</td>\n",
       "      <td>7</td>\n",
       "    </tr>\n",
       "    <tr>\n",
       "      <th>3</th>\n",
       "      <td>2005-07-31 12:06:41+00:00</td>\n",
       "      <td>2005-08-02 14:30:41+00:00</td>\n",
       "      <td>2.99</td>\n",
       "      <td>2005.0</td>\n",
       "      <td>2.99</td>\n",
       "      <td>126.0</td>\n",
       "      <td>16.99</td>\n",
       "      <td>{Trailers,\"Behind the Scenes\"}</td>\n",
       "      <td>0</td>\n",
       "      <td>0</td>\n",
       "      <td>0</td>\n",
       "      <td>1</td>\n",
       "      <td>8.9401</td>\n",
       "      <td>15876.0</td>\n",
       "      <td>8.9401</td>\n",
       "      <td>0</td>\n",
       "      <td>1</td>\n",
       "      <td>2</td>\n",
       "    </tr>\n",
       "    <tr>\n",
       "      <th>4</th>\n",
       "      <td>2005-08-19 12:30:04+00:00</td>\n",
       "      <td>2005-08-23 13:35:04+00:00</td>\n",
       "      <td>2.99</td>\n",
       "      <td>2005.0</td>\n",
       "      <td>2.99</td>\n",
       "      <td>126.0</td>\n",
       "      <td>16.99</td>\n",
       "      <td>{Trailers,\"Behind the Scenes\"}</td>\n",
       "      <td>0</td>\n",
       "      <td>0</td>\n",
       "      <td>0</td>\n",
       "      <td>1</td>\n",
       "      <td>8.9401</td>\n",
       "      <td>15876.0</td>\n",
       "      <td>8.9401</td>\n",
       "      <td>0</td>\n",
       "      <td>1</td>\n",
       "      <td>4</td>\n",
       "    </tr>\n",
       "  </tbody>\n",
       "</table>\n",
       "</div>"
      ],
      "text/plain": [
       "                rental_date               return_date  amount  release_year  \\\n",
       "0 2005-05-25 02:54:33+00:00 2005-05-28 23:40:33+00:00    2.99        2005.0   \n",
       "1 2005-06-15 23:19:16+00:00 2005-06-18 19:24:16+00:00    2.99        2005.0   \n",
       "2 2005-07-10 04:27:45+00:00 2005-07-17 10:11:45+00:00    2.99        2005.0   \n",
       "3 2005-07-31 12:06:41+00:00 2005-08-02 14:30:41+00:00    2.99        2005.0   \n",
       "4 2005-08-19 12:30:04+00:00 2005-08-23 13:35:04+00:00    2.99        2005.0   \n",
       "\n",
       "   rental_rate  length  replacement_cost                special_features  \\\n",
       "0         2.99   126.0             16.99  {Trailers,\"Behind the Scenes\"}   \n",
       "1         2.99   126.0             16.99  {Trailers,\"Behind the Scenes\"}   \n",
       "2         2.99   126.0             16.99  {Trailers,\"Behind the Scenes\"}   \n",
       "3         2.99   126.0             16.99  {Trailers,\"Behind the Scenes\"}   \n",
       "4         2.99   126.0             16.99  {Trailers,\"Behind the Scenes\"}   \n",
       "\n",
       "   NC-17  PG  PG-13  R  amount_2  length_2  rental_rate_2  deleted_scenes  \\\n",
       "0      0   0      0  1    8.9401   15876.0         8.9401               0   \n",
       "1      0   0      0  1    8.9401   15876.0         8.9401               0   \n",
       "2      0   0      0  1    8.9401   15876.0         8.9401               0   \n",
       "3      0   0      0  1    8.9401   15876.0         8.9401               0   \n",
       "4      0   0      0  1    8.9401   15876.0         8.9401               0   \n",
       "\n",
       "   behind_the_scenes  rental_length_days  \n",
       "0                  1                   3  \n",
       "1                  1                   2  \n",
       "2                  1                   7  \n",
       "3                  1                   2  \n",
       "4                  1                   4  "
      ]
     },
     "execution_count": 1,
     "metadata": {},
     "output_type": "execute_result"
    }
   ],
   "source": [
    "import pandas as pd\n",
    "import numpy as np\n",
    "\n",
    "from sklearn.model_selection import train_test_split\n",
    "from sklearn.metrics import mean_squared_error\n",
    "\n",
    "# Import any additional modules and start coding below\n",
    "rental_info = pd.read_csv('../../data/rental_info.csv')\n",
    "rental_info['return_date'] = pd.to_datetime(rental_info['return_date'])\n",
    "rental_info['rental_date'] = pd.to_datetime(rental_info['rental_date'])\n",
    "rental_info['deleted_scenes'] = np.where(rental_info[\"special_features\"].\\\n",
    "                                         str.contains(\"Deleted Scenes\"), 1, 0)\n",
    "rental_info['behind_the_scenes'] = np.where(rental_info[\"special_features\"].\\\n",
    "                                            str.contains(\"Behind the Scenes\"), 1, 0)\n",
    "\n",
    "rental_info['rental_length_days'] = (rental_info['return_date'] - rental_info['rental_date']).dt.days\n",
    "rental_info.head()"
   ]
  },
  {
   "cell_type": "code",
   "execution_count": 2,
   "id": "ea6b8cf8-db08-47b9-a605-251849cbc25f",
   "metadata": {
    "executionCancelledAt": null,
    "executionTime": 49,
    "lastExecutedAt": 1705468863852,
    "lastScheduledRunId": null,
    "lastSuccessfullyExecutedCode": "## Define the features\nfeature_cols = [\"amount\", \"release_year\", \"rental_rate\", \"length\",\n               \"replacement_cost\", \"NC-17\", \"PG\", \"PG-13\", \"R\", \n               \"amount_2\", \"length_2\", \"rental_rate_2\",\n               \"deleted_scenes\", \"behind_the_scenes\"]\nlabel = \"rental_length_days\"\n\n## Build our training/test datasets\nX = rental_info[feature_cols]\ny = rental_info[label]\nX_train, X_test, y_train, y_test = train_test_split(X,\n                                                   y,\n                                                   test_size=0.2,\n                                                   random_state=9)",
    "outputsMetadata": {
     "0": {
      "height": 477,
      "type": "stream"
     }
    }
   },
   "outputs": [],
   "source": [
    "## Define the features\n",
    "feature_cols = [\"amount\", \"release_year\", \"rental_rate\", \"length\",\n",
    "               \"replacement_cost\", \"NC-17\", \"PG\", \"PG-13\", \"R\", \n",
    "               \"amount_2\", \"length_2\", \"rental_rate_2\",\n",
    "               \"deleted_scenes\", \"behind_the_scenes\"]\n",
    "label = \"rental_length_days\"\n",
    "\n",
    "## Build our training/test datasets\n",
    "X = rental_info[feature_cols]\n",
    "y = rental_info[label]\n",
    "X_train, X_test, y_train, y_test = train_test_split(X,\n",
    "                                                   y,\n",
    "                                                   test_size=0.2,\n",
    "                                                   random_state=9)"
   ]
  },
  {
   "cell_type": "code",
   "execution_count": 3,
   "id": "be4487df-ce3d-4695-97eb-0f6074dd714a",
   "metadata": {
    "executionCancelledAt": null,
    "executionTime": 47,
    "lastExecutedAt": 1705468863899,
    "lastScheduledRunId": null,
    "lastSuccessfullyExecutedCode": "# Import Lasso\nfrom sklearn.linear_model import Lasso\n# Linear Regression\nfrom sklearn.linear_model import LinearRegression\n# Import Scaler\nfrom sklearn.preprocessing import StandardScaler\n# Random forest\nfrom sklearn.ensemble import RandomForestRegressor\nfrom sklearn.model_selection import RandomizedSearchCV",
    "outputsMetadata": {
     "0": {
      "height": 37,
      "type": "stream"
     }
    }
   },
   "outputs": [],
   "source": [
    "# Import Lasso\n",
    "from sklearn.linear_model import Lasso\n",
    "# Linear Regression\n",
    "from sklearn.linear_model import LinearRegression\n",
    "# Import Scaler\n",
    "from sklearn.preprocessing import StandardScaler\n",
    "# Random forest\n",
    "from sklearn.ensemble import RandomForestRegressor\n",
    "from sklearn.model_selection import RandomizedSearchCV"
   ]
  },
  {
   "cell_type": "code",
   "execution_count": 4,
   "id": "94621718-8838-4204-bb0b-8af53aefdb20",
   "metadata": {
    "executionCancelledAt": null,
    "executionTime": 186,
    "lastExecutedAt": 1705468864086,
    "lastScheduledRunId": null,
    "lastSuccessfullyExecutedCode": "# Create the Lasso model\nlasso = Lasso(alpha=0.3, random_state=9)\nlasso.fit(X_train, y_train)\nlasso_coef = lasso.coef_\n\n# Select features\nX_lasso_train, X_lasso_test = X_train.iloc[:, lasso_coef > 0], X_test.iloc[:, lasso_coef > 0]\n\n# Run Linear Regression based on lasso features\nols = LinearRegression()\nols = ols.fit(X_lasso_train, y_train)\ny_pred = ols.predict(X_lasso_test)\nmse_lin_reg_lasso = mean_squared_error(y_test, y_pred)\nprint(mse_lin_reg_lasso)",
    "outputsMetadata": {
     "0": {
      "height": 37,
      "type": "stream"
     }
    }
   },
   "outputs": [
    {
     "name": "stdout",
     "output_type": "stream",
     "text": [
      "4.812297241276244\n"
     ]
    }
   ],
   "source": [
    "# Create the Lasso model\n",
    "lasso = Lasso(alpha=0.3, random_state=9)\n",
    "lasso.fit(X_train, y_train)\n",
    "lasso_coef = lasso.coef_\n",
    "\n",
    "# Select features\n",
    "X_lasso_train, X_lasso_test = X_train.iloc[:, lasso_coef > 0], X_test.iloc[:, lasso_coef > 0]\n",
    "\n",
    "# Run Linear Regression based on lasso features\n",
    "ols = LinearRegression()\n",
    "ols = ols.fit(X_lasso_train, y_train)\n",
    "y_pred = ols.predict(X_lasso_test)\n",
    "mse_lin_reg_lasso = mean_squared_error(y_test, y_pred)\n",
    "print(mse_lin_reg_lasso)"
   ]
  },
  {
   "cell_type": "code",
   "execution_count": 7,
   "id": "6258ccec-c4e6-48d7-ac4f-db193300458d",
   "metadata": {
    "executionCancelledAt": null,
    "executionTime": 23010,
    "lastExecutedAt": 1705468887096,
    "lastScheduledRunId": null,
    "lastSuccessfullyExecutedCode": "# Random forest hyper-parameter\nparam_dist = {'n_estimators': np.arange(1, 101, 1),\n             'max_depth': np.arange(1, 11, 1)}\n\n# Create a random forest\nrand_forest = RandomForestRegressor()\nrand_search = RandomizedSearchCV(rand_forest,\n                                param_distributions=param_dist,\n                                cv=5,\n                                random_state=9)\n\n# Fit random search\nrand_search.fit(X_train, y_train)\nhyper_params = rand_search.best_params_\n\n# Run random forest on chosen params\nrand_forest = RandomForestRegressor(n_estimators=hyper_params[\"n_estimators\"],\n                                   max_depth=hyper_params[\"max_depth\"],\n                                   random_state=9)\n\nrand_forest.fit(X_train, y_train)\nrf_y_pred = rand_forest.predict(X_test)\nmse_random_forest = mean_squared_error(y_test, rf_y_pred)\nprint(mse_random_forest)",
    "outputsMetadata": {
     "0": {
      "height": 37,
      "type": "stream"
     }
    }
   },
   "outputs": [
    {
     "name": "stdout",
     "output_type": "stream",
     "text": [
      "2.225667528098759\n"
     ]
    }
   ],
   "source": [
    "# Random forest hyper-parameter\n",
    "param_dist = {'n_estimators': np.arange(1, 101, 1),\n",
    "             'max_depth': np.arange(1, 11, 1)}\n",
    "\n",
    "# Create a random forest\n",
    "rand_forest = RandomForestRegressor()\n",
    "rand_search = RandomizedSearchCV(rand_forest,\n",
    "                                param_distributions=param_dist,\n",
    "                                cv=5,\n",
    "                                random_state=9)\n",
    "\n",
    "# Fit random search\n",
    "rand_search.fit(X_train, y_train)\n",
    "hyper_params = rand_search.best_params_\n",
    "\n",
    "# Run random forest on chosen params\n",
    "rand_forest = RandomForestRegressor(n_estimators=hyper_params[\"n_estimators\"],\n",
    "                                   max_depth=hyper_params[\"max_depth\"],\n",
    "                                   random_state=9)\n",
    "\n",
    "rand_forest.fit(X_train, y_train)\n",
    "rf_y_pred = rand_forest.predict(X_test)\n",
    "mse_random_forest = mean_squared_error(y_test, rf_y_pred)\n",
    "print(mse_random_forest)"
   ]
  },
  {
   "cell_type": "code",
   "execution_count": 8,
   "id": "3020763f-5ebc-42be-9be4-df7671f14e39",
   "metadata": {
    "executionCancelledAt": null,
    "executionTime": 48,
    "lastExecutedAt": 1705468887144,
    "lastScheduledRunId": null,
    "lastSuccessfullyExecutedCode": "# Random forest has lowest MSE between the two so\nbest_model = rand_forest\nbest_mse = mse_random_forest"
   },
   "outputs": [],
   "source": [
    "# Random forest has lowest MSE between the two so\n",
    "best_model = rand_forest\n",
    "best_mse = mse_random_forest"
   ]
  },
  {
   "cell_type": "code",
   "execution_count": null,
   "id": "dfb69f3a-3f98-49ec-b8a6-8ec413800d65",
   "metadata": {},
   "outputs": [],
   "source": []
  }
 ],
 "metadata": {
  "colab": {
   "name": "Welcome to DataCamp Workspaces.ipynb",
   "provenance": []
  },
  "kernelspec": {
   "display_name": "Python 3 (ipykernel)",
   "language": "python",
   "name": "python3"
  },
  "language_info": {
   "codemirror_mode": {
    "name": "ipython",
    "version": 3
   },
   "file_extension": ".py",
   "mimetype": "text/x-python",
   "name": "python",
   "nbconvert_exporter": "python",
   "pygments_lexer": "ipython3",
   "version": "3.11.6"
  }
 },
 "nbformat": 4,
 "nbformat_minor": 5
}
