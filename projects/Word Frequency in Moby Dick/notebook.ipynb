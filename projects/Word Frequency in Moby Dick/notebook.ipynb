{
 "cells": [
  {
   "cell_type": "code",
   "execution_count": 5,
   "id": "284d78d8-5932-4ea9-977e-ba00bf86bc90",
   "metadata": {},
   "outputs": [
    {
     "name": "stderr",
     "output_type": "stream",
     "text": [
      "[nltk_data] Downloading package stopwords to /home/jovyan/nltk_data...\n",
      "[nltk_data]   Package stopwords is already up-to-date!\n"
     ]
    }
   ],
   "source": [
    "# Import and download packages\n",
    "import requests\n",
    "from bs4 import BeautifulSoup\n",
    "import nltk\n",
    "from collections import Counter\n",
    "nltk.download('stopwords')\n",
    "\n",
    "# Create our request to get the html document\n",
    "r = requests.get('https://s3.amazonaws.com/assets.datacamp.com/production/project_147/datasets/2701-h.htm')\n",
    "r.encoding = \"utf-8\"\n",
    "html = r.text\n",
    "\n",
    "# Setup a BeautifulSoup, and extract the text\n",
    "soup = BeautifulSoup(html)\n",
    "text = soup.get_text()\n",
    "\n",
    "# Creating a tokenizer, and get all of our tokens\n",
    "tokenizer = nltk.tokenize.RegexpTokenizer('\\w+')\n",
    "tokens = tokenizer.tokenize(text)\n",
    "\n",
    "# Create a array, loop through our tokens and store into our\n",
    "#     array\n",
    "words = []\n",
    "for word in tokens:\n",
    "    words.append(word.lower())\n",
    "\n",
    "# Remove the stop words from our results\n",
    "sw = nltk.corpus.stopwords.words('english')\n",
    "words_no_stop = []\n",
    "for word in words:\n",
    "    if word not in sw:\n",
    "        words_no_stop.append(word)\n",
    "\n",
    "# Find our top ten words\n",
    "counter = Counter(words_no_stop)\n",
    "top_ten = counter.most_common(10)"
   ]
  },
  {
   "cell_type": "code",
   "execution_count": 4,
   "id": "e2d86136-8d39-49e4-b417-1e2807278be9",
   "metadata": {},
   "outputs": [
    {
     "data": {
      "text/plain": [
       "[('whale', 1246),\n",
       " ('one', 925),\n",
       " ('like', 647),\n",
       " ('upon', 568),\n",
       " ('man', 527),\n",
       " ('ship', 519),\n",
       " ('ahab', 517),\n",
       " ('ye', 473),\n",
       " ('sea', 455),\n",
       " ('old', 452)]"
      ]
     },
     "execution_count": 4,
     "metadata": {},
     "output_type": "execute_result"
    }
   ],
   "source": [
    "top_ten"
   ]
  },
  {
   "cell_type": "code",
   "execution_count": null,
   "id": "f02bc838-27d3-4139-ae71-483e9975bea0",
   "metadata": {},
   "outputs": [],
   "source": []
  }
 ],
 "metadata": {
  "kernelspec": {
   "display_name": "Python 3 (ipykernel)",
   "language": "python",
   "name": "python3"
  },
  "language_info": {
   "codemirror_mode": {
    "name": "ipython",
    "version": 3
   },
   "file_extension": ".py",
   "mimetype": "text/x-python",
   "name": "python",
   "nbconvert_exporter": "python",
   "pygments_lexer": "ipython3",
   "version": "3.11.6"
  }
 },
 "nbformat": 4,
 "nbformat_minor": 5
}
