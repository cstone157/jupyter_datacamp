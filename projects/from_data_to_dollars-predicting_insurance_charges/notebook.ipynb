{
 "cells": [
  {
   "cell_type": "markdown",
   "id": "6918e18a-c248-4929-b552-7aee2057c0eb",
   "metadata": {
    "collapsed": false,
    "jupyter": {
     "outputs_hidden": false,
     "source_hidden": false
    }
   },
   "source": [
    "![](image.jpg)\n",
    "\n",
    "\n",
    "Dive into the heart of data science with a project that combines healthcare insights and predictive analytics. As a Data Scientist at a top Health Insurance company, you have the opportunity to predict customer healthcare costs using the power of machine learning. Your insights will help tailor services and guide customers in planning their healthcare expenses more effectively.\n",
    "\n",
    "## Dataset Summary\n",
    "\n",
    "Meet your primary tool: the `insurance.csv` dataset. Packed with information on health insurance customers, this dataset is your key to unlocking patterns in healthcare costs. Here's what you need to know about the data you'll be working with:\n",
    "\n",
    "## insurance.csv\n",
    "| Column    | Data Type | Description                                                      |\n",
    "|-----------|-----------|------------------------------------------------------------------|\n",
    "| `age`       | int       | Age of the primary beneficiary.                                  |\n",
    "| `sex`       | object    | Gender of the insurance contractor (male or female).             |\n",
    "| `bmi`       | float     | Body mass index, a key indicator of body fat based on height and weight. |\n",
    "| `children`  | int       | Number of dependents covered by the insurance plan.              |\n",
    "| `smoker`    | object    | Indicates whether the beneficiary smokes (yes or no).            |\n",
    "| `region`    | object    | The beneficiary's residential area in the US, divided into four regions. |\n",
    "| `charges`   | float     | Individual medical costs billed by health insurance.             |\n",
    "\n",
    "\n",
    "\n",
    "A bit of data cleaning is key to ensure the dataset is ready for modeling. Once your model is built using the `insurance.csv` dataset, the next step is to apply it to the `validation_dataset.csv`. This new dataset, similar to your training data minus the `charges` column, tests your model's accuracy and real-world utility by predicting costs for new customers.\n",
    "\n",
    "## Let's Get Started!\n",
    "\n",
    "This project is your playground for applying data science in a meaningful way, offering insights that have real-world applications. Ready to explore the data and uncover insights that could revolutionize healthcare planning? Let's begin this exciting journey!"
   ]
  },
  {
   "cell_type": "code",
   "execution_count": 26,
   "id": "81a07c66-a3d4-4fdd-9c3c-7b3a19b80d62",
   "metadata": {
    "executionCancelledAt": null,
    "executionTime": 28,
    "lastExecutedAt": 1733627649710,
    "lastExecutedByKernel": "4930cfb3-645d-46a5-bd7f-f6068ff87779",
    "lastScheduledRunId": null,
    "lastSuccessfullyExecutedCode": "# Re-run this cell\n# Import required libraries\nimport pandas as pd\nimport numpy as np\nfrom sklearn.preprocessing import StandardScaler\nfrom sklearn.model_selection import cross_val_score\n\n# Loading the insurance dataset\ninsurance_data_path = 'insurance.csv'\ninsurance = pd.read_csv(insurance_data_path)\ninsurance.head()",
    "outputsMetadata": {
     "0": {
      "height": 249,
      "type": "dataFrame"
     }
    }
   },
   "outputs": [
    {
     "data": {
      "application/com.datacamp.data-table.v2+json": {
       "table": {
        "data": {
         "age": [
          19,
          18,
          28,
          33,
          32
         ],
         "bmi": [
          27.9,
          33.77,
          33,
          22.705,
          28.88
         ],
         "charges": [
          "16884.924",
          "1725.5523",
          "$4449.462",
          "$21984.47061",
          "$3866.8552"
         ],
         "children": [
          0,
          1,
          3,
          0,
          0
         ],
         "index": [
          0,
          1,
          2,
          3,
          4
         ],
         "region": [
          "southwest",
          "Southeast",
          "southeast",
          "northwest",
          "northwest"
         ],
         "sex": [
          "female",
          "male",
          "male",
          "male",
          "male"
         ],
         "smoker": [
          "yes",
          "no",
          "no",
          "no",
          "no"
         ]
        },
        "schema": {
         "fields": [
          {
           "name": "index",
           "type": "integer"
          },
          {
           "name": "age",
           "type": "number"
          },
          {
           "name": "sex",
           "type": "string"
          },
          {
           "name": "bmi",
           "type": "number"
          },
          {
           "name": "children",
           "type": "number"
          },
          {
           "name": "smoker",
           "type": "string"
          },
          {
           "name": "region",
           "type": "string"
          },
          {
           "name": "charges",
           "type": "string"
          }
         ],
         "pandas_version": "1.4.0",
         "primaryKey": [
          "index"
         ]
        }
       },
       "total_rows": 5,
       "truncation_type": null
      },
      "text/html": [
       "<div>\n",
       "<style scoped>\n",
       "    .dataframe tbody tr th:only-of-type {\n",
       "        vertical-align: middle;\n",
       "    }\n",
       "\n",
       "    .dataframe tbody tr th {\n",
       "        vertical-align: top;\n",
       "    }\n",
       "\n",
       "    .dataframe thead th {\n",
       "        text-align: right;\n",
       "    }\n",
       "</style>\n",
       "<table border=\"1\" class=\"dataframe\">\n",
       "  <thead>\n",
       "    <tr style=\"text-align: right;\">\n",
       "      <th></th>\n",
       "      <th>age</th>\n",
       "      <th>sex</th>\n",
       "      <th>bmi</th>\n",
       "      <th>children</th>\n",
       "      <th>smoker</th>\n",
       "      <th>region</th>\n",
       "      <th>charges</th>\n",
       "    </tr>\n",
       "  </thead>\n",
       "  <tbody>\n",
       "    <tr>\n",
       "      <th>0</th>\n",
       "      <td>19.0</td>\n",
       "      <td>female</td>\n",
       "      <td>27.900</td>\n",
       "      <td>0.0</td>\n",
       "      <td>yes</td>\n",
       "      <td>southwest</td>\n",
       "      <td>16884.924</td>\n",
       "    </tr>\n",
       "    <tr>\n",
       "      <th>1</th>\n",
       "      <td>18.0</td>\n",
       "      <td>male</td>\n",
       "      <td>33.770</td>\n",
       "      <td>1.0</td>\n",
       "      <td>no</td>\n",
       "      <td>Southeast</td>\n",
       "      <td>1725.5523</td>\n",
       "    </tr>\n",
       "    <tr>\n",
       "      <th>2</th>\n",
       "      <td>28.0</td>\n",
       "      <td>male</td>\n",
       "      <td>33.000</td>\n",
       "      <td>3.0</td>\n",
       "      <td>no</td>\n",
       "      <td>southeast</td>\n",
       "      <td>$4449.462</td>\n",
       "    </tr>\n",
       "    <tr>\n",
       "      <th>3</th>\n",
       "      <td>33.0</td>\n",
       "      <td>male</td>\n",
       "      <td>22.705</td>\n",
       "      <td>0.0</td>\n",
       "      <td>no</td>\n",
       "      <td>northwest</td>\n",
       "      <td>$21984.47061</td>\n",
       "    </tr>\n",
       "    <tr>\n",
       "      <th>4</th>\n",
       "      <td>32.0</td>\n",
       "      <td>male</td>\n",
       "      <td>28.880</td>\n",
       "      <td>0.0</td>\n",
       "      <td>no</td>\n",
       "      <td>northwest</td>\n",
       "      <td>$3866.8552</td>\n",
       "    </tr>\n",
       "  </tbody>\n",
       "</table>\n",
       "</div>"
      ],
      "text/plain": [
       "    age     sex     bmi  children smoker     region       charges\n",
       "0  19.0  female  27.900       0.0    yes  southwest     16884.924\n",
       "1  18.0    male  33.770       1.0     no  Southeast     1725.5523\n",
       "2  28.0    male  33.000       3.0     no  southeast     $4449.462\n",
       "3  33.0    male  22.705       0.0     no  northwest  $21984.47061\n",
       "4  32.0    male  28.880       0.0     no  northwest    $3866.8552"
      ]
     },
     "execution_count": 26,
     "metadata": {},
     "output_type": "execute_result"
    }
   ],
   "source": [
    "# Re-run this cell\n",
    "# Import required libraries\n",
    "import pandas as pd\n",
    "import numpy as np\n",
    "from sklearn.preprocessing import StandardScaler\n",
    "from sklearn.model_selection import cross_val_score\n",
    "\n",
    "# Loading the insurance dataset\n",
    "insurance_data_path = 'insurance.csv'\n",
    "insurance = pd.read_csv(insurance_data_path)\n",
    "insurance.head()"
   ]
  },
  {
   "cell_type": "code",
   "execution_count": 27,
   "id": "a143c3b2-1ff1-47a0-8fc6-662b8b19dbf1",
   "metadata": {
    "executionCancelledAt": null,
    "executionTime": 46,
    "lastExecutedAt": 1733627649756,
    "lastExecutedByKernel": "4930cfb3-645d-46a5-bd7f-f6068ff87779",
    "lastScheduledRunId": null,
    "lastSuccessfullyExecutedCode": "from sklearn.linear_model import LinearRegression\nfrom sklearn.pipeline import Pipeline\n\ndf = insurance.copy()\ndf['sex'] = df['sex'].replace({'M': 'male', 'man': 'male', 'F': 'female', 'woman': 'female'})\ndf['charges'] = df['charges'].replace({'\\$': ''}, regex=True).astype(float)\ndf = df[df[\"age\"] > 0]\ndf.loc[df[\"children\"] < 0, \"children\"] = 0\ndf[\"region\"] = df[\"region\"].str.lower()\ndf = df.dropna()"
   },
   "outputs": [],
   "source": [
    "from sklearn.linear_model import LinearRegression\n",
    "from sklearn.pipeline import Pipeline\n",
    "\n",
    "df = insurance.copy()\n",
    "df['sex'] = df['sex'].replace({'M': 'male', 'man': 'male', 'F': 'female', 'woman': 'female'})\n",
    "df['charges'] = df['charges'].replace({'\\$': ''}, regex=True).astype(float)\n",
    "df = df[df[\"age\"] > 0]\n",
    "df.loc[df[\"children\"] < 0, \"children\"] = 0\n",
    "df[\"region\"] = df[\"region\"].str.lower()\n",
    "df = df.dropna()"
   ]
  },
  {
   "cell_type": "code",
   "execution_count": 28,
   "id": "739a3f37-f73a-42ba-b15a-ce02dcb1bbdc",
   "metadata": {
    "executionCancelledAt": null,
    "executionTime": 52,
    "lastExecutedAt": 1733627649808,
    "lastExecutedByKernel": "4930cfb3-645d-46a5-bd7f-f6068ff87779",
    "lastScheduledRunId": null,
    "lastSuccessfullyExecutedCode": "X = df.drop('charges', axis=1)\ny = df['charges']\n\ncategorical_features = ['sex', 'smoker', 'region']\nnumerical_features = ['age', 'bmi', 'children']\n\n# Convert categorical variables to dummy variables\nX_categorical = pd.get_dummies(X[categorical_features], drop_first=True)\n\n# Combine numerical features with dummy variables\nX_processed = pd.concat([X[numerical_features], X_categorical], axis=1)\n# Scaling numerical features\nscaler = StandardScaler()\nX_scaled = scaler.fit_transform(X_processed)\n# Linear regression model\nlin_reg = LinearRegression()\n\n# Pipeline\nsteps = [(\"scaler\", scaler), (\"lin_reg\", lin_reg)]\ninsurance_model_pipeline = Pipeline(steps)\n\n# Fitting the model\ninsurance_model_pipeline.fit(X_scaled, y)\n\n# Evaluating the model\nmse_scores = -cross_val_score(insurance_model_pipeline, X_scaled, y, cv=5, scoring='neg_mean_squared_error')\nr2_scores = cross_val_score(insurance_model_pipeline, X_scaled, y, cv=5, scoring='r2')\nmean_mse = np.mean(mse_scores)\nr2_score = np.mean(r2_scores)"
   },
   "outputs": [],
   "source": [
    "X = df.drop('charges', axis=1)\n",
    "y = df['charges']\n",
    "\n",
    "categorical_features = ['sex', 'smoker', 'region']\n",
    "numerical_features = ['age', 'bmi', 'children']\n",
    "\n",
    "# Convert categorical variables to dummy variables\n",
    "X_categorical = pd.get_dummies(X[categorical_features], drop_first=True)\n",
    "\n",
    "# Combine numerical features with dummy variables\n",
    "X_processed = pd.concat([X[numerical_features], X_categorical], axis=1)\n",
    "# Scaling numerical features\n",
    "scaler = StandardScaler()\n",
    "X_scaled = scaler.fit_transform(X_processed)\n",
    "# Linear regression model\n",
    "lin_reg = LinearRegression()\n",
    "\n",
    "# Pipeline\n",
    "steps = [(\"scaler\", scaler), (\"lin_reg\", lin_reg)]\n",
    "insurance_model_pipeline = Pipeline(steps)\n",
    "\n",
    "# Fitting the model\n",
    "insurance_model_pipeline.fit(X_scaled, y)\n",
    "\n",
    "# Evaluating the model\n",
    "mse_scores = -cross_val_score(insurance_model_pipeline, X_scaled, y, cv=5, scoring='neg_mean_squared_error')\n",
    "r2_scores = cross_val_score(insurance_model_pipeline, X_scaled, y, cv=5, scoring='r2')\n",
    "mean_mse = np.mean(mse_scores)\n",
    "r2_score = np.mean(r2_scores)"
   ]
  },
  {
   "cell_type": "code",
   "execution_count": 29,
   "id": "0668ebba-282a-4294-9336-53df918f3ed7",
   "metadata": {
    "executionCancelledAt": null,
    "executionTime": 51,
    "lastExecutedAt": 1733627649860,
    "lastExecutedByKernel": "4930cfb3-645d-46a5-bd7f-f6068ff87779",
    "lastScheduledRunId": null,
    "lastSuccessfullyExecutedCode": "print(\"Mean MSE:\", mean_mse)\nprint(\"Mean R2:\", r2_score)",
    "outputsMetadata": {
     "0": {
      "height": 59,
      "type": "stream"
     }
    }
   },
   "outputs": [
    {
     "name": "stdout",
     "output_type": "stream",
     "text": [
      "Mean MSE: 37431001.52191915\n",
      "Mean R2: 0.7450511466263761\n"
     ]
    }
   ],
   "source": [
    "print(\"Mean MSE:\", mean_mse)\n",
    "print(\"Mean R2:\", r2_score)"
   ]
  },
  {
   "cell_type": "code",
   "execution_count": 30,
   "id": "3f0a0d5e-320c-4c6a-9b48-6c109524d55a",
   "metadata": {
    "executionCancelledAt": null,
    "executionTime": 48,
    "lastExecutedAt": 1733627649909,
    "lastExecutedByKernel": "4930cfb3-645d-46a5-bd7f-f6068ff87779",
    "lastScheduledRunId": null,
    "lastSuccessfullyExecutedCode": "validation_data_path = 'validation_dataset.csv'\nvalidation_data = pd.read_csv(validation_data_path)\n\nvalidation_data_processed = pd.get_dummies(validation_data, columns=['sex', 'smoker', 'region'], drop_first=True)\nvalidation_predictions = insurance_model_pipeline.predict(validation_data_processed)\nvalidation_data['predicted_charges'] = validation_predictions\nvalidation_data.loc[validation_data['predicted_charges'] < 1000, 'predicted_charges'] = 1000\nvalidation_data.head()",
    "outputsMetadata": {
     "0": {
      "height": 249,
      "type": "dataFrame"
     }
    }
   },
   "outputs": [
    {
     "data": {
      "application/com.datacamp.data-table.v2+json": {
       "table": {
        "data": {
         "age": [
          18,
          39,
          27,
          71,
          28
         ],
         "bmi": [
          24.09,
          26.41,
          29.15,
          65.5021352956,
          38.06
         ],
         "children": [
          1,
          0,
          0,
          13,
          0
         ],
         "index": [
          0,
          1,
          2,
          3,
          4
         ],
         "predicted_charges": [
          128624.1956431043,
          220740.5374488108,
          181357.5886058476,
          423490.68727023,
          193247.4319890941
         ],
         "region": [
          "southeast",
          "northeast",
          "southeast",
          "southeast",
          "southeast"
         ],
         "sex": [
          "female",
          "male",
          "male",
          "male",
          "male"
         ],
         "smoker": [
          "no",
          "yes",
          "yes",
          "yes",
          "no"
         ]
        },
        "schema": {
         "fields": [
          {
           "name": "index",
           "type": "integer"
          },
          {
           "name": "age",
           "type": "number"
          },
          {
           "name": "sex",
           "type": "string"
          },
          {
           "name": "bmi",
           "type": "number"
          },
          {
           "name": "children",
           "type": "number"
          },
          {
           "name": "smoker",
           "type": "string"
          },
          {
           "name": "region",
           "type": "string"
          },
          {
           "name": "predicted_charges",
           "type": "number"
          }
         ],
         "pandas_version": "1.4.0",
         "primaryKey": [
          "index"
         ]
        }
       },
       "total_rows": 5,
       "truncation_type": null
      },
      "text/html": [
       "<div>\n",
       "<style scoped>\n",
       "    .dataframe tbody tr th:only-of-type {\n",
       "        vertical-align: middle;\n",
       "    }\n",
       "\n",
       "    .dataframe tbody tr th {\n",
       "        vertical-align: top;\n",
       "    }\n",
       "\n",
       "    .dataframe thead th {\n",
       "        text-align: right;\n",
       "    }\n",
       "</style>\n",
       "<table border=\"1\" class=\"dataframe\">\n",
       "  <thead>\n",
       "    <tr style=\"text-align: right;\">\n",
       "      <th></th>\n",
       "      <th>age</th>\n",
       "      <th>sex</th>\n",
       "      <th>bmi</th>\n",
       "      <th>children</th>\n",
       "      <th>smoker</th>\n",
       "      <th>region</th>\n",
       "      <th>predicted_charges</th>\n",
       "    </tr>\n",
       "  </thead>\n",
       "  <tbody>\n",
       "    <tr>\n",
       "      <th>0</th>\n",
       "      <td>18.0</td>\n",
       "      <td>female</td>\n",
       "      <td>24.090000</td>\n",
       "      <td>1.0</td>\n",
       "      <td>no</td>\n",
       "      <td>southeast</td>\n",
       "      <td>128624.195643</td>\n",
       "    </tr>\n",
       "    <tr>\n",
       "      <th>1</th>\n",
       "      <td>39.0</td>\n",
       "      <td>male</td>\n",
       "      <td>26.410000</td>\n",
       "      <td>0.0</td>\n",
       "      <td>yes</td>\n",
       "      <td>northeast</td>\n",
       "      <td>220740.537449</td>\n",
       "    </tr>\n",
       "    <tr>\n",
       "      <th>2</th>\n",
       "      <td>27.0</td>\n",
       "      <td>male</td>\n",
       "      <td>29.150000</td>\n",
       "      <td>0.0</td>\n",
       "      <td>yes</td>\n",
       "      <td>southeast</td>\n",
       "      <td>181357.588606</td>\n",
       "    </tr>\n",
       "    <tr>\n",
       "      <th>3</th>\n",
       "      <td>71.0</td>\n",
       "      <td>male</td>\n",
       "      <td>65.502135</td>\n",
       "      <td>13.0</td>\n",
       "      <td>yes</td>\n",
       "      <td>southeast</td>\n",
       "      <td>423490.687270</td>\n",
       "    </tr>\n",
       "    <tr>\n",
       "      <th>4</th>\n",
       "      <td>28.0</td>\n",
       "      <td>male</td>\n",
       "      <td>38.060000</td>\n",
       "      <td>0.0</td>\n",
       "      <td>no</td>\n",
       "      <td>southeast</td>\n",
       "      <td>193247.431989</td>\n",
       "    </tr>\n",
       "  </tbody>\n",
       "</table>\n",
       "</div>"
      ],
      "text/plain": [
       "    age     sex        bmi  children smoker     region  predicted_charges\n",
       "0  18.0  female  24.090000       1.0     no  southeast      128624.195643\n",
       "1  39.0    male  26.410000       0.0    yes  northeast      220740.537449\n",
       "2  27.0    male  29.150000       0.0    yes  southeast      181357.588606\n",
       "3  71.0    male  65.502135      13.0    yes  southeast      423490.687270\n",
       "4  28.0    male  38.060000       0.0     no  southeast      193247.431989"
      ]
     },
     "execution_count": 30,
     "metadata": {},
     "output_type": "execute_result"
    }
   ],
   "source": [
    "validation_data_path = 'validation_dataset.csv'\n",
    "validation_data = pd.read_csv(validation_data_path)\n",
    "\n",
    "validation_data_processed = pd.get_dummies(validation_data, columns=['sex', 'smoker', 'region'], drop_first=True)\n",
    "validation_predictions = insurance_model_pipeline.predict(validation_data_processed)\n",
    "validation_data['predicted_charges'] = validation_predictions\n",
    "validation_data.loc[validation_data['predicted_charges'] < 1000, 'predicted_charges'] = 1000\n",
    "validation_data.head()"
   ]
  }
 ],
 "metadata": {
  "colab": {
   "name": "Welcome to DataCamp Workspaces.ipynb",
   "provenance": []
  },
  "kernelspec": {
   "display_name": "Python 3 (ipykernel)",
   "language": "python",
   "name": "python3"
  },
  "language_info": {
   "codemirror_mode": {
    "name": "ipython",
    "version": 3
   },
   "file_extension": ".py",
   "mimetype": "text/x-python",
   "name": "python",
   "nbconvert_exporter": "python",
   "pygments_lexer": "ipython3",
   "version": "3.11.6"
  }
 },
 "nbformat": 4,
 "nbformat_minor": 5
}
